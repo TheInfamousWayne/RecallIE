{
 "cells": [
  {
   "cell_type": "code",
   "execution_count": 3,
   "metadata": {
    "collapsed": true
   },
   "outputs": [],
   "source": [
    "from rosette.api import API, DocumentParameters, RosetteException\n",
    "import pandas as pd\n",
    "import wikipedia\n",
    "import requests\n",
    "from utils import *"
   ]
  },
  {
   "cell_type": "code",
   "execution_count": 4,
   "metadata": {},
   "outputs": [
    {
     "ename": "NameError",
     "evalue": "name 'utils' is not defined",
     "output_type": "error",
     "traceback": [
      "\u001b[1;31m---------------------------------------------------------------------------\u001b[0m",
      "\u001b[1;31mNameError\u001b[0m                                 Traceback (most recent call last)",
      "\u001b[1;32m<ipython-input-4-4e3b111980d9>\u001b[0m in \u001b[0;36m<module>\u001b[1;34m\u001b[0m\n\u001b[1;32m----> 1\u001b[1;33m \u001b[0mutils\u001b[0m\u001b[1;33m.\u001b[0m\u001b[0mQUERY_DICT\u001b[0m\u001b[1;33m\u001b[0m\u001b[0m\n\u001b[0m",
      "\u001b[1;31mNameError\u001b[0m: name 'utils' is not defined"
     ]
    }
   ],
   "source": []
  },
  {
   "cell_type": "code",
   "execution_count": 68,
   "metadata": {
    "collapsed": true
   },
   "outputs": [],
   "source": [
    "def get_id(message):\n",
    "    API_ENDPOINT = \"https://www.wikidata.org/w/api.php\"\n",
    "    query = message\n",
    "    params = {\n",
    "        'action': 'wbsearchentities',\n",
    "        'format': 'json',\n",
    "        'language': 'en',\n",
    "        'search': query\n",
    "    }\n",
    "    r = requests.get(API_ENDPOINT, params = params)\n",
    "    try:\n",
    "        return (r.json()['search'][0]['id'])\n",
    "    except Exception:\n",
    "        return -1"
   ]
  },
  {
   "cell_type": "code",
   "execution_count": 88,
   "metadata": {
    "collapsed": true
   },
   "outputs": [],
   "source": [
    "def Analyse(message, alt_url='https://api.rosette.com/rest/v1/'):\n",
    "    \"\"\" Run the example \"\"\"\n",
    "    # Create an API instance\n",
    "    api = API(user_key=\"89350904c7392a44f0f9019563be727a\", service_url=alt_url)\n",
    "\n",
    "    # Set selected API options.\n",
    "    # For more information on the functionality of these\n",
    "    # and other available options, see Rosette Features & Functions\n",
    "    # https://developer.rosette.com/features-and-functions#morphological-analysis-introduction\n",
    "\n",
    "    # api.set_option('modelType','perceptron') #Valid for Chinese and Japanese only\n",
    "    params = DocumentParameters()\n",
    "    relationships_text_data = wikipedia.page(message).content[:20000]\n",
    "    params[\"content\"] = relationships_text_data\n",
    "    rel = []\n",
    "    gt = []\n",
    "    message_id = get_id(message)\n",
    "    try:\n",
    "        RESULT = api.relationships(params)\n",
    "        #print(RESULT)\n",
    "        for r in RESULT['relationships']:\n",
    "#             gt += add_ground_truth(r['predicate'], r['arg1'], r['arg2'])\n",
    "            if get_id(r['arg2']) == message_id:\n",
    "                rel.append({'Relationship':r['predicate']+'^-1', 'Subject':r['arg2'], 'Object2':r['arg1']})\n",
    "            rel.append({'Relationship':r['predicate'],'Subject':r['arg1'],'Object2':r['arg2']})\n",
    "        return rel, message_id\n",
    "    except RosetteException as exception:\n",
    "        print(exception)"
   ]
  },
  {
   "cell_type": "code",
   "execution_count": null,
   "metadata": {
    "collapsed": true
   },
   "outputs": [],
   "source": []
  },
  {
   "cell_type": "raw",
   "metadata": {
    "collapsed": true
   },
   "source": [
    "sample_message = \"FLIR Systems is headquartered in Oregon and produces thermal imaging, night vision, and infrared cameras and sensor systems.  According to the SEC’s order instituting a settled administrative proceeding, FLIR entered into a multi-million dollar contract to provide thermal binoculars to the Saudi government in November 2008.  Timms and Ramahi were the primary sales employees responsible for the contract, and also were involved in negotiations to sell FLIR’s security cameras to the same government officials.  At the time, Timms was the head of FLIR’s Middle East office in Dubai. After that, Timms joined Google.\"\n",
    "result = Analyse(sample_message)"
   ]
  },
  {
   "cell_type": "code",
   "execution_count": 89,
   "metadata": {
    "collapsed": true
   },
   "outputs": [],
   "source": [
    "sample_message = \"Steve Jobs\" #\"Andrew Ng\"\n",
    "result, message_id = Analyse(sample_message)"
   ]
  },
  {
   "cell_type": "code",
   "execution_count": 90,
   "metadata": {
    "collapsed": true
   },
   "outputs": [],
   "source": [
    "df = pd.DataFrame(result)\n",
    "# print (df)"
   ]
  },
  {
   "cell_type": "code",
   "execution_count": 223,
   "metadata": {
    "collapsed": true
   },
   "outputs": [],
   "source": [
    "main_df = df[df['Subject'].apply(lambda row: get_id(row)) == message_id]\n",
    "other_df = df[~df.isin(main_df).all(1)]"
   ]
  },
  {
   "cell_type": "code",
   "execution_count": 20,
   "metadata": {
    "collapsed": true
   },
   "outputs": [],
   "source": [
    "####################### NEW ####################\n",
    "e1Grp = df.sort_values('Object2', ascending=True).drop_duplicates().groupby(['Subject','Relationship']).agg(lambda x: list(x)).reset_index()\n",
    "rows = []\n",
    "_ = e1Grp.apply(lambda row: [rows.append([row['Subject'],row['Relationship'], e2]) for e2 in row.Object2], axis=1)\n",
    "e1Grp = pd.DataFrame(rows, columns=e1Grp.columns).set_index(['Subject','Relationship'])\n",
    "\n",
    "print(e1Grp)"
   ]
  },
  {
   "cell_type": "code",
   "execution_count": 228,
   "metadata": {},
   "outputs": [
    {
     "data": {
      "text/html": [
       "<div>\n",
       "<style scoped>\n",
       "    .dataframe tbody tr th:only-of-type {\n",
       "        vertical-align: middle;\n",
       "    }\n",
       "\n",
       "    .dataframe tbody tr th {\n",
       "        vertical-align: top;\n",
       "    }\n",
       "\n",
       "    .dataframe thead th {\n",
       "        text-align: right;\n",
       "    }\n",
       "</style>\n",
       "<table border=\"1\" class=\"dataframe\">\n",
       "  <thead>\n",
       "    <tr style=\"text-align: right;\">\n",
       "      <th></th>\n",
       "      <th></th>\n",
       "      <th>Object2</th>\n",
       "      <th>Count</th>\n",
       "    </tr>\n",
       "    <tr>\n",
       "      <th>Subject</th>\n",
       "      <th>Relationship</th>\n",
       "      <th></th>\n",
       "      <th></th>\n",
       "    </tr>\n",
       "  </thead>\n",
       "  <tbody>\n",
       "    <tr>\n",
       "      <th rowspan=\"8\" valign=\"top\">Steve Jobs</th>\n",
       "      <th>Educated at</th>\n",
       "      <td>[Al, Apple Computer, Reed College]</td>\n",
       "      <td>3</td>\n",
       "    </tr>\n",
       "    <tr>\n",
       "      <th>Organization Founded By^-1</th>\n",
       "      <td>[Apple Computer]</td>\n",
       "      <td>1</td>\n",
       "    </tr>\n",
       "    <tr>\n",
       "      <th>Person Current and Past Location of Residence</th>\n",
       "      <td>[India, San Francisco Bay Area, United States]</td>\n",
       "      <td>3</td>\n",
       "    </tr>\n",
       "    <tr>\n",
       "      <th>Person Employee or Member of</th>\n",
       "      <td>[Apple Computer, Atari, NeXT]</td>\n",
       "      <td>3</td>\n",
       "    </tr>\n",
       "    <tr>\n",
       "      <th>Person Parents</th>\n",
       "      <td>[Clara Jobs]</td>\n",
       "      <td>1</td>\n",
       "    </tr>\n",
       "    <tr>\n",
       "      <th>Person Place of Birth</th>\n",
       "      <td>[San Francisco, California]</td>\n",
       "      <td>1</td>\n",
       "    </tr>\n",
       "    <tr>\n",
       "      <th>Person Siblings</th>\n",
       "      <td>[Patricia, Paul Reinhold Jobs]</td>\n",
       "      <td>2</td>\n",
       "    </tr>\n",
       "    <tr>\n",
       "      <th>Person Spouse</th>\n",
       "      <td>[Laurene]</td>\n",
       "      <td>1</td>\n",
       "    </tr>\n",
       "  </tbody>\n",
       "</table>\n",
       "</div>"
      ],
      "text/plain": [
       "                                                                                                 Object2  \\\n",
       "Subject    Relationship                                                                                    \n",
       "Steve Jobs Educated at                                                [Al, Apple Computer, Reed College]   \n",
       "           Organization Founded By^-1                                                   [Apple Computer]   \n",
       "           Person Current and Past Location of Residence  [India, San Francisco Bay Area, United States]   \n",
       "           Person Employee or Member of                                    [Apple Computer, Atari, NeXT]   \n",
       "           Person Parents                                                                   [Clara Jobs]   \n",
       "           Person Place of Birth                                             [San Francisco, California]   \n",
       "           Person Siblings                                                [Patricia, Paul Reinhold Jobs]   \n",
       "           Person Spouse                                                                       [Laurene]   \n",
       "\n",
       "                                                          Count  \n",
       "Subject    Relationship                                          \n",
       "Steve Jobs Educated at                                        3  \n",
       "           Organization Founded By^-1                         1  \n",
       "           Person Current and Past Location of Residence      3  \n",
       "           Person Employee or Member of                       3  \n",
       "           Person Parents                                     1  \n",
       "           Person Place of Birth                              1  \n",
       "           Person Siblings                                    2  \n",
       "           Person Spouse                                      1  "
      ]
     },
     "execution_count": 228,
     "metadata": {},
     "output_type": "execute_result"
    }
   ],
   "source": [
    "main_df = main_df.sort_values('Object2', ascending=True).drop_duplicates().groupby(['Subject','Relationship']).agg(lambda x: list(x))\n",
    "main_df['Count'] = main_df['Object2'].apply(lambda x: len(x))\n",
    "# print(main_df)\n",
    "main_df"
   ]
  },
  {
   "cell_type": "code",
   "execution_count": 229,
   "metadata": {},
   "outputs": [
    {
     "data": {
      "text/html": [
       "<div>\n",
       "<style scoped>\n",
       "    .dataframe tbody tr th:only-of-type {\n",
       "        vertical-align: middle;\n",
       "    }\n",
       "\n",
       "    .dataframe tbody tr th {\n",
       "        vertical-align: top;\n",
       "    }\n",
       "\n",
       "    .dataframe thead th {\n",
       "        text-align: right;\n",
       "    }\n",
       "</style>\n",
       "<table border=\"1\" class=\"dataframe\">\n",
       "  <thead>\n",
       "    <tr style=\"text-align: right;\">\n",
       "      <th></th>\n",
       "      <th></th>\n",
       "      <th>Object2</th>\n",
       "      <th>Count</th>\n",
       "    </tr>\n",
       "    <tr>\n",
       "      <th>Subject</th>\n",
       "      <th>Relationship</th>\n",
       "      <th></th>\n",
       "      <th></th>\n",
       "    </tr>\n",
       "  </thead>\n",
       "  <tbody>\n",
       "    <tr>\n",
       "      <th>Abdulfattah Jandali</th>\n",
       "      <th>Person Current and Past Location of Residence</th>\n",
       "      <td>[Homs]</td>\n",
       "      <td>1</td>\n",
       "    </tr>\n",
       "    <tr>\n",
       "      <th>Apple Computer</th>\n",
       "      <th>Organization Founded By</th>\n",
       "      <td>[Steve Jobs, Steve Wozniak]</td>\n",
       "      <td>2</td>\n",
       "    </tr>\n",
       "    <tr>\n",
       "      <th>Atari</th>\n",
       "      <th>Organization Founded By</th>\n",
       "      <td>[Nolan Bushnell]</td>\n",
       "      <td>1</td>\n",
       "    </tr>\n",
       "    <tr>\n",
       "      <th rowspan=\"2\" valign=\"top\">Chrisann Brennan</th>\n",
       "      <th>Educated at</th>\n",
       "      <td>[Al, Homestead, Reed College]</td>\n",
       "      <td>3</td>\n",
       "    </tr>\n",
       "    <tr>\n",
       "      <th>Person Current and Past Location of Residence</th>\n",
       "      <td>[India]</td>\n",
       "      <td>1</td>\n",
       "    </tr>\n",
       "    <tr>\n",
       "      <th>Chrisann Brennan.In</th>\n",
       "      <th>Educated at</th>\n",
       "      <td>[Homestead, Stanford University]</td>\n",
       "      <td>2</td>\n",
       "    </tr>\n",
       "    <tr>\n",
       "      <th rowspan=\"2\" valign=\"top\">Clara Hagopian</th>\n",
       "      <th>Citizen of</th>\n",
       "      <td>[Armenian]</td>\n",
       "      <td>1</td>\n",
       "    </tr>\n",
       "    <tr>\n",
       "      <th>Person Current and Past Location of Residence</th>\n",
       "      <td>[San Francisco, California, Sunset District]</td>\n",
       "      <td>2</td>\n",
       "    </tr>\n",
       "    <tr>\n",
       "      <th>Daniel Kottke</th>\n",
       "      <th>Person Current and Past Location of Residence</th>\n",
       "      <td>[United States]</td>\n",
       "      <td>1</td>\n",
       "    </tr>\n",
       "    <tr>\n",
       "      <th rowspan=\"2\" valign=\"top\">Ernest Hemingway</th>\n",
       "      <th>Citizen of</th>\n",
       "      <td>[Yosemite]</td>\n",
       "      <td>1</td>\n",
       "    </tr>\n",
       "    <tr>\n",
       "      <th>Educated at</th>\n",
       "      <td>[Homestead, Stanford University]</td>\n",
       "      <td>2</td>\n",
       "    </tr>\n",
       "    <tr>\n",
       "      <th>Joanne Carole Schieble</th>\n",
       "      <th>Person Current and Past Location of Residence</th>\n",
       "      <td>[Wisconsin]</td>\n",
       "      <td>1</td>\n",
       "    </tr>\n",
       "    <tr>\n",
       "      <th rowspan=\"2\" valign=\"top\">John Sculley</th>\n",
       "      <th>Educated at</th>\n",
       "      <td>[American University of Beirut]</td>\n",
       "      <td>1</td>\n",
       "    </tr>\n",
       "    <tr>\n",
       "      <th>Person Employee or Member of</th>\n",
       "      <td>[American University of Beirut]</td>\n",
       "      <td>1</td>\n",
       "    </tr>\n",
       "    <tr>\n",
       "      <th>Patricia</th>\n",
       "      <th>Person Current and Past Location of Residence</th>\n",
       "      <td>[Mountain View, California]</td>\n",
       "      <td>1</td>\n",
       "    </tr>\n",
       "    <tr>\n",
       "      <th rowspan=\"2\" valign=\"top\">Paul Reinhold Jobs</th>\n",
       "      <th>Person Current and Past Location of Residence</th>\n",
       "      <td>[Mountain View, California, San Francisco, Cal...</td>\n",
       "      <td>3</td>\n",
       "    </tr>\n",
       "    <tr>\n",
       "      <th>Person Employee or Member of</th>\n",
       "      <td>[United States Coast Guard]</td>\n",
       "      <td>1</td>\n",
       "    </tr>\n",
       "    <tr>\n",
       "      <th>Pixar</th>\n",
       "      <th>Organization Founded By</th>\n",
       "      <td>[NeXT]</td>\n",
       "      <td>1</td>\n",
       "    </tr>\n",
       "    <tr>\n",
       "      <th>Robert Friedland.Brennan</th>\n",
       "      <th>Educated at</th>\n",
       "      <td>[Homestead]</td>\n",
       "      <td>1</td>\n",
       "    </tr>\n",
       "    <tr>\n",
       "      <th rowspan=\"2\" valign=\"top\">Steve Wozniak</th>\n",
       "      <th>Citizen of</th>\n",
       "      <td>[Fernandez]</td>\n",
       "      <td>1</td>\n",
       "    </tr>\n",
       "    <tr>\n",
       "      <th>Person Current and Past Location of Residence</th>\n",
       "      <td>[Fernandez]</td>\n",
       "      <td>1</td>\n",
       "    </tr>\n",
       "    <tr>\n",
       "      <th>Walter Isaacson</th>\n",
       "      <th>Person Parents</th>\n",
       "      <td>[Paul Reinhold Jobs]</td>\n",
       "      <td>1</td>\n",
       "    </tr>\n",
       "  </tbody>\n",
       "</table>\n",
       "</div>"
      ],
      "text/plain": [
       "                                                                                                                  Object2  \\\n",
       "Subject                  Relationship                                                                                       \n",
       "Abdulfattah Jandali      Person Current and Past Location of Residence                                             [Homs]   \n",
       "Apple Computer           Organization Founded By                                              [Steve Jobs, Steve Wozniak]   \n",
       "Atari                    Organization Founded By                                                         [Nolan Bushnell]   \n",
       "Chrisann Brennan         Educated at                                                        [Al, Homestead, Reed College]   \n",
       "                         Person Current and Past Location of Residence                                            [India]   \n",
       "Chrisann Brennan.In      Educated at                                                     [Homestead, Stanford University]   \n",
       "Clara Hagopian           Citizen of                                                                            [Armenian]   \n",
       "                         Person Current and Past Location of Residence       [San Francisco, California, Sunset District]   \n",
       "Daniel Kottke            Person Current and Past Location of Residence                                    [United States]   \n",
       "Ernest Hemingway         Citizen of                                                                            [Yosemite]   \n",
       "                         Educated at                                                     [Homestead, Stanford University]   \n",
       "Joanne Carole Schieble   Person Current and Past Location of Residence                                        [Wisconsin]   \n",
       "John Sculley             Educated at                                                      [American University of Beirut]   \n",
       "                         Person Employee or Member of                                     [American University of Beirut]   \n",
       "Patricia                 Person Current and Past Location of Residence                        [Mountain View, California]   \n",
       "Paul Reinhold Jobs       Person Current and Past Location of Residence  [Mountain View, California, San Francisco, Cal...   \n",
       "                         Person Employee or Member of                                         [United States Coast Guard]   \n",
       "Pixar                    Organization Founded By                                                                   [NeXT]   \n",
       "Robert Friedland.Brennan Educated at                                                                          [Homestead]   \n",
       "Steve Wozniak            Citizen of                                                                           [Fernandez]   \n",
       "                         Person Current and Past Location of Residence                                        [Fernandez]   \n",
       "Walter Isaacson          Person Parents                                                              [Paul Reinhold Jobs]   \n",
       "\n",
       "                                                                        Count  \n",
       "Subject                  Relationship                                          \n",
       "Abdulfattah Jandali      Person Current and Past Location of Residence      1  \n",
       "Apple Computer           Organization Founded By                            2  \n",
       "Atari                    Organization Founded By                            1  \n",
       "Chrisann Brennan         Educated at                                        3  \n",
       "                         Person Current and Past Location of Residence      1  \n",
       "Chrisann Brennan.In      Educated at                                        2  \n",
       "Clara Hagopian           Citizen of                                         1  \n",
       "                         Person Current and Past Location of Residence      2  \n",
       "Daniel Kottke            Person Current and Past Location of Residence      1  \n",
       "Ernest Hemingway         Citizen of                                         1  \n",
       "                         Educated at                                        2  \n",
       "Joanne Carole Schieble   Person Current and Past Location of Residence      1  \n",
       "John Sculley             Educated at                                        1  \n",
       "                         Person Employee or Member of                       1  \n",
       "Patricia                 Person Current and Past Location of Residence      1  \n",
       "Paul Reinhold Jobs       Person Current and Past Location of Residence      3  \n",
       "                         Person Employee or Member of                       1  \n",
       "Pixar                    Organization Founded By                            1  \n",
       "Robert Friedland.Brennan Educated at                                        1  \n",
       "Steve Wozniak            Citizen of                                         1  \n",
       "                         Person Current and Past Location of Residence      1  \n",
       "Walter Isaacson          Person Parents                                     1  "
      ]
     },
     "execution_count": 229,
     "metadata": {},
     "output_type": "execute_result"
    }
   ],
   "source": [
    "other_df = other_df.sort_values('Object2', ascending=True).drop_duplicates().groupby(['Subject','Relationship']).agg(lambda x: list(x))\n",
    "other_df['Count'] = other_df['Object2'].apply(lambda x: len(x))\n",
    "# print(other_df)\n",
    "other_df"
   ]
  },
  {
   "cell_type": "code",
   "execution_count": null,
   "metadata": {
    "collapsed": true
   },
   "outputs": [],
   "source": []
  },
  {
   "cell_type": "code",
   "execution_count": 95,
   "metadata": {},
   "outputs": [
    {
     "data": {
      "text/plain": [
       "MultiIndex(levels=[['Steve Jobs'], ['Educated at', 'Organization Founded By^-1', 'Person Current and Past Location of Residence', 'Person Employee or Member of', 'Person Parents', 'Person Place of Birth', 'Person Siblings', 'Person Spouse']],\n",
       "           labels=[[0, 0, 0, 0, 0, 0, 0, 0], [0, 1, 2, 3, 4, 5, 6, 7]],\n",
       "           names=['Subject', 'Relationship'])"
      ]
     },
     "execution_count": 95,
     "metadata": {},
     "output_type": "execute_result"
    }
   ],
   "source": []
  },
  {
   "cell_type": "code",
   "execution_count": null,
   "metadata": {
    "collapsed": true
   },
   "outputs": [],
   "source": []
  },
  {
   "cell_type": "code",
   "execution_count": null,
   "metadata": {
    "collapsed": true
   },
   "outputs": [],
   "source": []
  },
  {
   "cell_type": "code",
   "execution_count": null,
   "metadata": {
    "collapsed": true
   },
   "outputs": [],
   "source": []
  },
  {
   "cell_type": "code",
   "execution_count": null,
   "metadata": {
    "collapsed": true
   },
   "outputs": [],
   "source": []
  },
  {
   "cell_type": "code",
   "execution_count": null,
   "metadata": {
    "collapsed": true
   },
   "outputs": [],
   "source": []
  },
  {
   "cell_type": "code",
   "execution_count": 227,
   "metadata": {},
   "outputs": [
    {
     "data": {
      "text/html": [
       "<div>\n",
       "<style scoped>\n",
       "    .dataframe tbody tr th:only-of-type {\n",
       "        vertical-align: middle;\n",
       "    }\n",
       "\n",
       "    .dataframe tbody tr th {\n",
       "        vertical-align: top;\n",
       "    }\n",
       "\n",
       "    .dataframe thead th {\n",
       "        text-align: right;\n",
       "    }\n",
       "</style>\n",
       "<table border=\"1\" class=\"dataframe\">\n",
       "  <thead>\n",
       "    <tr style=\"text-align: right;\">\n",
       "      <th></th>\n",
       "      <th>Object2</th>\n",
       "      <th>Relationship</th>\n",
       "      <th>Subject</th>\n",
       "    </tr>\n",
       "  </thead>\n",
       "  <tbody>\n",
       "    <tr>\n",
       "      <th>2</th>\n",
       "      <td>San Francisco, California</td>\n",
       "      <td>Person Place of Birth</td>\n",
       "      <td>Steve Jobs</td>\n",
       "    </tr>\n",
       "    <tr>\n",
       "      <th>4</th>\n",
       "      <td>Apple Computer</td>\n",
       "      <td>Organization Founded By^-1</td>\n",
       "      <td>Steve Jobs</td>\n",
       "    </tr>\n",
       "    <tr>\n",
       "      <th>6</th>\n",
       "      <td>Apple Computer</td>\n",
       "      <td>Educated at</td>\n",
       "      <td>Steve Jobs</td>\n",
       "    </tr>\n",
       "    <tr>\n",
       "      <th>7</th>\n",
       "      <td>NeXT</td>\n",
       "      <td>Person Employee or Member of</td>\n",
       "      <td>Steve Jobs</td>\n",
       "    </tr>\n",
       "    <tr>\n",
       "      <th>8</th>\n",
       "      <td>Apple Computer</td>\n",
       "      <td>Person Employee or Member of</td>\n",
       "      <td>Steve Jobs</td>\n",
       "    </tr>\n",
       "    <tr>\n",
       "      <th>20</th>\n",
       "      <td>Clara Jobs</td>\n",
       "      <td>Person Parents</td>\n",
       "      <td>Steve Jobs</td>\n",
       "    </tr>\n",
       "    <tr>\n",
       "      <th>21</th>\n",
       "      <td>Laurene</td>\n",
       "      <td>Person Spouse</td>\n",
       "      <td>Steve Jobs</td>\n",
       "    </tr>\n",
       "    <tr>\n",
       "      <th>23</th>\n",
       "      <td>Paul Reinhold Jobs</td>\n",
       "      <td>Person Siblings</td>\n",
       "      <td>Steve Jobs</td>\n",
       "    </tr>\n",
       "    <tr>\n",
       "      <th>25</th>\n",
       "      <td>Patricia</td>\n",
       "      <td>Person Siblings</td>\n",
       "      <td>Steve Jobs</td>\n",
       "    </tr>\n",
       "    <tr>\n",
       "      <th>34</th>\n",
       "      <td>Reed College</td>\n",
       "      <td>Educated at</td>\n",
       "      <td>Steve Jobs</td>\n",
       "    </tr>\n",
       "    <tr>\n",
       "      <th>36</th>\n",
       "      <td>Al</td>\n",
       "      <td>Educated at</td>\n",
       "      <td>Steve Jobs</td>\n",
       "    </tr>\n",
       "    <tr>\n",
       "      <th>38</th>\n",
       "      <td>Reed College</td>\n",
       "      <td>Educated at</td>\n",
       "      <td>Steve Jobs</td>\n",
       "    </tr>\n",
       "    <tr>\n",
       "      <th>41</th>\n",
       "      <td>San Francisco Bay Area</td>\n",
       "      <td>Person Current and Past Location of Residence</td>\n",
       "      <td>Steve Jobs</td>\n",
       "    </tr>\n",
       "    <tr>\n",
       "      <th>43</th>\n",
       "      <td>Atari</td>\n",
       "      <td>Person Employee or Member of</td>\n",
       "      <td>Steve Jobs</td>\n",
       "    </tr>\n",
       "    <tr>\n",
       "      <th>44</th>\n",
       "      <td>India</td>\n",
       "      <td>Person Current and Past Location of Residence</td>\n",
       "      <td>Steve Jobs</td>\n",
       "    </tr>\n",
       "    <tr>\n",
       "      <th>46</th>\n",
       "      <td>India</td>\n",
       "      <td>Person Current and Past Location of Residence</td>\n",
       "      <td>Steve Jobs</td>\n",
       "    </tr>\n",
       "    <tr>\n",
       "      <th>48</th>\n",
       "      <td>United States</td>\n",
       "      <td>Person Current and Past Location of Residence</td>\n",
       "      <td>Steve Jobs</td>\n",
       "    </tr>\n",
       "  </tbody>\n",
       "</table>\n",
       "</div>"
      ],
      "text/plain": [
       "                      Object2                                   Relationship  \\\n",
       "2   San Francisco, California                          Person Place of Birth   \n",
       "4              Apple Computer                     Organization Founded By^-1   \n",
       "6              Apple Computer                                    Educated at   \n",
       "7                        NeXT                   Person Employee or Member of   \n",
       "8              Apple Computer                   Person Employee or Member of   \n",
       "20                 Clara Jobs                                 Person Parents   \n",
       "21                    Laurene                                  Person Spouse   \n",
       "23         Paul Reinhold Jobs                                Person Siblings   \n",
       "25                   Patricia                                Person Siblings   \n",
       "34               Reed College                                    Educated at   \n",
       "36                         Al                                    Educated at   \n",
       "38               Reed College                                    Educated at   \n",
       "41     San Francisco Bay Area  Person Current and Past Location of Residence   \n",
       "43                      Atari                   Person Employee or Member of   \n",
       "44                      India  Person Current and Past Location of Residence   \n",
       "46                      India  Person Current and Past Location of Residence   \n",
       "48              United States  Person Current and Past Location of Residence   \n",
       "\n",
       "       Subject  \n",
       "2   Steve Jobs  \n",
       "4   Steve Jobs  \n",
       "6   Steve Jobs  \n",
       "7   Steve Jobs  \n",
       "8   Steve Jobs  \n",
       "20  Steve Jobs  \n",
       "21  Steve Jobs  \n",
       "23  Steve Jobs  \n",
       "25  Steve Jobs  \n",
       "34  Steve Jobs  \n",
       "36  Steve Jobs  \n",
       "38  Steve Jobs  \n",
       "41  Steve Jobs  \n",
       "43  Steve Jobs  \n",
       "44  Steve Jobs  \n",
       "46  Steve Jobs  \n",
       "48  Steve Jobs  "
      ]
     },
     "execution_count": 227,
     "metadata": {},
     "output_type": "execute_result"
    }
   ],
   "source": [
    "main_df"
   ]
  },
  {
   "cell_type": "code",
   "execution_count": null,
   "metadata": {
    "collapsed": true
   },
   "outputs": [],
   "source": []
  },
  {
   "cell_type": "code",
   "execution_count": null,
   "metadata": {
    "collapsed": true
   },
   "outputs": [],
   "source": []
  },
  {
   "cell_type": "code",
   "execution_count": null,
   "metadata": {
    "collapsed": true
   },
   "outputs": [],
   "source": []
  },
  {
   "cell_type": "code",
   "execution_count": null,
   "metadata": {
    "collapsed": true
   },
   "outputs": [],
   "source": []
  },
  {
   "cell_type": "markdown",
   "metadata": {
    "collapsed": true
   },
   "source": [
    "# Pseudo Ground Truth from Wikidata"
   ]
  },
  {
   "cell_type": "code",
   "execution_count": 241,
   "metadata": {
    "collapsed": true
   },
   "outputs": [],
   "source": [
    "from SPARQLWrapper import SPARQLWrapper, JSON\n",
    "\n",
    "endpoint_url = \"https://query.wikidata.org/sparql\"\n",
    "\n",
    "# query = \"\"\"SELECT ?item ?itemLabel WHERE {\n",
    "#   ?item wdt:P112 wd:Q19837.\n",
    "#   SERVICE wikibase:label { bd:serviceParam wikibase:language \"[AUTO_LANGUAGE],en\". }\n",
    "# }\"\"\"\n",
    "\n",
    "\n",
    "def get_results(query, value, endpoint_url=\"https://query.wikidata.org/sparql\"):\n",
    "    sparql = SPARQLWrapper(endpoint_url)\n",
    "    sparql.setQuery(query%value)\n",
    "    sparql.setReturnFormat(JSON)\n",
    "    return sparql.query().convert()\n",
    "\n",
    "\n",
    "def ground_truth(relation, subject):\n",
    "    results = []\n",
    "    gt = []\n",
    "    try:\n",
    "        results = [get_results(query, get_id(subject)) for query in query_dict[relation]]\n",
    "        for result in results:\n",
    "            for r in result[\"results\"][\"bindings\"]:\n",
    "                gt.append(r['itemLabel']['value'])\n",
    "    except:\n",
    "        print (relation, subject)\n",
    "#         gt = ['Unknown']\n",
    "    return gt"
   ]
  },
  {
   "cell_type": "code",
   "execution_count": 242,
   "metadata": {
    "collapsed": true
   },
   "outputs": [],
   "source": [
    "query_dict = {'Organization Founded By^-1':[\"\"\"SELECT ?item ?itemLabel WHERE {\n",
    "                                          ?item wdt:P112 wd:%s.\n",
    "                                          SERVICE wikibase:label { bd:serviceParam wikibase:language \"[AUTO_LANGUAGE],en\". }\n",
    "                                        }\"\"\"\n",
    "                                           ],\n",
    "              'Organization Founded By':[\"\"\"SELECT ?item ?itemLabel WHERE {\n",
    "                                          wd:%s wdt:P112 ?item.\n",
    "                                          SERVICE wikibase:label { bd:serviceParam wikibase:language \"[AUTO_LANGUAGE],en\". }\n",
    "                                        }\"\"\"\n",
    "                                        ],\n",
    "              'Organization Headquarters':[\"\"\"SELECT ?item ?itemLabel WHERE {\n",
    "                                          wd:%s wdt:P159 ?item.\n",
    "                                          SERVICE wikibase:label { bd:serviceParam wikibase:language \"[AUTO_LANGUAGE],en\". }\n",
    "                                        }\"\"\"\n",
    "                                          ],\n",
    "              'Organization Subsidiary Of^-1':[\"\"\"SELECT ?item ?itemLabel WHERE {\n",
    "                                          wd:%s wdt:P355 ?item.\n",
    "                                          SERVICE wikibase:label { bd:serviceParam wikibase:language \"[AUTO_LANGUAGE],en\". }\n",
    "                                        }\"\"\"\n",
    "                                              ],\n",
    "              'Organization Subsidiary Of':[\"\"\"SELECT ?item ?itemLabel WHERE {\n",
    "                                          ?item wdt:P355 wd:%s.\n",
    "                                          SERVICE wikibase:label { bd:serviceParam wikibase:language \"[AUTO_LANGUAGE],en\". }\n",
    "                                        }\"\"\"\n",
    "                                           ],\n",
    "              'Organization top employees':[\"\"\"SELECT ?item ?itemLabel WHERE {\n",
    "                                          wd:%s wdt:P169 ?item.\n",
    "                                          SERVICE wikibase:label { bd:serviceParam wikibase:language \"[AUTO_LANGUAGE],en\". }\n",
    "                                        }\"\"\", # CEO\n",
    "                                            \"\"\"SELECT ?item ?itemLabel WHERE {\n",
    "                                          wd:%s wdt:P488 ?item.\n",
    "                                          SERVICE wikibase:label { bd:serviceParam wikibase:language \"[AUTO_LANGUAGE],en\". }\n",
    "                                        }\"\"\" # Chairperson\n",
    "                                            ],\n",
    "              'Person Employee or Member of^-1':[\"\"\"SELECT ?item ?itemLabel WHERE {\n",
    "                                          ?item wdt:P108 wd:%s.\n",
    "                                          SERVICE wikibase:label { bd:serviceParam wikibase:language \"[AUTO_LANGUAGE],en\". }\n",
    "                                        }\"\"\"\n",
    "                                                ],\n",
    "              'Person Employee or Member of':[\"\"\"SELECT ?item ?itemLabel WHERE {\n",
    "                                              wd:%s wdt:P108 ?item.\n",
    "                                              SERVICE wikibase:label { bd:serviceParam wikibase:language \"[AUTO_LANGUAGE],en\". }\n",
    "                                            }\"\"\"\n",
    "                                            ],\n",
    "              'Person Place of Birth':[\"\"\"SELECT ?item ?itemLabel WHERE {\n",
    "                                              wd:%s wdt:P19 ?item.\n",
    "                                              SERVICE wikibase:label { bd:serviceParam wikibase:language \"[AUTO_LANGUAGE],en\". }\n",
    "                                            }\"\"\"\n",
    "                                      ],\n",
    "              'Person Current and Past Location of Residence':[\"\"\"SELECT ?item ?itemLabel WHERE {\n",
    "                                              wd:%s wdt:P551 ?item.\n",
    "                                              SERVICE wikibase:label { bd:serviceParam wikibase:language \"[AUTO_LANGUAGE],en\". }\n",
    "                                            }\"\"\"\n",
    "                                                              ],\n",
    "              'Person Parents':[\"\"\"SELECT ?item ?itemLabel WHERE {\n",
    "                                              wd:%s wdt:P22 ?item.\n",
    "                                              SERVICE wikibase:label { bd:serviceParam wikibase:language \"[AUTO_LANGUAGE],en\". }\n",
    "                                            }\"\"\", #Father\n",
    "                                \"\"\"SELECT ?item ?itemLabel WHERE {\n",
    "                                              wd:%s wdt:P25 ?item.\n",
    "                                              SERVICE wikibase:label { bd:serviceParam wikibase:language \"[AUTO_LANGUAGE],en\". }\n",
    "                                            }\"\"\", #Mother\n",
    "                                \"\"\"SELECT ?item ?itemLabel WHERE {\n",
    "                                              wd:%s wdt:P1038 ?item.\n",
    "                                              SERVICE wikibase:label { bd:serviceParam wikibase:language \"[AUTO_LANGUAGE],en\". }\n",
    "                                            }\"\"\" #Relative (Adopted Parents?)\n",
    "                                # Shall we include stepparents??\n",
    "                               ],\n",
    "              'Person Parents^-1':[\"\"\"SELECT ?item ?itemLabel WHERE {\n",
    "                                              wd:%s wdt:P40 ?item.\n",
    "                                              SERVICE wikibase:label { bd:serviceParam wikibase:language \"[AUTO_LANGUAGE],en\". }\n",
    "                                            }\"\"\"\n",
    "                                  ],\n",
    "              'Person Siblings':[\"\"\"SELECT ?item ?itemLabel WHERE {\n",
    "                                              wd:%s wdt:P3373 ?item.\n",
    "                                              SERVICE wikibase:label { bd:serviceParam wikibase:language \"[AUTO_LANGUAGE],en\". }\n",
    "                                            }\"\"\"\n",
    "                                ],\n",
    "              'Person Spouse':[\"\"\"SELECT ?item ?itemLabel WHERE {\n",
    "                                              wd:%s wdt:P26 ?item.\n",
    "                                              SERVICE wikibase:label { bd:serviceParam wikibase:language \"[AUTO_LANGUAGE],en\". }\n",
    "                                            }\"\"\"\n",
    "                              ],\n",
    "              'Citizen of':[\"\"\"SELECT ?item ?itemLabel WHERE {\n",
    "                                              wd:%s wdt:P27 ?item.\n",
    "                                              SERVICE wikibase:label { bd:serviceParam wikibase:language \"[AUTO_LANGUAGE],en\". }\n",
    "                                            }\"\"\"\n",
    "                           ],\n",
    "              'Educated at':[\"\"\"SELECT ?item ?itemLabel WHERE {\n",
    "                                              wd:%s wdt:P69 ?item.\n",
    "                                              SERVICE wikibase:label { bd:serviceParam wikibase:language \"[AUTO_LANGUAGE],en\". }\n",
    "                                            }\"\"\"\n",
    "                            ]\n",
    "             }"
   ]
  },
  {
   "cell_type": "code",
   "execution_count": 190,
   "metadata": {},
   "outputs": [
    {
     "name": "stdout",
     "output_type": "stream",
     "text": [
      "2\n"
     ]
    },
    {
     "data": {
      "text/plain": [
       "['Reed College', 'Homestead High School']"
      ]
     },
     "execution_count": 190,
     "metadata": {},
     "output_type": "execute_result"
    }
   ],
   "source": [
    "results = []\n",
    "results = [get_results(endpoint_url, query, get_id(\"Steve Jobs\")) for query in query_dict['Educated at']]\n",
    "\n",
    "gt = []\n",
    "for result in results:\n",
    "    for r in result[\"results\"][\"bindings\"]:\n",
    "        gt.append(r['itemLabel']['value'])\n",
    "print (len(gt))\n",
    "gt"
   ]
  },
  {
   "cell_type": "code",
   "execution_count": 196,
   "metadata": {},
   "outputs": [
    {
     "data": {
      "text/plain": [
       "0                                      Educated at\n",
       "1                       Organization Founded By^-1\n",
       "2    Person Current and Past Location of Residence\n",
       "3                     Person Employee or Member of\n",
       "4                                   Person Parents\n",
       "5                            Person Place of Birth\n",
       "6                                  Person Siblings\n",
       "7                                    Person Spouse\n",
       "Name: Relationship, dtype: object"
      ]
     },
     "execution_count": 196,
     "metadata": {},
     "output_type": "execute_result"
    }
   ],
   "source": [
    "temp['Relationship']"
   ]
  },
  {
   "cell_type": "code",
   "execution_count": 247,
   "metadata": {},
   "outputs": [
    {
     "data": {
      "text/html": [
       "<div>\n",
       "<style scoped>\n",
       "    .dataframe tbody tr th:only-of-type {\n",
       "        vertical-align: middle;\n",
       "    }\n",
       "\n",
       "    .dataframe tbody tr th {\n",
       "        vertical-align: top;\n",
       "    }\n",
       "\n",
       "    .dataframe thead th {\n",
       "        text-align: right;\n",
       "    }\n",
       "</style>\n",
       "<table border=\"1\" class=\"dataframe\">\n",
       "  <thead>\n",
       "    <tr style=\"text-align: right;\">\n",
       "      <th></th>\n",
       "      <th>Subject</th>\n",
       "      <th>Relationship</th>\n",
       "      <th>Object2</th>\n",
       "      <th>Count</th>\n",
       "    </tr>\n",
       "  </thead>\n",
       "  <tbody>\n",
       "    <tr>\n",
       "      <th>0</th>\n",
       "      <td>Steve Jobs</td>\n",
       "      <td>Educated at</td>\n",
       "      <td>[Al, Apple Computer, Reed College]</td>\n",
       "      <td>3</td>\n",
       "    </tr>\n",
       "    <tr>\n",
       "      <th>1</th>\n",
       "      <td>Steve Jobs</td>\n",
       "      <td>Organization Founded By^-1</td>\n",
       "      <td>[Apple Computer]</td>\n",
       "      <td>1</td>\n",
       "    </tr>\n",
       "    <tr>\n",
       "      <th>2</th>\n",
       "      <td>Steve Jobs</td>\n",
       "      <td>Person Current and Past Location of Residence</td>\n",
       "      <td>[India, San Francisco Bay Area, United States]</td>\n",
       "      <td>3</td>\n",
       "    </tr>\n",
       "    <tr>\n",
       "      <th>3</th>\n",
       "      <td>Steve Jobs</td>\n",
       "      <td>Person Employee or Member of</td>\n",
       "      <td>[Apple Computer, Atari, NeXT]</td>\n",
       "      <td>3</td>\n",
       "    </tr>\n",
       "    <tr>\n",
       "      <th>4</th>\n",
       "      <td>Steve Jobs</td>\n",
       "      <td>Person Parents</td>\n",
       "      <td>[Clara Jobs]</td>\n",
       "      <td>1</td>\n",
       "    </tr>\n",
       "    <tr>\n",
       "      <th>5</th>\n",
       "      <td>Steve Jobs</td>\n",
       "      <td>Person Place of Birth</td>\n",
       "      <td>[San Francisco, California]</td>\n",
       "      <td>1</td>\n",
       "    </tr>\n",
       "    <tr>\n",
       "      <th>6</th>\n",
       "      <td>Steve Jobs</td>\n",
       "      <td>Person Siblings</td>\n",
       "      <td>[Patricia, Paul Reinhold Jobs]</td>\n",
       "      <td>2</td>\n",
       "    </tr>\n",
       "    <tr>\n",
       "      <th>7</th>\n",
       "      <td>Steve Jobs</td>\n",
       "      <td>Person Spouse</td>\n",
       "      <td>[Laurene]</td>\n",
       "      <td>1</td>\n",
       "    </tr>\n",
       "  </tbody>\n",
       "</table>\n",
       "</div>"
      ],
      "text/plain": [
       "      Subject                                   Relationship  \\\n",
       "0  Steve Jobs                                    Educated at   \n",
       "1  Steve Jobs                     Organization Founded By^-1   \n",
       "2  Steve Jobs  Person Current and Past Location of Residence   \n",
       "3  Steve Jobs                   Person Employee or Member of   \n",
       "4  Steve Jobs                                 Person Parents   \n",
       "5  Steve Jobs                          Person Place of Birth   \n",
       "6  Steve Jobs                                Person Siblings   \n",
       "7  Steve Jobs                                  Person Spouse   \n",
       "\n",
       "                                          Object2  Count  \n",
       "0              [Al, Apple Computer, Reed College]      3  \n",
       "1                                [Apple Computer]      1  \n",
       "2  [India, San Francisco Bay Area, United States]      3  \n",
       "3                   [Apple Computer, Atari, NeXT]      3  \n",
       "4                                    [Clara Jobs]      1  \n",
       "5                     [San Francisco, California]      1  \n",
       "6                  [Patricia, Paul Reinhold Jobs]      2  \n",
       "7                                       [Laurene]      1  "
      ]
     },
     "execution_count": 247,
     "metadata": {},
     "output_type": "execute_result"
    }
   ],
   "source": [
    "temp = main_df.reset_index()\n",
    "temp"
   ]
  },
  {
   "cell_type": "code",
   "execution_count": 248,
   "metadata": {
    "collapsed": true
   },
   "outputs": [],
   "source": [
    "temp['Ground Truth'] = temp.apply(lambda row: ground_truth(row['Relationship'], row['Subject']), axis=1)\n",
    "temp['Count_GT'] = temp['Ground Truth'].apply(lambda x: len(x))"
   ]
  },
  {
   "cell_type": "code",
   "execution_count": 249,
   "metadata": {},
   "outputs": [
    {
     "data": {
      "text/html": [
       "<div>\n",
       "<style scoped>\n",
       "    .dataframe tbody tr th:only-of-type {\n",
       "        vertical-align: middle;\n",
       "    }\n",
       "\n",
       "    .dataframe tbody tr th {\n",
       "        vertical-align: top;\n",
       "    }\n",
       "\n",
       "    .dataframe thead th {\n",
       "        text-align: right;\n",
       "    }\n",
       "</style>\n",
       "<table border=\"1\" class=\"dataframe\">\n",
       "  <thead>\n",
       "    <tr style=\"text-align: right;\">\n",
       "      <th></th>\n",
       "      <th></th>\n",
       "      <th>Object2</th>\n",
       "      <th>Count</th>\n",
       "      <th>Ground Truth</th>\n",
       "      <th>Count_GT</th>\n",
       "    </tr>\n",
       "    <tr>\n",
       "      <th>Subject</th>\n",
       "      <th>Relationship</th>\n",
       "      <th></th>\n",
       "      <th></th>\n",
       "      <th></th>\n",
       "      <th></th>\n",
       "    </tr>\n",
       "  </thead>\n",
       "  <tbody>\n",
       "    <tr>\n",
       "      <th rowspan=\"8\" valign=\"top\">Steve Jobs</th>\n",
       "      <th>Educated at</th>\n",
       "      <td>[Al, Apple Computer, Reed College]</td>\n",
       "      <td>3</td>\n",
       "      <td>[Reed College, Homestead High School]</td>\n",
       "      <td>2</td>\n",
       "    </tr>\n",
       "    <tr>\n",
       "      <th>Organization Founded By^-1</th>\n",
       "      <td>[Apple Computer]</td>\n",
       "      <td>1</td>\n",
       "      <td>[Apple, NeXT Computer, Inc.]</td>\n",
       "      <td>2</td>\n",
       "    </tr>\n",
       "    <tr>\n",
       "      <th>Person Current and Past Location of Residence</th>\n",
       "      <td>[India, San Francisco Bay Area, United States]</td>\n",
       "      <td>3</td>\n",
       "      <td>[Mountain View]</td>\n",
       "      <td>1</td>\n",
       "    </tr>\n",
       "    <tr>\n",
       "      <th>Person Employee or Member of</th>\n",
       "      <td>[Apple Computer, Atari, NeXT]</td>\n",
       "      <td>3</td>\n",
       "      <td>[Apple, Pixar, NeXT Computer, Inc.]</td>\n",
       "      <td>3</td>\n",
       "    </tr>\n",
       "    <tr>\n",
       "      <th>Person Parents</th>\n",
       "      <td>[Clara Jobs]</td>\n",
       "      <td>1</td>\n",
       "      <td>[John Abdulfattah Jandali, Joanne Schieble, Pa...</td>\n",
       "      <td>4</td>\n",
       "    </tr>\n",
       "    <tr>\n",
       "      <th>Person Place of Birth</th>\n",
       "      <td>[San Francisco, California]</td>\n",
       "      <td>1</td>\n",
       "      <td>[San Francisco]</td>\n",
       "      <td>1</td>\n",
       "    </tr>\n",
       "    <tr>\n",
       "      <th>Person Siblings</th>\n",
       "      <td>[Patricia, Paul Reinhold Jobs]</td>\n",
       "      <td>2</td>\n",
       "      <td>[Mona Simpson]</td>\n",
       "      <td>1</td>\n",
       "    </tr>\n",
       "    <tr>\n",
       "      <th>Person Spouse</th>\n",
       "      <td>[Laurene]</td>\n",
       "      <td>1</td>\n",
       "      <td>[Laurene Powell Jobs]</td>\n",
       "      <td>1</td>\n",
       "    </tr>\n",
       "  </tbody>\n",
       "</table>\n",
       "</div>"
      ],
      "text/plain": [
       "                                                                                                 Object2  \\\n",
       "Subject    Relationship                                                                                    \n",
       "Steve Jobs Educated at                                                [Al, Apple Computer, Reed College]   \n",
       "           Organization Founded By^-1                                                   [Apple Computer]   \n",
       "           Person Current and Past Location of Residence  [India, San Francisco Bay Area, United States]   \n",
       "           Person Employee or Member of                                    [Apple Computer, Atari, NeXT]   \n",
       "           Person Parents                                                                   [Clara Jobs]   \n",
       "           Person Place of Birth                                             [San Francisco, California]   \n",
       "           Person Siblings                                                [Patricia, Paul Reinhold Jobs]   \n",
       "           Person Spouse                                                                       [Laurene]   \n",
       "\n",
       "                                                          Count  \\\n",
       "Subject    Relationship                                           \n",
       "Steve Jobs Educated at                                        3   \n",
       "           Organization Founded By^-1                         1   \n",
       "           Person Current and Past Location of Residence      3   \n",
       "           Person Employee or Member of                       3   \n",
       "           Person Parents                                     1   \n",
       "           Person Place of Birth                              1   \n",
       "           Person Siblings                                    2   \n",
       "           Person Spouse                                      1   \n",
       "\n",
       "                                                                                               Ground Truth  \\\n",
       "Subject    Relationship                                                                                       \n",
       "Steve Jobs Educated at                                                [Reed College, Homestead High School]   \n",
       "           Organization Founded By^-1                                          [Apple, NeXT Computer, Inc.]   \n",
       "           Person Current and Past Location of Residence                                    [Mountain View]   \n",
       "           Person Employee or Member of                                 [Apple, Pixar, NeXT Computer, Inc.]   \n",
       "           Person Parents                                 [John Abdulfattah Jandali, Joanne Schieble, Pa...   \n",
       "           Person Place of Birth                                                            [San Francisco]   \n",
       "           Person Siblings                                                                   [Mona Simpson]   \n",
       "           Person Spouse                                                              [Laurene Powell Jobs]   \n",
       "\n",
       "                                                          Count_GT  \n",
       "Subject    Relationship                                             \n",
       "Steve Jobs Educated at                                           2  \n",
       "           Organization Founded By^-1                            2  \n",
       "           Person Current and Past Location of Residence         1  \n",
       "           Person Employee or Member of                          3  \n",
       "           Person Parents                                        4  \n",
       "           Person Place of Birth                                 1  \n",
       "           Person Siblings                                       1  \n",
       "           Person Spouse                                         1  "
      ]
     },
     "execution_count": 249,
     "metadata": {},
     "output_type": "execute_result"
    }
   ],
   "source": [
    "temp.set_index(['Subject','Relationship'])"
   ]
  },
  {
   "cell_type": "code",
   "execution_count": null,
   "metadata": {
    "collapsed": true
   },
   "outputs": [],
   "source": []
  },
  {
   "cell_type": "code",
   "execution_count": 250,
   "metadata": {},
   "outputs": [
    {
     "data": {
      "text/html": [
       "<div>\n",
       "<style scoped>\n",
       "    .dataframe tbody tr th:only-of-type {\n",
       "        vertical-align: middle;\n",
       "    }\n",
       "\n",
       "    .dataframe tbody tr th {\n",
       "        vertical-align: top;\n",
       "    }\n",
       "\n",
       "    .dataframe thead th {\n",
       "        text-align: right;\n",
       "    }\n",
       "</style>\n",
       "<table border=\"1\" class=\"dataframe\">\n",
       "  <thead>\n",
       "    <tr style=\"text-align: right;\">\n",
       "      <th></th>\n",
       "      <th></th>\n",
       "      <th>Object2</th>\n",
       "      <th>Count</th>\n",
       "    </tr>\n",
       "    <tr>\n",
       "      <th>Subject</th>\n",
       "      <th>Relationship</th>\n",
       "      <th></th>\n",
       "      <th></th>\n",
       "    </tr>\n",
       "  </thead>\n",
       "  <tbody>\n",
       "    <tr>\n",
       "      <th rowspan=\"8\" valign=\"top\">Steve Jobs</th>\n",
       "      <th>Educated at</th>\n",
       "      <td>[Al, Apple Computer, Reed College]</td>\n",
       "      <td>3</td>\n",
       "    </tr>\n",
       "    <tr>\n",
       "      <th>Organization Founded By^-1</th>\n",
       "      <td>[Apple Computer]</td>\n",
       "      <td>1</td>\n",
       "    </tr>\n",
       "    <tr>\n",
       "      <th>Person Current and Past Location of Residence</th>\n",
       "      <td>[India, San Francisco Bay Area, United States]</td>\n",
       "      <td>3</td>\n",
       "    </tr>\n",
       "    <tr>\n",
       "      <th>Person Employee or Member of</th>\n",
       "      <td>[Apple Computer, Atari, NeXT]</td>\n",
       "      <td>3</td>\n",
       "    </tr>\n",
       "    <tr>\n",
       "      <th>Person Parents</th>\n",
       "      <td>[Clara Jobs]</td>\n",
       "      <td>1</td>\n",
       "    </tr>\n",
       "    <tr>\n",
       "      <th>Person Place of Birth</th>\n",
       "      <td>[San Francisco, California]</td>\n",
       "      <td>1</td>\n",
       "    </tr>\n",
       "    <tr>\n",
       "      <th>Person Siblings</th>\n",
       "      <td>[Patricia, Paul Reinhold Jobs]</td>\n",
       "      <td>2</td>\n",
       "    </tr>\n",
       "    <tr>\n",
       "      <th>Person Spouse</th>\n",
       "      <td>[Laurene]</td>\n",
       "      <td>1</td>\n",
       "    </tr>\n",
       "  </tbody>\n",
       "</table>\n",
       "</div>"
      ],
      "text/plain": [
       "                                                                                                 Object2  \\\n",
       "Subject    Relationship                                                                                    \n",
       "Steve Jobs Educated at                                                [Al, Apple Computer, Reed College]   \n",
       "           Organization Founded By^-1                                                   [Apple Computer]   \n",
       "           Person Current and Past Location of Residence  [India, San Francisco Bay Area, United States]   \n",
       "           Person Employee or Member of                                    [Apple Computer, Atari, NeXT]   \n",
       "           Person Parents                                                                   [Clara Jobs]   \n",
       "           Person Place of Birth                                             [San Francisco, California]   \n",
       "           Person Siblings                                                [Patricia, Paul Reinhold Jobs]   \n",
       "           Person Spouse                                                                       [Laurene]   \n",
       "\n",
       "                                                          Count  \n",
       "Subject    Relationship                                          \n",
       "Steve Jobs Educated at                                        3  \n",
       "           Organization Founded By^-1                         1  \n",
       "           Person Current and Past Location of Residence      3  \n",
       "           Person Employee or Member of                       3  \n",
       "           Person Parents                                     1  \n",
       "           Person Place of Birth                              1  \n",
       "           Person Siblings                                    2  \n",
       "           Person Spouse                                      1  "
      ]
     },
     "execution_count": 250,
     "metadata": {},
     "output_type": "execute_result"
    }
   ],
   "source": [
    "main_df"
   ]
  },
  {
   "cell_type": "code",
   "execution_count": null,
   "metadata": {
    "collapsed": true
   },
   "outputs": [],
   "source": []
  },
  {
   "cell_type": "code",
   "execution_count": 12,
   "metadata": {
    "collapsed": true
   },
   "outputs": [],
   "source": [
    "import pickle"
   ]
  },
  {
   "cell_type": "code",
   "execution_count": 8,
   "metadata": {
    "collapsed": true
   },
   "outputs": [],
   "source": [
    "a = {}\n",
    "b = [5,6]"
   ]
  },
  {
   "cell_type": "code",
   "execution_count": 10,
   "metadata": {},
   "outputs": [
    {
     "data": {
      "text/plain": [
       "True"
      ]
     },
     "execution_count": 10,
     "metadata": {},
     "output_type": "execute_result"
    }
   ],
   "source": [
    "any(x in a for x in b)"
   ]
  },
  {
   "cell_type": "code",
   "execution_count": 11,
   "metadata": {
    "collapsed": true
   },
   "outputs": [],
   "source": [
    "a  = {'1':1,'2':2}"
   ]
  },
  {
   "cell_type": "code",
   "execution_count": 13,
   "metadata": {
    "collapsed": true
   },
   "outputs": [],
   "source": [
    "with open('data.p', 'wb') as fp:\n",
    "    pickle.dump(a, fp, protocol=pickle.HIGHEST_PROTOCOL)"
   ]
  },
  {
   "cell_type": "code",
   "execution_count": 14,
   "metadata": {
    "collapsed": true
   },
   "outputs": [],
   "source": [
    "data = {}\n",
    "with open('data.p', 'rb') as fp:\n",
    "    data = pickle.load(fp)"
   ]
  },
  {
   "cell_type": "code",
   "execution_count": 25,
   "metadata": {},
   "outputs": [],
   "source": [
    "a = {}"
   ]
  },
  {
   "cell_type": "code",
   "execution_count": 21,
   "metadata": {
    "collapsed": true
   },
   "outputs": [],
   "source": [
    "def f1():\n",
    "    a['3'] = 3\n",
    "    print (a)"
   ]
  },
  {
   "cell_type": "code",
   "execution_count": 24,
   "metadata": {},
   "outputs": [],
   "source": [
    "def f2():\n",
    "    global a\n",
    "    with open('data.p', 'rb') as fp:\n",
    "        a = pickle.load(fp)\n",
    "    a['222'] = 222"
   ]
  },
  {
   "cell_type": "code",
   "execution_count": null,
   "metadata": {
    "collapsed": true
   },
   "outputs": [],
   "source": []
  },
  {
   "cell_type": "code",
   "execution_count": null,
   "metadata": {
    "collapsed": true
   },
   "outputs": [],
   "source": []
  },
  {
   "cell_type": "code",
   "execution_count": null,
   "metadata": {
    "collapsed": true
   },
   "outputs": [],
   "source": []
  },
  {
   "cell_type": "code",
   "execution_count": null,
   "metadata": {
    "collapsed": true
   },
   "outputs": [],
   "source": []
  }
 ],
 "metadata": {
  "kernelspec": {
   "display_name": "Python 3",
   "language": "python",
   "name": "python3"
  },
  "language_info": {
   "codemirror_mode": {
    "name": "ipython",
    "version": 3
   },
   "file_extension": ".py",
   "mimetype": "text/x-python",
   "name": "python",
   "nbconvert_exporter": "python",
   "pygments_lexer": "ipython3",
   "version": "3.6.5"
  }
 },
 "nbformat": 4,
 "nbformat_minor": 2
}
