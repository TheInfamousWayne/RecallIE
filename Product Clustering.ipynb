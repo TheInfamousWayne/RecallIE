{
 "cells": [
  {
   "cell_type": "code",
   "execution_count": 1,
   "metadata": {},
   "outputs": [],
   "source": [
    "import numpy as np\n",
    "import pandas as pd\n",
    "import datetime\n",
    "import time\n",
    "\n",
    "import pyspark.sql.functions as fn\n",
    "from pyspark.sql import SparkSession\n",
    "from pyspark.sql import SQLContext\n",
    "\n",
    "from pyspark.ml.feature import HashingTF, IDF, Tokenizer\n",
    "from pyspark.ml.feature import RegexTokenizer, StopWordsRemover, CountVectorizer\n",
    "from pyspark.ml import Pipeline\n",
    "from pyspark.ml.feature import StringIndexer, IndexToString\n",
    "\n",
    "import seaborn as sns\n",
    "sns.set(style=\"darkgrid\")\n",
    "%matplotlib inline\n",
    "import matplotlib.pyplot as plt\n",
    "plt.rcParams['figure.figsize'] = [16,18]"
   ]
  },
  {
   "cell_type": "code",
   "execution_count": 2,
   "metadata": {},
   "outputs": [],
   "source": [
    "spark = SparkSession.builder.appName(\"Ads\").getOrCreate()\n",
    "sqlContext = SQLContext(spark.sparkContext)\n",
    "\n",
    "df = sqlContext.read.\\\n",
    "        parquet(\"/Users/theinfamouswayne/Documents/SametimeFileTransfers/coopsw_v2/Sample/cart_item_purchase/\")"
   ]
  },
  {
   "cell_type": "markdown",
   "metadata": {},
   "source": [
    "### <font color='light silver'>Faster toPandas()<font>"
   ]
  },
  {
   "cell_type": "code",
   "execution_count": 6,
   "metadata": {},
   "outputs": [],
   "source": [
    "def _map_to_pandas(rdds):\n",
    "    \"\"\" Needs to be here due to pickling issues \"\"\"\n",
    "    return [pd.DataFrame(list(rdds))]\n",
    "\n",
    "def toPandas(df, n_partitions=None):\n",
    "    \"\"\"\n",
    "    Returns the contents of `df` as a local `pandas.DataFrame` in a speedy fashion. The DataFrame is\n",
    "    repartitioned if `n_partitions` is passed.\n",
    "    :param df:              pyspark.sql.DataFrame\n",
    "    :param n_partitions:    int or None\n",
    "    :return:                pandas.DataFrame\n",
    "    \"\"\"\n",
    "    if n_partitions is not None: df = df.repartition(n_partitions)\n",
    "    df_pand = df.rdd.mapPartitions(_map_to_pandas).collect()\n",
    "    df_pand = pd.concat(df_pand)\n",
    "    df_pand.columns = df.columns\n",
    "    return df_pand"
   ]
  },
  {
   "cell_type": "markdown",
   "metadata": {},
   "source": [
    "## Using \"sessionId\" creating \"Binary Product Basket\""
   ]
  },
  {
   "cell_type": "code",
   "execution_count": 7,
   "metadata": {},
   "outputs": [],
   "source": [
    "product = df.select(['productEAN','sessionId']).distinct()\n",
    "basket = product.groupby('sessionId').agg(fn.countDistinct('productEAN').alias('productBasket'))"
   ]
  },
  {
   "cell_type": "markdown",
   "metadata": {},
   "source": [
    "#### <font color='light silver'>Label Encoding<font>"
   ]
  },
  {
   "cell_type": "code",
   "execution_count": 8,
   "metadata": {},
   "outputs": [],
   "source": [
    "stringIndexer = StringIndexer(inputCol='productEAN', outputCol='indexEAN')\n",
    "pipeline = Pipeline(stages=[stringIndexer])\n",
    "# Fit the pipeline to training documents.\n",
    "pipelineFit = pipeline.fit(product)\n",
    "dataset = pipelineFit.transform(product)"
   ]
  },
  {
   "cell_type": "markdown",
   "metadata": {},
   "source": [
    "#### <font color='light silver'>Reverse Mapping<font> "
   ]
  },
  {
   "cell_type": "code",
   "execution_count": 9,
   "metadata": {},
   "outputs": [],
   "source": [
    "to_join = toPandas(df.select('productName','productEAN').distinct())\n",
    "to_join = to_join.drop_duplicates('productEAN')\n",
    "to_join.productEAN = to_join.productEAN.astype(int)\n",
    "to_join = to_join.set_index('productEAN')\n",
    "# to_join.info()\n",
    "idx_to_ean = IndexToString(inputCol=\"indexEAN\", outputCol=\"IndexValue\")\n",
    "idx_to_ean = idx_to_ean.transform(dataset).distinct()\n",
    "idx_pd = toPandas(idx_to_ean.drop('sessionId','IndexValue').distinct()).drop_duplicates('productEAN')\n",
    "idx_pd.productEAN = idx_pd.productEAN.astype(int)\n",
    "idx_pd = idx_pd.set_index('productEAN')\n",
    "\n",
    "# Index to Names mapping\n",
    "idx_to_name = idx_pd.join(to_join,on='productEAN')\n",
    "idx_to_name = idx_to_name.sort_values('indexEAN')"
   ]
  },
  {
   "cell_type": "markdown",
   "metadata": {},
   "source": [
    "#### <font color='light silver'>Sparse Binary Vector<font>  "
   ]
  },
  {
   "cell_type": "code",
   "execution_count": 10,
   "metadata": {},
   "outputs": [],
   "source": [
    "from pyspark.sql.functions import collect_list, max, lit, udf\n",
    "from pyspark.ml.linalg import Vectors, VectorUDT\n",
    "from pyspark.sql.types import DoubleType"
   ]
  },
  {
   "cell_type": "code",
   "execution_count": 11,
   "metadata": {},
   "outputs": [],
   "source": [
    "def encode(arr, length):\n",
    "    vec_args =  length, [(x,1.0) for x in arr]\n",
    "    return Vectors.sparse(*vec_args)\n",
    "encode_udf = udf(encode, VectorUDT())"
   ]
  },
  {
   "cell_type": "code",
   "execution_count": 12,
   "metadata": {},
   "outputs": [],
   "source": [
    "feats = dataset.agg(max(dataset[\"indexEAN\"])).take(1)[0][0] + 1\n",
    "basket_binary = dataset.groupby('sessionId').\\\n",
    "                        agg(collect_list('indexEAN').alias('arrayEAN')).\\\n",
    "                        select('sessionId',encode_udf('arrayEAN',lit(feats)).alias('Basket'))"
   ]
  },
  {
   "cell_type": "markdown",
   "metadata": {},
   "source": [
    "## Calculating Pair-wise Correlation b/w Products"
   ]
  },
  {
   "cell_type": "code",
   "execution_count": 13,
   "metadata": {},
   "outputs": [
    {
     "data": {
      "text/plain": [
       "43.525646924972534"
      ]
     },
     "execution_count": 13,
     "metadata": {},
     "output_type": "execute_result"
    }
   ],
   "source": [
    "st = time.time()\n",
    "basket_pd = toPandas(basket_binary)\n",
    "time.time() - st"
   ]
  },
  {
   "cell_type": "markdown",
   "metadata": {},
   "source": [
    "#### Converting to Numpy Matrix"
   ]
  },
  {
   "cell_type": "code",
   "execution_count": 14,
   "metadata": {},
   "outputs": [],
   "source": [
    "series = basket_pd['Basket'].apply(lambda x : np.array(x.toArray())).values.reshape(-1,1)\n",
    "features = np.apply_along_axis(lambda x : x[0], 1, series)"
   ]
  },
  {
   "cell_type": "markdown",
   "metadata": {},
   "source": [
    "## <font color='dark blue'> \"***********\" TESTING \"***********\"</font>\n",
    "### <font color='red'> Without Converting to Pandas</font>"
   ]
  },
  {
   "cell_type": "markdown",
   "metadata": {},
   "source": [
    "#### <font color='Red'> SessionID to SessionIndex</font>"
   ]
  },
  {
   "cell_type": "code",
   "execution_count": 17,
   "metadata": {},
   "outputs": [],
   "source": [
    "stringIndexer = StringIndexer(inputCol='sessionId', outputCol='indexSession')\n",
    "pipeline = Pipeline(stages=[stringIndexer])\n",
    "# Fit the pipeline to training documents.\n",
    "pipelineFit = pipeline.fit(basket_binary)\n",
    "sparkBasket = pipelineFit.transform(basket_binary)"
   ]
  },
  {
   "cell_type": "code",
   "execution_count": 33,
   "metadata": {},
   "outputs": [],
   "source": [
    "from pyspark.mllib.linalg.distributed import IndexedRow, IndexedRowMatrix\n",
    "sparkFeatures = IndexedRowMatrix(sparkBasket.rdd.map(lambda row: IndexedRow(row[2],np.array(row[1].toArray()))))\n",
    "# Row Format: [index = SessionIndex, column1 = array of binary basket]"
   ]
  },
  {
   "cell_type": "code",
   "execution_count": null,
   "metadata": {},
   "outputs": [],
   "source": [
    "st = time.time()\n",
    "matrix = np.array(sparkFeatures.rows.collect())\n",
    "time.time() - st"
   ]
  },
  {
   "cell_type": "markdown",
   "metadata": {},
   "source": [
    "#### <font color='Red'> Directly Without SessionIndex</font>"
   ]
  },
  {
   "cell_type": "code",
   "execution_count": null,
   "metadata": {},
   "outputs": [],
   "source": [
    "st = time.time()\n",
    "matrix2 = np.array(basket_binary.rdd.map(lambda x: np.array(x['Basket'].toArray())).collect())\n",
    "time.time() - st"
   ]
  },
  {
   "cell_type": "markdown",
   "metadata": {},
   "source": [
    "## <font color='dark blue'> \"***********\" OVER \"***********\"</font><br>\n",
    "## Correlation (phi) from numpy matrix"
   ]
  },
  {
   "cell_type": "markdown",
   "metadata": {},
   "source": [
    "<img src='https://i.stack.imgur.com/V9dfd.jpg'></img>"
   ]
  },
  {
   "cell_type": "code",
   "execution_count": 15,
   "metadata": {},
   "outputs": [],
   "source": [
    "A = B = features[:,:]"
   ]
  },
  {
   "cell_type": "code",
   "execution_count": 16,
   "metadata": {},
   "outputs": [],
   "source": [
    "# Get number of rows in either A or B\n",
    "N = B.shape[0]\n",
    "\n",
    "# Store columnw-wise in A and B, as they would be used at few places\n",
    "sA = A.sum(0)\n",
    "sB = B.sum(0)\n",
    "\n",
    "# Basically there are four parts in the formula. We would compute them one-by-one\n",
    "p1 = N*np.dot(B.T,A) #p1 = N*np.einsum('ij,ik->kj',A,B)\n",
    "p2 = sA*sB[:,None]\n",
    "p3 = N*((B**2).sum(0)) - (sB**2)\n",
    "p4 = N*((A**2).sum(0)) - (sA**2)\n",
    "\n",
    "# Finally compute Pearson Correlation Coefficient as 2D array \n",
    "phi = ((p1 - p2)/np.sqrt(p4*p3[:,None]))\n",
    "\n",
    "# Get the element corresponding to absolute argmax along the columns \n",
    "out = phi[np.nanargmax(np.abs(phi),axis=0),np.arange(phi.shape[1])]"
   ]
  },
  {
   "cell_type": "markdown",
   "metadata": {},
   "source": [
    "#### Pairwise Node-Distance Matrix"
   ]
  },
  {
   "cell_type": "code",
   "execution_count": 17,
   "metadata": {},
   "outputs": [],
   "source": [
    "import math as m\n",
    "def corrDist(ele):\n",
    "    return m.sqrt(2*(1-ele))\n",
    "\n",
    "uFunc = np.vectorize(corrDist) # For element-wise operation on ndarray phi\n",
    "distance = uFunc(phi)"
   ]
  },
  {
   "cell_type": "markdown",
   "metadata": {},
   "source": [
    "## 3D MST Graph"
   ]
  },
  {
   "cell_type": "code",
   "execution_count": 18,
   "metadata": {},
   "outputs": [],
   "source": [
    "import networkx as nx\n",
    "from plotly.offline import plot\n",
    "import plotly.graph_objs as go\n",
    "from networkx.drawing.nx_agraph import graphviz_layout"
   ]
  },
  {
   "cell_type": "code",
   "execution_count": 19,
   "metadata": {},
   "outputs": [],
   "source": [
    "G = nx.from_numpy_matrix(distance)\n",
    "nodes = list(G.nodes())\n",
    "mst = nx.minimum_spanning_tree(G, algorithm='prim')\n",
    "pos = nx.spring_layout(mst,dim=3)\n",
    "N = len(nodes)\n",
    "labels = [each.encode('utf-8') for each in list(idx_to_name['productName'])]"
   ]
  },
  {
   "cell_type": "markdown",
   "metadata": {},
   "source": [
    "#### Node & Edge Coordinates"
   ]
  },
  {
   "cell_type": "code",
   "execution_count": 20,
   "metadata": {},
   "outputs": [],
   "source": [
    "Xn=[pos[k][0] for k in range(N)]# x-coordinates of nodes\n",
    "Yn=[pos[k][1] for k in range(N)]# y-coordinates\n",
    "Zn=[pos[k][2] for k in range(N)]# z-coordinates\n",
    "Xe=[]\n",
    "Ye=[]\n",
    "Ze=[]\n",
    "Edges = list(mst.edges)\n",
    "for e in Edges:\n",
    "    Xe+=[pos[e[0]][0],pos[e[1]][0], None]# x-coordinates of edge ends\n",
    "    Ye+=[pos[e[0]][1],pos[e[1]][1], None]\n",
    "    Ze+=[pos[e[0]][2],pos[e[1]][2], None]"
   ]
  },
  {
   "cell_type": "markdown",
   "metadata": {},
   "source": [
    "#### Average Linkage Clustering"
   ]
  },
  {
   "cell_type": "code",
   "execution_count": 21,
   "metadata": {},
   "outputs": [],
   "source": [
    "from sklearn.cluster import AgglomerativeClustering\n",
    "d = [[x,y,z] for x,y,z in zip(Xn,Yn,Zn)]\n",
    "number_clusters = 20\n",
    "agg = AgglomerativeClustering(n_clusters=number_clusters,linkage='average')\n",
    "result = agg.fit_predict(d)\n",
    "\n",
    "# Generating 'n' different colors. One for each cluster.\n",
    "import random\n",
    "colors = [\"#%06x\" % random.randint(0, 0xFFFFFF) for i in range(number_clusters)]\n",
    "color_each_node = [colors[i] for i in result]"
   ]
  },
  {
   "cell_type": "code",
   "execution_count": 22,
   "metadata": {},
   "outputs": [],
   "source": [
    "# For Edges\n",
    "trace1=go.Scatter3d(x=Xe,\n",
    "               y=Ye,\n",
    "               z=Ze,\n",
    "               mode='lines',\n",
    "               line=dict(color='rgb(125,125,125)', width=1),\n",
    "               hoverinfo='text'\n",
    "               )\n",
    "\n",
    "# For Nodes\n",
    "trace2=go.Scatter3d(x=Xn,\n",
    "               y=Yn,\n",
    "               z=Zn,\n",
    "               mode='markers',\n",
    "               name='actors',\n",
    "               marker=dict(symbol='circle',\n",
    "                             size=6,\n",
    "                             color=color_each_node, # Every node is given a different color\n",
    "                             colorscale='Viridis',\n",
    "                             line=dict(color='rgb(50,50,50)', width=0.5)\n",
    "                             ),\n",
    "               text=labels,\n",
    "               hoverinfo='text'\n",
    "               )\n",
    "\n",
    "axis=dict(showbackground=False,\n",
    "          showline=False,\n",
    "          zeroline=False,\n",
    "          showgrid=False,\n",
    "          showticklabels=False,\n",
    "          title=''\n",
    "          )"
   ]
  },
  {
   "cell_type": "code",
   "execution_count": 23,
   "metadata": {},
   "outputs": [],
   "source": [
    "layout = go.Layout(\n",
    "            title=\"Product MST\",\n",
    "            width=1000,\n",
    "            height=1000,\n",
    "            showlegend=False,\n",
    "            scene=dict(\n",
    "                    xaxis=dict(axis),\n",
    "                    yaxis=dict(axis),\n",
    "                    zaxis=dict(axis),\n",
    "                        ),\n",
    "            margin=dict(t=100),\n",
    "            hovermode='closest',\n",
    "            annotations=[\n",
    "                   dict(\n",
    "                    showarrow=False,\n",
    "                    text=\"Data source: Pair-wise Distance Matrix\",\n",
    "                    xref='paper',\n",
    "                    yref='paper',\n",
    "                    x=0,\n",
    "                    y=0.1,\n",
    "                    xanchor='left',\n",
    "                    yanchor='bottom',\n",
    "                    font=dict(size=14)\n",
    "                        )\n",
    "                        ],    \n",
    "                    )"
   ]
  },
  {
   "cell_type": "code",
   "execution_count": 24,
   "metadata": {},
   "outputs": [
    {
     "data": {
      "text/plain": [
       "'file:///Users/theinfamouswayne/Python Notebooks/product_plotly.html'"
      ]
     },
     "execution_count": 24,
     "metadata": {},
     "output_type": "execute_result"
    }
   ],
   "source": [
    "data=[trace1, trace2]\n",
    "fig=go.Figure(data=data, layout=layout)\n",
    "plot(fig, filename='./product_plotly.html', auto_open=True, show_link=False)"
   ]
  },
  {
   "cell_type": "markdown",
   "metadata": {},
   "source": [
    "## Comparing Trend of Similar Products"
   ]
  },
  {
   "cell_type": "code",
   "execution_count": 25,
   "metadata": {},
   "outputs": [],
   "source": [
    "df_qpd = df.groupby(['Date','productName']).agg(fn.sum('productQuantity').alias('Total')).orderBy('Date').toPandas() "
   ]
  },
  {
   "cell_type": "code",
   "execution_count": 26,
   "metadata": {},
   "outputs": [],
   "source": [
    "p1 = df_qpd[df_qpd['productName']==u\"CREME FRAICHE 34%\"]\n",
    "p2 = df_qpd[df_qpd['productName']==u\"MELLANMJÖLK\"]\n",
    "p3 = df_qpd[df_qpd['productName']==u\"SMÖR NORMALSALTAT\"]"
   ]
  },
  {
   "cell_type": "code",
   "execution_count": 27,
   "metadata": {},
   "outputs": [],
   "source": [
    "name = u\"CREME FRAICHE 34%\"\n",
    "trace_p1 = go.Scatter(\n",
    "                x=p1.Date,\n",
    "                y=p1.Total,\n",
    "                name = name.encode('utf-8'),\n",
    "                line = dict(color = '#17BECF'),\n",
    "                opacity = 0.8)\n",
    "\n",
    "name = u\"MELLANMJÖLK\"\n",
    "trace_p2 = go.Scatter(\n",
    "                x=p2.Date,\n",
    "                y=p2.Total,\n",
    "                name = name.encode('utf-8'),\n",
    "                line = dict(color = '#7F7F7F'),\n",
    "                opacity = 0.8)\n",
    "\n",
    "name = u\"SMÖR NORMALSALTAT\"\n",
    "trace_p3 = go.Scatter(\n",
    "                x=p3.Date,\n",
    "                y=p3.Total,\n",
    "                name = name.encode('utf-8'),\n",
    "                line = dict(color = '#BBCCDD'),\n",
    "                opacity = 0.8)"
   ]
  },
  {
   "cell_type": "code",
   "execution_count": 28,
   "metadata": {},
   "outputs": [],
   "source": [
    "layout = dict(\n",
    "    title='Time Series with Rangeslider',\n",
    "    xaxis=dict(\n",
    "        rangeselector=dict(\n",
    "            buttons=list([\n",
    "                dict(count=1,\n",
    "                     label='1m',\n",
    "                     step='month',\n",
    "                     stepmode='backward'),\n",
    "                dict(count=6,\n",
    "                     label='6m',\n",
    "                     step='month',\n",
    "                     stepmode='backward'),\n",
    "                dict(step='all')\n",
    "            ])\n",
    "        ),\n",
    "        rangeslider=dict(\n",
    "            visible = True\n",
    "        ),\n",
    "        type='date'\n",
    "    )\n",
    ")"
   ]
  },
  {
   "cell_type": "code",
   "execution_count": 29,
   "metadata": {},
   "outputs": [
    {
     "data": {
      "text/plain": [
       "'file:///Users/theinfamouswayne/Python Notebooks/range_slider.html'"
      ]
     },
     "execution_count": 29,
     "metadata": {},
     "output_type": "execute_result"
    }
   ],
   "source": [
    "data = [trace_p1, trace_p2, trace_p3]\n",
    "fig = dict(data=data, layout=layout)\n",
    "plot(fig, filename='./range_slider.html', auto_open=True, show_link=False)"
   ]
  },
  {
   "cell_type": "code",
   "execution_count": null,
   "metadata": {},
   "outputs": [],
   "source": []
  },
  {
   "cell_type": "code",
   "execution_count": null,
   "metadata": {},
   "outputs": [],
   "source": []
  },
  {
   "cell_type": "code",
   "execution_count": null,
   "metadata": {},
   "outputs": [],
   "source": []
  }
 ],
 "metadata": {
  "kernelspec": {
   "display_name": "Python 3",
   "language": "python",
   "name": "python3"
  },
  "language_info": {
   "codemirror_mode": {
    "name": "ipython",
    "version": 3
   },
   "file_extension": ".py",
   "mimetype": "text/x-python",
   "name": "python",
   "nbconvert_exporter": "python",
   "pygments_lexer": "ipython3",
   "version": "3.6.8"
  },
  "widgets": {
   "application/vnd.jupyter.widget-state+json": {
    "state": {},
    "version_major": 2,
    "version_minor": 0
   }
  }
 },
 "nbformat": 4,
 "nbformat_minor": 2
}
