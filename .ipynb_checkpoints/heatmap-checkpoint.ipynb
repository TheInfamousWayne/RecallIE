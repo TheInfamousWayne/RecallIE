{
 "cells": [
  {
   "cell_type": "markdown",
   "metadata": {},
   "source": [
    "### Importing the Libraries"
   ]
  },
  {
   "cell_type": "code",
   "execution_count": 1,
   "metadata": {
    "ExecuteTime": {
     "end_time": "2019-03-07T15:40:33.388609Z",
     "start_time": "2019-03-07T15:40:31.980152Z"
    }
   },
   "outputs": [],
   "source": [
    "import pandas as pd\n",
    "import numpy as np\n",
    "import os\n",
    "import wikipedia\n",
    "import requests\n",
    "from threading import Lock\n",
    "import re\n",
    "import seaborn as sns\n",
    "import matplotlib.pyplot as plt\n",
    "from prettytable import PrettyTable"
   ]
  },
  {
   "cell_type": "markdown",
   "metadata": {},
   "source": [
    "### Utility Classes & Functions"
   ]
  },
  {
   "cell_type": "code",
   "execution_count": 5,
   "metadata": {
    "ExecuteTime": {
     "end_time": "2019-03-07T15:40:47.598579Z",
     "start_time": "2019-03-07T15:40:47.544761Z"
    },
    "code_folding": [
     0
    ]
   },
   "outputs": [],
   "source": [
    "# %load links/utils.py\n",
    "QUERY_DICT = {'Organization Founded By^-1':[\"\"\"SELECT ?item ?itemLabel WHERE {\n",
    "                                          ?item wdt:P112 wd:%s.\n",
    "                                          SERVICE wikibase:label { bd:serviceParam wikibase:language \"[AUTO_LANGUAGE],en\". }\n",
    "                                        }\"\"\"\n",
    "                                           ],\n",
    "              'Organization Founded By':[\"\"\"SELECT ?item ?itemLabel WHERE {\n",
    "                                          wd:%s wdt:P112 ?item.\n",
    "                                          SERVICE wikibase:label { bd:serviceParam wikibase:language \"[AUTO_LANGUAGE],en\". }\n",
    "                                        }\"\"\"\n",
    "                                        ],\n",
    "              'Organization Headquarters':[\"\"\"SELECT ?item ?itemLabel WHERE {\n",
    "                                          wd:%s wdt:P159 ?item.\n",
    "                                          SERVICE wikibase:label { bd:serviceParam wikibase:language \"[AUTO_LANGUAGE],en\". }\n",
    "                                        }\"\"\"\n",
    "                                          ],\n",
    "              'Organization Subsidiary Of^-1':[\"\"\"SELECT ?item ?itemLabel WHERE {\n",
    "                                          wd:%s wdt:P355 ?item.\n",
    "                                          SERVICE wikibase:label { bd:serviceParam wikibase:language \"[AUTO_LANGUAGE],en\". }\n",
    "                                        }\"\"\"\n",
    "                                              ],\n",
    "              'Organization Subsidiary Of':[\"\"\"SELECT ?item ?itemLabel WHERE {\n",
    "                                          ?item wdt:P355 wd:%s.\n",
    "                                          SERVICE wikibase:label { bd:serviceParam wikibase:language \"[AUTO_LANGUAGE],en\". }\n",
    "                                        }\"\"\"\n",
    "                                           ],\n",
    "              'Organization top employees':[\"\"\"SELECT ?item ?itemLabel WHERE {\n",
    "                                          wd:%s wdt:P169 ?item.\n",
    "                                          SERVICE wikibase:label { bd:serviceParam wikibase:language \"[AUTO_LANGUAGE],en\". }\n",
    "                                        }\"\"\", # CEO\n",
    "                                            \"\"\"SELECT ?item ?itemLabel WHERE {\n",
    "                                          wd:%s wdt:P488 ?item.\n",
    "                                          SERVICE wikibase:label { bd:serviceParam wikibase:language \"[AUTO_LANGUAGE],en\". }\n",
    "                                        }\"\"\" # Chairperson\n",
    "                                            ],\n",
    "              'Person Employee or Member of^-1':[\"\"\"SELECT ?item ?itemLabel WHERE {\n",
    "                                          ?item wdt:P108 wd:%s.\n",
    "                                          SERVICE wikibase:label { bd:serviceParam wikibase:language \"[AUTO_LANGUAGE],en\". }\n",
    "                                        }\"\"\",\n",
    "                                            \"\"\"SELECT ?item ?itemLabel WHERE {\n",
    "                                          wd:%s wdt:P527 ?item.\n",
    "                                          SERVICE wikibase:label { bd:serviceParam wikibase:language \"[AUTO_LANGUAGE],en\". }\n",
    "                                        }\"\"\" \n",
    "                                                ],\n",
    "              'Person Employee or Member of':[\"\"\"SELECT ?item ?itemLabel WHERE {\n",
    "                                              wd:%s wdt:P108 ?item.\n",
    "                                              SERVICE wikibase:label { bd:serviceParam wikibase:language \"[AUTO_LANGUAGE],en\". }\n",
    "                                            }\"\"\",\n",
    "                                              \"\"\"SELECT ?item ?itemLabel WHERE {\n",
    "                                              wd:%s wdt:P463 ?item.\n",
    "                                              SERVICE wikibase:label { bd:serviceParam wikibase:language \"[AUTO_LANGUAGE],en\". }\n",
    "                                            }\"\"\"## member of ---> Band Members\n",
    "                                            ],\n",
    "              'Person Place of Birth':[\"\"\"SELECT ?item ?itemLabel WHERE {\n",
    "                                              wd:%s wdt:P19 ?item.\n",
    "                                              SERVICE wikibase:label { bd:serviceParam wikibase:language \"[AUTO_LANGUAGE],en\". }\n",
    "                                            }\"\"\"\n",
    "                                      ],\n",
    "              'Person Current and Past Location of Residence':[\"\"\"SELECT ?item ?itemLabel WHERE {\n",
    "                                              wd:%s wdt:P551 ?item.\n",
    "                                              SERVICE wikibase:label { bd:serviceParam wikibase:language \"[AUTO_LANGUAGE],en\". }\n",
    "                                            }\"\"\"\n",
    "                                                              ],\n",
    "              'Person Parents':[\"\"\"SELECT ?item ?itemLabel WHERE {\n",
    "                                              wd:%s wdt:P22 ?item.\n",
    "                                              SERVICE wikibase:label { bd:serviceParam wikibase:language \"[AUTO_LANGUAGE],en\". }\n",
    "                                            }\"\"\", #Father\n",
    "                                \"\"\"SELECT ?item ?itemLabel WHERE {\n",
    "                                              wd:%s wdt:P25 ?item.\n",
    "                                              SERVICE wikibase:label { bd:serviceParam wikibase:language \"[AUTO_LANGUAGE],en\". }\n",
    "                                            }\"\"\", #Mother\n",
    "                                \"\"\"SELECT ?item ?itemLabel WHERE {\n",
    "                                              wd:%s wdt:P1038 ?item.\n",
    "                                              SERVICE wikibase:label { bd:serviceParam wikibase:language \"[AUTO_LANGUAGE],en\". }\n",
    "                                            }\"\"\" #Relative (Adopted Parents?)\n",
    "                                # Shall we include stepparents??\n",
    "                               ],\n",
    "              'Person Parents^-1':[\"\"\"SELECT ?item ?itemLabel WHERE {\n",
    "                                              wd:%s wdt:P40 ?item.\n",
    "                                              SERVICE wikibase:label { bd:serviceParam wikibase:language \"[AUTO_LANGUAGE],en\". }\n",
    "                                            }\"\"\"\n",
    "                                  ],\n",
    "              'Person Siblings':[\"\"\"SELECT ?item ?itemLabel WHERE {\n",
    "                                              wd:%s wdt:P3373 ?item.\n",
    "                                              SERVICE wikibase:label { bd:serviceParam wikibase:language \"[AUTO_LANGUAGE],en\". }\n",
    "                                            }\"\"\"\n",
    "                                ],\n",
    "              'Person Spouse':[\"\"\"SELECT ?item ?itemLabel WHERE {\n",
    "                                              wd:%s wdt:P26 ?item.\n",
    "                                              SERVICE wikibase:label { bd:serviceParam wikibase:language \"[AUTO_LANGUAGE],en\". }\n",
    "                                            }\"\"\"\n",
    "                              ],\n",
    "              'Citizen of':[\"\"\"SELECT ?item ?itemLabel WHERE {\n",
    "                                              wd:%s wdt:P27 ?item.\n",
    "                                              SERVICE wikibase:label { bd:serviceParam wikibase:language \"[AUTO_LANGUAGE],en\". }\n",
    "                                            }\"\"\"\n",
    "                           ],\n",
    "              'Educated at':[\"\"\"SELECT ?item ?itemLabel WHERE {\n",
    "                                              wd:%s wdt:P69 ?item.\n",
    "                                              SERVICE wikibase:label { bd:serviceParam wikibase:language \"[AUTO_LANGUAGE],en\". }\n",
    "                                            }\"\"\"\n",
    "                            ]\n",
    "             }\n",
    "\n",
    "\n",
    "\n",
    "\n",
    "from SPARQLWrapper import SPARQLWrapper, JSON   \n",
    "from rosette.api import API, DocumentParameters, RosetteException\n",
    "import pandas as pd\n",
    "import wikipedia\n",
    "import requests\n",
    "import numpy as np\n",
    "import pickle\n",
    "import random\n",
    "from threading import Lock\n",
    "import os, sys\n",
    "import threading\n",
    "from threading import Thread\n",
    "import time\n",
    "import queue\n",
    "\n",
    "class Utils:\n",
    "    \n",
    "    def __init__(self):\n",
    "        self.id_dict = {}\n",
    "        self.lock = Lock()\n",
    "        self.load_dict()\n",
    "        \n",
    "    \n",
    "    def __del__(self):\n",
    "        self.save_dict()\n",
    "\n",
    "    def get_id(self, message, dict_to_use=None):\n",
    "#         if dict_to_use:\n",
    "#             dict_to_use = dict_to_use\n",
    "#         else:\n",
    "#             global id_dict\n",
    "#             dict_to_use = id_dict\n",
    "    \n",
    "        if message in self.id_dict:\n",
    "            return self.id_dict[message]\n",
    "        else:\n",
    "            API_ENDPOINT = \"https://www.wikidata.org/w/api.php\"\n",
    "            query = message\n",
    "            params = {\n",
    "                'action': 'wbsearchentities',\n",
    "                'format': 'json',\n",
    "                'language': 'en',\n",
    "                'search': query\n",
    "            }\n",
    "            r = requests.get(API_ENDPOINT, params = params)\n",
    "            try:\n",
    "                with self.lock:\n",
    "                    self.id_dict[message] = r.json()['search'][0]['id']\n",
    "                return self.id_dict[message]\n",
    "            except Exception:\n",
    "                return -1 #The id doesn't exist\n",
    "\n",
    "\n",
    "    def id_to_name(self, eid):\n",
    "#         if dict_to_use:\n",
    "#             dict_to_use = dict_to_use\n",
    "#         else:\n",
    "#             global id_dict\n",
    "#             dict_to_use = id_dict\n",
    "\n",
    "        if eid in self.id_dict.values():\n",
    "            return [key for key, value in self.id_dict.items() if value == eid][0]\n",
    "        else:\n",
    "            API_ENDPOINT = \"https://www.wikidata.org/w/api.php\"\n",
    "            query = eid\n",
    "            params = {\n",
    "                'action': 'wbsearchentities',\n",
    "                'format': 'json',\n",
    "                'language': 'en',\n",
    "                'search': query\n",
    "            }\n",
    "            r = requests.get(API_ENDPOINT, params = params)\n",
    "            try:\n",
    "                with self.lock:\n",
    "                    self.id_dict[ r.json()['search'][0]['label'] ] = r.json()['search'][0]['id']\n",
    "                return r.json()['search'][0]['label']\n",
    "            except Exception:\n",
    "                return -1 #The id doesn't exist\n",
    "\n",
    "\n",
    "    def get_results(self, query, value, endpoint_url=\"https://query.wikidata.org/sparql\"):\n",
    "        sparql = SPARQLWrapper(endpoint_url)\n",
    "        sparql.setQuery(query%value)\n",
    "        sparql.setReturnFormat(JSON)\n",
    "        return sparql.query().convert()\n",
    "\n",
    "\n",
    "    def ground_truth(self, relation, subject, debug=False):\n",
    "        global QUERY_DICT\n",
    "        results = []\n",
    "        gt = []\n",
    "        try:\n",
    "            results = [self.get_results(query, self.get_id(subject)) for query in QUERY_DICT[relation]]\n",
    "            for result in results:\n",
    "                for r in result[\"results\"][\"bindings\"]:\n",
    "                    gt.append(r['itemLabel']['value'])\n",
    "        except:\n",
    "            if debug:\n",
    "                print (relation, subject)\n",
    "        return gt\n",
    "\n",
    "    def add_ground_truth(self, df, debug=False):\n",
    "        if df.empty:\n",
    "            return df\n",
    "        if debug:\n",
    "            print (df)\n",
    "        df = df.reset_index()\n",
    "        df['Pseudo Ground Truth'] = df.apply(lambda row: self.ground_truth(row['Relationship'], row['Subject']), axis=1)\n",
    "        df['Count_PGT'] = df['Pseudo Ground Truth'].apply(lambda x: len(x))\n",
    "        df = df.set_index(['Subject','Relationship'])\n",
    "        return df\n",
    "\n",
    "    def add_recall_score(self, df):\n",
    "        df['Recall Prediction'] = np.random.randint(0, 100, df.shape[0])/100\n",
    "        return df\n",
    "\n",
    "\n",
    "    def load_dict(self):\n",
    "        try:\n",
    "            with open('data/dumps/id_dict.pkl', 'rb') as fp:\n",
    "                self.id_dict = pickle.load(fp)\n",
    "        except:\n",
    "            print (\"Creating a new Dictionary\")\n",
    "            self.id_dict = {}\n",
    "\n",
    "\n",
    "    def save_dict(self):\n",
    "        with self.lock:\n",
    "            old_dict = self.get_dict()\n",
    "            self.id_dict = {**self.id_dict, **old_dict}\n",
    "            with open('data/dumps/id_dict.pkl', 'wb') as fp:\n",
    "                pickle.dump(self.id_dict, fp, protocol=pickle.HIGHEST_PROTOCOL)\n",
    "                print(\"Saved\")\n",
    "\n",
    "\n",
    "    def get_dict(self):\n",
    "        di = {}\n",
    "        with open('data/dumps/id_dict.pkl', 'rb') as fp:\n",
    "            di = pickle.load(fp)\n",
    "        return di\n",
    "\n",
    "\n",
    "    def Analyse(self, message, alt_url='https://api.rosette.com/rest/v1/'):\n",
    "        \"\"\" Run the example \"\"\"\n",
    "        # Create an API instance\n",
    "        api = API(user_key=\"89350904c7392a44f0f9019563be727a\", service_url=alt_url)\n",
    "\n",
    "        # Set selected API options.\n",
    "        # For more information on the functionality of these\n",
    "        # and other available options, see Rosette Features & Functions\n",
    "        # https://developer.rosette.com/features-and-functions#morphological-analysis-introduction\n",
    "\n",
    "        # api.set_option('modelType','perceptron') #Valid for Chinese and Japanese only\n",
    "\n",
    "        # Opening the ID Dictionary\n",
    "#         load_dict()\n",
    "        ### Will Close after Analysis of the document is completed\n",
    "\n",
    "        params = DocumentParameters()\n",
    "        relationships_text_data = wikipedia.page(message).content[:20000]\n",
    "        params[\"content\"] = relationships_text_data\n",
    "        rel = []\n",
    "        message_id = self.get_id(message)\n",
    "        message_split = message.split(\" \")\n",
    "        try:\n",
    "            RESULT = api.relationships(params)\n",
    "            #print(RESULT)\n",
    "            for r in RESULT['relationships']:\n",
    "                arg2_split = r['arg2'].split(\" \")\n",
    "                confidence = '?'\n",
    "                if \"confidence\" in r:\n",
    "                    confidence = str(round(r[\"confidence\"],2))\n",
    "                if any(s in arg2_split for s in message_split):\n",
    "                    if self.get_id(r['arg2']) == message_id:\n",
    "                        rel.append({'Relationship':r['predicate']+'^-1', 'Subject':r['arg2'], 'Object':r['arg1'], 'Confidence': confidence})\n",
    "                rel.append({'Relationship':r['predicate'],'Subject':r['arg1'],'Object':r['arg2'], 'Confidence': confidence})\n",
    "\n",
    "            ## Closing the ID Dict\n",
    "            self.save_dict()\n",
    "            ##\n",
    "            return rel, message_id\n",
    "        except RosetteException as exception:\n",
    "            print(exception)\n",
    "\n",
    "\n",
    "class HeatMaps(Thread):\n",
    "    def __init__(self, lock, relation='Educated at', eid=None, name=None, rel_dict={}):\n",
    "        Thread.__init__(self)\n",
    "        self.q1 = queue.Queue()\n",
    "        self.q2 = queue.Queue()\n",
    "        self.u = Utils()\n",
    "        self.lock = lock\n",
    "        self.rel_dict = rel_dict\n",
    "        self.eid = eid\n",
    "        self.message = name\n",
    "        self.error = None\n",
    "        self.relation = relation\n",
    "        self.inverse = True if \"^-1\" in relation else False\n",
    "        if name:\n",
    "            self.eid = self.u.get_id(name)\n",
    "        else:\n",
    "            self.message = self.u.id_to_name(eid)\n",
    "        self.start()\n",
    "        \n",
    "        \n",
    "    def run(self):\n",
    "        if self.eid not in self.rel_dict:\n",
    "            a = Thread(target = self.Analyse, args = ())\n",
    "            b = Thread(target = self.ground_truth, args = ())\n",
    "            a.start()\n",
    "            b.start()\n",
    "            a.join()\n",
    "            b.join()\n",
    "        self.matrix_block()\n",
    "\n",
    "\n",
    "    def Analyse(self):\n",
    "        \"\"\" Run the example \"\"\"\n",
    "        # Create an API instance\n",
    "        api = API(user_key=\"89350904c7392a44f0f9019563be727a\", service_url='https://api.rosette.com/rest/v1/')\n",
    "#         u = Utils()\n",
    "        params = DocumentParameters()\n",
    "        relationships_text_data = []\n",
    "        \n",
    "        while True:\n",
    "            try:\n",
    "                relationships_text_data = wikipedia.page(self.message).content[:20000]\n",
    "                break\n",
    "            except wikipedia.DisambiguationError as e:\n",
    "                print(self.eid, self.message)\n",
    "                nameclash = True\n",
    "                for n in e.options:\n",
    "                    if self.u.get_id(n) == self.eid:\n",
    "                        if n == self.message:\n",
    "                            pass\n",
    "                        else:\n",
    "                            self.message = n\n",
    "                            nameclash = False\n",
    "                            break\n",
    "                if nameclash:\n",
    "                    self.message = \" \"\n",
    "            except wikipedia.exceptions.PageError as e:\n",
    "                self.error = self.u.id_to_name(self.eid) + \" \" + str(e)\n",
    "                print (self.error)\n",
    "                break\n",
    "            \n",
    "        params[\"content\"] = relationships_text_data\n",
    "        rel = []\n",
    "        message_id = self.u.get_id(self.message)\n",
    "        message_split = self.message.split(\" \")\n",
    "        pred_list = []\n",
    "        try:\n",
    "            RESULT = []\n",
    "            with self.lock:\n",
    "                RESULT = api.relationships(params)\n",
    "            \n",
    "            args = ['arg1','arg2']\n",
    "            arg_to_split = 'arg2' if self.inverse else 'arg1'\n",
    "            args.remove(arg_to_split)\n",
    "            other_arg = args[0]\n",
    "            rel_to_compare = self.relation.split(\"^-1\")[0]\n",
    "                \n",
    "            for r in RESULT['relationships']:\n",
    "                if r['predicate'] == rel_to_compare:\n",
    "                    arg_split = r[arg_to_split].split(\" \") # Subject Split \n",
    "                    if any(s in arg_split for s in message_split): # Searching for alias names\n",
    "                        if self.u.get_id(r[arg_to_split]) == message_id:\n",
    "                            pred_list.append(r[other_arg])\n",
    "                            \n",
    "            self.q1.put(set(pred_list))\n",
    "        except RosetteException as exception:\n",
    "            print(exception)\n",
    "            self.q1.put(set(pred_list))\n",
    "\n",
    "\n",
    "    def ground_truth(self):\n",
    "#         u = Utils()\n",
    "        \n",
    "        pgt = set(self.u.ground_truth(self.relation, self.message))\n",
    "        self.q2.put(pgt)\n",
    "    \n",
    "    \n",
    "    def matrix_block(self):\n",
    "        if self.eid in self.rel_dict:\n",
    "            self.pgt = self.rel_dict[self.eid]['PGT']\n",
    "            self.extracted = self.rel_dict[self.eid]['Extracted']\n",
    "            self.contained = self.rel_dict[self.eid]['Contained']\n",
    "        else:\n",
    "            q1 = self.q1.get() # Extracted from API\n",
    "            q2 = self.q2.get() # PGT\n",
    "            #print(self.message, q1)\n",
    "            #print(self.message, q2)\n",
    "            self.pgt = len(q2)\n",
    "            self.extracted = len(q1)\n",
    "            q1 = [self.u.get_id(i) for i in q1]\n",
    "            q2 = [self.u.get_id(i) for i in q2]\n",
    "            #print(self.message, q1)\n",
    "            #print(self.message, q2)\n",
    "            count = 0\n",
    "            for i in q1:\n",
    "                if i in q2:\n",
    "                    count += 1\n",
    "            self.contained = count\n",
    "\n",
    "    def get_values(self):\n",
    "        if self.error:\n",
    "            raise Exception(self.error)\n",
    "        return [self.eid, self.message, self.extracted, self.contained, self.pgt]\n",
    "    \n",
    "    \n",
    "    \n",
    "    \n",
    "class Distribution(Thread):\n",
    "    def __init__(self, eid=None, name=None, lock=None, rel_dict={}):\n",
    "        Thread.__init__(self)\n",
    "        self.doc_len = None\n",
    "        self.u = Utils()\n",
    "        self.eid = eid\n",
    "        self.message = name\n",
    "        self.error = None\n",
    "        if name:\n",
    "            self.eid = self.u.get_id(name)\n",
    "        else:\n",
    "            self.message = self.u.id_to_name(eid)\n",
    "        if eid in rel_dict:\n",
    "            self.doc_len = rel_dict[eid]['Doc_Length']\n",
    "            return\n",
    "        self.start()\n",
    "    \n",
    "    def run(self):\n",
    "        while True:\n",
    "            try:\n",
    "                document = wikipedia.page(self.message).content\n",
    "                self.doc_len = len(document)\n",
    "                break\n",
    "            except wikipedia.DisambiguationError as e:\n",
    "                print(self.eid, self.message)\n",
    "                nameclash = True\n",
    "                for n in e.options:\n",
    "                    if self.u.get_id(n) == self.eid:\n",
    "                        if n == self.message:\n",
    "                            pass\n",
    "                        else:\n",
    "                            self.message = n\n",
    "                            nameclash = False\n",
    "                            break\n",
    "                if nameclash:\n",
    "                    self.message = \" \"\n",
    "            except wikipedia.exceptions.PageError as e:\n",
    "                self.error = self.u.id_to_name(self.eid) + \" \" + str(e)\n",
    "                print (self.error)\n",
    "                break\n",
    "    \n",
    "    def get_values(self):\n",
    "        if self.error:\n",
    "            raise Exception(self.error)\n",
    "        return [self.eid, self.message, self.doc_len]"
   ]
  },
  {
   "cell_type": "code",
   "execution_count": 6,
   "metadata": {
    "ExecuteTime": {
     "end_time": "2019-03-07T15:40:49.985632Z",
     "start_time": "2019-03-07T15:40:49.980644Z"
    }
   },
   "outputs": [],
   "source": [
    "def load_rel_dict(relation):\n",
    "    path = 'data/dumps/' + str(relation) + '.pkl'\n",
    "    relation_dict = {}\n",
    "    try:\n",
    "        with open(path, 'rb') as fp:\n",
    "            relation_dict = pickle.load(fp)\n",
    "    except:\n",
    "        print (\"Creating a new Dictionary\")\n",
    "        relation_dict = {}\n",
    "    return relation_dict\n",
    "        \n",
    "    \n",
    "def save_rel_dict(relation, rel_dict):\n",
    "    path = 'data/dumps/' + str(relation) + '.pkl'\n",
    "    with open(path, 'wb') as fp:\n",
    "        pickle.dump(rel_dict, fp, protocol=pickle.HIGHEST_PROTOCOL)\n",
    "        print(\"Done!\")\n",
    "        \n",
    "\n",
    "def rel_dict_to_df(relation):\n",
    "    rel_dict = load_rel_dict(relation)\n",
    "    df = pd.DataFrame.from_dict(rel_dict, orient='index')\n",
    "    #print(df)\n",
    "    return df"
   ]
  },
  {
   "cell_type": "markdown",
   "metadata": {},
   "source": [
    "### Loading the Data"
   ]
  },
  {
   "cell_type": "code",
   "execution_count": 7,
   "metadata": {
    "ExecuteTime": {
     "end_time": "2019-03-07T15:40:50.795562Z",
     "start_time": "2019-03-07T15:40:50.790605Z"
    },
    "scrolled": true
   },
   "outputs": [],
   "source": [
    "data = \"\"\n",
    "with open(b'data/has_member_entity.ser') as fp:\n",
    "    data = fp.read()\n",
    "regex = '([Q][0-9]+)' # Regular Expression for the Entity IDs\n",
    "ids = re.findall(regex, data)"
   ]
  },
  {
   "cell_type": "code",
   "execution_count": 8,
   "metadata": {
    "ExecuteTime": {
     "end_time": "2019-03-07T15:40:52.349139Z",
     "start_time": "2019-03-07T15:40:52.341158Z"
    }
   },
   "outputs": [
    {
     "data": {
      "text/plain": [
       "1000"
      ]
     },
     "execution_count": 8,
     "metadata": {},
     "output_type": "execute_result"
    }
   ],
   "source": [
    "len(ids)"
   ]
  },
  {
   "cell_type": "markdown",
   "metadata": {},
   "source": [
    "### Sampling the Wiki Pages by popularity"
   ]
  },
  {
   "cell_type": "code",
   "execution_count": null,
   "metadata": {
    "ExecuteTime": {
     "end_time": "2019-03-07T13:31:31.244896Z",
     "start_time": "2019-03-07T13:24:41.119516Z"
    }
   },
   "outputs": [],
   "source": [
    "n = 1000\n",
    "relation = 'Doc_Length_BandMembers' #Child\n",
    "topN_entities = ids[:n] #list(df['EntityID'][:n])\n",
    "u = Utils()\n",
    "\n",
    "### Creating threads for each Entity\n",
    "threads = []\n",
    "rel_dict = load_rel_dict(relation)\n",
    "for i in topN_entities:\n",
    "    threads.append( Distribution(eid=i, rel_dict=rel_dict) )\n",
    "\n",
    "### Waiting for each thread to complete\n",
    "for t in threads:\n",
    "    try:\n",
    "        t.join()\n",
    "    except Exception as e:\n",
    "        pass\n",
    "\n",
    "\n",
    "### Filling up the HeatMap\n",
    "table = PrettyTable(['EID', 'Name', 'Doc_Length'])\n",
    "for i,t in enumerate(threads):\n",
    "    try:\n",
    "        eid, name,doc_len = t.get_values()\n",
    "        rel_dict[eid] = {'Name':name, 'Doc_Length':doc_len}\n",
    "        table.add_row([eid, name, doc_len])\n",
    "    except:\n",
    "        print(\"Not saving in Dict\", i, ids[i], u.id_to_name(ids[i]))\n",
    "\n",
    "save_rel_dict(relation, rel_dict)\n",
    "del u\n",
    "print(table)"
   ]
  },
  {
   "cell_type": "code",
   "execution_count": 9,
   "metadata": {
    "ExecuteTime": {
     "end_time": "2019-03-07T15:41:13.603990Z",
     "start_time": "2019-03-07T15:41:13.588033Z"
    }
   },
   "outputs": [],
   "source": [
    "## Finding the probability of each ----> dummy: page length\n",
    "doc_len = rel_dict_to_df('Doc_Length')\n",
    "\n",
    "sum_len = np.sum(doc_len['Doc_Length'])\n",
    "doc_len['Prob'] = doc_len['Doc_Length']/sum_len\n",
    "\n",
    "dict_prob = doc_len['Prob'].to_dict() # Probability Dictionary\n",
    "dict_length = doc_len['Doc_Length'].to_dict() # Doc_length dictionary"
   ]
  },
  {
   "cell_type": "code",
   "execution_count": null,
   "metadata": {
    "ExecuteTime": {
     "end_time": "2019-03-07T15:18:34.560074Z",
     "start_time": "2019-03-07T15:18:34.557113Z"
    }
   },
   "outputs": [],
   "source": [
    "# n = 900\n",
    "# docs_to_pass = np.random.choice(list(dict_prob.keys()), n, p=list(dict_prob.values()), replace=False)"
   ]
  },
  {
   "cell_type": "markdown",
   "metadata": {},
   "source": [
    "### Plotly Histograms"
   ]
  },
  {
   "cell_type": "code",
   "execution_count": 10,
   "metadata": {
    "ExecuteTime": {
     "end_time": "2019-03-07T15:41:31.008061Z",
     "start_time": "2019-03-07T15:41:27.531890Z"
    }
   },
   "outputs": [
    {
     "name": "stderr",
     "output_type": "stream",
     "text": [
      "C:\\Users\\Bhavya\\Anaconda3\\lib\\site-packages\\IPython\\core\\display.py:689: UserWarning:\n",
      "\n",
      "Consider using IPython.display.IFrame instead\n",
      "\n"
     ]
    },
    {
     "data": {
      "text/html": [
       "<iframe id=\"igraph\" scrolling=\"no\" style=\"border:none;\" seamless=\"seamless\" src=\"https://plot.ly/~TheInfamousWayne/21.embed\" height=\"525px\" width=\"100%\"></iframe>"
      ],
      "text/plain": [
       "<plotly.tools.PlotlyDisplay object>"
      ]
     },
     "execution_count": 10,
     "metadata": {},
     "output_type": "execute_result"
    }
   ],
   "source": [
    "import plotly\n",
    "plotly.tools.set_credentials_file(username='TheInfamousWayne', api_key='5o9cWieXjnukrtxb6sL3')\n",
    "# plotly.offline.init_notebook_mode(connected=True)\n",
    "import plotly.plotly as py\n",
    "# import plotly.plotly \n",
    "from plotly.offline import plot\n",
    "import plotly.graph_objs as go\n",
    "\n",
    "data_array = list(dict_length.values())\n",
    "hist_data = np.histogram(data_array, bins=24)\n",
    "binsize = hist_data[1][1] - hist_data[1][0]\n",
    "\n",
    "trace1 = go.Histogram(\n",
    "                        x=data_array,\n",
    "                        histnorm='',\n",
    "                        name='Histogram of Doc Length',\n",
    "                        autobinx=False,\n",
    "                        xbins=dict(\n",
    "                                    start=hist_data[1][0],\n",
    "                                    end=hist_data[1][-1],\n",
    "                                    size=binsize,\n",
    "                                    )\n",
    "                        )\n",
    "\n",
    "trace_data = [trace1]\n",
    "layout = go.Layout(\n",
    "                    bargroupgap=0.01\n",
    "                    )\n",
    "\n",
    "fig = go.Figure(data=trace_data, layout=layout)\n",
    "py.iplot(fig)#, filename='./doc_length.html', auto_open=True, show_link=False)"
   ]
  },
  {
   "cell_type": "code",
   "execution_count": 11,
   "metadata": {
    "ExecuteTime": {
     "end_time": "2019-03-07T15:41:31.016042Z",
     "start_time": "2019-03-07T15:41:31.010055Z"
    }
   },
   "outputs": [],
   "source": [
    "## Assigning bins to indivisual rows\n",
    "doc_list = list(dict_length.values())\n",
    "bins = hist_data[1]\n",
    "doc_len['BinGroup'] = list(np.digitize(doc_list,bins))"
   ]
  },
  {
   "cell_type": "code",
   "execution_count": 12,
   "metadata": {
    "ExecuteTime": {
     "end_time": "2019-03-07T15:41:31.058924Z",
     "start_time": "2019-03-07T15:41:31.019032Z"
    }
   },
   "outputs": [
    {
     "name": "stdout",
     "output_type": "stream",
     "text": [
      "479\n",
      "70\n",
      "33\n"
     ]
    }
   ],
   "source": [
    "## Generating multiple samples of different avg. page length\n",
    "setA = doc_len[doc_len['BinGroup'].isin([2,3,4])]\n",
    "setB = doc_len[doc_len['BinGroup'].isin([8,9,10])]\n",
    "setC = doc_len[doc_len['BinGroup'].isin([13,14,15,16,17,18,19,20,21,22,23,24])]\n",
    "\n",
    "sampleA = setA.sample(400)\n",
    "sampleB = setB.sample(70)\n",
    "sampleC = setC.sample(33)\n",
    "\n",
    "print(len(setA))\n",
    "print(len(setB))\n",
    "print(len(setC))"
   ]
  },
  {
   "cell_type": "markdown",
   "metadata": {
    "heading_collapsed": true
   },
   "source": [
    "### Other Graphs"
   ]
  },
  {
   "cell_type": "code",
   "execution_count": null,
   "metadata": {
    "ExecuteTime": {
     "end_time": "2019-03-07T13:35:53.465930Z",
     "start_time": "2019-03-07T13:35:53.129390Z"
    },
    "hidden": true
   },
   "outputs": [],
   "source": [
    "sns.distplot(list(dict_length.values()), hist=True, kde=False, \n",
    "             bins=12, color = 'blue',\n",
    "             hist_kws={'edgecolor':'black'})\n",
    "# Add labels\n",
    "plt.title('Document-Popularity Frequency-Distribution')\n",
    "plt.xlabel('Popularity')\n",
    "plt.ylabel('Count')"
   ]
  },
  {
   "cell_type": "code",
   "execution_count": null,
   "metadata": {
    "ExecuteTime": {
     "end_time": "2019-03-07T13:36:01.064264Z",
     "start_time": "2019-03-07T13:36:00.801306Z"
    },
    "hidden": true
   },
   "outputs": [],
   "source": [
    "from scipy.stats.kde import gaussian_kde\n",
    "from numpy import linspace\n",
    "\n",
    "data = list(dict_length.values())\n",
    "\n",
    "kde = gaussian_kde( data )\n",
    "dist_space = linspace( min(data), max(data), 100 )\n",
    "plt.plot( dist_space, kde(dist_space) )"
   ]
  },
  {
   "cell_type": "code",
   "execution_count": null,
   "metadata": {
    "ExecuteTime": {
     "end_time": "2019-03-07T13:36:05.493683Z",
     "start_time": "2019-03-07T13:36:05.251753Z"
    },
    "hidden": true
   },
   "outputs": [],
   "source": [
    "from scipy.interpolate import UnivariateSpline\n",
    "N = len(dict_length)\n",
    "n = N//10\n",
    "s = list(dict_length.values())   # generate your data sample with N elements\n",
    "p, x = np.histogram(s, bins=n) # bin it into n = N//10 bins\n",
    "x = x[:-1] + (x[1] - x[0])/2   # convert bin edges to centers\n",
    "f = UnivariateSpline(x, p, s=n)\n",
    "plt.plot(x, f(x))\n",
    "plt.show()"
   ]
  },
  {
   "cell_type": "markdown",
   "metadata": {},
   "source": [
    "### HeatMap Generation"
   ]
  },
  {
   "cell_type": "code",
   "execution_count": 19,
   "metadata": {
    "ExecuteTime": {
     "end_time": "2019-03-07T16:04:05.631804Z",
     "start_time": "2019-03-07T16:02:56.764950Z"
    },
    "scrolled": true
   },
   "outputs": [
    {
     "name": "stdout",
     "output_type": "stream",
     "text": [
      "Saved\n",
      "Saved\n",
      "Saved\n",
      "Saved\n",
      "Saved\n",
      "Saved\n",
      "Saved\n",
      "Saved\n",
      "Saved\n",
      "Saved\n",
      "Saved\n",
      "Saved\n",
      "Saved\n",
      "Saved\n",
      "Saved\n",
      "Saved\n",
      "Saved\n",
      "Saved\n",
      "Saved\n",
      "Saved\n",
      "Saved\n",
      "Saved\n",
      "Saved\n",
      "Saved\n",
      "Saved\n",
      "Saved\n",
      "Saved\n",
      "Saved\n",
      "Saved\n",
      "Saved\n",
      "Saved\n",
      "Saved\n",
      "Saved\n",
      "Saved\n",
      "Saved\n",
      "Saved\n",
      "Saved\n",
      "Saved\n",
      "Saved\n",
      "Saved\n",
      "Saved\n",
      "Saved\n",
      "Saved\n",
      "Saved\n",
      "Saved\n",
      "Saved\n",
      "Saved\n",
      "Saved\n",
      "Saved\n",
      "Saved\n",
      "Saved\n",
      "Saved\n",
      "Saved\n",
      "Saved\n",
      "Saved\n",
      "Saved\n",
      "Saved\n",
      "Saved\n",
      "Saved\n",
      "Saved\n",
      "Saved\n",
      "Saved\n",
      "Saved\n",
      "Saved\n",
      "Saved\n",
      "Saved\n",
      "Saved\n",
      "Saved\n",
      "Saved\n",
      "Saved\n",
      "Done!\n",
      "Saved\n",
      "+-----------------------+-----------+-----+-----------+\n",
      "|          Name         | Extracted | PGT | Contained |\n",
      "+-----------------------+-----------+-----+-----------+\n",
      "|    Nine Inch Nails    |     1     |  2  |     1     |\n",
      "|       The Bronx       |     0     |  1  |     0     |\n",
      "|      Sex Pistols      |     4     |  5  |     4     |\n",
      "|      The Monkees      |     2     |  4  |     0     |\n",
      "|        Megadeth       |     0     |  4  |     0     |\n",
      "|        Pendulum       |     0     |  6  |     0     |\n",
      "|       Aerosmith       |     1     |  8  |     1     |\n",
      "|         Texas         |     0     |  7  |     0     |\n",
      "|       Pink Floyd      |     0     |  7  |     0     |\n",
      "|     The Beach Boys    |     2     |  11 |     2     |\n",
      "| Red Hot Chili Peppers |     1     |  5  |     0     |\n",
      "|        Chicago        |     0     |  1  |     0     |\n",
      "|     Black Sabbath     |     0     |  4  |     0     |\n",
      "|   The Rolling Stones  |     1     |  8  |     0     |\n",
      "|         Heart         |     0     |  1  |     0     |\n",
      "|          ABBA         |     0     |  4  |     0     |\n",
      "|      The Beatles      |     3     |  5  |     0     |\n",
      "|       The Kinks       |     1     |  1  |     0     |\n",
      "|     Guns N’ Roses     |     0     |  14 |     0     |\n",
      "|       Pussy Riot      |     0     |  3  |     0     |\n",
      "|       The Byrds       |     1     |  1  |     0     |\n",
      "|        The Who        |     1     |  5  |     0     |\n",
      "|      Spice Girls      |     0     |  5  |     0     |\n",
      "|         Kansas        |     0     |  1  |     0     |\n",
      "|         Slade         |     0     |  1  |     0     |\n",
      "|          XTC          |     1     |  1  |     0     |\n",
      "|      Wu-Tang Clan     |     1     |  11 |     0     |\n",
      "|   Insane Clown Posse  |     0     |  1  |     0     |\n",
      "|         Boston        |     0     |  1  |     0     |\n",
      "|         Europe        |     0     |  7  |     0     |\n",
      "|        Bastille       |     0     |  2  |     0     |\n",
      "|    Alice in Chains    |     1     |  6  |     1     |\n",
      "|           U2          |     0     |  4  |     0     |\n",
      "+-----------------------+-----------+-----+-----------+\n"
     ]
    }
   ],
   "source": [
    "matrix_extr = np.zeros([20,20]) ## The HeatMap for all extracted Relations by Rosette\n",
    "matrix_cont = np.zeros([20,20]) ## The HeatMap for all contained (in PGT) relations\n",
    "lock = Lock() ## Shared Lock\n",
    "sample_to_pass = sampleC\n",
    "n = len(sample_to_pass)\n",
    "relation = 'Person Employee or Member of^-1' #Band Members\n",
    "# topN_entities = ids[:n]#list(df['EntityID'][:n])\n",
    "topN_entities = list(sample_to_pass.index)\n",
    "u = Utils()\n",
    "\n",
    "### Creating threads for each Entity\n",
    "threads = []\n",
    "rel_dict = load_rel_dict(relation)\n",
    "for i in topN_entities:\n",
    "    threads.append( HeatMaps(lock, eid=i, relation=relation, rel_dict=rel_dict) )\n",
    "\n",
    "### Waiting for each thread to complete\n",
    "for t in threads:\n",
    "    t.join()\n",
    "\n",
    "\n",
    "### Filling up the HeatMap\n",
    "table = PrettyTable(['Name', 'Extracted', 'PGT', 'Contained'])\n",
    "for i,t in enumerate(threads):\n",
    "    try:\n",
    "        eid, name,r_ext,r_cont,c = t.get_values()\n",
    "        rel_dict[eid] = {'EntityName':name, 'Extracted':r_ext, 'PGT':c, 'Contained':r_cont}\n",
    "        table.add_row([name,r_ext,c, r_cont])\n",
    "        matrix_cont[ r_cont, c] += 1\n",
    "        matrix_extr[ r_ext, c] += 1\n",
    "    except:\n",
    "        print(\"Not saving in Dict\", i, ids[i], u.id_to_name(ids[i]))\n",
    "\n",
    "save_rel_dict(relation, rel_dict)\n",
    "del u\n",
    "print(table)"
   ]
  },
  {
   "cell_type": "code",
   "execution_count": 20,
   "metadata": {
    "ExecuteTime": {
     "end_time": "2019-03-07T16:04:05.640194Z",
     "start_time": "2019-03-07T16:04:05.635259Z"
    }
   },
   "outputs": [],
   "source": [
    "plt.rcParams['figure.figsize'] = 20, 15"
   ]
  },
  {
   "cell_type": "code",
   "execution_count": 21,
   "metadata": {
    "ExecuteTime": {
     "end_time": "2019-03-07T16:04:12.180493Z",
     "start_time": "2019-03-07T16:04:05.642188Z"
    }
   },
   "outputs": [
    {
     "data": {
      "image/png": "[encoded data removed]",
      "text/plain": [
       "<Figure size 1440x1080 with 4 Axes>"
      ]
     },
     "metadata": {
      "needs_background": "light"
     },
     "output_type": "display_data"
    },
    {
     "name": "stderr",
     "output_type": "stream",
     "text": [
      "C:\\Users\\Bhavya\\Anaconda3\\lib\\site-packages\\ipykernel_launcher.py:18: ResourceWarning:\n",
      "\n",
      "unclosed file <_io.BufferedWriter name='data/numpy_matrices/Person Employee or Member of^-1-33-matrix_cont.dat'>\n",
      "\n",
      "C:\\Users\\Bhavya\\Anaconda3\\lib\\site-packages\\ipykernel_launcher.py:19: ResourceWarning:\n",
      "\n",
      "unclosed file <_io.BufferedWriter name='data/numpy_matrices/Person Employee or Member of^-1-33-matrix_extr.dat'>\n",
      "\n"
     ]
    }
   ],
   "source": [
    "fig, (ax1, ax2) = plt.subplots(1, 2, sharex=True, sharey=True)\n",
    "\n",
    "# Contained\n",
    "sns.heatmap(matrix_cont, ax=ax1, fmt='.0f', cmap='gist_gray_r', xticklabels = [\"\"], yticklabels = [\"\"], annot = True, cbar_kws={\"orientation\": \"horizontal\"})\n",
    "ax1.set_ylabel('Rosette')    \n",
    "ax1.set_xlabel('PGT')\n",
    "ax1.set_title('Contained(in PGT) Vs. PGT')\n",
    "\n",
    "# Extracted\n",
    "sns.heatmap(matrix_extr, ax=ax2, fmt='.0f', cmap='gist_gray_r', xticklabels = [\"\"], yticklabels = [\"\"], annot = True, cbar_kws={\"orientation\": \"horizontal\"})\n",
    "ax2.set_ylabel('Rosette')    \n",
    "ax2.set_xlabel('PGT')\n",
    "ax2.set_title('Extracted(API) Vs. PGT')\n",
    "\n",
    "plt.show()\n",
    "fig.savefig(\"data/img/{}-{}.png\".format(relation,n))\n",
    "\n",
    "matrix_cont.dump('data/numpy_matrices/{}-{}-matrix_cont.dat'.format(relation,n))\n",
    "matrix_extr.dump('data/numpy_matrices/{}-{}-matrix_extr.dat'.format(relation,n))"
   ]
  },
  {
   "cell_type": "markdown",
   "metadata": {},
   "source": [
    "### END"
   ]
  },
  {
   "cell_type": "markdown",
   "metadata": {},
   "source": [
    "#### Extras"
   ]
  },
  {
   "cell_type": "code",
   "execution_count": null,
   "metadata": {
    "ExecuteTime": {
     "end_time": "2019-03-05T18:21:45.139191Z",
     "start_time": "2019-03-05T18:21:44.198460Z"
    }
   },
   "outputs": [],
   "source": [
    "import seaborn as sns\n",
    "\n",
    "fig1 = sns.heatmap(matrix_cont, linewidth=0.5)\n",
    "fig2 = sns.heatmap(matrix_extr, linewidth=0.5)\n",
    "\n",
    "fig1.set_title('Contained(in PGT) Vs. PGT')\n",
    "fig2.set_title('Extracted(API) Vs. PGT')\n",
    "fig1.set(xlabel='PGT', ylabel='API')\n",
    "fig2.set(xlabel='PGT', ylabel='API')\n",
    "\n",
    "# fig1.get_figure().savefig(\"data/img/{}-{}-matrix_cont.png\".format(relation,n))\n",
    "# fig2.get_figure().savefig(\"data/img/{}-{}-matrix_extr.png\".format(relation,n))\n",
    "\n",
    "matrix_cont.dump('data/numpy_matrices/{}-{}-matrix_cont.dat'.format(relation,n))\n",
    "matrix_extr.dump('data/numpy_matrices/{}-{}-matrix_extr.dat'.format(relation,n))"
   ]
  },
  {
   "cell_type": "code",
   "execution_count": null,
   "metadata": {
    "ExecuteTime": {
     "end_time": "2019-03-01T11:36:12.580006Z",
     "start_time": "2019-03-01T11:36:11.989100Z"
    }
   },
   "outputs": [],
   "source": [
    "fig1.set(xlabel='PGT', ylabel='API')\n",
    "fig1.set_title('Contained(in PGT) Vs. PGT')\n",
    "fig1.get_figure()"
   ]
  },
  {
   "cell_type": "code",
   "execution_count": null,
   "metadata": {
    "ExecuteTime": {
     "end_time": "2019-03-01T11:36:13.164241Z",
     "start_time": "2019-03-01T11:36:12.583265Z"
    }
   },
   "outputs": [],
   "source": [
    "fig2.set(xlabel='PGT', ylabel='API')\n",
    "fig2.set_title('Extracted(API) Vs. PGT')\n",
    "fig2.get_figure()"
   ]
  },
  {
   "cell_type": "raw",
   "metadata": {},
   "source": [
    "Child, Educated, Spouse"
   ]
  }
 ],
 "metadata": {
  "kernelspec": {
   "display_name": "Python 3",
   "language": "python",
   "name": "python3"
  },
  "language_info": {
   "codemirror_mode": {
    "name": "ipython",
    "version": 3
   },
   "file_extension": ".py",
   "mimetype": "text/x-python",
   "name": "python",
   "nbconvert_exporter": "python",
   "pygments_lexer": "ipython3",
   "version": "3.6.8"
  }
 },
 "nbformat": 4,
 "nbformat_minor": 2
}
