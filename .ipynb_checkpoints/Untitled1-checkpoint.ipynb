{
 "cells": [
  {
   "cell_type": "code",
   "execution_count": 1,
   "metadata": {
    "ExecuteTime": {
     "end_time": "2019-04-21T23:34:00.113705Z",
     "start_time": "2019-04-21T23:33:58.114436Z"
    }
   },
   "outputs": [],
   "source": [
    "from bs4 import BeautifulSoup\n",
    "import requests\n",
    "import time\n",
    "from random import randint\n",
    "from lxml import html\n",
    "import pandas as pd\n",
    "from datetime import date\n",
    "from selenium import webdriver\n",
    "from selenium.webdriver.chrome.options import Options"
   ]
  },
  {
   "cell_type": "code",
   "execution_count": 2,
   "metadata": {
    "ExecuteTime": {
     "end_time": "2019-04-21T23:34:00.140119Z",
     "start_time": "2019-04-21T23:34:00.115752Z"
    }
   },
   "outputs": [],
   "source": [
    "from news.utils import *"
   ]
  },
  {
   "cell_type": "code",
   "execution_count": 3,
   "metadata": {
    "ExecuteTime": {
     "end_time": "2019-04-21T23:34:00.727928Z",
     "start_time": "2019-04-21T23:34:00.724936Z"
    }
   },
   "outputs": [],
   "source": [
    "# N = 100\n",
    "# u = Utils()\n",
    "queries = ['Bill Gates', 'Donald Trump', 'Ivanka', 'Angela Merkel']#, 'Brad Pitt', 'Christopher Nolan', 'Christian Bale', 'Megan Fox', 'Steve Jobs', 'Hillary Clinton', 'Gerhard Weikum']"
   ]
  },
  {
   "cell_type": "code",
   "execution_count": 9,
   "metadata": {
    "ExecuteTime": {
     "end_time": "2019-04-22T00:17:59.139975Z",
     "start_time": "2019-04-22T00:17:59.119994Z"
    },
    "code_folding": [
     46,
     53,
     64,
     70,
     106
    ]
   },
   "outputs": [],
   "source": [
    "def make_headline_dict(query):\n",
    "    ### Getting Custom Date Range ###\n",
    "    y1,m1,d1 = ('2014','01','01')\n",
    "    y2,m2,d2 = str(date.today()).split('-')\n",
    "    \n",
    "    ### Setting up API ###\n",
    "    headline_list = []\n",
    "    headline_dict = {}\n",
    "\n",
    "    options = Options()\n",
    "    options.binary_location = \"C:\\\\Program Files (x86)\\\\Google\\\\Chrome\\\\Application\\\\chrome.exe\"\n",
    "    options.add_argument('--headless')\n",
    "    options.add_argument('--window-size=1200x600')\n",
    "    options.add_argument('--no-sandbox')\n",
    "    options.add_argument('--disable-dev-shm-usage')\n",
    "    options.add_argument('--disable-gpu')\n",
    "\n",
    "    chromedriver = 'C:\\\\Users\\\\Bhavya\\\\Desktop\\\\Vaibhav\\\\chromedriver.exe'\n",
    "    r = webdriver.Chrome(executable_path=chromedriver, options=options)\n",
    "\n",
    "    ### Scraping From Google ###\n",
    "    final_date = date(int(y2),int(m2),int(d2))\n",
    "    while True:\n",
    "        dd = int(d1)\n",
    "        mm = int(m1) \n",
    "        yy = int(y1) + mm//12\n",
    "        mm = mm % 12 + 1    \n",
    "\n",
    "        temp_date = date(yy,mm,dd)   \n",
    "        if temp_date > final_date:\n",
    "            break  \n",
    "\n",
    "        r.get(\"https://www.google.com/search?q={}&hl=en-US&gl=US&source=lnt&tbs=cdr%3A1%2Ccd_min%3A{}%2F{}%2F{}%2Ccd_max%3A{}%2F{}%2F{}&tbm=nws\".format(\\\n",
    "                            query,m1,d1,y1,mm,dd,yy))\n",
    "        soup = BeautifulSoup(r.page_source, 'lxml')\n",
    "        all_headlines = soup.findAll(\"h3\")\n",
    "        for headline in all_headlines:\n",
    "            headline_list.append(headline.text)\n",
    "            headline_dict[headline.text] = headline.a['href']        \n",
    "        d1,m1,y1 = dd,mm,yy\n",
    "    \n",
    "    ### Saving the file ###\n",
    "    save_headline_dict(headline_dict)\n",
    "    \n",
    "    return headline_dict\n",
    "\n",
    "def save_headline_dict(headline_dict):\n",
    "    if len(headline_dict) > 0:\n",
    "        path = 'data/dumps/{}_headline_dict.pkl'.format(query)\n",
    "        with open(path, 'wb') as fp:\n",
    "            pickle.dump(headline_dict, fp, protocol=pickle.HIGHEST_PROTOCOL)\n",
    "            print(\"headline_dict saved!\")\n",
    "        \n",
    "def load_headline_dict(query):\n",
    "    path = 'data/dumps/{}_headline_dict.pkl'.format(query)\n",
    "    headline_dict = {}\n",
    "    try:\n",
    "        with open(path, 'rb') as fp:\n",
    "            headline_dict = pickle.load(fp)\n",
    "    except:\n",
    "        print (\"Creating a new Dictionary\")\n",
    "        headline_dict = make_headline_dict(query)\n",
    "    return headline_dict\n",
    "\n",
    "def save_useful100(useful100):\n",
    "    path = 'data/dumps/{}_useful100.pkl'.format(query)\n",
    "    with open(path, 'wb') as fp:\n",
    "        pickle.dump(useful100, fp, protocol=pickle.HIGHEST_PROTOCOL)\n",
    "        print(\"100 useful headlines for query {} is saved!\".format(query))\n",
    "        \n",
    "def load_useful100(query):\n",
    "    path = 'data/dumps/{}_useful100.pkl'.format(query)\n",
    "    try:\n",
    "        with open(path, 'rb') as fp:\n",
    "            useful100 = pickle.load(fp)\n",
    "    except:\n",
    "        print (\"No file exists. Creating a new one for {}\".format(query))\n",
    "        useful100 = make_useful100(query)\n",
    "    return useful100\n",
    "\n",
    "PERSON_RELATIONS = ['Educated at', 'Citizen of', 'Person Employee or Member of', 'Organization top employees^-1',\\\n",
    "                    'Person Current and Past Location of Residence', 'Person Parents', 'Person Parents^-1',\\\n",
    "                    'Person Place of Birth', 'Person Siblings', 'Person Spouse']\n",
    "ORG_RELATION =     ['Organization Founded By', 'Organization Collaboration', 'Organization Collaboration^-1',\\\n",
    "                    'Organization Headquarters', 'Organization Subsidiary Of', 'Organization Subsidiary Of^-1',\\\n",
    "                    'Organization top employees', 'Person Employee or Member of^-1', 'Organization Acquired By^-1',\\\n",
    "                    'Organization Acquired By', 'Organization Provider To', 'Organization Provider To^-1']\n",
    "COMMON_RELATION =  ['Organization Founded By^-1']\n",
    "\n",
    "def add_dummy(df, query):\n",
    "    rel = set(df['Relationship'])\n",
    "    isPerson = True if any(s in PERSON_RELATIONS for s in rel) else False\n",
    "    isOrg = True if any(s in ORG_RELATION for s in rel) else False\n",
    "    if isPerson:\n",
    "        dummy_rels = COMMON_RELATION + PERSON_RELATIONS\n",
    "    elif isOrg:\n",
    "        dummy_rels = COMMON_RELATION + ORG_RELATION\n",
    "    else:\n",
    "        dummy_rels = COMMON_RELATION + ORG_RELATION + PERSON_RELATIONS\n",
    "      # for r in rel:\n",
    "      #     dummy_rels.remove(r)\n",
    "    for r in dummy_rels:\n",
    "          #df = df.append({'Subject': query, 'Relationship':r, 'Object':'', 'Confidence':round(np.random.uniform(0.85,1),2)}, ignore_index=True)\n",
    "        if r not in rel:\n",
    "            df = df.append({'Subject': query, 'Relationship':r, 'Object':''}, ignore_index=True)\n",
    "    return df\n",
    "\n",
    "\n",
    "def count_confidence(main_df):\n",
    "    if (not main_df.empty):\n",
    "        main_df = main_df.sort_values('Object', ascending=True).drop_duplicates().groupby(['Subject','Relationship']).agg(lambda x: list(x))\n",
    "        main_df['Object'] = main_df['Object'].agg(lambda x: x if x != [''] else [])\n",
    "        main_df['Count'] = main_df['Object'].apply(lambda x: len(x))\n",
    "        #main_df = main_df[[c for c in main_df if c not in ['Confidence']] + ['Confidence']]\n",
    "    return main_df"
   ]
  },
  {
   "cell_type": "code",
   "execution_count": 7,
   "metadata": {
    "ExecuteTime": {
     "end_time": "2019-04-21T23:34:23.373410Z",
     "start_time": "2019-04-21T23:34:23.357451Z"
    },
    "code_folding": []
   },
   "outputs": [],
   "source": [
    "def make_web_reality(query):\n",
    "    headline_dict = load_useful100(query)\n",
    "    \n",
    "    # Shuffling and taking atleast 100 articles with some extractions\n",
    "    shuffled_list = random.sample(headline_dict.items(), len(headline_dict.items()))\n",
    "    useful100 = {}\n",
    "    lock = Lock()\n",
    "    u = Utils()\n",
    "    DFs = []\n",
    "    N = 100\n",
    "    start = 0\n",
    "\n",
    "#     try:\n",
    "#         path = \"data/dumps/web_reality-{}-{}.pkl\".format(N,query)\n",
    "#         fh = open(path, 'rb')\n",
    "#         print(\"Already exists for {}\".format(query))\n",
    "        \n",
    "#     except FileNotFoundError as e:\n",
    "    \n",
    "    ### Creating threads for each chosen link\n",
    "    pass100 = dict(shuffled_list)\n",
    "    threads = []\n",
    "    for headline,link in pass100.items():\n",
    "        threads.append( News(link=link, name=query, lock=lock, headline=headline) )\n",
    "\n",
    "    ### Waiting for each thread to complete\n",
    "    for t in threads:\n",
    "        try:\n",
    "            t.join()\n",
    "        except Exception as e:\n",
    "            pass\n",
    "\n",
    "    ### Collecting the dfs\n",
    "    for i,t in enumerate(threads):\n",
    "        headline, link, df = t.get_main_df()\n",
    "        if not df.empty:\n",
    "            DFs.append(df)\n",
    "            useful100[headline] = link\n",
    "\n",
    "    print(len(DFs))\n",
    "    \n",
    "    MERGED_DF = pd.concat(DFs, ignore_index=True)\n",
    "    MERGED_DF.loc[MERGED_DF['Confidence'] == '?','Confidence'] = MERGED_DF['Confidence'].apply(lambda x: round(np.random.uniform(0.85,1),2))\n",
    "    print(\"Did Confidence\")\n",
    "\n",
    "    # Finding Web and Reality\n",
    "    isPerson = False\n",
    "    main_df = MERGED_DF.drop('Confidence',axis=1)\n",
    "    query = set(main_df['Subject']).pop()\n",
    "    print(query)\n",
    "    main_df = main_df.groupby(['Subject','Relationship','Object']).size().to_frame('c').reset_index()\n",
    "    main_df = pd.merge(main_df, MERGED_DF)\n",
    "    main_df.Confidence = main_df.Confidence.astype(float).fillna(0.0)\n",
    "    main_df['Object'] = main_df.apply(lambda main_df: main_df['Object']+':'+str(main_df['c']), axis=1) \n",
    "    main_df = main_df.drop('c',axis=1)\n",
    "    main_df = main_df.groupby(['Subject','Relationship','Object']).mean().reset_index()\n",
    "    main_df = add_dummy(main_df, query=query)\n",
    "    main_df = count_confidence(main_df)\n",
    "    print(\"Did merge\")\n",
    "\n",
    "    ###### ADDING GROUND TRUTH ######\n",
    "    main_df = u.add_ground_truth(main_df)\n",
    "\n",
    "    ###### ADDING RECALL SCORE ######\n",
    "    main_df = u.add_recall_score(main_df)\n",
    "\n",
    "    main_df.to_pickle(\"data/dumps/web_reality-{}-{}.pkl\".format(N,query))\n",
    "\n",
    "    print(\"Done for {}\".format(query))\n"
   ]
  },
  {
   "cell_type": "code",
   "execution_count": null,
   "metadata": {
    "ExecuteTime": {
     "end_time": "2019-04-21T23:29:41.072849Z",
     "start_time": "2019-04-21T23:29:41.067829Z"
    }
   },
   "outputs": [],
   "source": [
    "len(load_headline_dict(query))"
   ]
  },
  {
   "cell_type": "code",
   "execution_count": null,
   "metadata": {
    "ExecuteTime": {
     "end_time": "2019-04-21T23:12:59.631925Z",
     "start_time": "2019-04-21T23:12:59.624945Z"
    }
   },
   "outputs": [],
   "source": [
    "len(load_useful100(query))"
   ]
  },
  {
   "cell_type": "code",
   "execution_count": 4,
   "metadata": {
    "ExecuteTime": {
     "end_time": "2019-04-21T23:34:09.048060Z",
     "start_time": "2019-04-21T23:34:09.040082Z"
    }
   },
   "outputs": [
    {
     "name": "stdout",
     "output_type": "stream",
     "text": [
      "Ivanka\n"
     ]
    }
   ],
   "source": [
    "queries = ['Bill Gates', 'Donald Trump', 'Ivanka', 'Angela Merkel', 'Brad Pitt', 'Christopher Nolan', 'Christian Bale', 'Megan Fox', 'Steve Jobs', 'Hillary Clinton', 'Gerhard Weikum']\n",
    "query = queries[2]\n",
    "print(query)\n",
    "make_headline_dict(query)\n",
    "# print(len(load_headline_dict(query)))\n",
    "# load_headline_dict(query)"
   ]
  },
  {
   "cell_type": "code",
   "execution_count": null,
   "metadata": {
    "ExecuteTime": {
     "start_time": "2019-04-21T23:30:13.732Z"
    }
   },
   "outputs": [],
   "source": [
    "make_useful100(query)"
   ]
  },
  {
   "cell_type": "code",
   "execution_count": 8,
   "metadata": {
    "ExecuteTime": {
     "end_time": "2019-04-21T23:45:56.461637Z",
     "start_time": "2019-04-21T23:34:27.316412Z"
    }
   },
   "outputs": [
    {
     "name": "stdout",
     "output_type": "stream",
     "text": [
      "No file exists. Creating a new one for Ivanka\n",
      "0 100  ----  0 613\n"
     ]
    },
    {
     "name": "stderr",
     "output_type": "stream",
     "text": [
      "C:\\Users\\Bhavya\\Anaconda3\\lib\\socket.py:657: ResourceWarning: unclosed <socket.socket fd=2296, family=AddressFamily.AF_INET6, type=SocketKind.SOCK_STREAM, proto=0, laddr=('2003:e6:9718:e700:70c1:90d5:dc6d:8418', 61184, 0, 0), raddr=('2a04:4e42:1b::323', 443, 0, 0)>\n",
      "  self._sock = None\n"
     ]
    },
    {
     "name": "stdout",
     "output_type": "stream",
     "text": [
      "Saved\n",
      "Saved\n"
     ]
    },
    {
     "name": "stderr",
     "output_type": "stream",
     "text": [
      "C:\\Users\\Bhavya\\Anaconda3\\lib\\socket.py:657: ResourceWarning: unclosed <socket.socket fd=2256, family=AddressFamily.AF_INET, type=SocketKind.SOCK_STREAM, proto=0, laddr=('192.168.100.52', 61199), raddr=('151.101.112.239', 443)>\n",
      "  self._sock = None\n"
     ]
    },
    {
     "name": "stdout",
     "output_type": "stream",
     "text": [
      "unsupportedLanguage: Language hin not supported:\n",
      "  https://api.rosette.com/rest/v1/relationships\n",
      "'NoneType' object is not iterable\n",
      "Saved\n",
      "Saved\n"
     ]
    },
    {
     "name": "stderr",
     "output_type": "stream",
     "text": [
      "C:\\Users\\Bhavya\\Anaconda3\\lib\\socket.py:657: ResourceWarning: unclosed <socket.socket fd=2564, family=AddressFamily.AF_INET, type=SocketKind.SOCK_STREAM, proto=0, laddr=('192.168.100.52', 61217), raddr=('23.197.10.39', 443)>\n",
      "  self._sock = None\n",
      "C:\\Users\\Bhavya\\Anaconda3\\lib\\socket.py:657: ResourceWarning: unclosed <socket.socket fd=2732, family=AddressFamily.AF_INET, type=SocketKind.SOCK_STREAM, proto=0, laddr=('192.168.100.52', 61226), raddr=('151.101.13.171', 443)>\n",
      "  self._sock = None\n"
     ]
    },
    {
     "name": "stdout",
     "output_type": "stream",
     "text": [
      "Saved\n",
      "Saved\n",
      "Saved\n",
      "Saved\n"
     ]
    },
    {
     "name": "stderr",
     "output_type": "stream",
     "text": [
      "C:\\Users\\Bhavya\\Anaconda3\\lib\\socket.py:657: ResourceWarning: unclosed <socket.socket fd=2592, family=AddressFamily.AF_INET, type=SocketKind.SOCK_STREAM, proto=0, laddr=('192.168.100.52', 61240), raddr=('151.101.112.239', 443)>\n",
      "  self._sock = None\n"
     ]
    },
    {
     "name": "stdout",
     "output_type": "stream",
     "text": [
      "Saved\n"
     ]
    },
    {
     "name": "stderr",
     "output_type": "stream",
     "text": [
      "C:\\Users\\Bhavya\\Anaconda3\\lib\\socket.py:657: ResourceWarning: unclosed <socket.socket fd=2868, family=AddressFamily.AF_INET, type=SocketKind.SOCK_STREAM, proto=0, laddr=('192.168.100.52', 61256), raddr=('23.197.10.39', 443)>\n",
      "  self._sock = None\n"
     ]
    },
    {
     "name": "stdout",
     "output_type": "stream",
     "text": [
      "Saved\n",
      "Saved\n",
      "Saved\n",
      "Saved\n",
      "Saved\n"
     ]
    },
    {
     "name": "stderr",
     "output_type": "stream",
     "text": [
      "C:\\Users\\Bhavya\\Anaconda3\\lib\\socket.py:657: ResourceWarning: unclosed <socket.socket fd=2744, family=AddressFamily.AF_INET, type=SocketKind.SOCK_STREAM, proto=0, laddr=('192.168.100.52', 61267), raddr=('151.101.112.239', 443)>\n",
      "  self._sock = None\n"
     ]
    },
    {
     "name": "stdout",
     "output_type": "stream",
     "text": [
      "Saved\n",
      "Saved\n",
      "Saved\n",
      "Saved\n"
     ]
    },
    {
     "name": "stderr",
     "output_type": "stream",
     "text": [
      "C:\\Users\\Bhavya\\Anaconda3\\lib\\socket.py:657: ResourceWarning: unclosed <socket.socket fd=2384, family=AddressFamily.AF_INET6, type=SocketKind.SOCK_STREAM, proto=0, laddr=('2003:e6:9718:e700:70c1:90d5:dc6d:8418', 61304, 0, 0), raddr=('2a04:4e42:1b::323', 443, 0, 0)>\n",
      "  self._sock = None\n"
     ]
    },
    {
     "name": "stdout",
     "output_type": "stream",
     "text": [
      "Saved\n"
     ]
    },
    {
     "name": "stderr",
     "output_type": "stream",
     "text": [
      "C:\\Users\\Bhavya\\Anaconda3\\lib\\socket.py:657: ResourceWarning: unclosed <socket.socket fd=2736, family=AddressFamily.AF_INET6, type=SocketKind.SOCK_STREAM, proto=0, laddr=('2003:e6:9718:e700:70c1:90d5:dc6d:8418', 61313, 0, 0), raddr=('2a04:4e42:1b::323', 443, 0, 0)>\n",
      "  self._sock = None\n"
     ]
    },
    {
     "name": "stdout",
     "output_type": "stream",
     "text": [
      "Saved\n"
     ]
    },
    {
     "name": "stderr",
     "output_type": "stream",
     "text": [
      "C:\\Users\\Bhavya\\Anaconda3\\lib\\socket.py:657: ResourceWarning: unclosed <socket.socket fd=1436, family=AddressFamily.AF_INET6, type=SocketKind.SOCK_STREAM, proto=0, laddr=('2003:e6:9718:e700:70c1:90d5:dc6d:8418', 61324, 0, 0), raddr=('2a04:4e42:1b::323', 443, 0, 0)>\n",
      "  self._sock = None\n"
     ]
    },
    {
     "name": "stdout",
     "output_type": "stream",
     "text": [
      "Saved\n",
      "Saved\n",
      "Saved\n",
      "Saved\n",
      "Saved\n",
      "Saved\n",
      "Saved\n",
      "Saved\n"
     ]
    },
    {
     "name": "stderr",
     "output_type": "stream",
     "text": [
      "C:\\Users\\Bhavya\\Anaconda3\\lib\\site-packages\\pandas\\core\\ops.py:1649: FutureWarning: elementwise comparison failed; returning scalar instead, but in the future will perform elementwise comparison\n",
      "  result = method(y)\n"
     ]
    },
    {
     "name": "stdout",
     "output_type": "stream",
     "text": [
      "Saved\n",
      "Saved\n"
     ]
    },
    {
     "name": "stderr",
     "output_type": "stream",
     "text": [
      "C:\\Users\\Bhavya\\Anaconda3\\lib\\socket.py:657: ResourceWarning: unclosed <socket.socket fd=2868, family=AddressFamily.AF_INET, type=SocketKind.SOCK_STREAM, proto=0, laddr=('192.168.100.52', 61356), raddr=('151.101.12.239', 443)>\n",
      "  self._sock = None\n",
      "C:\\Users\\Bhavya\\Anaconda3\\lib\\socket.py:657: ResourceWarning: unclosed <socket.socket fd=2836, family=AddressFamily.AF_INET, type=SocketKind.SOCK_STREAM, proto=0, laddr=('192.168.100.52', 61365), raddr=('151.101.13.171', 443)>\n",
      "  self._sock = None\n"
     ]
    },
    {
     "name": "stdout",
     "output_type": "stream",
     "text": [
      "Saved\n",
      "Saved\n",
      "Saved\n"
     ]
    },
    {
     "name": "stderr",
     "output_type": "stream",
     "text": [
      "C:\\Users\\Bhavya\\Anaconda3\\lib\\socket.py:657: ResourceWarning: unclosed <socket.socket fd=2804, family=AddressFamily.AF_INET6, type=SocketKind.SOCK_STREAM, proto=0, laddr=('2003:e6:9718:e700:70c1:90d5:dc6d:8418', 61378, 0, 0), raddr=('2a04:4e42:1b::323', 443, 0, 0)>\n",
      "  self._sock = None\n"
     ]
    },
    {
     "name": "stdout",
     "output_type": "stream",
     "text": [
      "Saved\n"
     ]
    },
    {
     "name": "stderr",
     "output_type": "stream",
     "text": [
      "C:\\Users\\Bhavya\\Anaconda3\\lib\\socket.py:657: ResourceWarning: unclosed <socket.socket fd=3088, family=AddressFamily.AF_INET, type=SocketKind.SOCK_STREAM, proto=0, laddr=('192.168.100.52', 61383), raddr=('151.101.13.171', 443)>\n",
      "  self._sock = None\n",
      "C:\\Users\\Bhavya\\Anaconda3\\lib\\socket.py:657: ResourceWarning: unclosed <socket.socket fd=3116, family=AddressFamily.AF_INET, type=SocketKind.SOCK_STREAM, proto=0, laddr=('192.168.100.52', 61390), raddr=('151.101.112.239', 443)>\n",
      "  self._sock = None\n"
     ]
    },
    {
     "name": "stdout",
     "output_type": "stream",
     "text": [
      "Saved\n",
      "Saved\n"
     ]
    },
    {
     "name": "stderr",
     "output_type": "stream",
     "text": [
      "C:\\Users\\Bhavya\\Anaconda3\\lib\\socket.py:657: ResourceWarning: unclosed <socket.socket fd=3176, family=AddressFamily.AF_INET, type=SocketKind.SOCK_STREAM, proto=0, laddr=('192.168.100.52', 61401), raddr=('23.197.10.39', 443)>\n",
      "  self._sock = None\n",
      "C:\\Users\\Bhavya\\Anaconda3\\lib\\socket.py:657: ResourceWarning: unclosed <socket.socket fd=3252, family=AddressFamily.AF_INET6, type=SocketKind.SOCK_STREAM, proto=0, laddr=('2003:e6:9718:e700:70c1:90d5:dc6d:8418', 61404, 0, 0), raddr=('2a04:4e42:1b::323', 443, 0, 0)>\n",
      "  self._sock = None\n"
     ]
    },
    {
     "name": "stdout",
     "output_type": "stream",
     "text": [
      "Saved\n"
     ]
    },
    {
     "name": "stderr",
     "output_type": "stream",
     "text": [
      "C:\\Users\\Bhavya\\Anaconda3\\lib\\socket.py:657: ResourceWarning: unclosed <socket.socket fd=3312, family=AddressFamily.AF_INET, type=SocketKind.SOCK_STREAM, proto=0, laddr=('192.168.100.52', 61413), raddr=('104.122.35.134', 443)>\n",
      "  self._sock = None\n"
     ]
    },
    {
     "name": "stdout",
     "output_type": "stream",
     "text": [
      "Saved\n"
     ]
    },
    {
     "name": "stderr",
     "output_type": "stream",
     "text": [
      "C:\\Users\\Bhavya\\Anaconda3\\lib\\socket.py:657: ResourceWarning: unclosed <socket.socket fd=3344, family=AddressFamily.AF_INET6, type=SocketKind.SOCK_STREAM, proto=0, laddr=('2003:e6:9718:e700:70c1:90d5:dc6d:8418', 61425, 0, 0), raddr=('2a04:4e42:1b::323', 443, 0, 0)>\n",
      "  self._sock = None\n"
     ]
    },
    {
     "name": "stdout",
     "output_type": "stream",
     "text": [
      "Saved\n",
      "Saved\n",
      "Saved\n",
      "Saved\n"
     ]
    },
    {
     "name": "stderr",
     "output_type": "stream",
     "text": [
      "C:\\Users\\Bhavya\\Anaconda3\\lib\\socket.py:657: ResourceWarning: unclosed <socket.socket fd=3028, family=AddressFamily.AF_INET, type=SocketKind.SOCK_STREAM, proto=0, laddr=('192.168.100.52', 61443), raddr=('23.197.10.39', 443)>\n",
      "  self._sock = None\n"
     ]
    },
    {
     "name": "stdout",
     "output_type": "stream",
     "text": [
      "Saved\n"
     ]
    },
    {
     "name": "stderr",
     "output_type": "stream",
     "text": [
      "C:\\Users\\Bhavya\\Anaconda3\\lib\\socket.py:657: ResourceWarning: unclosed <socket.socket fd=2472, family=AddressFamily.AF_INET, type=SocketKind.SOCK_STREAM, proto=0, laddr=('192.168.100.52', 61451), raddr=('151.101.113.171', 443)>\n",
      "  self._sock = None\n"
     ]
    },
    {
     "name": "stdout",
     "output_type": "stream",
     "text": [
      "Saved\n",
      "Saved\n"
     ]
    },
    {
     "name": "stderr",
     "output_type": "stream",
     "text": [
      "C:\\Users\\Bhavya\\Anaconda3\\lib\\socket.py:657: ResourceWarning: unclosed <socket.socket fd=3432, family=AddressFamily.AF_INET, type=SocketKind.SOCK_STREAM, proto=0, laddr=('192.168.100.52', 61463), raddr=('23.197.10.39', 443)>\n",
      "  self._sock = None\n"
     ]
    },
    {
     "name": "stdout",
     "output_type": "stream",
     "text": [
      "Saved\n",
      "Saved\n"
     ]
    },
    {
     "name": "stderr",
     "output_type": "stream",
     "text": [
      "C:\\Users\\Bhavya\\Anaconda3\\lib\\site-packages\\pandas\\core\\ops.py:1649: FutureWarning: elementwise comparison failed; returning scalar instead, but in the future will perform elementwise comparison\n",
      "  result = method(y)\n",
      "C:\\Users\\Bhavya\\Anaconda3\\lib\\socket.py:657: ResourceWarning: unclosed <socket.socket fd=2764, family=AddressFamily.AF_INET, type=SocketKind.SOCK_STREAM, proto=0, laddr=('192.168.100.52', 61479), raddr=('23.197.10.39', 443)>\n",
      "  self._sock = None\n"
     ]
    },
    {
     "name": "stdout",
     "output_type": "stream",
     "text": [
      "Saved\n",
      "Saved\n"
     ]
    },
    {
     "name": "stderr",
     "output_type": "stream",
     "text": [
      "C:\\Users\\Bhavya\\Anaconda3\\lib\\socket.py:657: ResourceWarning: unclosed <socket.socket fd=2928, family=AddressFamily.AF_INET, type=SocketKind.SOCK_STREAM, proto=0, laddr=('192.168.100.52', 61485), raddr=('151.101.20.239', 443)>\n",
      "  self._sock = None\n",
      "C:\\Users\\Bhavya\\Anaconda3\\lib\\socket.py:657: ResourceWarning: unclosed <socket.socket fd=2428, family=AddressFamily.AF_INET6, type=SocketKind.SOCK_STREAM, proto=0, laddr=('2003:e6:9718:e700:70c1:90d5:dc6d:8418', 61488, 0, 0), raddr=('2a04:4e42:1b::323', 443, 0, 0)>\n",
      "  self._sock = None\n"
     ]
    },
    {
     "name": "stdout",
     "output_type": "stream",
     "text": [
      "Saved\n",
      "Saved\n",
      "Saved\n",
      "Saved\n",
      "Saved\n"
     ]
    },
    {
     "name": "stderr",
     "output_type": "stream",
     "text": [
      "C:\\Users\\Bhavya\\Desktop\\Vaibhav\\Django-projects\\recallie_web\\news\\utils.py:569: SettingWithCopyWarning: \n",
      "A value is trying to be set on a copy of a slice from a DataFrame.\n",
      "Try using .loc[row_indexer,col_indexer] = value instead\n",
      "\n",
      "See the caveats in the documentation: http://pandas.pydata.org/pandas-docs/stable/indexing.html#indexing-view-versus-copy\n",
      "  self.main_df['Subject'] = self.message\n",
      "C:\\Users\\Bhavya\\Anaconda3\\lib\\socket.py:657: ResourceWarning: unclosed <socket.socket fd=3220, family=AddressFamily.AF_INET, type=SocketKind.SOCK_STREAM, proto=0, laddr=('192.168.100.52', 61506), raddr=('151.101.113.184', 443)>\n",
      "  self._sock = None\n",
      "C:\\Users\\Bhavya\\Anaconda3\\lib\\socket.py:657: ResourceWarning: unclosed <socket.socket fd=3148, family=AddressFamily.AF_INET, type=SocketKind.SOCK_STREAM, proto=0, laddr=('192.168.100.52', 61503), raddr=('23.197.10.39', 443)>\n",
      "  self._sock = None\n"
     ]
    },
    {
     "name": "stdout",
     "output_type": "stream",
     "text": [
      "Saved\n",
      "Saved\n"
     ]
    },
    {
     "name": "stderr",
     "output_type": "stream",
     "text": [
      "C:\\Users\\Bhavya\\Anaconda3\\lib\\socket.py:657: ResourceWarning: unclosed <socket.socket fd=3268, family=AddressFamily.AF_INET, type=SocketKind.SOCK_STREAM, proto=0, laddr=('192.168.100.52', 61513), raddr=('23.197.10.39', 443)>\n",
      "  self._sock = None\n",
      "C:\\Users\\Bhavya\\Anaconda3\\lib\\socket.py:657: ResourceWarning: unclosed <socket.socket fd=2268, family=AddressFamily.AF_INET6, type=SocketKind.SOCK_STREAM, proto=0, laddr=('2003:e6:9718:e700:70c1:90d5:dc6d:8418', 61517, 0, 0), raddr=('2a04:4e42:1b::323', 443, 0, 0)>\n",
      "  self._sock = None\n"
     ]
    },
    {
     "name": "stdout",
     "output_type": "stream",
     "text": [
      "Saved\n",
      "Saved\n",
      "Saved\n"
     ]
    },
    {
     "name": "stderr",
     "output_type": "stream",
     "text": [
      "C:\\Users\\Bhavya\\Anaconda3\\lib\\socket.py:657: ResourceWarning: unclosed <socket.socket fd=3420, family=AddressFamily.AF_INET6, type=SocketKind.SOCK_STREAM, proto=0, laddr=('2003:e6:9718:e700:70c1:90d5:dc6d:8418', 61526, 0, 0), raddr=('2a04:4e42:1b::323', 443, 0, 0)>\n",
      "  self._sock = None\n"
     ]
    },
    {
     "name": "stdout",
     "output_type": "stream",
     "text": [
      "Saved\n"
     ]
    },
    {
     "name": "stderr",
     "output_type": "stream",
     "text": [
      "C:\\Users\\Bhavya\\Anaconda3\\lib\\site-packages\\pandas\\core\\ops.py:1649: FutureWarning: elementwise comparison failed; returning scalar instead, but in the future will perform elementwise comparison\n",
      "  result = method(y)\n"
     ]
    },
    {
     "name": "stdout",
     "output_type": "stream",
     "text": [
      "Saved\n",
      "Saved\n",
      "Saved\n",
      "Saved\n",
      "Saved\n",
      "Saved\n",
      "Saved\n"
     ]
    },
    {
     "name": "stderr",
     "output_type": "stream",
     "text": [
      "C:\\Users\\Bhavya\\Anaconda3\\lib\\socket.py:657: ResourceWarning: unclosed <socket.socket fd=3520, family=AddressFamily.AF_INET, type=SocketKind.SOCK_STREAM, proto=0, laddr=('192.168.100.52', 61561), raddr=('151.101.112.239', 443)>\n",
      "  self._sock = None\n"
     ]
    },
    {
     "name": "stdout",
     "output_type": "stream",
     "text": [
      "Saved\n"
     ]
    },
    {
     "name": "stderr",
     "output_type": "stream",
     "text": [
      "C:\\Users\\Bhavya\\Anaconda3\\lib\\socket.py:657: ResourceWarning: unclosed <socket.socket fd=3704, family=AddressFamily.AF_INET, type=SocketKind.SOCK_STREAM, proto=0, laddr=('192.168.100.52', 61568), raddr=('151.101.13.164', 443)>\n",
      "  self._sock = None\n"
     ]
    },
    {
     "name": "stdout",
     "output_type": "stream",
     "text": [
      "Saved\n"
     ]
    },
    {
     "name": "stderr",
     "output_type": "stream",
     "text": [
      "C:\\Users\\Bhavya\\Anaconda3\\lib\\socket.py:657: ResourceWarning: unclosed <socket.socket fd=3796, family=AddressFamily.AF_INET, type=SocketKind.SOCK_STREAM, proto=0, laddr=('192.168.100.52', 61573), raddr=('23.197.10.39', 443)>\n",
      "  self._sock = None\n"
     ]
    },
    {
     "name": "stdout",
     "output_type": "stream",
     "text": [
      "Creating a new Dictionary\n",
      "Saved\n",
      "Saved\n",
      "Saved\n",
      "Saved\n",
      "Saved\n"
     ]
    },
    {
     "name": "stderr",
     "output_type": "stream",
     "text": [
      "C:\\Users\\Bhavya\\Anaconda3\\lib\\socket.py:657: ResourceWarning: unclosed <socket.socket fd=3676, family=AddressFamily.AF_INET6, type=SocketKind.SOCK_STREAM, proto=0, laddr=('2003:e6:9718:e700:70c1:90d5:dc6d:8418', 61600, 0, 0), raddr=('2a04:4e42:3::323', 443, 0, 0)>\n",
      "  self._sock = None\n"
     ]
    },
    {
     "name": "stdout",
     "output_type": "stream",
     "text": [
      "Saved\n"
     ]
    },
    {
     "name": "stderr",
     "output_type": "stream",
     "text": [
      "C:\\Users\\Bhavya\\Anaconda3\\lib\\socket.py:657: ResourceWarning: unclosed <socket.socket fd=3684, family=AddressFamily.AF_INET, type=SocketKind.SOCK_STREAM, proto=0, laddr=('192.168.100.52', 61604), raddr=('23.197.10.39', 443)>\n",
      "  self._sock = None\n"
     ]
    },
    {
     "name": "stdout",
     "output_type": "stream",
     "text": [
      "Saved\n",
      "Saved\n",
      "Saved\n",
      "Saved\n"
     ]
    },
    {
     "name": "stderr",
     "output_type": "stream",
     "text": [
      "C:\\Users\\Bhavya\\Anaconda3\\lib\\socket.py:657: ResourceWarning: unclosed <socket.socket fd=3220, family=AddressFamily.AF_INET, type=SocketKind.SOCK_STREAM, proto=0, laddr=('192.168.100.52', 61618), raddr=('151.101.12.239', 443)>\n",
      "  self._sock = None\n"
     ]
    },
    {
     "name": "stdout",
     "output_type": "stream",
     "text": [
      "Saved\n",
      "Saved\n",
      "Saved\n",
      "Saved\n",
      "Saved\n",
      "Saved\n"
     ]
    },
    {
     "name": "stderr",
     "output_type": "stream",
     "text": [
      "C:\\Users\\Bhavya\\Anaconda3\\lib\\socket.py:657: ResourceWarning: unclosed <socket.socket fd=3920, family=AddressFamily.AF_INET6, type=SocketKind.SOCK_STREAM, proto=0, laddr=('2003:e6:9718:e700:70c1:90d5:dc6d:8418', 61651, 0, 0), raddr=('2a04:4e42:3::323', 443, 0, 0)>\n",
      "  self._sock = None\n"
     ]
    },
    {
     "name": "stdout",
     "output_type": "stream",
     "text": [
      "Saved\n"
     ]
    },
    {
     "name": "stderr",
     "output_type": "stream",
     "text": [
      "C:\\Users\\Bhavya\\Anaconda3\\lib\\socket.py:657: ResourceWarning: unclosed <socket.socket fd=4056, family=AddressFamily.AF_INET, type=SocketKind.SOCK_STREAM, proto=0, laddr=('192.168.100.52', 61643), raddr=('151.101.12.239', 443)>\n",
      "  self._sock = None\n"
     ]
    },
    {
     "name": "stdout",
     "output_type": "stream",
     "text": [
      "Saved\n"
     ]
    },
    {
     "name": "stderr",
     "output_type": "stream",
     "text": [
      "C:\\Users\\Bhavya\\Anaconda3\\lib\\site-packages\\pandas\\core\\ops.py:1649: FutureWarning: elementwise comparison failed; returning scalar instead, but in the future will perform elementwise comparison\n",
      "  result = method(y)\n"
     ]
    },
    {
     "name": "stdout",
     "output_type": "stream",
     "text": [
      "Saved\n",
      "Saved\n",
      "Saved\n"
     ]
    },
    {
     "name": "stderr",
     "output_type": "stream",
     "text": [
      "C:\\Users\\Bhavya\\Anaconda3\\lib\\socket.py:657: ResourceWarning: unclosed <socket.socket fd=3220, family=AddressFamily.AF_INET, type=SocketKind.SOCK_STREAM, proto=0, laddr=('192.168.100.52', 61669), raddr=('23.197.10.39', 443)>\n",
      "  self._sock = None\n"
     ]
    },
    {
     "name": "stdout",
     "output_type": "stream",
     "text": [
      "Creating a new Dictionary\n",
      "Saved\n",
      "Saved\n",
      "Saved\n"
     ]
    },
    {
     "name": "stderr",
     "output_type": "stream",
     "text": [
      "C:\\Users\\Bhavya\\Anaconda3\\lib\\site-packages\\pandas\\core\\ops.py:1649: FutureWarning: elementwise comparison failed; returning scalar instead, but in the future will perform elementwise comparison\n",
      "  result = method(y)\n"
     ]
    },
    {
     "name": "stdout",
     "output_type": "stream",
     "text": [
      "Saved\n",
      "Saved\n",
      "Saved\n"
     ]
    },
    {
     "name": "stderr",
     "output_type": "stream",
     "text": [
      "C:\\Users\\Bhavya\\Anaconda3\\lib\\socket.py:657: ResourceWarning: unclosed <socket.socket fd=2328, family=AddressFamily.AF_INET, type=SocketKind.SOCK_STREAM, proto=0, laddr=('192.168.100.52', 61697), raddr=('151.101.12.239', 443)>\n",
      "  self._sock = None\n"
     ]
    },
    {
     "name": "stdout",
     "output_type": "stream",
     "text": [
      "Saved\n",
      "Saved\n",
      "Saved\n",
      "100\n",
      "Saved\n",
      "Saved\n",
      "Saved\n",
      "Saved\n",
      "Saved\n",
      "Saved\n",
      "Saved\n",
      "Saved\n",
      "Saved\n",
      "Saved\n",
      "Saved\n",
      "Saved\n",
      "Saved\n",
      "Saved\n",
      "Saved\n",
      "Saved\n",
      "Saved\n",
      "Saved\n",
      "Saved\n",
      "Saved\n",
      "Saved\n",
      "Saved\n",
      "Saved\n",
      "Saved\n",
      "Saved\n",
      "Saved\n",
      "Saved\n",
      "Saved\n",
      "Saved\n",
      "Saved\n",
      "Saved\n",
      "Saved\n",
      "Saved\n",
      "Saved\n",
      "Saved\n",
      "Saved\n",
      "Saved\n",
      "Saved\n",
      "Saved\n",
      "Saved\n",
      "Saved\n",
      "Saved\n",
      "Saved\n",
      "Saved\n",
      "Saved\n",
      "Saved\n",
      "Saved\n",
      "Saved\n",
      "Saved\n",
      "Saved\n",
      "Saved\n",
      "Saved\n",
      "Saved\n",
      "Saved\n",
      "Saved\n",
      "Saved\n",
      "Saved\n",
      "Saved\n",
      "Saved\n",
      "Saved\n",
      "Saved\n",
      "Saved\n",
      "Saved\n",
      "Saved\n",
      "Saved\n",
      "Saved\n",
      "Saved\n",
      "Saved\n",
      "Saved\n",
      "Saved\n",
      "Saved\n",
      "Saved\n",
      "Saved\n",
      "Saved\n",
      "Saved\n",
      "Saved\n",
      "Saved\n",
      "Saved\n",
      "Saved\n",
      "Saved\n",
      "Saved\n",
      "Saved\n",
      "Saved\n",
      "Saved\n",
      "Saved\n",
      "Saved\n",
      "Saved\n",
      "Saved\n",
      "Saved\n",
      "Saved\n",
      "Saved\n",
      "Saved\n",
      "Saved\n",
      "Saved\n",
      "Saved\n",
      "Saved\n",
      "Saved\n",
      "Saved\n",
      "Saved\n"
     ]
    },
    {
     "name": "stderr",
     "output_type": "stream",
     "text": [
      "C:\\Users\\Bhavya\\Anaconda3\\lib\\socket.py:657: ResourceWarning: unclosed <socket.socket fd=3228, family=AddressFamily.AF_INET, type=SocketKind.SOCK_STREAM, proto=0, laddr=('192.168.100.52', 61712), raddr=('23.197.10.39', 443)>\n",
      "  self._sock = None\n"
     ]
    },
    {
     "name": "stdout",
     "output_type": "stream",
     "text": [
      "Saved\n",
      "Saved\n"
     ]
    },
    {
     "name": "stderr",
     "output_type": "stream",
     "text": [
      "C:\\Users\\Bhavya\\Anaconda3\\lib\\socket.py:657: ResourceWarning: unclosed <socket.socket fd=2272, family=AddressFamily.AF_INET, type=SocketKind.SOCK_STREAM, proto=0, laddr=('192.168.100.52', 61720), raddr=('23.197.10.39', 443)>\n",
      "  self._sock = None\n",
      "C:\\Users\\Bhavya\\Anaconda3\\lib\\socket.py:657: ResourceWarning: unclosed <socket.socket fd=2760, family=AddressFamily.AF_INET6, type=SocketKind.SOCK_STREAM, proto=0, laddr=('2003:e6:9718:e700:70c1:90d5:dc6d:8418', 61724, 0, 0), raddr=('2a04:4e42:1b::323', 443, 0, 0)>\n",
      "  self._sock = None\n"
     ]
    },
    {
     "name": "stdout",
     "output_type": "stream",
     "text": [
      "Saved\n",
      "Saved\n"
     ]
    },
    {
     "name": "stderr",
     "output_type": "stream",
     "text": [
      "C:\\Users\\Bhavya\\Anaconda3\\lib\\socket.py:657: ResourceWarning: unclosed <socket.socket fd=3328, family=AddressFamily.AF_INET, type=SocketKind.SOCK_STREAM, proto=0, laddr=('192.168.100.52', 61730), raddr=('151.101.129.131', 443)>\n",
      "  self._sock = None\n",
      "C:\\Users\\Bhavya\\Anaconda3\\lib\\socket.py:657: ResourceWarning: unclosed <socket.socket fd=3284, family=AddressFamily.AF_INET, type=SocketKind.SOCK_STREAM, proto=0, laddr=('192.168.100.52', 61733), raddr=('151.101.129.131', 443)>\n",
      "  self._sock = None\n"
     ]
    },
    {
     "name": "stdout",
     "output_type": "stream",
     "text": [
      "Creating a new Dictionary\n",
      "Saved\n"
     ]
    },
    {
     "name": "stderr",
     "output_type": "stream",
     "text": [
      "C:\\Users\\Bhavya\\Anaconda3\\lib\\socket.py:657: ResourceWarning: unclosed <socket.socket fd=2260, family=AddressFamily.AF_INET, type=SocketKind.SOCK_STREAM, proto=0, laddr=('192.168.100.52', 61728), raddr=('151.101.12.239', 443)>\n",
      "  self._sock = None\n"
     ]
    },
    {
     "name": "stdout",
     "output_type": "stream",
     "text": [
      "Saved\n",
      "Saved\n",
      "Saved\n",
      "Saved\n",
      "Saved\n",
      "Saved\n"
     ]
    },
    {
     "name": "stderr",
     "output_type": "stream",
     "text": [
      "C:\\Users\\Bhavya\\Anaconda3\\lib\\socket.py:657: ResourceWarning: unclosed <socket.socket fd=3936, family=AddressFamily.AF_INET6, type=SocketKind.SOCK_STREAM, proto=0, laddr=('2003:e6:9718:e700:70c1:90d5:dc6d:8418', 61769, 0, 0), raddr=('2a04:4e42:1b::323', 443, 0, 0)>\n",
      "  self._sock = None\n",
      "C:\\Users\\Bhavya\\Anaconda3\\lib\\socket.py:657: ResourceWarning: unclosed <socket.socket fd=3496, family=AddressFamily.AF_INET6, type=SocketKind.SOCK_STREAM, proto=0, laddr=('2003:e6:9718:e700:70c1:90d5:dc6d:8418', 61775, 0, 0), raddr=('2a04:4e42:1b::323', 443, 0, 0)>\n",
      "  self._sock = None\n"
     ]
    },
    {
     "name": "stdout",
     "output_type": "stream",
     "text": [
      "Saved\n",
      "Saved\n",
      "Saved\n",
      "Saved\n"
     ]
    },
    {
     "name": "stderr",
     "output_type": "stream",
     "text": [
      "C:\\Users\\Bhavya\\Anaconda3\\lib\\socket.py:657: ResourceWarning: unclosed <socket.socket fd=2540, family=AddressFamily.AF_INET, type=SocketKind.SOCK_STREAM, proto=0, laddr=('192.168.100.52', 61797), raddr=('23.197.10.39', 443)>\n",
      "  self._sock = None\n"
     ]
    },
    {
     "name": "stdout",
     "output_type": "stream",
     "text": [
      "Saved\n",
      "Saved\n"
     ]
    },
    {
     "name": "stderr",
     "output_type": "stream",
     "text": [
      "C:\\Users\\Bhavya\\Anaconda3\\lib\\socket.py:657: ResourceWarning: unclosed <socket.socket fd=2844, family=AddressFamily.AF_INET, type=SocketKind.SOCK_STREAM, proto=0, laddr=('192.168.100.52', 61812), raddr=('151.101.113.171', 443)>\n",
      "  self._sock = None\n"
     ]
    },
    {
     "name": "stdout",
     "output_type": "stream",
     "text": [
      "Saved\n",
      "Saved\n",
      "Saved\n",
      "Saved\n"
     ]
    },
    {
     "name": "stderr",
     "output_type": "stream",
     "text": [
      "C:\\Users\\Bhavya\\Anaconda3\\lib\\socket.py:657: ResourceWarning: unclosed <socket.socket fd=3188, family=AddressFamily.AF_INET, type=SocketKind.SOCK_STREAM, proto=0, laddr=('192.168.100.52', 61826), raddr=('23.197.10.39', 443)>\n",
      "  self._sock = None\n"
     ]
    },
    {
     "name": "stdout",
     "output_type": "stream",
     "text": [
      "Saved\n",
      "Saved\n"
     ]
    },
    {
     "name": "stderr",
     "output_type": "stream",
     "text": [
      "C:\\Users\\Bhavya\\Anaconda3\\lib\\socket.py:657: ResourceWarning: unclosed <socket.socket fd=2832, family=AddressFamily.AF_INET, type=SocketKind.SOCK_STREAM, proto=0, laddr=('192.168.100.52', 61834), raddr=('23.197.10.39', 443)>\n",
      "  self._sock = None\n"
     ]
    },
    {
     "name": "stdout",
     "output_type": "stream",
     "text": [
      "Saved\n",
      "Saved\n",
      "Saved\n"
     ]
    },
    {
     "name": "stderr",
     "output_type": "stream",
     "text": [
      "C:\\Users\\Bhavya\\Anaconda3\\lib\\socket.py:657: ResourceWarning: unclosed <socket.socket fd=3836, family=AddressFamily.AF_INET, type=SocketKind.SOCK_STREAM, proto=0, laddr=('192.168.100.52', 61856), raddr=('151.101.13.164', 443)>\n",
      "  self._sock = None\n",
      "C:\\Users\\Bhavya\\Anaconda3\\lib\\socket.py:657: ResourceWarning: unclosed <socket.socket fd=3660, family=AddressFamily.AF_INET, type=SocketKind.SOCK_STREAM, proto=0, laddr=('192.168.100.52', 61860), raddr=('23.197.10.39', 443)>\n",
      "  self._sock = None\n"
     ]
    },
    {
     "name": "stdout",
     "output_type": "stream",
     "text": [
      "Saved\n",
      "Saved\n",
      "Saved\n"
     ]
    },
    {
     "name": "stderr",
     "output_type": "stream",
     "text": [
      "C:\\Users\\Bhavya\\Anaconda3\\lib\\socket.py:657: ResourceWarning: unclosed <socket.socket fd=2300, family=AddressFamily.AF_INET, type=SocketKind.SOCK_STREAM, proto=0, laddr=('192.168.100.52', 61885), raddr=('151.101.114.133', 443)>\n",
      "  self._sock = None\n"
     ]
    },
    {
     "name": "stdout",
     "output_type": "stream",
     "text": [
      "Saved\n",
      "Saved\n",
      "Saved\n",
      "Saved\n"
     ]
    },
    {
     "name": "stderr",
     "output_type": "stream",
     "text": [
      "C:\\Users\\Bhavya\\Anaconda3\\lib\\socket.py:657: ResourceWarning: unclosed <socket.socket fd=3528, family=AddressFamily.AF_INET, type=SocketKind.SOCK_STREAM, proto=0, laddr=('192.168.100.52', 61910), raddr=('151.101.113.171', 443)>\n",
      "  self._sock = None\n"
     ]
    },
    {
     "name": "stdout",
     "output_type": "stream",
     "text": [
      "Saved\n",
      "Saved\n",
      "Saved\n"
     ]
    },
    {
     "name": "stderr",
     "output_type": "stream",
     "text": [
      "C:\\Users\\Bhavya\\Anaconda3\\lib\\socket.py:657: ResourceWarning: unclosed <socket.socket fd=2708, family=AddressFamily.AF_INET, type=SocketKind.SOCK_STREAM, proto=0, laddr=('192.168.100.52', 61927), raddr=('23.197.10.39', 443)>\n",
      "  self._sock = None\n"
     ]
    },
    {
     "name": "stdout",
     "output_type": "stream",
     "text": [
      "Saved\n"
     ]
    },
    {
     "name": "stderr",
     "output_type": "stream",
     "text": [
      "C:\\Users\\Bhavya\\Anaconda3\\lib\\socket.py:657: ResourceWarning: unclosed <socket.socket fd=2632, family=AddressFamily.AF_INET, type=SocketKind.SOCK_STREAM, proto=0, laddr=('192.168.100.52', 61943), raddr=('23.197.10.39', 443)>\n",
      "  self._sock = None\n"
     ]
    },
    {
     "name": "stdout",
     "output_type": "stream",
     "text": [
      "Saved\n",
      "Saved\n"
     ]
    },
    {
     "name": "stderr",
     "output_type": "stream",
     "text": [
      "C:\\Users\\Bhavya\\Anaconda3\\lib\\socket.py:657: ResourceWarning: unclosed <socket.socket fd=2732, family=AddressFamily.AF_INET, type=SocketKind.SOCK_STREAM, proto=0, laddr=('192.168.100.52', 61951), raddr=('23.197.10.39', 443)>\n",
      "  self._sock = None\n"
     ]
    },
    {
     "name": "stdout",
     "output_type": "stream",
     "text": [
      "Saved\n"
     ]
    },
    {
     "name": "stderr",
     "output_type": "stream",
     "text": [
      "C:\\Users\\Bhavya\\Anaconda3\\lib\\socket.py:657: ResourceWarning: unclosed <socket.socket fd=1432, family=AddressFamily.AF_INET, type=SocketKind.SOCK_STREAM, proto=0, laddr=('192.168.100.52', 61966), raddr=('151.101.113.164', 443)>\n",
      "  self._sock = None\n"
     ]
    },
    {
     "name": "stdout",
     "output_type": "stream",
     "text": [
      "Saved\n"
     ]
    },
    {
     "name": "stderr",
     "output_type": "stream",
     "text": [
      "C:\\Users\\Bhavya\\Anaconda3\\lib\\socket.py:657: ResourceWarning: unclosed <socket.socket fd=2588, family=AddressFamily.AF_INET6, type=SocketKind.SOCK_STREAM, proto=0, laddr=('2003:e6:9718:e700:70c1:90d5:dc6d:8418', 61974, 0, 0), raddr=('2a04:4e42:3::323', 443, 0, 0)>\n",
      "  self._sock = None\n"
     ]
    },
    {
     "name": "stdout",
     "output_type": "stream",
     "text": [
      "Saved\n"
     ]
    },
    {
     "name": "stderr",
     "output_type": "stream",
     "text": [
      "C:\\Users\\Bhavya\\Anaconda3\\lib\\socket.py:657: ResourceWarning: unclosed <socket.socket fd=3996, family=AddressFamily.AF_INET6, type=SocketKind.SOCK_STREAM, proto=0, laddr=('2003:e6:9718:e700:70c1:90d5:dc6d:8418', 61981, 0, 0), raddr=('2a04:4e42:3::323', 443, 0, 0)>\n",
      "  self._sock = None\n"
     ]
    },
    {
     "name": "stdout",
     "output_type": "stream",
     "text": [
      "Saved\n",
      "Saved\n",
      "Saved\n"
     ]
    },
    {
     "name": "stderr",
     "output_type": "stream",
     "text": [
      "C:\\Users\\Bhavya\\Anaconda3\\lib\\socket.py:657: ResourceWarning: unclosed <socket.socket fd=4012, family=AddressFamily.AF_INET, type=SocketKind.SOCK_STREAM, proto=0, laddr=('192.168.100.52', 61993), raddr=('151.101.112.239', 443)>\n",
      "  self._sock = None\n"
     ]
    },
    {
     "name": "stdout",
     "output_type": "stream",
     "text": [
      "Saved\n",
      "Saved\n"
     ]
    },
    {
     "name": "stderr",
     "output_type": "stream",
     "text": [
      "C:\\Users\\Bhavya\\Anaconda3\\lib\\socket.py:657: ResourceWarning: unclosed <socket.socket fd=3396, family=AddressFamily.AF_INET, type=SocketKind.SOCK_STREAM, proto=0, laddr=('192.168.100.52', 62001), raddr=('151.101.112.239', 443)>\n",
      "  self._sock = None\n"
     ]
    },
    {
     "name": "stdout",
     "output_type": "stream",
     "text": [
      "Saved\n",
      "Saved\n",
      "Saved\n",
      "Saved\n",
      "Saved\n",
      "Saved\n",
      "Saved\n",
      "Saved\n",
      "Saved\n",
      "Saved\n"
     ]
    },
    {
     "name": "stderr",
     "output_type": "stream",
     "text": [
      "C:\\Users\\Bhavya\\Anaconda3\\lib\\socket.py:657: ResourceWarning: unclosed <socket.socket fd=2400, family=AddressFamily.AF_INET, type=SocketKind.SOCK_STREAM, proto=0, laddr=('192.168.100.52', 62048), raddr=('151.101.14.62', 443)>\n",
      "  self._sock = None\n"
     ]
    },
    {
     "name": "stdout",
     "output_type": "stream",
     "text": [
      "Saved\n",
      "Saved\n",
      "Saved\n",
      "Saved\n",
      "Saved\n",
      "Saved\n"
     ]
    },
    {
     "name": "stderr",
     "output_type": "stream",
     "text": [
      "C:\\Users\\Bhavya\\Anaconda3\\lib\\socket.py:657: ResourceWarning: unclosed <socket.socket fd=3924, family=AddressFamily.AF_INET6, type=SocketKind.SOCK_STREAM, proto=0, laddr=('2003:e6:9718:e700:70c1:90d5:dc6d:8418', 62076, 0, 0), raddr=('2a04:4e42:3::323', 443, 0, 0)>\n",
      "  self._sock = None\n"
     ]
    },
    {
     "name": "stdout",
     "output_type": "stream",
     "text": [
      "Saved\n",
      "Saved\n",
      "Saved\n",
      "Saved\n",
      "Saved\n",
      "Saved\n",
      "Saved\n",
      "Saved\n",
      "Saved\n"
     ]
    },
    {
     "name": "stderr",
     "output_type": "stream",
     "text": [
      "C:\\Users\\Bhavya\\Anaconda3\\lib\\socket.py:657: ResourceWarning: unclosed <socket.socket fd=4036, family=AddressFamily.AF_INET, type=SocketKind.SOCK_STREAM, proto=0, laddr=('192.168.100.52', 62122), raddr=('23.197.10.39', 443)>\n",
      "  self._sock = None\n"
     ]
    },
    {
     "name": "stdout",
     "output_type": "stream",
     "text": [
      "Saved\n",
      "Saved\n",
      "Saved\n",
      "Creating a new Dictionary\n",
      "Saved\n"
     ]
    },
    {
     "name": "stderr",
     "output_type": "stream",
     "text": [
      "C:\\Users\\Bhavya\\Anaconda3\\lib\\socket.py:657: ResourceWarning: unclosed <socket.socket fd=3600, family=AddressFamily.AF_INET, type=SocketKind.SOCK_STREAM, proto=0, laddr=('192.168.100.52', 62137), raddr=('23.197.10.39', 443)>\n",
      "  self._sock = None\n",
      "C:\\Users\\Bhavya\\Anaconda3\\lib\\socket.py:657: ResourceWarning: unclosed <socket.socket fd=2692, family=AddressFamily.AF_INET, type=SocketKind.SOCK_STREAM, proto=0, laddr=('192.168.100.52', 62144), raddr=('151.101.14.62', 443)>\n",
      "  self._sock = None\n"
     ]
    },
    {
     "name": "stdout",
     "output_type": "stream",
     "text": [
      "Saved\n"
     ]
    },
    {
     "name": "stderr",
     "output_type": "stream",
     "text": [
      "C:\\Users\\Bhavya\\Anaconda3\\lib\\socket.py:657: ResourceWarning: unclosed <socket.socket fd=3264, family=AddressFamily.AF_INET, type=SocketKind.SOCK_STREAM, proto=0, laddr=('192.168.100.52', 62149), raddr=('23.197.10.39', 443)>\n",
      "  self._sock = None\n"
     ]
    },
    {
     "name": "stdout",
     "output_type": "stream",
     "text": [
      "Saved\n"
     ]
    },
    {
     "name": "stderr",
     "output_type": "stream",
     "text": [
      "C:\\Users\\Bhavya\\Desktop\\Vaibhav\\Django-projects\\recallie_web\\news\\utils.py:569: SettingWithCopyWarning: \n",
      "A value is trying to be set on a copy of a slice from a DataFrame.\n",
      "Try using .loc[row_indexer,col_indexer] = value instead\n",
      "\n",
      "See the caveats in the documentation: http://pandas.pydata.org/pandas-docs/stable/indexing.html#indexing-view-versus-copy\n",
      "  self.main_df['Subject'] = self.message\n",
      "C:\\Users\\Bhavya\\Anaconda3\\lib\\socket.py:657: ResourceWarning: unclosed <socket.socket fd=3556, family=AddressFamily.AF_INET6, type=SocketKind.SOCK_STREAM, proto=0, laddr=('2003:e6:9718:e700:70c1:90d5:dc6d:8418', 62156, 0, 0), raddr=('2a04:4e42:3::323', 443, 0, 0)>\n",
      "  self._sock = None\n"
     ]
    },
    {
     "name": "stdout",
     "output_type": "stream",
     "text": [
      "Saved\n",
      "Saved\n",
      "Saved\n"
     ]
    },
    {
     "name": "stderr",
     "output_type": "stream",
     "text": [
      "C:\\Users\\Bhavya\\Desktop\\Vaibhav\\Django-projects\\recallie_web\\news\\utils.py:569: SettingWithCopyWarning: \n",
      "A value is trying to be set on a copy of a slice from a DataFrame.\n",
      "Try using .loc[row_indexer,col_indexer] = value instead\n",
      "\n",
      "See the caveats in the documentation: http://pandas.pydata.org/pandas-docs/stable/indexing.html#indexing-view-versus-copy\n",
      "  self.main_df['Subject'] = self.message\n",
      "C:\\Users\\Bhavya\\Anaconda3\\lib\\socket.py:657: ResourceWarning: unclosed <socket.socket fd=3468, family=AddressFamily.AF_INET6, type=SocketKind.SOCK_STREAM, proto=0, laddr=('2003:e6:9718:e700:70c1:90d5:dc6d:8418', 62166, 0, 0), raddr=('2a04:4e42:3::323', 443, 0, 0)>\n",
      "  self._sock = None\n"
     ]
    },
    {
     "name": "stdout",
     "output_type": "stream",
     "text": [
      "Saved\n",
      "Saved\n",
      "Saved\n"
     ]
    },
    {
     "name": "stderr",
     "output_type": "stream",
     "text": [
      "C:\\Users\\Bhavya\\Anaconda3\\lib\\socket.py:657: ResourceWarning: unclosed <socket.socket fd=2692, family=AddressFamily.AF_INET, type=SocketKind.SOCK_STREAM, proto=0, laddr=('192.168.100.52', 62182), raddr=('151.101.14.62', 443)>\n",
      "  self._sock = None\n"
     ]
    },
    {
     "name": "stdout",
     "output_type": "stream",
     "text": [
      "Saved\n",
      "Saved\n",
      "Saved\n",
      "Saved\n",
      "Saved\n"
     ]
    },
    {
     "name": "stderr",
     "output_type": "stream",
     "text": [
      "C:\\Users\\Bhavya\\Anaconda3\\lib\\socket.py:657: ResourceWarning: unclosed <socket.socket fd=2592, family=AddressFamily.AF_INET, type=SocketKind.SOCK_STREAM, proto=0, laddr=('192.168.100.52', 62220), raddr=('151.101.114.62', 443)>\n",
      "  self._sock = None\n"
     ]
    },
    {
     "name": "stdout",
     "output_type": "stream",
     "text": [
      "Saved\n"
     ]
    },
    {
     "name": "stderr",
     "output_type": "stream",
     "text": [
      "C:\\Users\\Bhavya\\Anaconda3\\lib\\socket.py:657: ResourceWarning: unclosed <socket.socket fd=3536, family=AddressFamily.AF_INET, type=SocketKind.SOCK_STREAM, proto=0, laddr=('192.168.100.52', 62229), raddr=('23.197.10.39', 443)>\n",
      "  self._sock = None\n"
     ]
    },
    {
     "name": "stdout",
     "output_type": "stream",
     "text": [
      "('Connection aborted.', OSError(\"(10060, 'WSAETIMEDOUT')\",))\n",
      "Saved\n",
      "Saved\n",
      "Saved\n",
      "Saved\n"
     ]
    },
    {
     "name": "stderr",
     "output_type": "stream",
     "text": [
      "C:\\Users\\Bhavya\\Anaconda3\\lib\\socket.py:657: ResourceWarning: unclosed <socket.socket fd=2440, family=AddressFamily.AF_INET, type=SocketKind.SOCK_STREAM, proto=0, laddr=('192.168.100.52', 62244), raddr=('23.197.10.39', 443)>\n",
      "  self._sock = None\n"
     ]
    },
    {
     "name": "stdout",
     "output_type": "stream",
     "text": [
      "Saved\n",
      "Saved\n"
     ]
    },
    {
     "name": "stderr",
     "output_type": "stream",
     "text": [
      "C:\\Users\\Bhavya\\Anaconda3\\lib\\site-packages\\pandas\\core\\ops.py:1649: FutureWarning: elementwise comparison failed; returning scalar instead, but in the future will perform elementwise comparison\n",
      "  result = method(y)\n",
      "C:\\Users\\Bhavya\\Anaconda3\\lib\\socket.py:657: ResourceWarning: unclosed <socket.socket fd=3708, family=AddressFamily.AF_INET, type=SocketKind.SOCK_STREAM, proto=0, laddr=('192.168.100.52', 62250), raddr=('151.101.13.164', 443)>\n",
      "  self._sock = None\n"
     ]
    },
    {
     "name": "stdout",
     "output_type": "stream",
     "text": [
      "Saved\n",
      "Saved\n",
      "Saved\n",
      "Saved\n",
      "200\n",
      "Saved\n",
      "Saved\n",
      "Saved\n",
      "Saved\n",
      "Saved\n",
      "Saved\n",
      "Saved\n",
      "Saved\n",
      "Saved\n",
      "Saved\n",
      "Saved\n",
      "Saved\n",
      "Saved\n",
      "Saved\n",
      "Saved\n",
      "Saved\n",
      "Saved\n",
      "Saved\n",
      "Saved\n",
      "Saved\n",
      "Saved\n",
      "Saved\n",
      "Saved\n",
      "Saved\n",
      "Saved\n",
      "Saved\n",
      "Saved\n",
      "Saved\n",
      "Saved\n",
      "Saved\n",
      "Saved\n",
      "Saved\n",
      "Saved\n",
      "Saved\n",
      "Saved\n",
      "Saved\n",
      "Saved\n",
      "Saved\n",
      "Saved\n",
      "Saved\n",
      "Saved\n",
      "Saved\n",
      "Saved\n",
      "Saved\n",
      "Saved\n",
      "Saved\n",
      "Saved\n",
      "Saved\n",
      "Saved\n",
      "Saved\n",
      "Saved\n",
      "Saved\n",
      "Saved\n",
      "Saved\n",
      "Saved\n",
      "Saved\n",
      "Saved\n",
      "Saved\n",
      "Saved\n",
      "Saved\n",
      "Saved\n",
      "Saved\n",
      "Saved\n",
      "Saved\n",
      "Saved\n",
      "Saved\n",
      "Saved\n",
      "Saved\n",
      "Saved\n",
      "Saved\n",
      "Saved\n",
      "Saved\n",
      "Saved\n",
      "Saved\n",
      "Saved\n",
      "Saved\n",
      "Saved\n",
      "Saved\n",
      "Saved\n",
      "Saved\n",
      "Saved\n",
      "Saved\n",
      "Saved\n",
      "Saved\n",
      "Saved\n",
      "Saved\n",
      "Saved\n",
      "Saved\n",
      "Saved\n",
      "Saved\n",
      "Saved\n",
      "Saved\n",
      "Saved\n",
      "Saved\n",
      "Saved\n",
      "Saved\n",
      "Saved\n",
      "Saved\n",
      "Saved\n",
      "Saved\n",
      "Saved\n",
      "Saved\n",
      "Saved\n",
      "Saved\n",
      "Saved\n",
      "Saved\n"
     ]
    },
    {
     "name": "stderr",
     "output_type": "stream",
     "text": [
      "C:\\Users\\Bhavya\\Anaconda3\\lib\\site-packages\\pandas\\core\\ops.py:1649: FutureWarning: elementwise comparison failed; returning scalar instead, but in the future will perform elementwise comparison\n",
      "  result = method(y)\n"
     ]
    },
    {
     "name": "stdout",
     "output_type": "stream",
     "text": [
      "Saved\n"
     ]
    },
    {
     "name": "stderr",
     "output_type": "stream",
     "text": [
      "C:\\Users\\Bhavya\\Anaconda3\\lib\\socket.py:657: ResourceWarning: unclosed <socket.socket fd=3772, family=AddressFamily.AF_INET, type=SocketKind.SOCK_STREAM, proto=0, laddr=('192.168.100.52', 62304), raddr=('151.101.12.239', 443)>\n",
      "  self._sock = None\n",
      "C:\\Users\\Bhavya\\Anaconda3\\lib\\socket.py:657: ResourceWarning: unclosed <socket.socket fd=3872, family=AddressFamily.AF_INET, type=SocketKind.SOCK_STREAM, proto=0, laddr=('192.168.100.52', 62321), raddr=('151.101.113.73', 443)>\n",
      "  self._sock = None\n"
     ]
    },
    {
     "name": "stdout",
     "output_type": "stream",
     "text": [
      "Saved\n",
      "Saved\n",
      "Saved\n",
      "Saved\n",
      "Saved\n",
      "Saved\n",
      "Saved\n"
     ]
    },
    {
     "name": "stderr",
     "output_type": "stream",
     "text": [
      "C:\\Users\\Bhavya\\Anaconda3\\lib\\socket.py:657: ResourceWarning: unclosed <socket.socket fd=2684, family=AddressFamily.AF_INET, type=SocketKind.SOCK_STREAM, proto=0, laddr=('192.168.100.52', 62354), raddr=('23.197.10.39', 443)>\n",
      "  self._sock = None\n"
     ]
    },
    {
     "name": "stdout",
     "output_type": "stream",
     "text": [
      "Saved\n",
      "Saved\n"
     ]
    },
    {
     "name": "stderr",
     "output_type": "stream",
     "text": [
      "C:\\Users\\Bhavya\\Anaconda3\\lib\\socket.py:657: ResourceWarning: unclosed <socket.socket fd=3948, family=AddressFamily.AF_INET6, type=SocketKind.SOCK_STREAM, proto=0, laddr=('2003:e6:9718:e700:70c1:90d5:dc6d:8418', 62373, 0, 0), raddr=('2a04:4e42:1b::323', 443, 0, 0)>\n",
      "  self._sock = None\n"
     ]
    },
    {
     "name": "stdout",
     "output_type": "stream",
     "text": [
      "Saved\n",
      "Saved\n",
      "Saved\n"
     ]
    },
    {
     "name": "stderr",
     "output_type": "stream",
     "text": [
      "C:\\Users\\Bhavya\\Anaconda3\\lib\\socket.py:657: ResourceWarning: unclosed <socket.socket fd=3096, family=AddressFamily.AF_INET, type=SocketKind.SOCK_STREAM, proto=0, laddr=('192.168.100.52', 62391), raddr=('151.101.113.164', 443)>\n",
      "  self._sock = None\n"
     ]
    },
    {
     "name": "stdout",
     "output_type": "stream",
     "text": [
      "Saved\n",
      "Saved\n",
      "Saved\n",
      "Saved\n",
      "Saved\n",
      "Saved\n",
      "Saved\n"
     ]
    },
    {
     "name": "stderr",
     "output_type": "stream",
     "text": [
      "C:\\Users\\Bhavya\\Anaconda3\\lib\\socket.py:657: ResourceWarning: unclosed <socket.socket fd=3428, family=AddressFamily.AF_INET, type=SocketKind.SOCK_STREAM, proto=0, laddr=('192.168.100.52', 62417), raddr=('23.197.10.39', 443)>\n",
      "  self._sock = None\n"
     ]
    },
    {
     "name": "stdout",
     "output_type": "stream",
     "text": [
      "Saved\n",
      "Saved\n"
     ]
    },
    {
     "name": "stderr",
     "output_type": "stream",
     "text": [
      "C:\\Users\\Bhavya\\Anaconda3\\lib\\socket.py:657: ResourceWarning: unclosed <socket.socket fd=3352, family=AddressFamily.AF_INET, type=SocketKind.SOCK_STREAM, proto=0, laddr=('192.168.100.52', 62427), raddr=('151.101.12.239', 443)>\n",
      "  self._sock = None\n"
     ]
    },
    {
     "name": "stdout",
     "output_type": "stream",
     "text": [
      "Saved\n"
     ]
    },
    {
     "name": "stderr",
     "output_type": "stream",
     "text": [
      "C:\\Users\\Bhavya\\Anaconda3\\lib\\socket.py:657: ResourceWarning: unclosed <socket.socket fd=1984, family=AddressFamily.AF_INET, type=SocketKind.SOCK_STREAM, proto=0, laddr=('192.168.100.52', 62434), raddr=('151.101.113.164', 443)>\n",
      "  self._sock = None\n"
     ]
    },
    {
     "name": "stdout",
     "output_type": "stream",
     "text": [
      "Saved\n",
      "Saved\n",
      "Saved\n"
     ]
    },
    {
     "name": "stderr",
     "output_type": "stream",
     "text": [
      "C:\\Users\\Bhavya\\Anaconda3\\lib\\socket.py:657: ResourceWarning: unclosed <socket.socket fd=3188, family=AddressFamily.AF_INET, type=SocketKind.SOCK_STREAM, proto=0, laddr=('192.168.100.52', 62444), raddr=('23.197.10.39', 443)>\n",
      "  self._sock = None\n",
      "C:\\Users\\Bhavya\\Anaconda3\\lib\\socket.py:657: ResourceWarning: unclosed <socket.socket fd=2828, family=AddressFamily.AF_INET, type=SocketKind.SOCK_STREAM, proto=0, laddr=('192.168.100.52', 62458), raddr=('23.197.10.39', 443)>\n",
      "  self._sock = None\n"
     ]
    },
    {
     "name": "stdout",
     "output_type": "stream",
     "text": [
      "Saved\n"
     ]
    },
    {
     "name": "stderr",
     "output_type": "stream",
     "text": [
      "C:\\Users\\Bhavya\\Anaconda3\\lib\\socket.py:657: ResourceWarning: unclosed <socket.socket fd=2528, family=AddressFamily.AF_INET6, type=SocketKind.SOCK_STREAM, proto=0, laddr=('2003:e6:9718:e700:70c1:90d5:dc6d:8418', 62470, 0, 0), raddr=('2a04:4e42:1b::323', 443, 0, 0)>\n",
      "  self._sock = None\n",
      "C:\\Users\\Bhavya\\Anaconda3\\lib\\socket.py:657: ResourceWarning: unclosed <socket.socket fd=2204, family=AddressFamily.AF_INET, type=SocketKind.SOCK_STREAM, proto=0, laddr=('192.168.100.52', 62463), raddr=('151.101.112.239', 443)>\n",
      "  self._sock = None\n"
     ]
    },
    {
     "name": "stdout",
     "output_type": "stream",
     "text": [
      "Saved\n"
     ]
    },
    {
     "name": "stderr",
     "output_type": "stream",
     "text": [
      "C:\\Users\\Bhavya\\Anaconda3\\lib\\socket.py:657: ResourceWarning: unclosed <socket.socket fd=3240, family=AddressFamily.AF_INET6, type=SocketKind.SOCK_STREAM, proto=0, laddr=('2003:e6:9718:e700:70c1:90d5:dc6d:8418', 62488, 0, 0), raddr=('2a04:4e42:1b::323', 443, 0, 0)>\n",
      "  self._sock = None\n"
     ]
    },
    {
     "name": "stdout",
     "output_type": "stream",
     "text": [
      "Saved\n",
      "Saved\n",
      "Saved\n"
     ]
    },
    {
     "name": "stderr",
     "output_type": "stream",
     "text": [
      "C:\\Users\\Bhavya\\Anaconda3\\lib\\socket.py:657: ResourceWarning: unclosed <socket.socket fd=2704, family=AddressFamily.AF_INET, type=SocketKind.SOCK_STREAM, proto=0, laddr=('192.168.100.52', 62497), raddr=('23.197.10.39', 443)>\n",
      "  self._sock = None\n"
     ]
    },
    {
     "name": "stdout",
     "output_type": "stream",
     "text": [
      "Saved\n",
      "Saved\n"
     ]
    },
    {
     "name": "stderr",
     "output_type": "stream",
     "text": [
      "C:\\Users\\Bhavya\\Anaconda3\\lib\\socket.py:657: ResourceWarning: unclosed <socket.socket fd=3820, family=AddressFamily.AF_INET, type=SocketKind.SOCK_STREAM, proto=0, laddr=('192.168.100.52', 62509), raddr=('23.197.10.39', 443)>\n",
      "  self._sock = None\n"
     ]
    },
    {
     "name": "stdout",
     "output_type": "stream",
     "text": [
      "Saved\n",
      "Saved\n"
     ]
    },
    {
     "name": "stderr",
     "output_type": "stream",
     "text": [
      "C:\\Users\\Bhavya\\Anaconda3\\lib\\socket.py:657: ResourceWarning: unclosed <socket.socket fd=2736, family=AddressFamily.AF_INET, type=SocketKind.SOCK_STREAM, proto=0, laddr=('192.168.100.52', 62521), raddr=('151.101.113.164', 443)>\n",
      "  self._sock = None\n"
     ]
    },
    {
     "name": "stdout",
     "output_type": "stream",
     "text": [
      "Saved\n",
      "Saved\n",
      "Saved\n",
      "Saved\n",
      "Saved\n",
      "Saved\n",
      "Saved\n",
      "Saved\n"
     ]
    },
    {
     "name": "stderr",
     "output_type": "stream",
     "text": [
      "C:\\Users\\Bhavya\\Anaconda3\\lib\\socket.py:657: ResourceWarning: unclosed <socket.socket fd=2704, family=AddressFamily.AF_INET, type=SocketKind.SOCK_STREAM, proto=0, laddr=('192.168.100.52', 62561), raddr=('23.197.10.39', 443)>\n",
      "  self._sock = None\n"
     ]
    },
    {
     "name": "stdout",
     "output_type": "stream",
     "text": [
      "Saved\n"
     ]
    },
    {
     "name": "stderr",
     "output_type": "stream",
     "text": [
      "C:\\Users\\Bhavya\\Anaconda3\\lib\\socket.py:657: ResourceWarning: unclosed <socket.socket fd=2624, family=AddressFamily.AF_INET, type=SocketKind.SOCK_STREAM, proto=0, laddr=('192.168.100.52', 62564), raddr=('23.197.10.39', 443)>\n",
      "  self._sock = None\n"
     ]
    },
    {
     "name": "stdout",
     "output_type": "stream",
     "text": [
      "Saved\n",
      "Saved\n",
      "Saved\n",
      "('Connection aborted.', OSError(\"(10060, 'WSAETIMEDOUT')\",))\n",
      "Saved\n",
      "Saved\n",
      "Saved\n",
      "Saved\n",
      "Saved\n",
      "Saved\n",
      "Saved\n"
     ]
    },
    {
     "name": "stderr",
     "output_type": "stream",
     "text": [
      "C:\\Users\\Bhavya\\Anaconda3\\lib\\socket.py:657: ResourceWarning: unclosed <socket.socket fd=3480, family=AddressFamily.AF_INET, type=SocketKind.SOCK_STREAM, proto=0, laddr=('192.168.100.52', 62661), raddr=('151.101.13.171', 443)>\n",
      "  self._sock = None\n"
     ]
    },
    {
     "name": "stdout",
     "output_type": "stream",
     "text": [
      "Saved\n",
      "Saved\n",
      "Saved\n",
      "Saved\n",
      "Saved\n"
     ]
    },
    {
     "name": "stderr",
     "output_type": "stream",
     "text": [
      "C:\\Users\\Bhavya\\Anaconda3\\lib\\socket.py:657: ResourceWarning: unclosed <socket.socket fd=2904, family=AddressFamily.AF_INET, type=SocketKind.SOCK_STREAM, proto=0, laddr=('192.168.100.52', 62692), raddr=('23.197.10.39', 443)>\n",
      "  self._sock = None\n",
      "C:\\Users\\Bhavya\\Anaconda3\\lib\\socket.py:657: ResourceWarning: unclosed <socket.socket fd=2568, family=AddressFamily.AF_INET, type=SocketKind.SOCK_STREAM, proto=0, laddr=('192.168.100.52', 62697), raddr=('151.101.13.164', 443)>\n",
      "  self._sock = None\n"
     ]
    },
    {
     "name": "stdout",
     "output_type": "stream",
     "text": [
      "Saved\n"
     ]
    },
    {
     "name": "stderr",
     "output_type": "stream",
     "text": [
      "C:\\Users\\Bhavya\\Anaconda3\\lib\\socket.py:657: ResourceWarning: unclosed <socket.socket fd=2592, family=AddressFamily.AF_INET, type=SocketKind.SOCK_STREAM, proto=0, laddr=('192.168.100.52', 62704), raddr=('151.101.114.62', 443)>\n",
      "  self._sock = None\n"
     ]
    },
    {
     "name": "stdout",
     "output_type": "stream",
     "text": [
      "Saved\n",
      "Saved\n",
      "Saved\n",
      "Saved\n",
      "('Connection aborted.', OSError(\"(10060, 'WSAETIMEDOUT')\",))\n",
      "Saved\n",
      "Saved\n",
      "Saved\n",
      "Saved\n"
     ]
    },
    {
     "name": "stderr",
     "output_type": "stream",
     "text": [
      "C:\\Users\\Bhavya\\Anaconda3\\lib\\socket.py:657: ResourceWarning: unclosed <socket.socket fd=3576, family=AddressFamily.AF_INET6, type=SocketKind.SOCK_STREAM, proto=0, laddr=('2003:e6:9718:e700:70c1:90d5:dc6d:8418', 62747, 0, 0), raddr=('2a04:4e42:3::323', 443, 0, 0)>\n",
      "  self._sock = None\n"
     ]
    },
    {
     "name": "stdout",
     "output_type": "stream",
     "text": [
      "Saved\n",
      "Saved\n",
      "Saved\n",
      "Saved\n",
      "Saved\n",
      "Saved\n",
      "Saved\n",
      "Saved\n",
      "Saved\n",
      "Saved\n",
      "Saved\n",
      "Saved\n"
     ]
    },
    {
     "name": "stderr",
     "output_type": "stream",
     "text": [
      "C:\\Users\\Bhavya\\Anaconda3\\lib\\socket.py:657: ResourceWarning: unclosed <socket.socket fd=2644, family=AddressFamily.AF_INET, type=SocketKind.SOCK_STREAM, proto=0, laddr=('192.168.100.52', 62780), raddr=('151.101.112.239', 443)>\n",
      "  self._sock = None\n",
      "C:\\Users\\Bhavya\\Anaconda3\\lib\\socket.py:657: ResourceWarning: unclosed <socket.socket fd=2780, family=AddressFamily.AF_INET, type=SocketKind.SOCK_STREAM, proto=0, laddr=('192.168.100.52', 62800), raddr=('23.197.10.39', 443)>\n",
      "  self._sock = None\n"
     ]
    },
    {
     "name": "stdout",
     "output_type": "stream",
     "text": [
      "Saved\n",
      "Saved\n",
      "Saved\n"
     ]
    },
    {
     "name": "stderr",
     "output_type": "stream",
     "text": [
      "C:\\Users\\Bhavya\\Anaconda3\\lib\\socket.py:657: ResourceWarning: unclosed <socket.socket fd=3804, family=AddressFamily.AF_INET, type=SocketKind.SOCK_STREAM, proto=0, laddr=('192.168.100.52', 62812), raddr=('23.197.10.39', 443)>\n",
      "  self._sock = None\n"
     ]
    },
    {
     "name": "stdout",
     "output_type": "stream",
     "text": [
      "Saved\n",
      "Saved\n",
      "Saved\n",
      "Saved\n",
      "Saved\n",
      "Saved\n"
     ]
    },
    {
     "name": "stderr",
     "output_type": "stream",
     "text": [
      "C:\\Users\\Bhavya\\Anaconda3\\lib\\socket.py:657: ResourceWarning: unclosed <socket.socket fd=2992, family=AddressFamily.AF_INET, type=SocketKind.SOCK_STREAM, proto=0, laddr=('192.168.100.52', 62832), raddr=('23.197.10.39', 443)>\n",
      "  self._sock = None\n"
     ]
    },
    {
     "name": "stdout",
     "output_type": "stream",
     "text": [
      "Saved\n",
      "Saved\n",
      "Saved\n",
      "300\n",
      "Saved\n",
      "Saved\n",
      "Saved\n",
      "Saved\n",
      "Saved\n",
      "Saved\n",
      "Saved\n",
      "Saved\n",
      "Saved\n",
      "Saved\n",
      "Saved\n",
      "Saved\n",
      "Saved\n",
      "Saved\n",
      "Saved\n",
      "Saved\n",
      "Saved\n",
      "Saved\n",
      "Saved\n",
      "Saved\n",
      "Saved\n",
      "Saved\n",
      "Saved\n",
      "Saved\n",
      "Saved\n",
      "Saved\n",
      "Saved\n",
      "Saved\n",
      "Saved\n",
      "Saved\n",
      "Saved\n",
      "Saved\n",
      "Saved\n",
      "Saved\n",
      "Saved\n",
      "Saved\n",
      "Saved\n",
      "Saved\n",
      "Saved\n",
      "Saved\n",
      "Saved\n",
      "Saved\n",
      "Saved\n",
      "Saved\n",
      "Saved\n",
      "Saved\n",
      "Saved\n",
      "Saved\n",
      "Saved\n",
      "Saved\n",
      "Saved\n",
      "Saved\n",
      "Saved\n",
      "Saved\n",
      "Saved\n",
      "Saved\n",
      "Saved\n",
      "Saved\n",
      "Saved\n",
      "Saved\n",
      "Saved\n",
      "Saved\n",
      "Saved\n",
      "Saved\n",
      "Saved\n",
      "Saved\n",
      "Saved\n",
      "Saved\n",
      "Saved\n",
      "Saved\n",
      "Saved\n",
      "Saved\n",
      "Saved\n",
      "Saved\n",
      "Saved\n",
      "Saved\n",
      "Saved\n",
      "Saved\n",
      "Saved\n",
      "Saved\n",
      "Saved\n",
      "Saved\n",
      "Saved\n",
      "Saved\n",
      "Saved\n",
      "Saved\n",
      "Saved\n",
      "Saved\n",
      "Saved\n",
      "Saved\n",
      "Saved\n",
      "Saved\n",
      "Saved\n",
      "Saved\n",
      "Saved\n",
      "Saved\n",
      "Saved\n",
      "Saved\n",
      "Saved\n",
      "Saved\n",
      "Saved\n",
      "Saved\n",
      "Saved\n",
      "Saved\n",
      "Saved\n"
     ]
    },
    {
     "name": "stderr",
     "output_type": "stream",
     "text": [
      "C:\\Users\\Bhavya\\Anaconda3\\lib\\socket.py:657: ResourceWarning: unclosed <socket.socket fd=3068, family=AddressFamily.AF_INET6, type=SocketKind.SOCK_STREAM, proto=0, laddr=('2003:e6:9718:e700:70c1:90d5:dc6d:8418', 62894, 0, 0), raddr=('2a04:4e42:3::323', 443, 0, 0)>\n",
      "  self._sock = None\n",
      "C:\\Users\\Bhavya\\Anaconda3\\lib\\site-packages\\pandas\\core\\ops.py:1649: FutureWarning: elementwise comparison failed; returning scalar instead, but in the future will perform elementwise comparison\n",
      "  result = method(y)\n",
      "C:\\Users\\Bhavya\\Anaconda3\\lib\\socket.py:657: ResourceWarning: unclosed <socket.socket fd=3312, family=AddressFamily.AF_INET, type=SocketKind.SOCK_STREAM, proto=0, laddr=('192.168.100.52', 62899), raddr=('151.101.13.164', 443)>\n",
      "  self._sock = None\n"
     ]
    },
    {
     "name": "stdout",
     "output_type": "stream",
     "text": [
      "Saved\n"
     ]
    },
    {
     "name": "stderr",
     "output_type": "stream",
     "text": [
      "C:\\Users\\Bhavya\\Anaconda3\\lib\\socket.py:657: ResourceWarning: unclosed <socket.socket fd=1984, family=AddressFamily.AF_INET, type=SocketKind.SOCK_STREAM, proto=0, laddr=('192.168.100.52', 62904), raddr=('151.101.12.239', 443)>\n",
      "  self._sock = None\n"
     ]
    },
    {
     "name": "stdout",
     "output_type": "stream",
     "text": [
      "Saved\n",
      "Saved\n",
      "Saved\n",
      "Saved\n"
     ]
    },
    {
     "name": "stderr",
     "output_type": "stream",
     "text": [
      "C:\\Users\\Bhavya\\Anaconda3\\lib\\socket.py:657: ResourceWarning: unclosed <socket.socket fd=3448, family=AddressFamily.AF_INET, type=SocketKind.SOCK_STREAM, proto=0, laddr=('192.168.100.52', 62926), raddr=('23.197.10.39', 443)>\n",
      "  self._sock = None\n",
      "C:\\Users\\Bhavya\\Anaconda3\\lib\\socket.py:657: ResourceWarning: unclosed <socket.socket fd=2972, family=AddressFamily.AF_INET, type=SocketKind.SOCK_STREAM, proto=0, laddr=('192.168.100.52', 62935), raddr=('23.197.10.39', 443)>\n",
      "  self._sock = None\n"
     ]
    },
    {
     "name": "stdout",
     "output_type": "stream",
     "text": [
      "Saved\n",
      "Saved\n",
      "Saved\n",
      "Saved\n"
     ]
    },
    {
     "name": "stderr",
     "output_type": "stream",
     "text": [
      "C:\\Users\\Bhavya\\Anaconda3\\lib\\socket.py:657: ResourceWarning: unclosed <socket.socket fd=4044, family=AddressFamily.AF_INET, type=SocketKind.SOCK_STREAM, proto=0, laddr=('192.168.100.52', 62954), raddr=('151.101.114.62', 443)>\n",
      "  self._sock = None\n",
      "C:\\Users\\Bhavya\\Anaconda3\\lib\\socket.py:657: ResourceWarning: unclosed <socket.socket fd=3588, family=AddressFamily.AF_INET, type=SocketKind.SOCK_STREAM, proto=0, laddr=('192.168.100.52', 62959), raddr=('151.101.113.171', 443)>\n",
      "  self._sock = None\n"
     ]
    },
    {
     "name": "stdout",
     "output_type": "stream",
     "text": [
      "Saved\n"
     ]
    },
    {
     "name": "stderr",
     "output_type": "stream",
     "text": [
      "C:\\Users\\Bhavya\\Anaconda3\\lib\\socket.py:657: ResourceWarning: unclosed <socket.socket fd=2424, family=AddressFamily.AF_INET, type=SocketKind.SOCK_STREAM, proto=0, laddr=('192.168.100.52', 62964), raddr=('23.197.10.39', 443)>\n",
      "  self._sock = None\n"
     ]
    },
    {
     "name": "stdout",
     "output_type": "stream",
     "text": [
      "Saved\n",
      "Saved\n",
      "Saved\n"
     ]
    },
    {
     "name": "stderr",
     "output_type": "stream",
     "text": [
      "C:\\Users\\Bhavya\\Desktop\\Vaibhav\\Django-projects\\recallie_web\\news\\utils.py:569: SettingWithCopyWarning: \n",
      "A value is trying to be set on a copy of a slice from a DataFrame.\n",
      "Try using .loc[row_indexer,col_indexer] = value instead\n",
      "\n",
      "See the caveats in the documentation: http://pandas.pydata.org/pandas-docs/stable/indexing.html#indexing-view-versus-copy\n",
      "  self.main_df['Subject'] = self.message\n"
     ]
    },
    {
     "name": "stdout",
     "output_type": "stream",
     "text": [
      "Saved\n"
     ]
    },
    {
     "name": "stderr",
     "output_type": "stream",
     "text": [
      "C:\\Users\\Bhavya\\Anaconda3\\lib\\socket.py:657: ResourceWarning: unclosed <socket.socket fd=3520, family=AddressFamily.AF_INET, type=SocketKind.SOCK_STREAM, proto=0, laddr=('192.168.100.52', 62983), raddr=('151.101.13.164', 443)>\n",
      "  self._sock = None\n"
     ]
    },
    {
     "name": "stdout",
     "output_type": "stream",
     "text": [
      "Saved\n",
      "Saved\n",
      "Saved\n",
      "Saved\n"
     ]
    },
    {
     "name": "stderr",
     "output_type": "stream",
     "text": [
      "C:\\Users\\Bhavya\\Anaconda3\\lib\\site-packages\\pandas\\core\\ops.py:1649: FutureWarning: elementwise comparison failed; returning scalar instead, but in the future will perform elementwise comparison\n",
      "  result = method(y)\n"
     ]
    },
    {
     "name": "stdout",
     "output_type": "stream",
     "text": [
      "Saved\n",
      "Saved\n"
     ]
    },
    {
     "name": "stderr",
     "output_type": "stream",
     "text": [
      "C:\\Users\\Bhavya\\Anaconda3\\lib\\socket.py:657: ResourceWarning: unclosed <socket.socket fd=4092, family=AddressFamily.AF_INET, type=SocketKind.SOCK_STREAM, proto=0, laddr=('192.168.100.52', 63014), raddr=('23.197.10.39', 443)>\n",
      "  self._sock = None\n",
      "C:\\Users\\Bhavya\\Anaconda3\\lib\\socket.py:657: ResourceWarning: unclosed <socket.socket fd=3212, family=AddressFamily.AF_INET6, type=SocketKind.SOCK_STREAM, proto=0, laddr=('2003:e6:9718:e700:70c1:90d5:dc6d:8418', 63022, 0, 0), raddr=('2a04:4e42:3::323', 443, 0, 0)>\n",
      "  self._sock = None\n"
     ]
    },
    {
     "name": "stdout",
     "output_type": "stream",
     "text": [
      "Saved\n"
     ]
    },
    {
     "name": "stderr",
     "output_type": "stream",
     "text": [
      "C:\\Users\\Bhavya\\Anaconda3\\lib\\site-packages\\pandas\\core\\ops.py:1649: FutureWarning: elementwise comparison failed; returning scalar instead, but in the future will perform elementwise comparison\n",
      "  result = method(y)\n"
     ]
    },
    {
     "name": "stdout",
     "output_type": "stream",
     "text": [
      "Saved\n",
      "Saved\n",
      "Saved\n"
     ]
    },
    {
     "name": "stderr",
     "output_type": "stream",
     "text": [
      "C:\\Users\\Bhavya\\Anaconda3\\lib\\socket.py:657: ResourceWarning: unclosed <socket.socket fd=3604, family=AddressFamily.AF_INET, type=SocketKind.SOCK_STREAM, proto=0, laddr=('192.168.100.52', 63048), raddr=('23.197.10.39', 443)>\n",
      "  self._sock = None\n"
     ]
    },
    {
     "name": "stdout",
     "output_type": "stream",
     "text": [
      "Saved\n"
     ]
    },
    {
     "name": "stderr",
     "output_type": "stream",
     "text": [
      "C:\\Users\\Bhavya\\Anaconda3\\lib\\socket.py:657: ResourceWarning: unclosed <socket.socket fd=3368, family=AddressFamily.AF_INET, type=SocketKind.SOCK_STREAM, proto=0, laddr=('192.168.100.52', 63053), raddr=('151.101.114.62', 443)>\n",
      "  self._sock = None\n"
     ]
    },
    {
     "name": "stdout",
     "output_type": "stream",
     "text": [
      "Saved\n",
      "Saved\n",
      "Saved\n"
     ]
    },
    {
     "name": "stderr",
     "output_type": "stream",
     "text": [
      "C:\\Users\\Bhavya\\Anaconda3\\lib\\socket.py:657: ResourceWarning: unclosed <socket.socket fd=4092, family=AddressFamily.AF_INET, type=SocketKind.SOCK_STREAM, proto=0, laddr=('192.168.100.52', 63065), raddr=('23.197.10.39', 443)>\n",
      "  self._sock = None\n"
     ]
    },
    {
     "name": "stdout",
     "output_type": "stream",
     "text": [
      "Saved\n",
      "Saved\n",
      "Saved\n"
     ]
    },
    {
     "name": "stderr",
     "output_type": "stream",
     "text": [
      "C:\\Users\\Bhavya\\Anaconda3\\lib\\socket.py:657: ResourceWarning: unclosed <socket.socket fd=2912, family=AddressFamily.AF_INET, type=SocketKind.SOCK_STREAM, proto=0, laddr=('192.168.100.52', 63080), raddr=('23.197.10.39', 443)>\n",
      "  self._sock = None\n"
     ]
    },
    {
     "name": "stdout",
     "output_type": "stream",
     "text": [
      "Saved\n"
     ]
    },
    {
     "name": "stderr",
     "output_type": "stream",
     "text": [
      "C:\\Users\\Bhavya\\Anaconda3\\lib\\socket.py:657: ResourceWarning: unclosed <socket.socket fd=3792, family=AddressFamily.AF_INET, type=SocketKind.SOCK_STREAM, proto=0, laddr=('192.168.100.52', 63086), raddr=('151.101.112.239', 443)>\n",
      "  self._sock = None\n",
      "C:\\Users\\Bhavya\\Anaconda3\\lib\\socket.py:657: ResourceWarning: unclosed <socket.socket fd=2892, family=AddressFamily.AF_INET, type=SocketKind.SOCK_STREAM, proto=0, laddr=('192.168.100.52', 63091), raddr=('151.101.112.239', 443)>\n",
      "  self._sock = None\n",
      "C:\\Users\\Bhavya\\Anaconda3\\lib\\socket.py:657: ResourceWarning: unclosed <socket.socket fd=2952, family=AddressFamily.AF_INET, type=SocketKind.SOCK_STREAM, proto=0, laddr=('192.168.100.52', 63094), raddr=('151.101.112.239', 443)>\n",
      "  self._sock = None\n",
      "C:\\Users\\Bhavya\\Anaconda3\\lib\\socket.py:657: ResourceWarning: unclosed <socket.socket fd=2708, family=AddressFamily.AF_INET6, type=SocketKind.SOCK_STREAM, proto=0, laddr=('2003:e6:9718:e700:70c1:90d5:dc6d:8418', 63095, 0, 0), raddr=('2a04:4e42:1b::323', 443, 0, 0)>\n",
      "  self._sock = None\n"
     ]
    },
    {
     "name": "stdout",
     "output_type": "stream",
     "text": [
      "Saved\n",
      "Saved\n"
     ]
    },
    {
     "name": "stderr",
     "output_type": "stream",
     "text": [
      "C:\\Users\\Bhavya\\Anaconda3\\lib\\socket.py:657: ResourceWarning: unclosed <socket.socket fd=3808, family=AddressFamily.AF_INET, type=SocketKind.SOCK_STREAM, proto=0, laddr=('192.168.100.52', 63109), raddr=('151.101.112.239', 443)>\n",
      "  self._sock = None\n"
     ]
    },
    {
     "name": "stdout",
     "output_type": "stream",
     "text": [
      "Saved\n",
      "Saved\n"
     ]
    },
    {
     "name": "stderr",
     "output_type": "stream",
     "text": [
      "C:\\Users\\Bhavya\\Anaconda3\\lib\\socket.py:657: ResourceWarning: unclosed <socket.socket fd=3808, family=AddressFamily.AF_INET, type=SocketKind.SOCK_STREAM, proto=0, laddr=('192.168.100.52', 63112), raddr=('151.101.112.239', 443)>\n",
      "  self._sock = None\n"
     ]
    },
    {
     "name": "stdout",
     "output_type": "stream",
     "text": [
      "Saved\n",
      "Saved\n"
     ]
    },
    {
     "name": "stderr",
     "output_type": "stream",
     "text": [
      "C:\\Users\\Bhavya\\Anaconda3\\lib\\socket.py:657: ResourceWarning: unclosed <socket.socket fd=3840, family=AddressFamily.AF_INET, type=SocketKind.SOCK_STREAM, proto=0, laddr=('192.168.100.52', 63130), raddr=('151.101.14.62', 443)>\n",
      "  self._sock = None\n"
     ]
    },
    {
     "name": "stdout",
     "output_type": "stream",
     "text": [
      "Saved\n",
      "Saved\n"
     ]
    },
    {
     "name": "stderr",
     "output_type": "stream",
     "text": [
      "C:\\Users\\Bhavya\\Anaconda3\\lib\\socket.py:657: ResourceWarning: unclosed <socket.socket fd=3988, family=AddressFamily.AF_INET, type=SocketKind.SOCK_STREAM, proto=0, laddr=('192.168.100.52', 63150), raddr=('23.197.10.39', 443)>\n",
      "  self._sock = None\n"
     ]
    },
    {
     "name": "stdout",
     "output_type": "stream",
     "text": [
      "Saved\n",
      "Saved\n",
      "Saved\n",
      "Saved\n",
      "Saved\n"
     ]
    },
    {
     "name": "stderr",
     "output_type": "stream",
     "text": [
      "C:\\Users\\Bhavya\\Anaconda3\\lib\\socket.py:657: ResourceWarning: unclosed <socket.socket fd=3988, family=AddressFamily.AF_INET, type=SocketKind.SOCK_STREAM, proto=0, laddr=('192.168.100.52', 63173), raddr=('151.101.112.239', 443)>\n",
      "  self._sock = None\n"
     ]
    },
    {
     "name": "stdout",
     "output_type": "stream",
     "text": [
      "Saved\n",
      "Saved\n",
      "Saved\n",
      "Saved\n",
      "Saved\n",
      "Saved\n",
      "Saved\n",
      "Saved\n",
      "Saved\n",
      "Saved\n"
     ]
    },
    {
     "name": "stderr",
     "output_type": "stream",
     "text": [
      "C:\\Users\\Bhavya\\Anaconda3\\lib\\socket.py:657: ResourceWarning: unclosed <socket.socket fd=3816, family=AddressFamily.AF_INET, type=SocketKind.SOCK_STREAM, proto=0, laddr=('192.168.100.52', 63263), raddr=('151.101.114.62', 443)>\n",
      "  self._sock = None\n"
     ]
    },
    {
     "name": "stdout",
     "output_type": "stream",
     "text": [
      "Saved\n",
      "Saved\n"
     ]
    },
    {
     "name": "stderr",
     "output_type": "stream",
     "text": [
      "C:\\Users\\Bhavya\\Anaconda3\\lib\\socket.py:657: ResourceWarning: unclosed <socket.socket fd=3300, family=AddressFamily.AF_INET, type=SocketKind.SOCK_STREAM, proto=0, laddr=('192.168.100.52', 63279), raddr=('151.101.13.164', 443)>\n",
      "  self._sock = None\n"
     ]
    },
    {
     "name": "stdout",
     "output_type": "stream",
     "text": [
      "Saved\n",
      "Saved\n",
      "Saved\n",
      "Saved\n",
      "Saved\n"
     ]
    },
    {
     "name": "stderr",
     "output_type": "stream",
     "text": [
      "C:\\Users\\Bhavya\\Anaconda3\\lib\\socket.py:657: ResourceWarning: unclosed <socket.socket fd=2384, family=AddressFamily.AF_INET, type=SocketKind.SOCK_STREAM, proto=0, laddr=('192.168.100.52', 63314), raddr=('23.197.10.39', 443)>\n",
      "  self._sock = None\n"
     ]
    },
    {
     "name": "stdout",
     "output_type": "stream",
     "text": [
      "Saved\n"
     ]
    },
    {
     "name": "stderr",
     "output_type": "stream",
     "text": [
      "C:\\Users\\Bhavya\\Anaconda3\\lib\\socket.py:657: ResourceWarning: unclosed <socket.socket fd=2764, family=AddressFamily.AF_INET, type=SocketKind.SOCK_STREAM, proto=0, laddr=('192.168.100.52', 63322), raddr=('23.197.10.39', 443)>\n",
      "  self._sock = None\n"
     ]
    },
    {
     "name": "stdout",
     "output_type": "stream",
     "text": [
      "Saved\n",
      "Saved\n",
      "Saved\n",
      "Saved\n",
      "Saved\n",
      "Saved\n",
      "('Connection aborted.', OSError(\"(10060, 'WSAETIMEDOUT')\",))\n"
     ]
    },
    {
     "name": "stderr",
     "output_type": "stream",
     "text": [
      "C:\\Users\\Bhavya\\Anaconda3\\lib\\socket.py:657: ResourceWarning: unclosed <socket.socket fd=3648, family=AddressFamily.AF_INET, type=SocketKind.SOCK_STREAM, proto=0, laddr=('192.168.100.52', 63357), raddr=('151.101.12.239', 443)>\n",
      "  self._sock = None\n"
     ]
    },
    {
     "name": "stdout",
     "output_type": "stream",
     "text": [
      "Saved\n"
     ]
    },
    {
     "name": "stderr",
     "output_type": "stream",
     "text": [
      "C:\\Users\\Bhavya\\Anaconda3\\lib\\socket.py:657: ResourceWarning: unclosed <socket.socket fd=3316, family=AddressFamily.AF_INET, type=SocketKind.SOCK_STREAM, proto=0, laddr=('192.168.100.52', 63373), raddr=('23.197.10.39', 443)>\n",
      "  self._sock = None\n"
     ]
    },
    {
     "name": "stdout",
     "output_type": "stream",
     "text": [
      "Saved\n",
      "Saved\n",
      "Saved\n"
     ]
    },
    {
     "name": "stderr",
     "output_type": "stream",
     "text": [
      "C:\\Users\\Bhavya\\Anaconda3\\lib\\socket.py:657: ResourceWarning: unclosed <socket.socket fd=3756, family=AddressFamily.AF_INET, type=SocketKind.SOCK_STREAM, proto=0, laddr=('192.168.100.52', 63392), raddr=('23.197.10.39', 443)>\n",
      "  self._sock = None\n"
     ]
    },
    {
     "name": "stdout",
     "output_type": "stream",
     "text": [
      "Saved\n",
      "Saved\n"
     ]
    },
    {
     "name": "stderr",
     "output_type": "stream",
     "text": [
      "C:\\Users\\Bhavya\\Anaconda3\\lib\\socket.py:657: ResourceWarning: unclosed <socket.socket fd=2464, family=AddressFamily.AF_INET, type=SocketKind.SOCK_STREAM, proto=0, laddr=('192.168.100.52', 63413), raddr=('23.197.10.39', 443)>\n",
      "  self._sock = None\n",
      "C:\\Users\\Bhavya\\Anaconda3\\lib\\socket.py:657: ResourceWarning: unclosed <socket.socket fd=3132, family=AddressFamily.AF_INET, type=SocketKind.SOCK_STREAM, proto=0, laddr=('192.168.100.52', 63423), raddr=('151.101.13.164', 443)>\n",
      "  self._sock = None\n"
     ]
    },
    {
     "name": "stdout",
     "output_type": "stream",
     "text": [
      "Saved\n",
      "Saved\n",
      "Saved\n",
      "Saved\n"
     ]
    },
    {
     "name": "stderr",
     "output_type": "stream",
     "text": [
      "C:\\Users\\Bhavya\\Anaconda3\\lib\\socket.py:657: ResourceWarning: unclosed <socket.socket fd=3444, family=AddressFamily.AF_INET, type=SocketKind.SOCK_STREAM, proto=0, laddr=('192.168.100.52', 63447), raddr=('23.197.10.39', 443)>\n",
      "  self._sock = None\n"
     ]
    },
    {
     "name": "stdout",
     "output_type": "stream",
     "text": [
      "Saved\n",
      "Saved\n"
     ]
    },
    {
     "name": "stderr",
     "output_type": "stream",
     "text": [
      "C:\\Users\\Bhavya\\Anaconda3\\lib\\socket.py:657: ResourceWarning: unclosed <socket.socket fd=3524, family=AddressFamily.AF_INET, type=SocketKind.SOCK_STREAM, proto=0, laddr=('192.168.100.52', 63474), raddr=('23.197.10.39', 443)>\n",
      "  self._sock = None\n"
     ]
    },
    {
     "name": "stdout",
     "output_type": "stream",
     "text": [
      "Saved\n"
     ]
    },
    {
     "name": "stderr",
     "output_type": "stream",
     "text": [
      "C:\\Users\\Bhavya\\Anaconda3\\lib\\socket.py:657: ResourceWarning: unclosed <socket.socket fd=2616, family=AddressFamily.AF_INET, type=SocketKind.SOCK_STREAM, proto=0, laddr=('192.168.100.52', 63480), raddr=('23.197.10.39', 443)>\n",
      "  self._sock = None\n"
     ]
    },
    {
     "name": "stdout",
     "output_type": "stream",
     "text": [
      "Saved\n",
      "Saved\n"
     ]
    },
    {
     "name": "stderr",
     "output_type": "stream",
     "text": [
      "Exception ignored in: <bound method Utils.__del__ of <news.utils.Utils object at 0x000002D4AA38BFD0>>\n",
      "Traceback (most recent call last):\n",
      "  File \"C:\\Users\\Bhavya\\Desktop\\Vaibhav\\Django-projects\\recallie_web\\news\\utils.py\", line 363, in __del__\n",
      "    self.save_dict()\n",
      "  File \"C:\\Users\\Bhavya\\Desktop\\Vaibhav\\Django-projects\\recallie_web\\news\\utils.py\", line 467, in save_dict\n",
      "    old_dict = self.get_dict()\n",
      "  File \"C:\\Users\\Bhavya\\Desktop\\Vaibhav\\Django-projects\\recallie_web\\news\\utils.py\", line 477, in get_dict\n",
      "    di = pickle.load(fp)\n",
      "_pickle.UnpicklingError: pickle data was truncated\n"
     ]
    },
    {
     "name": "stdout",
     "output_type": "stream",
     "text": [
      "Saved\n",
      "Saved\n",
      "Saved\n",
      "Saved\n",
      "Saved\n",
      "Saved\n",
      "Saved\n",
      "Saved\n",
      "Saved\n",
      "400\n",
      "Saved\n",
      "Saved\n",
      "Saved\n",
      "Saved\n",
      "Saved\n",
      "Saved\n",
      "Saved\n",
      "Saved\n",
      "Saved\n",
      "Saved\n",
      "Saved\n",
      "Saved\n",
      "Saved\n",
      "Saved\n",
      "Saved\n",
      "Saved\n",
      "Saved\n",
      "Saved\n",
      "Saved\n",
      "Saved\n",
      "Saved\n",
      "Saved\n",
      "Saved\n",
      "Saved\n",
      "Saved\n",
      "Saved\n",
      "Saved\n",
      "Saved\n",
      "Saved\n",
      "Saved\n",
      "Saved\n",
      "Saved\n",
      "Saved\n",
      "Saved\n",
      "Saved\n",
      "Saved\n",
      "Saved\n",
      "Saved\n",
      "Saved\n",
      "Saved\n",
      "Saved\n",
      "Saved\n",
      "Saved\n",
      "Saved\n",
      "Saved\n",
      "Saved\n",
      "Saved\n",
      "Saved\n",
      "Saved\n",
      "Saved\n",
      "Saved\n",
      "Saved\n",
      "Saved\n",
      "Saved\n",
      "Saved\n",
      "Saved\n",
      "Saved\n",
      "Saved\n",
      "Saved\n",
      "Saved\n",
      "Saved\n",
      "Saved\n",
      "Saved\n",
      "Saved\n",
      "Saved\n",
      "Saved\n",
      "Saved\n",
      "Saved\n",
      "Saved\n",
      "Saved\n",
      "Saved\n",
      "Saved\n",
      "Saved\n",
      "Saved\n",
      "Saved\n",
      "Saved\n",
      "Saved\n",
      "Saved\n",
      "Saved\n",
      "Saved\n",
      "Saved\n",
      "Saved\n",
      "Saved\n",
      "Saved\n",
      "Saved\n",
      "Saved\n",
      "Saved\n",
      "Saved\n",
      "Saved\n",
      "Saved\n",
      "Saved\n",
      "Saved\n",
      "Saved\n",
      "Saved\n",
      "Saved\n",
      "Saved\n",
      "Saved\n",
      "Saved\n",
      "Saved\n"
     ]
    },
    {
     "name": "stderr",
     "output_type": "stream",
     "text": [
      "C:\\Users\\Bhavya\\Anaconda3\\lib\\socket.py:657: ResourceWarning: unclosed <socket.socket fd=3744, family=AddressFamily.AF_INET6, type=SocketKind.SOCK_STREAM, proto=0, laddr=('2003:e6:9718:e700:70c1:90d5:dc6d:8418', 63536, 0, 0), raddr=('2a04:4e42:3::323', 443, 0, 0)>\n",
      "  self._sock = None\n"
     ]
    },
    {
     "name": "stdout",
     "output_type": "stream",
     "text": [
      "Saved\n",
      "Saved\n"
     ]
    },
    {
     "name": "stderr",
     "output_type": "stream",
     "text": [
      "C:\\Users\\Bhavya\\Anaconda3\\lib\\socket.py:657: ResourceWarning: unclosed <socket.socket fd=2688, family=AddressFamily.AF_INET, type=SocketKind.SOCK_STREAM, proto=0, laddr=('192.168.100.52', 63547), raddr=('151.101.114.62', 443)>\n",
      "  self._sock = None\n"
     ]
    },
    {
     "name": "stdout",
     "output_type": "stream",
     "text": [
      "Saved\n",
      "Saved\n"
     ]
    },
    {
     "name": "stderr",
     "output_type": "stream",
     "text": [
      "C:\\Users\\Bhavya\\Anaconda3\\lib\\socket.py:657: ResourceWarning: unclosed <socket.socket fd=2672, family=AddressFamily.AF_INET, type=SocketKind.SOCK_STREAM, proto=0, laddr=('192.168.100.52', 63554), raddr=('151.101.113.171', 443)>\n",
      "  self._sock = None\n"
     ]
    },
    {
     "name": "stdout",
     "output_type": "stream",
     "text": [
      "Saved\n"
     ]
    },
    {
     "name": "stderr",
     "output_type": "stream",
     "text": [
      "C:\\Users\\Bhavya\\Anaconda3\\lib\\socket.py:657: ResourceWarning: unclosed <socket.socket fd=3912, family=AddressFamily.AF_INET, type=SocketKind.SOCK_STREAM, proto=0, laddr=('192.168.100.52', 63568), raddr=('151.101.113.164', 443)>\n",
      "  self._sock = None\n"
     ]
    },
    {
     "name": "stdout",
     "output_type": "stream",
     "text": [
      "Saved\n",
      "Saved\n",
      "Saved\n",
      "Saved\n",
      "Saved\n"
     ]
    },
    {
     "name": "stderr",
     "output_type": "stream",
     "text": [
      "C:\\Users\\Bhavya\\Anaconda3\\lib\\socket.py:657: ResourceWarning: unclosed <socket.socket fd=2744, family=AddressFamily.AF_INET, type=SocketKind.SOCK_STREAM, proto=0, laddr=('192.168.100.52', 63603), raddr=('23.197.10.39', 443)>\n",
      "  self._sock = None\n"
     ]
    },
    {
     "name": "stdout",
     "output_type": "stream",
     "text": [
      "Saved\n",
      "Saved\n"
     ]
    },
    {
     "name": "stderr",
     "output_type": "stream",
     "text": [
      "C:\\Users\\Bhavya\\Anaconda3\\lib\\socket.py:657: ResourceWarning: unclosed <socket.socket fd=3216, family=AddressFamily.AF_INET6, type=SocketKind.SOCK_STREAM, proto=0, laddr=('2003:e6:9718:e700:70c1:90d5:dc6d:8418', 63612, 0, 0), raddr=('2620:12a:8001::4', 443, 0, 0)>\n",
      "  self._sock = None\n"
     ]
    },
    {
     "name": "stdout",
     "output_type": "stream",
     "text": [
      "Saved\n"
     ]
    },
    {
     "name": "stderr",
     "output_type": "stream",
     "text": [
      "C:\\Users\\Bhavya\\Desktop\\Vaibhav\\Django-projects\\recallie_web\\news\\utils.py:569: SettingWithCopyWarning: \n",
      "A value is trying to be set on a copy of a slice from a DataFrame.\n",
      "Try using .loc[row_indexer,col_indexer] = value instead\n",
      "\n",
      "See the caveats in the documentation: http://pandas.pydata.org/pandas-docs/stable/indexing.html#indexing-view-versus-copy\n",
      "  self.main_df['Subject'] = self.message\n"
     ]
    },
    {
     "name": "stdout",
     "output_type": "stream",
     "text": [
      "Saved\n",
      "Saved\n"
     ]
    },
    {
     "name": "stderr",
     "output_type": "stream",
     "text": [
      "C:\\Users\\Bhavya\\Anaconda3\\lib\\socket.py:657: ResourceWarning: unclosed <socket.socket fd=4052, family=AddressFamily.AF_INET, type=SocketKind.SOCK_STREAM, proto=0, laddr=('192.168.100.52', 63625), raddr=('151.101.113.164', 443)>\n",
      "  self._sock = None\n",
      "C:\\Users\\Bhavya\\Anaconda3\\lib\\socket.py:657: ResourceWarning: unclosed <socket.socket fd=2464, family=AddressFamily.AF_INET, type=SocketKind.SOCK_STREAM, proto=0, laddr=('192.168.100.52', 63618), raddr=('151.101.12.239', 443)>\n",
      "  self._sock = None\n"
     ]
    },
    {
     "name": "stdout",
     "output_type": "stream",
     "text": [
      "Saved\n"
     ]
    },
    {
     "name": "stderr",
     "output_type": "stream",
     "text": [
      "C:\\Users\\Bhavya\\Anaconda3\\lib\\socket.py:657: ResourceWarning: unclosed <socket.socket fd=3312, family=AddressFamily.AF_INET, type=SocketKind.SOCK_STREAM, proto=0, laddr=('192.168.100.52', 63633), raddr=('151.101.113.171', 443)>\n",
      "  self._sock = None\n"
     ]
    },
    {
     "name": "stdout",
     "output_type": "stream",
     "text": [
      "Saved\n",
      "Saved\n",
      "Saved\n",
      "('Connection aborted.', OSError(\"(10060, 'WSAETIMEDOUT')\",))\n",
      "Saved\n",
      "Saved\n"
     ]
    },
    {
     "name": "stderr",
     "output_type": "stream",
     "text": [
      "C:\\Users\\Bhavya\\Desktop\\Vaibhav\\Django-projects\\recallie_web\\news\\utils.py:569: SettingWithCopyWarning: \n",
      "A value is trying to be set on a copy of a slice from a DataFrame.\n",
      "Try using .loc[row_indexer,col_indexer] = value instead\n",
      "\n",
      "See the caveats in the documentation: http://pandas.pydata.org/pandas-docs/stable/indexing.html#indexing-view-versus-copy\n",
      "  self.main_df['Subject'] = self.message\n",
      "C:\\Users\\Bhavya\\Anaconda3\\lib\\socket.py:657: ResourceWarning: unclosed <socket.socket fd=3372, family=AddressFamily.AF_INET, type=SocketKind.SOCK_STREAM, proto=0, laddr=('192.168.100.52', 63659), raddr=('151.101.14.62', 443)>\n",
      "  self._sock = None\n"
     ]
    },
    {
     "name": "stdout",
     "output_type": "stream",
     "text": [
      "Saved\n"
     ]
    },
    {
     "name": "stderr",
     "output_type": "stream",
     "text": [
      "C:\\Users\\Bhavya\\Anaconda3\\lib\\socket.py:657: ResourceWarning: unclosed <socket.socket fd=2412, family=AddressFamily.AF_INET, type=SocketKind.SOCK_STREAM, proto=0, laddr=('192.168.100.52', 63663), raddr=('23.197.10.39', 443)>\n",
      "  self._sock = None\n"
     ]
    },
    {
     "name": "stdout",
     "output_type": "stream",
     "text": [
      "Saved\n",
      "Saved\n"
     ]
    },
    {
     "name": "stderr",
     "output_type": "stream",
     "text": [
      "C:\\Users\\Bhavya\\Anaconda3\\lib\\socket.py:657: ResourceWarning: unclosed <socket.socket fd=4048, family=AddressFamily.AF_INET, type=SocketKind.SOCK_STREAM, proto=0, laddr=('192.168.100.52', 63673), raddr=('151.101.12.239', 443)>\n",
      "  self._sock = None\n"
     ]
    },
    {
     "name": "stdout",
     "output_type": "stream",
     "text": [
      "Saved\n",
      "('Received response with content-encoding: gzip, but failed to decode it.', error('Error -3 while decompressing data: incorrect header check',))\n"
     ]
    },
    {
     "name": "stderr",
     "output_type": "stream",
     "text": [
      "C:\\Users\\Bhavya\\Anaconda3\\lib\\socket.py:657: ResourceWarning: unclosed <socket.socket fd=2464, family=AddressFamily.AF_INET, type=SocketKind.SOCK_STREAM, proto=0, laddr=('192.168.100.52', 63687), raddr=('151.101.113.164', 443)>\n",
      "  self._sock = None\n"
     ]
    },
    {
     "name": "stdout",
     "output_type": "stream",
     "text": [
      "Saved\n",
      "Saved\n"
     ]
    },
    {
     "name": "stderr",
     "output_type": "stream",
     "text": [
      "C:\\Users\\Bhavya\\Anaconda3\\lib\\site-packages\\pandas\\core\\ops.py:1649: FutureWarning: elementwise comparison failed; returning scalar instead, but in the future will perform elementwise comparison\n",
      "  result = method(y)\n",
      "C:\\Users\\Bhavya\\Anaconda3\\lib\\socket.py:657: ResourceWarning: unclosed <socket.socket fd=2908, family=AddressFamily.AF_INET, type=SocketKind.SOCK_STREAM, proto=0, laddr=('192.168.100.52', 63695), raddr=('23.197.10.39', 443)>\n",
      "  self._sock = None\n"
     ]
    },
    {
     "name": "stdout",
     "output_type": "stream",
     "text": [
      "Saved\n"
     ]
    },
    {
     "name": "stderr",
     "output_type": "stream",
     "text": [
      "C:\\Users\\Bhavya\\Anaconda3\\lib\\socket.py:657: ResourceWarning: unclosed <socket.socket fd=3228, family=AddressFamily.AF_INET6, type=SocketKind.SOCK_STREAM, proto=0, laddr=('2003:e6:9718:e700:70c1:90d5:dc6d:8418', 63711, 0, 0), raddr=('2a04:4e42:3::323', 443, 0, 0)>\n",
      "  self._sock = None\n"
     ]
    },
    {
     "name": "stdout",
     "output_type": "stream",
     "text": [
      "Saved\n",
      "Saved\n",
      "Saved\n"
     ]
    },
    {
     "name": "stderr",
     "output_type": "stream",
     "text": [
      "C:\\Users\\Bhavya\\Anaconda3\\lib\\socket.py:657: ResourceWarning: unclosed <socket.socket fd=2588, family=AddressFamily.AF_INET6, type=SocketKind.SOCK_STREAM, proto=0, laddr=('2003:e6:9718:e700:70c1:90d5:dc6d:8418', 63727, 0, 0), raddr=('2a04:4e42:3::323', 443, 0, 0)>\n",
      "  self._sock = None\n"
     ]
    },
    {
     "name": "stdout",
     "output_type": "stream",
     "text": [
      "Saved\n",
      "Saved\n",
      "Saved\n",
      "Saved\n",
      "Saved\n",
      "Saved\n",
      "Saved\n",
      "Saved\n"
     ]
    },
    {
     "name": "stderr",
     "output_type": "stream",
     "text": [
      "C:\\Users\\Bhavya\\Anaconda3\\lib\\socket.py:657: ResourceWarning: unclosed <socket.socket fd=2616, family=AddressFamily.AF_INET, type=SocketKind.SOCK_STREAM, proto=0, laddr=('192.168.100.52', 63794), raddr=('151.101.12.239', 443)>\n",
      "  self._sock = None\n"
     ]
    },
    {
     "name": "stdout",
     "output_type": "stream",
     "text": [
      "Saved\n"
     ]
    },
    {
     "name": "stderr",
     "output_type": "stream",
     "text": [
      "C:\\Users\\Bhavya\\Anaconda3\\lib\\socket.py:657: ResourceWarning: unclosed <socket.socket fd=3724, family=AddressFamily.AF_INET, type=SocketKind.SOCK_STREAM, proto=0, laddr=('192.168.100.52', 63799), raddr=('23.197.10.39', 443)>\n",
      "  self._sock = None\n"
     ]
    },
    {
     "name": "stdout",
     "output_type": "stream",
     "text": [
      "Saved\n",
      "Saved\n",
      "Saved\n"
     ]
    },
    {
     "name": "stderr",
     "output_type": "stream",
     "text": [
      "C:\\Users\\Bhavya\\Anaconda3\\lib\\socket.py:657: ResourceWarning: unclosed <socket.socket fd=2472, family=AddressFamily.AF_INET6, type=SocketKind.SOCK_STREAM, proto=0, laddr=('2003:e6:9718:e700:70c1:90d5:dc6d:8418', 63829, 0, 0), raddr=('2a04:4e42:3::323', 443, 0, 0)>\n",
      "  self._sock = None\n"
     ]
    },
    {
     "name": "stdout",
     "output_type": "stream",
     "text": [
      "Saved\n"
     ]
    },
    {
     "name": "stderr",
     "output_type": "stream",
     "text": [
      "C:\\Users\\Bhavya\\Anaconda3\\lib\\socket.py:657: ResourceWarning: unclosed <socket.socket fd=2472, family=AddressFamily.AF_INET, type=SocketKind.SOCK_STREAM, proto=0, laddr=('192.168.100.52', 63833), raddr=('151.101.113.171', 443)>\n",
      "  self._sock = None\n"
     ]
    },
    {
     "name": "stdout",
     "output_type": "stream",
     "text": [
      "Saved\n",
      "Saved\n",
      "Saved\n"
     ]
    },
    {
     "name": "stderr",
     "output_type": "stream",
     "text": [
      "C:\\Users\\Bhavya\\Anaconda3\\lib\\socket.py:657: ResourceWarning: unclosed <socket.socket fd=3592, family=AddressFamily.AF_INET, type=SocketKind.SOCK_STREAM, proto=0, laddr=('192.168.100.52', 63860), raddr=('151.101.114.62', 443)>\n",
      "  self._sock = None\n"
     ]
    },
    {
     "name": "stdout",
     "output_type": "stream",
     "text": [
      "Saved\n",
      "Saved\n",
      "Saved\n",
      "Saved\n",
      "Saved\n",
      "Saved\n",
      "Saved\n",
      "Saved\n",
      "Saved\n",
      "Saved\n",
      "Saved\n",
      "Saved\n"
     ]
    },
    {
     "name": "stderr",
     "output_type": "stream",
     "text": [
      "C:\\Users\\Bhavya\\Anaconda3\\lib\\socket.py:657: ResourceWarning: unclosed <socket.socket fd=3520, family=AddressFamily.AF_INET, type=SocketKind.SOCK_STREAM, proto=0, laddr=('192.168.100.52', 63925), raddr=('151.101.113.164', 443)>\n",
      "  self._sock = None\n",
      "C:\\Users\\Bhavya\\Anaconda3\\lib\\socket.py:657: ResourceWarning: unclosed <socket.socket fd=3876, family=AddressFamily.AF_INET, type=SocketKind.SOCK_STREAM, proto=0, laddr=('192.168.100.52', 63931), raddr=('151.101.114.62', 443)>\n",
      "  self._sock = None\n"
     ]
    },
    {
     "name": "stdout",
     "output_type": "stream",
     "text": [
      "Saved\n"
     ]
    },
    {
     "name": "stderr",
     "output_type": "stream",
     "text": [
      "C:\\Users\\Bhavya\\Anaconda3\\lib\\socket.py:657: ResourceWarning: unclosed <socket.socket fd=3484, family=AddressFamily.AF_INET, type=SocketKind.SOCK_STREAM, proto=0, laddr=('192.168.100.52', 63939), raddr=('151.101.12.239', 443)>\n",
      "  self._sock = None\n"
     ]
    },
    {
     "name": "stdout",
     "output_type": "stream",
     "text": [
      "Saved\n",
      "Saved\n"
     ]
    },
    {
     "name": "stderr",
     "output_type": "stream",
     "text": [
      "C:\\Users\\Bhavya\\Anaconda3\\lib\\site-packages\\pandas\\core\\ops.py:1649: FutureWarning: elementwise comparison failed; returning scalar instead, but in the future will perform elementwise comparison\n",
      "  result = method(y)\n"
     ]
    },
    {
     "name": "stdout",
     "output_type": "stream",
     "text": [
      "Saved\n",
      "Saved\n",
      "Saved\n"
     ]
    },
    {
     "name": "stderr",
     "output_type": "stream",
     "text": [
      "C:\\Users\\Bhavya\\Anaconda3\\lib\\socket.py:657: ResourceWarning: unclosed <socket.socket fd=2540, family=AddressFamily.AF_INET6, type=SocketKind.SOCK_STREAM, proto=0, laddr=('2003:e6:9718:e700:70c1:90d5:dc6d:8418', 63962, 0, 0), raddr=('2a04:4e42:3::323', 443, 0, 0)>\n",
      "  self._sock = None\n"
     ]
    },
    {
     "name": "stdout",
     "output_type": "stream",
     "text": [
      "Saved\n",
      "Saved\n",
      "Saved\n",
      "Saved\n",
      "Saved\n"
     ]
    },
    {
     "name": "stderr",
     "output_type": "stream",
     "text": [
      "C:\\Users\\Bhavya\\Anaconda3\\lib\\socket.py:657: ResourceWarning: unclosed <socket.socket fd=3244, family=AddressFamily.AF_INET, type=SocketKind.SOCK_STREAM, proto=0, laddr=('192.168.100.52', 63976), raddr=('151.101.112.239', 443)>\n",
      "  self._sock = None\n"
     ]
    },
    {
     "name": "stdout",
     "output_type": "stream",
     "text": [
      "Saved\n",
      "Saved\n",
      "Saved\n"
     ]
    },
    {
     "name": "stderr",
     "output_type": "stream",
     "text": [
      "C:\\Users\\Bhavya\\Anaconda3\\lib\\socket.py:657: ResourceWarning: unclosed <socket.socket fd=3880, family=AddressFamily.AF_INET, type=SocketKind.SOCK_STREAM, proto=0, laddr=('192.168.100.52', 64012), raddr=('23.197.10.39', 443)>\n",
      "  self._sock = None\n"
     ]
    },
    {
     "name": "stdout",
     "output_type": "stream",
     "text": [
      "Saved\n",
      "Saved\n",
      "Saved\n",
      "Saved\n",
      "Saved\n",
      "Saved\n",
      "Saved\n"
     ]
    },
    {
     "name": "stderr",
     "output_type": "stream",
     "text": [
      "C:\\Users\\Bhavya\\Anaconda3\\lib\\socket.py:657: ResourceWarning: unclosed <socket.socket fd=3520, family=AddressFamily.AF_INET6, type=SocketKind.SOCK_STREAM, proto=0, laddr=('2003:e6:9718:e700:70c1:90d5:dc6d:8418', 64051, 0, 0), raddr=('2a04:4e42:1b::323', 443, 0, 0)>\n",
      "  self._sock = None\n"
     ]
    },
    {
     "name": "stdout",
     "output_type": "stream",
     "text": [
      "Saved\n"
     ]
    },
    {
     "name": "stderr",
     "output_type": "stream",
     "text": [
      "C:\\Users\\Bhavya\\Anaconda3\\lib\\socket.py:657: ResourceWarning: unclosed <socket.socket fd=3360, family=AddressFamily.AF_INET, type=SocketKind.SOCK_STREAM, proto=0, laddr=('192.168.100.52', 64062), raddr=('151.101.13.164', 443)>\n",
      "  self._sock = None\n",
      "C:\\Users\\Bhavya\\Anaconda3\\lib\\socket.py:657: ResourceWarning: unclosed <socket.socket fd=3660, family=AddressFamily.AF_INET6, type=SocketKind.SOCK_STREAM, proto=0, laddr=('2003:e6:9718:e700:70c1:90d5:dc6d:8418', 64063, 0, 0), raddr=('2a04:4e42:1b::323', 443, 0, 0)>\n",
      "  self._sock = None\n"
     ]
    },
    {
     "name": "stdout",
     "output_type": "stream",
     "text": [
      "Saved\n",
      "Saved\n"
     ]
    },
    {
     "name": "stderr",
     "output_type": "stream",
     "text": [
      "C:\\Users\\Bhavya\\Anaconda3\\lib\\socket.py:657: ResourceWarning: unclosed <socket.socket fd=3276, family=AddressFamily.AF_INET, type=SocketKind.SOCK_STREAM, proto=0, laddr=('192.168.100.52', 64074), raddr=('23.197.10.39', 443)>\n",
      "  self._sock = None\n"
     ]
    },
    {
     "name": "stdout",
     "output_type": "stream",
     "text": [
      "Saved\n",
      "Saved\n",
      "Saved\n",
      "Saved\n"
     ]
    },
    {
     "name": "stderr",
     "output_type": "stream",
     "text": [
      "C:\\Users\\Bhavya\\Anaconda3\\lib\\socket.py:657: ResourceWarning: unclosed <socket.socket fd=2660, family=AddressFamily.AF_INET, type=SocketKind.SOCK_STREAM, proto=0, laddr=('192.168.100.52', 64102), raddr=('151.101.113.171', 443)>\n",
      "  self._sock = None\n"
     ]
    },
    {
     "name": "stdout",
     "output_type": "stream",
     "text": [
      "Saved\n",
      "Saved\n",
      "Saved\n",
      "Saved\n"
     ]
    },
    {
     "name": "stderr",
     "output_type": "stream",
     "text": [
      "C:\\Users\\Bhavya\\Anaconda3\\lib\\socket.py:657: ResourceWarning: unclosed <socket.socket fd=2900, family=AddressFamily.AF_INET, type=SocketKind.SOCK_STREAM, proto=0, laddr=('192.168.100.52', 64136), raddr=('23.197.10.39', 443)>\n",
      "  self._sock = None\n"
     ]
    },
    {
     "name": "stdout",
     "output_type": "stream",
     "text": [
      "Saved\n"
     ]
    },
    {
     "name": "stderr",
     "output_type": "stream",
     "text": [
      "C:\\Users\\Bhavya\\Anaconda3\\lib\\socket.py:657: ResourceWarning: unclosed <socket.socket fd=2260, family=AddressFamily.AF_INET, type=SocketKind.SOCK_STREAM, proto=0, laddr=('192.168.100.52', 64143), raddr=('23.197.10.39', 443)>\n",
      "  self._sock = None\n"
     ]
    },
    {
     "name": "stdout",
     "output_type": "stream",
     "text": [
      "Saved\n"
     ]
    },
    {
     "name": "stderr",
     "output_type": "stream",
     "text": [
      "C:\\Users\\Bhavya\\Anaconda3\\lib\\socket.py:657: ResourceWarning: unclosed <socket.socket fd=3868, family=AddressFamily.AF_INET, type=SocketKind.SOCK_STREAM, proto=0, laddr=('192.168.100.52', 64151), raddr=('23.197.10.39', 443)>\n",
      "  self._sock = None\n"
     ]
    },
    {
     "name": "stdout",
     "output_type": "stream",
     "text": [
      "Saved\n",
      "Saved\n",
      "Saved\n",
      "Saved\n",
      "Saved\n",
      "Saved\n",
      "500\n",
      "Saved\n",
      "Saved\n",
      "Saved\n",
      "Saved\n",
      "Saved\n",
      "Saved\n",
      "Saved\n",
      "Saved\n",
      "Saved\n",
      "Saved\n",
      "Saved\n",
      "Saved\n",
      "Saved\n",
      "Saved\n",
      "Saved\n",
      "Saved\n",
      "Saved\n",
      "Saved\n",
      "Saved\n",
      "Saved\n",
      "Saved\n",
      "Saved\n",
      "Saved\n",
      "Saved\n",
      "Saved\n",
      "Saved\n",
      "Saved\n",
      "Saved\n",
      "Saved\n",
      "Saved\n",
      "Saved\n",
      "Saved\n",
      "Saved\n",
      "Saved\n",
      "Saved\n",
      "Saved\n",
      "Saved\n",
      "Saved\n",
      "Saved\n",
      "Saved\n",
      "Saved\n",
      "Saved\n",
      "Saved\n",
      "Saved\n",
      "Saved\n",
      "Saved\n",
      "Saved\n",
      "Saved\n",
      "Saved\n",
      "Saved\n",
      "Saved\n",
      "Saved\n",
      "Saved\n",
      "Saved\n",
      "Saved\n",
      "Saved\n",
      "Saved\n",
      "Saved\n",
      "Saved\n",
      "Saved\n",
      "Saved\n",
      "Saved\n",
      "Saved\n",
      "Saved\n",
      "Saved\n",
      "Saved\n",
      "Saved\n",
      "Saved\n",
      "Saved\n",
      "Saved\n",
      "Saved\n",
      "Saved\n",
      "Saved\n",
      "Saved\n",
      "Saved\n",
      "Saved\n",
      "Saved\n",
      "Saved\n",
      "Saved\n",
      "Saved\n",
      "Saved\n",
      "Saved\n",
      "Saved\n",
      "Saved\n",
      "Saved\n",
      "Saved\n",
      "Saved\n",
      "Saved\n",
      "Saved\n",
      "Saved\n",
      "Saved\n",
      "Saved\n",
      "Saved\n",
      "Saved\n",
      "Saved\n",
      "Saved\n",
      "Saved\n",
      "Saved\n",
      "Saved\n"
     ]
    },
    {
     "name": "stderr",
     "output_type": "stream",
     "text": [
      "C:\\Users\\Bhavya\\Anaconda3\\lib\\socket.py:657: ResourceWarning: unclosed <socket.socket fd=1444, family=AddressFamily.AF_INET, type=SocketKind.SOCK_STREAM, proto=0, laddr=('192.168.100.52', 64185), raddr=('151.101.112.239', 443)>\n",
      "  self._sock = None\n"
     ]
    },
    {
     "name": "stdout",
     "output_type": "stream",
     "text": [
      "Saved\n"
     ]
    },
    {
     "name": "stderr",
     "output_type": "stream",
     "text": [
      "C:\\Users\\Bhavya\\Anaconda3\\lib\\socket.py:657: ResourceWarning: unclosed <socket.socket fd=2724, family=AddressFamily.AF_INET, type=SocketKind.SOCK_STREAM, proto=0, laddr=('192.168.100.52', 64187), raddr=('151.101.13.164', 443)>\n",
      "  self._sock = None\n",
      "C:\\Users\\Bhavya\\Anaconda3\\lib\\socket.py:657: ResourceWarning: unclosed <socket.socket fd=3804, family=AddressFamily.AF_INET6, type=SocketKind.SOCK_STREAM, proto=0, laddr=('2003:e6:9718:e700:70c1:90d5:dc6d:8418', 64191, 0, 0), raddr=('2620:12a:8001::3', 443, 0, 0)>\n",
      "  self._sock = None\n",
      "C:\\Users\\Bhavya\\Anaconda3\\lib\\socket.py:657: ResourceWarning: unclosed <socket.socket fd=3720, family=AddressFamily.AF_INET, type=SocketKind.SOCK_STREAM, proto=0, laddr=('192.168.100.52', 64186), raddr=('151.101.112.239', 443)>\n",
      "  self._sock = None\n"
     ]
    },
    {
     "name": "stdout",
     "output_type": "stream",
     "text": [
      "Saved\n"
     ]
    },
    {
     "name": "stderr",
     "output_type": "stream",
     "text": [
      "C:\\Users\\Bhavya\\Anaconda3\\lib\\socket.py:657: ResourceWarning: unclosed <socket.socket fd=3916, family=AddressFamily.AF_INET, type=SocketKind.SOCK_STREAM, proto=0, laddr=('192.168.100.52', 64200), raddr=('23.197.10.39', 443)>\n",
      "  self._sock = None\n"
     ]
    },
    {
     "name": "stdout",
     "output_type": "stream",
     "text": [
      "Saved\n"
     ]
    },
    {
     "name": "stderr",
     "output_type": "stream",
     "text": [
      "C:\\Users\\Bhavya\\Anaconda3\\lib\\socket.py:657: ResourceWarning: unclosed <socket.socket fd=3652, family=AddressFamily.AF_INET, type=SocketKind.SOCK_STREAM, proto=0, laddr=('192.168.100.52', 64205), raddr=('23.197.10.39', 443)>\n",
      "  self._sock = None\n"
     ]
    },
    {
     "name": "stdout",
     "output_type": "stream",
     "text": [
      "Saved\n",
      "Saved\n"
     ]
    },
    {
     "name": "stderr",
     "output_type": "stream",
     "text": [
      "C:\\Users\\Bhavya\\Anaconda3\\lib\\socket.py:657: ResourceWarning: unclosed <socket.socket fd=4024, family=AddressFamily.AF_INET, type=SocketKind.SOCK_STREAM, proto=0, laddr=('192.168.100.52', 64220), raddr=('23.197.10.39', 443)>\n",
      "  self._sock = None\n"
     ]
    },
    {
     "name": "stdout",
     "output_type": "stream",
     "text": [
      "Saved\n",
      "Saved\n",
      "Saved\n",
      "Saved\n",
      "Saved\n",
      "Saved\n",
      "Saved\n"
     ]
    },
    {
     "name": "stderr",
     "output_type": "stream",
     "text": [
      "C:\\Users\\Bhavya\\Anaconda3\\lib\\site-packages\\pandas\\core\\ops.py:1649: FutureWarning: elementwise comparison failed; returning scalar instead, but in the future will perform elementwise comparison\n",
      "  result = method(y)\n"
     ]
    },
    {
     "name": "stdout",
     "output_type": "stream",
     "text": [
      "Saved\n"
     ]
    },
    {
     "name": "stderr",
     "output_type": "stream",
     "text": [
      "C:\\Users\\Bhavya\\Anaconda3\\lib\\socket.py:657: ResourceWarning: unclosed <socket.socket fd=3648, family=AddressFamily.AF_INET6, type=SocketKind.SOCK_STREAM, proto=0, laddr=('2003:e6:9718:e700:70c1:90d5:dc6d:8418', 64246, 0, 0), raddr=('2a04:4e42:1b::323', 443, 0, 0)>\n",
      "  self._sock = None\n"
     ]
    },
    {
     "name": "stdout",
     "output_type": "stream",
     "text": [
      "Saved\n"
     ]
    },
    {
     "name": "stderr",
     "output_type": "stream",
     "text": [
      "C:\\Users\\Bhavya\\Anaconda3\\lib\\site-packages\\pandas\\core\\ops.py:1649: FutureWarning: elementwise comparison failed; returning scalar instead, but in the future will perform elementwise comparison\n",
      "  result = method(y)\n"
     ]
    },
    {
     "name": "stdout",
     "output_type": "stream",
     "text": [
      "Saved\n",
      "Saved\n"
     ]
    },
    {
     "name": "stderr",
     "output_type": "stream",
     "text": [
      "C:\\Users\\Bhavya\\Anaconda3\\lib\\socket.py:657: ResourceWarning: unclosed <socket.socket fd=4048, family=AddressFamily.AF_INET, type=SocketKind.SOCK_STREAM, proto=0, laddr=('192.168.100.52', 64265), raddr=('151.101.13.171', 443)>\n",
      "  self._sock = None\n"
     ]
    },
    {
     "name": "stdout",
     "output_type": "stream",
     "text": [
      "Saved\n",
      "Saved\n",
      "Saved\n",
      "Saved\n"
     ]
    },
    {
     "name": "stderr",
     "output_type": "stream",
     "text": [
      "C:\\Users\\Bhavya\\Anaconda3\\lib\\socket.py:657: ResourceWarning: unclosed <socket.socket fd=2448, family=AddressFamily.AF_INET, type=SocketKind.SOCK_STREAM, proto=0, laddr=('192.168.100.52', 64278), raddr=('23.197.10.39', 443)>\n",
      "  self._sock = None\n"
     ]
    },
    {
     "name": "stdout",
     "output_type": "stream",
     "text": [
      "Saved\n",
      "Saved\n",
      "Saved\n",
      "Saved\n",
      "Saved\n"
     ]
    },
    {
     "name": "stderr",
     "output_type": "stream",
     "text": [
      "C:\\Users\\Bhavya\\Anaconda3\\lib\\socket.py:657: ResourceWarning: unclosed <socket.socket fd=2760, family=AddressFamily.AF_INET, type=SocketKind.SOCK_STREAM, proto=0, laddr=('192.168.100.52', 64308), raddr=('23.197.10.39', 443)>\n",
      "  self._sock = None\n",
      "C:\\Users\\Bhavya\\Anaconda3\\lib\\socket.py:657: ResourceWarning: unclosed <socket.socket fd=2568, family=AddressFamily.AF_INET6, type=SocketKind.SOCK_STREAM, proto=0, laddr=('2003:e6:9718:e700:70c1:90d5:dc6d:8418', 64311, 0, 0), raddr=('2a04:4e42:1b::323', 443, 0, 0)>\n",
      "  self._sock = None\n"
     ]
    },
    {
     "name": "stdout",
     "output_type": "stream",
     "text": [
      "Saved\n",
      "Saved\n",
      "Saved\n",
      "Saved\n"
     ]
    },
    {
     "name": "stderr",
     "output_type": "stream",
     "text": [
      "C:\\Users\\Bhavya\\Anaconda3\\lib\\socket.py:657: ResourceWarning: unclosed <socket.socket fd=2524, family=AddressFamily.AF_INET, type=SocketKind.SOCK_STREAM, proto=0, laddr=('192.168.100.52', 64340), raddr=('151.101.113.164', 443)>\n",
      "  self._sock = None\n",
      "C:\\Users\\Bhavya\\Anaconda3\\lib\\site-packages\\pandas\\core\\ops.py:1649: FutureWarning: elementwise comparison failed; returning scalar instead, but in the future will perform elementwise comparison\n",
      "  result = method(y)\n"
     ]
    },
    {
     "name": "stdout",
     "output_type": "stream",
     "text": [
      "Saved\n"
     ]
    },
    {
     "name": "stderr",
     "output_type": "stream",
     "text": [
      "C:\\Users\\Bhavya\\Desktop\\Vaibhav\\Django-projects\\recallie_web\\news\\utils.py:569: SettingWithCopyWarning: \n",
      "A value is trying to be set on a copy of a slice from a DataFrame.\n",
      "Try using .loc[row_indexer,col_indexer] = value instead\n",
      "\n",
      "See the caveats in the documentation: http://pandas.pydata.org/pandas-docs/stable/indexing.html#indexing-view-versus-copy\n",
      "  self.main_df['Subject'] = self.message\n"
     ]
    },
    {
     "name": "stdout",
     "output_type": "stream",
     "text": [
      "Saved\n",
      "Saved\n"
     ]
    },
    {
     "name": "stderr",
     "output_type": "stream",
     "text": [
      "C:\\Users\\Bhavya\\Anaconda3\\lib\\socket.py:657: ResourceWarning: unclosed <socket.socket fd=4084, family=AddressFamily.AF_INET, type=SocketKind.SOCK_STREAM, proto=0, laddr=('192.168.100.52', 64366), raddr=('151.101.14.62', 443)>\n",
      "  self._sock = None\n"
     ]
    },
    {
     "name": "stdout",
     "output_type": "stream",
     "text": [
      "Saved\n",
      "Saved\n",
      "Saved\n",
      "Saved\n",
      "Saved\n",
      "Saved\n"
     ]
    },
    {
     "name": "stderr",
     "output_type": "stream",
     "text": [
      "C:\\Users\\Bhavya\\Anaconda3\\lib\\socket.py:657: ResourceWarning: unclosed <socket.socket fd=2516, family=AddressFamily.AF_INET, type=SocketKind.SOCK_STREAM, proto=0, laddr=('192.168.100.52', 64385), raddr=('23.197.10.39', 443)>\n",
      "  self._sock = None\n"
     ]
    },
    {
     "name": "stdout",
     "output_type": "stream",
     "text": [
      "Saved\n"
     ]
    },
    {
     "name": "stderr",
     "output_type": "stream",
     "text": [
      "C:\\Users\\Bhavya\\Anaconda3\\lib\\socket.py:657: ResourceWarning: unclosed <socket.socket fd=3480, family=AddressFamily.AF_INET, type=SocketKind.SOCK_STREAM, proto=0, laddr=('192.168.100.52', 64393), raddr=('151.101.113.164', 443)>\n",
      "  self._sock = None\n"
     ]
    },
    {
     "name": "stdout",
     "output_type": "stream",
     "text": [
      "Saved\n"
     ]
    },
    {
     "name": "stderr",
     "output_type": "stream",
     "text": [
      "C:\\Users\\Bhavya\\Anaconda3\\lib\\socket.py:657: ResourceWarning: unclosed <socket.socket fd=2660, family=AddressFamily.AF_INET, type=SocketKind.SOCK_STREAM, proto=0, laddr=('192.168.100.52', 64400), raddr=('23.197.10.39', 443)>\n",
      "  self._sock = None\n"
     ]
    },
    {
     "name": "stdout",
     "output_type": "stream",
     "text": [
      "Saved\n",
      "Saved\n",
      "Saved\n",
      "Saved\n",
      "Saved\n"
     ]
    },
    {
     "name": "stderr",
     "output_type": "stream",
     "text": [
      "C:\\Users\\Bhavya\\Anaconda3\\lib\\socket.py:657: ResourceWarning: unclosed <socket.socket fd=3400, family=AddressFamily.AF_INET, type=SocketKind.SOCK_STREAM, proto=0, laddr=('192.168.100.52', 64426), raddr=('151.101.113.171', 443)>\n",
      "  self._sock = None\n"
     ]
    },
    {
     "name": "stdout",
     "output_type": "stream",
     "text": [
      "Saved\n",
      "Saved\n",
      "Saved\n",
      "Saved\n",
      "Saved\n",
      "Saved\n",
      "Saved\n",
      "Saved\n",
      "Saved\n",
      "Saved\n"
     ]
    },
    {
     "name": "stderr",
     "output_type": "stream",
     "text": [
      "C:\\Users\\Bhavya\\Desktop\\Vaibhav\\Django-projects\\recallie_web\\news\\utils.py:569: SettingWithCopyWarning: \n",
      "A value is trying to be set on a copy of a slice from a DataFrame.\n",
      "Try using .loc[row_indexer,col_indexer] = value instead\n",
      "\n",
      "See the caveats in the documentation: http://pandas.pydata.org/pandas-docs/stable/indexing.html#indexing-view-versus-copy\n",
      "  self.main_df['Subject'] = self.message\n",
      "C:\\Users\\Bhavya\\Anaconda3\\lib\\socket.py:657: ResourceWarning: unclosed <socket.socket fd=3416, family=AddressFamily.AF_INET, type=SocketKind.SOCK_STREAM, proto=0, laddr=('192.168.100.52', 64490), raddr=('23.197.10.39', 443)>\n",
      "  self._sock = None\n"
     ]
    },
    {
     "name": "stdout",
     "output_type": "stream",
     "text": [
      "Saved\n",
      "Saved\n"
     ]
    },
    {
     "name": "stderr",
     "output_type": "stream",
     "text": [
      "C:\\Users\\Bhavya\\Anaconda3\\lib\\socket.py:657: ResourceWarning: unclosed <socket.socket fd=3220, family=AddressFamily.AF_INET, type=SocketKind.SOCK_STREAM, proto=0, laddr=('192.168.100.52', 64509), raddr=('23.197.10.39', 443)>\n",
      "  self._sock = None\n"
     ]
    },
    {
     "name": "stdout",
     "output_type": "stream",
     "text": [
      "Saved\n"
     ]
    },
    {
     "name": "stderr",
     "output_type": "stream",
     "text": [
      "C:\\Users\\Bhavya\\Anaconda3\\lib\\socket.py:657: ResourceWarning: unclosed <socket.socket fd=3208, family=AddressFamily.AF_INET, type=SocketKind.SOCK_STREAM, proto=0, laddr=('192.168.100.52', 64494), raddr=('23.197.10.39', 443)>\n",
      "  self._sock = None\n"
     ]
    },
    {
     "name": "stdout",
     "output_type": "stream",
     "text": [
      "Saved\n",
      "Saved\n"
     ]
    },
    {
     "name": "stderr",
     "output_type": "stream",
     "text": [
      "C:\\Users\\Bhavya\\Anaconda3\\lib\\socket.py:657: ResourceWarning: unclosed <socket.socket fd=3848, family=AddressFamily.AF_INET, type=SocketKind.SOCK_STREAM, proto=0, laddr=('192.168.100.52', 64526), raddr=('151.101.112.239', 443)>\n",
      "  self._sock = None\n",
      "C:\\Users\\Bhavya\\Anaconda3\\lib\\socket.py:657: ResourceWarning: unclosed <socket.socket fd=3668, family=AddressFamily.AF_INET, type=SocketKind.SOCK_STREAM, proto=0, laddr=('192.168.100.52', 64532), raddr=('23.197.10.39', 443)>\n",
      "  self._sock = None\n",
      "C:\\Users\\Bhavya\\Anaconda3\\lib\\socket.py:657: ResourceWarning: unclosed <socket.socket fd=3320, family=AddressFamily.AF_INET, type=SocketKind.SOCK_STREAM, proto=0, laddr=('192.168.100.52', 64535), raddr=('23.197.10.39', 443)>\n",
      "  self._sock = None\n"
     ]
    },
    {
     "name": "stdout",
     "output_type": "stream",
     "text": [
      "Saved\n",
      "Saved\n",
      "Saved\n",
      "Saved\n",
      "Saved\n",
      "Saved\n",
      "Saved\n",
      "Saved\n",
      "Saved\n",
      "Creating a new Dictionary\n",
      "Saved\n",
      "Saved\n"
     ]
    },
    {
     "name": "stderr",
     "output_type": "stream",
     "text": [
      "C:\\Users\\Bhavya\\Anaconda3\\lib\\socket.py:657: ResourceWarning: unclosed <socket.socket fd=2604, family=AddressFamily.AF_INET, type=SocketKind.SOCK_STREAM, proto=0, laddr=('192.168.100.52', 64617), raddr=('151.101.13.171', 443)>\n",
      "  self._sock = None\n"
     ]
    },
    {
     "name": "stdout",
     "output_type": "stream",
     "text": [
      "Saved\n",
      "Saved\n",
      "Saved\n",
      "Saved\n",
      "Saved\n",
      "Saved\n",
      "Saved\n"
     ]
    },
    {
     "name": "stderr",
     "output_type": "stream",
     "text": [
      "C:\\Users\\Bhavya\\Anaconda3\\lib\\socket.py:657: ResourceWarning: unclosed <socket.socket fd=2880, family=AddressFamily.AF_INET, type=SocketKind.SOCK_STREAM, proto=0, laddr=('192.168.100.52', 64668), raddr=('151.101.114.62', 443)>\n",
      "  self._sock = None\n"
     ]
    },
    {
     "name": "stdout",
     "output_type": "stream",
     "text": [
      "Saved\n",
      "Saved\n",
      "Saved\n",
      "Saved\n",
      "Saved\n"
     ]
    },
    {
     "name": "stderr",
     "output_type": "stream",
     "text": [
      "C:\\Users\\Bhavya\\Anaconda3\\lib\\socket.py:657: ResourceWarning: unclosed <socket.socket fd=3384, family=AddressFamily.AF_INET, type=SocketKind.SOCK_STREAM, proto=0, laddr=('192.168.100.52', 64710), raddr=('23.197.10.39', 443)>\n",
      "  self._sock = None\n"
     ]
    },
    {
     "name": "stdout",
     "output_type": "stream",
     "text": [
      "Saved\n"
     ]
    },
    {
     "name": "stderr",
     "output_type": "stream",
     "text": [
      "C:\\Users\\Bhavya\\Anaconda3\\lib\\socket.py:657: ResourceWarning: unclosed <socket.socket fd=2836, family=AddressFamily.AF_INET, type=SocketKind.SOCK_STREAM, proto=0, laddr=('192.168.100.52', 64714), raddr=('23.197.10.39', 443)>\n",
      "  self._sock = None\n"
     ]
    },
    {
     "name": "stdout",
     "output_type": "stream",
     "text": [
      "Saved\n",
      "Saved\n",
      "Saved\n",
      "Saved\n",
      "Saved\n"
     ]
    },
    {
     "name": "stderr",
     "output_type": "stream",
     "text": [
      "C:\\Users\\Bhavya\\Anaconda3\\lib\\socket.py:657: ResourceWarning: unclosed <socket.socket fd=4104, family=AddressFamily.AF_INET, type=SocketKind.SOCK_STREAM, proto=0, laddr=('192.168.100.52', 64746), raddr=('151.101.13.171', 443)>\n",
      "  self._sock = None\n"
     ]
    },
    {
     "name": "stdout",
     "output_type": "stream",
     "text": [
      "Saved\n"
     ]
    },
    {
     "name": "stderr",
     "output_type": "stream",
     "text": [
      "C:\\Users\\Bhavya\\Anaconda3\\lib\\socket.py:657: ResourceWarning: unclosed <socket.socket fd=4176, family=AddressFamily.AF_INET6, type=SocketKind.SOCK_STREAM, proto=0, laddr=('2003:e6:9718:e700:70c1:90d5:dc6d:8418', 64760, 0, 0), raddr=('2a04:4e42:3::323', 443, 0, 0)>\n",
      "  self._sock = None\n"
     ]
    },
    {
     "name": "stdout",
     "output_type": "stream",
     "text": [
      "Saved\n"
     ]
    },
    {
     "name": "stderr",
     "output_type": "stream",
     "text": [
      "C:\\Users\\Bhavya\\Anaconda3\\lib\\site-packages\\pandas\\core\\ops.py:1649: FutureWarning: elementwise comparison failed; returning scalar instead, but in the future will perform elementwise comparison\n",
      "  result = method(y)\n"
     ]
    },
    {
     "name": "stdout",
     "output_type": "stream",
     "text": [
      "Saved\n",
      "Saved\n",
      "Saved\n",
      "Saved\n",
      "Saved\n",
      "Saved\n",
      "Saved\n",
      "Saved\n",
      "Saved\n",
      "Saved\n",
      "600\n",
      "Saved\n",
      "Saved\n",
      "Saved\n",
      "Saved\n",
      "Saved\n",
      "Saved\n",
      "Saved\n",
      "Saved\n",
      "Saved\n",
      "Saved\n",
      "Saved\n",
      "Saved\n",
      "Saved\n",
      "Saved\n",
      "Saved\n",
      "Saved\n",
      "Saved\n",
      "Saved\n",
      "Saved\n",
      "Saved\n",
      "Saved\n",
      "Saved\n",
      "Saved\n",
      "Saved\n",
      "Saved\n",
      "Saved\n",
      "Saved\n",
      "Saved\n",
      "Saved\n",
      "Saved\n",
      "Saved\n",
      "Saved\n",
      "Saved\n",
      "Saved\n",
      "Saved\n",
      "Saved\n",
      "Saved\n",
      "Saved\n",
      "Saved\n",
      "Saved\n",
      "Saved\n",
      "Saved\n",
      "Saved\n",
      "Saved\n",
      "Saved\n",
      "Saved\n",
      "Saved\n",
      "Saved\n",
      "Saved\n",
      "Saved\n",
      "Saved\n",
      "Saved\n",
      "Saved\n",
      "Saved\n",
      "Saved\n",
      "Saved\n",
      "Saved\n",
      "Saved\n",
      "Saved\n",
      "Saved\n",
      "Saved\n",
      "Saved\n",
      "Saved\n",
      "Saved\n",
      "Saved\n",
      "Saved\n",
      "Saved\n",
      "Saved\n",
      "Saved\n",
      "Saved\n",
      "Saved\n",
      "Saved\n",
      "Saved\n",
      "Saved\n",
      "Saved\n",
      "Saved\n",
      "Saved\n",
      "Saved\n",
      "Saved\n",
      "Saved\n",
      "Saved\n",
      "Saved\n",
      "Saved\n",
      "Saved\n",
      "Saved\n",
      "Saved\n",
      "Saved\n",
      "Saved\n",
      "Saved\n",
      "Saved\n",
      "Saved\n",
      "Saved\n",
      "Saved\n",
      "Saved\n",
      "Saved\n",
      "Saved\n",
      "Saved\n",
      "Saved\n",
      "Saved\n",
      "Saved\n",
      "Saved\n"
     ]
    },
    {
     "name": "stderr",
     "output_type": "stream",
     "text": [
      "C:\\Users\\Bhavya\\Anaconda3\\lib\\socket.py:657: ResourceWarning: unclosed <socket.socket fd=4140, family=AddressFamily.AF_INET6, type=SocketKind.SOCK_STREAM, proto=0, laddr=('2003:e6:9718:e700:70c1:90d5:dc6d:8418', 64807, 0, 0), raddr=('2a04:4e42:3::323', 443, 0, 0)>\n",
      "  self._sock = None\n",
      "C:\\Users\\Bhavya\\Anaconda3\\lib\\socket.py:657: ResourceWarning: unclosed <socket.socket fd=2900, family=AddressFamily.AF_INET6, type=SocketKind.SOCK_STREAM, proto=0, laddr=('2003:e6:9718:e700:70c1:90d5:dc6d:8418', 64812, 0, 0), raddr=('2a04:4e42:3::323', 443, 0, 0)>\n",
      "  self._sock = None\n",
      "C:\\Users\\Bhavya\\Anaconda3\\lib\\socket.py:657: ResourceWarning: unclosed <socket.socket fd=2512, family=AddressFamily.AF_INET, type=SocketKind.SOCK_STREAM, proto=0, laddr=('192.168.100.52', 64811), raddr=('151.101.112.239', 443)>\n",
      "  self._sock = None\n"
     ]
    },
    {
     "name": "stdout",
     "output_type": "stream",
     "text": [
      "Saved\n",
      "Saved\n",
      "Saved\n",
      "Saved\n"
     ]
    },
    {
     "name": "stderr",
     "output_type": "stream",
     "text": [
      "C:\\Users\\Bhavya\\Desktop\\Vaibhav\\Django-projects\\recallie_web\\news\\utils.py:569: SettingWithCopyWarning: \n",
      "A value is trying to be set on a copy of a slice from a DataFrame.\n",
      "Try using .loc[row_indexer,col_indexer] = value instead\n",
      "\n",
      "See the caveats in the documentation: http://pandas.pydata.org/pandas-docs/stable/indexing.html#indexing-view-versus-copy\n",
      "  self.main_df['Subject'] = self.message\n"
     ]
    },
    {
     "name": "stdout",
     "output_type": "stream",
     "text": [
      "Saved\n"
     ]
    },
    {
     "name": "stderr",
     "output_type": "stream",
     "text": [
      "C:\\Users\\Bhavya\\Anaconda3\\lib\\socket.py:657: ResourceWarning: unclosed <socket.socket fd=2792, family=AddressFamily.AF_INET, type=SocketKind.SOCK_STREAM, proto=0, laddr=('192.168.100.52', 64842), raddr=('151.101.13.171', 443)>\n",
      "  self._sock = None\n"
     ]
    },
    {
     "name": "stdout",
     "output_type": "stream",
     "text": [
      "Saved\n",
      "Saved\n",
      "Saved\n",
      "Saved\n",
      "Saved\n",
      "Saved\n",
      "Saved\n",
      "613\n",
      "100 useful headlines for query Ivanka is saved!\n",
      "Did Confidence\n",
      "Did merge\n",
      "Done for Ivanka\n",
      "Saved\n",
      "Saved\n",
      "Saved\n",
      "Saved\n",
      "Saved\n",
      "Saved\n",
      "Saved\n",
      "Saved\n",
      "Saved\n",
      "Saved\n",
      "Saved\n",
      "Saved\n",
      "Saved\n",
      "Saved\n"
     ]
    },
    {
     "name": "stderr",
     "output_type": "stream",
     "text": [
      "C:\\Users\\Bhavya\\Anaconda3\\lib\\socket.py:657: ResourceWarning: unclosed <socket.socket fd=2532, family=AddressFamily.AF_INET, type=SocketKind.SOCK_STREAM, proto=0, laddr=('192.168.100.52', 64899), raddr=('151.101.13.171', 443)>\n",
      "  self._sock = None\n",
      "C:\\Users\\Bhavya\\Anaconda3\\lib\\socket.py:657: ResourceWarning: unclosed <socket.socket fd=3356, family=AddressFamily.AF_INET, type=SocketKind.SOCK_STREAM, proto=0, laddr=('192.168.100.52', 64901), raddr=('23.197.10.39', 443)>\n",
      "  self._sock = None\n",
      "C:\\Users\\Bhavya\\Anaconda3\\lib\\socket.py:657: ResourceWarning: unclosed <socket.socket fd=4008, family=AddressFamily.AF_INET, type=SocketKind.SOCK_STREAM, proto=0, laddr=('192.168.100.52', 64902), raddr=('151.101.112.239', 443)>\n",
      "  self._sock = None\n",
      "C:\\Users\\Bhavya\\Anaconda3\\lib\\socket.py:657: ResourceWarning: unclosed <socket.socket fd=3924, family=AddressFamily.AF_INET6, type=SocketKind.SOCK_STREAM, proto=0, laddr=('2003:e6:9718:e700:70c1:90d5:dc6d:8418', 64912, 0, 0), raddr=('2a04:4e42:1b::323', 443, 0, 0)>\n",
      "  self._sock = None\n",
      "C:\\Users\\Bhavya\\Anaconda3\\lib\\socket.py:657: ResourceWarning: unclosed <socket.socket fd=2404, family=AddressFamily.AF_INET, type=SocketKind.SOCK_STREAM, proto=0, laddr=('192.168.100.52', 64910), raddr=('23.197.10.39', 443)>\n",
      "  self._sock = None\n"
     ]
    },
    {
     "name": "stdout",
     "output_type": "stream",
     "text": [
      "Saved\n"
     ]
    },
    {
     "name": "stderr",
     "output_type": "stream",
     "text": [
      "C:\\Users\\Bhavya\\Desktop\\Vaibhav\\Django-projects\\recallie_web\\news\\utils.py:569: SettingWithCopyWarning: \n",
      "A value is trying to be set on a copy of a slice from a DataFrame.\n",
      "Try using .loc[row_indexer,col_indexer] = value instead\n",
      "\n",
      "See the caveats in the documentation: http://pandas.pydata.org/pandas-docs/stable/indexing.html#indexing-view-versus-copy\n",
      "  self.main_df['Subject'] = self.message\n"
     ]
    },
    {
     "name": "stdout",
     "output_type": "stream",
     "text": [
      "Saved\n",
      "Saved\n",
      "Saved\n"
     ]
    },
    {
     "name": "stderr",
     "output_type": "stream",
     "text": [
      "C:\\Users\\Bhavya\\Desktop\\Vaibhav\\Django-projects\\recallie_web\\news\\utils.py:569: SettingWithCopyWarning: \n",
      "A value is trying to be set on a copy of a slice from a DataFrame.\n",
      "Try using .loc[row_indexer,col_indexer] = value instead\n",
      "\n",
      "See the caveats in the documentation: http://pandas.pydata.org/pandas-docs/stable/indexing.html#indexing-view-versus-copy\n",
      "  self.main_df['Subject'] = self.message\n",
      "C:\\Users\\Bhavya\\Desktop\\Vaibhav\\Django-projects\\recallie_web\\news\\utils.py:569: SettingWithCopyWarning: \n",
      "A value is trying to be set on a copy of a slice from a DataFrame.\n",
      "Try using .loc[row_indexer,col_indexer] = value instead\n",
      "\n",
      "See the caveats in the documentation: http://pandas.pydata.org/pandas-docs/stable/indexing.html#indexing-view-versus-copy\n",
      "  self.main_df['Subject'] = self.message\n"
     ]
    },
    {
     "name": "stdout",
     "output_type": "stream",
     "text": [
      "Saved\n"
     ]
    },
    {
     "name": "stderr",
     "output_type": "stream",
     "text": [
      "C:\\Users\\Bhavya\\Desktop\\Vaibhav\\Django-projects\\recallie_web\\news\\utils.py:569: SettingWithCopyWarning: \n",
      "A value is trying to be set on a copy of a slice from a DataFrame.\n",
      "Try using .loc[row_indexer,col_indexer] = value instead\n",
      "\n",
      "See the caveats in the documentation: http://pandas.pydata.org/pandas-docs/stable/indexing.html#indexing-view-versus-copy\n",
      "  self.main_df['Subject'] = self.message\n"
     ]
    },
    {
     "name": "stdout",
     "output_type": "stream",
     "text": [
      "Saved\n"
     ]
    },
    {
     "name": "stderr",
     "output_type": "stream",
     "text": [
      "C:\\Users\\Bhavya\\Desktop\\Vaibhav\\Django-projects\\recallie_web\\news\\utils.py:569: SettingWithCopyWarning: \n",
      "A value is trying to be set on a copy of a slice from a DataFrame.\n",
      "Try using .loc[row_indexer,col_indexer] = value instead\n",
      "\n",
      "See the caveats in the documentation: http://pandas.pydata.org/pandas-docs/stable/indexing.html#indexing-view-versus-copy\n",
      "  self.main_df['Subject'] = self.message\n",
      "C:\\Users\\Bhavya\\Desktop\\Vaibhav\\Django-projects\\recallie_web\\news\\utils.py:569: SettingWithCopyWarning: \n",
      "A value is trying to be set on a copy of a slice from a DataFrame.\n",
      "Try using .loc[row_indexer,col_indexer] = value instead\n",
      "\n",
      "See the caveats in the documentation: http://pandas.pydata.org/pandas-docs/stable/indexing.html#indexing-view-versus-copy\n",
      "  self.main_df['Subject'] = self.message\n"
     ]
    },
    {
     "name": "stdout",
     "output_type": "stream",
     "text": [
      "Saved\n",
      "Saved\n",
      "Saved\n",
      "Saved\n"
     ]
    },
    {
     "name": "stderr",
     "output_type": "stream",
     "text": [
      "C:\\Users\\Bhavya\\Desktop\\Vaibhav\\Django-projects\\recallie_web\\news\\utils.py:569: SettingWithCopyWarning: \n",
      "A value is trying to be set on a copy of a slice from a DataFrame.\n",
      "Try using .loc[row_indexer,col_indexer] = value instead\n",
      "\n",
      "See the caveats in the documentation: http://pandas.pydata.org/pandas-docs/stable/indexing.html#indexing-view-versus-copy\n",
      "  self.main_df['Subject'] = self.message\n",
      "C:\\Users\\Bhavya\\Desktop\\Vaibhav\\Django-projects\\recallie_web\\news\\utils.py:569: SettingWithCopyWarning: \n",
      "A value is trying to be set on a copy of a slice from a DataFrame.\n",
      "Try using .loc[row_indexer,col_indexer] = value instead\n",
      "\n",
      "See the caveats in the documentation: http://pandas.pydata.org/pandas-docs/stable/indexing.html#indexing-view-versus-copy\n",
      "  self.main_df['Subject'] = self.message\n"
     ]
    },
    {
     "name": "stdout",
     "output_type": "stream",
     "text": [
      "Saved\n",
      "Saved\n",
      "12\n",
      "Did Confidence\n",
      "Ivanka\n"
     ]
    },
    {
     "name": "stderr",
     "output_type": "stream",
     "text": [
      "C:\\Users\\Bhavya\\Desktop\\Vaibhav\\Django-projects\\recallie_web\\news\\utils.py:569: SettingWithCopyWarning: \n",
      "A value is trying to be set on a copy of a slice from a DataFrame.\n",
      "Try using .loc[row_indexer,col_indexer] = value instead\n",
      "\n",
      "See the caveats in the documentation: http://pandas.pydata.org/pandas-docs/stable/indexing.html#indexing-view-versus-copy\n",
      "  self.main_df['Subject'] = self.message\n"
     ]
    },
    {
     "ename": "TypeError",
     "evalue": "add_dummy() got an unexpected keyword argument 'query'",
     "output_type": "error",
     "traceback": [
      "\u001b[1;31m---------------------------------------------------------------------------\u001b[0m",
      "\u001b[1;31mTypeError\u001b[0m                                 Traceback (most recent call last)",
      "\u001b[1;32m<ipython-input-8-e772585fc92a>\u001b[0m in \u001b[0;36m<module>\u001b[1;34m\u001b[0m\n\u001b[1;32m----> 1\u001b[1;33m \u001b[0mmake_web_reality\u001b[0m\u001b[1;33m(\u001b[0m\u001b[0mquery\u001b[0m\u001b[1;33m)\u001b[0m\u001b[1;33m\u001b[0m\u001b[1;33m\u001b[0m\u001b[0m\n\u001b[0m",
      "\u001b[1;32m<ipython-input-7-9d6f2df0c36e>\u001b[0m in \u001b[0;36mmake_web_reality\u001b[1;34m(query)\u001b[0m\n\u001b[0;32m     55\u001b[0m     \u001b[0mmain_df\u001b[0m \u001b[1;33m=\u001b[0m \u001b[0mmain_df\u001b[0m\u001b[1;33m.\u001b[0m\u001b[0mdrop\u001b[0m\u001b[1;33m(\u001b[0m\u001b[1;34m'c'\u001b[0m\u001b[1;33m,\u001b[0m\u001b[0maxis\u001b[0m\u001b[1;33m=\u001b[0m\u001b[1;36m1\u001b[0m\u001b[1;33m)\u001b[0m\u001b[1;33m\u001b[0m\u001b[1;33m\u001b[0m\u001b[0m\n\u001b[0;32m     56\u001b[0m     \u001b[0mmain_df\u001b[0m \u001b[1;33m=\u001b[0m \u001b[0mmain_df\u001b[0m\u001b[1;33m.\u001b[0m\u001b[0mgroupby\u001b[0m\u001b[1;33m(\u001b[0m\u001b[1;33m[\u001b[0m\u001b[1;34m'Subject'\u001b[0m\u001b[1;33m,\u001b[0m\u001b[1;34m'Relationship'\u001b[0m\u001b[1;33m,\u001b[0m\u001b[1;34m'Object'\u001b[0m\u001b[1;33m]\u001b[0m\u001b[1;33m)\u001b[0m\u001b[1;33m.\u001b[0m\u001b[0mmean\u001b[0m\u001b[1;33m(\u001b[0m\u001b[1;33m)\u001b[0m\u001b[1;33m.\u001b[0m\u001b[0mreset_index\u001b[0m\u001b[1;33m(\u001b[0m\u001b[1;33m)\u001b[0m\u001b[1;33m\u001b[0m\u001b[1;33m\u001b[0m\u001b[0m\n\u001b[1;32m---> 57\u001b[1;33m     \u001b[0mmain_df\u001b[0m \u001b[1;33m=\u001b[0m \u001b[0madd_dummy\u001b[0m\u001b[1;33m(\u001b[0m\u001b[0mmain_df\u001b[0m\u001b[1;33m,\u001b[0m \u001b[0mquery\u001b[0m\u001b[1;33m=\u001b[0m\u001b[0mquery\u001b[0m\u001b[1;33m)\u001b[0m\u001b[1;33m\u001b[0m\u001b[1;33m\u001b[0m\u001b[0m\n\u001b[0m\u001b[0;32m     58\u001b[0m     \u001b[0mmain_df\u001b[0m \u001b[1;33m=\u001b[0m \u001b[0mcount_confidence\u001b[0m\u001b[1;33m(\u001b[0m\u001b[0mmain_df\u001b[0m\u001b[1;33m)\u001b[0m\u001b[1;33m\u001b[0m\u001b[1;33m\u001b[0m\u001b[0m\n\u001b[0;32m     59\u001b[0m     \u001b[0mprint\u001b[0m\u001b[1;33m(\u001b[0m\u001b[1;34m\"Did merge\"\u001b[0m\u001b[1;33m)\u001b[0m\u001b[1;33m\u001b[0m\u001b[1;33m\u001b[0m\u001b[0m\n",
      "\u001b[1;31mTypeError\u001b[0m: add_dummy() got an unexpected keyword argument 'query'"
     ]
    }
   ],
   "source": [
    "make_web_reality(query)"
   ]
  },
  {
   "cell_type": "code",
   "execution_count": null,
   "metadata": {},
   "outputs": [],
   "source": []
  },
  {
   "cell_type": "code",
   "execution_count": null,
   "metadata": {},
   "outputs": [],
   "source": []
  },
  {
   "cell_type": "code",
   "execution_count": null,
   "metadata": {},
   "outputs": [],
   "source": []
  },
  {
   "cell_type": "code",
   "execution_count": null,
   "metadata": {},
   "outputs": [],
   "source": []
  },
  {
   "cell_type": "code",
   "execution_count": null,
   "metadata": {},
   "outputs": [],
   "source": []
  },
  {
   "cell_type": "code",
   "execution_count": null,
   "metadata": {},
   "outputs": [],
   "source": []
  },
  {
   "cell_type": "code",
   "execution_count": null,
   "metadata": {},
   "outputs": [],
   "source": []
  },
  {
   "cell_type": "code",
   "execution_count": null,
   "metadata": {
    "ExecuteTime": {
     "end_time": "2019-04-02T18:05:06.236165Z",
     "start_time": "2019-04-02T18:00:03.826706Z"
    }
   },
   "outputs": [],
   "source": [
    "y1,m1,d1 = ('2014','01','01')\n",
    "y2,m2,d2 = str(date.today()).split('-')\n",
    "\n",
    "### Setting up API ###\n",
    "headline_list = []\n",
    "headline_dict = {}\n",
    "\n",
    "options = Options()\n",
    "options.binary_location = \"C:\\\\Program Files (x86)\\\\Google\\\\Chrome\\\\Application\\\\chrome.exe\"\n",
    "options.add_argument('--headless')\n",
    "options.add_argument('--window-size=1200x600')\n",
    "options.add_argument('--no-sandbox')\n",
    "options.add_argument('--disable-dev-shm-usage')\n",
    "options.add_argument('--disable-gpu')\n",
    "options.add_argument('--log-level=3')\n",
    "\n",
    "chromedriver = 'C:\\\\Users\\\\Bhavya\\\\Desktop\\\\Vaibhav\\\\chromedriver.exe'\n",
    "r = webdriver.Chrome(executable_path=chromedriver, options=options)\n",
    "\n",
    "### Scraping From Google ###\n",
    "final_date = date(int(y2),int(m2),int(d2))\n",
    "while True:\n",
    "    dd = int(d1)\n",
    "    mm = int(m1) \n",
    "    yy = int(y1) + mm//12\n",
    "    mm = mm % 12 + 1    \n",
    "\n",
    "    temp_date = date(yy,mm,dd)   \n",
    "    if temp_date > final_date:\n",
    "        break  \n",
    "\n",
    "    r.get(\"https://www.google.com/search?q={}&hl=en-US&gl=US&source=lnt&tbs=cdr%3A1%2Ccd_min%3A{}%2F{}%2F{}%2Ccd_max%3A{}%2F{}%2F{}&tbm=nws\".format(\\\n",
    "                        query,m1,d1,y1,mm,dd,yy))\n",
    "    soup = BeautifulSoup(r.page_source, 'lxml')\n",
    "    all_headlines = soup.findAll(\"h3\")\n",
    "    for headline in all_headlines:\n",
    "        headline_list.append(headline.text)\n",
    "        headline_dict[headline.text] = headline.a['href']        \n",
    "    d1,m1,y1 = dd,mm,yy\n",
    "    time.sleep(1)\n",
    "\n",
    "### Saving the file ###\n",
    "save_headline_dict(headline_dict, query)"
   ]
  },
  {
   "cell_type": "code",
   "execution_count": null,
   "metadata": {
    "ExecuteTime": {
     "end_time": "2019-04-02T17:02:24.556388Z",
     "start_time": "2019-04-02T17:02:12.622952Z"
    }
   },
   "outputs": [],
   "source": []
  },
  {
   "cell_type": "code",
   "execution_count": null,
   "metadata": {},
   "outputs": [],
   "source": []
  },
  {
   "cell_type": "code",
   "execution_count": null,
   "metadata": {},
   "outputs": [],
   "source": []
  },
  {
   "cell_type": "code",
   "execution_count": null,
   "metadata": {},
   "outputs": [],
   "source": []
  },
  {
   "cell_type": "code",
   "execution_count": null,
   "metadata": {
    "ExecuteTime": {
     "end_time": "2019-04-01T01:59:56.229902Z",
     "start_time": "2019-04-01T01:59:03.561292Z"
    },
    "code_folding": [
     0
    ]
   },
   "outputs": [],
   "source": [
    "for query in queries:\n",
    "    # Scraping News Links & Headlines\n",
    "    headline_dict = load_headline_dict(query)\n",
    "    print(len(headline_dict))\n",
    "    \n",
    "    # Shuffling and taking atleast 100 articles with some extractions\n",
    "    shuffled_list = random.sample(headline_dict.items(), len(headline_dict.items()))\n",
    "    useful100 = load_useful100(query)\n",
    "    lock = Lock()\n",
    "    DFs = []\n",
    "    start = 0\n",
    "    \n",
    "    if len(useful100.items()) >= 100:\n",
    "        shuffled_list = random.sample(useful100.items(), len(useful100.items()))\n",
    "        \n",
    "    try:\n",
    "        path = \"data/dumps/web_reality-{}-{}.pkl\".format(N,query)\n",
    "        fh = open(path, 'rb')\n",
    "        print(\"Already exists for {}\".format(query))\n",
    "        \n",
    "    except FileNotFoundError as e:\n",
    "        print(len(DFs),N, \" ---- \",start, len(shuffled_list))\n",
    "        ### Creating threads for each link\n",
    "        while len(DFs) < N  and start < len(shuffled_list):\n",
    "            pass100 = dict(shuffled_list[start:start+N])\n",
    "            threads = []\n",
    "            for headline,link in pass100.items():\n",
    "                threads.append( News(link=link, name=query, lock=lock, headline=headline) )\n",
    "\n",
    "            ### Waiting for each thread to complete\n",
    "            for t in threads:\n",
    "                try:\n",
    "                    t.join()\n",
    "                except Exception as e:\n",
    "                    pass\n",
    "\n",
    "            ### Collecting the dfs\n",
    "            for i,t in enumerate(threads):\n",
    "                headline, link, df = t.get_main_df()\n",
    "                if not df.empty:\n",
    "                    DFs.append(df)\n",
    "                    useful100[headline] = link\n",
    "\n",
    "            start = min(start+N, len(headline_dict.items()))\n",
    "            print(start)\n",
    "        \n",
    "        if len(useful100) > 0:\n",
    "            save_useful100(useful100)\n",
    "        \n",
    "        MERGED_DF = pd.concat(DFs, ignore_index=True)\n",
    "        MERGED_DF.loc[MERGED_DF['Confidence'] == '?','Confidence'] = MERGED_DF['Confidence'].apply(lambda x: round(np.random.uniform(0.85,1),2))\n",
    "        print(\"Did Confidence\")\n",
    "\n",
    "        # Finding Web and Reality\n",
    "        isPerson = False\n",
    "        main_df = MERGED_DF.drop('Confidence',axis=1)\n",
    "        main_df = main_df.groupby(['Subject','Relationship','Object']).size().to_frame('c').reset_index()\n",
    "        main_df = pd.merge(main_df, MERGED_DF)\n",
    "        main_df.Confidence = main_df.Confidence.astype(float).fillna(0.0)\n",
    "        main_df['Object'] = main_df.apply(lambda main_df: main_df['Object']+':'+str(main_df['c']), axis=1) \n",
    "        main_df = main_df.drop('c',axis=1)\n",
    "        main_df = add_dummy(main_df)\n",
    "        main_df = count_confidence(main_df)\n",
    "        print(\"Did merge\")\n",
    "\n",
    "        ###### ADDING GROUND TRUTH ######\n",
    "        main_df = u.add_ground_truth(main_df)\n",
    "\n",
    "        ###### ADDING RECALL SCORE ######\n",
    "        main_df = u.add_recall_score(main_df)\n",
    "\n",
    "        main_df.to_pickle(\"data/dumps/web_reality-{}-{}.pkl\".format(N,query))\n",
    "\n",
    "        print(\"Done for {}\".format(query))"
   ]
  },
  {
   "cell_type": "code",
   "execution_count": null,
   "metadata": {
    "ExecuteTime": {
     "end_time": "2019-04-01T02:02:09.433040Z",
     "start_time": "2019-04-01T02:01:17.689556Z"
    }
   },
   "outputs": [],
   "source": [
    "headline_dict = load_headline_dict(\"Bill Gates\")"
   ]
  },
  {
   "cell_type": "code",
   "execution_count": null,
   "metadata": {},
   "outputs": [],
   "source": []
  }
 ],
 "metadata": {
  "kernelspec": {
   "display_name": "Python 3",
   "language": "python",
   "name": "python3"
  },
  "language_info": {
   "codemirror_mode": {
    "name": "ipython",
    "version": 3
   },
   "file_extension": ".py",
   "mimetype": "text/x-python",
   "name": "python",
   "nbconvert_exporter": "python",
   "pygments_lexer": "ipython3",
   "version": "3.6.8"
  }
 },
 "nbformat": 4,
 "nbformat_minor": 2
}
