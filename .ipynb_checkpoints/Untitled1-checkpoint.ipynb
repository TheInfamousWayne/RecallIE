{
 "cells": [
  {
   "cell_type": "code",
   "execution_count": null,
   "metadata": {
    "ExecuteTime": {
     "end_time": "2019-04-02T16:07:07.733680Z",
     "start_time": "2019-04-02T16:07:06.852987Z"
    }
   },
   "outputs": [],
   "source": [
    "from bs4 import BeautifulSoup\n",
    "import requests\n",
    "import time\n",
    "from random import randint\n",
    "from lxml import html\n",
    "import pandas as pd\n",
    "from datetime import date\n",
    "from selenium import webdriver\n",
    "from selenium.webdriver.chrome.options import Options"
   ]
  },
  {
   "cell_type": "code",
   "execution_count": 1,
   "metadata": {
    "ExecuteTime": {
     "end_time": "2019-04-02T16:38:30.245662Z",
     "start_time": "2019-04-02T16:38:29.245813Z"
    }
   },
   "outputs": [],
   "source": [
    "from news.utils import *"
   ]
  },
  {
   "cell_type": "code",
   "execution_count": null,
   "metadata": {
    "ExecuteTime": {
     "end_time": "2019-04-02T16:37:40.981565Z",
     "start_time": "2019-04-02T16:37:40.973586Z"
    }
   },
   "outputs": [],
   "source": [
    "N = 100\n",
    "u = Utils()\n",
    "queries = ['Bill Gates', 'Angela Merkel', 'Donald Trump', 'Ivanka']#, 'Brad Pitt', 'Christopher Nolan', 'Christian Bale', 'Megan Fox', 'Steve Jobs', 'Hillary Clinton', 'Gerhard Weikum']"
   ]
  },
  {
   "cell_type": "code",
   "execution_count": null,
   "metadata": {
    "ExecuteTime": {
     "end_time": "2019-04-01T02:02:15.250712Z",
     "start_time": "2019-04-01T02:02:15.226776Z"
    },
    "code_folding": [
     0,
     46,
     53,
     64,
     70,
     89,
     106
    ]
   },
   "outputs": [],
   "source": [
    "def make_headline_dict(query):\n",
    "    ### Getting Custom Date Range ###\n",
    "    y1,m1,d1 = ('2014','01','01')\n",
    "    y2,m2,d2 = str(date.today()).split('-')\n",
    "    \n",
    "    ### Setting up API ###\n",
    "    headline_list = []\n",
    "    headline_dict = {}\n",
    "\n",
    "    options = Options()\n",
    "    options.binary_location = \"C:\\\\Program Files (x86)\\\\Google\\\\Chrome\\\\Application\\\\chrome.exe\"\n",
    "    options.add_argument('--headless')\n",
    "    options.add_argument('--window-size=1200x600')\n",
    "    options.add_argument('--no-sandbox')\n",
    "    options.add_argument('--disable-dev-shm-usage')\n",
    "    options.add_argument('--disable-gpu')\n",
    "\n",
    "    chromedriver = 'C:\\\\Users\\\\Bhavya\\\\Desktop\\\\Vaibhav\\\\chromedriver.exe'\n",
    "    r = webdriver.Chrome(executable_path=chromedriver, options=options)\n",
    "\n",
    "    ### Scraping From Google ###\n",
    "    final_date = date(int(y2),int(m2),int(d2))\n",
    "    while True:\n",
    "        dd = int(d1)\n",
    "        mm = int(m1) \n",
    "        yy = int(y1) + mm//12\n",
    "        mm = mm % 12 + 1    \n",
    "\n",
    "        temp_date = date(yy,mm,dd)   \n",
    "        if temp_date > final_date:\n",
    "            break  \n",
    "\n",
    "        r.get(\"https://www.google.com/search?q={}&hl=en-US&gl=US&source=lnt&tbs=cdr%3A1%2Ccd_min%3A{}%2F{}%2F{}%2Ccd_max%3A{}%2F{}%2F{}&tbm=nws\".format(\\\n",
    "                            query,m1,d1,y1,mm,dd,yy))\n",
    "        soup = BeautifulSoup(r.page_source, 'lxml')\n",
    "        all_headlines = soup.findAll(\"h3\")\n",
    "        for headline in all_headlines:\n",
    "            headline_list.append(headline.text)\n",
    "            headline_dict[headline.text] = headline.a['href']        \n",
    "        d1,m1,y1 = dd,mm,yy\n",
    "    \n",
    "    ### Saving the file ###\n",
    "    save_headline_dict(headline_dict)\n",
    "    \n",
    "    return headline_dict\n",
    "\n",
    "def save_headline_dict(headline_dict):\n",
    "    if len(headline_dict) > 0:\n",
    "        path = 'data/dumps/{}_headline_dict.pkl'.format(query)\n",
    "        with open(path, 'wb') as fp:\n",
    "            pickle.dump(headline_dict, fp, protocol=pickle.HIGHEST_PROTOCOL)\n",
    "            print(\"headline_dict saved!\")\n",
    "        \n",
    "def load_headline_dict(query):\n",
    "    path = 'data/dumps/{}_headline_dict.pkl'.format(query)\n",
    "    headline_dict = {}\n",
    "    try:\n",
    "        with open(path, 'rb') as fp:\n",
    "            headline_dict = pickle.load(fp)\n",
    "    except:\n",
    "        print (\"Creating a new Dictionary\")\n",
    "        headline_dict = make_headline_dict(query)\n",
    "    return headline_dict\n",
    "\n",
    "def save_useful100(useful100):\n",
    "    path = 'data/dumps/{}_useful100.pkl'.format(query)\n",
    "    with open(path, 'wb') as fp:\n",
    "        pickle.dump(useful100, fp, protocol=pickle.HIGHEST_PROTOCOL)\n",
    "        print(\"100 useful headlines for query {} is saved!\".format(query))\n",
    "        \n",
    "def load_useful100(query):\n",
    "    path = 'data/dumps/{}_useful100.pkl'.format(query)\n",
    "    try:\n",
    "        with open(path, 'rb') as fp:\n",
    "            useful100 = pickle.load(fp)\n",
    "    except:\n",
    "        print (\"No file exists. Creating a new one for {}\".format(query))\n",
    "        useful100 = make_useful100(query)\n",
    "    return useful100\n",
    "\n",
    "PERSON_RELATIONS = ['Educated at', 'Citizen of', 'Person Employee or Member of', 'Organization top employees^-1',\\\n",
    "                    'Person Current and Past Location of Residence', 'Person Parents', 'Person Parents^-1',\\\n",
    "                    'Person Place of Birth', 'Person Siblings', 'Person Spouse']\n",
    "ORG_RELATION =     ['Organization Founded By', 'Organization Collaboration', 'Organization Collaboration^-1',\\\n",
    "                    'Organization Headquarters', 'Organization Subsidiary Of', 'Organization Subsidiary Of^-1',\\\n",
    "                    'Organization top employees', 'Person Employee or Member of^-1', 'Organization Acquired By^-1',\\\n",
    "                    'Organization Acquired By', 'Organization Provider To', 'Organization Provider To^-1']\n",
    "COMMON_RELATION =  ['Organization Founded By^-1']\n",
    "\n",
    "def add_dummy(df, person=False):\n",
    "    global isPerson\n",
    "    rel = set(df['Relationship'])\n",
    "    if person:\n",
    "        isPerson = person\n",
    "    else:\n",
    "        isPerson = True if any(s in PERSON_RELATIONS for s in rel) else False\n",
    "    if isPerson:\n",
    "        dummy_rels = COMMON_RELATION + PERSON_RELATIONS\n",
    "    else:\n",
    "        dummy_rels = COMMON_RELATION + ORG_RELATION\n",
    "    for r in rel:\n",
    "        dummy_rels.remove(r)\n",
    "    for r in dummy_rels:\n",
    "        df = df.append({'Subject': query, 'Relationship':r, 'Object':''}, ignore_index=True)\n",
    "    return df\n",
    "\n",
    "def count_confidence(main_df):\n",
    "    if (not main_df.empty):\n",
    "        main_df = main_df.sort_values('Object', ascending=True).drop_duplicates().groupby(['Subject','Relationship']).agg(lambda x: list(x))\n",
    "        main_df['Object'] = main_df['Object'].agg(lambda x: x if x != [''] else [])\n",
    "        main_df['Count'] = main_df['Object'].apply(lambda x: len(x))\n",
    "        #main_df = main_df[[c for c in main_df if c not in ['Confidence']] + ['Confidence']]\n",
    "    return main_df"
   ]
  },
  {
   "cell_type": "code",
   "execution_count": 2,
   "metadata": {
    "ExecuteTime": {
     "end_time": "2019-04-02T16:38:41.684090Z",
     "start_time": "2019-04-02T16:38:41.666169Z"
    },
    "code_folding": []
   },
   "outputs": [],
   "source": [
    "def make_web_reality(query):\n",
    "    headline_dict = load_useful100(query)\n",
    "    \n",
    "    # Shuffling and taking atleast 100 articles with some extractions\n",
    "    shuffled_list = random.sample(headline_dict.items(), len(headline_dict.items()))\n",
    "    useful100 = {}\n",
    "    lock = Lock()\n",
    "    u = Utils()\n",
    "    DFs = []\n",
    "    N = 100\n",
    "    start = 0\n",
    "\n",
    "#     try:\n",
    "#         path = \"data/dumps/web_reality-{}-{}.pkl\".format(N,query)\n",
    "#         fh = open(path, 'rb')\n",
    "#         print(\"Already exists for {}\".format(query))\n",
    "        \n",
    "#     except FileNotFoundError as e:\n",
    "    \n",
    "    ### Creating threads for each chosen link\n",
    "    pass100 = dict(shuffled_list)\n",
    "    threads = []\n",
    "    for headline,link in pass100.items():\n",
    "        threads.append( News(link=link, name=query, lock=lock, headline=headline) )\n",
    "\n",
    "    ### Waiting for each thread to complete\n",
    "    for t in threads:\n",
    "        try:\n",
    "            t.join()\n",
    "        except Exception as e:\n",
    "            pass\n",
    "\n",
    "    ### Collecting the dfs\n",
    "    for i,t in enumerate(threads):\n",
    "        headline, link, df = t.get_main_df()\n",
    "        if not df.empty:\n",
    "            DFs.append(df)\n",
    "            useful100[headline] = link\n",
    "\n",
    "    print(len(DFs))\n",
    "    \n",
    "    MERGED_DF = pd.concat(DFs, ignore_index=True)\n",
    "    MERGED_DF.loc[MERGED_DF['Confidence'] == '?','Confidence'] = MERGED_DF['Confidence'].apply(lambda x: round(np.random.uniform(0.85,1),2))\n",
    "    print(\"Did Confidence\")\n",
    "\n",
    "    # Finding Web and Reality\n",
    "    isPerson = False\n",
    "    main_df = MERGED_DF.drop('Confidence',axis=1)\n",
    "    query = set(main_df['Subject']).pop()\n",
    "    print(query)\n",
    "    main_df = main_df.groupby(['Subject','Relationship','Object']).size().to_frame('c').reset_index()\n",
    "    main_df = pd.merge(main_df, MERGED_DF)\n",
    "    main_df.Confidence = main_df.Confidence.astype(float).fillna(0.0)\n",
    "    main_df['Object'] = main_df.apply(lambda main_df: main_df['Object']+':'+str(main_df['c']), axis=1) \n",
    "    main_df = main_df.drop('c',axis=1)\n",
    "    main_df = main_df.groupby(['Subject','Relationship','Object']).mean().reset_index()\n",
    "    main_df = add_dummy(main_df, query=query)\n",
    "    main_df = count_confidence(main_df)\n",
    "    print(\"Did merge\")\n",
    "\n",
    "    ###### ADDING GROUND TRUTH ######\n",
    "    main_df = u.add_ground_truth(main_df)\n",
    "\n",
    "    ###### ADDING RECALL SCORE ######\n",
    "    main_df = u.add_recall_score(main_df)\n",
    "\n",
    "    main_df.to_pickle(\"data/dumps/web_reality-{}-{}.pkl\".format(N,query))\n",
    "\n",
    "    print(\"Done for {}\".format(query))\n"
   ]
  },
  {
   "cell_type": "code",
   "execution_count": 3,
   "metadata": {
    "ExecuteTime": {
     "end_time": "2019-04-02T16:41:08.130786Z",
     "start_time": "2019-04-02T16:38:42.993367Z"
    }
   },
   "outputs": [
    {
     "name": "stderr",
     "output_type": "stream",
     "text": [
      "C:\\Users\\Bhavya\\Anaconda3\\lib\\socket.py:657: ResourceWarning: unclosed <socket.socket fd=8388, family=AddressFamily.AF_INET, type=SocketKind.SOCK_STREAM, proto=0, laddr=('139.19.106.114', 53140), raddr=('151.101.113.171', 443)>\n",
      "  self._sock = None\n",
      "C:\\Users\\Bhavya\\Anaconda3\\lib\\socket.py:657: ResourceWarning: unclosed <socket.socket fd=8960, family=AddressFamily.AF_INET, type=SocketKind.SOCK_STREAM, proto=0, laddr=('139.19.106.114', 53166), raddr=('151.101.113.171', 443)>\n",
      "  self._sock = None\n",
      "C:\\Users\\Bhavya\\Anaconda3\\lib\\socket.py:657: ResourceWarning: unclosed <socket.socket fd=8688, family=AddressFamily.AF_INET, type=SocketKind.SOCK_STREAM, proto=0, laddr=('139.19.106.114', 53156), raddr=('104.125.12.221', 443)>\n",
      "  self._sock = None\n",
      "C:\\Users\\Bhavya\\Anaconda3\\lib\\socket.py:657: ResourceWarning: unclosed <socket.socket fd=9184, family=AddressFamily.AF_INET, type=SocketKind.SOCK_STREAM, proto=0, laddr=('139.19.106.114', 53186), raddr=('151.101.113.171', 443)>\n",
      "  self._sock = None\n",
      "C:\\Users\\Bhavya\\Anaconda3\\lib\\socket.py:657: ResourceWarning: unclosed <socket.socket fd=9304, family=AddressFamily.AF_INET, type=SocketKind.SOCK_STREAM, proto=0, laddr=('139.19.106.114', 53183), raddr=('104.125.12.221', 443)>\n",
      "  self._sock = None\n",
      "C:\\Users\\Bhavya\\Anaconda3\\lib\\socket.py:657: ResourceWarning: unclosed <socket.socket fd=10300, family=AddressFamily.AF_INET, type=SocketKind.SOCK_STREAM, proto=0, laddr=('139.19.106.114', 53232), raddr=('151.101.113.171', 443)>\n",
      "  self._sock = None\n",
      "C:\\Users\\Bhavya\\Anaconda3\\lib\\socket.py:657: ResourceWarning: unclosed <socket.socket fd=9452, family=AddressFamily.AF_INET, type=SocketKind.SOCK_STREAM, proto=0, laddr=('139.19.106.114', 53243), raddr=('107.154.114.27', 443)>\n",
      "  self._sock = None\n",
      "C:\\Users\\Bhavya\\Anaconda3\\lib\\socket.py:657: ResourceWarning: unclosed <socket.socket fd=10596, family=AddressFamily.AF_INET, type=SocketKind.SOCK_STREAM, proto=0, laddr=('139.19.106.114', 53242), raddr=('151.101.114.62', 443)>\n",
      "  self._sock = None\n"
     ]
    },
    {
     "name": "stdout",
     "output_type": "stream",
     "text": [
      "Saved\n"
     ]
    },
    {
     "name": "stderr",
     "output_type": "stream",
     "text": [
      "C:\\Users\\Bhavya\\Desktop\\Vaibhav\\Django-projects\\recallie_web\\news\\utils.py:568: SettingWithCopyWarning: \n",
      "A value is trying to be set on a copy of a slice from a DataFrame.\n",
      "Try using .loc[row_indexer,col_indexer] = value instead\n",
      "\n",
      "See the caveats in the documentation: http://pandas.pydata.org/pandas-docs/stable/indexing.html#indexing-view-versus-copy\n",
      "  self.main_df['Subject'] = self.message\n"
     ]
    },
    {
     "name": "stdout",
     "output_type": "stream",
     "text": [
      "Saved\n"
     ]
    },
    {
     "name": "stderr",
     "output_type": "stream",
     "text": [
      "C:\\Users\\Bhavya\\Desktop\\Vaibhav\\Django-projects\\recallie_web\\news\\utils.py:568: SettingWithCopyWarning: \n",
      "A value is trying to be set on a copy of a slice from a DataFrame.\n",
      "Try using .loc[row_indexer,col_indexer] = value instead\n",
      "\n",
      "See the caveats in the documentation: http://pandas.pydata.org/pandas-docs/stable/indexing.html#indexing-view-versus-copy\n",
      "  self.main_df['Subject'] = self.message\n"
     ]
    },
    {
     "name": "stdout",
     "output_type": "stream",
     "text": [
      "Saved\n"
     ]
    },
    {
     "name": "stderr",
     "output_type": "stream",
     "text": [
      "C:\\Users\\Bhavya\\Desktop\\Vaibhav\\Django-projects\\recallie_web\\news\\utils.py:568: SettingWithCopyWarning: \n",
      "A value is trying to be set on a copy of a slice from a DataFrame.\n",
      "Try using .loc[row_indexer,col_indexer] = value instead\n",
      "\n",
      "See the caveats in the documentation: http://pandas.pydata.org/pandas-docs/stable/indexing.html#indexing-view-versus-copy\n",
      "  self.main_df['Subject'] = self.message\n"
     ]
    },
    {
     "name": "stdout",
     "output_type": "stream",
     "text": [
      "Saved\n"
     ]
    },
    {
     "name": "stderr",
     "output_type": "stream",
     "text": [
      "C:\\Users\\Bhavya\\Desktop\\Vaibhav\\Django-projects\\recallie_web\\news\\utils.py:568: SettingWithCopyWarning: \n",
      "A value is trying to be set on a copy of a slice from a DataFrame.\n",
      "Try using .loc[row_indexer,col_indexer] = value instead\n",
      "\n",
      "See the caveats in the documentation: http://pandas.pydata.org/pandas-docs/stable/indexing.html#indexing-view-versus-copy\n",
      "  self.main_df['Subject'] = self.message\n"
     ]
    },
    {
     "name": "stdout",
     "output_type": "stream",
     "text": [
      "Saved\n"
     ]
    },
    {
     "name": "stderr",
     "output_type": "stream",
     "text": [
      "C:\\Users\\Bhavya\\Desktop\\Vaibhav\\Django-projects\\recallie_web\\news\\utils.py:568: SettingWithCopyWarning: \n",
      "A value is trying to be set on a copy of a slice from a DataFrame.\n",
      "Try using .loc[row_indexer,col_indexer] = value instead\n",
      "\n",
      "See the caveats in the documentation: http://pandas.pydata.org/pandas-docs/stable/indexing.html#indexing-view-versus-copy\n",
      "  self.main_df['Subject'] = self.message\n"
     ]
    },
    {
     "name": "stdout",
     "output_type": "stream",
     "text": [
      "Saved\n"
     ]
    },
    {
     "name": "stderr",
     "output_type": "stream",
     "text": [
      "C:\\Users\\Bhavya\\Desktop\\Vaibhav\\Django-projects\\recallie_web\\news\\utils.py:568: SettingWithCopyWarning: \n",
      "A value is trying to be set on a copy of a slice from a DataFrame.\n",
      "Try using .loc[row_indexer,col_indexer] = value instead\n",
      "\n",
      "See the caveats in the documentation: http://pandas.pydata.org/pandas-docs/stable/indexing.html#indexing-view-versus-copy\n",
      "  self.main_df['Subject'] = self.message\n"
     ]
    },
    {
     "name": "stdout",
     "output_type": "stream",
     "text": [
      "Saved\n",
      "Saved\n"
     ]
    },
    {
     "name": "stderr",
     "output_type": "stream",
     "text": [
      "C:\\Users\\Bhavya\\Desktop\\Vaibhav\\Django-projects\\recallie_web\\news\\utils.py:568: SettingWithCopyWarning: \n",
      "A value is trying to be set on a copy of a slice from a DataFrame.\n",
      "Try using .loc[row_indexer,col_indexer] = value instead\n",
      "\n",
      "See the caveats in the documentation: http://pandas.pydata.org/pandas-docs/stable/indexing.html#indexing-view-versus-copy\n",
      "  self.main_df['Subject'] = self.message\n"
     ]
    },
    {
     "name": "stdout",
     "output_type": "stream",
     "text": [
      "Saved\n"
     ]
    },
    {
     "name": "stderr",
     "output_type": "stream",
     "text": [
      "C:\\Users\\Bhavya\\Desktop\\Vaibhav\\Django-projects\\recallie_web\\news\\utils.py:568: SettingWithCopyWarning: \n",
      "A value is trying to be set on a copy of a slice from a DataFrame.\n",
      "Try using .loc[row_indexer,col_indexer] = value instead\n",
      "\n",
      "See the caveats in the documentation: http://pandas.pydata.org/pandas-docs/stable/indexing.html#indexing-view-versus-copy\n",
      "  self.main_df['Subject'] = self.message\n"
     ]
    },
    {
     "name": "stdout",
     "output_type": "stream",
     "text": [
      "Saved\n"
     ]
    },
    {
     "name": "stderr",
     "output_type": "stream",
     "text": [
      "C:\\Users\\Bhavya\\Desktop\\Vaibhav\\Django-projects\\recallie_web\\news\\utils.py:568: SettingWithCopyWarning: \n",
      "A value is trying to be set on a copy of a slice from a DataFrame.\n",
      "Try using .loc[row_indexer,col_indexer] = value instead\n",
      "\n",
      "See the caveats in the documentation: http://pandas.pydata.org/pandas-docs/stable/indexing.html#indexing-view-versus-copy\n",
      "  self.main_df['Subject'] = self.message\n"
     ]
    },
    {
     "name": "stdout",
     "output_type": "stream",
     "text": [
      "Saved\n"
     ]
    },
    {
     "name": "stderr",
     "output_type": "stream",
     "text": [
      "C:\\Users\\Bhavya\\Desktop\\Vaibhav\\Django-projects\\recallie_web\\news\\utils.py:568: SettingWithCopyWarning: \n",
      "A value is trying to be set on a copy of a slice from a DataFrame.\n",
      "Try using .loc[row_indexer,col_indexer] = value instead\n",
      "\n",
      "See the caveats in the documentation: http://pandas.pydata.org/pandas-docs/stable/indexing.html#indexing-view-versus-copy\n",
      "  self.main_df['Subject'] = self.message\n"
     ]
    },
    {
     "name": "stdout",
     "output_type": "stream",
     "text": [
      "Saved\n"
     ]
    },
    {
     "name": "stderr",
     "output_type": "stream",
     "text": [
      "C:\\Users\\Bhavya\\Desktop\\Vaibhav\\Django-projects\\recallie_web\\news\\utils.py:568: SettingWithCopyWarning: \n",
      "A value is trying to be set on a copy of a slice from a DataFrame.\n",
      "Try using .loc[row_indexer,col_indexer] = value instead\n",
      "\n",
      "See the caveats in the documentation: http://pandas.pydata.org/pandas-docs/stable/indexing.html#indexing-view-versus-copy\n",
      "  self.main_df['Subject'] = self.message\n"
     ]
    },
    {
     "name": "stdout",
     "output_type": "stream",
     "text": [
      "Saved\n"
     ]
    },
    {
     "name": "stderr",
     "output_type": "stream",
     "text": [
      "C:\\Users\\Bhavya\\Desktop\\Vaibhav\\Django-projects\\recallie_web\\news\\utils.py:568: SettingWithCopyWarning: \n",
      "A value is trying to be set on a copy of a slice from a DataFrame.\n",
      "Try using .loc[row_indexer,col_indexer] = value instead\n",
      "\n",
      "See the caveats in the documentation: http://pandas.pydata.org/pandas-docs/stable/indexing.html#indexing-view-versus-copy\n",
      "  self.main_df['Subject'] = self.message\n"
     ]
    },
    {
     "name": "stdout",
     "output_type": "stream",
     "text": [
      "Saved\n",
      "Saved\n",
      "Saved\n"
     ]
    },
    {
     "name": "stderr",
     "output_type": "stream",
     "text": [
      "C:\\Users\\Bhavya\\Desktop\\Vaibhav\\Django-projects\\recallie_web\\news\\utils.py:568: SettingWithCopyWarning: \n",
      "A value is trying to be set on a copy of a slice from a DataFrame.\n",
      "Try using .loc[row_indexer,col_indexer] = value instead\n",
      "\n",
      "See the caveats in the documentation: http://pandas.pydata.org/pandas-docs/stable/indexing.html#indexing-view-versus-copy\n",
      "  self.main_df['Subject'] = self.message\n"
     ]
    },
    {
     "name": "stdout",
     "output_type": "stream",
     "text": [
      "Saved\n"
     ]
    },
    {
     "name": "stderr",
     "output_type": "stream",
     "text": [
      "C:\\Users\\Bhavya\\Desktop\\Vaibhav\\Django-projects\\recallie_web\\news\\utils.py:568: SettingWithCopyWarning: \n",
      "A value is trying to be set on a copy of a slice from a DataFrame.\n",
      "Try using .loc[row_indexer,col_indexer] = value instead\n",
      "\n",
      "See the caveats in the documentation: http://pandas.pydata.org/pandas-docs/stable/indexing.html#indexing-view-versus-copy\n",
      "  self.main_df['Subject'] = self.message\n"
     ]
    },
    {
     "name": "stdout",
     "output_type": "stream",
     "text": [
      "Saved\n"
     ]
    },
    {
     "name": "stderr",
     "output_type": "stream",
     "text": [
      "C:\\Users\\Bhavya\\Desktop\\Vaibhav\\Django-projects\\recallie_web\\news\\utils.py:568: SettingWithCopyWarning: \n",
      "A value is trying to be set on a copy of a slice from a DataFrame.\n",
      "Try using .loc[row_indexer,col_indexer] = value instead\n",
      "\n",
      "See the caveats in the documentation: http://pandas.pydata.org/pandas-docs/stable/indexing.html#indexing-view-versus-copy\n",
      "  self.main_df['Subject'] = self.message\n"
     ]
    },
    {
     "name": "stdout",
     "output_type": "stream",
     "text": [
      "Saved\n"
     ]
    },
    {
     "name": "stderr",
     "output_type": "stream",
     "text": [
      "C:\\Users\\Bhavya\\Desktop\\Vaibhav\\Django-projects\\recallie_web\\news\\utils.py:568: SettingWithCopyWarning: \n",
      "A value is trying to be set on a copy of a slice from a DataFrame.\n",
      "Try using .loc[row_indexer,col_indexer] = value instead\n",
      "\n",
      "See the caveats in the documentation: http://pandas.pydata.org/pandas-docs/stable/indexing.html#indexing-view-versus-copy\n",
      "  self.main_df['Subject'] = self.message\n"
     ]
    },
    {
     "name": "stdout",
     "output_type": "stream",
     "text": [
      "Saved\n"
     ]
    },
    {
     "name": "stderr",
     "output_type": "stream",
     "text": [
      "C:\\Users\\Bhavya\\Desktop\\Vaibhav\\Django-projects\\recallie_web\\news\\utils.py:568: SettingWithCopyWarning: \n",
      "A value is trying to be set on a copy of a slice from a DataFrame.\n",
      "Try using .loc[row_indexer,col_indexer] = value instead\n",
      "\n",
      "See the caveats in the documentation: http://pandas.pydata.org/pandas-docs/stable/indexing.html#indexing-view-versus-copy\n",
      "  self.main_df['Subject'] = self.message\n"
     ]
    },
    {
     "name": "stdout",
     "output_type": "stream",
     "text": [
      "Saved\n"
     ]
    },
    {
     "name": "stderr",
     "output_type": "stream",
     "text": [
      "C:\\Users\\Bhavya\\Desktop\\Vaibhav\\Django-projects\\recallie_web\\news\\utils.py:568: SettingWithCopyWarning: \n",
      "A value is trying to be set on a copy of a slice from a DataFrame.\n",
      "Try using .loc[row_indexer,col_indexer] = value instead\n",
      "\n",
      "See the caveats in the documentation: http://pandas.pydata.org/pandas-docs/stable/indexing.html#indexing-view-versus-copy\n",
      "  self.main_df['Subject'] = self.message\n"
     ]
    },
    {
     "name": "stdout",
     "output_type": "stream",
     "text": [
      "Saved\n"
     ]
    },
    {
     "name": "stderr",
     "output_type": "stream",
     "text": [
      "C:\\Users\\Bhavya\\Desktop\\Vaibhav\\Django-projects\\recallie_web\\news\\utils.py:568: SettingWithCopyWarning: \n",
      "A value is trying to be set on a copy of a slice from a DataFrame.\n",
      "Try using .loc[row_indexer,col_indexer] = value instead\n",
      "\n",
      "See the caveats in the documentation: http://pandas.pydata.org/pandas-docs/stable/indexing.html#indexing-view-versus-copy\n",
      "  self.main_df['Subject'] = self.message\n"
     ]
    },
    {
     "name": "stdout",
     "output_type": "stream",
     "text": [
      "Saved\n",
      "Saved\n",
      "Saved\n",
      "Saved\n"
     ]
    },
    {
     "name": "stderr",
     "output_type": "stream",
     "text": [
      "C:\\Users\\Bhavya\\Desktop\\Vaibhav\\Django-projects\\recallie_web\\news\\utils.py:568: SettingWithCopyWarning: \n",
      "A value is trying to be set on a copy of a slice from a DataFrame.\n",
      "Try using .loc[row_indexer,col_indexer] = value instead\n",
      "\n",
      "See the caveats in the documentation: http://pandas.pydata.org/pandas-docs/stable/indexing.html#indexing-view-versus-copy\n",
      "  self.main_df['Subject'] = self.message\n"
     ]
    },
    {
     "name": "stdout",
     "output_type": "stream",
     "text": [
      "Saved\n"
     ]
    },
    {
     "name": "stderr",
     "output_type": "stream",
     "text": [
      "C:\\Users\\Bhavya\\Desktop\\Vaibhav\\Django-projects\\recallie_web\\news\\utils.py:568: SettingWithCopyWarning: \n",
      "A value is trying to be set on a copy of a slice from a DataFrame.\n",
      "Try using .loc[row_indexer,col_indexer] = value instead\n",
      "\n",
      "See the caveats in the documentation: http://pandas.pydata.org/pandas-docs/stable/indexing.html#indexing-view-versus-copy\n",
      "  self.main_df['Subject'] = self.message\n"
     ]
    },
    {
     "name": "stdout",
     "output_type": "stream",
     "text": [
      "Saved\n"
     ]
    },
    {
     "name": "stderr",
     "output_type": "stream",
     "text": [
      "C:\\Users\\Bhavya\\Desktop\\Vaibhav\\Django-projects\\recallie_web\\news\\utils.py:568: SettingWithCopyWarning: \n",
      "A value is trying to be set on a copy of a slice from a DataFrame.\n",
      "Try using .loc[row_indexer,col_indexer] = value instead\n",
      "\n",
      "See the caveats in the documentation: http://pandas.pydata.org/pandas-docs/stable/indexing.html#indexing-view-versus-copy\n",
      "  self.main_df['Subject'] = self.message\n"
     ]
    },
    {
     "name": "stdout",
     "output_type": "stream",
     "text": [
      "Saved\n"
     ]
    },
    {
     "name": "stderr",
     "output_type": "stream",
     "text": [
      "C:\\Users\\Bhavya\\Desktop\\Vaibhav\\Django-projects\\recallie_web\\news\\utils.py:568: SettingWithCopyWarning: \n",
      "A value is trying to be set on a copy of a slice from a DataFrame.\n",
      "Try using .loc[row_indexer,col_indexer] = value instead\n",
      "\n",
      "See the caveats in the documentation: http://pandas.pydata.org/pandas-docs/stable/indexing.html#indexing-view-versus-copy\n",
      "  self.main_df['Subject'] = self.message\n"
     ]
    },
    {
     "name": "stdout",
     "output_type": "stream",
     "text": [
      "Saved\n"
     ]
    },
    {
     "name": "stderr",
     "output_type": "stream",
     "text": [
      "C:\\Users\\Bhavya\\Desktop\\Vaibhav\\Django-projects\\recallie_web\\news\\utils.py:568: SettingWithCopyWarning: \n",
      "A value is trying to be set on a copy of a slice from a DataFrame.\n",
      "Try using .loc[row_indexer,col_indexer] = value instead\n",
      "\n",
      "See the caveats in the documentation: http://pandas.pydata.org/pandas-docs/stable/indexing.html#indexing-view-versus-copy\n",
      "  self.main_df['Subject'] = self.message\n"
     ]
    },
    {
     "name": "stdout",
     "output_type": "stream",
     "text": [
      "Saved\n"
     ]
    },
    {
     "name": "stderr",
     "output_type": "stream",
     "text": [
      "C:\\Users\\Bhavya\\Desktop\\Vaibhav\\Django-projects\\recallie_web\\news\\utils.py:568: SettingWithCopyWarning: \n",
      "A value is trying to be set on a copy of a slice from a DataFrame.\n",
      "Try using .loc[row_indexer,col_indexer] = value instead\n",
      "\n",
      "See the caveats in the documentation: http://pandas.pydata.org/pandas-docs/stable/indexing.html#indexing-view-versus-copy\n",
      "  self.main_df['Subject'] = self.message\n"
     ]
    },
    {
     "name": "stdout",
     "output_type": "stream",
     "text": [
      "Saved\n"
     ]
    },
    {
     "name": "stderr",
     "output_type": "stream",
     "text": [
      "C:\\Users\\Bhavya\\Desktop\\Vaibhav\\Django-projects\\recallie_web\\news\\utils.py:568: SettingWithCopyWarning: \n",
      "A value is trying to be set on a copy of a slice from a DataFrame.\n",
      "Try using .loc[row_indexer,col_indexer] = value instead\n",
      "\n",
      "See the caveats in the documentation: http://pandas.pydata.org/pandas-docs/stable/indexing.html#indexing-view-versus-copy\n",
      "  self.main_df['Subject'] = self.message\n"
     ]
    },
    {
     "name": "stdout",
     "output_type": "stream",
     "text": [
      "Saved\n",
      "Saved\n"
     ]
    },
    {
     "name": "stderr",
     "output_type": "stream",
     "text": [
      "C:\\Users\\Bhavya\\Desktop\\Vaibhav\\Django-projects\\recallie_web\\news\\utils.py:568: SettingWithCopyWarning: \n",
      "A value is trying to be set on a copy of a slice from a DataFrame.\n",
      "Try using .loc[row_indexer,col_indexer] = value instead\n",
      "\n",
      "See the caveats in the documentation: http://pandas.pydata.org/pandas-docs/stable/indexing.html#indexing-view-versus-copy\n",
      "  self.main_df['Subject'] = self.message\n"
     ]
    },
    {
     "name": "stdout",
     "output_type": "stream",
     "text": [
      "Saved\n",
      "Saved\n"
     ]
    },
    {
     "name": "stderr",
     "output_type": "stream",
     "text": [
      "C:\\Users\\Bhavya\\Desktop\\Vaibhav\\Django-projects\\recallie_web\\news\\utils.py:568: SettingWithCopyWarning: \n",
      "A value is trying to be set on a copy of a slice from a DataFrame.\n",
      "Try using .loc[row_indexer,col_indexer] = value instead\n",
      "\n",
      "See the caveats in the documentation: http://pandas.pydata.org/pandas-docs/stable/indexing.html#indexing-view-versus-copy\n",
      "  self.main_df['Subject'] = self.message\n",
      "C:\\Users\\Bhavya\\Desktop\\Vaibhav\\Django-projects\\recallie_web\\news\\utils.py:568: SettingWithCopyWarning: \n",
      "A value is trying to be set on a copy of a slice from a DataFrame.\n",
      "Try using .loc[row_indexer,col_indexer] = value instead\n",
      "\n",
      "See the caveats in the documentation: http://pandas.pydata.org/pandas-docs/stable/indexing.html#indexing-view-versus-copy\n",
      "  self.main_df['Subject'] = self.message\n"
     ]
    },
    {
     "name": "stdout",
     "output_type": "stream",
     "text": [
      "Saved\n",
      "Saved\n"
     ]
    },
    {
     "name": "stderr",
     "output_type": "stream",
     "text": [
      "C:\\Users\\Bhavya\\Desktop\\Vaibhav\\Django-projects\\recallie_web\\news\\utils.py:568: SettingWithCopyWarning: \n",
      "A value is trying to be set on a copy of a slice from a DataFrame.\n",
      "Try using .loc[row_indexer,col_indexer] = value instead\n",
      "\n",
      "See the caveats in the documentation: http://pandas.pydata.org/pandas-docs/stable/indexing.html#indexing-view-versus-copy\n",
      "  self.main_df['Subject'] = self.message\n"
     ]
    },
    {
     "name": "stdout",
     "output_type": "stream",
     "text": [
      "Saved\n",
      "Saved\n"
     ]
    },
    {
     "name": "stderr",
     "output_type": "stream",
     "text": [
      "C:\\Users\\Bhavya\\Desktop\\Vaibhav\\Django-projects\\recallie_web\\news\\utils.py:568: SettingWithCopyWarning: \n",
      "A value is trying to be set on a copy of a slice from a DataFrame.\n",
      "Try using .loc[row_indexer,col_indexer] = value instead\n",
      "\n",
      "See the caveats in the documentation: http://pandas.pydata.org/pandas-docs/stable/indexing.html#indexing-view-versus-copy\n",
      "  self.main_df['Subject'] = self.message\n"
     ]
    },
    {
     "name": "stdout",
     "output_type": "stream",
     "text": [
      "Saved\n",
      "Saved\n",
      "Saved\n"
     ]
    },
    {
     "name": "stderr",
     "output_type": "stream",
     "text": [
      "C:\\Users\\Bhavya\\Desktop\\Vaibhav\\Django-projects\\recallie_web\\news\\utils.py:568: SettingWithCopyWarning: \n",
      "A value is trying to be set on a copy of a slice from a DataFrame.\n",
      "Try using .loc[row_indexer,col_indexer] = value instead\n",
      "\n",
      "See the caveats in the documentation: http://pandas.pydata.org/pandas-docs/stable/indexing.html#indexing-view-versus-copy\n",
      "  self.main_df['Subject'] = self.message\n",
      "C:\\Users\\Bhavya\\Desktop\\Vaibhav\\Django-projects\\recallie_web\\news\\utils.py:568: SettingWithCopyWarning: \n",
      "A value is trying to be set on a copy of a slice from a DataFrame.\n",
      "Try using .loc[row_indexer,col_indexer] = value instead\n",
      "\n",
      "See the caveats in the documentation: http://pandas.pydata.org/pandas-docs/stable/indexing.html#indexing-view-versus-copy\n",
      "  self.main_df['Subject'] = self.message\n"
     ]
    },
    {
     "name": "stdout",
     "output_type": "stream",
     "text": [
      "Saved\n",
      "Saved\n"
     ]
    },
    {
     "name": "stderr",
     "output_type": "stream",
     "text": [
      "C:\\Users\\Bhavya\\Desktop\\Vaibhav\\Django-projects\\recallie_web\\news\\utils.py:568: SettingWithCopyWarning: \n",
      "A value is trying to be set on a copy of a slice from a DataFrame.\n",
      "Try using .loc[row_indexer,col_indexer] = value instead\n",
      "\n",
      "See the caveats in the documentation: http://pandas.pydata.org/pandas-docs/stable/indexing.html#indexing-view-versus-copy\n",
      "  self.main_df['Subject'] = self.message\n"
     ]
    },
    {
     "name": "stdout",
     "output_type": "stream",
     "text": [
      "Saved\n"
     ]
    },
    {
     "name": "stderr",
     "output_type": "stream",
     "text": [
      "C:\\Users\\Bhavya\\Desktop\\Vaibhav\\Django-projects\\recallie_web\\news\\utils.py:568: SettingWithCopyWarning: \n",
      "A value is trying to be set on a copy of a slice from a DataFrame.\n",
      "Try using .loc[row_indexer,col_indexer] = value instead\n",
      "\n",
      "See the caveats in the documentation: http://pandas.pydata.org/pandas-docs/stable/indexing.html#indexing-view-versus-copy\n",
      "  self.main_df['Subject'] = self.message\n"
     ]
    },
    {
     "name": "stdout",
     "output_type": "stream",
     "text": [
      "Saved\n",
      "Saved\n",
      "Saved\n",
      "Saved\n"
     ]
    },
    {
     "name": "stderr",
     "output_type": "stream",
     "text": [
      "C:\\Users\\Bhavya\\Desktop\\Vaibhav\\Django-projects\\recallie_web\\news\\utils.py:568: SettingWithCopyWarning: \n",
      "A value is trying to be set on a copy of a slice from a DataFrame.\n",
      "Try using .loc[row_indexer,col_indexer] = value instead\n",
      "\n",
      "See the caveats in the documentation: http://pandas.pydata.org/pandas-docs/stable/indexing.html#indexing-view-versus-copy\n",
      "  self.main_df['Subject'] = self.message\n"
     ]
    },
    {
     "name": "stdout",
     "output_type": "stream",
     "text": [
      "Saved\n",
      "Saved\n"
     ]
    },
    {
     "name": "stderr",
     "output_type": "stream",
     "text": [
      "C:\\Users\\Bhavya\\Desktop\\Vaibhav\\Django-projects\\recallie_web\\news\\utils.py:568: SettingWithCopyWarning: \n",
      "A value is trying to be set on a copy of a slice from a DataFrame.\n",
      "Try using .loc[row_indexer,col_indexer] = value instead\n",
      "\n",
      "See the caveats in the documentation: http://pandas.pydata.org/pandas-docs/stable/indexing.html#indexing-view-versus-copy\n",
      "  self.main_df['Subject'] = self.message\n"
     ]
    },
    {
     "name": "stdout",
     "output_type": "stream",
     "text": [
      "Saved\n"
     ]
    },
    {
     "name": "stderr",
     "output_type": "stream",
     "text": [
      "C:\\Users\\Bhavya\\Desktop\\Vaibhav\\Django-projects\\recallie_web\\news\\utils.py:568: SettingWithCopyWarning: \n",
      "A value is trying to be set on a copy of a slice from a DataFrame.\n",
      "Try using .loc[row_indexer,col_indexer] = value instead\n",
      "\n",
      "See the caveats in the documentation: http://pandas.pydata.org/pandas-docs/stable/indexing.html#indexing-view-versus-copy\n",
      "  self.main_df['Subject'] = self.message\n"
     ]
    },
    {
     "name": "stdout",
     "output_type": "stream",
     "text": [
      "Saved\n"
     ]
    },
    {
     "name": "stderr",
     "output_type": "stream",
     "text": [
      "C:\\Users\\Bhavya\\Desktop\\Vaibhav\\Django-projects\\recallie_web\\news\\utils.py:568: SettingWithCopyWarning: \n",
      "A value is trying to be set on a copy of a slice from a DataFrame.\n",
      "Try using .loc[row_indexer,col_indexer] = value instead\n",
      "\n",
      "See the caveats in the documentation: http://pandas.pydata.org/pandas-docs/stable/indexing.html#indexing-view-versus-copy\n",
      "  self.main_df['Subject'] = self.message\n"
     ]
    },
    {
     "name": "stdout",
     "output_type": "stream",
     "text": [
      "Saved\n"
     ]
    },
    {
     "name": "stderr",
     "output_type": "stream",
     "text": [
      "C:\\Users\\Bhavya\\Desktop\\Vaibhav\\Django-projects\\recallie_web\\news\\utils.py:568: SettingWithCopyWarning: \n",
      "A value is trying to be set on a copy of a slice from a DataFrame.\n",
      "Try using .loc[row_indexer,col_indexer] = value instead\n",
      "\n",
      "See the caveats in the documentation: http://pandas.pydata.org/pandas-docs/stable/indexing.html#indexing-view-versus-copy\n",
      "  self.main_df['Subject'] = self.message\n"
     ]
    },
    {
     "name": "stdout",
     "output_type": "stream",
     "text": [
      "Saved\n"
     ]
    },
    {
     "name": "stderr",
     "output_type": "stream",
     "text": [
      "C:\\Users\\Bhavya\\Desktop\\Vaibhav\\Django-projects\\recallie_web\\news\\utils.py:568: SettingWithCopyWarning: \n",
      "A value is trying to be set on a copy of a slice from a DataFrame.\n",
      "Try using .loc[row_indexer,col_indexer] = value instead\n",
      "\n",
      "See the caveats in the documentation: http://pandas.pydata.org/pandas-docs/stable/indexing.html#indexing-view-versus-copy\n",
      "  self.main_df['Subject'] = self.message\n"
     ]
    },
    {
     "name": "stdout",
     "output_type": "stream",
     "text": [
      "Saved\n"
     ]
    },
    {
     "name": "stderr",
     "output_type": "stream",
     "text": [
      "C:\\Users\\Bhavya\\Desktop\\Vaibhav\\Django-projects\\recallie_web\\news\\utils.py:568: SettingWithCopyWarning: \n",
      "A value is trying to be set on a copy of a slice from a DataFrame.\n",
      "Try using .loc[row_indexer,col_indexer] = value instead\n",
      "\n",
      "See the caveats in the documentation: http://pandas.pydata.org/pandas-docs/stable/indexing.html#indexing-view-versus-copy\n",
      "  self.main_df['Subject'] = self.message\n"
     ]
    },
    {
     "name": "stdout",
     "output_type": "stream",
     "text": [
      "Saved\n",
      "Saved\n"
     ]
    },
    {
     "name": "stderr",
     "output_type": "stream",
     "text": [
      "C:\\Users\\Bhavya\\Desktop\\Vaibhav\\Django-projects\\recallie_web\\news\\utils.py:568: SettingWithCopyWarning: \n",
      "A value is trying to be set on a copy of a slice from a DataFrame.\n",
      "Try using .loc[row_indexer,col_indexer] = value instead\n",
      "\n",
      "See the caveats in the documentation: http://pandas.pydata.org/pandas-docs/stable/indexing.html#indexing-view-versus-copy\n",
      "  self.main_df['Subject'] = self.message\n"
     ]
    },
    {
     "name": "stdout",
     "output_type": "stream",
     "text": [
      "Saved\n"
     ]
    },
    {
     "name": "stderr",
     "output_type": "stream",
     "text": [
      "C:\\Users\\Bhavya\\Desktop\\Vaibhav\\Django-projects\\recallie_web\\news\\utils.py:568: SettingWithCopyWarning: \n",
      "A value is trying to be set on a copy of a slice from a DataFrame.\n",
      "Try using .loc[row_indexer,col_indexer] = value instead\n",
      "\n",
      "See the caveats in the documentation: http://pandas.pydata.org/pandas-docs/stable/indexing.html#indexing-view-versus-copy\n",
      "  self.main_df['Subject'] = self.message\n"
     ]
    },
    {
     "name": "stdout",
     "output_type": "stream",
     "text": [
      "Saved\n"
     ]
    },
    {
     "name": "stderr",
     "output_type": "stream",
     "text": [
      "C:\\Users\\Bhavya\\Desktop\\Vaibhav\\Django-projects\\recallie_web\\news\\utils.py:568: SettingWithCopyWarning: \n",
      "A value is trying to be set on a copy of a slice from a DataFrame.\n",
      "Try using .loc[row_indexer,col_indexer] = value instead\n",
      "\n",
      "See the caveats in the documentation: http://pandas.pydata.org/pandas-docs/stable/indexing.html#indexing-view-versus-copy\n",
      "  self.main_df['Subject'] = self.message\n"
     ]
    },
    {
     "name": "stdout",
     "output_type": "stream",
     "text": [
      "Saved\n",
      "Saved\n"
     ]
    },
    {
     "name": "stderr",
     "output_type": "stream",
     "text": [
      "C:\\Users\\Bhavya\\Desktop\\Vaibhav\\Django-projects\\recallie_web\\news\\utils.py:568: SettingWithCopyWarning: \n",
      "A value is trying to be set on a copy of a slice from a DataFrame.\n",
      "Try using .loc[row_indexer,col_indexer] = value instead\n",
      "\n",
      "See the caveats in the documentation: http://pandas.pydata.org/pandas-docs/stable/indexing.html#indexing-view-versus-copy\n",
      "  self.main_df['Subject'] = self.message\n"
     ]
    },
    {
     "name": "stdout",
     "output_type": "stream",
     "text": [
      "Saved\n"
     ]
    },
    {
     "name": "stderr",
     "output_type": "stream",
     "text": [
      "C:\\Users\\Bhavya\\Desktop\\Vaibhav\\Django-projects\\recallie_web\\news\\utils.py:568: SettingWithCopyWarning: \n",
      "A value is trying to be set on a copy of a slice from a DataFrame.\n",
      "Try using .loc[row_indexer,col_indexer] = value instead\n",
      "\n",
      "See the caveats in the documentation: http://pandas.pydata.org/pandas-docs/stable/indexing.html#indexing-view-versus-copy\n",
      "  self.main_df['Subject'] = self.message\n"
     ]
    },
    {
     "name": "stdout",
     "output_type": "stream",
     "text": [
      "Saved\n"
     ]
    },
    {
     "name": "stderr",
     "output_type": "stream",
     "text": [
      "C:\\Users\\Bhavya\\Desktop\\Vaibhav\\Django-projects\\recallie_web\\news\\utils.py:568: SettingWithCopyWarning: \n",
      "A value is trying to be set on a copy of a slice from a DataFrame.\n",
      "Try using .loc[row_indexer,col_indexer] = value instead\n",
      "\n",
      "See the caveats in the documentation: http://pandas.pydata.org/pandas-docs/stable/indexing.html#indexing-view-versus-copy\n",
      "  self.main_df['Subject'] = self.message\n"
     ]
    },
    {
     "name": "stdout",
     "output_type": "stream",
     "text": [
      "Saved\n"
     ]
    },
    {
     "name": "stderr",
     "output_type": "stream",
     "text": [
      "C:\\Users\\Bhavya\\Desktop\\Vaibhav\\Django-projects\\recallie_web\\news\\utils.py:568: SettingWithCopyWarning: \n",
      "A value is trying to be set on a copy of a slice from a DataFrame.\n",
      "Try using .loc[row_indexer,col_indexer] = value instead\n",
      "\n",
      "See the caveats in the documentation: http://pandas.pydata.org/pandas-docs/stable/indexing.html#indexing-view-versus-copy\n",
      "  self.main_df['Subject'] = self.message\n"
     ]
    },
    {
     "name": "stdout",
     "output_type": "stream",
     "text": [
      "Saved\n"
     ]
    },
    {
     "name": "stderr",
     "output_type": "stream",
     "text": [
      "C:\\Users\\Bhavya\\Desktop\\Vaibhav\\Django-projects\\recallie_web\\news\\utils.py:568: SettingWithCopyWarning: \n",
      "A value is trying to be set on a copy of a slice from a DataFrame.\n",
      "Try using .loc[row_indexer,col_indexer] = value instead\n",
      "\n",
      "See the caveats in the documentation: http://pandas.pydata.org/pandas-docs/stable/indexing.html#indexing-view-versus-copy\n",
      "  self.main_df['Subject'] = self.message\n"
     ]
    },
    {
     "name": "stdout",
     "output_type": "stream",
     "text": [
      "Saved\n"
     ]
    },
    {
     "name": "stderr",
     "output_type": "stream",
     "text": [
      "C:\\Users\\Bhavya\\Desktop\\Vaibhav\\Django-projects\\recallie_web\\news\\utils.py:568: SettingWithCopyWarning: \n",
      "A value is trying to be set on a copy of a slice from a DataFrame.\n",
      "Try using .loc[row_indexer,col_indexer] = value instead\n",
      "\n",
      "See the caveats in the documentation: http://pandas.pydata.org/pandas-docs/stable/indexing.html#indexing-view-versus-copy\n",
      "  self.main_df['Subject'] = self.message\n"
     ]
    },
    {
     "name": "stdout",
     "output_type": "stream",
     "text": [
      "Saved\n"
     ]
    },
    {
     "name": "stderr",
     "output_type": "stream",
     "text": [
      "C:\\Users\\Bhavya\\Desktop\\Vaibhav\\Django-projects\\recallie_web\\news\\utils.py:568: SettingWithCopyWarning: \n",
      "A value is trying to be set on a copy of a slice from a DataFrame.\n",
      "Try using .loc[row_indexer,col_indexer] = value instead\n",
      "\n",
      "See the caveats in the documentation: http://pandas.pydata.org/pandas-docs/stable/indexing.html#indexing-view-versus-copy\n",
      "  self.main_df['Subject'] = self.message\n"
     ]
    },
    {
     "name": "stdout",
     "output_type": "stream",
     "text": [
      "Saved\n",
      "Saved\n"
     ]
    },
    {
     "name": "stderr",
     "output_type": "stream",
     "text": [
      "C:\\Users\\Bhavya\\Desktop\\Vaibhav\\Django-projects\\recallie_web\\news\\utils.py:568: SettingWithCopyWarning: \n",
      "A value is trying to be set on a copy of a slice from a DataFrame.\n",
      "Try using .loc[row_indexer,col_indexer] = value instead\n",
      "\n",
      "See the caveats in the documentation: http://pandas.pydata.org/pandas-docs/stable/indexing.html#indexing-view-versus-copy\n",
      "  self.main_df['Subject'] = self.message\n"
     ]
    },
    {
     "name": "stdout",
     "output_type": "stream",
     "text": [
      "Saved\n"
     ]
    },
    {
     "name": "stderr",
     "output_type": "stream",
     "text": [
      "C:\\Users\\Bhavya\\Desktop\\Vaibhav\\Django-projects\\recallie_web\\news\\utils.py:568: SettingWithCopyWarning: \n",
      "A value is trying to be set on a copy of a slice from a DataFrame.\n",
      "Try using .loc[row_indexer,col_indexer] = value instead\n",
      "\n",
      "See the caveats in the documentation: http://pandas.pydata.org/pandas-docs/stable/indexing.html#indexing-view-versus-copy\n",
      "  self.main_df['Subject'] = self.message\n"
     ]
    },
    {
     "name": "stdout",
     "output_type": "stream",
     "text": [
      "Saved\n"
     ]
    },
    {
     "name": "stderr",
     "output_type": "stream",
     "text": [
      "C:\\Users\\Bhavya\\Desktop\\Vaibhav\\Django-projects\\recallie_web\\news\\utils.py:568: SettingWithCopyWarning: \n",
      "A value is trying to be set on a copy of a slice from a DataFrame.\n",
      "Try using .loc[row_indexer,col_indexer] = value instead\n",
      "\n",
      "See the caveats in the documentation: http://pandas.pydata.org/pandas-docs/stable/indexing.html#indexing-view-versus-copy\n",
      "  self.main_df['Subject'] = self.message\n"
     ]
    },
    {
     "name": "stdout",
     "output_type": "stream",
     "text": [
      "Saved\n"
     ]
    },
    {
     "name": "stderr",
     "output_type": "stream",
     "text": [
      "C:\\Users\\Bhavya\\Desktop\\Vaibhav\\Django-projects\\recallie_web\\news\\utils.py:568: SettingWithCopyWarning: \n",
      "A value is trying to be set on a copy of a slice from a DataFrame.\n",
      "Try using .loc[row_indexer,col_indexer] = value instead\n",
      "\n",
      "See the caveats in the documentation: http://pandas.pydata.org/pandas-docs/stable/indexing.html#indexing-view-versus-copy\n",
      "  self.main_df['Subject'] = self.message\n"
     ]
    },
    {
     "name": "stdout",
     "output_type": "stream",
     "text": [
      "Saved\n",
      "Saved\n"
     ]
    },
    {
     "name": "stderr",
     "output_type": "stream",
     "text": [
      "C:\\Users\\Bhavya\\Desktop\\Vaibhav\\Django-projects\\recallie_web\\news\\utils.py:568: SettingWithCopyWarning: \n",
      "A value is trying to be set on a copy of a slice from a DataFrame.\n",
      "Try using .loc[row_indexer,col_indexer] = value instead\n",
      "\n",
      "See the caveats in the documentation: http://pandas.pydata.org/pandas-docs/stable/indexing.html#indexing-view-versus-copy\n",
      "  self.main_df['Subject'] = self.message\n",
      "C:\\Users\\Bhavya\\Desktop\\Vaibhav\\Django-projects\\recallie_web\\news\\utils.py:568: SettingWithCopyWarning: \n",
      "A value is trying to be set on a copy of a slice from a DataFrame.\n",
      "Try using .loc[row_indexer,col_indexer] = value instead\n",
      "\n",
      "See the caveats in the documentation: http://pandas.pydata.org/pandas-docs/stable/indexing.html#indexing-view-versus-copy\n",
      "  self.main_df['Subject'] = self.message\n"
     ]
    },
    {
     "name": "stdout",
     "output_type": "stream",
     "text": [
      "Saved\n"
     ]
    },
    {
     "name": "stderr",
     "output_type": "stream",
     "text": [
      "C:\\Users\\Bhavya\\Desktop\\Vaibhav\\Django-projects\\recallie_web\\news\\utils.py:568: SettingWithCopyWarning: \n",
      "A value is trying to be set on a copy of a slice from a DataFrame.\n",
      "Try using .loc[row_indexer,col_indexer] = value instead\n",
      "\n",
      "See the caveats in the documentation: http://pandas.pydata.org/pandas-docs/stable/indexing.html#indexing-view-versus-copy\n",
      "  self.main_df['Subject'] = self.message\n",
      "C:\\Users\\Bhavya\\Desktop\\Vaibhav\\Django-projects\\recallie_web\\news\\utils.py:568: SettingWithCopyWarning: \n",
      "A value is trying to be set on a copy of a slice from a DataFrame.\n",
      "Try using .loc[row_indexer,col_indexer] = value instead\n",
      "\n",
      "See the caveats in the documentation: http://pandas.pydata.org/pandas-docs/stable/indexing.html#indexing-view-versus-copy\n",
      "  self.main_df['Subject'] = self.message\n"
     ]
    },
    {
     "name": "stdout",
     "output_type": "stream",
     "text": [
      "Saved\n",
      "Saved\n"
     ]
    },
    {
     "name": "stderr",
     "output_type": "stream",
     "text": [
      "C:\\Users\\Bhavya\\Desktop\\Vaibhav\\Django-projects\\recallie_web\\news\\utils.py:568: SettingWithCopyWarning: \n",
      "A value is trying to be set on a copy of a slice from a DataFrame.\n",
      "Try using .loc[row_indexer,col_indexer] = value instead\n",
      "\n",
      "See the caveats in the documentation: http://pandas.pydata.org/pandas-docs/stable/indexing.html#indexing-view-versus-copy\n",
      "  self.main_df['Subject'] = self.message\n"
     ]
    },
    {
     "name": "stdout",
     "output_type": "stream",
     "text": [
      "Saved\n"
     ]
    },
    {
     "name": "stderr",
     "output_type": "stream",
     "text": [
      "C:\\Users\\Bhavya\\Desktop\\Vaibhav\\Django-projects\\recallie_web\\news\\utils.py:568: SettingWithCopyWarning: \n",
      "A value is trying to be set on a copy of a slice from a DataFrame.\n",
      "Try using .loc[row_indexer,col_indexer] = value instead\n",
      "\n",
      "See the caveats in the documentation: http://pandas.pydata.org/pandas-docs/stable/indexing.html#indexing-view-versus-copy\n",
      "  self.main_df['Subject'] = self.message\n"
     ]
    },
    {
     "name": "stdout",
     "output_type": "stream",
     "text": [
      "Saved\n"
     ]
    },
    {
     "name": "stderr",
     "output_type": "stream",
     "text": [
      "C:\\Users\\Bhavya\\Desktop\\Vaibhav\\Django-projects\\recallie_web\\news\\utils.py:568: SettingWithCopyWarning: \n",
      "A value is trying to be set on a copy of a slice from a DataFrame.\n",
      "Try using .loc[row_indexer,col_indexer] = value instead\n",
      "\n",
      "See the caveats in the documentation: http://pandas.pydata.org/pandas-docs/stable/indexing.html#indexing-view-versus-copy\n",
      "  self.main_df['Subject'] = self.message\n"
     ]
    },
    {
     "name": "stdout",
     "output_type": "stream",
     "text": [
      "Saved\n"
     ]
    },
    {
     "name": "stderr",
     "output_type": "stream",
     "text": [
      "C:\\Users\\Bhavya\\Desktop\\Vaibhav\\Django-projects\\recallie_web\\news\\utils.py:568: SettingWithCopyWarning: \n",
      "A value is trying to be set on a copy of a slice from a DataFrame.\n",
      "Try using .loc[row_indexer,col_indexer] = value instead\n",
      "\n",
      "See the caveats in the documentation: http://pandas.pydata.org/pandas-docs/stable/indexing.html#indexing-view-versus-copy\n",
      "  self.main_df['Subject'] = self.message\n"
     ]
    },
    {
     "name": "stdout",
     "output_type": "stream",
     "text": [
      "Saved\n"
     ]
    },
    {
     "name": "stderr",
     "output_type": "stream",
     "text": [
      "C:\\Users\\Bhavya\\Desktop\\Vaibhav\\Django-projects\\recallie_web\\news\\utils.py:568: SettingWithCopyWarning: \n",
      "A value is trying to be set on a copy of a slice from a DataFrame.\n",
      "Try using .loc[row_indexer,col_indexer] = value instead\n",
      "\n",
      "See the caveats in the documentation: http://pandas.pydata.org/pandas-docs/stable/indexing.html#indexing-view-versus-copy\n",
      "  self.main_df['Subject'] = self.message\n"
     ]
    },
    {
     "name": "stdout",
     "output_type": "stream",
     "text": [
      "Saved\n"
     ]
    },
    {
     "name": "stderr",
     "output_type": "stream",
     "text": [
      "C:\\Users\\Bhavya\\Desktop\\Vaibhav\\Django-projects\\recallie_web\\news\\utils.py:568: SettingWithCopyWarning: \n",
      "A value is trying to be set on a copy of a slice from a DataFrame.\n",
      "Try using .loc[row_indexer,col_indexer] = value instead\n",
      "\n",
      "See the caveats in the documentation: http://pandas.pydata.org/pandas-docs/stable/indexing.html#indexing-view-versus-copy\n",
      "  self.main_df['Subject'] = self.message\n"
     ]
    },
    {
     "name": "stdout",
     "output_type": "stream",
     "text": [
      "Saved\n"
     ]
    },
    {
     "name": "stderr",
     "output_type": "stream",
     "text": [
      "C:\\Users\\Bhavya\\Desktop\\Vaibhav\\Django-projects\\recallie_web\\news\\utils.py:568: SettingWithCopyWarning: \n",
      "A value is trying to be set on a copy of a slice from a DataFrame.\n",
      "Try using .loc[row_indexer,col_indexer] = value instead\n",
      "\n",
      "See the caveats in the documentation: http://pandas.pydata.org/pandas-docs/stable/indexing.html#indexing-view-versus-copy\n",
      "  self.main_df['Subject'] = self.message\n"
     ]
    },
    {
     "name": "stdout",
     "output_type": "stream",
     "text": [
      "Saved\n",
      "Saved\n"
     ]
    },
    {
     "name": "stderr",
     "output_type": "stream",
     "text": [
      "C:\\Users\\Bhavya\\Desktop\\Vaibhav\\Django-projects\\recallie_web\\news\\utils.py:568: SettingWithCopyWarning: \n",
      "A value is trying to be set on a copy of a slice from a DataFrame.\n",
      "Try using .loc[row_indexer,col_indexer] = value instead\n",
      "\n",
      "See the caveats in the documentation: http://pandas.pydata.org/pandas-docs/stable/indexing.html#indexing-view-versus-copy\n",
      "  self.main_df['Subject'] = self.message\n",
      "C:\\Users\\Bhavya\\Desktop\\Vaibhav\\Django-projects\\recallie_web\\news\\utils.py:568: SettingWithCopyWarning: \n",
      "A value is trying to be set on a copy of a slice from a DataFrame.\n",
      "Try using .loc[row_indexer,col_indexer] = value instead\n",
      "\n",
      "See the caveats in the documentation: http://pandas.pydata.org/pandas-docs/stable/indexing.html#indexing-view-versus-copy\n",
      "  self.main_df['Subject'] = self.message\n"
     ]
    },
    {
     "name": "stdout",
     "output_type": "stream",
     "text": [
      "Saved\n"
     ]
    },
    {
     "name": "stderr",
     "output_type": "stream",
     "text": [
      "C:\\Users\\Bhavya\\Desktop\\Vaibhav\\Django-projects\\recallie_web\\news\\utils.py:568: SettingWithCopyWarning: \n",
      "A value is trying to be set on a copy of a slice from a DataFrame.\n",
      "Try using .loc[row_indexer,col_indexer] = value instead\n",
      "\n",
      "See the caveats in the documentation: http://pandas.pydata.org/pandas-docs/stable/indexing.html#indexing-view-versus-copy\n",
      "  self.main_df['Subject'] = self.message\n"
     ]
    },
    {
     "name": "stdout",
     "output_type": "stream",
     "text": [
      "Saved\n"
     ]
    },
    {
     "name": "stderr",
     "output_type": "stream",
     "text": [
      "C:\\Users\\Bhavya\\Desktop\\Vaibhav\\Django-projects\\recallie_web\\news\\utils.py:568: SettingWithCopyWarning: \n",
      "A value is trying to be set on a copy of a slice from a DataFrame.\n",
      "Try using .loc[row_indexer,col_indexer] = value instead\n",
      "\n",
      "See the caveats in the documentation: http://pandas.pydata.org/pandas-docs/stable/indexing.html#indexing-view-versus-copy\n",
      "  self.main_df['Subject'] = self.message\n"
     ]
    },
    {
     "name": "stdout",
     "output_type": "stream",
     "text": [
      "Saved\n"
     ]
    },
    {
     "name": "stderr",
     "output_type": "stream",
     "text": [
      "C:\\Users\\Bhavya\\Desktop\\Vaibhav\\Django-projects\\recallie_web\\news\\utils.py:568: SettingWithCopyWarning: \n",
      "A value is trying to be set on a copy of a slice from a DataFrame.\n",
      "Try using .loc[row_indexer,col_indexer] = value instead\n",
      "\n",
      "See the caveats in the documentation: http://pandas.pydata.org/pandas-docs/stable/indexing.html#indexing-view-versus-copy\n",
      "  self.main_df['Subject'] = self.message\n"
     ]
    },
    {
     "name": "stdout",
     "output_type": "stream",
     "text": [
      "Saved\n"
     ]
    },
    {
     "name": "stderr",
     "output_type": "stream",
     "text": [
      "C:\\Users\\Bhavya\\Desktop\\Vaibhav\\Django-projects\\recallie_web\\news\\utils.py:568: SettingWithCopyWarning: \n",
      "A value is trying to be set on a copy of a slice from a DataFrame.\n",
      "Try using .loc[row_indexer,col_indexer] = value instead\n",
      "\n",
      "See the caveats in the documentation: http://pandas.pydata.org/pandas-docs/stable/indexing.html#indexing-view-versus-copy\n",
      "  self.main_df['Subject'] = self.message\n"
     ]
    },
    {
     "name": "stdout",
     "output_type": "stream",
     "text": [
      "Saved\n"
     ]
    },
    {
     "name": "stderr",
     "output_type": "stream",
     "text": [
      "C:\\Users\\Bhavya\\Desktop\\Vaibhav\\Django-projects\\recallie_web\\news\\utils.py:568: SettingWithCopyWarning: \n",
      "A value is trying to be set on a copy of a slice from a DataFrame.\n",
      "Try using .loc[row_indexer,col_indexer] = value instead\n",
      "\n",
      "See the caveats in the documentation: http://pandas.pydata.org/pandas-docs/stable/indexing.html#indexing-view-versus-copy\n",
      "  self.main_df['Subject'] = self.message\n"
     ]
    },
    {
     "name": "stdout",
     "output_type": "stream",
     "text": [
      "Saved\n"
     ]
    },
    {
     "name": "stderr",
     "output_type": "stream",
     "text": [
      "C:\\Users\\Bhavya\\Desktop\\Vaibhav\\Django-projects\\recallie_web\\news\\utils.py:568: SettingWithCopyWarning: \n",
      "A value is trying to be set on a copy of a slice from a DataFrame.\n",
      "Try using .loc[row_indexer,col_indexer] = value instead\n",
      "\n",
      "See the caveats in the documentation: http://pandas.pydata.org/pandas-docs/stable/indexing.html#indexing-view-versus-copy\n",
      "  self.main_df['Subject'] = self.message\n"
     ]
    },
    {
     "name": "stdout",
     "output_type": "stream",
     "text": [
      "Saved\n",
      "Saved\n"
     ]
    },
    {
     "name": "stderr",
     "output_type": "stream",
     "text": [
      "C:\\Users\\Bhavya\\Desktop\\Vaibhav\\Django-projects\\recallie_web\\news\\utils.py:568: SettingWithCopyWarning: \n",
      "A value is trying to be set on a copy of a slice from a DataFrame.\n",
      "Try using .loc[row_indexer,col_indexer] = value instead\n",
      "\n",
      "See the caveats in the documentation: http://pandas.pydata.org/pandas-docs/stable/indexing.html#indexing-view-versus-copy\n",
      "  self.main_df['Subject'] = self.message\n"
     ]
    },
    {
     "name": "stdout",
     "output_type": "stream",
     "text": [
      "Saved\n"
     ]
    },
    {
     "name": "stderr",
     "output_type": "stream",
     "text": [
      "C:\\Users\\Bhavya\\Desktop\\Vaibhav\\Django-projects\\recallie_web\\news\\utils.py:568: SettingWithCopyWarning: \n",
      "A value is trying to be set on a copy of a slice from a DataFrame.\n",
      "Try using .loc[row_indexer,col_indexer] = value instead\n",
      "\n",
      "See the caveats in the documentation: http://pandas.pydata.org/pandas-docs/stable/indexing.html#indexing-view-versus-copy\n",
      "  self.main_df['Subject'] = self.message\n"
     ]
    },
    {
     "name": "stdout",
     "output_type": "stream",
     "text": [
      "Saved\n"
     ]
    },
    {
     "name": "stderr",
     "output_type": "stream",
     "text": [
      "C:\\Users\\Bhavya\\Desktop\\Vaibhav\\Django-projects\\recallie_web\\news\\utils.py:568: SettingWithCopyWarning: \n",
      "A value is trying to be set on a copy of a slice from a DataFrame.\n",
      "Try using .loc[row_indexer,col_indexer] = value instead\n",
      "\n",
      "See the caveats in the documentation: http://pandas.pydata.org/pandas-docs/stable/indexing.html#indexing-view-versus-copy\n",
      "  self.main_df['Subject'] = self.message\n"
     ]
    },
    {
     "name": "stdout",
     "output_type": "stream",
     "text": [
      "Saved\n"
     ]
    },
    {
     "name": "stderr",
     "output_type": "stream",
     "text": [
      "C:\\Users\\Bhavya\\Desktop\\Vaibhav\\Django-projects\\recallie_web\\news\\utils.py:568: SettingWithCopyWarning: \n",
      "A value is trying to be set on a copy of a slice from a DataFrame.\n",
      "Try using .loc[row_indexer,col_indexer] = value instead\n",
      "\n",
      "See the caveats in the documentation: http://pandas.pydata.org/pandas-docs/stable/indexing.html#indexing-view-versus-copy\n",
      "  self.main_df['Subject'] = self.message\n"
     ]
    },
    {
     "name": "stdout",
     "output_type": "stream",
     "text": [
      "Saved\n",
      "Saved\n"
     ]
    },
    {
     "name": "stderr",
     "output_type": "stream",
     "text": [
      "C:\\Users\\Bhavya\\Desktop\\Vaibhav\\Django-projects\\recallie_web\\news\\utils.py:568: SettingWithCopyWarning: \n",
      "A value is trying to be set on a copy of a slice from a DataFrame.\n",
      "Try using .loc[row_indexer,col_indexer] = value instead\n",
      "\n",
      "See the caveats in the documentation: http://pandas.pydata.org/pandas-docs/stable/indexing.html#indexing-view-versus-copy\n",
      "  self.main_df['Subject'] = self.message\n"
     ]
    },
    {
     "name": "stdout",
     "output_type": "stream",
     "text": [
      "Saved\n"
     ]
    },
    {
     "name": "stderr",
     "output_type": "stream",
     "text": [
      "C:\\Users\\Bhavya\\Desktop\\Vaibhav\\Django-projects\\recallie_web\\news\\utils.py:568: SettingWithCopyWarning: \n",
      "A value is trying to be set on a copy of a slice from a DataFrame.\n",
      "Try using .loc[row_indexer,col_indexer] = value instead\n",
      "\n",
      "See the caveats in the documentation: http://pandas.pydata.org/pandas-docs/stable/indexing.html#indexing-view-versus-copy\n",
      "  self.main_df['Subject'] = self.message\n"
     ]
    },
    {
     "name": "stdout",
     "output_type": "stream",
     "text": [
      "Saved\n",
      "Saved\n",
      "Saved\n"
     ]
    },
    {
     "name": "stderr",
     "output_type": "stream",
     "text": [
      "C:\\Users\\Bhavya\\Desktop\\Vaibhav\\Django-projects\\recallie_web\\news\\utils.py:568: SettingWithCopyWarning: \n",
      "A value is trying to be set on a copy of a slice from a DataFrame.\n",
      "Try using .loc[row_indexer,col_indexer] = value instead\n",
      "\n",
      "See the caveats in the documentation: http://pandas.pydata.org/pandas-docs/stable/indexing.html#indexing-view-versus-copy\n",
      "  self.main_df['Subject'] = self.message\n"
     ]
    },
    {
     "name": "stdout",
     "output_type": "stream",
     "text": [
      "Saved\n"
     ]
    },
    {
     "name": "stderr",
     "output_type": "stream",
     "text": [
      "C:\\Users\\Bhavya\\Desktop\\Vaibhav\\Django-projects\\recallie_web\\news\\utils.py:568: SettingWithCopyWarning: \n",
      "A value is trying to be set on a copy of a slice from a DataFrame.\n",
      "Try using .loc[row_indexer,col_indexer] = value instead\n",
      "\n",
      "See the caveats in the documentation: http://pandas.pydata.org/pandas-docs/stable/indexing.html#indexing-view-versus-copy\n",
      "  self.main_df['Subject'] = self.message\n"
     ]
    },
    {
     "name": "stdout",
     "output_type": "stream",
     "text": [
      "Saved\n"
     ]
    },
    {
     "name": "stderr",
     "output_type": "stream",
     "text": [
      "C:\\Users\\Bhavya\\Desktop\\Vaibhav\\Django-projects\\recallie_web\\news\\utils.py:568: SettingWithCopyWarning: \n",
      "A value is trying to be set on a copy of a slice from a DataFrame.\n",
      "Try using .loc[row_indexer,col_indexer] = value instead\n",
      "\n",
      "See the caveats in the documentation: http://pandas.pydata.org/pandas-docs/stable/indexing.html#indexing-view-versus-copy\n",
      "  self.main_df['Subject'] = self.message\n"
     ]
    },
    {
     "name": "stdout",
     "output_type": "stream",
     "text": [
      "Saved\n",
      "Saved\n"
     ]
    },
    {
     "name": "stderr",
     "output_type": "stream",
     "text": [
      "C:\\Users\\Bhavya\\Desktop\\Vaibhav\\Django-projects\\recallie_web\\news\\utils.py:568: SettingWithCopyWarning: \n",
      "A value is trying to be set on a copy of a slice from a DataFrame.\n",
      "Try using .loc[row_indexer,col_indexer] = value instead\n",
      "\n",
      "See the caveats in the documentation: http://pandas.pydata.org/pandas-docs/stable/indexing.html#indexing-view-versus-copy\n",
      "  self.main_df['Subject'] = self.message\n"
     ]
    },
    {
     "name": "stdout",
     "output_type": "stream",
     "text": [
      "Saved\n"
     ]
    },
    {
     "name": "stderr",
     "output_type": "stream",
     "text": [
      "C:\\Users\\Bhavya\\Desktop\\Vaibhav\\Django-projects\\recallie_web\\news\\utils.py:568: SettingWithCopyWarning: \n",
      "A value is trying to be set on a copy of a slice from a DataFrame.\n",
      "Try using .loc[row_indexer,col_indexer] = value instead\n",
      "\n",
      "See the caveats in the documentation: http://pandas.pydata.org/pandas-docs/stable/indexing.html#indexing-view-versus-copy\n",
      "  self.main_df['Subject'] = self.message\n"
     ]
    },
    {
     "name": "stdout",
     "output_type": "stream",
     "text": [
      "Saved\n"
     ]
    },
    {
     "name": "stderr",
     "output_type": "stream",
     "text": [
      "C:\\Users\\Bhavya\\Desktop\\Vaibhav\\Django-projects\\recallie_web\\news\\utils.py:568: SettingWithCopyWarning: \n",
      "A value is trying to be set on a copy of a slice from a DataFrame.\n",
      "Try using .loc[row_indexer,col_indexer] = value instead\n",
      "\n",
      "See the caveats in the documentation: http://pandas.pydata.org/pandas-docs/stable/indexing.html#indexing-view-versus-copy\n",
      "  self.main_df['Subject'] = self.message\n"
     ]
    },
    {
     "name": "stdout",
     "output_type": "stream",
     "text": [
      "Saved\n"
     ]
    },
    {
     "name": "stderr",
     "output_type": "stream",
     "text": [
      "C:\\Users\\Bhavya\\Desktop\\Vaibhav\\Django-projects\\recallie_web\\news\\utils.py:568: SettingWithCopyWarning: \n",
      "A value is trying to be set on a copy of a slice from a DataFrame.\n",
      "Try using .loc[row_indexer,col_indexer] = value instead\n",
      "\n",
      "See the caveats in the documentation: http://pandas.pydata.org/pandas-docs/stable/indexing.html#indexing-view-versus-copy\n",
      "  self.main_df['Subject'] = self.message\n"
     ]
    },
    {
     "name": "stdout",
     "output_type": "stream",
     "text": [
      "Saved\n"
     ]
    },
    {
     "name": "stderr",
     "output_type": "stream",
     "text": [
      "C:\\Users\\Bhavya\\Desktop\\Vaibhav\\Django-projects\\recallie_web\\news\\utils.py:568: SettingWithCopyWarning: \n",
      "A value is trying to be set on a copy of a slice from a DataFrame.\n",
      "Try using .loc[row_indexer,col_indexer] = value instead\n",
      "\n",
      "See the caveats in the documentation: http://pandas.pydata.org/pandas-docs/stable/indexing.html#indexing-view-versus-copy\n",
      "  self.main_df['Subject'] = self.message\n"
     ]
    },
    {
     "name": "stdout",
     "output_type": "stream",
     "text": [
      "Saved\n"
     ]
    },
    {
     "name": "stderr",
     "output_type": "stream",
     "text": [
      "C:\\Users\\Bhavya\\Desktop\\Vaibhav\\Django-projects\\recallie_web\\news\\utils.py:568: SettingWithCopyWarning: \n",
      "A value is trying to be set on a copy of a slice from a DataFrame.\n",
      "Try using .loc[row_indexer,col_indexer] = value instead\n",
      "\n",
      "See the caveats in the documentation: http://pandas.pydata.org/pandas-docs/stable/indexing.html#indexing-view-versus-copy\n",
      "  self.main_df['Subject'] = self.message\n"
     ]
    },
    {
     "name": "stdout",
     "output_type": "stream",
     "text": [
      "Saved\n"
     ]
    },
    {
     "name": "stderr",
     "output_type": "stream",
     "text": [
      "C:\\Users\\Bhavya\\Desktop\\Vaibhav\\Django-projects\\recallie_web\\news\\utils.py:568: SettingWithCopyWarning: \n",
      "A value is trying to be set on a copy of a slice from a DataFrame.\n",
      "Try using .loc[row_indexer,col_indexer] = value instead\n",
      "\n",
      "See the caveats in the documentation: http://pandas.pydata.org/pandas-docs/stable/indexing.html#indexing-view-versus-copy\n",
      "  self.main_df['Subject'] = self.message\n"
     ]
    },
    {
     "name": "stdout",
     "output_type": "stream",
     "text": [
      "Saved\n",
      "Saved\n"
     ]
    },
    {
     "name": "stderr",
     "output_type": "stream",
     "text": [
      "C:\\Users\\Bhavya\\Desktop\\Vaibhav\\Django-projects\\recallie_web\\news\\utils.py:568: SettingWithCopyWarning: \n",
      "A value is trying to be set on a copy of a slice from a DataFrame.\n",
      "Try using .loc[row_indexer,col_indexer] = value instead\n",
      "\n",
      "See the caveats in the documentation: http://pandas.pydata.org/pandas-docs/stable/indexing.html#indexing-view-versus-copy\n",
      "  self.main_df['Subject'] = self.message\n"
     ]
    },
    {
     "name": "stdout",
     "output_type": "stream",
     "text": [
      "Saved\n"
     ]
    },
    {
     "name": "stderr",
     "output_type": "stream",
     "text": [
      "C:\\Users\\Bhavya\\Desktop\\Vaibhav\\Django-projects\\recallie_web\\news\\utils.py:568: SettingWithCopyWarning: \n",
      "A value is trying to be set on a copy of a slice from a DataFrame.\n",
      "Try using .loc[row_indexer,col_indexer] = value instead\n",
      "\n",
      "See the caveats in the documentation: http://pandas.pydata.org/pandas-docs/stable/indexing.html#indexing-view-versus-copy\n",
      "  self.main_df['Subject'] = self.message\n"
     ]
    },
    {
     "name": "stdout",
     "output_type": "stream",
     "text": [
      "Saved\n"
     ]
    },
    {
     "name": "stderr",
     "output_type": "stream",
     "text": [
      "C:\\Users\\Bhavya\\Desktop\\Vaibhav\\Django-projects\\recallie_web\\news\\utils.py:568: SettingWithCopyWarning: \n",
      "A value is trying to be set on a copy of a slice from a DataFrame.\n",
      "Try using .loc[row_indexer,col_indexer] = value instead\n",
      "\n",
      "See the caveats in the documentation: http://pandas.pydata.org/pandas-docs/stable/indexing.html#indexing-view-versus-copy\n",
      "  self.main_df['Subject'] = self.message\n"
     ]
    },
    {
     "name": "stdout",
     "output_type": "stream",
     "text": [
      "Saved\n"
     ]
    },
    {
     "name": "stderr",
     "output_type": "stream",
     "text": [
      "C:\\Users\\Bhavya\\Desktop\\Vaibhav\\Django-projects\\recallie_web\\news\\utils.py:568: SettingWithCopyWarning: \n",
      "A value is trying to be set on a copy of a slice from a DataFrame.\n",
      "Try using .loc[row_indexer,col_indexer] = value instead\n",
      "\n",
      "See the caveats in the documentation: http://pandas.pydata.org/pandas-docs/stable/indexing.html#indexing-view-versus-copy\n",
      "  self.main_df['Subject'] = self.message\n"
     ]
    },
    {
     "name": "stdout",
     "output_type": "stream",
     "text": [
      "Saved\n"
     ]
    },
    {
     "name": "stderr",
     "output_type": "stream",
     "text": [
      "C:\\Users\\Bhavya\\Desktop\\Vaibhav\\Django-projects\\recallie_web\\news\\utils.py:568: SettingWithCopyWarning: \n",
      "A value is trying to be set on a copy of a slice from a DataFrame.\n",
      "Try using .loc[row_indexer,col_indexer] = value instead\n",
      "\n",
      "See the caveats in the documentation: http://pandas.pydata.org/pandas-docs/stable/indexing.html#indexing-view-versus-copy\n",
      "  self.main_df['Subject'] = self.message\n"
     ]
    },
    {
     "name": "stdout",
     "output_type": "stream",
     "text": [
      "Saved\n",
      "Saved\n"
     ]
    },
    {
     "name": "stderr",
     "output_type": "stream",
     "text": [
      "C:\\Users\\Bhavya\\Desktop\\Vaibhav\\Django-projects\\recallie_web\\news\\utils.py:568: SettingWithCopyWarning: \n",
      "A value is trying to be set on a copy of a slice from a DataFrame.\n",
      "Try using .loc[row_indexer,col_indexer] = value instead\n",
      "\n",
      "See the caveats in the documentation: http://pandas.pydata.org/pandas-docs/stable/indexing.html#indexing-view-versus-copy\n",
      "  self.main_df['Subject'] = self.message\n"
     ]
    },
    {
     "name": "stdout",
     "output_type": "stream",
     "text": [
      "Saved\n"
     ]
    },
    {
     "name": "stderr",
     "output_type": "stream",
     "text": [
      "C:\\Users\\Bhavya\\Desktop\\Vaibhav\\Django-projects\\recallie_web\\news\\utils.py:568: SettingWithCopyWarning: \n",
      "A value is trying to be set on a copy of a slice from a DataFrame.\n",
      "Try using .loc[row_indexer,col_indexer] = value instead\n",
      "\n",
      "See the caveats in the documentation: http://pandas.pydata.org/pandas-docs/stable/indexing.html#indexing-view-versus-copy\n",
      "  self.main_df['Subject'] = self.message\n"
     ]
    },
    {
     "name": "stdout",
     "output_type": "stream",
     "text": [
      "Saved\n"
     ]
    },
    {
     "name": "stderr",
     "output_type": "stream",
     "text": [
      "C:\\Users\\Bhavya\\Desktop\\Vaibhav\\Django-projects\\recallie_web\\news\\utils.py:568: SettingWithCopyWarning: \n",
      "A value is trying to be set on a copy of a slice from a DataFrame.\n",
      "Try using .loc[row_indexer,col_indexer] = value instead\n",
      "\n",
      "See the caveats in the documentation: http://pandas.pydata.org/pandas-docs/stable/indexing.html#indexing-view-versus-copy\n",
      "  self.main_df['Subject'] = self.message\n"
     ]
    },
    {
     "name": "stdout",
     "output_type": "stream",
     "text": [
      "Saved\n"
     ]
    },
    {
     "name": "stderr",
     "output_type": "stream",
     "text": [
      "C:\\Users\\Bhavya\\Desktop\\Vaibhav\\Django-projects\\recallie_web\\news\\utils.py:568: SettingWithCopyWarning: \n",
      "A value is trying to be set on a copy of a slice from a DataFrame.\n",
      "Try using .loc[row_indexer,col_indexer] = value instead\n",
      "\n",
      "See the caveats in the documentation: http://pandas.pydata.org/pandas-docs/stable/indexing.html#indexing-view-versus-copy\n",
      "  self.main_df['Subject'] = self.message\n"
     ]
    },
    {
     "name": "stdout",
     "output_type": "stream",
     "text": [
      "Saved\n"
     ]
    },
    {
     "name": "stderr",
     "output_type": "stream",
     "text": [
      "C:\\Users\\Bhavya\\Desktop\\Vaibhav\\Django-projects\\recallie_web\\news\\utils.py:568: SettingWithCopyWarning: \n",
      "A value is trying to be set on a copy of a slice from a DataFrame.\n",
      "Try using .loc[row_indexer,col_indexer] = value instead\n",
      "\n",
      "See the caveats in the documentation: http://pandas.pydata.org/pandas-docs/stable/indexing.html#indexing-view-versus-copy\n",
      "  self.main_df['Subject'] = self.message\n"
     ]
    },
    {
     "name": "stdout",
     "output_type": "stream",
     "text": [
      "Saved\n"
     ]
    },
    {
     "name": "stderr",
     "output_type": "stream",
     "text": [
      "C:\\Users\\Bhavya\\Desktop\\Vaibhav\\Django-projects\\recallie_web\\news\\utils.py:568: SettingWithCopyWarning: \n",
      "A value is trying to be set on a copy of a slice from a DataFrame.\n",
      "Try using .loc[row_indexer,col_indexer] = value instead\n",
      "\n",
      "See the caveats in the documentation: http://pandas.pydata.org/pandas-docs/stable/indexing.html#indexing-view-versus-copy\n",
      "  self.main_df['Subject'] = self.message\n"
     ]
    },
    {
     "name": "stdout",
     "output_type": "stream",
     "text": [
      "Saved\n",
      "Saved\n"
     ]
    },
    {
     "name": "stderr",
     "output_type": "stream",
     "text": [
      "C:\\Users\\Bhavya\\Desktop\\Vaibhav\\Django-projects\\recallie_web\\news\\utils.py:568: SettingWithCopyWarning: \n",
      "A value is trying to be set on a copy of a slice from a DataFrame.\n",
      "Try using .loc[row_indexer,col_indexer] = value instead\n",
      "\n",
      "See the caveats in the documentation: http://pandas.pydata.org/pandas-docs/stable/indexing.html#indexing-view-versus-copy\n",
      "  self.main_df['Subject'] = self.message\n",
      "C:\\Users\\Bhavya\\Desktop\\Vaibhav\\Django-projects\\recallie_web\\news\\utils.py:568: SettingWithCopyWarning: \n",
      "A value is trying to be set on a copy of a slice from a DataFrame.\n",
      "Try using .loc[row_indexer,col_indexer] = value instead\n",
      "\n",
      "See the caveats in the documentation: http://pandas.pydata.org/pandas-docs/stable/indexing.html#indexing-view-versus-copy\n",
      "  self.main_df['Subject'] = self.message\n"
     ]
    },
    {
     "name": "stdout",
     "output_type": "stream",
     "text": [
      "Saved\n",
      "Saved\n",
      "Saved\n"
     ]
    },
    {
     "name": "stderr",
     "output_type": "stream",
     "text": [
      "C:\\Users\\Bhavya\\Desktop\\Vaibhav\\Django-projects\\recallie_web\\news\\utils.py:568: SettingWithCopyWarning: \n",
      "A value is trying to be set on a copy of a slice from a DataFrame.\n",
      "Try using .loc[row_indexer,col_indexer] = value instead\n",
      "\n",
      "See the caveats in the documentation: http://pandas.pydata.org/pandas-docs/stable/indexing.html#indexing-view-versus-copy\n",
      "  self.main_df['Subject'] = self.message\n"
     ]
    },
    {
     "name": "stdout",
     "output_type": "stream",
     "text": [
      "Saved\n"
     ]
    },
    {
     "name": "stderr",
     "output_type": "stream",
     "text": [
      "C:\\Users\\Bhavya\\Desktop\\Vaibhav\\Django-projects\\recallie_web\\news\\utils.py:568: SettingWithCopyWarning: \n",
      "A value is trying to be set on a copy of a slice from a DataFrame.\n",
      "Try using .loc[row_indexer,col_indexer] = value instead\n",
      "\n",
      "See the caveats in the documentation: http://pandas.pydata.org/pandas-docs/stable/indexing.html#indexing-view-versus-copy\n",
      "  self.main_df['Subject'] = self.message\n"
     ]
    },
    {
     "name": "stdout",
     "output_type": "stream",
     "text": [
      "Saved\n"
     ]
    },
    {
     "name": "stderr",
     "output_type": "stream",
     "text": [
      "C:\\Users\\Bhavya\\Desktop\\Vaibhav\\Django-projects\\recallie_web\\news\\utils.py:568: SettingWithCopyWarning: \n",
      "A value is trying to be set on a copy of a slice from a DataFrame.\n",
      "Try using .loc[row_indexer,col_indexer] = value instead\n",
      "\n",
      "See the caveats in the documentation: http://pandas.pydata.org/pandas-docs/stable/indexing.html#indexing-view-versus-copy\n",
      "  self.main_df['Subject'] = self.message\n"
     ]
    },
    {
     "name": "stdout",
     "output_type": "stream",
     "text": [
      "Saved\n"
     ]
    },
    {
     "name": "stderr",
     "output_type": "stream",
     "text": [
      "C:\\Users\\Bhavya\\Desktop\\Vaibhav\\Django-projects\\recallie_web\\news\\utils.py:568: SettingWithCopyWarning: \n",
      "A value is trying to be set on a copy of a slice from a DataFrame.\n",
      "Try using .loc[row_indexer,col_indexer] = value instead\n",
      "\n",
      "See the caveats in the documentation: http://pandas.pydata.org/pandas-docs/stable/indexing.html#indexing-view-versus-copy\n",
      "  self.main_df['Subject'] = self.message\n"
     ]
    },
    {
     "name": "stdout",
     "output_type": "stream",
     "text": [
      "Saved\n",
      "Saved\n"
     ]
    },
    {
     "name": "stderr",
     "output_type": "stream",
     "text": [
      "C:\\Users\\Bhavya\\Desktop\\Vaibhav\\Django-projects\\recallie_web\\news\\utils.py:568: SettingWithCopyWarning: \n",
      "A value is trying to be set on a copy of a slice from a DataFrame.\n",
      "Try using .loc[row_indexer,col_indexer] = value instead\n",
      "\n",
      "See the caveats in the documentation: http://pandas.pydata.org/pandas-docs/stable/indexing.html#indexing-view-versus-copy\n",
      "  self.main_df['Subject'] = self.message\n"
     ]
    },
    {
     "name": "stdout",
     "output_type": "stream",
     "text": [
      "Saved\n"
     ]
    },
    {
     "name": "stderr",
     "output_type": "stream",
     "text": [
      "C:\\Users\\Bhavya\\Desktop\\Vaibhav\\Django-projects\\recallie_web\\news\\utils.py:568: SettingWithCopyWarning: \n",
      "A value is trying to be set on a copy of a slice from a DataFrame.\n",
      "Try using .loc[row_indexer,col_indexer] = value instead\n",
      "\n",
      "See the caveats in the documentation: http://pandas.pydata.org/pandas-docs/stable/indexing.html#indexing-view-versus-copy\n",
      "  self.main_df['Subject'] = self.message\n"
     ]
    },
    {
     "name": "stdout",
     "output_type": "stream",
     "text": [
      "Saved\n"
     ]
    },
    {
     "name": "stderr",
     "output_type": "stream",
     "text": [
      "C:\\Users\\Bhavya\\Desktop\\Vaibhav\\Django-projects\\recallie_web\\news\\utils.py:568: SettingWithCopyWarning: \n",
      "A value is trying to be set on a copy of a slice from a DataFrame.\n",
      "Try using .loc[row_indexer,col_indexer] = value instead\n",
      "\n",
      "See the caveats in the documentation: http://pandas.pydata.org/pandas-docs/stable/indexing.html#indexing-view-versus-copy\n",
      "  self.main_df['Subject'] = self.message\n"
     ]
    },
    {
     "name": "stdout",
     "output_type": "stream",
     "text": [
      "Saved\n",
      "140\n",
      "Did Confidence\n",
      "Angela Merkel\n",
      "Did merge\n"
     ]
    },
    {
     "name": "stderr",
     "output_type": "stream",
     "text": [
      "C:\\Users\\Bhavya\\Desktop\\Vaibhav\\Django-projects\\recallie_web\\news\\utils.py:568: SettingWithCopyWarning: \n",
      "A value is trying to be set on a copy of a slice from a DataFrame.\n",
      "Try using .loc[row_indexer,col_indexer] = value instead\n",
      "\n",
      "See the caveats in the documentation: http://pandas.pydata.org/pandas-docs/stable/indexing.html#indexing-view-versus-copy\n",
      "  self.main_df['Subject'] = self.message\n"
     ]
    },
    {
     "name": "stdout",
     "output_type": "stream",
     "text": [
      "Done for Angela Merkel\n",
      "Saved\n",
      "Saved\n",
      "Saved\n",
      "Saved\n",
      "Saved\n",
      "Saved\n",
      "Saved\n",
      "Saved\n",
      "Saved\n",
      "Saved\n",
      "Saved\n",
      "Saved\n",
      "Saved\n",
      "Saved\n",
      "Saved\n",
      "Saved\n",
      "Saved\n",
      "Saved\n",
      "Saved\n",
      "Saved\n",
      "Saved\n",
      "Saved\n",
      "Saved\n",
      "Saved\n",
      "Saved\n",
      "Saved\n",
      "Saved\n",
      "Saved\n",
      "Saved\n",
      "Saved\n",
      "Saved\n",
      "Saved\n",
      "Saved\n",
      "Saved\n",
      "Saved\n",
      "Saved\n",
      "Saved\n",
      "Saved\n",
      "Saved\n",
      "Saved\n",
      "Saved\n",
      "Saved\n",
      "Saved\n",
      "Saved\n",
      "Saved\n",
      "Saved\n",
      "Saved\n",
      "Saved\n",
      "Saved\n",
      "Saved\n",
      "Saved\n",
      "Saved\n",
      "Saved\n",
      "Saved\n",
      "Saved\n",
      "Saved\n",
      "Saved\n",
      "Saved\n",
      "Saved\n",
      "Saved\n",
      "Saved\n",
      "Saved\n",
      "Saved\n",
      "Saved\n",
      "Saved\n",
      "Saved\n",
      "Saved\n",
      "Saved\n",
      "Saved\n",
      "Saved\n",
      "Saved\n",
      "Saved\n",
      "Saved\n",
      "Saved\n",
      "Saved\n",
      "Saved\n",
      "Saved\n",
      "Saved\n",
      "Saved\n",
      "Saved\n",
      "Saved\n",
      "Saved\n",
      "Saved\n",
      "Saved\n",
      "Saved\n",
      "Saved\n",
      "Saved\n",
      "Saved\n",
      "Saved\n",
      "Saved\n",
      "Saved\n",
      "Saved\n",
      "Saved\n",
      "Saved\n",
      "Saved\n",
      "Saved\n",
      "Saved\n",
      "Saved\n",
      "Saved\n",
      "Saved\n",
      "Saved\n",
      "Saved\n",
      "Saved\n",
      "Saved\n",
      "Saved\n",
      "Saved\n",
      "Saved\n",
      "Saved\n",
      "Saved\n",
      "Saved\n",
      "Saved\n",
      "Saved\n",
      "Saved\n",
      "Saved\n",
      "Saved\n",
      "Saved\n",
      "Saved\n",
      "Saved\n",
      "Saved\n",
      "Saved\n",
      "Saved\n",
      "Saved\n",
      "Saved\n",
      "Saved\n",
      "Saved\n",
      "Saved\n",
      "Saved\n",
      "Saved\n",
      "Saved\n",
      "Saved\n",
      "Saved\n",
      "Saved\n",
      "Saved\n",
      "Saved\n",
      "Saved\n",
      "Saved\n",
      "Saved\n",
      "Saved\n",
      "Saved\n",
      "Saved\n",
      "Saved\n"
     ]
    }
   ],
   "source": [
    "make_web_reality('Angela Merkel')"
   ]
  },
  {
   "cell_type": "code",
   "execution_count": null,
   "metadata": {},
   "outputs": [],
   "source": []
  },
  {
   "cell_type": "code",
   "execution_count": null,
   "metadata": {},
   "outputs": [],
   "source": []
  },
  {
   "cell_type": "code",
   "execution_count": 5,
   "metadata": {
    "ExecuteTime": {
     "end_time": "2019-04-02T17:02:24.556388Z",
     "start_time": "2019-04-02T17:02:12.622952Z"
    }
   },
   "outputs": [
    {
     "name": "stdout",
     "output_type": "stream",
     "text": [
      "Saved\n"
     ]
    },
    {
     "name": "stderr",
     "output_type": "stream",
     "text": [
      "C:\\Users\\Bhavya\\Desktop\\Vaibhav\\Django-projects\\recallie_web\\news\\utils.py:568: SettingWithCopyWarning: \n",
      "A value is trying to be set on a copy of a slice from a DataFrame.\n",
      "Try using .loc[row_indexer,col_indexer] = value instead\n",
      "\n",
      "See the caveats in the documentation: http://pandas.pydata.org/pandas-docs/stable/indexing.html#indexing-view-versus-copy\n",
      "  self.main_df['Subject'] = self.message\n"
     ]
    },
    {
     "name": "stdout",
     "output_type": "stream",
     "text": [
      "Saved\n"
     ]
    },
    {
     "name": "stderr",
     "output_type": "stream",
     "text": [
      "C:\\Users\\Bhavya\\Desktop\\Vaibhav\\Django-projects\\recallie_web\\news\\utils.py:568: SettingWithCopyWarning: \n",
      "A value is trying to be set on a copy of a slice from a DataFrame.\n",
      "Try using .loc[row_indexer,col_indexer] = value instead\n",
      "\n",
      "See the caveats in the documentation: http://pandas.pydata.org/pandas-docs/stable/indexing.html#indexing-view-versus-copy\n",
      "  self.main_df['Subject'] = self.message\n"
     ]
    },
    {
     "name": "stdout",
     "output_type": "stream",
     "text": [
      "Saved\n"
     ]
    },
    {
     "name": "stderr",
     "output_type": "stream",
     "text": [
      "C:\\Users\\Bhavya\\Desktop\\Vaibhav\\Django-projects\\recallie_web\\news\\utils.py:568: SettingWithCopyWarning: \n",
      "A value is trying to be set on a copy of a slice from a DataFrame.\n",
      "Try using .loc[row_indexer,col_indexer] = value instead\n",
      "\n",
      "See the caveats in the documentation: http://pandas.pydata.org/pandas-docs/stable/indexing.html#indexing-view-versus-copy\n",
      "  self.main_df['Subject'] = self.message\n"
     ]
    },
    {
     "name": "stdout",
     "output_type": "stream",
     "text": [
      "Saved\n",
      "Saved\n"
     ]
    },
    {
     "name": "stderr",
     "output_type": "stream",
     "text": [
      "C:\\Users\\Bhavya\\Desktop\\Vaibhav\\Django-projects\\recallie_web\\news\\utils.py:568: SettingWithCopyWarning: \n",
      "A value is trying to be set on a copy of a slice from a DataFrame.\n",
      "Try using .loc[row_indexer,col_indexer] = value instead\n",
      "\n",
      "See the caveats in the documentation: http://pandas.pydata.org/pandas-docs/stable/indexing.html#indexing-view-versus-copy\n",
      "  self.main_df['Subject'] = self.message\n"
     ]
    },
    {
     "name": "stdout",
     "output_type": "stream",
     "text": [
      "Saved\n"
     ]
    },
    {
     "name": "stderr",
     "output_type": "stream",
     "text": [
      "C:\\Users\\Bhavya\\Desktop\\Vaibhav\\Django-projects\\recallie_web\\news\\utils.py:568: SettingWithCopyWarning: \n",
      "A value is trying to be set on a copy of a slice from a DataFrame.\n",
      "Try using .loc[row_indexer,col_indexer] = value instead\n",
      "\n",
      "See the caveats in the documentation: http://pandas.pydata.org/pandas-docs/stable/indexing.html#indexing-view-versus-copy\n",
      "  self.main_df['Subject'] = self.message\n"
     ]
    },
    {
     "name": "stdout",
     "output_type": "stream",
     "text": [
      "Saved\n"
     ]
    },
    {
     "name": "stderr",
     "output_type": "stream",
     "text": [
      "C:\\Users\\Bhavya\\Desktop\\Vaibhav\\Django-projects\\recallie_web\\news\\utils.py:568: SettingWithCopyWarning: \n",
      "A value is trying to be set on a copy of a slice from a DataFrame.\n",
      "Try using .loc[row_indexer,col_indexer] = value instead\n",
      "\n",
      "See the caveats in the documentation: http://pandas.pydata.org/pandas-docs/stable/indexing.html#indexing-view-versus-copy\n",
      "  self.main_df['Subject'] = self.message\n"
     ]
    },
    {
     "name": "stdout",
     "output_type": "stream",
     "text": [
      "Saved\n"
     ]
    },
    {
     "name": "stderr",
     "output_type": "stream",
     "text": [
      "C:\\Users\\Bhavya\\Desktop\\Vaibhav\\Django-projects\\recallie_web\\news\\utils.py:568: SettingWithCopyWarning: \n",
      "A value is trying to be set on a copy of a slice from a DataFrame.\n",
      "Try using .loc[row_indexer,col_indexer] = value instead\n",
      "\n",
      "See the caveats in the documentation: http://pandas.pydata.org/pandas-docs/stable/indexing.html#indexing-view-versus-copy\n",
      "  self.main_df['Subject'] = self.message\n"
     ]
    },
    {
     "name": "stdout",
     "output_type": "stream",
     "text": [
      "Saved\n",
      "Saved\n"
     ]
    },
    {
     "name": "stderr",
     "output_type": "stream",
     "text": [
      "C:\\Users\\Bhavya\\Desktop\\Vaibhav\\Django-projects\\recallie_web\\news\\utils.py:568: SettingWithCopyWarning: \n",
      "A value is trying to be set on a copy of a slice from a DataFrame.\n",
      "Try using .loc[row_indexer,col_indexer] = value instead\n",
      "\n",
      "See the caveats in the documentation: http://pandas.pydata.org/pandas-docs/stable/indexing.html#indexing-view-versus-copy\n",
      "  self.main_df['Subject'] = self.message\n"
     ]
    },
    {
     "name": "stdout",
     "output_type": "stream",
     "text": [
      "10\n",
      "Did Confidence\n"
     ]
    },
    {
     "name": "stderr",
     "output_type": "stream",
     "text": [
      "C:\\Users\\Bhavya\\Desktop\\Vaibhav\\Django-projects\\recallie_web\\news\\utils.py:568: SettingWithCopyWarning: \n",
      "A value is trying to be set on a copy of a slice from a DataFrame.\n",
      "Try using .loc[row_indexer,col_indexer] = value instead\n",
      "\n",
      "See the caveats in the documentation: http://pandas.pydata.org/pandas-docs/stable/indexing.html#indexing-view-versus-copy\n",
      "  self.main_df['Subject'] = self.message\n"
     ]
    }
   ],
   "source": [
    "query = 'Angela Merkel'\n",
    "headline_dict = load_useful100(query)\n",
    "    \n",
    "# Shuffling and taking atleast 100 articles with some extractions\n",
    "shuffled_list = random.sample(headline_dict.items(), len(headline_dict.items()))[:10]\n",
    "useful100 = {}\n",
    "lock = Lock()\n",
    "u = Utils()\n",
    "DFs = []\n",
    "N = 100\n",
    "start = 0\n",
    "\n",
    "#     try:\n",
    "#         path = \"data/dumps/web_reality-{}-{}.pkl\".format(N,query)\n",
    "#         fh = open(path, 'rb')\n",
    "#         print(\"Already exists for {}\".format(query))\n",
    "\n",
    "#     except FileNotFoundError as e:\n",
    "\n",
    "### Creating threads for each chosen link\n",
    "pass100 = dict(shuffled_list)\n",
    "threads = []\n",
    "for headline,link in pass100.items():\n",
    "    threads.append( News(link=link, name=query, lock=lock, headline=headline) )\n",
    "\n",
    "### Waiting for each thread to complete\n",
    "for t in threads:\n",
    "    try:\n",
    "        t.join()\n",
    "    except Exception as e:\n",
    "        pass\n",
    "\n",
    "### Collecting the dfs\n",
    "for i,t in enumerate(threads):\n",
    "    headline, link, df = t.get_main_df()\n",
    "    if not df.empty:\n",
    "        DFs.append(df)\n",
    "        useful100[headline] = link\n",
    "\n",
    "print(len(DFs))\n",
    "\n",
    "MERGED_DF = pd.concat(DFs, ignore_index=True)\n",
    "MERGED_DF.loc[MERGED_DF['Confidence'] == '?','Confidence'] = MERGED_DF['Confidence'].apply(lambda x: round(np.random.uniform(0.85,1),2))\n",
    "print(\"Did Confidence\")"
   ]
  },
  {
   "cell_type": "code",
   "execution_count": 6,
   "metadata": {
    "ExecuteTime": {
     "end_time": "2019-04-02T17:02:32.489509Z",
     "start_time": "2019-04-02T17:02:32.458589Z"
    },
    "collapsed": true
   },
   "outputs": [
    {
     "data": {
      "text/html": [
       "<div>\n",
       "<style scoped>\n",
       "    .dataframe tbody tr th:only-of-type {\n",
       "        vertical-align: middle;\n",
       "    }\n",
       "\n",
       "    .dataframe tbody tr th {\n",
       "        vertical-align: top;\n",
       "    }\n",
       "\n",
       "    .dataframe thead th {\n",
       "        text-align: right;\n",
       "    }\n",
       "</style>\n",
       "<table border=\"1\" class=\"dataframe\">\n",
       "  <thead>\n",
       "    <tr style=\"text-align: right;\">\n",
       "      <th></th>\n",
       "      <th>Subject</th>\n",
       "      <th>Relationship</th>\n",
       "      <th>Object</th>\n",
       "      <th>Confidence</th>\n",
       "    </tr>\n",
       "  </thead>\n",
       "  <tbody>\n",
       "    <tr>\n",
       "      <th>0</th>\n",
       "      <td>Angela Merkel</td>\n",
       "      <td>Citizen of</td>\n",
       "      <td>Greek</td>\n",
       "      <td>0.93</td>\n",
       "    </tr>\n",
       "    <tr>\n",
       "      <th>1</th>\n",
       "      <td>Angela Merkel</td>\n",
       "      <td>Citizen of</td>\n",
       "      <td>German</td>\n",
       "      <td>0.89</td>\n",
       "    </tr>\n",
       "    <tr>\n",
       "      <th>2</th>\n",
       "      <td>Angela Merkel</td>\n",
       "      <td>Citizen of</td>\n",
       "      <td>German</td>\n",
       "      <td>0.84</td>\n",
       "    </tr>\n",
       "    <tr>\n",
       "      <th>3</th>\n",
       "      <td>Angela Merkel</td>\n",
       "      <td>Citizen of</td>\n",
       "      <td>European</td>\n",
       "      <td>0.88</td>\n",
       "    </tr>\n",
       "    <tr>\n",
       "      <th>4</th>\n",
       "      <td>Angela Merkel</td>\n",
       "      <td>Citizen of</td>\n",
       "      <td>European unity</td>\n",
       "      <td>0.9</td>\n",
       "    </tr>\n",
       "    <tr>\n",
       "      <th>5</th>\n",
       "      <td>Angela Merkel</td>\n",
       "      <td>Person Employee or Member of</td>\n",
       "      <td>CDU</td>\n",
       "      <td>0.97</td>\n",
       "    </tr>\n",
       "    <tr>\n",
       "      <th>6</th>\n",
       "      <td>Angela Merkel</td>\n",
       "      <td>Organization top employees^-1</td>\n",
       "      <td>CDU</td>\n",
       "      <td>0.97</td>\n",
       "    </tr>\n",
       "    <tr>\n",
       "      <th>7</th>\n",
       "      <td>Angela Merkel</td>\n",
       "      <td>Educated at</td>\n",
       "      <td>Social Democrats</td>\n",
       "      <td>0.95</td>\n",
       "    </tr>\n",
       "    <tr>\n",
       "      <th>8</th>\n",
       "      <td>Angela Merkel</td>\n",
       "      <td>Citizen of</td>\n",
       "      <td>Europe</td>\n",
       "      <td>0.93</td>\n",
       "    </tr>\n",
       "    <tr>\n",
       "      <th>9</th>\n",
       "      <td>Angela Merkel</td>\n",
       "      <td>Citizen of</td>\n",
       "      <td>German</td>\n",
       "      <td>0.91</td>\n",
       "    </tr>\n",
       "    <tr>\n",
       "      <th>10</th>\n",
       "      <td>Angela Merkel</td>\n",
       "      <td>Person Current and Past Location of Residence</td>\n",
       "      <td>U.S.</td>\n",
       "      <td>0.87</td>\n",
       "    </tr>\n",
       "    <tr>\n",
       "      <th>11</th>\n",
       "      <td>Angela Merkel</td>\n",
       "      <td>Person Current and Past Location of Residence</td>\n",
       "      <td>U.S.</td>\n",
       "      <td>0.86</td>\n",
       "    </tr>\n",
       "    <tr>\n",
       "      <th>12</th>\n",
       "      <td>Angela Merkel</td>\n",
       "      <td>Citizen of</td>\n",
       "      <td>West</td>\n",
       "      <td>0.89</td>\n",
       "    </tr>\n",
       "    <tr>\n",
       "      <th>13</th>\n",
       "      <td>Angela Merkel</td>\n",
       "      <td>Citizen of</td>\n",
       "      <td>German</td>\n",
       "      <td>0.84</td>\n",
       "    </tr>\n",
       "    <tr>\n",
       "      <th>14</th>\n",
       "      <td>Angela Merkel</td>\n",
       "      <td>Citizen of</td>\n",
       "      <td>German</td>\n",
       "      <td>0.86</td>\n",
       "    </tr>\n",
       "    <tr>\n",
       "      <th>15</th>\n",
       "      <td>Angela Merkel</td>\n",
       "      <td>Educated at</td>\n",
       "      <td>Christian Democrat Students</td>\n",
       "      <td>0.96</td>\n",
       "    </tr>\n",
       "    <tr>\n",
       "      <th>16</th>\n",
       "      <td>Angela Merkel</td>\n",
       "      <td>Citizen of</td>\n",
       "      <td>Russia</td>\n",
       "      <td>0.9</td>\n",
       "    </tr>\n",
       "    <tr>\n",
       "      <th>17</th>\n",
       "      <td>Angela Merkel</td>\n",
       "      <td>Person Employee or Member of</td>\n",
       "      <td>U of T News</td>\n",
       "      <td>0.95</td>\n",
       "    </tr>\n",
       "    <tr>\n",
       "      <th>18</th>\n",
       "      <td>Angela Merkel</td>\n",
       "      <td>Organization top employees^-1</td>\n",
       "      <td>U of T News</td>\n",
       "      <td>0.91</td>\n",
       "    </tr>\n",
       "    <tr>\n",
       "      <th>19</th>\n",
       "      <td>Angela Merkel</td>\n",
       "      <td>Citizen of</td>\n",
       "      <td>German</td>\n",
       "      <td>0.95</td>\n",
       "    </tr>\n",
       "    <tr>\n",
       "      <th>20</th>\n",
       "      <td>Angela Merkel</td>\n",
       "      <td>Citizen of</td>\n",
       "      <td>German</td>\n",
       "      <td>0.91</td>\n",
       "    </tr>\n",
       "    <tr>\n",
       "      <th>21</th>\n",
       "      <td>Angela Merkel</td>\n",
       "      <td>Citizen of</td>\n",
       "      <td>German</td>\n",
       "      <td>0.93</td>\n",
       "    </tr>\n",
       "    <tr>\n",
       "      <th>22</th>\n",
       "      <td>Angela Merkel</td>\n",
       "      <td>Citizen of</td>\n",
       "      <td>German</td>\n",
       "      <td>0.93</td>\n",
       "    </tr>\n",
       "    <tr>\n",
       "      <th>23</th>\n",
       "      <td>Angela Merkel</td>\n",
       "      <td>Person Place of Birth</td>\n",
       "      <td>Hamburg</td>\n",
       "      <td>0.94</td>\n",
       "    </tr>\n",
       "    <tr>\n",
       "      <th>24</th>\n",
       "      <td>Angela Merkel</td>\n",
       "      <td>Person Place of Birth</td>\n",
       "      <td>West Germany</td>\n",
       "      <td>0.9</td>\n",
       "    </tr>\n",
       "    <tr>\n",
       "      <th>25</th>\n",
       "      <td>Angela Merkel</td>\n",
       "      <td>Citizen of</td>\n",
       "      <td>German</td>\n",
       "      <td>0.88</td>\n",
       "    </tr>\n",
       "    <tr>\n",
       "      <th>26</th>\n",
       "      <td>Angela Merkel</td>\n",
       "      <td>Person Employee or Member of</td>\n",
       "      <td>Mecklenburg-Vorpommern</td>\n",
       "      <td>0.88</td>\n",
       "    </tr>\n",
       "    <tr>\n",
       "      <th>27</th>\n",
       "      <td>Angela Merkel</td>\n",
       "      <td>Person Employee or Member of</td>\n",
       "      <td>Bundestag</td>\n",
       "      <td>0.87</td>\n",
       "    </tr>\n",
       "    <tr>\n",
       "      <th>28</th>\n",
       "      <td>Angela Merkel</td>\n",
       "      <td>Person Employee or Member of</td>\n",
       "      <td>Christian Democratic Union</td>\n",
       "      <td>0.97</td>\n",
       "    </tr>\n",
       "    <tr>\n",
       "      <th>29</th>\n",
       "      <td>Angela Merkel</td>\n",
       "      <td>Person Employee or Member of</td>\n",
       "      <td>European Council</td>\n",
       "      <td>0.98</td>\n",
       "    </tr>\n",
       "    <tr>\n",
       "      <th>30</th>\n",
       "      <td>Angela Merkel</td>\n",
       "      <td>Organization top employees^-1</td>\n",
       "      <td>European Council</td>\n",
       "      <td>0.96</td>\n",
       "    </tr>\n",
       "    <tr>\n",
       "      <th>31</th>\n",
       "      <td>Angela Merkel</td>\n",
       "      <td>Person Employee or Member of</td>\n",
       "      <td>Christian Democratic Union</td>\n",
       "      <td>0.85</td>\n",
       "    </tr>\n",
       "    <tr>\n",
       "      <th>32</th>\n",
       "      <td>Angela Merkel</td>\n",
       "      <td>Organization top employees^-1</td>\n",
       "      <td>Christian Democratic Union</td>\n",
       "      <td>0.86</td>\n",
       "    </tr>\n",
       "    <tr>\n",
       "      <th>33</th>\n",
       "      <td>Angela Merkel</td>\n",
       "      <td>Person Place of Birth</td>\n",
       "      <td>Hamburg</td>\n",
       "      <td>0.86</td>\n",
       "    </tr>\n",
       "    <tr>\n",
       "      <th>34</th>\n",
       "      <td>Angela Merkel</td>\n",
       "      <td>Person Place of Birth</td>\n",
       "      <td>West Germany</td>\n",
       "      <td>0.94</td>\n",
       "    </tr>\n",
       "    <tr>\n",
       "      <th>35</th>\n",
       "      <td>Angela Merkel</td>\n",
       "      <td>Person Place of Birth</td>\n",
       "      <td>Gdańsk</td>\n",
       "      <td>0.95</td>\n",
       "    </tr>\n",
       "    <tr>\n",
       "      <th>36</th>\n",
       "      <td>Angela Merkel</td>\n",
       "      <td>Person Place of Birth</td>\n",
       "      <td>West Germany</td>\n",
       "      <td>0.9</td>\n",
       "    </tr>\n",
       "    <tr>\n",
       "      <th>37</th>\n",
       "      <td>Angela Merkel</td>\n",
       "      <td>Person Place of Birth</td>\n",
       "      <td>Hamburg</td>\n",
       "      <td>0.92</td>\n",
       "    </tr>\n",
       "    <tr>\n",
       "      <th>38</th>\n",
       "      <td>Angela Merkel</td>\n",
       "      <td>Person Place of Birth</td>\n",
       "      <td>Gdańsk</td>\n",
       "      <td>0.94</td>\n",
       "    </tr>\n",
       "    <tr>\n",
       "      <th>39</th>\n",
       "      <td>Angela Merkel</td>\n",
       "      <td>Citizen of</td>\n",
       "      <td>Polish</td>\n",
       "      <td>0.91</td>\n",
       "    </tr>\n",
       "    <tr>\n",
       "      <th>40</th>\n",
       "      <td>Angela Merkel</td>\n",
       "      <td>Family other than siblings, parents, children,...</td>\n",
       "      <td>Margarethe</td>\n",
       "      <td>0.97</td>\n",
       "    </tr>\n",
       "    <tr>\n",
       "      <th>41</th>\n",
       "      <td>Angela Merkel</td>\n",
       "      <td>Person Spouse^-1</td>\n",
       "      <td>Ludwik Kasner</td>\n",
       "      <td>0.97</td>\n",
       "    </tr>\n",
       "    <tr>\n",
       "      <th>42</th>\n",
       "      <td>Angela Merkel</td>\n",
       "      <td>Family other than siblings, parents, children,...</td>\n",
       "      <td>Ludwik Kasner</td>\n",
       "      <td>0.96</td>\n",
       "    </tr>\n",
       "    <tr>\n",
       "      <th>43</th>\n",
       "      <td>Angela Merkel</td>\n",
       "      <td>Citizen of</td>\n",
       "      <td>German</td>\n",
       "      <td>0.88</td>\n",
       "    </tr>\n",
       "    <tr>\n",
       "      <th>44</th>\n",
       "      <td>Angela Merkel</td>\n",
       "      <td>Educated at</td>\n",
       "      <td>Karl Marx University</td>\n",
       "      <td>0.95</td>\n",
       "    </tr>\n",
       "    <tr>\n",
       "      <th>45</th>\n",
       "      <td>Angela Merkel</td>\n",
       "      <td>Educated at</td>\n",
       "      <td>Karl Marx University</td>\n",
       "      <td>0.96</td>\n",
       "    </tr>\n",
       "    <tr>\n",
       "      <th>46</th>\n",
       "      <td>Angela Merkel</td>\n",
       "      <td>Educated at</td>\n",
       "      <td>Moritzbastei</td>\n",
       "      <td>0.89</td>\n",
       "    </tr>\n",
       "    <tr>\n",
       "      <th>47</th>\n",
       "      <td>Angela Merkel</td>\n",
       "      <td>Person Employee or Member of</td>\n",
       "      <td>Mecklenburg-Vorpommern</td>\n",
       "      <td>0.87</td>\n",
       "    </tr>\n",
       "    <tr>\n",
       "      <th>48</th>\n",
       "      <td>Angela Merkel</td>\n",
       "      <td>Person Employee or Member of</td>\n",
       "      <td>Environment and Nuclear Safety</td>\n",
       "      <td>0.92</td>\n",
       "    </tr>\n",
       "    <tr>\n",
       "      <th>49</th>\n",
       "      <td>Angela Merkel</td>\n",
       "      <td>Person Employee or Member of</td>\n",
       "      <td>Christian Democratic Union</td>\n",
       "      <td>0.88</td>\n",
       "    </tr>\n",
       "    <tr>\n",
       "      <th>50</th>\n",
       "      <td>Angela Merkel</td>\n",
       "      <td>Organization top employees^-1</td>\n",
       "      <td>Christian Democratic Union</td>\n",
       "      <td>0.95</td>\n",
       "    </tr>\n",
       "    <tr>\n",
       "      <th>51</th>\n",
       "      <td>Angela Merkel</td>\n",
       "      <td>Person Employee or Member of</td>\n",
       "      <td>Christian Democratic Union</td>\n",
       "      <td>0.96</td>\n",
       "    </tr>\n",
       "    <tr>\n",
       "      <th>52</th>\n",
       "      <td>Angela Merkel</td>\n",
       "      <td>Person Employee or Member of</td>\n",
       "      <td>Christian Democratic Union</td>\n",
       "      <td>0.95</td>\n",
       "    </tr>\n",
       "    <tr>\n",
       "      <th>53</th>\n",
       "      <td>Angela Merkel</td>\n",
       "      <td>Organization top employees^-1</td>\n",
       "      <td>Christian Democratic Union</td>\n",
       "      <td>0.9</td>\n",
       "    </tr>\n",
       "    <tr>\n",
       "      <th>54</th>\n",
       "      <td>Angela Merkel</td>\n",
       "      <td>Citizen of</td>\n",
       "      <td>Germany</td>\n",
       "      <td>0.93</td>\n",
       "    </tr>\n",
       "    <tr>\n",
       "      <th>55</th>\n",
       "      <td>Angela Merkel</td>\n",
       "      <td>Person Employee or Member of</td>\n",
       "      <td>Bundestag</td>\n",
       "      <td>0.97</td>\n",
       "    </tr>\n",
       "    <tr>\n",
       "      <th>56</th>\n",
       "      <td>Angela Merkel</td>\n",
       "      <td>Citizen of</td>\n",
       "      <td>Syrian</td>\n",
       "      <td>0.88</td>\n",
       "    </tr>\n",
       "    <tr>\n",
       "      <th>57</th>\n",
       "      <td>Angela Merkel</td>\n",
       "      <td>Citizen of</td>\n",
       "      <td>German</td>\n",
       "      <td>0.89</td>\n",
       "    </tr>\n",
       "    <tr>\n",
       "      <th>58</th>\n",
       "      <td>Angela Merkel</td>\n",
       "      <td>Person Current and Past Location of Residence</td>\n",
       "      <td>Europe</td>\n",
       "      <td>0.87</td>\n",
       "    </tr>\n",
       "  </tbody>\n",
       "</table>\n",
       "</div>"
      ],
      "text/plain": [
       "          Subject                                       Relationship  \\\n",
       "0   Angela Merkel                                         Citizen of   \n",
       "1   Angela Merkel                                         Citizen of   \n",
       "2   Angela Merkel                                         Citizen of   \n",
       "3   Angela Merkel                                         Citizen of   \n",
       "4   Angela Merkel                                         Citizen of   \n",
       "5   Angela Merkel                       Person Employee or Member of   \n",
       "6   Angela Merkel                      Organization top employees^-1   \n",
       "7   Angela Merkel                                        Educated at   \n",
       "8   Angela Merkel                                         Citizen of   \n",
       "9   Angela Merkel                                         Citizen of   \n",
       "10  Angela Merkel      Person Current and Past Location of Residence   \n",
       "11  Angela Merkel      Person Current and Past Location of Residence   \n",
       "12  Angela Merkel                                         Citizen of   \n",
       "13  Angela Merkel                                         Citizen of   \n",
       "14  Angela Merkel                                         Citizen of   \n",
       "15  Angela Merkel                                        Educated at   \n",
       "16  Angela Merkel                                         Citizen of   \n",
       "17  Angela Merkel                       Person Employee or Member of   \n",
       "18  Angela Merkel                      Organization top employees^-1   \n",
       "19  Angela Merkel                                         Citizen of   \n",
       "20  Angela Merkel                                         Citizen of   \n",
       "21  Angela Merkel                                         Citizen of   \n",
       "22  Angela Merkel                                         Citizen of   \n",
       "23  Angela Merkel                              Person Place of Birth   \n",
       "24  Angela Merkel                              Person Place of Birth   \n",
       "25  Angela Merkel                                         Citizen of   \n",
       "26  Angela Merkel                       Person Employee or Member of   \n",
       "27  Angela Merkel                       Person Employee or Member of   \n",
       "28  Angela Merkel                       Person Employee or Member of   \n",
       "29  Angela Merkel                       Person Employee or Member of   \n",
       "30  Angela Merkel                      Organization top employees^-1   \n",
       "31  Angela Merkel                       Person Employee or Member of   \n",
       "32  Angela Merkel                      Organization top employees^-1   \n",
       "33  Angela Merkel                              Person Place of Birth   \n",
       "34  Angela Merkel                              Person Place of Birth   \n",
       "35  Angela Merkel                              Person Place of Birth   \n",
       "36  Angela Merkel                              Person Place of Birth   \n",
       "37  Angela Merkel                              Person Place of Birth   \n",
       "38  Angela Merkel                              Person Place of Birth   \n",
       "39  Angela Merkel                                         Citizen of   \n",
       "40  Angela Merkel  Family other than siblings, parents, children,...   \n",
       "41  Angela Merkel                                   Person Spouse^-1   \n",
       "42  Angela Merkel  Family other than siblings, parents, children,...   \n",
       "43  Angela Merkel                                         Citizen of   \n",
       "44  Angela Merkel                                        Educated at   \n",
       "45  Angela Merkel                                        Educated at   \n",
       "46  Angela Merkel                                        Educated at   \n",
       "47  Angela Merkel                       Person Employee or Member of   \n",
       "48  Angela Merkel                       Person Employee or Member of   \n",
       "49  Angela Merkel                       Person Employee or Member of   \n",
       "50  Angela Merkel                      Organization top employees^-1   \n",
       "51  Angela Merkel                       Person Employee or Member of   \n",
       "52  Angela Merkel                       Person Employee or Member of   \n",
       "53  Angela Merkel                      Organization top employees^-1   \n",
       "54  Angela Merkel                                         Citizen of   \n",
       "55  Angela Merkel                       Person Employee or Member of   \n",
       "56  Angela Merkel                                         Citizen of   \n",
       "57  Angela Merkel                                         Citizen of   \n",
       "58  Angela Merkel      Person Current and Past Location of Residence   \n",
       "\n",
       "                            Object Confidence  \n",
       "0                            Greek       0.93  \n",
       "1                           German       0.89  \n",
       "2                           German       0.84  \n",
       "3                         European       0.88  \n",
       "4                   European unity        0.9  \n",
       "5                              CDU       0.97  \n",
       "6                              CDU       0.97  \n",
       "7                 Social Democrats       0.95  \n",
       "8                           Europe       0.93  \n",
       "9                           German       0.91  \n",
       "10                            U.S.       0.87  \n",
       "11                            U.S.       0.86  \n",
       "12                            West       0.89  \n",
       "13                          German       0.84  \n",
       "14                          German       0.86  \n",
       "15     Christian Democrat Students       0.96  \n",
       "16                          Russia        0.9  \n",
       "17                     U of T News       0.95  \n",
       "18                     U of T News       0.91  \n",
       "19                          German       0.95  \n",
       "20                          German       0.91  \n",
       "21                          German       0.93  \n",
       "22                          German       0.93  \n",
       "23                         Hamburg       0.94  \n",
       "24                    West Germany        0.9  \n",
       "25                          German       0.88  \n",
       "26          Mecklenburg-Vorpommern       0.88  \n",
       "27                       Bundestag       0.87  \n",
       "28      Christian Democratic Union       0.97  \n",
       "29                European Council       0.98  \n",
       "30                European Council       0.96  \n",
       "31      Christian Democratic Union       0.85  \n",
       "32      Christian Democratic Union       0.86  \n",
       "33                         Hamburg       0.86  \n",
       "34                    West Germany       0.94  \n",
       "35                          Gdańsk       0.95  \n",
       "36                    West Germany        0.9  \n",
       "37                         Hamburg       0.92  \n",
       "38                          Gdańsk       0.94  \n",
       "39                          Polish       0.91  \n",
       "40                      Margarethe       0.97  \n",
       "41                   Ludwik Kasner       0.97  \n",
       "42                   Ludwik Kasner       0.96  \n",
       "43                          German       0.88  \n",
       "44            Karl Marx University       0.95  \n",
       "45            Karl Marx University       0.96  \n",
       "46                    Moritzbastei       0.89  \n",
       "47          Mecklenburg-Vorpommern       0.87  \n",
       "48  Environment and Nuclear Safety       0.92  \n",
       "49      Christian Democratic Union       0.88  \n",
       "50      Christian Democratic Union       0.95  \n",
       "51      Christian Democratic Union       0.96  \n",
       "52      Christian Democratic Union       0.95  \n",
       "53      Christian Democratic Union        0.9  \n",
       "54                         Germany       0.93  \n",
       "55                       Bundestag       0.97  \n",
       "56                          Syrian       0.88  \n",
       "57                          German       0.89  \n",
       "58                          Europe       0.87  "
      ]
     },
     "execution_count": 6,
     "metadata": {},
     "output_type": "execute_result"
    }
   ],
   "source": [
    "MERGED_DF\n"
   ]
  },
  {
   "cell_type": "code",
   "execution_count": 23,
   "metadata": {
    "ExecuteTime": {
     "end_time": "2019-04-02T17:08:03.590046Z",
     "start_time": "2019-04-02T17:08:03.537069Z"
    }
   },
   "outputs": [],
   "source": [
    "main_df = MERGED_DF.drop('Confidence',axis=1)\n",
    "main_df = main_df.groupby(['Subject','Relationship','Object']).size().to_frame('c').reset_index()\n",
    "main_df = pd.merge(main_df, MERGED_DF)\n",
    "main_df.Confidence = main_df.Confidence.astype(float).fillna(0.0)\n",
    "main_df['Object'] = main_df.apply(lambda main_df: main_df['Object']+':'+str(main_df['c']), axis=1) \n",
    "main_df = main_df.drop('c',axis=1)\n",
    "main_df = main_df.groupby(['Subject','Relationship','Object']).mean().reset_index()\n",
    "main_df = add_dummy(main_df, query=query)\n",
    "main_df = count_confidence(main_df)"
   ]
  },
  {
   "cell_type": "code",
   "execution_count": null,
   "metadata": {
    "ExecuteTime": {
     "end_time": "2019-04-02T17:08:46.083173Z",
     "start_time": "2019-04-02T17:08:46.075197Z"
    }
   },
   "outputs": [],
   "source": []
  },
  {
   "cell_type": "code",
   "execution_count": null,
   "metadata": {},
   "outputs": [],
   "source": []
  },
  {
   "cell_type": "code",
   "execution_count": null,
   "metadata": {},
   "outputs": [],
   "source": []
  },
  {
   "cell_type": "code",
   "execution_count": null,
   "metadata": {},
   "outputs": [],
   "source": []
  },
  {
   "cell_type": "code",
   "execution_count": null,
   "metadata": {},
   "outputs": [],
   "source": []
  },
  {
   "cell_type": "code",
   "execution_count": null,
   "metadata": {
    "ExecuteTime": {
     "end_time": "2019-04-01T01:59:56.229902Z",
     "start_time": "2019-04-01T01:59:03.561292Z"
    }
   },
   "outputs": [],
   "source": [
    "for query in queries:\n",
    "    # Scraping News Links & Headlines\n",
    "    headline_dict = load_headline_dict(query)\n",
    "    print(len(headline_dict))\n",
    "    \n",
    "    # Shuffling and taking atleast 100 articles with some extractions\n",
    "    shuffled_list = random.sample(headline_dict.items(), len(headline_dict.items()))\n",
    "    useful100 = load_useful100(query)\n",
    "    lock = Lock()\n",
    "    DFs = []\n",
    "    start = 0\n",
    "    \n",
    "    if len(useful100.items()) >= 100:\n",
    "        shuffled_list = random.sample(useful100.items(), len(useful100.items()))\n",
    "        \n",
    "    try:\n",
    "        path = \"data/dumps/web_reality-{}-{}.pkl\".format(N,query)\n",
    "        fh = open(path, 'rb')\n",
    "        print(\"Already exists for {}\".format(query))\n",
    "        \n",
    "    except FileNotFoundError as e:\n",
    "        print(len(DFs),N, \" ---- \",start, len(shuffled_list))\n",
    "        ### Creating threads for each link\n",
    "        while len(DFs) < N  and start < len(shuffled_list):\n",
    "            pass100 = dict(shuffled_list[start:start+N])\n",
    "            threads = []\n",
    "            for headline,link in pass100.items():\n",
    "                threads.append( News(link=link, name=query, lock=lock, headline=headline) )\n",
    "\n",
    "            ### Waiting for each thread to complete\n",
    "            for t in threads:\n",
    "                try:\n",
    "                    t.join()\n",
    "                except Exception as e:\n",
    "                    pass\n",
    "\n",
    "            ### Collecting the dfs\n",
    "            for i,t in enumerate(threads):\n",
    "                headline, link, df = t.get_main_df()\n",
    "                if not df.empty:\n",
    "                    DFs.append(df)\n",
    "                    useful100[headline] = link\n",
    "\n",
    "            start = min(start+N, len(headline_dict.items()))\n",
    "            print(start)\n",
    "        \n",
    "        if len(useful100) > 0:\n",
    "            save_useful100(useful100)\n",
    "        \n",
    "        MERGED_DF = pd.concat(DFs, ignore_index=True)\n",
    "        MERGED_DF.loc[MERGED_DF['Confidence'] == '?','Confidence'] = MERGED_DF['Confidence'].apply(lambda x: round(np.random.uniform(0.85,1),2))\n",
    "        print(\"Did Confidence\")\n",
    "\n",
    "        # Finding Web and Reality\n",
    "        isPerson = False\n",
    "        main_df = MERGED_DF.drop('Confidence',axis=1)\n",
    "        main_df = main_df.groupby(['Subject','Relationship','Object']).size().to_frame('c').reset_index()\n",
    "        main_df = pd.merge(main_df, MERGED_DF)\n",
    "        main_df.Confidence = main_df.Confidence.astype(float).fillna(0.0)\n",
    "        main_df['Object'] = main_df.apply(lambda main_df: main_df['Object']+':'+str(main_df['c']), axis=1) \n",
    "        main_df = main_df.drop('c',axis=1)\n",
    "        main_df = add_dummy(main_df)\n",
    "        main_df = count_confidence(main_df)\n",
    "        print(\"Did merge\")\n",
    "\n",
    "        ###### ADDING GROUND TRUTH ######\n",
    "        main_df = u.add_ground_truth(main_df)\n",
    "\n",
    "        ###### ADDING RECALL SCORE ######\n",
    "        main_df = u.add_recall_score(main_df)\n",
    "\n",
    "        main_df.to_pickle(\"data/dumps/web_reality-{}-{}.pkl\".format(N,query))\n",
    "\n",
    "        print(\"Done for {}\".format(query))"
   ]
  },
  {
   "cell_type": "code",
   "execution_count": null,
   "metadata": {
    "ExecuteTime": {
     "end_time": "2019-04-01T02:02:09.433040Z",
     "start_time": "2019-04-01T02:01:17.689556Z"
    }
   },
   "outputs": [],
   "source": [
    "headline_dict = load_headline_dict(\"Bill Gates\")"
   ]
  },
  {
   "cell_type": "code",
   "execution_count": null,
   "metadata": {
    "ExecuteTime": {
     "end_time": "2019-04-01T02:02:09.440937Z",
     "start_time": "2019-04-01T02:02:09.435989Z"
    }
   },
   "outputs": [],
   "source": [
    "headline_dict"
   ]
  },
  {
   "cell_type": "code",
   "execution_count": null,
   "metadata": {
    "ExecuteTime": {
     "end_time": "2019-04-02T13:03:52.765942Z",
     "start_time": "2019-04-02T13:03:52.759265Z"
    }
   },
   "outputs": [],
   "source": [
    "a = [1]"
   ]
  },
  {
   "cell_type": "code",
   "execution_count": null,
   "metadata": {
    "ExecuteTime": {
     "end_time": "2019-04-02T13:03:53.538782Z",
     "start_time": "2019-04-02T13:03:53.527644Z"
    }
   },
   "outputs": [],
   "source": [
    "set(a).pop()"
   ]
  },
  {
   "cell_type": "code",
   "execution_count": null,
   "metadata": {
    "ExecuteTime": {
     "end_time": "2019-04-02T16:22:47.797959Z",
     "start_time": "2019-04-02T16:22:47.791973Z"
    }
   },
   "outputs": [],
   "source": [
    "len(load_useful100('Angela Merkel'))"
   ]
  },
  {
   "cell_type": "code",
   "execution_count": null,
   "metadata": {},
   "outputs": [],
   "source": []
  }
 ],
 "metadata": {
  "kernelspec": {
   "display_name": "Python 3",
   "language": "python",
   "name": "python3"
  },
  "language_info": {
   "codemirror_mode": {
    "name": "ipython",
    "version": 3
   },
   "file_extension": ".py",
   "mimetype": "text/x-python",
   "name": "python",
   "nbconvert_exporter": "python",
   "pygments_lexer": "ipython3",
   "version": "3.6.8"
  }
 },
 "nbformat": 4,
 "nbformat_minor": 2
}
