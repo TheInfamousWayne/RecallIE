{
 "cells": [
  {
   "cell_type": "markdown",
   "metadata": {
    "pycharm": {}
   },
   "source": [
    "### Importing Libraries"
   ]
  },
  {
   "cell_type": "code",
   "execution_count": null,
   "metadata": {
    "ExecuteTime": {
     "end_time": "2019-04-01T00:29:48.498002Z",
     "start_time": "2019-04-01T00:29:47.628296Z"
    },
    "pycharm": {}
   },
   "outputs": [],
   "source": [
    "from bs4 import BeautifulSoup\n",
    "import requests\n",
    "import time\n",
    "from random import randint\n",
    "from lxml import html\n",
    "import pandas as pd\n",
    "from datetime import date\n",
    "from selenium import webdriver\n",
    "from selenium.webdriver.chrome.options import Options"
   ]
  },
  {
   "cell_type": "markdown",
   "metadata": {
    "pycharm": {}
   },
   "source": [
    "### Utility Classes, Functions & Essential Variables"
   ]
  },
  {
   "cell_type": "code",
   "execution_count": null,
   "metadata": {
    "ExecuteTime": {
     "end_time": "2019-04-01T00:35:15.547128Z",
     "start_time": "2019-04-01T00:35:15.352572Z"
    },
    "code_folding": [
     0
    ],
    "pycharm": {}
   },
   "outputs": [],
   "source": [
    "# %load news/utils.py\n",
    "QUERY_DICT = {'Organization Founded By^-1':[\"\"\"SELECT ?item ?itemLabel WHERE {\n",
    "                                          ?item wdt:P112 wd:%s.\n",
    "                                          SERVICE wikibase:label { bd:serviceParam wikibase:language \"[AUTO_LANGUAGE],en\". }\n",
    "                                        }\"\"\"\n",
    "                                           ],\n",
    "              'Organization Founded By':[\"\"\"SELECT ?item ?itemLabel WHERE {\n",
    "                                          wd:%s wdt:P112 ?item.\n",
    "                                          SERVICE wikibase:label { bd:serviceParam wikibase:language \"[AUTO_LANGUAGE],en\". }\n",
    "                                        }\"\"\"\n",
    "                                        ],\n",
    "              'Organization Headquarters':[\"\"\"SELECT ?item ?itemLabel WHERE {\n",
    "                                          wd:%s wdt:P159 ?item.\n",
    "                                          SERVICE wikibase:label { bd:serviceParam wikibase:language \"[AUTO_LANGUAGE],en\". }\n",
    "                                        }\"\"\"\n",
    "                                          ],\n",
    "              'Organization Subsidiary Of^-1':[\"\"\"SELECT ?item ?itemLabel WHERE {\n",
    "                                          wd:%s wdt:P355 ?item.\n",
    "                                          SERVICE wikibase:label { bd:serviceParam wikibase:language \"[AUTO_LANGUAGE],en\". }\n",
    "                                        }\"\"\"\n",
    "                                              ],\n",
    "              'Organization Subsidiary Of':[\"\"\"SELECT ?item ?itemLabel WHERE {\n",
    "                                          ?item wdt:P355 wd:%s.\n",
    "                                          SERVICE wikibase:label { bd:serviceParam wikibase:language \"[AUTO_LANGUAGE],en\". }\n",
    "                                        }\"\"\"\n",
    "                                           ],\n",
    "              'Organization top employees':[\"\"\"SELECT ?item ?itemLabel WHERE {\n",
    "                                          wd:%s wdt:P169 ?item.\n",
    "                                          SERVICE wikibase:label { bd:serviceParam wikibase:language \"[AUTO_LANGUAGE],en\". }\n",
    "                                        }\"\"\", # CEO\n",
    "                                            \"\"\"SELECT ?item ?itemLabel WHERE {\n",
    "                                          wd:%s wdt:P488 ?item.\n",
    "                                          SERVICE wikibase:label { bd:serviceParam wikibase:language \"[AUTO_LANGUAGE],en\". }\n",
    "                                        }\"\"\" # Chairperson\n",
    "                                            ],\n",
    "              'Person Employee or Member of^-1':[\"\"\"SELECT ?item ?itemLabel WHERE {\n",
    "                                          ?item wdt:P108 wd:%s.\n",
    "                                          SERVICE wikibase:label { bd:serviceParam wikibase:language \"[AUTO_LANGUAGE],en\". }\n",
    "                                        }\"\"\",\n",
    "                                            \"\"\"SELECT ?item ?itemLabel WHERE {\n",
    "                                          wd:%s wdt:P527 ?item.\n",
    "                                          SERVICE wikibase:label { bd:serviceParam wikibase:language \"[AUTO_LANGUAGE],en\". }\n",
    "                                        }\"\"\" \n",
    "                                                ],\n",
    "              'Person Employee or Member of':[\"\"\"SELECT ?item ?itemLabel WHERE {\n",
    "                                              wd:%s wdt:P108 ?item.\n",
    "                                              SERVICE wikibase:label { bd:serviceParam wikibase:language \"[AUTO_LANGUAGE],en\". }\n",
    "                                            }\"\"\",\n",
    "                                              \"\"\"SELECT ?item ?itemLabel WHERE {\n",
    "                                              wd:%s wdt:P463 ?item.\n",
    "                                              SERVICE wikibase:label { bd:serviceParam wikibase:language \"[AUTO_LANGUAGE],en\". }\n",
    "                                            }\"\"\"## member of ---> Band Members\n",
    "                                            ],\n",
    "              'Person Place of Birth':[\"\"\"SELECT ?item ?itemLabel WHERE {\n",
    "                                              wd:%s wdt:P19 ?item.\n",
    "                                              SERVICE wikibase:label { bd:serviceParam wikibase:language \"[AUTO_LANGUAGE],en\". }\n",
    "                                            }\"\"\"\n",
    "                                      ],\n",
    "              'Person Current and Past Location of Residence':[\"\"\"SELECT ?item ?itemLabel WHERE {\n",
    "                                              wd:%s wdt:P551 ?item.\n",
    "                                              SERVICE wikibase:label { bd:serviceParam wikibase:language \"[AUTO_LANGUAGE],en\". }\n",
    "                                            }\"\"\"\n",
    "                                                              ],\n",
    "              'Person Parents':[\"\"\"SELECT ?item ?itemLabel WHERE {\n",
    "                                              wd:%s wdt:P22 ?item.\n",
    "                                              SERVICE wikibase:label { bd:serviceParam wikibase:language \"[AUTO_LANGUAGE],en\". }\n",
    "                                            }\"\"\", #Father\n",
    "                                \"\"\"SELECT ?item ?itemLabel WHERE {\n",
    "                                              wd:%s wdt:P25 ?item.\n",
    "                                              SERVICE wikibase:label { bd:serviceParam wikibase:language \"[AUTO_LANGUAGE],en\". }\n",
    "                                            }\"\"\", #Mother\n",
    "                                \"\"\"SELECT ?item ?itemLabel WHERE {\n",
    "                                              wd:%s wdt:P1038 ?item.\n",
    "                                              SERVICE wikibase:label { bd:serviceParam wikibase:language \"[AUTO_LANGUAGE],en\". }\n",
    "                                            }\"\"\" #Relative (Adopted Parents?)\n",
    "                                # Shall we include stepparents??\n",
    "                               ],\n",
    "              'Person Parents^-1':[\"\"\"SELECT ?item ?itemLabel WHERE {\n",
    "                                              wd:%s wdt:P40 ?item.\n",
    "                                              SERVICE wikibase:label { bd:serviceParam wikibase:language \"[AUTO_LANGUAGE],en\". }\n",
    "                                            }\"\"\"\n",
    "                                  ],\n",
    "              'Person Siblings':[\"\"\"SELECT ?item ?itemLabel WHERE {\n",
    "                                              wd:%s wdt:P3373 ?item.\n",
    "                                              SERVICE wikibase:label { bd:serviceParam wikibase:language \"[AUTO_LANGUAGE],en\". }\n",
    "                                            }\"\"\"\n",
    "                                ],\n",
    "              'Person Spouse':[\"\"\"SELECT ?item ?itemLabel WHERE {\n",
    "                                              wd:%s wdt:P26 ?item.\n",
    "                                              SERVICE wikibase:label { bd:serviceParam wikibase:language \"[AUTO_LANGUAGE],en\". }\n",
    "                                            }\"\"\"\n",
    "                              ],\n",
    "              'Citizen of':[\"\"\"SELECT ?item ?itemLabel WHERE {\n",
    "                                              wd:%s wdt:P27 ?item.\n",
    "                                              SERVICE wikibase:label { bd:serviceParam wikibase:language \"[AUTO_LANGUAGE],en\". }\n",
    "                                            }\"\"\"\n",
    "                           ],\n",
    "              'Educated at':[\"\"\"SELECT ?item ?itemLabel WHERE {\n",
    "                                              wd:%s wdt:P69 ?item.\n",
    "                                              SERVICE wikibase:label { bd:serviceParam wikibase:language \"[AUTO_LANGUAGE],en\". }\n",
    "                                            }\"\"\"\n",
    "                            ]\n",
    "             }\n",
    "\n",
    "\n",
    "\n",
    "PERSON_RELATIONS = ['Educated at', 'Citizen of', 'Person Employee or Member of', 'Organization top employees^-1',\\\n",
    "                    'Person Current and Past Location of Residence', 'Person Parents', 'Person Parents^-1',\\\n",
    "                    'Person Place of Birth', 'Person Siblings', 'Person Spouse']\n",
    "ORG_RELATION =     ['Organization Founded By', 'Organization Collaboration', 'Organization Collaboration^-1',\\\n",
    "                    'Organization Headquarters', 'Organization Subsidiary Of', 'Organization Subsidiary Of^-1',\\\n",
    "                    'Organization top employees', 'Person Employee or Member of^-1', 'Organization Acquired By^-1',\\\n",
    "                    'Organization Acquired By', 'Organization Provider To', 'Organization Provider To^-1']\n",
    "COMMON_RELATION =  ['Organization Founded By^-1']\n",
    "\n",
    "\n",
    "\n",
    "\n",
    "from SPARQLWrapper import SPARQLWrapper, JSON   \n",
    "from rosette.api import API, DocumentParameters, RosetteException\n",
    "import pandas as pd\n",
    "import wikipedia\n",
    "import requests\n",
    "import numpy as np\n",
    "import pickle\n",
    "import random\n",
    "from threading import Lock\n",
    "import os, sys\n",
    "import threading\n",
    "from threading import Thread\n",
    "import queue\n",
    "from bs4 import BeautifulSoup\n",
    "from random import randint\n",
    "from lxml import html\n",
    "from datetime import date\n",
    "from selenium import webdriver\n",
    "from selenium.webdriver.chrome.options import Options\n",
    "\n",
    "\n",
    "def count_confidence(main_df):\n",
    "\t    if (not main_df.empty):\n",
    "\t        main_df = main_df.sort_values('Object', ascending=True).drop_duplicates().groupby(['Subject','Relationship']).agg(lambda x: list(x))\n",
    "\t        main_df['Object'] = main_df['Object'].agg(lambda x: x if x != [''] else [])\n",
    "\t        main_df['Count'] = main_df['Object'].apply(lambda x: len(x))\n",
    "\t        #main_df = main_df[[c for c in main_df if c not in ['Confidence']] + ['Confidence']]\n",
    "\t    return main_df\n",
    "\n",
    "def load_useful100(query):\n",
    "    path = 'data/dumps/{}_useful100.pkl'.format(query)\n",
    "    try:\n",
    "        with open(path, 'rb') as fp:\n",
    "            useful100 = pickle.load(fp)\n",
    "    except:\n",
    "        print (\"No file exists. Creating a new one.\")\n",
    "        useful100 = {}\n",
    "    return useful100\n",
    "\n",
    "\n",
    "def load_headline_dict(query):\n",
    "    path = 'data/dumps/{}_headline_dict.pkl'.format(query)\n",
    "    headline_dict = {}\n",
    "    try:\n",
    "        with open(path, 'rb') as fp:\n",
    "            headline_dict = pickle.load(fp)\n",
    "    except:\n",
    "        print (\"Creating a new Dictionary\")\n",
    "        headline_dict = {}\n",
    "    return headline_dict\n",
    "\n",
    "def get_news(link):\n",
    "    ### Setting up API ###\n",
    "    options = Options()\n",
    "    options.binary_location = \"C:\\\\Program Files (x86)\\\\Google\\\\Chrome\\\\Application\\\\chrome.exe\"\n",
    "    options.add_argument('--headless')\n",
    "    options.add_argument('--window-size=1200x600')\n",
    "    options.add_argument('--no-sandbox')\n",
    "    options.add_argument('--disable-dev-shm-usage')\n",
    "    options.add_argument('--disable-gpu')\n",
    "\n",
    "    chromedriver = 'C:\\\\Users\\\\Bhavya\\\\Desktop\\\\Vaibhav\\\\chromedriver.exe'\n",
    "    r = webdriver.Chrome(executable_path=chromedriver, options=options)\n",
    "\n",
    "    ### Scraping From URL ###\n",
    "    r.get(link)\n",
    "    doc_summary = []\n",
    "    soup = BeautifulSoup(r.page_source, 'lxml')\n",
    "    all_paragraphs = soup.findAll(\"p\")\n",
    "    for paragraph in all_paragraphs:\n",
    "        doc_summary.append(paragraph.text)\n",
    "    doc_summary = \" \".join(doc_summary)\n",
    "    doc_summary = \" \".join(doc_summary.split())\n",
    "    return doc_summary\n",
    "\n",
    "class Utils:\n",
    "    \n",
    "    def __init__(self):\n",
    "        self.id_dict = {}\n",
    "        self.lock = Lock()\n",
    "        self.load_dict()\n",
    "        \n",
    "    \n",
    "    def __del__(self):\n",
    "        self.save_dict()\n",
    "\n",
    "    def get_id(self, message, dict_to_use=None):\n",
    "#         if dict_to_use:\n",
    "#             dict_to_use = dict_to_use\n",
    "#         else:\n",
    "#             global id_dict\n",
    "#             dict_to_use = id_dict\n",
    "    \n",
    "        if message in self.id_dict:\n",
    "            return self.id_dict[message]\n",
    "        else:\n",
    "            API_ENDPOINT = \"https://www.wikidata.org/w/api.php\"\n",
    "            query = message\n",
    "            params = {\n",
    "                'action': 'wbsearchentities',\n",
    "                'format': 'json',\n",
    "                'language': 'en',\n",
    "                'search': query\n",
    "            }\n",
    "            r = requests.get(API_ENDPOINT, params = params)\n",
    "            try:\n",
    "                with self.lock:\n",
    "                    self.id_dict[message] = r.json()['search'][0]['id']\n",
    "                return self.id_dict[message]\n",
    "            except Exception:\n",
    "                return -1 #The id doesn't exist\n",
    "\n",
    "\n",
    "    def id_to_name(self, eid):\n",
    "#         if dict_to_use:\n",
    "#             dict_to_use = dict_to_use\n",
    "#         else:\n",
    "#             global id_dict\n",
    "#             dict_to_use = id_dict\n",
    "\n",
    "        if eid in self.id_dict.values():\n",
    "            return [key for key, value in self.id_dict.items() if value == eid][0]\n",
    "        else:\n",
    "            API_ENDPOINT = \"https://www.wikidata.org/w/api.php\"\n",
    "            query = eid\n",
    "            params = {\n",
    "                'action': 'wbsearchentities',\n",
    "                'format': 'json',\n",
    "                'language': 'en',\n",
    "                'search': query\n",
    "            }\n",
    "            r = requests.get(API_ENDPOINT, params = params)\n",
    "            try:\n",
    "                with self.lock:\n",
    "                    self.id_dict[ r.json()['search'][0]['label'] ] = r.json()['search'][0]['id']\n",
    "                return r.json()['search'][0]['label']\n",
    "            except Exception:\n",
    "                return -1 #The id doesn't exist\n",
    "\n",
    "\n",
    "    def get_results(self, query, value, endpoint_url=\"https://query.wikidata.org/sparql\"):\n",
    "        sparql = SPARQLWrapper(endpoint_url)\n",
    "        sparql.setQuery(query%value)\n",
    "        sparql.setReturnFormat(JSON)\n",
    "        return sparql.query().convert()\n",
    "\n",
    "\n",
    "    def ground_truth(self, relation, subject, debug=False):\n",
    "        global QUERY_DICT\n",
    "        results = []\n",
    "        gt = []\n",
    "        try:\n",
    "            results = [self.get_results(query, self.get_id(subject)) for query in QUERY_DICT[relation]]\n",
    "            for result in results:\n",
    "                for r in result[\"results\"][\"bindings\"]:\n",
    "                    gt.append(r['itemLabel']['value'])\n",
    "        except:\n",
    "            if debug:\n",
    "                print (relation, subject)\n",
    "        return gt\n",
    "\n",
    "    def add_ground_truth(self, df, debug=False):\n",
    "        if df.empty:\n",
    "            return df\n",
    "        if debug:\n",
    "            print (df)\n",
    "        df = df.reset_index()\n",
    "        df['Pseudo Ground Truth'] = df.apply(lambda row: self.ground_truth(row['Relationship'], row['Subject']), axis=1)\n",
    "        df['Count_PGT'] = df['Pseudo Ground Truth'].apply(lambda x: len(x))\n",
    "        df = df.set_index(['Subject','Relationship'])\n",
    "        return df\n",
    "\n",
    "    def add_recall_score(self, df):\n",
    "        df['Recall Prediction'] = np.random.randint(0, 100, df.shape[0])/100\n",
    "        return df\n",
    "\n",
    "\n",
    "    def load_dict(self):\n",
    "        try:\n",
    "            with open('data/dumps/id_dict.pkl', 'rb') as fp:\n",
    "                self.id_dict = pickle.load(fp)\n",
    "        except:\n",
    "            print (\"Creating a new Dictionary\")\n",
    "            self.id_dict = {}\n",
    "\n",
    "\n",
    "    def save_dict(self):\n",
    "        with self.lock:\n",
    "            old_dict = self.get_dict()\n",
    "            self.id_dict = {**self.id_dict, **old_dict}\n",
    "            with open('data/dumps/id_dict.pkl', 'wb') as fp:\n",
    "                pickle.dump(self.id_dict, fp, protocol=pickle.HIGHEST_PROTOCOL)\n",
    "                print(\"Saved\")\n",
    "\n",
    "\n",
    "    def get_dict(self):\n",
    "        di = {}\n",
    "        with open('data/dumps/id_dict.pkl', 'rb') as fp:\n",
    "            di = pickle.load(fp)\n",
    "        return di\n",
    "\n",
    "\n",
    "    def Analyse(self, message, doc=None, lock=None, alt_url='https://api.rosette.com/rest/v1/'):\n",
    "        \"\"\" Run the example \"\"\"\n",
    "        # Create an API instance\n",
    "        api = API(user_key=\"969b3593686184bb42803d8da453f119\", service_url=alt_url)\n",
    "\n",
    "        # Set selected API options.\n",
    "        # For more information on the functionality of these\n",
    "        # and other available options, see Rosette Features & Functions\n",
    "        # https://developer.rosette.com/features-and-functions#morphological-analysis-introduction\n",
    "\n",
    "        # api.set_option('modelType','perceptron') #Valid for Chinese and Japanese only\n",
    "\n",
    "        # Opening the ID Dictionary\n",
    "#         load_dict()\n",
    "        ### Will Close after Analysis of the document is completed\n",
    "    \n",
    "        if lock == None:\n",
    "            lock = Lock()\n",
    "\n",
    "        params = DocumentParameters()\n",
    "        if doc:\n",
    "            relationships_text_data = doc[:20000]\n",
    "        else:\n",
    "            relationships_text_data = wikipedia.page(message).content[:20000]\n",
    "        params[\"content\"] = relationships_text_data\n",
    "        rel = []\n",
    "        message_id = self.get_id(message)\n",
    "        message_split = message.split(\" \")\n",
    "        try:\n",
    "            with lock:\n",
    "                RESULT = api.relationships(params)\n",
    "            \n",
    "            for r in RESULT['relationships']:\n",
    "                arg2_split = r['arg2'].split(\" \")\n",
    "                confidence = '?'\n",
    "                if \"confidence\" in r:\n",
    "                    confidence = str(round(r[\"confidence\"],2))\n",
    "                if any(s in arg2_split for s in message_split):\n",
    "                    if self.get_id(r['arg2']) == message_id:\n",
    "                        rel.append({'Relationship':r['predicate']+'^-1', 'Subject':r['arg2'], 'Object':r['arg1'], 'Confidence': confidence})\n",
    "                rel.append({'Relationship':r['predicate'],'Subject':r['arg1'],'Object':r['arg2'], 'Confidence': confidence})\n",
    "\n",
    "            ## Closing the ID Dict\n",
    "            self.save_dict()\n",
    "            ##\n",
    "            return rel, message_id\n",
    "        except RosetteException as exception:\n",
    "            print(exception)\n",
    "\n",
    "\n",
    "\n",
    "class News(Thread):\n",
    "    def __init__(self, lock=None, link=None, name=None, shared_df=None, headline=None):\n",
    "        Thread.__init__(self)\n",
    "        self.df = pd.DataFrame()\n",
    "        self.main_df = pd.DataFrame()\n",
    "        self.u = Utils()\n",
    "        self.headline = headline\n",
    "        self.lock = lock\n",
    "        self.link = link\n",
    "        self.eid = self.u.get_id(name)\n",
    "        self.doc = \"\"\n",
    "        self.message = name\n",
    "        self.start()\n",
    "        \n",
    "        \n",
    "    def run(self):\n",
    "        a = Thread(target = self.get_link_text, args = ())\n",
    "        a.start()\n",
    "        a.join()\n",
    "\n",
    "        \n",
    "    def get_link_text(self):\n",
    "        r = requests.get(self.link)\n",
    "        content = r.text\n",
    "        doc_summary = []\n",
    "        soup = BeautifulSoup(content, \"html.parser\")\n",
    "        paras = soup.findAll(\"p\")\n",
    "        for p in paras:\n",
    "            doc_summary.append(p.text)\n",
    "        s = \" \".join(doc_summary)\n",
    "        s = \" \".join(s.split())\n",
    "        self.doc = s\n",
    "        ## Analysing the link text\n",
    "        res,_ = self.u.Analyse(message=self.message, doc=self.doc, lock=self.lock)\n",
    "        self.df = pd.DataFrame(res, columns=['Subject','Relationship','Object','Confidence'])\n",
    "        self.main_df = self.df[self.df['Subject'].apply(lambda row: self.u.get_id(row)) == self.eid]\n",
    "        self.main_df['Subject'] = self.message\n",
    "    \n",
    "    def get_df(self):\n",
    "        return self.df\n",
    "    \n",
    "    def get_main_df(self):\n",
    "        return self.headline, self.link, self.main_df"
   ]
  },
  {
   "cell_type": "code",
   "execution_count": null,
   "metadata": {},
   "outputs": [],
   "source": [
    "queries = ['Angela Merkel', 'Donald Trump', 'Ivanka', 'Bill Gates']#, 'Brad Pitt', 'Christopher Nolan', 'Christian Bale', 'Megan Fox', 'Steve Jobs', 'Hillary Clinton', 'Gerhard Weikum']"
   ]
  },
  {
   "cell_type": "code",
   "execution_count": null,
   "metadata": {
    "ExecuteTime": {
     "end_time": "2019-03-31T21:41:20.580336Z",
     "start_time": "2019-03-31T21:41:20.572359Z"
    },
    "pycharm": {}
   },
   "outputs": [],
   "source": [
    "query = \"Donald Trump\"\n",
    "N = 100\n",
    "u = Utils()"
   ]
  },
  {
   "cell_type": "markdown",
   "metadata": {
    "pycharm": {}
   },
   "source": [
    "### Extracting All Headlines"
   ]
  },
  {
   "cell_type": "code",
   "execution_count": null,
   "metadata": {
    "ExecuteTime": {
     "end_time": "2019-03-31T21:41:23.061641Z",
     "start_time": "2019-03-31T21:41:23.050672Z"
    },
    "pycharm": {}
   },
   "outputs": [],
   "source": [
    "def make_headline_dict(query):\n",
    "    ### Getting Custom Date Range ###\n",
    "#     try:\n",
    "#         d1,m1,y1 = input(\"Enter Start Date (dd/mm/yyyy) :\").split('/')\n",
    "#     except:\n",
    "#         y1,m1,d1 = ('2014','01','01')\n",
    "#     try:\n",
    "#         d2,m2,y2 = input(\"Enter End Date (dd/mm/yyyy) :\").split('/')\n",
    "#     except:\n",
    "#         y2,m2,d2 = str(date.today()).split('-')\n",
    "    y1,m1,d1 = ('2014','01','01')\n",
    "    y2,m2,d2 = str(date.today()).split('-')\n",
    "    \n",
    "    ### Setting up API ###\n",
    "    headline_list = []\n",
    "    headline_dict = {}\n",
    "\n",
    "    options = Options()\n",
    "    options.binary_location = \"C:\\\\Program Files (x86)\\\\Google\\\\Chrome\\\\Application\\\\chrome.exe\"\n",
    "    options.add_argument('--headless')\n",
    "    options.add_argument('--window-size=1200x600')\n",
    "    options.add_argument('--no-sandbox')\n",
    "    options.add_argument('--disable-dev-shm-usage')\n",
    "    options.add_argument('--disable-gpu')\n",
    "\n",
    "    chromedriver = 'C:\\\\Users\\\\Bhavya\\\\Desktop\\\\Vaibhav\\\\chromedriver.exe'\n",
    "    r = webdriver.Chrome(executable_path=chromedriver, options=options)\n",
    "\n",
    "    ### Scraping From Google ###\n",
    "    final_date = date(int(y2),int(m2),int(d2))\n",
    "    while True:\n",
    "        dd = int(d1)\n",
    "        mm = int(m1) \n",
    "        yy = int(y1) + mm//12\n",
    "        mm = mm % 12 + 1    \n",
    "\n",
    "        temp_date = date(yy,mm,dd)   \n",
    "        if temp_date > final_date:\n",
    "            break  \n",
    "\n",
    "        r.get(\"https://www.google.com/search?q={}&hl=en-US&gl=US&source=lnt&tbs=cdr%3A1%2Ccd_min%3A{}%2F{}%2F{}%2Ccd_max%3A{}%2F{}%2F{}&tbm=nws\".format(\\\n",
    "                            query,m1,d1,y1,mm,dd,yy))\n",
    "        soup = BeautifulSoup(r.page_source, 'lxml')\n",
    "        all_headlines = soup.findAll(\"h3\")\n",
    "        for headline in all_headlines:\n",
    "            headline_list.append(headline.text)\n",
    "            headline_dict[headline.text] = headline.a['href']        \n",
    "        d1,m1,y1 = dd,mm,yy\n",
    "    \n",
    "    ### Saving the file ###\n",
    "    save_headline_dict(headline_dict)"
   ]
  },
  {
   "cell_type": "code",
   "execution_count": null,
   "metadata": {
    "ExecuteTime": {
     "end_time": "2019-03-31T21:41:24.109440Z",
     "start_time": "2019-03-31T21:41:24.094480Z"
    },
    "pycharm": {}
   },
   "outputs": [],
   "source": [
    "def save_headline_dict(headline_dict):\n",
    "    path = 'data/dumps/{}_headline_dict.pkl'.format(query)\n",
    "    with open(path, 'wb') as fp:\n",
    "        pickle.dump(headline_dict, fp, protocol=pickle.HIGHEST_PROTOCOL)\n",
    "        print(\"headline_dict saved!\")\n",
    "        \n",
    "def load_headline_dict(query):\n",
    "    path = 'data/dumps/{}_headline_dict.pkl'.format(query)\n",
    "    headline_dict = {}\n",
    "    try:\n",
    "        with open(path, 'rb') as fp:\n",
    "            headline_dict = pickle.load(fp)\n",
    "    except:\n",
    "        print (\"Creating a new Dictionary\")\n",
    "        headline_dict = {}\n",
    "    return headline_dict\n",
    "\n",
    "def save_useful100(useful100):\n",
    "    path = 'data/dumps/{}_useful100.pkl'.format(query)\n",
    "    with open(path, 'wb') as fp:\n",
    "        pickle.dump(useful100, fp, protocol=pickle.HIGHEST_PROTOCOL)\n",
    "        print(\"100 useful headlines for query {} is saved!\".format(query))\n",
    "        \n",
    "def load_useful100(query):\n",
    "    path = 'data/dumps/{}_useful100.pkl'.format(query)\n",
    "    try:\n",
    "        with open(path, 'rb') as fp:\n",
    "            useful100 = pickle.load(fp)\n",
    "    except:\n",
    "        print (\"No file exists. Creating a new one.\")\n",
    "        useful100 = {}\n",
    "    return useful100"
   ]
  },
  {
   "cell_type": "code",
   "execution_count": null,
   "metadata": {
    "ExecuteTime": {
     "end_time": "2019-03-28T04:26:40.198122Z",
     "start_time": "2019-03-28T04:25:58.367211Z"
    },
    "pycharm": {}
   },
   "outputs": [],
   "source": [
    "make_headline_dict(query)"
   ]
  },
  {
   "cell_type": "code",
   "execution_count": null,
   "metadata": {
    "ExecuteTime": {
     "end_time": "2019-03-31T21:41:26.030964Z",
     "start_time": "2019-03-31T21:41:26.024981Z"
    },
    "pycharm": {}
   },
   "outputs": [],
   "source": [
    "headline_dict = load_headline_dict(query)"
   ]
  },
  {
   "cell_type": "code",
   "execution_count": null,
   "metadata": {
    "pycharm": {}
   },
   "outputs": [],
   "source": []
  },
  {
   "cell_type": "code",
   "execution_count": null,
   "metadata": {
    "ExecuteTime": {
     "end_time": "2019-03-31T21:23:29.518360Z",
     "start_time": "2019-03-31T21:23:29.513371Z"
    },
    "pycharm": {}
   },
   "outputs": [],
   "source": [
    "\n"
   ]
  },
  {
   "cell_type": "code",
   "execution_count": null,
   "metadata": {
    "ExecuteTime": {
     "end_time": "2019-03-31T21:41:27.330474Z",
     "start_time": "2019-03-31T21:41:27.315515Z"
    },
    "code_folding": [],
    "pycharm": {}
   },
   "outputs": [],
   "source": [
    "class News(Thread):\n",
    "    def __init__(self, lock=None, link=None, name=None, shared_df=None, headline=None):\n",
    "        Thread.__init__(self)\n",
    "        self.df = pd.DataFrame()\n",
    "        self.main_df = pd.DataFrame()\n",
    "        self.u = Utils()\n",
    "        self.headline = headline\n",
    "        self.lock = lock\n",
    "        self.link = link\n",
    "        self.eid = self.u.get_id(name)\n",
    "        self.doc = \"\"\n",
    "        self.message = name\n",
    "        self.start()\n",
    "        \n",
    "        \n",
    "    def run(self):\n",
    "        a = Thread(target = self.get_link_text, args = ())\n",
    "        a.start()\n",
    "        a.join()\n",
    "\n",
    "        \n",
    "    def get_link_text(self):\n",
    "        r = requests.get(self.link)\n",
    "        content = r.text\n",
    "        doc_summary = []\n",
    "        soup = BeautifulSoup(content, \"html.parser\")\n",
    "        paras = soup.findAll(\"p\")\n",
    "        for p in paras:\n",
    "            doc_summary.append(p.text)\n",
    "        s = \" \".join(doc_summary)\n",
    "        s = \" \".join(s.split())\n",
    "        self.doc = s\n",
    "        ## Analysing the link text\n",
    "        res,_ = self.u.Analyse(message=self.message, doc=self.doc, lock=self.lock)\n",
    "        self.df = pd.DataFrame(res, columns=['Subject','Relationship','Object','Confidence'])\n",
    "        self.main_df = self.df[self.df['Subject'].apply(lambda row: self.u.get_id(row)) == self.eid]\n",
    "        self.main_df['Subject'] = self.message\n",
    "    \n",
    "    def get_df(self):\n",
    "        return self.df\n",
    "    \n",
    "    def get_main_df(self):\n",
    "        return self.headline, self.link, self.main_df"
   ]
  },
  {
   "cell_type": "code",
   "execution_count": null,
   "metadata": {},
   "outputs": [],
   "source": []
  },
  {
   "cell_type": "code",
   "execution_count": null,
   "metadata": {},
   "outputs": [],
   "source": []
  },
  {
   "cell_type": "code",
   "execution_count": null,
   "metadata": {
    "pycharm": {}
   },
   "outputs": [],
   "source": []
  },
  {
   "cell_type": "markdown",
   "metadata": {
    "heading_collapsed": true,
    "pycharm": {}
   },
   "source": [
    "#### Check Later"
   ]
  },
  {
   "cell_type": "code",
   "execution_count": null,
   "metadata": {
    "ExecuteTime": {
     "end_time": "2019-03-28T01:22:15.857233Z",
     "start_time": "2019-03-28T01:22:15.851249Z"
    },
    "hidden": true,
    "pycharm": {}
   },
   "outputs": [],
   "source": [
    "def get_news(link):\n",
    "    ### Setting up API ###\n",
    "    options = Options()\n",
    "    options.binary_location = \"C:\\\\Program Files (x86)\\\\Google\\\\Chrome\\\\Application\\\\chrome.exe\"\n",
    "    options.add_argument('--headless')\n",
    "    options.add_argument('--window-size=1200x600')\n",
    "    options.add_argument('--no-sandbox')\n",
    "    options.add_argument('--disable-dev-shm-usage')\n",
    "    options.add_argument('--disable-gpu')\n",
    "\n",
    "    chromedriver = 'C:\\\\Users\\\\Bhavya\\\\Desktop\\\\Vaibhav\\\\chromedriver.exe'\n",
    "    r = webdriver.Chrome(executable_path=chromedriver, options=options)\n",
    "\n",
    "    ### Scraping From URL ###\n",
    "    r.get(link)\n",
    "    doc_summary = []\n",
    "    soup = BeautifulSoup(r.page_source, 'lxml')\n",
    "    all_paragraphs = soup.findAll(\"p\")\n",
    "    for paragraph in all_paragraphs:\n",
    "        doc_summary.append(paragraph.text)\n",
    "    doc_summary = \" \".join(doc_summary)\n",
    "    doc_summary = \" \".join(doc_summary.split())\n",
    "    return doc_summary"
   ]
  },
  {
   "cell_type": "code",
   "execution_count": null,
   "metadata": {
    "hidden": true,
    "pycharm": {}
   },
   "outputs": [],
   "source": []
  },
  {
   "cell_type": "code",
   "execution_count": null,
   "metadata": {
    "ExecuteTime": {
     "end_time": "2019-03-28T01:22:38.160305Z",
     "start_time": "2019-03-28T01:22:30.206916Z"
    },
    "hidden": true,
    "pycharm": {}
   },
   "outputs": [],
   "source": [
    "get_news(link)"
   ]
  },
  {
   "cell_type": "code",
   "execution_count": null,
   "metadata": {
    "hidden": true,
    "pycharm": {}
   },
   "outputs": [],
   "source": []
  },
  {
   "cell_type": "code",
   "execution_count": null,
   "metadata": {
    "hidden": true,
    "pycharm": {}
   },
   "outputs": [],
   "source": []
  },
  {
   "cell_type": "code",
   "execution_count": null,
   "metadata": {
    "hidden": true,
    "pycharm": {}
   },
   "outputs": [],
   "source": []
  },
  {
   "cell_type": "code",
   "execution_count": null,
   "metadata": {
    "hidden": true,
    "pycharm": {}
   },
   "outputs": [],
   "source": []
  },
  {
   "cell_type": "code",
   "execution_count": null,
   "metadata": {
    "hidden": true,
    "pycharm": {}
   },
   "outputs": [],
   "source": []
  },
  {
   "cell_type": "code",
   "execution_count": null,
   "metadata": {
    "hidden": true,
    "pycharm": {}
   },
   "outputs": [],
   "source": []
  },
  {
   "cell_type": "code",
   "execution_count": null,
   "metadata": {
    "hidden": true,
    "pycharm": {}
   },
   "outputs": [],
   "source": []
  },
  {
   "cell_type": "code",
   "execution_count": null,
   "metadata": {
    "hidden": true,
    "pycharm": {}
   },
   "outputs": [],
   "source": []
  },
  {
   "cell_type": "code",
   "execution_count": null,
   "metadata": {
    "hidden": true,
    "pycharm": {}
   },
   "outputs": [],
   "source": []
  },
  {
   "cell_type": "markdown",
   "metadata": {
    "heading_collapsed": true,
    "pycharm": {}
   },
   "source": [
    "### Others"
   ]
  },
  {
   "cell_type": "raw",
   "metadata": {
    "ExecuteTime": {
     "end_time": "2019-03-15T16:47:19.471698Z",
     "start_time": "2019-03-15T16:47:17.850464Z"
    },
    "hidden": true,
    "pycharm": {}
   },
   "source": [
    "r = requests.get(\"https://news.google.com/search?q=\" + query + \"&hl=en-US&gl=US&ceid=US:en\")\n",
    "content = r.text\n",
    "\n",
    "news_summaries = []\n",
    "headline_link = {}\n",
    "soup = BeautifulSoup(content, \"html.parser\")\n",
    "\n",
    "# st_divs = soup.findAll(\"div\", {\"class\": \"xrnccd\"}) ---> each indivisual news card is within this div & class\n",
    "headlines = soup.findAll(\"h4\")\n",
    "for headline in headlines:\n",
    "    news_summaries.append(headline.text)\n",
    "    headline_link[headline.text] = \"https://news.google.com\" + headline.a['href'][1:]\n",
    "\n",
    "total_docs = min(100, len(news_summaries))\n",
    "print(len(news_summaries))"
   ]
  },
  {
   "cell_type": "code",
   "execution_count": null,
   "metadata": {
    "ExecuteTime": {
     "end_time": "2019-03-24T18:15:09.601493Z",
     "start_time": "2019-03-24T18:15:09.597501Z"
    },
    "hidden": true,
    "pycharm": {}
   },
   "outputs": [],
   "source": [
    "link = list(headline_link.values())[1]\n",
    "link"
   ]
  },
  {
   "cell_type": "code",
   "execution_count": null,
   "metadata": {
    "ExecuteTime": {
     "end_time": "2019-03-28T01:21:32.379999Z",
     "start_time": "2019-03-28T01:21:31.448991Z"
    },
    "hidden": true,
    "pycharm": {}
   },
   "outputs": [],
   "source": [
    "r = requests.get(link)\n",
    "content = r.text\n",
    "doc_summary = []\n",
    "soup = BeautifulSoup(content, \"html.parser\")\n",
    "paras = soup.findAll(\"p\")\n",
    "for p in paras:\n",
    "    doc_summary.append(p.text)\n",
    "s = \" \".join(doc_summary)\n",
    "s = \" \".join(s.split())"
   ]
  },
  {
   "cell_type": "code",
   "execution_count": null,
   "metadata": {
    "ExecuteTime": {
     "end_time": "2019-03-28T01:21:33.841001Z",
     "start_time": "2019-03-28T01:21:33.836609Z"
    },
    "hidden": true,
    "pycharm": {}
   },
   "outputs": [],
   "source": [
    "s"
   ]
  },
  {
   "cell_type": "code",
   "execution_count": null,
   "metadata": {
    "hidden": true,
    "pycharm": {}
   },
   "outputs": [],
   "source": [
    "u = Utils()\n",
    "class News(Thread):\n",
    "    def __init__(self, lock=None, link=None, name=None, shared_df=None):\n",
    "        Thread.__init__(self)\n",
    "        self.df = pd.DataFrame()\n",
    "        self.main_df = pd.DataFrame()\n",
    "        self.u = Utils()\n",
    "        self.lock = lock\n",
    "        self.link = link\n",
    "        self.eid = self.u.get_id(name)\n",
    "        self.doc = \"\"\n",
    "        self.message = name\n",
    "        self.start()\n",
    "        \n",
    "        \n",
    "    def run(self):\n",
    "        a = Thread(target = self.get_link_text, args = ())\n",
    "        a.start()\n",
    "        a.join()\n",
    "\n",
    "        \n",
    "    def get_link_text(self):\n",
    "        r = requests.get(self.link)\n",
    "        content = r.text\n",
    "        doc_summary = []\n",
    "        soup = BeautifulSoup(content, \"html.parser\")\n",
    "        paras = soup.findAll(\"p\")\n",
    "        for p in paras:\n",
    "            doc_summary.append(p.text)\n",
    "        s = \" \".join(doc_summary)\n",
    "        s = \" \".join(s.split())\n",
    "        self.doc = s\n",
    "        ## Analysing the link text\n",
    "        res,_ = self.u.Analyse(message=self.message, doc=self.doc, lock=self.lock)\n",
    "        self.df = pd.DataFrame(res, columns=['Subject','Relationship','Object','Confidence'])\n",
    "        self.main_df = self.df[self.df['Subject'].apply(lambda row: self.u.get_id(row)) == self.eid]\n",
    "        self.main_df['Subject'] = self.message\n",
    "    \n",
    "    def get_df(self):\n",
    "        return self.df\n",
    "    \n",
    "    def get_main_df(self):\n",
    "        return self.main_df"
   ]
  },
  {
   "cell_type": "code",
   "execution_count": null,
   "metadata": {
    "hidden": true,
    "pycharm": {}
   },
   "outputs": [],
   "source": []
  },
  {
   "cell_type": "code",
   "execution_count": null,
   "metadata": {
    "hidden": true,
    "pycharm": {}
   },
   "outputs": [],
   "source": []
  },
  {
   "cell_type": "code",
   "execution_count": null,
   "metadata": {
    "hidden": true,
    "pycharm": {}
   },
   "outputs": [],
   "source": []
  },
  {
   "cell_type": "markdown",
   "metadata": {
    "pycharm": {}
   },
   "source": [
    "# Preprocess"
   ]
  },
  {
   "cell_type": "markdown",
   "metadata": {
    "pycharm": {}
   },
   "source": [
    "### Exploring TopN Headlines"
   ]
  },
  {
   "cell_type": "code",
   "execution_count": null,
   "metadata": {
    "ExecuteTime": {
     "end_time": "2019-03-31T21:43:41.861261Z",
     "start_time": "2019-03-31T21:42:39.425776Z"
    },
    "pycharm": {}
   },
   "outputs": [],
   "source": [
    "shuffled_list = random.sample(headline_dict.items(), len(headline_dict.items()))\n",
    "useful100 = load_useful100(query)\n",
    "lock = Lock()\n",
    "DFs = []\n",
    "start = 0\n",
    "\n",
    "### Creating threads for each link\n",
    "while len(useful100.items()) < N :\n",
    "    pass100 = dict(shuffled_list[start:start+N])\n",
    "    threads = []\n",
    "    for headline,link in pass100.items():\n",
    "        threads.append( News(link=link, name=query, lock=lock, headline=headline) )\n",
    "   \n",
    "    ### Waiting for each thread to complete\n",
    "    for t in threads:\n",
    "        try:\n",
    "            t.join()\n",
    "        except Exception as e:\n",
    "            pass\n",
    "\n",
    "    ### Collecting the dfs\n",
    "    for i,t in enumerate(threads):\n",
    "        headline, link, df = t.get_main_df()\n",
    "        if not df.empty:\n",
    "            DFs.append(df)\n",
    "            useful100[headline] = link\n",
    "    \n",
    "    start = min(start+N, len(headline_dict.items()))\n",
    "\n",
    "save_useful100(useful100)\n",
    "MERGED_DF = pd.concat(DFs, ignore_index=True)\n",
    "MERGED_DF.loc[MERGED_DF['Confidence'] == '?','Confidence'] = MERGED_DF['Confidence'].apply(lambda x: round(np.random.uniform(0.85,1),2))"
   ]
  },
  {
   "cell_type": "markdown",
   "metadata": {
    "pycharm": {}
   },
   "source": [
    "### Adding Dummy Relations"
   ]
  },
  {
   "cell_type": "code",
   "execution_count": null,
   "metadata": {
    "ExecuteTime": {
     "end_time": "2019-03-31T21:44:29.095480Z",
     "start_time": "2019-03-31T21:44:29.079513Z"
    },
    "pycharm": {}
   },
   "outputs": [],
   "source": [
    "PERSON_RELATIONS = ['Educated at', 'Citizen of', 'Person Employee or Member of', 'Organization top employees^-1',\\\n",
    "                    'Person Current and Past Location of Residence', 'Person Parents', 'Person Parents^-1',\\\n",
    "                    'Person Place of Birth', 'Person Siblings', 'Person Spouse']\n",
    "ORG_RELATION =     ['Organization Founded By', 'Organization Collaboration', 'Organization Collaboration^-1',\\\n",
    "                    'Organization Headquarters', 'Organization Subsidiary Of', 'Organization Subsidiary Of^-1',\\\n",
    "                    'Organization top employees', 'Person Employee or Member of^-1', 'Organization Acquired By^-1',\\\n",
    "                    'Organization Acquired By', 'Organization Provider To', 'Organization Provider To^-1']\n",
    "COMMON_RELATION =  ['Organization Founded By^-1']\n",
    "\n",
    "isPerson = False\n",
    "\n",
    "def add_dummy(df, person=False):\n",
    "    global isPerson\n",
    "    rel = set(df['Relationship'])\n",
    "    if person:\n",
    "        isPerson = person\n",
    "    else:\n",
    "        isPerson = True if any(s in PERSON_RELATIONS for s in rel) else False\n",
    "    if isPerson:\n",
    "        dummy_rels = COMMON_RELATION + PERSON_RELATIONS\n",
    "    else:\n",
    "        dummy_rels = COMMON_RELATION + ORG_RELATION\n",
    "    for r in rel:\n",
    "        dummy_rels.remove(r)\n",
    "    for r in dummy_rels:\n",
    "        df = df.append({'Subject': query, 'Relationship':r, 'Object':''}, ignore_index=True)\n",
    "    return df\n",
    "\n",
    "def count_confidence(main_df):\n",
    "    if (not main_df.empty):\n",
    "        main_df = main_df.sort_values('Object', ascending=True).drop_duplicates().groupby(['Subject','Relationship']).agg(lambda x: list(x))\n",
    "        main_df['Object'] = main_df['Object'].agg(lambda x: x if x != [''] else [])\n",
    "        main_df['Count'] = main_df['Object'].apply(lambda x: len(x))\n",
    "        #main_df = main_df[[c for c in main_df if c not in ['Confidence']] + ['Confidence']]\n",
    "    return main_df"
   ]
  },
  {
   "cell_type": "code",
   "execution_count": null,
   "metadata": {
    "ExecuteTime": {
     "end_time": "2019-03-31T22:13:10.401504Z",
     "start_time": "2019-03-31T22:13:10.378564Z"
    },
    "pycharm": {}
   },
   "outputs": [],
   "source": [
    "main_df = MERGED_DF.drop('Confidence',axis=1)\n",
    "main_df = main_df.groupby(['Subject','Relationship','Object']).size().to_frame('c').reset_index()\n",
    "main_df = pd.merge(main_df, MERGED_DF)\n",
    "main_df.Confidence = main_df.Confidence.astype(float).fillna(0.0)\n",
    "main_df['Object'] = main_df.apply(lambda main_df: main_df['Object']+':'+str(main_df['c']), axis=1) \n",
    "main_df = main_df.drop('c',axis=1)\n",
    "main_df = add_dummy(main_df)\n",
    "\n",
    "main_df = count_confidence(main_df)\n",
    "\n",
    "###### ADDING GROUND TRUTH ######\n",
    "main_df = u.add_ground_truth(main_df)\n",
    "\n",
    "###### ADDING RECALL SCORE ######\n",
    "main_df = u.add_recall_score(main_df)\n",
    "\n",
    "# main_df.to_pickle(\"data/dumps/web_reality-{}-{}.pkl\".format(N,query))\n",
    "main_df"
   ]
  },
  {
   "cell_type": "code",
   "execution_count": null,
   "metadata": {
    "ExecuteTime": {
     "end_time": "2019-03-31T22:27:25.015847Z",
     "start_time": "2019-03-31T22:27:25.011857Z"
    }
   },
   "outputs": [],
   "source": [
    "# main_df['Object'] = main_df.apply(lambda main_df: main_df['Object']+':'+str(main_df['c']), axis=1) \n",
    "# main_df = main_df.drop('c',axis=1)\n",
    "# main_df = add_dummy(main_df)\n",
    "\n",
    "# main_df = count_confidence(main_df)\n",
    "\n",
    "# ###### ADDING GROUND TRUTH ######\n",
    "# main_df = u.add_ground_truth(main_df)\n",
    "\n",
    "# ###### ADDING RECALL SCORE ######\n",
    "# main_df = u.add_recall_score(main_df)\n",
    "\n",
    "# # main_df.to_pickle(\"data/dumps/web_reality-{}-{}.pkl\".format(N,query))\n",
    "# main_df"
   ]
  },
  {
   "cell_type": "code",
   "execution_count": null,
   "metadata": {},
   "outputs": [],
   "source": []
  },
  {
   "cell_type": "code",
   "execution_count": null,
   "metadata": {},
   "outputs": [],
   "source": []
  },
  {
   "cell_type": "code",
   "execution_count": null,
   "metadata": {},
   "outputs": [],
   "source": []
  },
  {
   "cell_type": "code",
   "execution_count": null,
   "metadata": {},
   "outputs": [],
   "source": []
  },
  {
   "cell_type": "code",
   "execution_count": null,
   "metadata": {},
   "outputs": [],
   "source": []
  },
  {
   "cell_type": "code",
   "execution_count": null,
   "metadata": {},
   "outputs": [],
   "source": []
  },
  {
   "cell_type": "code",
   "execution_count": null,
   "metadata": {},
   "outputs": [],
   "source": []
  },
  {
   "cell_type": "code",
   "execution_count": null,
   "metadata": {
    "ExecuteTime": {
     "end_time": "2019-03-31T23:20:41.877446Z",
     "start_time": "2019-03-31T23:20:41.857529Z"
    }
   },
   "outputs": [],
   "source": [
    "web.join(reality)"
   ]
  },
  {
   "cell_type": "code",
   "execution_count": null,
   "metadata": {},
   "outputs": [],
   "source": []
  },
  {
   "cell_type": "code",
   "execution_count": null,
   "metadata": {},
   "outputs": [],
   "source": []
  },
  {
   "cell_type": "markdown",
   "metadata": {
    "pycharm": {}
   },
   "source": [
    "# Menu-Driven"
   ]
  },
  {
   "cell_type": "code",
   "execution_count": 4,
   "metadata": {
    "ExecuteTime": {
     "end_time": "2019-04-23T10:34:02.147028Z",
     "start_time": "2019-04-23T10:34:02.138987Z"
    }
   },
   "outputs": [],
   "source": [
    "from news.utils import *\n"
   ]
  },
  {
   "cell_type": "code",
   "execution_count": 5,
   "metadata": {
    "ExecuteTime": {
     "end_time": "2019-04-23T10:34:02.601431Z",
     "start_time": "2019-04-23T10:34:02.595400Z"
    }
   },
   "outputs": [],
   "source": [
    "query = 'Angela Merkel'"
   ]
  },
  {
   "cell_type": "markdown",
   "metadata": {
    "pycharm": {}
   },
   "source": [
    "### Web & Reality"
   ]
  },
  {
   "cell_type": "code",
   "execution_count": 6,
   "metadata": {
    "ExecuteTime": {
     "end_time": "2019-04-23T10:34:03.204472Z",
     "start_time": "2019-04-23T10:34:03.183275Z"
    },
    "pycharm": {}
   },
   "outputs": [],
   "source": [
    "main_df = pd.read_pickle(\"data/dumps/web_reality-{}-{}.pkl\".format(100,query))\n",
    "web = main_df[['Object','Count']]\n",
    "web = web.rename(index=str, columns={\"Object\": \"Web\", \"Count\": \"Web_Count\"})\n",
    "reality = main_df[['Pseudo Ground Truth', 'Count_PGT']]"
   ]
  },
  {
   "cell_type": "markdown",
   "metadata": {
    "pycharm": {}
   },
   "source": [
    "### Doc Comparison"
   ]
  },
  {
   "cell_type": "code",
   "execution_count": 56,
   "metadata": {
    "ExecuteTime": {
     "end_time": "2019-04-23T10:54:07.180430Z",
     "start_time": "2019-04-23T10:54:03.034331Z"
    },
    "collapsed": true,
    "pycharm": {}
   },
   "outputs": [
    {
     "name": "stdout",
     "output_type": "stream",
     "text": [
      "*******  MAIN-MENU  *******\n",
      "Saved\n",
      "Saved\n"
     ]
    },
    {
     "name": "stderr",
     "output_type": "stream",
     "text": [
      "C:\\Users\\Bhavya\\Desktop\\Vaibhav\\Django-projects\\recallie_web\\news\\utils.py:579: SettingWithCopyWarning: \n",
      "A value is trying to be set on a copy of a slice from a DataFrame.\n",
      "Try using .loc[row_indexer,col_indexer] = value instead\n",
      "\n",
      "See the caveats in the documentation: http://pandas.pydata.org/pandas-docs/stable/indexing.html#indexing-view-versus-copy\n",
      "  self.main_df['Subject'] = self.message\n",
      "C:\\Users\\Bhavya\\Anaconda3\\lib\\site-packages\\pandas\\core\\indexing.py:190: SettingWithCopyWarning: \n",
      "A value is trying to be set on a copy of a slice from a DataFrame\n",
      "\n",
      "See the caveats in the documentation: http://pandas.pydata.org/pandas-docs/stable/indexing.html#indexing-view-versus-copy\n",
      "  self._setitem_with_indexer(indexer, value)\n",
      "C:\\Users\\Bhavya\\Anaconda3\\lib\\site-packages\\ipykernel_launcher.py:17: SettingWithCopyWarning: \n",
      "A value is trying to be set on a copy of a slice from a DataFrame\n",
      "\n",
      "See the caveats in the documentation: http://pandas.pydata.org/pandas-docs/stable/indexing.html#indexing-view-versus-copy\n",
      "C:\\Users\\Bhavya\\Anaconda3\\lib\\site-packages\\pandas\\core\\generic.py:5096: SettingWithCopyWarning: \n",
      "A value is trying to be set on a copy of a slice from a DataFrame.\n",
      "Try using .loc[row_indexer,col_indexer] = value instead\n",
      "\n",
      "See the caveats in the documentation: http://pandas.pydata.org/pandas-docs/stable/indexing.html#indexing-view-versus-copy\n",
      "  self[name] = value\n"
     ]
    },
    {
     "data": {
      "text/html": [
       "<div>\n",
       "<style scoped>\n",
       "    .dataframe tbody tr th:only-of-type {\n",
       "        vertical-align: middle;\n",
       "    }\n",
       "\n",
       "    .dataframe tbody tr th {\n",
       "        vertical-align: top;\n",
       "    }\n",
       "\n",
       "    .dataframe thead th {\n",
       "        text-align: right;\n",
       "    }\n",
       "</style>\n",
       "<table border=\"1\" class=\"dataframe\">\n",
       "  <thead>\n",
       "    <tr style=\"text-align: right;\">\n",
       "      <th></th>\n",
       "      <th></th>\n",
       "      <th>Object</th>\n",
       "      <th>Confidence</th>\n",
       "      <th>Count</th>\n",
       "      <th>Web</th>\n",
       "      <th>Web_Count</th>\n",
       "      <th>Pseudo Ground Truth</th>\n",
       "      <th>Count_PGT</th>\n",
       "    </tr>\n",
       "    <tr>\n",
       "      <th>Subject</th>\n",
       "      <th>Relationship</th>\n",
       "      <th></th>\n",
       "      <th></th>\n",
       "      <th></th>\n",
       "      <th></th>\n",
       "      <th></th>\n",
       "      <th></th>\n",
       "      <th></th>\n",
       "    </tr>\n",
       "  </thead>\n",
       "  <tbody>\n",
       "    <tr>\n",
       "      <th rowspan=\"11\" valign=\"top\">Angela Merkel</th>\n",
       "      <th>Citizen of</th>\n",
       "      <td>[German, German, Serbian]</td>\n",
       "      <td>[0.93, 0.88, 0.94]</td>\n",
       "      <td>3</td>\n",
       "      <td>[Africa:1, American:3, Auckland:2, Austrian:1, British:3, Chinese:2, Europe:7, European Union:1, European unity:1, European:19, German:137, Germans:8, Germany:12, Greek:1, Min Read NEUSTRELITZ, Germany:1, Moscow:1, Palestinian:2, Polish:7, Qatar:8, Russia:1, Russian:4, Serbian:1, Sky Tower:1, Syria:1, Syrian:6, Syrians:1, Turkish:5, Ukraine:1, West Germany:1, West:1]</td>\n",
       "      <td>30</td>\n",
       "      <td>[Germany]</td>\n",
       "      <td>1</td>\n",
       "    </tr>\n",
       "    <tr>\n",
       "      <th>Educated at</th>\n",
       "      <td>[]</td>\n",
       "      <td>[nan]</td>\n",
       "      <td>0</td>\n",
       "      <td>[Amazon Services LLC Associates Program:1, BBC:3, Bavarian Christian Social Democratic:1, Christian Democrat Students:1, Christian Democratic Union:3, Christian Democrats:1, European Central Bank:1, Greens:1, IMF:1, Karl Marx University:12, Moritzbastei:6, NATO:1, NSA:1, Social Democrats:1, TCD:1, University of Leipzig:1, Vanity Fair:1, Wembley:2, communist:1]</td>\n",
       "      <td>19</td>\n",
       "      <td>[German Academy of Sciences at Berlin, Leipzig University, Q56230681, Q56230686]</td>\n",
       "      <td>4</td>\n",
       "    </tr>\n",
       "    <tr>\n",
       "      <th>Organization Founded By^-1</th>\n",
       "      <td>[]</td>\n",
       "      <td>[nan]</td>\n",
       "      <td>0</td>\n",
       "      <td>[Stasi:1]</td>\n",
       "      <td>1</td>\n",
       "      <td>[Q1371235]</td>\n",
       "      <td>1</td>\n",
       "    </tr>\n",
       "    <tr>\n",
       "      <th>Organization top employees^-1</th>\n",
       "      <td>[]</td>\n",
       "      <td>[nan]</td>\n",
       "      <td>0</td>\n",
       "      <td>[CDU:3, Christian Democratic Union:20, Conservative:1, European Council:7, Fine Gael:1, Getty Images:2, Greens Party:1, International Monetary Fund:1, National Front:1, Reuters:3, SPD:1, Social Democrat:1, Social Democratic Party:1, Social Democrats:3, U of T News:1, Volkswagen:1, cabinet:1, parliament:1]</td>\n",
       "      <td>18</td>\n",
       "      <td>[]</td>\n",
       "      <td>0</td>\n",
       "    </tr>\n",
       "    <tr>\n",
       "      <th>Person Current and Past Location of Residence</th>\n",
       "      <td>[]</td>\n",
       "      <td>[nan]</td>\n",
       "      <td>0</td>\n",
       "      <td>[Auckland:1, EU:1, East Germany:3, Europe:1, European Union:1, German Democratic Republic:1, Greece:1, Hamburg:2, U.S.:2, West Germany:2]</td>\n",
       "      <td>10</td>\n",
       "      <td>[Berlin, Hamburg, Leipzig, Templin, Quitzow]</td>\n",
       "      <td>5</td>\n",
       "    </tr>\n",
       "    <tr>\n",
       "      <th>Person Employee or Member of</th>\n",
       "      <td>[]</td>\n",
       "      <td>[nan]</td>\n",
       "      <td>0</td>\n",
       "      <td>[BND:1, Bundestag:13, CDU:5, Christian Democratic Union:34, Christian Democrats:1, Communist East:1, Conservative:1, Deutsche Welle:1, Environment and Nuclear Safety:6, European Central Bank:1, European Council:7, Fine Gael:1, Getty Images:2, Government House:1, Greens Party:1, International Monetary Fund:1, Mecklenburg-Vorpommern:12, Minister of State for Finance:1, National Front:1, Nazi:1, Reading University:1, Reuters:3, SPD:1, Social Democrat:1, Social Democratic Party:1, Social Democrats:4, Socialist:1, Time magazine:3, U of T News:1, Volkswagen:1, Wagner Festival:1, cabinet:2, parliament:1]</td>\n",
       "      <td>33</td>\n",
       "      <td>[Christian Democratic Union, Free German Youth, Democratic Awakening, Atlantik-Brücke, Rotary Club]</td>\n",
       "      <td>5</td>\n",
       "    </tr>\n",
       "    <tr>\n",
       "      <th>Person Parents</th>\n",
       "      <td>[]</td>\n",
       "      <td>[nan]</td>\n",
       "      <td>0</td>\n",
       "      <td>[Horst Kasner:2]</td>\n",
       "      <td>1</td>\n",
       "      <td>[Horst Kasner, Herlind Kasner]</td>\n",
       "      <td>2</td>\n",
       "    </tr>\n",
       "    <tr>\n",
       "      <th>Person Parents^-1</th>\n",
       "      <td>[]</td>\n",
       "      <td>[nan]</td>\n",
       "      <td>0</td>\n",
       "      <td>[]</td>\n",
       "      <td>0</td>\n",
       "      <td>[]</td>\n",
       "      <td>0</td>\n",
       "    </tr>\n",
       "    <tr>\n",
       "      <th>Person Place of Birth</th>\n",
       "      <td>[]</td>\n",
       "      <td>[nan]</td>\n",
       "      <td>0</td>\n",
       "      <td>[East Germany:1, Gdańsk:12, Hamburg:22, West German:2, West Germany:20]</td>\n",
       "      <td>5</td>\n",
       "      <td>[Hamburg]</td>\n",
       "      <td>1</td>\n",
       "    </tr>\n",
       "    <tr>\n",
       "      <th>Person Siblings</th>\n",
       "      <td>[]</td>\n",
       "      <td>[nan]</td>\n",
       "      <td>0</td>\n",
       "      <td>[]</td>\n",
       "      <td>0</td>\n",
       "      <td>[Marcus Kasner, Irene Kasner]</td>\n",
       "      <td>2</td>\n",
       "    </tr>\n",
       "    <tr>\n",
       "      <th>Person Spouse</th>\n",
       "      <td>[]</td>\n",
       "      <td>[nan]</td>\n",
       "      <td>0</td>\n",
       "      <td>[Joachim Sauer:3]</td>\n",
       "      <td>1</td>\n",
       "      <td>[Joachim Sauer]</td>\n",
       "      <td>1</td>\n",
       "    </tr>\n",
       "  </tbody>\n",
       "</table>\n",
       "</div>"
      ],
      "text/plain": [
       "                                                                                Object  \\\n",
       "Subject       Relationship                                                               \n",
       "Angela Merkel Citizen of                                     [German, German, Serbian]   \n",
       "              Educated at                                    []                          \n",
       "              Organization Founded By^-1                     []                          \n",
       "              Organization top employees^-1                  []                          \n",
       "              Person Current and Past Location of Residence  []                          \n",
       "              Person Employee or Member of                   []                          \n",
       "              Person Parents                                 []                          \n",
       "              Person Parents^-1                              []                          \n",
       "              Person Place of Birth                          []                          \n",
       "              Person Siblings                                []                          \n",
       "              Person Spouse                                  []                          \n",
       "\n",
       "                                                                     Confidence  \\\n",
       "Subject       Relationship                                                        \n",
       "Angela Merkel Citizen of                                     [0.93, 0.88, 0.94]   \n",
       "              Educated at                                    [nan]                \n",
       "              Organization Founded By^-1                     [nan]                \n",
       "              Organization top employees^-1                  [nan]                \n",
       "              Person Current and Past Location of Residence  [nan]                \n",
       "              Person Employee or Member of                   [nan]                \n",
       "              Person Parents                                 [nan]                \n",
       "              Person Parents^-1                              [nan]                \n",
       "              Person Place of Birth                          [nan]                \n",
       "              Person Siblings                                [nan]                \n",
       "              Person Spouse                                  [nan]                \n",
       "\n",
       "                                                             Count  \\\n",
       "Subject       Relationship                                           \n",
       "Angela Merkel Citizen of                                     3       \n",
       "              Educated at                                    0       \n",
       "              Organization Founded By^-1                     0       \n",
       "              Organization top employees^-1                  0       \n",
       "              Person Current and Past Location of Residence  0       \n",
       "              Person Employee or Member of                   0       \n",
       "              Person Parents                                 0       \n",
       "              Person Parents^-1                              0       \n",
       "              Person Place of Birth                          0       \n",
       "              Person Siblings                                0       \n",
       "              Person Spouse                                  0       \n",
       "\n",
       "                                                                                                                                                                                                                                                                                                                                                                                                                                                                                                                                                                                                                                                                                      Web  \\\n",
       "Subject       Relationship                                                                                                                                                                                                                                                                                                                                                                                                                                                                                                                                                                                                                                                                  \n",
       "Angela Merkel Citizen of                                     [Africa:1, American:3, Auckland:2, Austrian:1, British:3, Chinese:2, Europe:7, European Union:1, European unity:1, European:19, German:137, Germans:8, Germany:12, Greek:1, Min Read NEUSTRELITZ, Germany:1, Moscow:1, Palestinian:2, Polish:7, Qatar:8, Russia:1, Russian:4, Serbian:1, Sky Tower:1, Syria:1, Syrian:6, Syrians:1, Turkish:5, Ukraine:1, West Germany:1, West:1]                                                                                                                                                                                                                                              \n",
       "              Educated at                                    [Amazon Services LLC Associates Program:1, BBC:3, Bavarian Christian Social Democratic:1, Christian Democrat Students:1, Christian Democratic Union:3, Christian Democrats:1, European Central Bank:1, Greens:1, IMF:1, Karl Marx University:12, Moritzbastei:6, NATO:1, NSA:1, Social Democrats:1, TCD:1, University of Leipzig:1, Vanity Fair:1, Wembley:2, communist:1]                                                                                                                                                                                                                                                     \n",
       "              Organization Founded By^-1                     [Stasi:1]                                                                                                                                                                                                                                                                                                                                                                                                                                                                                                                                                                                                                      \n",
       "              Organization top employees^-1                  [CDU:3, Christian Democratic Union:20, Conservative:1, European Council:7, Fine Gael:1, Getty Images:2, Greens Party:1, International Monetary Fund:1, National Front:1, Reuters:3, SPD:1, Social Democrat:1, Social Democratic Party:1, Social Democrats:3, U of T News:1, Volkswagen:1, cabinet:1, parliament:1]                                                                                                                                                                                                                                                                                                             \n",
       "              Person Current and Past Location of Residence  [Auckland:1, EU:1, East Germany:3, Europe:1, European Union:1, German Democratic Republic:1, Greece:1, Hamburg:2, U.S.:2, West Germany:2]                                                                                                                                                                                                                                                                                                                                                                                                                                                                                      \n",
       "              Person Employee or Member of                   [BND:1, Bundestag:13, CDU:5, Christian Democratic Union:34, Christian Democrats:1, Communist East:1, Conservative:1, Deutsche Welle:1, Environment and Nuclear Safety:6, European Central Bank:1, European Council:7, Fine Gael:1, Getty Images:2, Government House:1, Greens Party:1, International Monetary Fund:1, Mecklenburg-Vorpommern:12, Minister of State for Finance:1, National Front:1, Nazi:1, Reading University:1, Reuters:3, SPD:1, Social Democrat:1, Social Democratic Party:1, Social Democrats:4, Socialist:1, Time magazine:3, U of T News:1, Volkswagen:1, Wagner Festival:1, cabinet:2, parliament:1]   \n",
       "              Person Parents                                 [Horst Kasner:2]                                                                                                                                                                                                                                                                                                                                                                                                                                                                                                                                                                                                               \n",
       "              Person Parents^-1                              []                                                                                                                                                                                                                                                                                                                                                                                                                                                                                                                                                                                                                             \n",
       "              Person Place of Birth                          [East Germany:1, Gdańsk:12, Hamburg:22, West German:2, West Germany:20]                                                                                                                                                                                                                                                                                                                                                                                                                                                                                                                                                        \n",
       "              Person Siblings                                []                                                                                                                                                                                                                                                                                                                                                                                                                                                                                                                                                                                                                             \n",
       "              Person Spouse                                  [Joachim Sauer:3]                                                                                                                                                                                                                                                                                                                                                                                                                                                                                                                                                                                                              \n",
       "\n",
       "                                                             Web_Count  \\\n",
       "Subject       Relationship                                               \n",
       "Angela Merkel Citizen of                                     30          \n",
       "              Educated at                                    19          \n",
       "              Organization Founded By^-1                     1           \n",
       "              Organization top employees^-1                  18          \n",
       "              Person Current and Past Location of Residence  10          \n",
       "              Person Employee or Member of                   33          \n",
       "              Person Parents                                 1           \n",
       "              Person Parents^-1                              0           \n",
       "              Person Place of Birth                          5           \n",
       "              Person Siblings                                0           \n",
       "              Person Spouse                                  1           \n",
       "\n",
       "                                                                                                                                             Pseudo Ground Truth  \\\n",
       "Subject       Relationship                                                                                                                                         \n",
       "Angela Merkel Citizen of                                     [Germany]                                                                                             \n",
       "              Educated at                                    [German Academy of Sciences at Berlin, Leipzig University, Q56230681, Q56230686]                      \n",
       "              Organization Founded By^-1                     [Q1371235]                                                                                            \n",
       "              Organization top employees^-1                  []                                                                                                    \n",
       "              Person Current and Past Location of Residence  [Berlin, Hamburg, Leipzig, Templin, Quitzow]                                                          \n",
       "              Person Employee or Member of                   [Christian Democratic Union, Free German Youth, Democratic Awakening, Atlantik-Brücke, Rotary Club]   \n",
       "              Person Parents                                 [Horst Kasner, Herlind Kasner]                                                                        \n",
       "              Person Parents^-1                              []                                                                                                    \n",
       "              Person Place of Birth                          [Hamburg]                                                                                             \n",
       "              Person Siblings                                [Marcus Kasner, Irene Kasner]                                                                         \n",
       "              Person Spouse                                  [Joachim Sauer]                                                                                       \n",
       "\n",
       "                                                             Count_PGT  \n",
       "Subject       Relationship                                              \n",
       "Angela Merkel Citizen of                                     1          \n",
       "              Educated at                                    4          \n",
       "              Organization Founded By^-1                     1          \n",
       "              Organization top employees^-1                  0          \n",
       "              Person Current and Past Location of Residence  5          \n",
       "              Person Employee or Member of                   5          \n",
       "              Person Parents                                 2          \n",
       "              Person Parents^-1                              0          \n",
       "              Person Place of Birth                          1          \n",
       "              Person Siblings                                2          \n",
       "              Person Spouse                                  1          "
      ]
     },
     "execution_count": 56,
     "metadata": {},
     "output_type": "execute_result"
    }
   ],
   "source": [
    "## Displaying News Headines\n",
    "print('*******  MAIN-MENU  *******')\n",
    "useful100 = load_useful100(query)\n",
    "N = len(useful100.items())\n",
    "# for i,t in enumerate(list(headline_link.keys())[:N]):\n",
    "#     print(i,\": \",t)\n",
    "# ch = input(\"Choose an option \")\n",
    "ch = 4\n",
    "\n",
    "lock = Lock()\n",
    "isPerson = True if ('Citizen of' in list(web.reset_index()['Relationship'])) else False\n",
    "link = list(useful100.values())[int(ch)]\n",
    "doc = News(link=link, name=query, lock=lock)\n",
    "doc.join()\n",
    "_,_,df = doc.get_main_df()\n",
    "\n",
    "df.loc[df['Confidence'] == '?','Confidence'] = df['Confidence'].apply(lambda x: round(np.random.uniform(0.85,1),2))\n",
    "df.Confidence = df.Confidence.astype(float).fillna(0.0)\n",
    "\n",
    "with open('data/dumps/temp_df.pkl', 'wb') as fp:\n",
    "    pickle.dump(df, fp, protocol=pickle.HIGHEST_PROTOCOL)\n",
    "\n",
    "web_reality = web.join(reality)\n",
    "\n",
    "df = add_dummy(df, query=query)\n",
    "df = count_confidence(df)\n",
    "df = df.join(web_reality)\n",
    "\n",
    "with open('data/dumps/temp_initial_df.pkl', 'wb') as fp:\n",
    "    pickle.dump(df, fp, protocol=pickle.HIGHEST_PROTOCOL)\n",
    "\n",
    "pd.set_option('display.max_colwidth', -1)\n",
    "df"
   ]
  },
  {
   "cell_type": "code",
   "execution_count": 57,
   "metadata": {
    "ExecuteTime": {
     "end_time": "2019-04-23T10:54:15.422187Z",
     "start_time": "2019-04-23T10:54:15.359057Z"
    }
   },
   "outputs": [],
   "source": [
    "threshold = 0.9\n",
    "\n",
    "with open('data/dumps/temp_df.pkl', 'rb') as fp:\n",
    "    df = pickle.load(fp)\n",
    "\n",
    "df.drop(df[df.Confidence < threshold].index, inplace=True)\n",
    "#df['Object'][df.Confidence < threshold] = '--removed--'\n",
    "df = add_dummy(df, query=query)\n",
    "df = count_confidence(df)\n",
    "df = df.join(web_reality, how='inner')"
   ]
  },
  {
   "cell_type": "code",
   "execution_count": 58,
   "metadata": {
    "ExecuteTime": {
     "end_time": "2019-04-23T10:54:21.583845Z",
     "start_time": "2019-04-23T10:54:21.569910Z"
    }
   },
   "outputs": [],
   "source": [
    "with open('data/dumps/temp_initial_df.pkl', 'rb') as fp:\n",
    "    initial_final_df = pickle.load(fp)"
   ]
  },
  {
   "cell_type": "code",
   "execution_count": 60,
   "metadata": {
    "ExecuteTime": {
     "end_time": "2019-04-23T10:54:43.399706Z",
     "start_time": "2019-04-23T10:54:43.385358Z"
    }
   },
   "outputs": [],
   "source": [
    "df['R_local'] = df['Confidence'].apply(lambda x: sum(x)).fillna(1) / initial_final_df['Confidence'].apply(lambda x: sum(x)).fillna(1)"
   ]
  },
  {
   "cell_type": "code",
   "execution_count": null,
   "metadata": {},
   "outputs": [],
   "source": [
    "df['R_Web'] = df.apply(r_web, axis=1)"
   ]
  },
  {
   "cell_type": "code",
   "execution_count": 87,
   "metadata": {
    "ExecuteTime": {
     "end_time": "2019-04-23T12:50:14.271192Z",
     "start_time": "2019-04-23T12:50:14.260223Z"
    },
    "collapsed": true
   },
   "outputs": [
    {
     "name": "stdout",
     "output_type": "stream",
     "text": [
      "['Africa:1', 'American:3', 'Auckland:2', 'Austrian:1', 'British:3', 'Chinese:2', 'Europe:7', 'European Union:1', 'European unity:1', 'European:19', 'German:137', 'Germans:8', 'Germany:12', 'Greek:1', 'Min Read NEUSTRELITZ, Germany:1', 'Moscow:1', 'Palestinian:2', 'Polish:7', 'Qatar:8', 'Russia:1', 'Russian:4', 'Serbian:1', 'Sky Tower:1', 'Syria:1', 'Syrian:6', 'Syrians:1', 'Turkish:5', 'Ukraine:1', 'West Germany:1', 'West:1']\n",
      "['German', 'Serbian']\n",
      "['Amazon Services LLC Associates Program:1', 'BBC:3', 'Bavarian Christian Social Democratic:1', 'Christian Democrat Students:1', 'Christian Democratic Union:3', 'Christian Democrats:1', 'European Central Bank:1', 'Greens:1', 'IMF:1', 'Karl Marx University:12', 'Moritzbastei:6', 'NATO:1', 'NSA:1', 'Social Democrats:1', 'TCD:1', 'University of Leipzig:1', 'Vanity Fair:1', 'Wembley:2', 'communist:1']\n",
      "[]\n",
      "['Stasi:1']\n",
      "[]\n",
      "['CDU:3', 'Christian Democratic Union:20', 'Conservative:1', 'European Council:7', 'Fine Gael:1', 'Getty Images:2', 'Greens Party:1', 'International Monetary Fund:1', 'National Front:1', 'Reuters:3', 'SPD:1', 'Social Democrat:1', 'Social Democratic Party:1', 'Social Democrats:3', 'U of T News:1', 'Volkswagen:1', 'cabinet:1', 'parliament:1']\n",
      "[]\n",
      "['Auckland:1', 'EU:1', 'East Germany:3', 'Europe:1', 'European Union:1', 'German Democratic Republic:1', 'Greece:1', 'Hamburg:2', 'U.S.:2', 'West Germany:2']\n",
      "[]\n",
      "['BND:1', 'Bundestag:13', 'CDU:5', 'Christian Democratic Union:34', 'Christian Democrats:1', 'Communist East:1', 'Conservative:1', 'Deutsche Welle:1', 'Environment and Nuclear Safety:6', 'European Central Bank:1', 'European Council:7', 'Fine Gael:1', 'Getty Images:2', 'Government House:1', 'Greens Party:1', 'International Monetary Fund:1', 'Mecklenburg-Vorpommern:12', 'Minister of State for Finance:1', 'National Front:1', 'Nazi:1', 'Reading University:1', 'Reuters:3', 'SPD:1', 'Social Democrat:1', 'Social Democratic Party:1', 'Social Democrats:4', 'Socialist:1', 'Time magazine:3', 'U of T News:1', 'Volkswagen:1', 'Wagner Festival:1', 'cabinet:2', 'parliament:1']\n",
      "[]\n",
      "['Horst Kasner:2']\n",
      "[]\n",
      "[]\n",
      "[]\n",
      "['East Germany:1', 'Gdańsk:12', 'Hamburg:22', 'West German:2', 'West Germany:20']\n",
      "[]\n",
      "[]\n",
      "[]\n",
      "['Joachim Sauer:3']\n",
      "[]\n"
     ]
    },
    {
     "data": {
      "text/plain": [
       "Subject        Relationship                                 \n",
       "Angela Merkel  Citizen of                                       None\n",
       "               Educated at                                      None\n",
       "               Organization Founded By^-1                       None\n",
       "               Organization top employees^-1                    None\n",
       "               Person Current and Past Location of Residence    None\n",
       "               Person Employee or Member of                     None\n",
       "               Person Parents                                   None\n",
       "               Person Parents^-1                                None\n",
       "               Person Place of Birth                            None\n",
       "               Person Siblings                                  None\n",
       "               Person Spouse                                    None\n",
       "dtype: object"
      ]
     },
     "execution_count": 87,
     "metadata": {},
     "output_type": "execute_result"
    }
   ],
   "source": [
    "df.apply(r_web, axis=1)"
   ]
  },
  {
   "cell_type": "code",
   "execution_count": 99,
   "metadata": {
    "ExecuteTime": {
     "end_time": "2019-04-23T13:02:05.839483Z",
     "start_time": "2019-04-23T13:02:05.834499Z"
    }
   },
   "outputs": [],
   "source": [
    "def remove_count(element):\n",
    "    return element.split(':')[0]\n",
    "\n",
    "def r_web(df):\n",
    "    extractions = df['Object']\n",
    "    clean_web = list(map(remove_count, df['Web']))\n",
    "    try:\n",
    "        r_web = list(set(clean_web) & set(extractions)) / len(clean_web)\n",
    "    except Exception as e:\n",
    "        r_web = 1\n",
    "    return r_web"
   ]
  },
  {
   "cell_type": "code",
   "execution_count": 90,
   "metadata": {
    "ExecuteTime": {
     "end_time": "2019-04-23T12:51:17.983396Z",
     "start_time": "2019-04-23T12:51:17.978410Z"
    }
   },
   "outputs": [],
   "source": [
    "tt = ['Africa:1', 'American:3', 'Auckland:2', 'Austrian:1', 'British:3', 'Chinese:2', 'Europe:7', 'European Union:1', 'European unity:1', 'European:19', 'German:137', 'Germans:8', 'Germany:12', 'Greek:1', 'Min Read NEUSTRELITZ, Germany:1', 'Moscow:1', 'Palestinian:2', 'Polish:7', 'Qatar:8', 'Russia:1', 'Russian:4', 'Serbian:1', 'Sky Tower:1', 'Syria:1', 'Syrian:6', 'Syrians:1', 'Turkish:5', 'Ukraine:1', 'West Germany:1', 'West:1']\n",
    "yy = ['German', 'Serbian']"
   ]
  },
  {
   "cell_type": "code",
   "execution_count": 91,
   "metadata": {
    "ExecuteTime": {
     "end_time": "2019-04-23T12:54:28.374755Z",
     "start_time": "2019-04-23T12:54:28.370764Z"
    }
   },
   "outputs": [],
   "source": []
  },
  {
   "cell_type": "code",
   "execution_count": 95,
   "metadata": {
    "ExecuteTime": {
     "end_time": "2019-04-23T12:55:58.427780Z",
     "start_time": "2019-04-23T12:55:58.423792Z"
    }
   },
   "outputs": [],
   "source": [
    "clean_list = list(map(remove_count, tt))"
   ]
  },
  {
   "cell_type": "code",
   "execution_count": 96,
   "metadata": {
    "ExecuteTime": {
     "end_time": "2019-04-23T12:56:45.568293Z",
     "start_time": "2019-04-23T12:56:45.561312Z"
    }
   },
   "outputs": [
    {
     "data": {
      "text/plain": [
       "['German', 'Serbian']"
      ]
     },
     "execution_count": 96,
     "metadata": {},
     "output_type": "execute_result"
    }
   ],
   "source": [
    "r_web = list(set(clean_list) & set(yy)) / len(clean_list)"
   ]
  },
  {
   "cell_type": "code",
   "execution_count": 98,
   "metadata": {
    "ExecuteTime": {
     "end_time": "2019-04-23T13:00:40.600634Z",
     "start_time": "2019-04-23T13:00:40.596642Z"
    }
   },
   "outputs": [
    {
     "data": {
      "text/plain": [
       "[]"
      ]
     },
     "execution_count": 98,
     "metadata": {},
     "output_type": "execute_result"
    }
   ],
   "source": [
    "list(map(remove_count, []))"
   ]
  },
  {
   "cell_type": "code",
   "execution_count": null,
   "metadata": {},
   "outputs": [],
   "source": []
  },
  {
   "cell_type": "code",
   "execution_count": null,
   "metadata": {},
   "outputs": [],
   "source": []
  },
  {
   "cell_type": "code",
   "execution_count": null,
   "metadata": {},
   "outputs": [],
   "source": []
  },
  {
   "cell_type": "markdown",
   "metadata": {
    "heading_collapsed": true,
    "pycharm": {}
   },
   "source": [
    "### Extras+"
   ]
  },
  {
   "cell_type": "code",
   "execution_count": null,
   "metadata": {
    "hidden": true,
    "pycharm": {}
   },
   "outputs": [],
   "source": [
    "message_id = u.get_id(query)\n",
    "\n",
    "for i,df in enumerate(DFs):\n",
    "    df = add_dummy(df, person=isPerson)\n",
    "    df = count_confidence(df)\n",
    "    df = df.join(web)\n",
    "    DFs[i] = df.join(reality)"
   ]
  },
  {
   "cell_type": "code",
   "execution_count": null,
   "metadata": {
    "ExecuteTime": {
     "end_time": "2019-03-15T16:12:13.811031Z",
     "start_time": "2019-03-15T16:12:13.757402Z"
    },
    "hidden": true,
    "pycharm": {}
   },
   "outputs": [],
   "source": [
    "main_df = MERGED_DF.drop('Confidence',axis=1)\n",
    "main_df = main_df.groupby(['Subject','Relationship','Object']).size().to_frame('c').reset_index()\n",
    "main_df['Object'] = main_df.apply(lambda main_df: main_df['Object']+':'+str(main_df['c']), axis=1) \n",
    "main_df = main_df.drop('c',axis=1)\n",
    "main_df = add_dummy(main_df)"
   ]
  },
  {
   "cell_type": "code",
   "execution_count": null,
   "metadata": {
    "ExecuteTime": {
     "end_time": "2019-03-15T16:12:15.975201Z",
     "start_time": "2019-03-15T16:12:15.953222Z"
    },
    "hidden": true,
    "pycharm": {}
   },
   "outputs": [],
   "source": [
    "main_df"
   ]
  },
  {
   "cell_type": "code",
   "execution_count": null,
   "metadata": {
    "hidden": true,
    "pycharm": {}
   },
   "outputs": [],
   "source": []
  }
 ],
 "metadata": {
  "kernelspec": {
   "display_name": "Python 3",
   "language": "python",
   "name": "python3"
  },
  "language_info": {
   "codemirror_mode": {
    "name": "ipython",
    "version": 3
   },
   "file_extension": ".py",
   "mimetype": "text/x-python",
   "name": "python",
   "nbconvert_exporter": "python",
   "pygments_lexer": "ipython3",
   "version": "3.6.8"
  }
 },
 "nbformat": 4,
 "nbformat_minor": 2
}
