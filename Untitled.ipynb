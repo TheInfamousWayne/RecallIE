{
 "cells": [
  {
   "cell_type": "markdown",
   "metadata": {},
   "source": [
    "### Importing Libraries"
   ]
  },
  {
   "cell_type": "code",
   "execution_count": 1,
   "metadata": {
    "ExecuteTime": {
     "end_time": "2019-03-27T12:15:39.525945Z",
     "start_time": "2019-03-27T12:15:19.010275Z"
    }
   },
   "outputs": [],
   "source": [
    "from bs4 import BeautifulSoup\n",
    "import requests\n",
    "import time\n",
    "from random import randint\n",
    "from lxml import html\n",
    "import pandas as pd\n",
    "from datetime import date\n",
    "from selenium import webdriver\n",
    "from selenium.webdriver.chrome.options import Options"
   ]
  },
  {
   "cell_type": "markdown",
   "metadata": {},
   "source": [
    "### Utility Classes, Functions & Essential Variables"
   ]
  },
  {
   "cell_type": "code",
   "execution_count": 2,
   "metadata": {
    "ExecuteTime": {
     "end_time": "2019-03-27T12:15:40.114809Z",
     "start_time": "2019-03-27T12:15:39.531933Z"
    },
    "code_folding": [
     0,
     1,
     122,
     299,
     432,
     479,
     532
    ]
   },
   "outputs": [],
   "source": [
    "# %load links/utils.py\n",
    "QUERY_DICT = {'Organization Founded By^-1':[\"\"\"SELECT ?item ?itemLabel WHERE {\n",
    "                                          ?item wdt:P112 wd:%s.\n",
    "                                          SERVICE wikibase:label { bd:serviceParam wikibase:language \"[AUTO_LANGUAGE],en\". }\n",
    "                                        }\"\"\"\n",
    "                                           ],\n",
    "              'Organization Founded By':[\"\"\"SELECT ?item ?itemLabel WHERE {\n",
    "                                          wd:%s wdt:P112 ?item.\n",
    "                                          SERVICE wikibase:label { bd:serviceParam wikibase:language \"[AUTO_LANGUAGE],en\". }\n",
    "                                        }\"\"\"\n",
    "                                        ],\n",
    "              'Organization Headquarters':[\"\"\"SELECT ?item ?itemLabel WHERE {\n",
    "                                          wd:%s wdt:P159 ?item.\n",
    "                                          SERVICE wikibase:label { bd:serviceParam wikibase:language \"[AUTO_LANGUAGE],en\". }\n",
    "                                        }\"\"\"\n",
    "                                          ],\n",
    "              'Organization Subsidiary Of^-1':[\"\"\"SELECT ?item ?itemLabel WHERE {\n",
    "                                          wd:%s wdt:P355 ?item.\n",
    "                                          SERVICE wikibase:label { bd:serviceParam wikibase:language \"[AUTO_LANGUAGE],en\". }\n",
    "                                        }\"\"\"\n",
    "                                              ],\n",
    "              'Organization Subsidiary Of':[\"\"\"SELECT ?item ?itemLabel WHERE {\n",
    "                                          ?item wdt:P355 wd:%s.\n",
    "                                          SERVICE wikibase:label { bd:serviceParam wikibase:language \"[AUTO_LANGUAGE],en\". }\n",
    "                                        }\"\"\"\n",
    "                                           ],\n",
    "              'Organization top employees':[\"\"\"SELECT ?item ?itemLabel WHERE {\n",
    "                                          wd:%s wdt:P169 ?item.\n",
    "                                          SERVICE wikibase:label { bd:serviceParam wikibase:language \"[AUTO_LANGUAGE],en\". }\n",
    "                                        }\"\"\", # CEO\n",
    "                                            \"\"\"SELECT ?item ?itemLabel WHERE {\n",
    "                                          wd:%s wdt:P488 ?item.\n",
    "                                          SERVICE wikibase:label { bd:serviceParam wikibase:language \"[AUTO_LANGUAGE],en\". }\n",
    "                                        }\"\"\" # Chairperson\n",
    "                                            ],\n",
    "              'Person Employee or Member of^-1':[\"\"\"SELECT ?item ?itemLabel WHERE {\n",
    "                                          ?item wdt:P108 wd:%s.\n",
    "                                          SERVICE wikibase:label { bd:serviceParam wikibase:language \"[AUTO_LANGUAGE],en\". }\n",
    "                                        }\"\"\",\n",
    "                                            \"\"\"SELECT ?item ?itemLabel WHERE {\n",
    "                                          wd:%s wdt:P527 ?item.\n",
    "                                          SERVICE wikibase:label { bd:serviceParam wikibase:language \"[AUTO_LANGUAGE],en\". }\n",
    "                                        }\"\"\" \n",
    "                                                ],\n",
    "              'Person Employee or Member of':[\"\"\"SELECT ?item ?itemLabel WHERE {\n",
    "                                              wd:%s wdt:P108 ?item.\n",
    "                                              SERVICE wikibase:label { bd:serviceParam wikibase:language \"[AUTO_LANGUAGE],en\". }\n",
    "                                            }\"\"\",\n",
    "                                              \"\"\"SELECT ?item ?itemLabel WHERE {\n",
    "                                              wd:%s wdt:P463 ?item.\n",
    "                                              SERVICE wikibase:label { bd:serviceParam wikibase:language \"[AUTO_LANGUAGE],en\". }\n",
    "                                            }\"\"\"## member of ---> Band Members\n",
    "                                            ],\n",
    "              'Person Place of Birth':[\"\"\"SELECT ?item ?itemLabel WHERE {\n",
    "                                              wd:%s wdt:P19 ?item.\n",
    "                                              SERVICE wikibase:label { bd:serviceParam wikibase:language \"[AUTO_LANGUAGE],en\". }\n",
    "                                            }\"\"\"\n",
    "                                      ],\n",
    "              'Person Current and Past Location of Residence':[\"\"\"SELECT ?item ?itemLabel WHERE {\n",
    "                                              wd:%s wdt:P551 ?item.\n",
    "                                              SERVICE wikibase:label { bd:serviceParam wikibase:language \"[AUTO_LANGUAGE],en\". }\n",
    "                                            }\"\"\"\n",
    "                                                              ],\n",
    "              'Person Parents':[\"\"\"SELECT ?item ?itemLabel WHERE {\n",
    "                                              wd:%s wdt:P22 ?item.\n",
    "                                              SERVICE wikibase:label { bd:serviceParam wikibase:language \"[AUTO_LANGUAGE],en\". }\n",
    "                                            }\"\"\", #Father\n",
    "                                \"\"\"SELECT ?item ?itemLabel WHERE {\n",
    "                                              wd:%s wdt:P25 ?item.\n",
    "                                              SERVICE wikibase:label { bd:serviceParam wikibase:language \"[AUTO_LANGUAGE],en\". }\n",
    "                                            }\"\"\", #Mother\n",
    "                                \"\"\"SELECT ?item ?itemLabel WHERE {\n",
    "                                              wd:%s wdt:P1038 ?item.\n",
    "                                              SERVICE wikibase:label { bd:serviceParam wikibase:language \"[AUTO_LANGUAGE],en\". }\n",
    "                                            }\"\"\" #Relative (Adopted Parents?)\n",
    "                                # Shall we include stepparents??\n",
    "                               ],\n",
    "              'Person Parents^-1':[\"\"\"SELECT ?item ?itemLabel WHERE {\n",
    "                                              wd:%s wdt:P40 ?item.\n",
    "                                              SERVICE wikibase:label { bd:serviceParam wikibase:language \"[AUTO_LANGUAGE],en\". }\n",
    "                                            }\"\"\"\n",
    "                                  ],\n",
    "              'Person Siblings':[\"\"\"SELECT ?item ?itemLabel WHERE {\n",
    "                                              wd:%s wdt:P3373 ?item.\n",
    "                                              SERVICE wikibase:label { bd:serviceParam wikibase:language \"[AUTO_LANGUAGE],en\". }\n",
    "                                            }\"\"\"\n",
    "                                ],\n",
    "              'Person Spouse':[\"\"\"SELECT ?item ?itemLabel WHERE {\n",
    "                                              wd:%s wdt:P26 ?item.\n",
    "                                              SERVICE wikibase:label { bd:serviceParam wikibase:language \"[AUTO_LANGUAGE],en\". }\n",
    "                                            }\"\"\"\n",
    "                              ],\n",
    "              'Citizen of':[\"\"\"SELECT ?item ?itemLabel WHERE {\n",
    "                                              wd:%s wdt:P27 ?item.\n",
    "                                              SERVICE wikibase:label { bd:serviceParam wikibase:language \"[AUTO_LANGUAGE],en\". }\n",
    "                                            }\"\"\"\n",
    "                           ],\n",
    "              'Educated at':[\"\"\"SELECT ?item ?itemLabel WHERE {\n",
    "                                              wd:%s wdt:P69 ?item.\n",
    "                                              SERVICE wikibase:label { bd:serviceParam wikibase:language \"[AUTO_LANGUAGE],en\". }\n",
    "                                            }\"\"\"\n",
    "                            ]\n",
    "             }\n",
    "\n",
    "\n",
    "\n",
    "\n",
    "from SPARQLWrapper import SPARQLWrapper, JSON   \n",
    "from rosette.api import API, DocumentParameters, RosetteException\n",
    "import pandas as pd\n",
    "import wikipedia\n",
    "import requests\n",
    "import numpy as np\n",
    "import pickle\n",
    "import random\n",
    "from threading import Lock\n",
    "import os, sys\n",
    "import threading\n",
    "from threading import Thread\n",
    "import time\n",
    "import queue\n",
    "\n",
    "class Utils:\n",
    "    \n",
    "    def __init__(self):\n",
    "        self.id_dict = {}\n",
    "        self.lock = Lock()\n",
    "        self.load_dict()\n",
    "        \n",
    "    \n",
    "    def __del__(self):\n",
    "        self.save_dict()\n",
    "\n",
    "    def get_id(self, message, dict_to_use=None):\n",
    "#         if dict_to_use:\n",
    "#             dict_to_use = dict_to_use\n",
    "#         else:\n",
    "#             global id_dict\n",
    "#             dict_to_use = id_dict\n",
    "    \n",
    "        if message in self.id_dict:\n",
    "            return self.id_dict[message]\n",
    "        else:\n",
    "            API_ENDPOINT = \"https://www.wikidata.org/w/api.php\"\n",
    "            query = message\n",
    "            params = {\n",
    "                'action': 'wbsearchentities',\n",
    "                'format': 'json',\n",
    "                'language': 'en',\n",
    "                'search': query\n",
    "            }\n",
    "            r = requests.get(API_ENDPOINT, params = params)\n",
    "            try:\n",
    "                with self.lock:\n",
    "                    self.id_dict[message] = r.json()['search'][0]['id']\n",
    "                return self.id_dict[message]\n",
    "            except Exception:\n",
    "                return -1 #The id doesn't exist\n",
    "\n",
    "\n",
    "    def id_to_name(self, eid):\n",
    "#         if dict_to_use:\n",
    "#             dict_to_use = dict_to_use\n",
    "#         else:\n",
    "#             global id_dict\n",
    "#             dict_to_use = id_dict\n",
    "\n",
    "        if eid in self.id_dict.values():\n",
    "            return [key for key, value in self.id_dict.items() if value == eid][0]\n",
    "        else:\n",
    "            API_ENDPOINT = \"https://www.wikidata.org/w/api.php\"\n",
    "            query = eid\n",
    "            params = {\n",
    "                'action': 'wbsearchentities',\n",
    "                'format': 'json',\n",
    "                'language': 'en',\n",
    "                'search': query\n",
    "            }\n",
    "            r = requests.get(API_ENDPOINT, params = params)\n",
    "            try:\n",
    "                with self.lock:\n",
    "                    self.id_dict[ r.json()['search'][0]['label'] ] = r.json()['search'][0]['id']\n",
    "                return r.json()['search'][0]['label']\n",
    "            except Exception:\n",
    "                return -1 #The id doesn't exist\n",
    "\n",
    "\n",
    "    def get_results(self, query, value, endpoint_url=\"https://query.wikidata.org/sparql\"):\n",
    "        sparql = SPARQLWrapper(endpoint_url)\n",
    "        sparql.setQuery(query%value)\n",
    "        sparql.setReturnFormat(JSON)\n",
    "        return sparql.query().convert()\n",
    "\n",
    "\n",
    "    def ground_truth(self, relation, subject, debug=False):\n",
    "        global QUERY_DICT\n",
    "        results = []\n",
    "        gt = []\n",
    "        try:\n",
    "            results = [self.get_results(query, self.get_id(subject)) for query in QUERY_DICT[relation]]\n",
    "            for result in results:\n",
    "                for r in result[\"results\"][\"bindings\"]:\n",
    "                    gt.append(r['itemLabel']['value'])\n",
    "        except:\n",
    "            if debug:\n",
    "                print (relation, subject)\n",
    "        return gt\n",
    "\n",
    "    def add_ground_truth(self, df, debug=False):\n",
    "        if df.empty:\n",
    "            return df\n",
    "        if debug:\n",
    "            print (df)\n",
    "        df = df.reset_index()\n",
    "        df['Pseudo Ground Truth'] = df.apply(lambda row: self.ground_truth(row['Relationship'], row['Subject']), axis=1)\n",
    "        df['Count_PGT'] = df['Pseudo Ground Truth'].apply(lambda x: len(x))\n",
    "        df = df.set_index(['Subject','Relationship'])\n",
    "        return df\n",
    "\n",
    "    def add_recall_score(self, df):\n",
    "        df['Recall Prediction'] = np.random.randint(0, 100, df.shape[0])/100\n",
    "        return df\n",
    "\n",
    "\n",
    "    def load_dict(self):\n",
    "        try:\n",
    "            with open('data/dumps/id_dict.pkl', 'rb') as fp:\n",
    "                self.id_dict = pickle.load(fp)\n",
    "        except:\n",
    "            print (\"Creating a new Dictionary\")\n",
    "            self.id_dict = {}\n",
    "\n",
    "\n",
    "    def save_dict(self):\n",
    "        with self.lock:\n",
    "            old_dict = self.get_dict()\n",
    "            self.id_dict = {**self.id_dict, **old_dict}\n",
    "            with open('data/dumps/id_dict.pkl', 'wb') as fp:\n",
    "                pickle.dump(self.id_dict, fp, protocol=pickle.HIGHEST_PROTOCOL)\n",
    "                print(\"Saved\")\n",
    "\n",
    "\n",
    "    def get_dict(self):\n",
    "        di = {}\n",
    "        with open('data/dumps/id_dict.pkl', 'rb') as fp:\n",
    "            di = pickle.load(fp)\n",
    "        return di\n",
    "\n",
    "\n",
    "    def Analyse(self, message, doc=None, lock=None, alt_url='https://api.rosette.com/rest/v1/'):\n",
    "        \"\"\" Run the example \"\"\"\n",
    "        # Create an API instance\n",
    "        api = API(user_key=\"969b3593686184bb42803d8da453f119\", service_url=alt_url)\n",
    "\n",
    "        # Set selected API options.\n",
    "        # For more information on the functionality of these\n",
    "        # and other available options, see Rosette Features & Functions\n",
    "        # https://developer.rosette.com/features-and-functions#morphological-analysis-introduction\n",
    "\n",
    "        # api.set_option('modelType','perceptron') #Valid for Chinese and Japanese only\n",
    "\n",
    "        # Opening the ID Dictionary\n",
    "#         load_dict()\n",
    "        ### Will Close after Analysis of the document is completed\n",
    "    \n",
    "        if lock == None:\n",
    "            lock = Lock()\n",
    "\n",
    "        params = DocumentParameters()\n",
    "        if doc:\n",
    "            relationships_text_data = doc[:20000]\n",
    "        else:\n",
    "            relationships_text_data = wikipedia.page(message).content[:20000]\n",
    "        params[\"content\"] = relationships_text_data\n",
    "        rel = []\n",
    "        message_id = self.get_id(message)\n",
    "        message_split = message.split(\" \")\n",
    "        try:\n",
    "            with lock:\n",
    "                RESULT = api.relationships(params)\n",
    "            \n",
    "            for r in RESULT['relationships']:\n",
    "                arg2_split = r['arg2'].split(\" \")\n",
    "                confidence = '?'\n",
    "                if \"confidence\" in r:\n",
    "                    confidence = str(round(r[\"confidence\"],2))\n",
    "                if any(s in arg2_split for s in message_split):\n",
    "                    if self.get_id(r['arg2']) == message_id:\n",
    "                        rel.append({'Relationship':r['predicate']+'^-1', 'Subject':r['arg2'], 'Object':r['arg1'], 'Confidence': confidence})\n",
    "                rel.append({'Relationship':r['predicate'],'Subject':r['arg1'],'Object':r['arg2'], 'Confidence': confidence})\n",
    "\n",
    "            ## Closing the ID Dict\n",
    "            self.save_dict()\n",
    "            ##\n",
    "            return rel, message_id\n",
    "        except RosetteException as exception:\n",
    "            print(exception)\n",
    "\n",
    "\n",
    "class HeatMaps(Thread):\n",
    "    def __init__(self, lock, relation='Educated at', eid=None, name=None, rel_dict={}):\n",
    "        Thread.__init__(self)\n",
    "        self.q1 = queue.Queue()\n",
    "        self.q2 = queue.Queue()\n",
    "        self.u = Utils()\n",
    "        self.lock = lock\n",
    "        self.rel_dict = rel_dict\n",
    "        self.eid = eid\n",
    "        self.message = name\n",
    "        self.error = None\n",
    "        self.relation = relation\n",
    "        self.inverse = True if \"^-1\" in relation else False\n",
    "        if name:\n",
    "            self.eid = self.u.get_id(name)\n",
    "        else:\n",
    "            self.message = str(self.u.id_to_name(eid))\n",
    "        self.start()\n",
    "        \n",
    "        \n",
    "    def run(self):\n",
    "        if self.eid not in self.rel_dict:\n",
    "            a = Thread(target = self.Analyse, args = ())\n",
    "            b = Thread(target = self.ground_truth, args = ())\n",
    "            a.start()\n",
    "            b.start()\n",
    "            a.join()\n",
    "            b.join()\n",
    "        self.matrix_block()\n",
    "\n",
    "\n",
    "    def Analyse(self):\n",
    "        \"\"\" Run the example \"\"\"\n",
    "        # Create an API instance\n",
    "        api = API(user_key=\"969b3593686184bb42803d8da453f119\", service_url='https://api.rosette.com/rest/v1/')\n",
    "#         u = Utils()\n",
    "        params = DocumentParameters()\n",
    "        relationships_text_data = []\n",
    "        \n",
    "        while True:\n",
    "            try:\n",
    "                relationships_text_data = wikipedia.page(self.message).content[:20000]\n",
    "                break\n",
    "            except wikipedia.DisambiguationError as e:\n",
    "                print(self.eid, self.message)\n",
    "                nameclash = True\n",
    "                for n in e.options:\n",
    "                    if self.u.get_id(n) == self.eid:\n",
    "                        if n == self.message:\n",
    "                            pass\n",
    "                        else:\n",
    "                            self.message = n\n",
    "                            nameclash = False\n",
    "                            break\n",
    "                if nameclash:\n",
    "                    self.message = \" \"\n",
    "            except wikipedia.exceptions.PageError as e:\n",
    "                self.error = self.u.id_to_name(self.eid) + \" \" + str(e)\n",
    "                print (self.error)\n",
    "                break\n",
    "            \n",
    "        \n",
    "        try:\n",
    "            params[\"content\"] = relationships_text_data\n",
    "            rel = []\n",
    "            message_id = self.u.get_id(self.message)\n",
    "            message_split = self.message.split(\" \")\n",
    "            pred_list = []\n",
    "            RESULT = []\n",
    "            with self.lock:\n",
    "                RESULT = api.relationships(params)\n",
    "            \n",
    "            args = ['arg1','arg2']\n",
    "            arg_to_split = 'arg2' if self.inverse else 'arg1'\n",
    "            args.remove(arg_to_split)\n",
    "            other_arg = args[0]\n",
    "            rel_to_compare = self.relation.split(\"^-1\")[0]\n",
    "                \n",
    "            for r in RESULT['relationships']:\n",
    "                if r['predicate'] == rel_to_compare:\n",
    "                    arg_split = r[arg_to_split].split(\" \") # Subject Split \n",
    "                    if any(s in arg_split for s in message_split): # Searching for alias names\n",
    "                        if self.u.get_id(r[arg_to_split]) == message_id:\n",
    "                            pred_list.append(r[other_arg])\n",
    "                            \n",
    "            self.q1.put(set(pred_list))\n",
    "        except RosetteException as exception:\n",
    "            print(exception)\n",
    "            self.error = exception\n",
    "            self.q1.put(set(pred_list))\n",
    "        except Exception as e:\n",
    "            print(e, self.message)\n",
    "            self.error = e\n",
    "            self.q1.put(set(pred_list))\n",
    "\n",
    "\n",
    "    def ground_truth(self):\n",
    "#         u = Utils()\n",
    "        \n",
    "        pgt = set(self.u.ground_truth(self.relation, self.message))\n",
    "        self.q2.put(pgt)\n",
    "    \n",
    "    \n",
    "    def matrix_block(self):\n",
    "        if self.eid in self.rel_dict:\n",
    "            self.pgt = self.rel_dict[self.eid]['PGT']\n",
    "            self.extracted = self.rel_dict[self.eid]['Extracted']\n",
    "            self.contained = self.rel_dict[self.eid]['Contained']\n",
    "        else:\n",
    "            q1 = self.q1.get() # Extracted from API\n",
    "            q2 = self.q2.get() # PGT\n",
    "            #print(self.message, q1)\n",
    "            #print(self.message, q2)\n",
    "            self.pgt = len(q2)\n",
    "            self.extracted = len(q1)\n",
    "            q1 = [self.u.get_id(i) for i in q1]\n",
    "            q2 = [self.u.get_id(i) for i in q2]\n",
    "            #print(self.message, q1)\n",
    "            #print(self.message, q2)\n",
    "            count = 0\n",
    "            for i in q1:\n",
    "                if i in q2:\n",
    "                    count += 1\n",
    "            self.contained = count\n",
    "\n",
    "    def get_values(self):\n",
    "        if self.error:\n",
    "            raise Exception(self.error)\n",
    "        return [self.eid, self.message, self.extracted, self.contained, self.pgt]\n",
    "    \n",
    "    \n",
    "    \n",
    "    \n",
    "class Distribution(Thread):\n",
    "    def __init__(self, eid=None, name=None, lock=None, rel_dict={}):\n",
    "        Thread.__init__(self)\n",
    "        self.doc_len = None\n",
    "        self.u = Utils()\n",
    "        self.eid = eid\n",
    "        self.message = name\n",
    "        self.error = None\n",
    "        if name:\n",
    "            self.eid = self.u.get_id(name)\n",
    "        else:\n",
    "            self.message = self.u.id_to_name(eid)\n",
    "        if eid in rel_dict:\n",
    "            self.doc_len = rel_dict[eid]['Doc_Length']\n",
    "            return\n",
    "        self.start()\n",
    "    \n",
    "    def run(self):\n",
    "        while True:\n",
    "            try:\n",
    "                document = wikipedia.page(self.message).content\n",
    "                self.doc_len = len(document)\n",
    "                break\n",
    "            except wikipedia.DisambiguationError as e:\n",
    "                print(self.eid, self.message)\n",
    "                nameclash = True\n",
    "                for n in e.options:\n",
    "                    if self.u.get_id(n) == self.eid:\n",
    "                        if n == self.message:\n",
    "                            pass\n",
    "                        else:\n",
    "                            self.message = n\n",
    "                            nameclash = False\n",
    "                            break\n",
    "                if nameclash:\n",
    "                    self.message = \" \"\n",
    "            except wikipedia.exceptions.PageError as e:\n",
    "                self.error = self.u.id_to_name(self.eid) + \" \" + str(e)\n",
    "                print (self.error)\n",
    "                break\n",
    "    \n",
    "    def get_values(self):\n",
    "        if self.error:\n",
    "            raise Exception(self.error)\n",
    "        return [self.eid, self.message, self.doc_len]\n",
    "    \n",
    "    \n",
    "class MissingExtractions(Thread):\n",
    "    def __init__(self, eid=None, name=None, relation=None, rel_dict={}):\n",
    "        Thread.__init__(self)\n",
    "        self.missing = None\n",
    "        self.u = Utils()\n",
    "        self.relation = relation\n",
    "        self.eid = eid\n",
    "        self.message = name\n",
    "        self.error = None\n",
    "        if not eid:\n",
    "            self.eid = self.u.get_id(name)\n",
    "        if not name:\n",
    "            self.message = self.u.id_to_name(eid)\n",
    "        if eid in rel_dict:\n",
    "            self.missing = rel_dict[eid]['Missing']\n",
    "            return\n",
    "        self.start()\n",
    "    \n",
    "    def run(self):\n",
    "        while True:\n",
    "            try:\n",
    "                document = wikipedia.page(self.message).content\n",
    "                pgt = set(self.u.ground_truth(self.relation, self.message))\n",
    "                count = 0\n",
    "                for item in pgt:\n",
    "                    if document.find(item) == -1:\n",
    "                        count += 1\n",
    "                self.missing = count\n",
    "                break\n",
    "            except wikipedia.DisambiguationError as e:\n",
    "                print(self.eid, self.message)\n",
    "                nameclash = True\n",
    "                for n in e.options:\n",
    "                    if self.u.get_id(n) == self.eid:\n",
    "                        if n == self.message:\n",
    "                            pass\n",
    "                        else:\n",
    "                            self.message = n\n",
    "                            nameclash = False\n",
    "                            break\n",
    "                if nameclash:\n",
    "                    self.message = \" \"\n",
    "            except wikipedia.exceptions.PageError as e:\n",
    "                self.error = self.u.id_to_name(self.eid) + \" \" + str(e)\n",
    "                print (self.error)\n",
    "                break\n",
    "    \n",
    "    def get_values(self):\n",
    "        if self.error:\n",
    "            raise Exception(self.error)\n",
    "        return [self.eid, self.message, self.missing]\n",
    "    \n",
    "\n",
    "class News(Thread):\n",
    "    def __init__(self, lock=None, link=None, name=None, shared_df=None):\n",
    "        Thread.__init__(self)\n",
    "        self.df = pd.DataFrame()\n",
    "        self.main_df = pd.DataFrame()\n",
    "        self.u = Utils()\n",
    "        self.lock = lock\n",
    "        self.link = link\n",
    "        self.eid = self.u.get_id(name)\n",
    "        self.doc = \"\"\n",
    "        self.message = name\n",
    "        self.start()\n",
    "        \n",
    "        \n",
    "    def run(self):\n",
    "        a = Thread(target = self.get_link_text, args = ())\n",
    "        a.start()\n",
    "        a.join()\n",
    "\n",
    "        \n",
    "    def get_link_text(self):\n",
    "        r = requests.get(self.link)\n",
    "        content = r.text\n",
    "        doc_summary = []\n",
    "        soup = BeautifulSoup(content, \"html.parser\")\n",
    "        paras = soup.findAll(\"p\")\n",
    "        for p in paras:\n",
    "            doc_summary.append(p.text)\n",
    "        s = \" \".join(doc_summary)\n",
    "        s = \" \".join(s.split())\n",
    "        self.doc = s\n",
    "        ## Analysing the link text\n",
    "        res,_ = self.u.Analyse(message=self.message, doc=self.doc, lock=self.lock)\n",
    "        self.df = pd.DataFrame(res, columns=['Subject','Relationship','Object','Confidence'])\n",
    "        self.main_df = self.df[self.df['Subject'].apply(lambda row: self.u.get_id(row)) == self.eid]\n",
    "        self.main_df['Subject'] = self.message\n",
    "    \n",
    "    def get_df(self):\n",
    "        return self.df\n",
    "    \n",
    "    def get_main_df(self):\n",
    "        return self.main_df"
   ]
  },
  {
   "cell_type": "code",
   "execution_count": 3,
   "metadata": {
    "ExecuteTime": {
     "end_time": "2019-03-27T12:15:40.149826Z",
     "start_time": "2019-03-27T12:15:40.117805Z"
    }
   },
   "outputs": [],
   "source": [
    "query = \"Ivanka\"\n",
    "N = 100\n",
    "u = Utils()"
   ]
  },
  {
   "cell_type": "markdown",
   "metadata": {},
   "source": [
    "### Extracting All Headlines"
   ]
  },
  {
   "cell_type": "code",
   "execution_count": 4,
   "metadata": {
    "ExecuteTime": {
     "end_time": "2019-03-27T12:15:40.175649Z",
     "start_time": "2019-03-27T12:15:40.154706Z"
    }
   },
   "outputs": [],
   "source": [
    "def make_headline_dict(query):\n",
    "    ### Getting Custom Date Range ###\n",
    "    try:\n",
    "        d1,m1,y1 = input(\"Enter Start Date (dd/mm/yyyy) :\").split('/')\n",
    "    except:\n",
    "        y1,m1,d1 = ('2014','01','01')\n",
    "    try:\n",
    "        d2,m2,y2 = input(\"Enter End Date (dd/mm/yyyy) :\").split('/')\n",
    "    except:\n",
    "        y2,m2,d2 = str(date.today()).split('-')\n",
    "\n",
    "    ### Setting up API ###\n",
    "    headline_list = []\n",
    "    headline_dict = {}\n",
    "\n",
    "    options = Options()\n",
    "    options.binary_location = \"C:\\\\Program Files (x86)\\\\Google\\\\Chrome\\\\Application\\\\chrome.exe\"\n",
    "    options.add_argument('--headless')\n",
    "    options.add_argument('--window-size=1200x600')\n",
    "    options.add_argument('--no-sandbox')\n",
    "    options.add_argument('--disable-dev-shm-usage')\n",
    "    options.add_argument('--disable-gpu')\n",
    "\n",
    "    chromedriver = 'C:\\\\Users\\\\Bhavya\\\\Desktop\\\\Vaibhav\\\\chromedriver.exe'\n",
    "    r = webdriver.Chrome(executable_path=chromedriver, options=options)\n",
    "\n",
    "    ### Scraping From Google ###\n",
    "    final_date = date(int(y2),int(m2),int(d2))\n",
    "    while True:\n",
    "        dd = int(d1)\n",
    "        mm = int(m1) \n",
    "        yy = int(y1) + mm//12\n",
    "        mm = mm % 12 + 1    \n",
    "\n",
    "        temp_date = date(yy,mm,dd)   \n",
    "        if temp_date > final_date:\n",
    "            break  \n",
    "\n",
    "        r.get(\"https://www.google.com/search?q={}&hl=en-US&gl=US&source=lnt&tbs=cdr%3A1%2Ccd_min%3A{}%2F{}%2F{}%2Ccd_max%3A{}%2F{}%2F{}&tbm=nws\".format(\\\n",
    "                            query,m1,d1,y1,mm,dd,yy))\n",
    "        soup = BeautifulSoup(r.page_source, 'lxml')\n",
    "        all_headlines = soup.findAll(\"h3\")\n",
    "        for headline in all_headlines:\n",
    "            headline_list.append(headline.text)\n",
    "            headline_dict[headline.text] = headline.a['href']        \n",
    "        d1,m1,y1 = dd,mm,yy\n",
    "    \n",
    "    ### Saving the file ###\n",
    "    save_headline_dict(headline_dict)"
   ]
  },
  {
   "cell_type": "code",
   "execution_count": 19,
   "metadata": {
    "ExecuteTime": {
     "end_time": "2019-03-28T00:48:09.024647Z",
     "start_time": "2019-03-28T00:48:08.940749Z"
    }
   },
   "outputs": [],
   "source": [
    "def save_headline_dict(headline_dict):\n",
    "    path = 'data/dumps/{}_headline_dict.pkl'.format(query)\n",
    "    with open(path, 'wb') as fp:\n",
    "        pickle.dump(headline_dict, fp, protocol=pickle.HIGHEST_PROTOCOL)\n",
    "        print(\"headline_dict saved!\")\n",
    "        \n",
    "def load_headline_dict(query):\n",
    "    path = 'data/dumps/{}_headline_dict.pkl'.format(query)\n",
    "    headline_dict = {}\n",
    "    try:\n",
    "        with open(path, 'rb') as fp:\n",
    "            headline_dict = pickle.load(fp)\n",
    "    except:\n",
    "        print (\"Creating a new Dictionary\")\n",
    "        headline_dict = {}\n",
    "    return headline_dict"
   ]
  },
  {
   "cell_type": "code",
   "execution_count": 18,
   "metadata": {
    "ExecuteTime": {
     "end_time": "2019-03-26T11:26:29.109658Z",
     "start_time": "2019-03-26T11:25:41.407619Z"
    }
   },
   "outputs": [
    {
     "name": "stdout",
     "output_type": "stream",
     "text": [
      "Enter Start Date (dd/mm/yyyy) :\n",
      "Enter End Date (dd/mm/yyyy) :\n",
      "headline_dict saved!\n"
     ]
    }
   ],
   "source": [
    "#make_headline_dict(query)"
   ]
  },
  {
   "cell_type": "code",
   "execution_count": 20,
   "metadata": {
    "ExecuteTime": {
     "end_time": "2019-03-28T00:48:10.904479Z",
     "start_time": "2019-03-28T00:48:10.812480Z"
    }
   },
   "outputs": [],
   "source": [
    "headline_dict = load_headline_dict(query)"
   ]
  },
  {
   "cell_type": "code",
   "execution_count": null,
   "metadata": {},
   "outputs": [],
   "source": []
  },
  {
   "cell_type": "code",
   "execution_count": 21,
   "metadata": {
    "ExecuteTime": {
     "end_time": "2019-03-28T00:48:11.089143Z",
     "start_time": "2019-03-28T00:48:11.027279Z"
    }
   },
   "outputs": [
    {
     "data": {
      "text/plain": [
       "{\"Ivanka Trump's Opening a Store in Trump Tower\": 'https://www.racked.com/2017/8/10/16126236/ivanka-trump-store-nyc',\n",
       " 'Ivanka Should Quit': 'https://www.politico.com/magazine/story/2018/02/26/ivanka-should-quit-217089',\n",
       " \"Ivanka Trump on the Hot Seat: Can Her Brand Survive Donald's ...\": 'https://www.thewrap.com/ivanka-trump-on-the-hot-seat-can-her-brand-survive-donalds-outrageous-brand/',\n",
       " \"'I'm so proud of her!' Ivanka Trump poses atop a mountain in Aspen ...\": 'https://www.dailymail.co.uk/femail/article-2998904/Ivanka-Trump-poses-atop-mountain-Aspen-niece-Kai-marveling-seven-year-old-s-skiing-skills.html',\n",
       " \"Was Ivanka Trump 'Complicit' in Halting Equal Pay Rule? Watchdog ...\": 'https://www.newsweek.com/ivanka-trump-complicit-equal-pay-879571',\n",
       " 'Millionaire Ivanka Trump says following these 6 negotiation rules can ...': 'https://www.businessinsider.com/ivanka-trumps-shares-top-negotiating-rules-2016-2',\n",
       " 'Ivanka Trump Faces Backlash After Posting Photo of Her Toddler Son': 'https://www.insideedition.com/ivanka-trump-faces-backlash-after-posting-photo-her-toddler-son-43686',\n",
       " \"Emails: Breitbart editor pledges to do 'dirty work' for Bannon, smears ...\": 'https://money.cnn.com/2017/08/22/media/breitbart-prank-emails/index.html',\n",
       " 'China Offers to Roll Out the Red Carpet for Ivanka and Jared': 'https://foreignpolicy.com/2017/06/21/china-offers-to-roll-out-red-carpet-for-ivanka-and-jared/',\n",
       " \"We have a few questions about Ivanka Trump's “punk phase”\": 'https://www.avclub.com/we-have-a-few-questions-about-ivanka-trumps-punk-phas-1819634700',\n",
       " 'Ivanka Trump to visit Iowa Monday to discuss workforce, infrastructure': 'https://www.desmoinesregister.com/story/news/2018/03/16/ivanka-trump-visit-iowa-monday-discuss-workforce-infrastructure/431879002/',\n",
       " \"Trump Tower-Linked Russian Pop Star Releases 'Pee Tape' Music ...\": 'https://www.thedailybeast.com/trump-tower-linked-russian-pop-star-emin-agalarov-releases-pee-tape-music-video',\n",
       " 'Ivanka Trump, Steve Mnuchin Discuss Taxes at New Hampshire Town ...': 'https://www.necn.com/news/politics/Ivanka-Trump-Steve-Mnuchin-Tax-Reform-Derry-Town-Hall-Tax-Day-479965843.html',\n",
       " 'Ivanka Trump Shares Her Most Surprising Secrets': 'https://www.harpersbazaar.com/fashion/trends/a10591/ivanka-trump-shares-her-most-surprising-secrets/',\n",
       " 'Ivanka Trump rebrands -- again': 'https://www.cnn.com/2017/10/04/politics/ivanka-trump-white-house-rebrand/index.html',\n",
       " \"Tennessee Senator Suggests Ivanka Trump for Her Father's Vice ...\": 'https://people.com/celebrity/would-donald-trump-pick-ivanka-as-vice-president-one-senator-thinks-he-should/',\n",
       " 'Trump Hotel Reflects Youthful, Luxurious Vancouver: Ivanka Trump': 'https://www.huffingtonpost.ca/2014/10/29/ivanka-trump-tower-hotel-vancouver_n_6065534.html',\n",
       " \"Ivanka Trump takes father's seat at G-20 leaders' table in break from ...\": 'https://www.washingtonpost.com/politics/ivanka-trump-takes-fathers-seat-at-g-20-leaders-table-in-break-from-diplomatic-protocol/2017/07/08/f8eabe8a-63ea-11e7-a6c7-f769fa1d5691_story.html',\n",
       " \"Ivanka Trump: My dad has 'elevated' political dialogue\": 'https://www.politico.com/story/2016/05/ivanka-trump-political-discourse-223163',\n",
       " \"Ivanka Trump's Instagram post causes stir during outcry over ...\": 'https://www.cnn.com/2017/01/30/politics/ivanka-trump-dress-instagram/index.html',\n",
       " 'Chelsea Clinton and Ivanka Trump call truce during campaign': 'https://www.nydailynews.com/entertainment/gossip/confidential/chelsea-clinton-ivanka-trump-call-truce-campaign-article-1.2490525',\n",
       " \"Samantha Bee explains exactly why she's sorry — and why she's not ...\": 'https://www.vox.com/culture/2018/6/7/17437496/samantha-bee-apology-ivanka-trump',\n",
       " 'Too Cute! Ivanka Trump Does Morning Yoga with Daughter Arabella': 'http://toofab.com/2014/04/01/ivanka-trump-daughter-arabella-yoga-photos/',\n",
       " 'Ivanka Trump Wears Metallic Pumps From Her Line To Support ...': 'https://footwearnews.com/2015/influencers/power-players/ivanka-donald-trump-saturday-night-live-snl-metallic-pumps-photos-168773/',\n",
       " 'Ivanka Trump headlines tax reform event in Bucks County': 'https://www.mcall.com/news/pennsylvania/capitol-ideas/mc-nws-ivanka-trump-bucks-county-tax-reform-20171022-story.html',\n",
       " \"Ivanka Trump's foreign manufacturing practices could be her brand's ...\": 'https://www.businessinsider.com/ivanka-trump-clothing-line-made-in-china-hong-kong-2017-2',\n",
       " 'Who are the top women in real estate?': 'http://fortune.com/2014/11/17/women-real-estate/',\n",
       " \"'The View's' Abby Huntsman Takes Victory Lap After Catching Ivanka ...\": 'https://www.thedailybeast.com/the-views-abby-huntsman-takes-victory-lap-after-catching-ivanka-trump-in-first-public-lie',\n",
       " 'Ivanka Trump Shuts Down Fashion Brand; Firm Cites Limitations From ...': 'https://www.npr.org/2018/07/24/631945025/ivanka-trump-shuts-down-fashion-brand-firm-cites-limitations-from-ethics-rules',\n",
       " \"#CONVERSATIONPIECES: Ivanka Trump on Her Father's Campaign ...\": 'https://www.harpersbazaar.com/culture/features/interviews/a13390/ivanka-trump-conversation-pieces/',\n",
       " 'Can Jared Kushner and Ivanka Trump Survive the White House?': 'https://www.vanityfair.com/news/2017/01/can-jared-kusher-ivanka-trump-survive-the-white-house',\n",
       " \"Ivanka Trump's one-year-old son Joseph is the spitting image of his ...\": 'https://www.dailymail.co.uk/femail/article-3209079/Ivanka-Trump-s-one-year-old-son-Joseph-spitting-image-grandpa-Donald-sweet-Instagram-snap-s-mastered-hairstyle.html',\n",
       " 'Ivanka Trump Is Training for Her First Half Marathon – and Loving It': 'https://people.com/bodies/ivanka-trump-talks-training-for-her-first-half-marathon/',\n",
       " 'Ivanka Trump makes her case for national paid family leave program': 'https://thehill.com/homenews/administration/340658-ivanka-trump-makes-her-case-for-a-national-paid-family-leave-program',\n",
       " \"Will Ivanka Trump & Jared Kushner Have More Kids? They're The ...\": 'https://www.romper.com/p/will-ivanka-trump-jared-kushner-have-more-kids-theyre-the-ultimate-power-parents-23362',\n",
       " \"Melania speaks! Trump's victory speech goes off script when he ...\": 'https://www.dailymail.co.uk/news/article-3456713/Trump-s-victory-speech-goes-script-asks-wife-Melania-daughter-Ivanka-address-South-Carolina-crowd-primary-win.html',\n",
       " 'How Ivanka Trump Is a Walking Billboard for Her Namesake Fashion ...': 'https://www.wsj.com/articles/how-ivanka-trump-is-a-walking-billboard-for-her-namesake-fashion-business-1514389465',\n",
       " \"Ivanka's a mom first, wherever her travels lead her\": 'https://nypost.com/2014/02/24/ivankas-a-mom-first-wherever-her-travels-lead-her/',\n",
       " 'China Detains Activist Who Worked at Manufacturer of Ivanka Trump ...': 'https://www.nytimes.com/2017/05/30/business/labor-activist-detained-ivanka-trump-factory.html',\n",
       " 'Ivanka and Donald Jr. Reportedly Tried to Cut Tiffany Out of Her ...': 'https://www.townandcountrymag.com/society/politics/a12475211/ivanka-donald-jr-tiffany-trump-inheritance/',\n",
       " \"Ivanka Trump: No One Says 'Working Man,' Why Her Website Appeals ...\": 'https://abcnews.go.com/Entertainment/ivanka-trump-working-man-website-appeals-women/story?id=35403415',\n",
       " 'The Ivanka Conundrum: Roy Moore, Tax Reform, and the Perils of ...': 'https://www.vanityfair.com/news/2017/11/ivanka-trump-roy-moore-tax-reform',\n",
       " \"PETA tries to pull the rabbit out of Ivanka Trump's hat\": 'https://www.cnn.com/2016/02/17/politics/ivanka-trump-peta-rabbit-fur/index.html',\n",
       " \"Ivanka Trump's Push For Family Leave Draws Criticism From Former ...\": 'https://www.npr.org/2018/07/12/628320410/ivanka-trump-pushes-family-leave-but-former-obama-official-pushes-back',\n",
       " \"A Reader's Guide to Donald Trump's Family\": 'http://time.com/4317678/donald-trump-family-ivanka-melania/',\n",
       " 'Thank God: Ivanka Trump Is Redefining the Idea of the \"Working ...': 'https://www.marieclaire.com/career-advice/news/a13825/ivanka-trump-redefining-working-women/',\n",
       " \"The women groomed to take over NYC's top real estate firms\": 'https://therealdeal.com/2014/06/30/women-groomed-to-take-over-nycs-top-real-estate-firms/',\n",
       " \"Did Ivanka Trump Orchestrate Inflated Prices for Her Dad's ...\": 'https://www.patheos.com/blogs/susanwright/2018/12/did-ivanka-trump-orchestrate-inflated-prices-for-her-dads-inauguration-event/',\n",
       " 'Why Ivanka Trump Can Offer Her Dad Only Limited Support': 'https://www.cosmopolitan.com/politics/a48109/ivanka-trump-donald-campaign-support/',\n",
       " 'Chelsea Clinton takes on Ivanka Trump': 'https://www.washingtonpost.com/news/wonk/wp/2016/07/28/chelsea-clinton-takes-on-ivanka-trump/',\n",
       " 'Team Ivanka! A fantastically fit looking Trump continues her gruelling ...': 'https://www.dailymail.co.uk/tvshowbiz/article-2947753/Ivanka-Trump-continues-gruelling-training-ready-run-half-marathon.html',\n",
       " 'Despite a Trust, Ivanka Trump Still Wields Power Over Her Brand': 'https://www.nytimes.com/2017/03/20/business/despite-trust-ivanka-trump-still-wields-power-over-her-brand.html',\n",
       " 'Ivanka to hit the campaign trail with McCarthy in California': 'https://thehill.com/homenews/campaign/389340-ivanka-trump-to-hit-the-campaign-trail-for-house-republicans',\n",
       " \"Would They Do This to Chelsea? CBS Grills Ivanka Trump on Dad's ...\": 'https://www.newsbusters.org/blogs/nb/scott-whitlock/2016/05/18/would-they-do-chelsea-cbs-grills-ivanka-dads-treatment-women',\n",
       " 'Ivanka Trump Launches New Jewelry Collection And Appears At ...': 'https://jewishbusinessnews.com/2014/03/10/ivanka-trump-launches-new-jewelry-collection-and-appears-at-doral-golf-championship/',\n",
       " 'She cooks too! Ivanka Trump shows off the egg and avocado breakfast ...': 'https://www.dailymail.co.uk/tvshowbiz/article-2928722/Ivanka-Trump-shows-egg-avocado-breakfast-burrito-whipped-kids-blizzard.html',\n",
       " \"Trump kids' ski vacation incurs over $300000 in security costs\": 'https://www.cbsnews.com/news/trump-kids-ski-vacation-incurs-over-300000-in-security-costs/',\n",
       " 'Trump vs. the Restaurateurs, Part II': 'https://www.politico.com/story/2015/07/trump-vs-the-restauranteurs-part-ii-120496',\n",
       " \"You Can Buy Ivanka & Jared's Birthday Card To Hope Hicks For $800 ...\": 'https://www.refinery29.com/en-us/2018/09/209753/ivanka-trump-jared-kushner-wedding-book-personal-items-ebay',\n",
       " 'Did Ivana Trump up her service dog claim?': 'https://pagesix.com/2014/06/30/did-ivana-trump-up-her-service-dog-claim/',\n",
       " \"Ivanka Trump's Rabbi Pulls Out of Appearing at Republican Convention\": 'https://www.nytimes.com/2016/07/16/us/politics/ivanka-trumps-rabbi-pulls-out-of-appearing-at-republican-convention.html',\n",
       " \"Ivanka Trump as president of the World Bank? Don't laugh\": 'https://www.newsday.com/opinion/commentary/ivanka-trump-world-bank-1.26015349',\n",
       " 'Trumps, DC Officials Break Ground on Old Post Office Redevelopment': 'https://georgetowner.com/articles/2014/07/31/trumps-dc-officials-break-ground-old-post-office-redevelopment/',\n",
       " \"This photo of Trump and his daughter is the most awkward thing you'll ...\": 'https://mashable.com/2016/02/01/trump-daughter/',\n",
       " 'Ivanka Trump always has breakfast and dinner with her kids': 'https://pagesix.com/2016/02/10/ivanka-trump-doesnt-like-the-word-balance/',\n",
       " 'Ivanka on ice! Trump heiress takes three-year-old daughter Arabella ...': 'https://www.dailymail.co.uk/femail/article-2907213/Ivanka-Trump-takes-three-year-old-daughter-Arabella-skating-session-Central-Park.html',\n",
       " 'Ivanka Trump posted a picture of her fan mail and got mercilessly ...': 'https://mashable.com/2017/08/25/ivanka-trump-fan-mail-kids-letters/',\n",
       " \"Going voting with dad! Ivanka Trump's daughter Arabella smiles on ...\": 'https://www.dailymail.co.uk/femail/article-2820952/Going-voting-dad-Ivanka-Trump-s-daughter-Arabella-smiles-Joseph-Kushner-s-shoulders-polling-station.html',\n",
       " 'Ivanka Trump stands and claps for North and South Korean Olympic ...': 'https://www.cnn.com/2018/02/25/politics/ivanka-trump-olympics-closing-ceremony/index.html',\n",
       " \"Ivanka Trump touts dad's softer side\": 'https://www.bostonherald.com/2015/06/25/ivanka-trump-touts-dads-softer-side/',\n",
       " 'Ivanka Trump Puts The \"Pow\" In Power Shoes To Help Fight Breast ...': 'https://www.looktothestars.org/news/12566-ivanka-trump-puts-the-pow-in-power-shoes-to-help-fight-breast-cancer',\n",
       " 'Ivanka Trump and Shabbat: Pure family time': 'https://www.jpost.com/Opinion/Ivanka-Trump-and-Shabbat-Pure-family-time-472181',\n",
       " \"George Harrison's estate slams Ivanka Trump for “Here Comes the ...\": 'https://consequenceofsound.net/2016/07/george-harrisons-estate-slams-ivanka-trump-for-here-comes-the-sun-entrance/',\n",
       " \"Ivanka Trump Shares Adorable New Year's Photos of Daughter ...\": 'https://www.eonline.com/news/495676/ivanka-trump-shares-adorable-new-year-s-photos-of-daughter-arabella-and-son-joseph',\n",
       " 'Ivanka Trump: Born to legitimize corruption and make the shoddy look ...': 'https://www.latimes.com/opinion/op-ed/la-oe-heffernan-ivanka-legitimizing-20180303-story.html',\n",
       " \"'Have a great week!' Ivanka Trump shares photos of her pretty princess ...\": 'https://www.dailymail.co.uk/tvshowbiz/article-2593098/Proud-mama-Ivanka-Trump-shares-photos-adorable-children-daughter-Arabella-son-Joseph.html',\n",
       " 'Start-ups in central and eastern Europe are finding help from new ...': 'https://www.ft.com/content/456d0796-c645-11e3-ba0e-00144feabdc0',\n",
       " 'Ivanka Trump heats up the holidays in a bikini': 'https://pagesix.com/2014/12/24/ivanka-trump-heats-up-the-holidays-in-bikini/',\n",
       " 'In pictures: Donald Trump\\'s daughter Ivanka enjoys trip to \"flawless ...': 'http://www.scotlandnow.dailyrecord.co.uk/news/pictures-donald-trumps-daughter-ivanka-3551724',\n",
       " 'Chelsea Clinton: Criticism of Ivanka is fair game': 'https://thehill.com/blogs/in-the-know/in-the-know/376920-chelsea-clinton-criticism-of-ivanka-is-fair-game',\n",
       " 'Ivanka Trump Broke a Cardinal Instagram Rule': 'https://www.vanityfair.com/style/2018/01/ivanka-trump-broke-a-cardinal-instagram-rule',\n",
       " \"Ivanka Trump's Birthday Tribute To Donald Is A Major Throwback\": 'https://www.elitedaily.com/p/ivanka-trumps-birthday-tribute-to-donald-is-a-major-throwback-9401343',\n",
       " \"Ivanka Trump: 'My Father Always Taught Me to Think Big'\": 'https://www.newsmax.com/us/ivanka-donald-trump-daughter-success/2015/08/06/id/665686/',\n",
       " 'Ivanka Trump Announces New Book about Women and Work': 'https://www.vanityfair.com/news/2016/06/ivanka-trump-book',\n",
       " \"Ivanka Trump's Friends Don't Hold Her Dad Against Her\": 'https://www.vanityfair.com/style/2015/08/ivanka-trump-society-friends-inoculated-donald',\n",
       " \"She's on pointe! Ivanka Trump leads the way in shimmering silver ...\": 'https://www.dailymail.co.uk/tvshowbiz/article-2767478/Ivanka-Trump-leads-way-New-York-City-Ballet-s-Fall-Gala-shimmering-silver-dress.html',\n",
       " \"Ivanka Trump's Favorite Miami Hot Spots\": 'https://www.forbes.com/sites/maridelreyes/2015/03/25/ivanka-trump-miami-travel-guide/',\n",
       " 'Ivanka Trump shares photo with inseparable baby son': 'https://www.hellomagazine.com/celebrities/2014091721000/ivanka-trump-instagram-baby-son/',\n",
       " 'Donald Trump Would Expect Ivanka To Find New Career If She Were ...': 'https://www.huffingtonpost.com/entry/donald-trump-ivanka-roger-ailes-sexual-harassment_us_579fbf27e4b0e2e15eb6e354',\n",
       " \"Jared Kushner, Ivanka Trump Detail Puck Penthouses' Reno\": 'https://ny.curbed.com/2014/2/12/10144532/jared-kushner-ivanka-trump-detail-puck-penthouses-reno',\n",
       " 'Horsing around! Ivanka Trump slips into a chic scarlet dress as she ...': 'https://www.dailymail.co.uk/tvshowbiz/article-2762295/Ivanka-Trump-slips-chic-scarlet-dress-dad-Donald-enjoy-father-daughter-time-equestrian-show.html',\n",
       " \"Ivanka Trump honors multi-tasking women at Women's Division's ...\": 'https://www.juf.org/news/local.aspx?id=434403',\n",
       " 'Jared and Ivanka expected to attend Pence fundraiser': 'https://www.politico.com/story/2017/07/25/pence-kushner-ivanka-trump-fundraiser-240953',\n",
       " 'Ivanka Trump tours Fort Collins charter school': 'https://www.coloradoan.com/story/news/2016/09/22/live-coverage-ivanka-trump-tours-fort-collins-charter-school/90833182/',\n",
       " \"Watch Trevor Noah Expose Donald Trump's Creepy, Lusty Feelings ...\": 'https://www.gq.com/story/donald-trump-ivanka-sex-trevor-noah-daily-show',\n",
       " 'Ivanka Trump and Husband Jared Kushner Saw Vice — About Dick ...': 'https://people.com/politics/ivanka-trump-jared-kushner-saw-vice-but-left/',\n",
       " 'In Peru, Ivanka Trump Claims Her Father “Taught Me to Be Brave”': 'https://www.vanityfair.com/style/2018/04/ivanka-trump-claims-her-father-taught-me-to-be-brave',\n",
       " 'Jimmy Kimmel: Trump Wants Jared Kushner as Chief of Staff Because ...': 'https://www.thedailybeast.com/jimmy-kimmel-trump-wants-jared-kushner-as-chief-of-staff-because-hes-good-enough-to-screw-ivanka',\n",
       " \"Ivanka Trump plans global women's economic development push\": 'https://www.usatoday.com/story/money/2019/01/01/ivanka-trump-plans-global-womens-economic-development-push/2458536002/',\n",
       " 'Ivanka Trump to speak on luxury at Dubai event': 'https://www.arabianbusiness.com/ivanka-trump-speak-on-luxury-at-dubai-event-579979.html'}"
      ]
     },
     "execution_count": 21,
     "metadata": {},
     "output_type": "execute_result"
    }
   ],
   "source": [
    "top100 = dict(random.sample(headline_dict.items(), 100))\n",
    "top100"
   ]
  },
  {
   "cell_type": "code",
   "execution_count": 28,
   "metadata": {
    "ExecuteTime": {
     "end_time": "2019-03-28T00:49:54.165689Z",
     "start_time": "2019-03-28T00:49:54.155716Z"
    }
   },
   "outputs": [
    {
     "ename": "TypeError",
     "evalue": "'dict_keys' object does not support indexing",
     "output_type": "error",
     "traceback": [
      "\u001b[1;31m---------------------------------------------------------------------------\u001b[0m",
      "\u001b[1;31mTypeError\u001b[0m                                 Traceback (most recent call last)",
      "\u001b[1;32m<ipython-input-28-4141dd2eb1e9>\u001b[0m in \u001b[0;36m<module>\u001b[1;34m\u001b[0m\n\u001b[1;32m----> 1\u001b[1;33m \u001b[0mtop100\u001b[0m\u001b[1;33m.\u001b[0m\u001b[0mkeys\u001b[0m\u001b[1;33m(\u001b[0m\u001b[1;33m)\u001b[0m\u001b[1;33m[\u001b[0m\u001b[1;36m0\u001b[0m\u001b[1;33m]\u001b[0m\u001b[1;33m\u001b[0m\u001b[1;33m\u001b[0m\u001b[0m\n\u001b[0m",
      "\u001b[1;31mTypeError\u001b[0m: 'dict_keys' object does not support indexing"
     ]
    }
   ],
   "source": [
    "top100.keys()"
   ]
  },
  {
   "cell_type": "code",
   "execution_count": null,
   "metadata": {
    "ExecuteTime": {
     "end_time": "2019-03-28T00:49:21.980043Z",
     "start_time": "2019-03-28T00:49:21.966081Z"
    }
   },
   "outputs": [],
   "source": []
  },
  {
   "cell_type": "code",
   "execution_count": null,
   "metadata": {},
   "outputs": [],
   "source": []
  },
  {
   "cell_type": "code",
   "execution_count": null,
   "metadata": {},
   "outputs": [],
   "source": []
  },
  {
   "cell_type": "code",
   "execution_count": null,
   "metadata": {},
   "outputs": [],
   "source": []
  },
  {
   "cell_type": "code",
   "execution_count": null,
   "metadata": {},
   "outputs": [],
   "source": [
    "class News(Thread):\n",
    "    def __init__(self, lock=None, link=None, name=None, shared_df=None):\n",
    "        Thread.__init__(self)\n",
    "        self.df = pd.DataFrame()\n",
    "        self.main_df = pd.DataFrame()\n",
    "        self.u = Utils()\n",
    "        self.lock = lock\n",
    "        self.link = link\n",
    "        self.eid = self.u.get_id(name)\n",
    "        self.doc = \"\"\n",
    "        self.message = name\n",
    "        self.start()\n",
    "        \n",
    "        \n",
    "    def run(self):\n",
    "        a = Thread(target = self.get_link_text, args = ())\n",
    "        a.start()\n",
    "        a.join()\n",
    "\n",
    "        \n",
    "    def get_link_text(self):\n",
    "        r = requests.get(self.link)\n",
    "        content = r.text\n",
    "        doc_summary = []\n",
    "        soup = BeautifulSoup(content, \"html.parser\")\n",
    "        paras = soup.findAll(\"p\")\n",
    "        for p in paras:\n",
    "            doc_summary.append(p.text)\n",
    "        s = \" \".join(doc_summary)\n",
    "        s = \" \".join(s.split())\n",
    "        self.doc = s\n",
    "        ## Analysing the link text\n",
    "        res,_ = self.u.Analyse(message=self.message, doc=self.doc, lock=self.lock)\n",
    "        self.df = pd.DataFrame(res, columns=['Subject','Relationship','Object','Confidence'])\n",
    "        self.main_df = self.df[self.df['Subject'].apply(lambda row: self.u.get_id(row)) == self.eid]\n",
    "        self.main_df['Subject'] = self.message\n",
    "    \n",
    "    def get_df(self):\n",
    "        return self.df\n",
    "    \n",
    "    def get_main_df(self):\n",
    "        return self.main_df"
   ]
  },
  {
   "cell_type": "code",
   "execution_count": null,
   "metadata": {},
   "outputs": [],
   "source": []
  },
  {
   "cell_type": "code",
   "execution_count": null,
   "metadata": {},
   "outputs": [],
   "source": []
  },
  {
   "cell_type": "code",
   "execution_count": 45,
   "metadata": {
    "ExecuteTime": {
     "end_time": "2019-03-28T01:22:15.857233Z",
     "start_time": "2019-03-28T01:22:15.851249Z"
    }
   },
   "outputs": [],
   "source": [
    "def get_news(link):\n",
    "    ### Setting up API ###\n",
    "    options = Options()\n",
    "    options.binary_location = \"C:\\\\Program Files (x86)\\\\Google\\\\Chrome\\\\Application\\\\chrome.exe\"\n",
    "    options.add_argument('--headless')\n",
    "    options.add_argument('--window-size=1200x600')\n",
    "    options.add_argument('--no-sandbox')\n",
    "    options.add_argument('--disable-dev-shm-usage')\n",
    "    options.add_argument('--disable-gpu')\n",
    "\n",
    "    chromedriver = 'C:\\\\Users\\\\Bhavya\\\\Desktop\\\\Vaibhav\\\\chromedriver.exe'\n",
    "    r = webdriver.Chrome(executable_path=chromedriver, options=options)\n",
    "\n",
    "    ### Scraping From URL ###\n",
    "    r.get(link)\n",
    "    doc_summary = []\n",
    "    soup = BeautifulSoup(r.page_source, 'lxml')\n",
    "    all_paragraphs = soup.findAll(\"p\")\n",
    "    for paragraph in all_paragraphs:\n",
    "        doc_summary.append(paragraph.text)\n",
    "    doc_summary = \" \".join(doc_summary)\n",
    "    doc_summary = \" \".join(doc_summary.split())\n",
    "    return doc_summary"
   ]
  },
  {
   "cell_type": "code",
   "execution_count": null,
   "metadata": {},
   "outputs": [],
   "source": []
  },
  {
   "cell_type": "code",
   "execution_count": 46,
   "metadata": {
    "ExecuteTime": {
     "end_time": "2019-03-28T01:22:38.160305Z",
     "start_time": "2019-03-28T01:22:30.206916Z"
    }
   },
   "outputs": [
    {
     "name": "stderr",
     "output_type": "stream",
     "text": [
      "C:\\Users\\Bhavya\\Anaconda3\\lib\\site-packages\\bs4\\builder\\_lxml.py:287: ResourceWarning: unclosed <socket.socket fd=428, family=AddressFamily.AF_INET, type=SocketKind.SOCK_STREAM, proto=0, laddr=('127.0.0.1', 60627), raddr=('127.0.0.1', 60622)>\n",
      "  self.parser.feed(markup)\n"
     ]
    },
    {
     "data": {
      "text/plain": [
       "\"By Daily Mail Reporter Published: 22:52 GMT, 5 January 2014 | Updated: 10:03 GMT, 6 January 2014 2 View comments She's been staying at her father's Mar-a-lago Club in Palm Beach for more than a week. So it's no surprise she'd want to make the most of her last day at the beautiful Florida resort. Ivanka Trump hob nobbed with guests at the second annual Trump Invitational Grand Prix on Sunday. New mother: Ivanka Trump shared an image on her Instagram of herself, her daughter Arabella and Georgina Bloomberg at the second annual Trump Invitational in Florida The 32-year-old businesswoman and former model posted a snap of herself and Georgina Bloomberg, New York City Mayor Michael Bloomberg's daughter, at the equestrian event. 'With beautiful new mommy @GeorginaBloomberg at the Trump Invitational,' she captioned the pic. Ivanka, whose two-year-old daughter Arabella also appeared in the image, looked beautiful in a blue and red heart-printed halter dress and nude coloured sandals. Adorable duo: Ivanka and her daughter Arabella looked too-cute in dresses for the event Write caption here Family affair: Donald Trump, his wife Melania and youngest son Barron made an appearance at the equestrian event Darling Daddy: The blonde socialite dutifully stood behind her 67-year-old father as he addressed attendees at the outdoor event Georgina, 30, gave birth to her first child, Jasper, with boyfriend Ramiro Quintana on Dec. 24. 'I’m thrilled and just so proud of Georgina,' Mayor Bloomberg said of the birth of his first grandchild. 'They are going to make really wonderful parents, and what an incredible way to start the new year.' Ivanka recently gave birth too. Event hosts: Donald and event co-host Mark Bellissimo were joined by their wives Melania and Katherine Nepotism: The Trump heiress posed alongside country crooner Hunter Hayes, equestrian Paige Bellisimo, and equestrian Georgina Bloomberg, whose father is New York City Mayor Michael Bloomberg Musical guest: Country crooner Hunter provided some entertainment at the event Powerful pair: Ivanka and Georgina have more than a little in common, having both grown up the daughters of such powerful, wealthy men of influence New father: Argentine equestrian Ramiro Quintana attended the event with girlfriend Georgina and their baby She and husband Jared Kushner welcomed their second child, Joseph, on October 14. The proud mother frequently shares images of her family on her Instagram. Earlier on Sunday, Donald Trump's oldest daughter posted a snap of Arabella, sitting on a luxurious bed with an ornate gold frame and pink bedding. Loving siblings: On New Year's Day, Ms Trump shared a picture from their family trip to Florida of her children cuddling in their pajamas 'Making it count': The mother-of-two posted a photo on her last day of vacation with her daughter sitting on a luxurious bed New Year: Ivanka rang in 2014 with her husband Jared Kushner at the Mar-a-lago club in Palm Beach, Florida, where their family spent the holidays 'Last day of vacation... We're making it count!!' she wrote. The Apprentice judge rang in the New Year in the estate's grand ballroom with her husband. Donald bought Mar-a-lago in 1985 for $10 million. The estate originally belonged to Marjorie Merriweather Post, a socialite and the founder of General Foods, Inc. Post died in 1973 and left the property to the government upon her death in 1973. Share what you think The comments below have been moderated in advance. The views expressed in the contents above are those of our users and do not necessarily reflect the views of MailOnline. We are no longer accepting comments on this article. Published by Associated Newspapers Ltd Part of the Daily Mail, The Mail on Sunday & Metro Media Group\""
      ]
     },
     "execution_count": 46,
     "metadata": {},
     "output_type": "execute_result"
    }
   ],
   "source": [
    "get_news(link)"
   ]
  },
  {
   "cell_type": "code",
   "execution_count": null,
   "metadata": {},
   "outputs": [],
   "source": []
  },
  {
   "cell_type": "code",
   "execution_count": null,
   "metadata": {},
   "outputs": [],
   "source": []
  },
  {
   "cell_type": "code",
   "execution_count": null,
   "metadata": {},
   "outputs": [],
   "source": []
  },
  {
   "cell_type": "code",
   "execution_count": null,
   "metadata": {},
   "outputs": [],
   "source": []
  },
  {
   "cell_type": "code",
   "execution_count": null,
   "metadata": {},
   "outputs": [],
   "source": []
  },
  {
   "cell_type": "code",
   "execution_count": null,
   "metadata": {},
   "outputs": [],
   "source": []
  },
  {
   "cell_type": "code",
   "execution_count": null,
   "metadata": {},
   "outputs": [],
   "source": []
  },
  {
   "cell_type": "code",
   "execution_count": null,
   "metadata": {},
   "outputs": [],
   "source": []
  },
  {
   "cell_type": "code",
   "execution_count": null,
   "metadata": {},
   "outputs": [],
   "source": []
  },
  {
   "cell_type": "markdown",
   "metadata": {},
   "source": [
    "### Others"
   ]
  },
  {
   "cell_type": "raw",
   "metadata": {
    "ExecuteTime": {
     "end_time": "2019-03-15T16:47:19.471698Z",
     "start_time": "2019-03-15T16:47:17.850464Z"
    }
   },
   "source": [
    "r = requests.get(\"https://news.google.com/search?q=\" + query + \"&hl=en-US&gl=US&ceid=US:en\")\n",
    "content = r.text\n",
    "\n",
    "news_summaries = []\n",
    "headline_link = {}\n",
    "soup = BeautifulSoup(content, \"html.parser\")\n",
    "\n",
    "# st_divs = soup.findAll(\"div\", {\"class\": \"xrnccd\"}) ---> each indivisual news card is within this div & class\n",
    "headlines = soup.findAll(\"h4\")\n",
    "for headline in headlines:\n",
    "    news_summaries.append(headline.text)\n",
    "    headline_link[headline.text] = \"https://news.google.com\" + headline.a['href'][1:]\n",
    "\n",
    "total_docs = min(100, len(news_summaries))\n",
    "print(len(news_summaries))"
   ]
  },
  {
   "cell_type": "code",
   "execution_count": 183,
   "metadata": {
    "ExecuteTime": {
     "end_time": "2019-03-24T18:15:09.601493Z",
     "start_time": "2019-03-24T18:15:09.597501Z"
    }
   },
   "outputs": [
    {
     "data": {
      "text/plain": [
       "'https://www.dailymail.co.uk/tvshowbiz/article-2534295/Ivanka-Trump-poses-day-Florida-vacation-new-mother-Georgina-Bloomberg-Donalds-Trump-Invitational.html'"
      ]
     },
     "execution_count": 183,
     "metadata": {},
     "output_type": "execute_result"
    }
   ],
   "source": [
    "link = list(headline_link.values())[1]\n",
    "link"
   ]
  },
  {
   "cell_type": "code",
   "execution_count": 43,
   "metadata": {
    "ExecuteTime": {
     "end_time": "2019-03-28T01:21:32.379999Z",
     "start_time": "2019-03-28T01:21:31.448991Z"
    }
   },
   "outputs": [
    {
     "name": "stderr",
     "output_type": "stream",
     "text": [
      "C:\\Users\\Bhavya\\Anaconda3\\lib\\socket.py:657: ResourceWarning: unclosed <socket.socket fd=2420, family=AddressFamily.AF_INET, type=SocketKind.SOCK_STREAM, proto=0, laddr=('192.168.100.52', 60743), raddr=('23.197.10.39', 443)>\n",
      "  self._sock = None\n"
     ]
    }
   ],
   "source": [
    "r = requests.get(link)\n",
    "content = r.text\n",
    "doc_summary = []\n",
    "soup = BeautifulSoup(content, \"html.parser\")\n",
    "paras = soup.findAll(\"p\")\n",
    "for p in paras:\n",
    "    doc_summary.append(p.text)\n",
    "s = \" \".join(doc_summary)\n",
    "s = \" \".join(s.split())"
   ]
  },
  {
   "cell_type": "code",
   "execution_count": 44,
   "metadata": {
    "ExecuteTime": {
     "end_time": "2019-03-28T01:21:33.841001Z",
     "start_time": "2019-03-28T01:21:33.836609Z"
    }
   },
   "outputs": [
    {
     "data": {
      "text/plain": [
       "\"By Daily Mail Reporter Published: 22:52 GMT, 5 January 2014 | Updated: 10:03 GMT, 6 January 2014 2 View comments She's been staying at her father's Mar-a-lago Club in Palm Beach for more than a week. So it's no surprise she'd want to make the most of her last day at the beautiful Florida resort. Ivanka Trump hob nobbed with guests at the second annual Trump Invitational Grand Prix on Sunday. New mother: Ivanka Trump shared an image on her Instagram of herself, her daughter Arabella and Georgina Bloomberg at the second annual Trump Invitational in Florida The 32-year-old businesswoman and former model posted a snap of herself and Georgina Bloomberg, New York City Mayor Michael Bloomberg's daughter, at the equestrian event. 'With beautiful new mommy @GeorginaBloomberg at the Trump Invitational,' she captioned the pic. Ivanka, whose two-year-old daughter Arabella also appeared in the image, looked beautiful in a blue and red heart-printed halter dress and nude coloured sandals. Adorable duo: Ivanka and her daughter Arabella looked too-cute in dresses for the event Write caption here Family affair: Donald Trump, his wife Melania and youngest son Barron made an appearance at the equestrian event Darling Daddy: The blonde socialite dutifully stood behind her 67-year-old father as he addressed attendees at the outdoor event Georgina, 30, gave birth to her first child, Jasper, with boyfriend Ramiro Quintana on Dec. 24. 'I’m thrilled and just so proud of Georgina,' Mayor Bloomberg said of the birth of his first grandchild. 'They are going to make really wonderful parents, and what an incredible way to start the new year.' Ivanka recently gave birth too. Event hosts: Donald and event co-host Mark Bellissimo were joined by their wives Melania and Katherine Nepotism: The Trump heiress posed alongside country crooner Hunter Hayes, equestrian Paige Bellisimo, and equestrian Georgina Bloomberg, whose father is New York City Mayor Michael Bloomberg Musical guest: Country crooner Hunter provided some entertainment at the event Powerful pair: Ivanka and Georgina have more than a little in common, having both grown up the daughters of such powerful, wealthy men of influence New father: Argentine equestrian Ramiro Quintana attended the event with girlfriend Georgina and their baby She and husband Jared Kushner welcomed their second child, Joseph, on October 14. The proud mother frequently shares images of her family on her Instagram. Earlier on Sunday, Donald Trump's oldest daughter posted a snap of Arabella, sitting on a luxurious bed with an ornate gold frame and pink bedding. Loving siblings: On New Year's Day, Ms Trump shared a picture from their family trip to Florida of her children cuddling in their pajamas 'Making it count': The mother-of-two posted a photo on her last day of vacation with her daughter sitting on a luxurious bed New Year: Ivanka rang in 2014 with her husband Jared Kushner at the Mar-a-lago club in Palm Beach, Florida, where their family spent the holidays 'Last day of vacation... We're making it count!!' she wrote. The Apprentice judge rang in the New Year in the estate's grand ballroom with her husband. Donald bought Mar-a-lago in 1985 for $10 million. The estate originally belonged to Marjorie Merriweather Post, a socialite and the founder of General Foods, Inc. Post died in 1973 and left the property to the government upon her death in 1973. Share what you think The comments below have been moderated in advance. The views expressed in the contents above are those of our users and do not necessarily reflect the views of MailOnline. We are no longer accepting comments on this article. Published by Associated Newspapers Ltd Part of the Daily Mail, The Mail on Sunday & Metro Media Group\""
      ]
     },
     "execution_count": 44,
     "metadata": {},
     "output_type": "execute_result"
    }
   ],
   "source": [
    "s"
   ]
  },
  {
   "cell_type": "code",
   "execution_count": null,
   "metadata": {},
   "outputs": [],
   "source": [
    "u = Utils()\n",
    "class News(Thread):\n",
    "    def __init__(self, lock=None, link=None, name=None, shared_df=None):\n",
    "        Thread.__init__(self)\n",
    "        self.df = pd.DataFrame()\n",
    "        self.main_df = pd.DataFrame()\n",
    "        self.u = Utils()\n",
    "        self.lock = lock\n",
    "        self.link = link\n",
    "        self.eid = self.u.get_id(name)\n",
    "        self.doc = \"\"\n",
    "        self.message = name\n",
    "        self.start()\n",
    "        \n",
    "        \n",
    "    def run(self):\n",
    "        a = Thread(target = self.get_link_text, args = ())\n",
    "        a.start()\n",
    "        a.join()\n",
    "\n",
    "        \n",
    "    def get_link_text(self):\n",
    "        r = requests.get(self.link)\n",
    "        content = r.text\n",
    "        doc_summary = []\n",
    "        soup = BeautifulSoup(content, \"html.parser\")\n",
    "        paras = soup.findAll(\"p\")\n",
    "        for p in paras:\n",
    "            doc_summary.append(p.text)\n",
    "        s = \" \".join(doc_summary)\n",
    "        s = \" \".join(s.split())\n",
    "        self.doc = s\n",
    "        ## Analysing the link text\n",
    "        res,_ = self.u.Analyse(message=self.message, doc=self.doc, lock=self.lock)\n",
    "        self.df = pd.DataFrame(res, columns=['Subject','Relationship','Object','Confidence'])\n",
    "        self.main_df = self.df[self.df['Subject'].apply(lambda row: self.u.get_id(row)) == self.eid]\n",
    "        self.main_df['Subject'] = self.message\n",
    "    \n",
    "    def get_df(self):\n",
    "        return self.df\n",
    "    \n",
    "    def get_main_df(self):\n",
    "        return self.main_df"
   ]
  },
  {
   "cell_type": "code",
   "execution_count": null,
   "metadata": {},
   "outputs": [],
   "source": []
  },
  {
   "cell_type": "code",
   "execution_count": null,
   "metadata": {},
   "outputs": [],
   "source": []
  },
  {
   "cell_type": "code",
   "execution_count": null,
   "metadata": {},
   "outputs": [],
   "source": []
  },
  {
   "cell_type": "markdown",
   "metadata": {
    "heading_collapsed": true
   },
   "source": [
    "# Preprocess"
   ]
  },
  {
   "cell_type": "markdown",
   "metadata": {
    "hidden": true
   },
   "source": [
    "### Exploring TopN Headlines"
   ]
  },
  {
   "cell_type": "code",
   "execution_count": 15,
   "metadata": {
    "ExecuteTime": {
     "end_time": "2019-03-15T16:49:42.255608Z",
     "start_time": "2019-03-15T16:47:52.688393Z"
    },
    "collapsed": true,
    "hidden": true
   },
   "outputs": [
    {
     "name": "stdout",
     "output_type": "stream",
     "text": [
      "Saved\n",
      "Saved\n",
      "Saved\n",
      "Saved\n",
      "Saved\n",
      "Saved\n",
      "Saved\n",
      "Saved\n",
      "Saved\n"
     ]
    },
    {
     "name": "stderr",
     "output_type": "stream",
     "text": [
      "C:\\Users\\Bhavya\\Anaconda3\\lib\\socket.py:657: ResourceWarning: unclosed <socket.socket fd=3764, family=AddressFamily.AF_INET, type=SocketKind.SOCK_STREAM, proto=0, laddr=('139.19.106.201', 62290), raddr=('151.101.113.67', 443)>\n",
      "  self._sock = None\n",
      "C:\\Users\\Bhavya\\Anaconda3\\lib\\socket.py:657: ResourceWarning: unclosed <socket.socket fd=3564, family=AddressFamily.AF_INET, type=SocketKind.SOCK_STREAM, proto=0, laddr=('139.19.106.201', 62283), raddr=('151.101.114.62', 443)>\n",
      "  self._sock = None\n",
      "C:\\Users\\Bhavya\\Anaconda3\\lib\\socket.py:657: ResourceWarning: unclosed <socket.socket fd=3824, family=AddressFamily.AF_INET, type=SocketKind.SOCK_STREAM, proto=0, laddr=('139.19.106.201', 62294), raddr=('151.101.113.67', 443)>\n",
      "  self._sock = None\n",
      "C:\\Users\\Bhavya\\Anaconda3\\lib\\socket.py:657: ResourceWarning: unclosed <socket.socket fd=3712, family=AddressFamily.AF_INET, type=SocketKind.SOCK_STREAM, proto=0, laddr=('139.19.106.201', 62288), raddr=('151.101.114.62', 443)>\n",
      "  self._sock = None\n",
      "C:\\Users\\Bhavya\\Anaconda3\\lib\\socket.py:657: ResourceWarning: unclosed <socket.socket fd=3848, family=AddressFamily.AF_INET, type=SocketKind.SOCK_STREAM, proto=0, laddr=('139.19.106.201', 62297), raddr=('151.101.114.62', 443)>\n",
      "  self._sock = None\n",
      "C:\\Users\\Bhavya\\Anaconda3\\lib\\socket.py:657: ResourceWarning: unclosed <socket.socket fd=4252, family=AddressFamily.AF_INET, type=SocketKind.SOCK_STREAM, proto=0, laddr=('139.19.106.201', 62313), raddr=('151.101.113.67', 443)>\n",
      "  self._sock = None\n",
      "C:\\Users\\Bhavya\\Anaconda3\\lib\\socket.py:657: ResourceWarning: unclosed <socket.socket fd=3932, family=AddressFamily.AF_INET, type=SocketKind.SOCK_STREAM, proto=0, laddr=('139.19.106.201', 62325), raddr=('151.101.114.62', 443)>\n",
      "  self._sock = None\n",
      "C:\\Users\\Bhavya\\Anaconda3\\lib\\socket.py:657: ResourceWarning: unclosed <socket.socket fd=4944, family=AddressFamily.AF_INET, type=SocketKind.SOCK_STREAM, proto=0, laddr=('139.19.106.201', 62336), raddr=('151.101.113.67', 443)>\n",
      "  self._sock = None\n",
      "C:\\Users\\Bhavya\\Anaconda3\\lib\\socket.py:657: ResourceWarning: unclosed <socket.socket fd=5104, family=AddressFamily.AF_INET, type=SocketKind.SOCK_STREAM, proto=0, laddr=('139.19.106.201', 62342), raddr=('151.101.113.67', 443)>\n",
      "  self._sock = None\n"
     ]
    },
    {
     "name": "stdout",
     "output_type": "stream",
     "text": [
      "Saved\n"
     ]
    },
    {
     "name": "stderr",
     "output_type": "stream",
     "text": [
      "C:\\Users\\Bhavya\\Anaconda3\\lib\\socket.py:657: ResourceWarning: unclosed <socket.socket fd=5344, family=AddressFamily.AF_INET, type=SocketKind.SOCK_STREAM, proto=0, laddr=('139.19.106.201', 62353), raddr=('151.101.113.67', 443)>\n",
      "  self._sock = None\n",
      "C:\\Users\\Bhavya\\Anaconda3\\lib\\socket.py:657: ResourceWarning: unclosed <socket.socket fd=5336, family=AddressFamily.AF_INET, type=SocketKind.SOCK_STREAM, proto=0, laddr=('139.19.106.201', 62354), raddr=('151.101.114.62', 443)>\n",
      "  self._sock = None\n",
      "C:\\Users\\Bhavya\\Anaconda3\\lib\\socket.py:657: ResourceWarning: unclosed <socket.socket fd=5696, family=AddressFamily.AF_INET, type=SocketKind.SOCK_STREAM, proto=0, laddr=('139.19.106.201', 62363), raddr=('151.101.113.67', 443)>\n",
      "  self._sock = None\n",
      "C:\\Users\\Bhavya\\Anaconda3\\lib\\socket.py:657: ResourceWarning: unclosed <socket.socket fd=5880, family=AddressFamily.AF_INET, type=SocketKind.SOCK_STREAM, proto=0, laddr=('139.19.106.201', 62378), raddr=('151.101.113.67', 443)>\n",
      "  self._sock = None\n",
      "C:\\Users\\Bhavya\\Anaconda3\\lib\\socket.py:657: ResourceWarning: unclosed <socket.socket fd=6216, family=AddressFamily.AF_INET, type=SocketKind.SOCK_STREAM, proto=0, laddr=('139.19.106.201', 62393), raddr=('151.101.113.67', 443)>\n",
      "  self._sock = None\n",
      "C:\\Users\\Bhavya\\Anaconda3\\lib\\socket.py:657: ResourceWarning: unclosed <socket.socket fd=5868, family=AddressFamily.AF_INET, type=SocketKind.SOCK_STREAM, proto=0, laddr=('139.19.106.201', 62374), raddr=('151.101.114.62', 443)>\n",
      "  self._sock = None\n"
     ]
    },
    {
     "name": "stdout",
     "output_type": "stream",
     "text": [
      "Saved\n"
     ]
    },
    {
     "name": "stderr",
     "output_type": "stream",
     "text": [
      "C:\\Users\\Bhavya\\Anaconda3\\lib\\socket.py:657: ResourceWarning: unclosed <socket.socket fd=6780, family=AddressFamily.AF_INET, type=SocketKind.SOCK_STREAM, proto=0, laddr=('139.19.106.201', 62421), raddr=('151.101.113.67', 443)>\n",
      "  self._sock = None\n"
     ]
    },
    {
     "name": "stdout",
     "output_type": "stream",
     "text": [
      "Saved\n"
     ]
    },
    {
     "name": "stderr",
     "output_type": "stream",
     "text": [
      "C:\\Users\\Bhavya\\Anaconda3\\lib\\site-packages\\ipykernel_launcher.py:568: SettingWithCopyWarning: \n",
      "A value is trying to be set on a copy of a slice from a DataFrame.\n",
      "Try using .loc[row_indexer,col_indexer] = value instead\n",
      "\n",
      "See the caveats in the documentation: http://pandas.pydata.org/pandas-docs/stable/indexing.html#indexing-view-versus-copy\n",
      "C:\\Users\\Bhavya\\Anaconda3\\lib\\socket.py:657: ResourceWarning: unclosed <socket.socket fd=7408, family=AddressFamily.AF_INET, type=SocketKind.SOCK_STREAM, proto=0, laddr=('139.19.106.201', 62451), raddr=('151.101.113.67', 443)>\n",
      "  self._sock = None\n",
      "C:\\Users\\Bhavya\\Anaconda3\\lib\\socket.py:657: ResourceWarning: unclosed <socket.socket fd=7308, family=AddressFamily.AF_INET, type=SocketKind.SOCK_STREAM, proto=0, laddr=('139.19.106.201', 62444), raddr=('151.101.114.62', 443)>\n",
      "  self._sock = None\n",
      "C:\\Users\\Bhavya\\Anaconda3\\lib\\socket.py:657: ResourceWarning: unclosed <socket.socket fd=7620, family=AddressFamily.AF_INET, type=SocketKind.SOCK_STREAM, proto=0, laddr=('139.19.106.201', 62460), raddr=('151.101.113.67', 443)>\n",
      "  self._sock = None\n",
      "C:\\Users\\Bhavya\\Anaconda3\\lib\\socket.py:657: ResourceWarning: unclosed <socket.socket fd=7788, family=AddressFamily.AF_INET, type=SocketKind.SOCK_STREAM, proto=0, laddr=('139.19.106.201', 62468), raddr=('151.101.113.67', 443)>\n",
      "  self._sock = None\n",
      "C:\\Users\\Bhavya\\Anaconda3\\lib\\socket.py:657: ResourceWarning: unclosed <socket.socket fd=7772, family=AddressFamily.AF_INET, type=SocketKind.SOCK_STREAM, proto=0, laddr=('139.19.106.201', 62467), raddr=('151.101.113.67', 443)>\n",
      "  self._sock = None\n",
      "C:\\Users\\Bhavya\\Anaconda3\\lib\\socket.py:657: ResourceWarning: unclosed <socket.socket fd=7756, family=AddressFamily.AF_INET, type=SocketKind.SOCK_STREAM, proto=0, laddr=('139.19.106.201', 62470), raddr=('151.101.113.67', 443)>\n",
      "  self._sock = None\n"
     ]
    },
    {
     "name": "stdout",
     "output_type": "stream",
     "text": [
      "Creating a new Dictionary\n",
      "Saved\n"
     ]
    },
    {
     "name": "stderr",
     "output_type": "stream",
     "text": [
      "C:\\Users\\Bhavya\\Anaconda3\\lib\\socket.py:657: ResourceWarning: unclosed <socket.socket fd=8024, family=AddressFamily.AF_INET, type=SocketKind.SOCK_STREAM, proto=0, laddr=('139.19.106.201', 62488), raddr=('151.101.113.67', 443)>\n",
      "  self._sock = None\n",
      "C:\\Users\\Bhavya\\Anaconda3\\lib\\socket.py:657: ResourceWarning: unclosed <socket.socket fd=7932, family=AddressFamily.AF_INET, type=SocketKind.SOCK_STREAM, proto=0, laddr=('139.19.106.201', 62489), raddr=('151.101.113.67', 443)>\n",
      "  self._sock = None\n",
      "C:\\Users\\Bhavya\\Anaconda3\\lib\\socket.py:657: ResourceWarning: unclosed <socket.socket fd=8548, family=AddressFamily.AF_INET, type=SocketKind.SOCK_STREAM, proto=0, laddr=('139.19.106.201', 62510), raddr=('151.101.113.67', 443)>\n",
      "  self._sock = None\n",
      "C:\\Users\\Bhavya\\Anaconda3\\lib\\socket.py:657: ResourceWarning: unclosed <socket.socket fd=2588, family=AddressFamily.AF_INET, type=SocketKind.SOCK_STREAM, proto=0, laddr=('139.19.106.201', 62522), raddr=('151.101.113.67', 443)>\n",
      "  self._sock = None\n",
      "C:\\Users\\Bhavya\\Anaconda3\\lib\\socket.py:657: ResourceWarning: unclosed <socket.socket fd=8744, family=AddressFamily.AF_INET, type=SocketKind.SOCK_STREAM, proto=0, laddr=('139.19.106.201', 62523), raddr=('151.101.113.67', 443)>\n",
      "  self._sock = None\n",
      "C:\\Users\\Bhavya\\Anaconda3\\lib\\socket.py:657: ResourceWarning: unclosed <socket.socket fd=6800, family=AddressFamily.AF_INET, type=SocketKind.SOCK_STREAM, proto=0, laddr=('139.19.106.201', 62531), raddr=('151.101.113.67', 443)>\n",
      "  self._sock = None\n",
      "C:\\Users\\Bhavya\\Anaconda3\\lib\\socket.py:657: ResourceWarning: unclosed <socket.socket fd=6112, family=AddressFamily.AF_INET, type=SocketKind.SOCK_STREAM, proto=0, laddr=('139.19.106.201', 62530), raddr=('151.101.113.67', 443)>\n",
      "  self._sock = None\n",
      "C:\\Users\\Bhavya\\Anaconda3\\lib\\socket.py:657: ResourceWarning: unclosed <socket.socket fd=6772, family=AddressFamily.AF_INET, type=SocketKind.SOCK_STREAM, proto=0, laddr=('139.19.106.201', 62537), raddr=('151.101.113.67', 443)>\n",
      "  self._sock = None\n"
     ]
    },
    {
     "name": "stdout",
     "output_type": "stream",
     "text": [
      "Creating a new Dictionary\n",
      "Saved\n"
     ]
    },
    {
     "name": "stderr",
     "output_type": "stream",
     "text": [
      "C:\\Users\\Bhavya\\Anaconda3\\lib\\site-packages\\ipykernel_launcher.py:568: SettingWithCopyWarning: \n",
      "A value is trying to be set on a copy of a slice from a DataFrame.\n",
      "Try using .loc[row_indexer,col_indexer] = value instead\n",
      "\n",
      "See the caveats in the documentation: http://pandas.pydata.org/pandas-docs/stable/indexing.html#indexing-view-versus-copy\n",
      "C:\\Users\\Bhavya\\Anaconda3\\lib\\socket.py:657: ResourceWarning: unclosed <socket.socket fd=6872, family=AddressFamily.AF_INET, type=SocketKind.SOCK_STREAM, proto=0, laddr=('139.19.106.201', 62575), raddr=('151.101.113.67', 443)>\n",
      "  self._sock = None\n",
      "C:\\Users\\Bhavya\\Anaconda3\\lib\\socket.py:657: ResourceWarning: unclosed <socket.socket fd=6588, family=AddressFamily.AF_INET, type=SocketKind.SOCK_STREAM, proto=0, laddr=('139.19.106.201', 62572), raddr=('151.101.113.67', 443)>\n",
      "  self._sock = None\n"
     ]
    },
    {
     "name": "stdout",
     "output_type": "stream",
     "text": [
      "Saved\n",
      "Saved\n"
     ]
    },
    {
     "name": "stderr",
     "output_type": "stream",
     "text": [
      "C:\\Users\\Bhavya\\Anaconda3\\lib\\socket.py:657: ResourceWarning: unclosed <socket.socket fd=7060, family=AddressFamily.AF_INET, type=SocketKind.SOCK_STREAM, proto=0, laddr=('139.19.106.201', 62576), raddr=('151.101.114.62', 443)>\n",
      "  self._sock = None\n",
      "C:\\Users\\Bhavya\\Anaconda3\\lib\\socket.py:657: ResourceWarning: unclosed <socket.socket fd=7060, family=AddressFamily.AF_INET, type=SocketKind.SOCK_STREAM, proto=0, laddr=('139.19.106.201', 62603), raddr=('151.101.113.67', 443)>\n",
      "  self._sock = None\n",
      "C:\\Users\\Bhavya\\Anaconda3\\lib\\socket.py:657: ResourceWarning: unclosed <socket.socket fd=7508, family=AddressFamily.AF_INET, type=SocketKind.SOCK_STREAM, proto=0, laddr=('139.19.106.201', 62602), raddr=('151.101.113.73', 443)>\n",
      "  self._sock = None\n",
      "C:\\Users\\Bhavya\\Anaconda3\\lib\\socket.py:657: ResourceWarning: unclosed <socket.socket fd=2884, family=AddressFamily.AF_INET, type=SocketKind.SOCK_STREAM, proto=0, laddr=('139.19.106.201', 62604), raddr=('151.101.113.67', 443)>\n",
      "  self._sock = None\n",
      "C:\\Users\\Bhavya\\Anaconda3\\lib\\socket.py:657: ResourceWarning: unclosed <socket.socket fd=9856, family=AddressFamily.AF_INET, type=SocketKind.SOCK_STREAM, proto=0, laddr=('139.19.106.201', 62609), raddr=('151.101.114.62', 443)>\n",
      "  self._sock = None\n"
     ]
    },
    {
     "name": "stdout",
     "output_type": "stream",
     "text": [
      "Saved\n"
     ]
    },
    {
     "name": "stderr",
     "output_type": "stream",
     "text": [
      "C:\\Users\\Bhavya\\Anaconda3\\lib\\site-packages\\ipykernel_launcher.py:568: SettingWithCopyWarning: \n",
      "A value is trying to be set on a copy of a slice from a DataFrame.\n",
      "Try using .loc[row_indexer,col_indexer] = value instead\n",
      "\n",
      "See the caveats in the documentation: http://pandas.pydata.org/pandas-docs/stable/indexing.html#indexing-view-versus-copy\n"
     ]
    },
    {
     "name": "stdout",
     "output_type": "stream",
     "text": [
      "Saved\n",
      "Saved\n",
      "Saved\n",
      "Saved\n",
      "Saved\n",
      "Saved\n",
      "Saved\n",
      "Saved\n",
      "Saved\n",
      "Saved\n"
     ]
    },
    {
     "name": "stderr",
     "output_type": "stream",
     "text": [
      "C:\\Users\\Bhavya\\Anaconda3\\lib\\site-packages\\pandas\\core\\ops.py:1649: FutureWarning: elementwise comparison failed; returning scalar instead, but in the future will perform elementwise comparison\n",
      "  result = method(y)\n"
     ]
    },
    {
     "name": "stdout",
     "output_type": "stream",
     "text": [
      "Saved\n"
     ]
    },
    {
     "name": "stderr",
     "output_type": "stream",
     "text": [
      "C:\\Users\\Bhavya\\Anaconda3\\lib\\site-packages\\ipykernel_launcher.py:568: SettingWithCopyWarning: \n",
      "A value is trying to be set on a copy of a slice from a DataFrame.\n",
      "Try using .loc[row_indexer,col_indexer] = value instead\n",
      "\n",
      "See the caveats in the documentation: http://pandas.pydata.org/pandas-docs/stable/indexing.html#indexing-view-versus-copy\n"
     ]
    },
    {
     "name": "stdout",
     "output_type": "stream",
     "text": [
      "Saved\n",
      "Saved\n",
      "Saved\n"
     ]
    },
    {
     "name": "stderr",
     "output_type": "stream",
     "text": [
      "C:\\Users\\Bhavya\\Anaconda3\\lib\\site-packages\\ipykernel_launcher.py:568: SettingWithCopyWarning: \n",
      "A value is trying to be set on a copy of a slice from a DataFrame.\n",
      "Try using .loc[row_indexer,col_indexer] = value instead\n",
      "\n",
      "See the caveats in the documentation: http://pandas.pydata.org/pandas-docs/stable/indexing.html#indexing-view-versus-copy\n",
      "C:\\Users\\Bhavya\\Anaconda3\\lib\\site-packages\\ipykernel_launcher.py:568: SettingWithCopyWarning: \n",
      "A value is trying to be set on a copy of a slice from a DataFrame.\n",
      "Try using .loc[row_indexer,col_indexer] = value instead\n",
      "\n",
      "See the caveats in the documentation: http://pandas.pydata.org/pandas-docs/stable/indexing.html#indexing-view-versus-copy\n"
     ]
    },
    {
     "name": "stdout",
     "output_type": "stream",
     "text": [
      "Saved\n",
      "Saved\n"
     ]
    },
    {
     "name": "stderr",
     "output_type": "stream",
     "text": [
      "C:\\Users\\Bhavya\\Anaconda3\\lib\\site-packages\\ipykernel_launcher.py:568: SettingWithCopyWarning: \n",
      "A value is trying to be set on a copy of a slice from a DataFrame.\n",
      "Try using .loc[row_indexer,col_indexer] = value instead\n",
      "\n",
      "See the caveats in the documentation: http://pandas.pydata.org/pandas-docs/stable/indexing.html#indexing-view-versus-copy\n"
     ]
    },
    {
     "name": "stdout",
     "output_type": "stream",
     "text": [
      "Saved\n",
      "Saved\n",
      "Saved\n",
      "Saved\n",
      "Saved\n"
     ]
    },
    {
     "name": "stderr",
     "output_type": "stream",
     "text": [
      "C:\\Users\\Bhavya\\Anaconda3\\lib\\site-packages\\ipykernel_launcher.py:568: SettingWithCopyWarning: \n",
      "A value is trying to be set on a copy of a slice from a DataFrame.\n",
      "Try using .loc[row_indexer,col_indexer] = value instead\n",
      "\n",
      "See the caveats in the documentation: http://pandas.pydata.org/pandas-docs/stable/indexing.html#indexing-view-versus-copy\n"
     ]
    },
    {
     "name": "stdout",
     "output_type": "stream",
     "text": [
      "Saved\n"
     ]
    },
    {
     "name": "stderr",
     "output_type": "stream",
     "text": [
      "C:\\Users\\Bhavya\\Anaconda3\\lib\\site-packages\\ipykernel_launcher.py:568: SettingWithCopyWarning: \n",
      "A value is trying to be set on a copy of a slice from a DataFrame.\n",
      "Try using .loc[row_indexer,col_indexer] = value instead\n",
      "\n",
      "See the caveats in the documentation: http://pandas.pydata.org/pandas-docs/stable/indexing.html#indexing-view-versus-copy\n"
     ]
    },
    {
     "name": "stdout",
     "output_type": "stream",
     "text": [
      "Saved\n",
      "Saved\n",
      "Saved\n",
      "Saved\n",
      "Saved\n",
      "Saved\n",
      "Saved\n",
      "Saved\n",
      "Saved\n"
     ]
    },
    {
     "name": "stderr",
     "output_type": "stream",
     "text": [
      "C:\\Users\\Bhavya\\Anaconda3\\lib\\site-packages\\ipykernel_launcher.py:568: SettingWithCopyWarning: \n",
      "A value is trying to be set on a copy of a slice from a DataFrame.\n",
      "Try using .loc[row_indexer,col_indexer] = value instead\n",
      "\n",
      "See the caveats in the documentation: http://pandas.pydata.org/pandas-docs/stable/indexing.html#indexing-view-versus-copy\n"
     ]
    },
    {
     "name": "stdout",
     "output_type": "stream",
     "text": [
      "Saved\n"
     ]
    },
    {
     "name": "stderr",
     "output_type": "stream",
     "text": [
      "C:\\Users\\Bhavya\\Anaconda3\\lib\\site-packages\\ipykernel_launcher.py:568: SettingWithCopyWarning: \n",
      "A value is trying to be set on a copy of a slice from a DataFrame.\n",
      "Try using .loc[row_indexer,col_indexer] = value instead\n",
      "\n",
      "See the caveats in the documentation: http://pandas.pydata.org/pandas-docs/stable/indexing.html#indexing-view-versus-copy\n"
     ]
    },
    {
     "name": "stdout",
     "output_type": "stream",
     "text": [
      "Saved\n",
      "Saved\n"
     ]
    },
    {
     "name": "stderr",
     "output_type": "stream",
     "text": [
      "C:\\Users\\Bhavya\\Anaconda3\\lib\\site-packages\\ipykernel_launcher.py:568: SettingWithCopyWarning: \n",
      "A value is trying to be set on a copy of a slice from a DataFrame.\n",
      "Try using .loc[row_indexer,col_indexer] = value instead\n",
      "\n",
      "See the caveats in the documentation: http://pandas.pydata.org/pandas-docs/stable/indexing.html#indexing-view-versus-copy\n"
     ]
    },
    {
     "name": "stdout",
     "output_type": "stream",
     "text": [
      "Saved\n"
     ]
    },
    {
     "name": "stderr",
     "output_type": "stream",
     "text": [
      "C:\\Users\\Bhavya\\Anaconda3\\lib\\site-packages\\ipykernel_launcher.py:568: SettingWithCopyWarning: \n",
      "A value is trying to be set on a copy of a slice from a DataFrame.\n",
      "Try using .loc[row_indexer,col_indexer] = value instead\n",
      "\n",
      "See the caveats in the documentation: http://pandas.pydata.org/pandas-docs/stable/indexing.html#indexing-view-versus-copy\n"
     ]
    },
    {
     "name": "stdout",
     "output_type": "stream",
     "text": [
      "Saved\n",
      "Saved\n",
      "Saved\n",
      "Saved\n"
     ]
    },
    {
     "name": "stderr",
     "output_type": "stream",
     "text": [
      "C:\\Users\\Bhavya\\Anaconda3\\lib\\site-packages\\ipykernel_launcher.py:568: SettingWithCopyWarning: \n",
      "A value is trying to be set on a copy of a slice from a DataFrame.\n",
      "Try using .loc[row_indexer,col_indexer] = value instead\n",
      "\n",
      "See the caveats in the documentation: http://pandas.pydata.org/pandas-docs/stable/indexing.html#indexing-view-versus-copy\n",
      "C:\\Users\\Bhavya\\Anaconda3\\lib\\site-packages\\ipykernel_launcher.py:568: SettingWithCopyWarning: \n",
      "A value is trying to be set on a copy of a slice from a DataFrame.\n",
      "Try using .loc[row_indexer,col_indexer] = value instead\n",
      "\n",
      "See the caveats in the documentation: http://pandas.pydata.org/pandas-docs/stable/indexing.html#indexing-view-versus-copy\n"
     ]
    },
    {
     "name": "stdout",
     "output_type": "stream",
     "text": [
      "Saved\n",
      "Saved\n",
      "Saved\n",
      "Saved\n",
      "Saved\n"
     ]
    },
    {
     "name": "stderr",
     "output_type": "stream",
     "text": [
      "C:\\Users\\Bhavya\\Anaconda3\\lib\\site-packages\\ipykernel_launcher.py:568: SettingWithCopyWarning: \n",
      "A value is trying to be set on a copy of a slice from a DataFrame.\n",
      "Try using .loc[row_indexer,col_indexer] = value instead\n",
      "\n",
      "See the caveats in the documentation: http://pandas.pydata.org/pandas-docs/stable/indexing.html#indexing-view-versus-copy\n",
      "C:\\Users\\Bhavya\\Anaconda3\\lib\\site-packages\\ipykernel_launcher.py:568: SettingWithCopyWarning: \n",
      "A value is trying to be set on a copy of a slice from a DataFrame.\n",
      "Try using .loc[row_indexer,col_indexer] = value instead\n",
      "\n",
      "See the caveats in the documentation: http://pandas.pydata.org/pandas-docs/stable/indexing.html#indexing-view-versus-copy\n"
     ]
    },
    {
     "name": "stdout",
     "output_type": "stream",
     "text": [
      "Saved\n",
      "Saved\n"
     ]
    },
    {
     "name": "stderr",
     "output_type": "stream",
     "text": [
      "C:\\Users\\Bhavya\\Anaconda3\\lib\\site-packages\\ipykernel_launcher.py:568: SettingWithCopyWarning: \n",
      "A value is trying to be set on a copy of a slice from a DataFrame.\n",
      "Try using .loc[row_indexer,col_indexer] = value instead\n",
      "\n",
      "See the caveats in the documentation: http://pandas.pydata.org/pandas-docs/stable/indexing.html#indexing-view-versus-copy\n"
     ]
    },
    {
     "name": "stdout",
     "output_type": "stream",
     "text": [
      "Saved\n",
      "Saved\n",
      "Saved\n",
      "Saved\n"
     ]
    },
    {
     "name": "stderr",
     "output_type": "stream",
     "text": [
      "C:\\Users\\Bhavya\\Anaconda3\\lib\\site-packages\\ipykernel_launcher.py:568: SettingWithCopyWarning: \n",
      "A value is trying to be set on a copy of a slice from a DataFrame.\n",
      "Try using .loc[row_indexer,col_indexer] = value instead\n",
      "\n",
      "See the caveats in the documentation: http://pandas.pydata.org/pandas-docs/stable/indexing.html#indexing-view-versus-copy\n"
     ]
    },
    {
     "name": "stdout",
     "output_type": "stream",
     "text": [
      "Saved\n"
     ]
    },
    {
     "name": "stderr",
     "output_type": "stream",
     "text": [
      "C:\\Users\\Bhavya\\Anaconda3\\lib\\site-packages\\pandas\\core\\ops.py:1649: FutureWarning: elementwise comparison failed; returning scalar instead, but in the future will perform elementwise comparison\n",
      "  result = method(y)\n"
     ]
    },
    {
     "name": "stdout",
     "output_type": "stream",
     "text": [
      "Saved\n",
      "Saved\n",
      "Saved\n",
      "Saved\n"
     ]
    },
    {
     "name": "stderr",
     "output_type": "stream",
     "text": [
      "C:\\Users\\Bhavya\\Anaconda3\\lib\\site-packages\\ipykernel_launcher.py:568: SettingWithCopyWarning: \n",
      "A value is trying to be set on a copy of a slice from a DataFrame.\n",
      "Try using .loc[row_indexer,col_indexer] = value instead\n",
      "\n",
      "See the caveats in the documentation: http://pandas.pydata.org/pandas-docs/stable/indexing.html#indexing-view-versus-copy\n"
     ]
    },
    {
     "name": "stdout",
     "output_type": "stream",
     "text": [
      "Saved\n"
     ]
    },
    {
     "name": "stderr",
     "output_type": "stream",
     "text": [
      "C:\\Users\\Bhavya\\Anaconda3\\lib\\site-packages\\ipykernel_launcher.py:568: SettingWithCopyWarning: \n",
      "A value is trying to be set on a copy of a slice from a DataFrame.\n",
      "Try using .loc[row_indexer,col_indexer] = value instead\n",
      "\n",
      "See the caveats in the documentation: http://pandas.pydata.org/pandas-docs/stable/indexing.html#indexing-view-versus-copy\n"
     ]
    },
    {
     "name": "stdout",
     "output_type": "stream",
     "text": [
      "Saved\n",
      "Saved\n"
     ]
    },
    {
     "name": "stderr",
     "output_type": "stream",
     "text": [
      "C:\\Users\\Bhavya\\Anaconda3\\lib\\site-packages\\pandas\\core\\ops.py:1649: FutureWarning: elementwise comparison failed; returning scalar instead, but in the future will perform elementwise comparison\n",
      "  result = method(y)\n"
     ]
    },
    {
     "name": "stdout",
     "output_type": "stream",
     "text": [
      "Saved\n",
      "Saved\n",
      "Saved\n",
      "Saved\n",
      "Saved\n",
      "Saved\n",
      "Saved\n",
      "Saved\n",
      "Saved\n",
      "Saved\n",
      "Saved\n",
      "Saved\n",
      "Saved\n",
      "Saved\n",
      "Saved\n",
      "Saved\n"
     ]
    },
    {
     "name": "stderr",
     "output_type": "stream",
     "text": [
      "C:\\Users\\Bhavya\\Anaconda3\\lib\\site-packages\\ipykernel_launcher.py:568: SettingWithCopyWarning: \n",
      "A value is trying to be set on a copy of a slice from a DataFrame.\n",
      "Try using .loc[row_indexer,col_indexer] = value instead\n",
      "\n",
      "See the caveats in the documentation: http://pandas.pydata.org/pandas-docs/stable/indexing.html#indexing-view-versus-copy\n"
     ]
    },
    {
     "name": "stdout",
     "output_type": "stream",
     "text": [
      "Saved\n"
     ]
    },
    {
     "name": "stderr",
     "output_type": "stream",
     "text": [
      "C:\\Users\\Bhavya\\Anaconda3\\lib\\site-packages\\ipykernel_launcher.py:568: SettingWithCopyWarning: \n",
      "A value is trying to be set on a copy of a slice from a DataFrame.\n",
      "Try using .loc[row_indexer,col_indexer] = value instead\n",
      "\n",
      "See the caveats in the documentation: http://pandas.pydata.org/pandas-docs/stable/indexing.html#indexing-view-versus-copy\n"
     ]
    },
    {
     "name": "stdout",
     "output_type": "stream",
     "text": [
      "Saved\n",
      "Saved\n",
      "Saved\n"
     ]
    },
    {
     "name": "stderr",
     "output_type": "stream",
     "text": [
      "C:\\Users\\Bhavya\\Anaconda3\\lib\\site-packages\\ipykernel_launcher.py:568: SettingWithCopyWarning: \n",
      "A value is trying to be set on a copy of a slice from a DataFrame.\n",
      "Try using .loc[row_indexer,col_indexer] = value instead\n",
      "\n",
      "See the caveats in the documentation: http://pandas.pydata.org/pandas-docs/stable/indexing.html#indexing-view-versus-copy\n"
     ]
    },
    {
     "name": "stdout",
     "output_type": "stream",
     "text": [
      "Saved\n",
      "Saved\n",
      "Saved\n",
      "Saved\n"
     ]
    },
    {
     "name": "stderr",
     "output_type": "stream",
     "text": [
      "C:\\Users\\Bhavya\\Anaconda3\\lib\\site-packages\\ipykernel_launcher.py:568: SettingWithCopyWarning: \n",
      "A value is trying to be set on a copy of a slice from a DataFrame.\n",
      "Try using .loc[row_indexer,col_indexer] = value instead\n",
      "\n",
      "See the caveats in the documentation: http://pandas.pydata.org/pandas-docs/stable/indexing.html#indexing-view-versus-copy\n"
     ]
    },
    {
     "name": "stdout",
     "output_type": "stream",
     "text": [
      "Saved\n",
      "Saved\n",
      "Saved\n",
      "Saved\n"
     ]
    },
    {
     "name": "stderr",
     "output_type": "stream",
     "text": [
      "C:\\Users\\Bhavya\\Anaconda3\\lib\\site-packages\\ipykernel_launcher.py:568: SettingWithCopyWarning: \n",
      "A value is trying to be set on a copy of a slice from a DataFrame.\n",
      "Try using .loc[row_indexer,col_indexer] = value instead\n",
      "\n",
      "See the caveats in the documentation: http://pandas.pydata.org/pandas-docs/stable/indexing.html#indexing-view-versus-copy\n"
     ]
    },
    {
     "name": "stdout",
     "output_type": "stream",
     "text": [
      "Saved\n"
     ]
    },
    {
     "name": "stderr",
     "output_type": "stream",
     "text": [
      "C:\\Users\\Bhavya\\Anaconda3\\lib\\site-packages\\ipykernel_launcher.py:568: SettingWithCopyWarning: \n",
      "A value is trying to be set on a copy of a slice from a DataFrame.\n",
      "Try using .loc[row_indexer,col_indexer] = value instead\n",
      "\n",
      "See the caveats in the documentation: http://pandas.pydata.org/pandas-docs/stable/indexing.html#indexing-view-versus-copy\n"
     ]
    },
    {
     "name": "stdout",
     "output_type": "stream",
     "text": [
      "Saved\n"
     ]
    },
    {
     "name": "stderr",
     "output_type": "stream",
     "text": [
      "C:\\Users\\Bhavya\\Anaconda3\\lib\\site-packages\\ipykernel_launcher.py:568: SettingWithCopyWarning: \n",
      "A value is trying to be set on a copy of a slice from a DataFrame.\n",
      "Try using .loc[row_indexer,col_indexer] = value instead\n",
      "\n",
      "See the caveats in the documentation: http://pandas.pydata.org/pandas-docs/stable/indexing.html#indexing-view-versus-copy\n"
     ]
    },
    {
     "name": "stdout",
     "output_type": "stream",
     "text": [
      "Saved\n",
      "Saved\n"
     ]
    },
    {
     "name": "stderr",
     "output_type": "stream",
     "text": [
      "C:\\Users\\Bhavya\\Anaconda3\\lib\\site-packages\\ipykernel_launcher.py:568: SettingWithCopyWarning: \n",
      "A value is trying to be set on a copy of a slice from a DataFrame.\n",
      "Try using .loc[row_indexer,col_indexer] = value instead\n",
      "\n",
      "See the caveats in the documentation: http://pandas.pydata.org/pandas-docs/stable/indexing.html#indexing-view-versus-copy\n"
     ]
    },
    {
     "name": "stdout",
     "output_type": "stream",
     "text": [
      "Saved\n",
      "Saved\n",
      "Saved\n"
     ]
    },
    {
     "name": "stderr",
     "output_type": "stream",
     "text": [
      "C:\\Users\\Bhavya\\Anaconda3\\lib\\site-packages\\ipykernel_launcher.py:568: SettingWithCopyWarning: \n",
      "A value is trying to be set on a copy of a slice from a DataFrame.\n",
      "Try using .loc[row_indexer,col_indexer] = value instead\n",
      "\n",
      "See the caveats in the documentation: http://pandas.pydata.org/pandas-docs/stable/indexing.html#indexing-view-versus-copy\n"
     ]
    }
   ],
   "source": [
    "links = list(headline_link.values())[:N]\n",
    "lock = Lock()\n",
    "\n",
    "### Creating threads for each link\n",
    "threads = []\n",
    "for link in links:\n",
    "    threads.append( News(link=link, name=query, lock=lock) )\n",
    "\n",
    "### Waiting for each thread to complete\n",
    "for t in threads:\n",
    "    try:\n",
    "        t.join()\n",
    "    except Exception as e:\n",
    "        pass\n",
    "\n",
    "### Merging the dfs\n",
    "DFs = []\n",
    "for i,t in enumerate(threads):\n",
    "    DFs.append(t.get_main_df())\n",
    "\n",
    "MERGED_DF = pd.concat(DFs, ignore_index=True)"
   ]
  },
  {
   "cell_type": "code",
   "execution_count": 16,
   "metadata": {
    "ExecuteTime": {
     "end_time": "2019-03-15T16:50:13.991346Z",
     "start_time": "2019-03-15T16:50:13.978193Z"
    },
    "hidden": true
   },
   "outputs": [],
   "source": [
    "dfs_copy = DFs.copy()\n",
    "\n",
    "def retrieve():\n",
    "    global dfs_copy\n",
    "    return dfs_copy\n",
    "\n",
    "# DFs = retrieve()"
   ]
  },
  {
   "cell_type": "markdown",
   "metadata": {
    "hidden": true
   },
   "source": [
    "### Adding Dummy Relations"
   ]
  },
  {
   "cell_type": "code",
   "execution_count": 17,
   "metadata": {
    "ExecuteTime": {
     "end_time": "2019-03-15T16:50:15.321405Z",
     "start_time": "2019-03-15T16:50:15.302452Z"
    },
    "hidden": true
   },
   "outputs": [],
   "source": [
    "PERSON_RELATIONS = ['Educated at', 'Citizen of', 'Person Employee or Member of', 'Organization top employees^-1',\\\n",
    "                    'Person Current and Past Location of Residence', 'Person Parents', 'Person Parents^-1',\\\n",
    "                    'Person Place of Birth', 'Person Siblings', 'Person Spouse']\n",
    "ORG_RELATION =     ['Organization Founded By', 'Organization Collaboration', 'Organization Collaboration^-1',\\\n",
    "                    'Organization Headquarters', 'Organization Subsidiary Of', 'Organization Subsidiary Of^-1',\\\n",
    "                    'Organization top employees', 'Person Employee or Member of^-1', 'Organization Acquired By^-1',\\\n",
    "                    'Organization Acquired By', 'Organization Provider To', 'Organization Provider To^-1']\n",
    "COMMON_RELATION =  ['Organization Founded By^-1']\n",
    "\n",
    "isPerson = False\n",
    "\n",
    "def add_dummy(df, person=False):\n",
    "    global isPerson\n",
    "    rel = set(df['Relationship'])\n",
    "    if person:\n",
    "        isPerson = person\n",
    "    else:\n",
    "        isPerson = True if any(s in PERSON_RELATIONS for s in rel) else False\n",
    "    if isPerson:\n",
    "        dummy_rels = COMMON_RELATION + PERSON_RELATIONS\n",
    "    else:\n",
    "        dummy_rels = COMMON_RELATION + ORG_RELATION\n",
    "    for r in rel:\n",
    "        dummy_rels.remove(r)\n",
    "    for r in dummy_rels:\n",
    "        df = df.append({'Subject': query, 'Relationship':r, 'Object':''}, ignore_index=True)\n",
    "    return df\n",
    "\n",
    "def count_confidence(main_df):\n",
    "    if (not main_df.empty):\n",
    "        main_df = main_df.sort_values('Object', ascending=True).drop_duplicates().groupby(['Subject','Relationship']).agg(lambda x: list(x))\n",
    "        main_df['Object'] = main_df['Object'].agg(lambda x: x if x != [''] else [])\n",
    "        main_df['Count'] = main_df['Object'].apply(lambda x: len(x))\n",
    "        #main_df = main_df[[c for c in main_df if c not in ['Confidence']] + ['Confidence']]\n",
    "    return main_df"
   ]
  },
  {
   "cell_type": "code",
   "execution_count": 18,
   "metadata": {
    "ExecuteTime": {
     "end_time": "2019-03-15T16:50:23.017264Z",
     "start_time": "2019-03-15T16:50:16.321943Z"
    },
    "collapsed": true,
    "hidden": true
   },
   "outputs": [
    {
     "data": {
      "text/html": [
       "<div>\n",
       "<style scoped>\n",
       "    .dataframe tbody tr th:only-of-type {\n",
       "        vertical-align: middle;\n",
       "    }\n",
       "\n",
       "    .dataframe tbody tr th {\n",
       "        vertical-align: top;\n",
       "    }\n",
       "\n",
       "    .dataframe thead th {\n",
       "        text-align: right;\n",
       "    }\n",
       "</style>\n",
       "<table border=\"1\" class=\"dataframe\">\n",
       "  <thead>\n",
       "    <tr style=\"text-align: right;\">\n",
       "      <th></th>\n",
       "      <th></th>\n",
       "      <th>Object</th>\n",
       "      <th>Count</th>\n",
       "      <th>Pseudo Ground Truth</th>\n",
       "      <th>Count_PGT</th>\n",
       "      <th>Recall Prediction</th>\n",
       "    </tr>\n",
       "    <tr>\n",
       "      <th>Subject</th>\n",
       "      <th>Relationship</th>\n",
       "      <th></th>\n",
       "      <th></th>\n",
       "      <th></th>\n",
       "      <th></th>\n",
       "      <th></th>\n",
       "    </tr>\n",
       "  </thead>\n",
       "  <tbody>\n",
       "    <tr>\n",
       "      <th rowspan=\"11\" valign=\"top\">Donald Trump</th>\n",
       "      <th>Citizen of</th>\n",
       "      <td>[American:2, Americans:1, Chinese:1, Czech:3, German village:3, Hanoi:1, Kallstadt:3, New Zealand:1, Puerto Rico:1, Russian:2, United States:2, Yemen:1]</td>\n",
       "      <td>12</td>\n",
       "      <td>[United States of America]</td>\n",
       "      <td>1</td>\n",
       "      <td>0.81</td>\n",
       "    </tr>\n",
       "    <tr>\n",
       "      <th>Educated at</th>\n",
       "      <td>[Congress:2, Federal Aviation Administration:1, Foundations of American Jewish Liberalism:1, Office of Management and Budget:1, Prudential:2, Trump International Golf Course:1, University of Florida:1, Yale Law School:1]</td>\n",
       "      <td>8</td>\n",
       "      <td>[University of Pennsylvania, Fordham University, The Wharton School, New York Military Academy, The Kew-Forest School]</td>\n",
       "      <td>5</td>\n",
       "      <td>0.71</td>\n",
       "    </tr>\n",
       "    <tr>\n",
       "      <th>Organization Founded By^-1</th>\n",
       "      <td>[Democrats:1, National Rifle Association:1]</td>\n",
       "      <td>2</td>\n",
       "      <td>[Trump Model Management, Trump Entertainment Resorts, The Trump Entrepreneur Initiative, Trump Mortgage, Donald J. Trump Foundation, Trump Home, American Manufacturing Council]</td>\n",
       "      <td>7</td>\n",
       "      <td>0.62</td>\n",
       "    </tr>\n",
       "    <tr>\n",
       "      <th>Organization top employees^-1</th>\n",
       "      <td>[AP:1, Boeing:1, Department of Veterans Affairs:1, USA Today:1, Yale’s China Center:1]</td>\n",
       "      <td>5</td>\n",
       "      <td>[]</td>\n",
       "      <td>0</td>\n",
       "      <td>0.74</td>\n",
       "    </tr>\n",
       "    <tr>\n",
       "      <th>Person Current and Past Location of Residence</th>\n",
       "      <td>[Jerusalem:2, United States:2, Washington, D.C.:1]</td>\n",
       "      <td>3</td>\n",
       "      <td>[White House]</td>\n",
       "      <td>1</td>\n",
       "      <td>0.33</td>\n",
       "    </tr>\n",
       "    <tr>\n",
       "      <th>Person Employee or Member of</th>\n",
       "      <td>[AP:1, Boeing:1, CNN:1, Democratic:1, Democrats:1, Department of Veterans Affairs:1, Deutsche Bank and Investors Bank:1, Gallup poll:1, Justice Department:3, Marble Collegiate Church:3, Obama administration:1, Oval Office:1, Republican:5, Republicans:6, Senate:1, Twitter:1, USA Today:1, White House:2, Yale Law School:1, Yale’s China Center:1]</td>\n",
       "      <td>20</td>\n",
       "      <td>[The World's Billionaires]</td>\n",
       "      <td>1</td>\n",
       "      <td>0.62</td>\n",
       "    </tr>\n",
       "    <tr>\n",
       "      <th>Person Parents</th>\n",
       "      <td>[]</td>\n",
       "      <td>0</td>\n",
       "      <td>[Fred Trump, Mary Anne MacLeod, John G. Trump, Jared Kushner, Frederick Trump, Elizabeth Trump]</td>\n",
       "      <td>6</td>\n",
       "      <td>0.45</td>\n",
       "    </tr>\n",
       "    <tr>\n",
       "      <th>Person Parents^-1</th>\n",
       "      <td>[Jared Kushner:1, Marla Maples:3]</td>\n",
       "      <td>2</td>\n",
       "      <td>[Ivanka Trump, Donald Trump Jr., Eric Trump, Tiffany Trump, Barron Trump]</td>\n",
       "      <td>5</td>\n",
       "      <td>0.85</td>\n",
       "    </tr>\n",
       "    <tr>\n",
       "      <th>Person Place of Birth</th>\n",
       "      <td>[Jamaica Hospital:3, New York City:3, Queens:3]</td>\n",
       "      <td>3</td>\n",
       "      <td>[Jamaica Hospital]</td>\n",
       "      <td>1</td>\n",
       "      <td>0.73</td>\n",
       "    </tr>\n",
       "    <tr>\n",
       "      <th>Person Siblings</th>\n",
       "      <td>[]</td>\n",
       "      <td>0</td>\n",
       "      <td>[Maryanne Trump Barry, Robert Trump, Fred Trump Jr., Elizabeth Trump Grau]</td>\n",
       "      <td>4</td>\n",
       "      <td>0.42</td>\n",
       "    </tr>\n",
       "    <tr>\n",
       "      <th>Person Spouse</th>\n",
       "      <td>[Marla Maples:3, Susan Jakes:1]</td>\n",
       "      <td>2</td>\n",
       "      <td>[Melania Trump]</td>\n",
       "      <td>1</td>\n",
       "      <td>0.31</td>\n",
       "    </tr>\n",
       "  </tbody>\n",
       "</table>\n",
       "</div>"
      ],
      "text/plain": [
       "                                                                                                                                                                                                                                                                                                                                                                                                              Object  \\\n",
       "Subject      Relationship                                                                                                                                                                                                                                                                                                                                                                                              \n",
       "Donald Trump Citizen of                                     [American:2, Americans:1, Chinese:1, Czech:3, German village:3, Hanoi:1, Kallstadt:3, New Zealand:1, Puerto Rico:1, Russian:2, United States:2, Yemen:1]                                                                                                                                                                                                   \n",
       "             Educated at                                    [Congress:2, Federal Aviation Administration:1, Foundations of American Jewish Liberalism:1, Office of Management and Budget:1, Prudential:2, Trump International Golf Course:1, University of Florida:1, Yale Law School:1]                                                                                                                               \n",
       "             Organization Founded By^-1                     [Democrats:1, National Rifle Association:1]                                                                                                                                                                                                                                                                                                                \n",
       "             Organization top employees^-1                  [AP:1, Boeing:1, Department of Veterans Affairs:1, USA Today:1, Yale’s China Center:1]                                                                                                                                                                                                                                                                     \n",
       "             Person Current and Past Location of Residence  [Jerusalem:2, United States:2, Washington, D.C.:1]                                                                                                                                                                                                                                                                                                         \n",
       "             Person Employee or Member of                   [AP:1, Boeing:1, CNN:1, Democratic:1, Democrats:1, Department of Veterans Affairs:1, Deutsche Bank and Investors Bank:1, Gallup poll:1, Justice Department:3, Marble Collegiate Church:3, Obama administration:1, Oval Office:1, Republican:5, Republicans:6, Senate:1, Twitter:1, USA Today:1, White House:2, Yale Law School:1, Yale’s China Center:1]   \n",
       "             Person Parents                                 []                                                                                                                                                                                                                                                                                                                                                         \n",
       "             Person Parents^-1                              [Jared Kushner:1, Marla Maples:3]                                                                                                                                                                                                                                                                                                                          \n",
       "             Person Place of Birth                          [Jamaica Hospital:3, New York City:3, Queens:3]                                                                                                                                                                                                                                                                                                            \n",
       "             Person Siblings                                []                                                                                                                                                                                                                                                                                                                                                         \n",
       "             Person Spouse                                  [Marla Maples:3, Susan Jakes:1]                                                                                                                                                                                                                                                                                                                            \n",
       "\n",
       "                                                            Count  \\\n",
       "Subject      Relationship                                           \n",
       "Donald Trump Citizen of                                     12      \n",
       "             Educated at                                    8       \n",
       "             Organization Founded By^-1                     2       \n",
       "             Organization top employees^-1                  5       \n",
       "             Person Current and Past Location of Residence  3       \n",
       "             Person Employee or Member of                   20      \n",
       "             Person Parents                                 0       \n",
       "             Person Parents^-1                              2       \n",
       "             Person Place of Birth                          3       \n",
       "             Person Siblings                                0       \n",
       "             Person Spouse                                  2       \n",
       "\n",
       "                                                                                                                                                                                                                         Pseudo Ground Truth  \\\n",
       "Subject      Relationship                                                                                                                                                                                                                      \n",
       "Donald Trump Citizen of                                     [United States of America]                                                                                                                                                         \n",
       "             Educated at                                    [University of Pennsylvania, Fordham University, The Wharton School, New York Military Academy, The Kew-Forest School]                                                             \n",
       "             Organization Founded By^-1                     [Trump Model Management, Trump Entertainment Resorts, The Trump Entrepreneur Initiative, Trump Mortgage, Donald J. Trump Foundation, Trump Home, American Manufacturing Council]   \n",
       "             Organization top employees^-1                  []                                                                                                                                                                                 \n",
       "             Person Current and Past Location of Residence  [White House]                                                                                                                                                                      \n",
       "             Person Employee or Member of                   [The World's Billionaires]                                                                                                                                                         \n",
       "             Person Parents                                 [Fred Trump, Mary Anne MacLeod, John G. Trump, Jared Kushner, Frederick Trump, Elizabeth Trump]                                                                                    \n",
       "             Person Parents^-1                              [Ivanka Trump, Donald Trump Jr., Eric Trump, Tiffany Trump, Barron Trump]                                                                                                          \n",
       "             Person Place of Birth                          [Jamaica Hospital]                                                                                                                                                                 \n",
       "             Person Siblings                                [Maryanne Trump Barry, Robert Trump, Fred Trump Jr., Elizabeth Trump Grau]                                                                                                         \n",
       "             Person Spouse                                  [Melania Trump]                                                                                                                                                                    \n",
       "\n",
       "                                                            Count_PGT  \\\n",
       "Subject      Relationship                                               \n",
       "Donald Trump Citizen of                                     1           \n",
       "             Educated at                                    5           \n",
       "             Organization Founded By^-1                     7           \n",
       "             Organization top employees^-1                  0           \n",
       "             Person Current and Past Location of Residence  1           \n",
       "             Person Employee or Member of                   1           \n",
       "             Person Parents                                 6           \n",
       "             Person Parents^-1                              5           \n",
       "             Person Place of Birth                          1           \n",
       "             Person Siblings                                4           \n",
       "             Person Spouse                                  1           \n",
       "\n",
       "                                                            Recall Prediction  \n",
       "Subject      Relationship                                                      \n",
       "Donald Trump Citizen of                                     0.81               \n",
       "             Educated at                                    0.71               \n",
       "             Organization Founded By^-1                     0.62               \n",
       "             Organization top employees^-1                  0.74               \n",
       "             Person Current and Past Location of Residence  0.33               \n",
       "             Person Employee or Member of                   0.62               \n",
       "             Person Parents                                 0.45               \n",
       "             Person Parents^-1                              0.85               \n",
       "             Person Place of Birth                          0.73               \n",
       "             Person Siblings                                0.42               \n",
       "             Person Spouse                                  0.31               "
      ]
     },
     "execution_count": 18,
     "metadata": {},
     "output_type": "execute_result"
    }
   ],
   "source": [
    "main_df = MERGED_DF.drop('Confidence',axis=1)\n",
    "main_df = main_df.groupby(['Subject','Relationship','Object']).size().to_frame('c').reset_index()\n",
    "main_df['Object'] = main_df.apply(lambda main_df: main_df['Object']+':'+str(main_df['c']), axis=1) \n",
    "main_df = main_df.drop('c',axis=1)\n",
    "main_df = add_dummy(main_df)\n",
    "\n",
    "main_df = count_confidence(main_df)\n",
    "\n",
    "###### ADDING GROUND TRUTH ######\n",
    "main_df = u.add_ground_truth(main_df)\n",
    "\n",
    "###### ADDING RECALL SCORE ######\n",
    "main_df = u.add_recall_score(main_df)\n",
    "\n",
    "main_df.to_pickle(\"data/dumps/web_reality-{}-{}.pkl\".format(N,query))\n",
    "main_df"
   ]
  },
  {
   "cell_type": "markdown",
   "metadata": {
    "heading_collapsed": true
   },
   "source": [
    "# Menu-Driven"
   ]
  },
  {
   "cell_type": "markdown",
   "metadata": {
    "hidden": true
   },
   "source": [
    "### Web & Reality"
   ]
  },
  {
   "cell_type": "code",
   "execution_count": 19,
   "metadata": {
    "ExecuteTime": {
     "end_time": "2019-03-15T16:50:31.514676Z",
     "start_time": "2019-03-15T16:50:31.493749Z"
    },
    "hidden": true
   },
   "outputs": [],
   "source": [
    "main_df = pd.read_pickle(\"data/dumps/web_reality-{}-{}.pkl\".format(N,query))\n",
    "web = main_df[['Object','Count']]\n",
    "web = web.rename(index=str, columns={\"Object\": \"Web\", \"Count\": \"Web_Count\"})\n",
    "reality = main_df[['Pseudo Ground Truth', 'Count_PGT']]"
   ]
  },
  {
   "cell_type": "markdown",
   "metadata": {
    "hidden": true
   },
   "source": [
    "### Doc Comparison"
   ]
  },
  {
   "cell_type": "code",
   "execution_count": 21,
   "metadata": {
    "ExecuteTime": {
     "end_time": "2019-03-15T16:51:38.845117Z",
     "start_time": "2019-03-15T16:51:28.439605Z"
    },
    "hidden": true,
    "scrolled": false
   },
   "outputs": [
    {
     "name": "stdout",
     "output_type": "stream",
     "text": [
      "*******  MAIN-MENU  *******\n",
      "0 :  Donald Trump, White House condemn New Zealand mosque shooting in Christchurch\n",
      "1 :  Trump denounces 'horrible massacre' in New Zealand\n",
      "2 :  Trump tweets 'warmest sympathy and best wishes' to New Zealand\n",
      "3 :  Trump offers condolences to New Zealand following mosque terror attacks\n",
      "4 :  Donald Trump offers US assistance after 'horrible massacre' in New Zealand\n",
      "5 :  Donald Trump stirs controversy with Breitbart interview about his 'tough' supporters\n",
      "6 :  Trump says 'there should be no Mueller report'\n",
      "7 :  16 minutes that explain the Trump presidency\n",
      "8 :  Trump applauds 'Jexodus' movement, calls on Jewish voters to become Republicans\n",
      "9 :  House panel opens sweeping probe of Trump, his associates\n",
      "10 :  What GOP split on border emergency means for Donald Trump and 2020\n",
      "11 :  Is America Becoming Trump’s Banana Republic?\n",
      "12 :  Biden will be a bust, Trump aides assure their boss\n",
      "13 :  How Donald Trump is making illegal immigration worse\n",
      "14 :  Trump said he's 'surprised at how badly' Brexit is going\n",
      "15 :  Stephen Colbert Zings Donald Trump’s Latest Tweet Trash Of Late-Night TV\n",
      "16 :  Summer Zervos’s sexual assault allegations against Donald Trump, explained\n",
      "17 :  A political upside to impeachment for Trump? Some Trump advisers think so\n",
      "18 :  Trump suggested Johnny Carson wouldn’t poke fun at him. Watch him do just that.\n",
      "19 :  Donald Trump tweeted 'VETO!' and everyone trolled him with Beto\n",
      "20 :  'He Views Her as Strong': Donald Trump Twice Kisses Nancy Pelosi at Capitol Lunch\n",
      "21 :  Did Donald Trump really sign bibles?\n",
      "22 :  Will Trump go for a coup or a peaceful transition if he loses in 2020?\n",
      "23 :  Embattled Trump appointee resigns from Department of Veterans Affairs\n",
      "24 :  Mnuchin: 'I will comply with the law' on releasing Trump tax returns\n",
      "25 :  Donald Trump says Jews are leaving the Democratic Party, but there's no proof\n",
      "26 :  Donald Trump's Budget For A Declining America\n",
      "27 :  Trump Suggests His Supporters Could Turn to Political Violence If His Opponents 'Go to a Certain Point'\n",
      "28 :  Trump vowed to end 'chronic trade deficits.' Well, trade deficits just hit a record high.\n",
      "29 :  Explosive revelations in Russia saga add up to a bad day for Trump\n",
      "30 :  Trevor Noah Compares Beto O’Rourke’s Hand Gestures To Donald Trump’s\n",
      "31 :  It’s Gonna Be Huge\n",
      "32 :  Former Fox News reporter's lawyer: 'We'll comply' with House request for documents about Trump and Stormy Daniels\n",
      "33 :  Trump speaks to Boeing CEO following tweets on airline technology\n",
      "34 :  Lawrence O’Donnell Explains Why Donald Trump’s Warning Of Violence Is ‘Gibberish’\n",
      "35 :  Fact-check: Is Trump's NAFTA replacement already creating jobs?\n",
      "36 :  President Donald Trump issues order to ground Boeing 737 Max 8 after crashes\n",
      "37 :  Trump may send volunteer force to border\n",
      "38 :  Bill Weld: Meet the Republican Taking on Donald Trump in the Primary\n",
      "39 :  Attorneys General Ken Paxton, Curtis Hill, and Jeff Landry: \"Donald Trump's National Emergency Declaration is Constitutional”\n",
      "40 :  Donald Trump Jr., Sen. Daines: American sportsmen have reason to celebrate new access to public lands\n",
      "41 :  Trump: Bad Plane Sucks, My Plane Good\n",
      "42 :  Paul Ryan backtracks on whether Trump will be re-elected\n",
      "43 :  New Filing Alleges Donald Trump Misused Trump Foundation Funds for Presidential Campaign\n",
      "44 :  Donald Trump's Climate Change Beliefs Roil Scientists\n",
      "45 :  Judge sets Nov. 5 trial date for Trump ally Roger Stone in Mueller case\n",
      "46 :  #MAGA Church: The Doomsday Prophet Who Says the Bible Predicted Trump\n",
      "47 :  Trump Jr. Slams Celebs Arrested in Admissions Scandal — Then Goes Silent About His Own College Admission\n",
      "48 :  'Absolutely, dramatically different': House Democrats struggle with breakneck pace of Trump era\n",
      "49 :  Trump's thuggish threat of violence against his critics\n",
      "50 :  Dem, Republican join in effort to control how Trump grants, revokes security clearances\n",
      "51 :  Does anyone doubt that Donald Trump inspired the New Zealand massacre?\n",
      "52 :  President Donald Trump visiting Ohio next week\n",
      "53 :  Pence takes GOP punches for Trump\n",
      "54 :  Boeing, Donald Trump, Brexit: Your Tuesday Briefing\n",
      "55 :  Trump Doesn’t Deserve Any Credit for His Disruptive Foreign Policy\n",
      "56 :  State attorneys general: Donald Trump's national emergency declaration is constitutional\n",
      "57 :  Trump administration grounds Boeing 737 Max planes\n",
      "58 :  Beto O'Rourke's presidential run draws comments from Donald Trump, Ted Cruz, Nancy Pelosi\n",
      "59 :  How Not to Lose to Donald Trump\n",
      "60 :  See Trump's one-word response to rebuke\n",
      "61 :  Warning signs for Trump loom as he unveils budget\n",
      "62 :  Shanahan grilled over military funding for Trump's border wall\n",
      "63 :  A report card for Trump's economy\n",
      "64 :  Wages Are Up for Low-Income Workers, No Thanks to Donald Trump\n",
      "65 :  Wall Street Journal publishes op-ed from former White House aide accused of domestic abuse\n",
      "66 :  Bill Shine's departure proves Donald Trump can't be produced\n",
      "67 :  Donald Trump's big problem: Voters don't think he cares about them\n",
      "68 :  President Trump's Border Wall Emergency Could Make Americans Less Safe\n",
      "69 :  Schumer says Dems plan to force future votes on Trump's declaration | TheHill\n",
      "70 :  Donald Trump's epically bad week\n",
      "71 :  WATCH: Council on American-Islamic Relations calls on Trump to condemn New Zealand attacks as terrorism\n",
      "72 :  Donald Trump's best poll # this year\n",
      "73 :  Donald Trump's plan for 2020 Democrats: Cause chaos and sow division\n",
      "74 :  CNN's Anderson Cooper Rips Donald Trump's Repeated Redefining Of Reality\n",
      "75 :  New York Attorney General Opens Investigation of Trump Projects\n",
      "76 :  Fact-checking Trump's tweets on Lisa Page testimony\n",
      "77 :  The 47 most outrageous lines from Donald Trump's wild national emergency declaration\n",
      "78 :  Nancy Pelosi on impeaching President Trump: 'He's just not worth it'\n",
      "79 :  Donald Trump, Tragic Hero\n",
      "80 :  Donald Trump's 'no collusion' deception in the Manafort sentencing\n",
      "81 :  Is Trump a Racist?\n",
      "82 :  FACT CHECK: Did Donald Trump Autograph a Woman's Chest?\n",
      "83 :  Democrats find a foil for Trump in Jimmy Carter\n",
      "84 :  India is Trump’s Next Target in the Trade War\n",
      "85 :  Lawmaker: Manafort pardon invisible red line for Trump\n",
      "86 :  Here's the worst thing Donald Trump said to Andrew McCabe\n",
      "87 :  Donald Trump's weight up, cholesterol down, president's doctor discloses after physical exam\n",
      "88 :  The 10 personas of Donald Trump in a single speech\n",
      "89 :  Donald Trump's shocking, shameful about-face on Otto Warmbier\n",
      "90 :  Donald Trump Awards Donald Trump Trump's 20th Trump Golf Club Championship\n",
      "91 :  Fear of Trump Walking on Xi Haunts China as Trade Talks Near End\n",
      "92 :  Iowa Poll: Trump remains strong among Iowa Republicans, but some hope for a challenger\n",
      "93 :  Poll: Trump gets 4 in 10 voters’ support for reelection in 2020\n",
      "94 :  Democrats' demand for Trump's tax returns expected in about 2 weeks\n",
      "95 :  President Donald Trump, in CPAC speech, said he'll sign 'free speech' executive order\n",
      "96 :  The extensive effort to bury Donald Trump’s grades\n",
      "97 :  Full Swalwell: 'Donald Trump is not going to be the president in 2021'\n",
      "98 :  The ‘Czech Donald Trump’ Meets With Real Donald Trump in White House\n",
      "99 :  Did the Trump Administration Revoke a Journalist's Award Because of Her Criticism of Trump?\n",
      "Choose an option 50\n",
      "Saved\n",
      "Saved\n"
     ]
    },
    {
     "data": {
      "text/html": [
       "<div>\n",
       "<style scoped>\n",
       "    .dataframe tbody tr th:only-of-type {\n",
       "        vertical-align: middle;\n",
       "    }\n",
       "\n",
       "    .dataframe tbody tr th {\n",
       "        vertical-align: top;\n",
       "    }\n",
       "\n",
       "    .dataframe thead th {\n",
       "        text-align: right;\n",
       "    }\n",
       "</style>\n",
       "<table border=\"1\" class=\"dataframe\">\n",
       "  <thead>\n",
       "    <tr style=\"text-align: right;\">\n",
       "      <th></th>\n",
       "      <th></th>\n",
       "      <th>Object</th>\n",
       "      <th>Count</th>\n",
       "      <th>Web</th>\n",
       "      <th>Web_Count</th>\n",
       "      <th>Pseudo Ground Truth</th>\n",
       "      <th>Count_PGT</th>\n",
       "    </tr>\n",
       "    <tr>\n",
       "      <th>Subject</th>\n",
       "      <th>Relationship</th>\n",
       "      <th></th>\n",
       "      <th></th>\n",
       "      <th></th>\n",
       "      <th></th>\n",
       "      <th></th>\n",
       "      <th></th>\n",
       "    </tr>\n",
       "  </thead>\n",
       "  <tbody>\n",
       "    <tr>\n",
       "      <th rowspan=\"11\" valign=\"top\">Donald Trump</th>\n",
       "      <th>Citizen of</th>\n",
       "      <td>[]</td>\n",
       "      <td>0</td>\n",
       "      <td>[American:2, Americans:1, Chinese:1, Czech:3, German village:3, Hanoi:1, Kallstadt:3, New Zealand:1, Puerto Rico:1, Russian:2, United States:2, Yemen:1]</td>\n",
       "      <td>12</td>\n",
       "      <td>[United States of America]</td>\n",
       "      <td>1</td>\n",
       "    </tr>\n",
       "    <tr>\n",
       "      <th>Educated at</th>\n",
       "      <td>[]</td>\n",
       "      <td>0</td>\n",
       "      <td>[Congress:2, Federal Aviation Administration:1, Foundations of American Jewish Liberalism:1, Office of Management and Budget:1, Prudential:2, Trump International Golf Course:1, University of Florida:1, Yale Law School:1]</td>\n",
       "      <td>8</td>\n",
       "      <td>[University of Pennsylvania, Fordham University, The Wharton School, New York Military Academy, The Kew-Forest School]</td>\n",
       "      <td>5</td>\n",
       "    </tr>\n",
       "    <tr>\n",
       "      <th>Organization Founded By^-1</th>\n",
       "      <td>[]</td>\n",
       "      <td>0</td>\n",
       "      <td>[Democrats:1, National Rifle Association:1]</td>\n",
       "      <td>2</td>\n",
       "      <td>[Trump Model Management, Trump Entertainment Resorts, The Trump Entrepreneur Initiative, Trump Mortgage, Donald J. Trump Foundation, Trump Home, American Manufacturing Council]</td>\n",
       "      <td>7</td>\n",
       "    </tr>\n",
       "    <tr>\n",
       "      <th>Organization top employees^-1</th>\n",
       "      <td>[]</td>\n",
       "      <td>0</td>\n",
       "      <td>[AP:1, Boeing:1, Department of Veterans Affairs:1, USA Today:1, Yale’s China Center:1]</td>\n",
       "      <td>5</td>\n",
       "      <td>[]</td>\n",
       "      <td>0</td>\n",
       "    </tr>\n",
       "    <tr>\n",
       "      <th>Person Current and Past Location of Residence</th>\n",
       "      <td>[]</td>\n",
       "      <td>0</td>\n",
       "      <td>[Jerusalem:2, United States:2, Washington, D.C.:1]</td>\n",
       "      <td>3</td>\n",
       "      <td>[White House]</td>\n",
       "      <td>1</td>\n",
       "    </tr>\n",
       "    <tr>\n",
       "      <th>Person Employee or Member of</th>\n",
       "      <td>[]</td>\n",
       "      <td>0</td>\n",
       "      <td>[AP:1, Boeing:1, CNN:1, Democratic:1, Democrats:1, Department of Veterans Affairs:1, Deutsche Bank and Investors Bank:1, Gallup poll:1, Justice Department:3, Marble Collegiate Church:3, Obama administration:1, Oval Office:1, Republican:5, Republicans:6, Senate:1, Twitter:1, USA Today:1, White House:2, Yale Law School:1, Yale’s China Center:1]</td>\n",
       "      <td>20</td>\n",
       "      <td>[The World's Billionaires]</td>\n",
       "      <td>1</td>\n",
       "    </tr>\n",
       "    <tr>\n",
       "      <th>Person Parents</th>\n",
       "      <td>[]</td>\n",
       "      <td>0</td>\n",
       "      <td>[]</td>\n",
       "      <td>0</td>\n",
       "      <td>[Fred Trump, Mary Anne MacLeod, John G. Trump, Jared Kushner, Frederick Trump, Elizabeth Trump]</td>\n",
       "      <td>6</td>\n",
       "    </tr>\n",
       "    <tr>\n",
       "      <th>Person Parents^-1</th>\n",
       "      <td>[]</td>\n",
       "      <td>0</td>\n",
       "      <td>[Jared Kushner:1, Marla Maples:3]</td>\n",
       "      <td>2</td>\n",
       "      <td>[Ivanka Trump, Donald Trump Jr., Eric Trump, Tiffany Trump, Barron Trump]</td>\n",
       "      <td>5</td>\n",
       "    </tr>\n",
       "    <tr>\n",
       "      <th>Person Place of Birth</th>\n",
       "      <td>[]</td>\n",
       "      <td>0</td>\n",
       "      <td>[Jamaica Hospital:3, New York City:3, Queens:3]</td>\n",
       "      <td>3</td>\n",
       "      <td>[Jamaica Hospital]</td>\n",
       "      <td>1</td>\n",
       "    </tr>\n",
       "    <tr>\n",
       "      <th>Person Siblings</th>\n",
       "      <td>[]</td>\n",
       "      <td>0</td>\n",
       "      <td>[]</td>\n",
       "      <td>0</td>\n",
       "      <td>[Maryanne Trump Barry, Robert Trump, Fred Trump Jr., Elizabeth Trump Grau]</td>\n",
       "      <td>4</td>\n",
       "    </tr>\n",
       "    <tr>\n",
       "      <th>Person Spouse</th>\n",
       "      <td>[]</td>\n",
       "      <td>0</td>\n",
       "      <td>[Marla Maples:3, Susan Jakes:1]</td>\n",
       "      <td>2</td>\n",
       "      <td>[Melania Trump]</td>\n",
       "      <td>1</td>\n",
       "    </tr>\n",
       "  </tbody>\n",
       "</table>\n",
       "</div>"
      ],
      "text/plain": [
       "                                                           Object  Count  \\\n",
       "Subject      Relationship                                                  \n",
       "Donald Trump Citizen of                                     []     0       \n",
       "             Educated at                                    []     0       \n",
       "             Organization Founded By^-1                     []     0       \n",
       "             Organization top employees^-1                  []     0       \n",
       "             Person Current and Past Location of Residence  []     0       \n",
       "             Person Employee or Member of                   []     0       \n",
       "             Person Parents                                 []     0       \n",
       "             Person Parents^-1                              []     0       \n",
       "             Person Place of Birth                          []     0       \n",
       "             Person Siblings                                []     0       \n",
       "             Person Spouse                                  []     0       \n",
       "\n",
       "                                                                                                                                                                                                                                                                                                                                                                                                                 Web  \\\n",
       "Subject      Relationship                                                                                                                                                                                                                                                                                                                                                                                              \n",
       "Donald Trump Citizen of                                     [American:2, Americans:1, Chinese:1, Czech:3, German village:3, Hanoi:1, Kallstadt:3, New Zealand:1, Puerto Rico:1, Russian:2, United States:2, Yemen:1]                                                                                                                                                                                                   \n",
       "             Educated at                                    [Congress:2, Federal Aviation Administration:1, Foundations of American Jewish Liberalism:1, Office of Management and Budget:1, Prudential:2, Trump International Golf Course:1, University of Florida:1, Yale Law School:1]                                                                                                                               \n",
       "             Organization Founded By^-1                     [Democrats:1, National Rifle Association:1]                                                                                                                                                                                                                                                                                                                \n",
       "             Organization top employees^-1                  [AP:1, Boeing:1, Department of Veterans Affairs:1, USA Today:1, Yale’s China Center:1]                                                                                                                                                                                                                                                                     \n",
       "             Person Current and Past Location of Residence  [Jerusalem:2, United States:2, Washington, D.C.:1]                                                                                                                                                                                                                                                                                                         \n",
       "             Person Employee or Member of                   [AP:1, Boeing:1, CNN:1, Democratic:1, Democrats:1, Department of Veterans Affairs:1, Deutsche Bank and Investors Bank:1, Gallup poll:1, Justice Department:3, Marble Collegiate Church:3, Obama administration:1, Oval Office:1, Republican:5, Republicans:6, Senate:1, Twitter:1, USA Today:1, White House:2, Yale Law School:1, Yale’s China Center:1]   \n",
       "             Person Parents                                 []                                                                                                                                                                                                                                                                                                                                                         \n",
       "             Person Parents^-1                              [Jared Kushner:1, Marla Maples:3]                                                                                                                                                                                                                                                                                                                          \n",
       "             Person Place of Birth                          [Jamaica Hospital:3, New York City:3, Queens:3]                                                                                                                                                                                                                                                                                                            \n",
       "             Person Siblings                                []                                                                                                                                                                                                                                                                                                                                                         \n",
       "             Person Spouse                                  [Marla Maples:3, Susan Jakes:1]                                                                                                                                                                                                                                                                                                                            \n",
       "\n",
       "                                                            Web_Count  \\\n",
       "Subject      Relationship                                               \n",
       "Donald Trump Citizen of                                     12          \n",
       "             Educated at                                    8           \n",
       "             Organization Founded By^-1                     2           \n",
       "             Organization top employees^-1                  5           \n",
       "             Person Current and Past Location of Residence  3           \n",
       "             Person Employee or Member of                   20          \n",
       "             Person Parents                                 0           \n",
       "             Person Parents^-1                              2           \n",
       "             Person Place of Birth                          3           \n",
       "             Person Siblings                                0           \n",
       "             Person Spouse                                  2           \n",
       "\n",
       "                                                                                                                                                                                                                         Pseudo Ground Truth  \\\n",
       "Subject      Relationship                                                                                                                                                                                                                      \n",
       "Donald Trump Citizen of                                     [United States of America]                                                                                                                                                         \n",
       "             Educated at                                    [University of Pennsylvania, Fordham University, The Wharton School, New York Military Academy, The Kew-Forest School]                                                             \n",
       "             Organization Founded By^-1                     [Trump Model Management, Trump Entertainment Resorts, The Trump Entrepreneur Initiative, Trump Mortgage, Donald J. Trump Foundation, Trump Home, American Manufacturing Council]   \n",
       "             Organization top employees^-1                  []                                                                                                                                                                                 \n",
       "             Person Current and Past Location of Residence  [White House]                                                                                                                                                                      \n",
       "             Person Employee or Member of                   [The World's Billionaires]                                                                                                                                                         \n",
       "             Person Parents                                 [Fred Trump, Mary Anne MacLeod, John G. Trump, Jared Kushner, Frederick Trump, Elizabeth Trump]                                                                                    \n",
       "             Person Parents^-1                              [Ivanka Trump, Donald Trump Jr., Eric Trump, Tiffany Trump, Barron Trump]                                                                                                          \n",
       "             Person Place of Birth                          [Jamaica Hospital]                                                                                                                                                                 \n",
       "             Person Siblings                                [Maryanne Trump Barry, Robert Trump, Fred Trump Jr., Elizabeth Trump Grau]                                                                                                         \n",
       "             Person Spouse                                  [Melania Trump]                                                                                                                                                                    \n",
       "\n",
       "                                                            Count_PGT  \n",
       "Subject      Relationship                                              \n",
       "Donald Trump Citizen of                                     1          \n",
       "             Educated at                                    5          \n",
       "             Organization Founded By^-1                     7          \n",
       "             Organization top employees^-1                  0          \n",
       "             Person Current and Past Location of Residence  1          \n",
       "             Person Employee or Member of                   1          \n",
       "             Person Parents                                 6          \n",
       "             Person Parents^-1                              5          \n",
       "             Person Place of Birth                          1          \n",
       "             Person Siblings                                4          \n",
       "             Person Spouse                                  1          "
      ]
     },
     "execution_count": 21,
     "metadata": {},
     "output_type": "execute_result"
    }
   ],
   "source": [
    "## Displaying News Headines\n",
    "print('*******  MAIN-MENU  *******')\n",
    "for i,t in enumerate(list(headline_link.keys())[:N]):\n",
    "    print(i,\": \",t)\n",
    "ch = input(\"Choose an option \")\n",
    "\n",
    "lock = Lock()\n",
    "isPerson = True if ('Citizen of' in list(web.reset_index()['Relationship'])) else False\n",
    "link = list(headline_link.values())[int(ch)]\n",
    "doc = News(link=link, name=query, lock=lock)\n",
    "doc.join()\n",
    "df = doc.get_main_df().drop('Confidence',axis=1)\n",
    "message_id = u.get_id(query)\n",
    "df = add_dummy(df, person=isPerson)\n",
    "df = count_confidence(df)\n",
    "df = df.join(web)\n",
    "df = df.join(reality)\n",
    "pd.set_option('display.max_colwidth', -1)\n",
    "df"
   ]
  },
  {
   "cell_type": "markdown",
   "metadata": {
    "heading_collapsed": true,
    "hidden": true
   },
   "source": [
    "### Extras+"
   ]
  },
  {
   "cell_type": "code",
   "execution_count": null,
   "metadata": {
    "hidden": true
   },
   "outputs": [],
   "source": [
    "message_id = u.get_id(query)\n",
    "\n",
    "for i,df in enumerate(DFs):\n",
    "    df = add_dummy(df, person=isPerson)\n",
    "    df = count_confidence(df)\n",
    "    df = df.join(web)\n",
    "    DFs[i] = df.join(reality)"
   ]
  },
  {
   "cell_type": "code",
   "execution_count": 174,
   "metadata": {
    "ExecuteTime": {
     "end_time": "2019-03-15T16:12:13.811031Z",
     "start_time": "2019-03-15T16:12:13.757402Z"
    },
    "hidden": true
   },
   "outputs": [],
   "source": [
    "main_df = MERGED_DF.drop('Confidence',axis=1)\n",
    "main_df = main_df.groupby(['Subject','Relationship','Object']).size().to_frame('c').reset_index()\n",
    "main_df['Object'] = main_df.apply(lambda main_df: main_df['Object']+':'+str(main_df['c']), axis=1) \n",
    "main_df = main_df.drop('c',axis=1)\n",
    "main_df = add_dummy(main_df)"
   ]
  },
  {
   "cell_type": "code",
   "execution_count": 175,
   "metadata": {
    "ExecuteTime": {
     "end_time": "2019-03-15T16:12:15.975201Z",
     "start_time": "2019-03-15T16:12:15.953222Z"
    },
    "collapsed": true,
    "hidden": true
   },
   "outputs": [
    {
     "data": {
      "text/html": [
       "<div>\n",
       "<style scoped>\n",
       "    .dataframe tbody tr th:only-of-type {\n",
       "        vertical-align: middle;\n",
       "    }\n",
       "\n",
       "    .dataframe tbody tr th {\n",
       "        vertical-align: top;\n",
       "    }\n",
       "\n",
       "    .dataframe thead th {\n",
       "        text-align: right;\n",
       "    }\n",
       "</style>\n",
       "<table border=\"1\" class=\"dataframe\">\n",
       "  <thead>\n",
       "    <tr style=\"text-align: right;\">\n",
       "      <th></th>\n",
       "      <th>Subject</th>\n",
       "      <th>Relationship</th>\n",
       "      <th>Object</th>\n",
       "    </tr>\n",
       "  </thead>\n",
       "  <tbody>\n",
       "    <tr>\n",
       "      <th>0</th>\n",
       "      <td>Donald Trump</td>\n",
       "      <td>Citizen of</td>\n",
       "      <td>New Zealand:1</td>\n",
       "    </tr>\n",
       "    <tr>\n",
       "      <th>1</th>\n",
       "      <td>Donald Trump</td>\n",
       "      <td>Citizen of</td>\n",
       "      <td>Russian:1</td>\n",
       "    </tr>\n",
       "    <tr>\n",
       "      <th>2</th>\n",
       "      <td>Donald Trump</td>\n",
       "      <td>Citizen of</td>\n",
       "      <td>United States:1</td>\n",
       "    </tr>\n",
       "    <tr>\n",
       "      <th>3</th>\n",
       "      <td>Donald Trump</td>\n",
       "      <td>Citizen of</td>\n",
       "      <td>Yemen:1</td>\n",
       "    </tr>\n",
       "    <tr>\n",
       "      <th>4</th>\n",
       "      <td>Donald Trump</td>\n",
       "      <td>Organization Founded By^-1</td>\n",
       "      <td>Democrats:1</td>\n",
       "    </tr>\n",
       "    <tr>\n",
       "      <th>5</th>\n",
       "      <td>Donald Trump</td>\n",
       "      <td>Organization Founded By^-1</td>\n",
       "      <td>National Rifle Association:1</td>\n",
       "    </tr>\n",
       "    <tr>\n",
       "      <th>6</th>\n",
       "      <td>Donald Trump</td>\n",
       "      <td>Person Employee or Member of</td>\n",
       "      <td>Democratic:1</td>\n",
       "    </tr>\n",
       "    <tr>\n",
       "      <th>7</th>\n",
       "      <td>Donald Trump</td>\n",
       "      <td>Person Employee or Member of</td>\n",
       "      <td>Democrats:1</td>\n",
       "    </tr>\n",
       "    <tr>\n",
       "      <th>8</th>\n",
       "      <td>Donald Trump</td>\n",
       "      <td>Person Employee or Member of</td>\n",
       "      <td>Oval Office:1</td>\n",
       "    </tr>\n",
       "    <tr>\n",
       "      <th>9</th>\n",
       "      <td>Donald Trump</td>\n",
       "      <td>Person Employee or Member of</td>\n",
       "      <td>Republican:1</td>\n",
       "    </tr>\n",
       "    <tr>\n",
       "      <th>10</th>\n",
       "      <td>Donald Trump</td>\n",
       "      <td>Person Employee or Member of</td>\n",
       "      <td>Republicans:3</td>\n",
       "    </tr>\n",
       "    <tr>\n",
       "      <th>11</th>\n",
       "      <td>Donald Trump</td>\n",
       "      <td>Person Employee or Member of</td>\n",
       "      <td>White House:1</td>\n",
       "    </tr>\n",
       "    <tr>\n",
       "      <th>12</th>\n",
       "      <td>Donald Trump</td>\n",
       "      <td>Educated at</td>\n",
       "      <td></td>\n",
       "    </tr>\n",
       "    <tr>\n",
       "      <th>13</th>\n",
       "      <td>Donald Trump</td>\n",
       "      <td>Organization top employees^-1</td>\n",
       "      <td></td>\n",
       "    </tr>\n",
       "    <tr>\n",
       "      <th>14</th>\n",
       "      <td>Donald Trump</td>\n",
       "      <td>Person Current and Past Location of Residence</td>\n",
       "      <td></td>\n",
       "    </tr>\n",
       "    <tr>\n",
       "      <th>15</th>\n",
       "      <td>Donald Trump</td>\n",
       "      <td>Person Parents</td>\n",
       "      <td></td>\n",
       "    </tr>\n",
       "    <tr>\n",
       "      <th>16</th>\n",
       "      <td>Donald Trump</td>\n",
       "      <td>Person Parents^-1</td>\n",
       "      <td></td>\n",
       "    </tr>\n",
       "    <tr>\n",
       "      <th>17</th>\n",
       "      <td>Donald Trump</td>\n",
       "      <td>Person Place of Birth</td>\n",
       "      <td></td>\n",
       "    </tr>\n",
       "    <tr>\n",
       "      <th>18</th>\n",
       "      <td>Donald Trump</td>\n",
       "      <td>Person Siblings</td>\n",
       "      <td></td>\n",
       "    </tr>\n",
       "    <tr>\n",
       "      <th>19</th>\n",
       "      <td>Donald Trump</td>\n",
       "      <td>Person Spouse</td>\n",
       "      <td></td>\n",
       "    </tr>\n",
       "  </tbody>\n",
       "</table>\n",
       "</div>"
      ],
      "text/plain": [
       "         Subject                                   Relationship  \\\n",
       "0   Donald Trump                                     Citizen of   \n",
       "1   Donald Trump                                     Citizen of   \n",
       "2   Donald Trump                                     Citizen of   \n",
       "3   Donald Trump                                     Citizen of   \n",
       "4   Donald Trump                     Organization Founded By^-1   \n",
       "5   Donald Trump                     Organization Founded By^-1   \n",
       "6   Donald Trump                   Person Employee or Member of   \n",
       "7   Donald Trump                   Person Employee or Member of   \n",
       "8   Donald Trump                   Person Employee or Member of   \n",
       "9   Donald Trump                   Person Employee or Member of   \n",
       "10  Donald Trump                   Person Employee or Member of   \n",
       "11  Donald Trump                   Person Employee or Member of   \n",
       "12  Donald Trump                                    Educated at   \n",
       "13  Donald Trump                  Organization top employees^-1   \n",
       "14  Donald Trump  Person Current and Past Location of Residence   \n",
       "15  Donald Trump                                 Person Parents   \n",
       "16  Donald Trump                              Person Parents^-1   \n",
       "17  Donald Trump                          Person Place of Birth   \n",
       "18  Donald Trump                                Person Siblings   \n",
       "19  Donald Trump                                  Person Spouse   \n",
       "\n",
       "                          Object  \n",
       "0                  New Zealand:1  \n",
       "1                      Russian:1  \n",
       "2                United States:1  \n",
       "3                        Yemen:1  \n",
       "4                    Democrats:1  \n",
       "5   National Rifle Association:1  \n",
       "6                   Democratic:1  \n",
       "7                    Democrats:1  \n",
       "8                  Oval Office:1  \n",
       "9                   Republican:1  \n",
       "10                 Republicans:3  \n",
       "11                 White House:1  \n",
       "12                                \n",
       "13                                \n",
       "14                                \n",
       "15                                \n",
       "16                                \n",
       "17                                \n",
       "18                                \n",
       "19                                "
      ]
     },
     "execution_count": 175,
     "metadata": {},
     "output_type": "execute_result"
    }
   ],
   "source": [
    "main_df"
   ]
  },
  {
   "cell_type": "code",
   "execution_count": null,
   "metadata": {
    "hidden": true
   },
   "outputs": [],
   "source": []
  }
 ],
 "metadata": {
  "kernelspec": {
   "display_name": "Python 3",
   "language": "python",
   "name": "python3"
  },
  "language_info": {
   "codemirror_mode": {
    "name": "ipython",
    "version": 3
   },
   "file_extension": ".py",
   "mimetype": "text/x-python",
   "name": "python",
   "nbconvert_exporter": "python",
   "pygments_lexer": "ipython3",
   "version": "3.6.8"
  }
 },
 "nbformat": 4,
 "nbformat_minor": 2
}
