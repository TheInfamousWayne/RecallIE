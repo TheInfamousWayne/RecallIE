{
 "cells": [
  {
   "cell_type": "code",
   "execution_count": 1,
   "metadata": {
    "ExecuteTime": {
     "end_time": "2019-04-23T09:54:11.503040Z",
     "start_time": "2019-04-23T09:53:44.160507Z"
    }
   },
   "outputs": [],
   "source": [
    "from bs4 import BeautifulSoup\n",
    "import requests\n",
    "import time\n",
    "from random import randint\n",
    "from lxml import html\n",
    "import pandas as pd\n",
    "from datetime import date\n",
    "from selenium import webdriver\n",
    "from selenium.webdriver.chrome.options import Options"
   ]
  },
  {
   "cell_type": "code",
   "execution_count": 2,
   "metadata": {
    "ExecuteTime": {
     "end_time": "2019-04-23T09:54:12.274602Z",
     "start_time": "2019-04-23T09:54:11.508482Z"
    }
   },
   "outputs": [],
   "source": [
    "from news.utils import *"
   ]
  },
  {
   "cell_type": "code",
   "execution_count": 3,
   "metadata": {
    "ExecuteTime": {
     "end_time": "2019-04-23T09:54:12.283865Z",
     "start_time": "2019-04-23T09:54:12.276629Z"
    }
   },
   "outputs": [],
   "source": [
    "# N = 100\n",
    "# u = Utils()\n",
    "queries = ['Bill Gates', 'Donald Trump', 'Ivanka', 'Angela Merkel']#, 'Brad Pitt', 'Christopher Nolan', 'Christian Bale', 'Megan Fox', 'Steve Jobs', 'Hillary Clinton', 'Gerhard Weikum']"
   ]
  },
  {
   "cell_type": "code",
   "execution_count": null,
   "metadata": {
    "ExecuteTime": {
     "end_time": "2019-04-22T00:19:29.295766Z",
     "start_time": "2019-04-22T00:19:29.272830Z"
    },
    "code_folding": [
     0,
     46,
     53,
     64,
     70,
     89,
     108
    ]
   },
   "outputs": [],
   "source": [
    "def make_headline_dict(query):\n",
    "    ### Getting Custom Date Range ###\n",
    "    y1,m1,d1 = ('2014','01','01')\n",
    "    y2,m2,d2 = str(date.today()).split('-')\n",
    "    \n",
    "    ### Setting up API ###\n",
    "    headline_list = []\n",
    "    headline_dict = {}\n",
    "\n",
    "    options = Options()\n",
    "    options.binary_location = \"C:\\\\Program Files (x86)\\\\Google\\\\Chrome\\\\Application\\\\chrome.exe\"\n",
    "    options.add_argument('--headless')\n",
    "    options.add_argument('--window-size=1200x600')\n",
    "    options.add_argument('--no-sandbox')\n",
    "    options.add_argument('--disable-dev-shm-usage')\n",
    "    options.add_argument('--disable-gpu')\n",
    "\n",
    "    chromedriver = 'C:\\\\Users\\\\Bhavya\\\\Desktop\\\\Vaibhav\\\\chromedriver.exe'\n",
    "    r = webdriver.Chrome(executable_path=chromedriver, options=options)\n",
    "\n",
    "    ### Scraping From Google ###\n",
    "    final_date = date(int(y2),int(m2),int(d2))\n",
    "    while True:\n",
    "        dd = int(d1)\n",
    "        mm = int(m1) \n",
    "        yy = int(y1) + mm//12\n",
    "        mm = mm % 12 + 1    \n",
    "\n",
    "        temp_date = date(yy,mm,dd)   \n",
    "        if temp_date > final_date:\n",
    "            break  \n",
    "\n",
    "        r.get(\"https://www.google.com/search?q={}&hl=en-US&gl=US&source=lnt&tbs=cdr%3A1%2Ccd_min%3A{}%2F{}%2F{}%2Ccd_max%3A{}%2F{}%2F{}&tbm=nws\".format(\\\n",
    "                            query,m1,d1,y1,mm,dd,yy))\n",
    "        soup = BeautifulSoup(r.page_source, 'lxml')\n",
    "        all_headlines = soup.findAll(\"h3\")\n",
    "        for headline in all_headlines:\n",
    "            headline_list.append(headline.text)\n",
    "            headline_dict[headline.text] = headline.a['href']        \n",
    "        d1,m1,y1 = dd,mm,yy\n",
    "    \n",
    "    ### Saving the file ###\n",
    "    save_headline_dict(headline_dict)\n",
    "    \n",
    "    return headline_dict\n",
    "\n",
    "def save_headline_dict(headline_dict):\n",
    "    if len(headline_dict) > 0:\n",
    "        path = 'data/dumps/{}_headline_dict.pkl'.format(query)\n",
    "        with open(path, 'wb') as fp:\n",
    "            pickle.dump(headline_dict, fp, protocol=pickle.HIGHEST_PROTOCOL)\n",
    "            print(\"headline_dict saved!\")\n",
    "        \n",
    "def load_headline_dict(query):\n",
    "    path = 'data/dumps/{}_headline_dict.pkl'.format(query)\n",
    "    headline_dict = {}\n",
    "    try:\n",
    "        with open(path, 'rb') as fp:\n",
    "            headline_dict = pickle.load(fp)\n",
    "    except:\n",
    "        print (\"Creating a new Dictionary\")\n",
    "        headline_dict = make_headline_dict(query)\n",
    "    return headline_dict\n",
    "\n",
    "def save_useful100(useful100):\n",
    "    path = 'data/dumps/{}_useful100.pkl'.format(query)\n",
    "    with open(path, 'wb') as fp:\n",
    "        pickle.dump(useful100, fp, protocol=pickle.HIGHEST_PROTOCOL)\n",
    "        print(\"100 useful headlines for query {} is saved!\".format(query))\n",
    "        \n",
    "def load_useful100(query):\n",
    "    path = 'data/dumps/{}_useful100.pkl'.format(query)\n",
    "    try:\n",
    "        with open(path, 'rb') as fp:\n",
    "            useful100 = pickle.load(fp)\n",
    "    except:\n",
    "        print (\"No file exists. Creating a new one for {}\".format(query))\n",
    "        useful100 = make_useful100(query)\n",
    "    return useful100\n",
    "\n",
    "PERSON_RELATIONS = ['Educated at', 'Citizen of', 'Person Employee or Member of', 'Organization top employees^-1',\\\n",
    "                    'Person Current and Past Location of Residence', 'Person Parents', 'Person Parents^-1',\\\n",
    "                    'Person Place of Birth', 'Person Siblings', 'Person Spouse']\n",
    "ORG_RELATION =     ['Organization Founded By', 'Organization Collaboration', 'Organization Collaboration^-1',\\\n",
    "                    'Organization Headquarters', 'Organization Subsidiary Of', 'Organization Subsidiary Of^-1',\\\n",
    "                    'Organization top employees', 'Person Employee or Member of^-1', 'Organization Acquired By^-1',\\\n",
    "                    'Organization Acquired By', 'Organization Provider To', 'Organization Provider To^-1']\n",
    "COMMON_RELATION =  ['Organization Founded By^-1']\n",
    "\n",
    "def add_dummy(df, query):\n",
    "    rel = set(df['Relationship'])\n",
    "    isPerson = True if any(s in PERSON_RELATIONS for s in rel) else False\n",
    "    isOrg = True if any(s in ORG_RELATION for s in rel) else False\n",
    "    if isPerson:\n",
    "        dummy_rels = COMMON_RELATION + PERSON_RELATIONS\n",
    "    elif isOrg:\n",
    "        dummy_rels = COMMON_RELATION + ORG_RELATION\n",
    "    else:\n",
    "        dummy_rels = COMMON_RELATION + ORG_RELATION + PERSON_RELATIONS\n",
    "      # for r in rel:\n",
    "      #     dummy_rels.remove(r)\n",
    "    for r in dummy_rels:\n",
    "          #df = df.append({'Subject': query, 'Relationship':r, 'Object':'', 'Confidence':round(np.random.uniform(0.85,1),2)}, ignore_index=True)\n",
    "        if r not in rel:\n",
    "            df = df.append({'Subject': query, 'Relationship':r, 'Object':''}, ignore_index=True)\n",
    "    return df\n",
    "\n",
    "\n",
    "def count_confidence(main_df):\n",
    "    if (not main_df.empty):\n",
    "        main_df = main_df.sort_values('Object', ascending=True).drop_duplicates().groupby(['Subject','Relationship']).agg(lambda x: list(x))\n",
    "        main_df['Object'] = main_df['Object'].agg(lambda x: x if x != [''] else [])\n",
    "        main_df['Count'] = main_df['Object'].apply(lambda x: len(x))\n",
    "        #main_df = main_df[[c for c in main_df if c not in ['Confidence']] + ['Confidence']]\n",
    "    return main_df"
   ]
  },
  {
   "cell_type": "code",
   "execution_count": 4,
   "metadata": {
    "ExecuteTime": {
     "end_time": "2019-04-23T09:54:12.317733Z",
     "start_time": "2019-04-23T09:54:12.289430Z"
    },
    "code_folding": [
     0
    ]
   },
   "outputs": [],
   "source": [
    "def make_web_reality(query):\n",
    "    headline_dict = load_useful100(query)\n",
    "    \n",
    "    # Shuffling and taking atleast 100 articles with some extractions\n",
    "    shuffled_list = random.sample(headline_dict.items(), len(headline_dict.items()))\n",
    "    useful100 = {}\n",
    "    lock = Lock()\n",
    "    u = Utils()\n",
    "    DFs = []\n",
    "    N = 100\n",
    "    start = 0\n",
    "\n",
    "#     try:\n",
    "#         path = \"data/dumps/web_reality-{}-{}.pkl\".format(N,query)\n",
    "#         fh = open(path, 'rb')\n",
    "#         print(\"Already exists for {}\".format(query))\n",
    "        \n",
    "#     except FileNotFoundError as e:\n",
    "    \n",
    "    ### Creating threads for each chosen link\n",
    "    pass100 = dict(shuffled_list)\n",
    "    threads = []\n",
    "    for headline,link in pass100.items():\n",
    "        threads.append( News(link=link, name=query, lock=lock, headline=headline) )\n",
    "\n",
    "    ### Waiting for each thread to complete\n",
    "    for t in threads:\n",
    "        try:\n",
    "            t.join()\n",
    "        except Exception as e:\n",
    "            pass\n",
    "\n",
    "    ### Collecting the dfs\n",
    "    for i,t in enumerate(threads):\n",
    "        headline, link, df = t.get_main_df()\n",
    "        if not df.empty:\n",
    "            DFs.append(df)\n",
    "            useful100[headline] = link\n",
    "\n",
    "    print(len(DFs))\n",
    "    \n",
    "    MERGED_DF = pd.concat(DFs, ignore_index=True)\n",
    "    MERGED_DF.loc[MERGED_DF['Confidence'] == '?','Confidence'] = MERGED_DF['Confidence'].apply(lambda x: round(np.random.uniform(0.85,1),2))\n",
    "    print(\"Did Confidence\")\n",
    "\n",
    "    # Finding Web and Reality\n",
    "    isPerson = False\n",
    "    main_df = MERGED_DF.drop('Confidence',axis=1)\n",
    "    query = set(main_df['Subject']).pop()\n",
    "    print(query)\n",
    "    main_df = main_df.groupby(['Subject','Relationship','Object']).size().to_frame('c').reset_index()\n",
    "    main_df = pd.merge(main_df, MERGED_DF)\n",
    "    main_df.Confidence = main_df.Confidence.astype(float).fillna(0.0)\n",
    "    main_df['Object'] = main_df.apply(lambda main_df: main_df['Object']+':'+str(main_df['c']), axis=1) \n",
    "    main_df = main_df.drop('c',axis=1)\n",
    "    main_df = main_df.groupby(['Subject','Relationship','Object']).mean().reset_index()\n",
    "    main_df = add_dummy(main_df, query=query)\n",
    "    main_df = count_confidence(main_df)\n",
    "    print(\"Did merge\")\n",
    "\n",
    "    ###### ADDING GROUND TRUTH ######\n",
    "    main_df = u.add_ground_truth(main_df)\n",
    "\n",
    "    ###### ADDING RECALL SCORE ######\n",
    "    main_df = u.add_recall_score(main_df)\n",
    "\n",
    "    main_df.to_pickle(\"data/dumps/web_reality-{}-{}.pkl\".format(N,query))\n",
    "\n",
    "    print(\"Done for {}\".format(query))\n"
   ]
  },
  {
   "cell_type": "code",
   "execution_count": null,
   "metadata": {
    "ExecuteTime": {
     "end_time": "2019-04-22T12:52:23.661292Z",
     "start_time": "2019-04-22T12:52:23.655278Z"
    }
   },
   "outputs": [],
   "source": [
    "len(load_headline_dict(query))"
   ]
  },
  {
   "cell_type": "code",
   "execution_count": null,
   "metadata": {
    "ExecuteTime": {
     "end_time": "2019-04-22T00:19:41.727553Z",
     "start_time": "2019-04-22T00:19:41.714163Z"
    }
   },
   "outputs": [],
   "source": [
    "len(load_useful100(query))"
   ]
  },
  {
   "cell_type": "code",
   "execution_count": 5,
   "metadata": {
    "ExecuteTime": {
     "end_time": "2019-04-23T09:54:28.784653Z",
     "start_time": "2019-04-23T09:54:28.767221Z"
    }
   },
   "outputs": [
    {
     "name": "stdout",
     "output_type": "stream",
     "text": [
      "Brad Pitt\n"
     ]
    }
   ],
   "source": [
    "queries = ['Bill Gates', 'Donald Trump', 'Ivanka', 'Angela Merkel', 'Brad Pitt', 'Christopher Nolan', 'Christian Bale', 'Megan Fox', 'Steve Jobs', 'Hillary Clinton', 'Gerhard Weikum']\n",
    "query = queries[4]\n",
    "print(query)\n",
    "# make_headline_dict(query)\n",
    "# print(len(load_headline_dict(query)))\n",
    "# load_headline_dict(query)"
   ]
  },
  {
   "cell_type": "code",
   "execution_count": null,
   "metadata": {},
   "outputs": [],
   "source": []
  },
  {
   "cell_type": "code",
   "execution_count": 6,
   "metadata": {
    "ExecuteTime": {
     "end_time": "2019-04-23T10:02:03.731901Z",
     "start_time": "2019-04-23T09:54:32.192686Z"
    },
    "scrolled": true
   },
   "outputs": [
    {
     "name": "stdout",
     "output_type": "stream",
     "text": [
      "0 100  ----  0 614\n",
      "Saved\n"
     ]
    },
    {
     "name": "stderr",
     "output_type": "stream",
     "text": [
      "C:\\Users\\Bhavya\\Anaconda3\\lib\\socket.py:657: ResourceWarning: unclosed <socket.socket fd=2524, family=AddressFamily.AF_INET, type=SocketKind.SOCK_STREAM, proto=0, laddr=('139.19.106.198', 58751), raddr=('151.101.112.239', 443)>\n",
      "  self._sock = None\n",
      "C:\\Users\\Bhavya\\Anaconda3\\lib\\socket.py:657: ResourceWarning: unclosed <socket.socket fd=2616, family=AddressFamily.AF_INET, type=SocketKind.SOCK_STREAM, proto=0, laddr=('139.19.106.198', 58755), raddr=('151.101.114.62', 443)>\n",
      "  self._sock = None\n"
     ]
    },
    {
     "name": "stdout",
     "output_type": "stream",
     "text": [
      "Saved\n",
      "Creating a new Dictionary\n",
      "Saved\n",
      "Saved\n",
      "Saved\n"
     ]
    },
    {
     "name": "stderr",
     "output_type": "stream",
     "text": [
      "C:\\Users\\Bhavya\\Desktop\\Vaibhav\\Django-projects\\recallie_web\\news\\utils.py:579: SettingWithCopyWarning: \n",
      "A value is trying to be set on a copy of a slice from a DataFrame.\n",
      "Try using .loc[row_indexer,col_indexer] = value instead\n",
      "\n",
      "See the caveats in the documentation: http://pandas.pydata.org/pandas-docs/stable/indexing.html#indexing-view-versus-copy\n",
      "  self.main_df['Subject'] = self.message\n"
     ]
    },
    {
     "name": "stdout",
     "output_type": "stream",
     "text": [
      "Saved\n",
      "Saved\n",
      "Saved\n",
      "unsupportedLanguage: Language deu not supported:\n",
      "  https://api.rosette.com/rest/v1/relationships\n",
      "'NoneType' object is not iterable\n",
      "Saved\n",
      "Saved\n",
      "Saved\n",
      "Exceeded 30 redirects.\n",
      "Saved\n",
      "Saved\n",
      "Saved\n"
     ]
    },
    {
     "name": "stderr",
     "output_type": "stream",
     "text": [
      "C:\\Users\\Bhavya\\Desktop\\Vaibhav\\Django-projects\\recallie_web\\news\\utils.py:579: SettingWithCopyWarning: \n",
      "A value is trying to be set on a copy of a slice from a DataFrame.\n",
      "Try using .loc[row_indexer,col_indexer] = value instead\n",
      "\n",
      "See the caveats in the documentation: http://pandas.pydata.org/pandas-docs/stable/indexing.html#indexing-view-versus-copy\n",
      "  self.main_df['Subject'] = self.message\n"
     ]
    },
    {
     "name": "stdout",
     "output_type": "stream",
     "text": [
      "Saved\n"
     ]
    },
    {
     "name": "stderr",
     "output_type": "stream",
     "text": [
      "C:\\Users\\Bhavya\\Desktop\\Vaibhav\\Django-projects\\recallie_web\\news\\utils.py:579: SettingWithCopyWarning: \n",
      "A value is trying to be set on a copy of a slice from a DataFrame.\n",
      "Try using .loc[row_indexer,col_indexer] = value instead\n",
      "\n",
      "See the caveats in the documentation: http://pandas.pydata.org/pandas-docs/stable/indexing.html#indexing-view-versus-copy\n",
      "  self.main_df['Subject'] = self.message\n"
     ]
    },
    {
     "name": "stdout",
     "output_type": "stream",
     "text": [
      "Saved\n",
      "Saved\n"
     ]
    },
    {
     "name": "stderr",
     "output_type": "stream",
     "text": [
      "C:\\Users\\Bhavya\\Desktop\\Vaibhav\\Django-projects\\recallie_web\\news\\utils.py:579: SettingWithCopyWarning: \n",
      "A value is trying to be set on a copy of a slice from a DataFrame.\n",
      "Try using .loc[row_indexer,col_indexer] = value instead\n",
      "\n",
      "See the caveats in the documentation: http://pandas.pydata.org/pandas-docs/stable/indexing.html#indexing-view-versus-copy\n",
      "  self.main_df['Subject'] = self.message\n",
      "C:\\Users\\Bhavya\\Anaconda3\\lib\\socket.py:657: ResourceWarning: unclosed <socket.socket fd=3004, family=AddressFamily.AF_INET, type=SocketKind.SOCK_STREAM, proto=0, laddr=('139.19.106.198', 58823), raddr=('151.101.112.239', 443)>\n",
      "  self._sock = None\n"
     ]
    },
    {
     "name": "stdout",
     "output_type": "stream",
     "text": [
      "Saved\n",
      "Saved\n",
      "Saved\n",
      "Saved\n",
      "Saved\n",
      "Saved\n",
      "Saved\n"
     ]
    },
    {
     "name": "stderr",
     "output_type": "stream",
     "text": [
      "C:\\Users\\Bhavya\\Desktop\\Vaibhav\\Django-projects\\recallie_web\\news\\utils.py:579: SettingWithCopyWarning: \n",
      "A value is trying to be set on a copy of a slice from a DataFrame.\n",
      "Try using .loc[row_indexer,col_indexer] = value instead\n",
      "\n",
      "See the caveats in the documentation: http://pandas.pydata.org/pandas-docs/stable/indexing.html#indexing-view-versus-copy\n",
      "  self.main_df['Subject'] = self.message\n"
     ]
    },
    {
     "name": "stdout",
     "output_type": "stream",
     "text": [
      "Saved\n",
      "Saved\n"
     ]
    },
    {
     "name": "stderr",
     "output_type": "stream",
     "text": [
      "C:\\Users\\Bhavya\\Desktop\\Vaibhav\\Django-projects\\recallie_web\\news\\utils.py:579: SettingWithCopyWarning: \n",
      "A value is trying to be set on a copy of a slice from a DataFrame.\n",
      "Try using .loc[row_indexer,col_indexer] = value instead\n",
      "\n",
      "See the caveats in the documentation: http://pandas.pydata.org/pandas-docs/stable/indexing.html#indexing-view-versus-copy\n",
      "  self.main_df['Subject'] = self.message\n"
     ]
    },
    {
     "name": "stdout",
     "output_type": "stream",
     "text": [
      "Creating a new DictionarySaved\n",
      "\n",
      "Saved\n",
      "Saved\n"
     ]
    },
    {
     "name": "stderr",
     "output_type": "stream",
     "text": [
      "C:\\Users\\Bhavya\\Anaconda3\\lib\\socket.py:657: ResourceWarning: unclosed <socket.socket fd=3252, family=AddressFamily.AF_INET, type=SocketKind.SOCK_STREAM, proto=0, laddr=('139.19.106.198', 58916), raddr=('151.101.113.67', 443)>\n",
      "  self._sock = None\n"
     ]
    },
    {
     "name": "stdout",
     "output_type": "stream",
     "text": [
      "Saved\n",
      "Saved\n"
     ]
    },
    {
     "name": "stderr",
     "output_type": "stream",
     "text": [
      "C:\\Users\\Bhavya\\Anaconda3\\lib\\socket.py:657: ResourceWarning: unclosed <socket.socket fd=2900, family=AddressFamily.AF_INET, type=SocketKind.SOCK_STREAM, proto=0, laddr=('139.19.106.198', 58926), raddr=('151.101.113.184', 443)>\n",
      "  self._sock = None\n"
     ]
    },
    {
     "name": "stdout",
     "output_type": "stream",
     "text": [
      "Saved\n",
      "Saved\n"
     ]
    },
    {
     "name": "stderr",
     "output_type": "stream",
     "text": [
      "C:\\Users\\Bhavya\\Desktop\\Vaibhav\\Django-projects\\recallie_web\\news\\utils.py:579: SettingWithCopyWarning: \n",
      "A value is trying to be set on a copy of a slice from a DataFrame.\n",
      "Try using .loc[row_indexer,col_indexer] = value instead\n",
      "\n",
      "See the caveats in the documentation: http://pandas.pydata.org/pandas-docs/stable/indexing.html#indexing-view-versus-copy\n",
      "  self.main_df['Subject'] = self.message\n"
     ]
    },
    {
     "name": "stdout",
     "output_type": "stream",
     "text": [
      "Saved\n",
      "Saved\n",
      "Saved\n",
      "Saved\n",
      "Saved\n",
      "Saved\n",
      "Saved\n",
      "Creating a new Dictionary\n",
      "Saved\n"
     ]
    },
    {
     "name": "stderr",
     "output_type": "stream",
     "text": [
      "C:\\Users\\Bhavya\\Anaconda3\\lib\\socket.py:657: ResourceWarning: unclosed <socket.socket fd=3316, family=AddressFamily.AF_INET, type=SocketKind.SOCK_STREAM, proto=0, laddr=('139.19.106.198', 58972), raddr=('151.101.112.239', 443)>\n",
      "  self._sock = None\n"
     ]
    },
    {
     "name": "stdout",
     "output_type": "stream",
     "text": [
      "Saved\n",
      "Saved\n"
     ]
    },
    {
     "name": "stderr",
     "output_type": "stream",
     "text": [
      "C:\\Users\\Bhavya\\Desktop\\Vaibhav\\Django-projects\\recallie_web\\news\\utils.py:579: SettingWithCopyWarning: \n",
      "A value is trying to be set on a copy of a slice from a DataFrame.\n",
      "Try using .loc[row_indexer,col_indexer] = value instead\n",
      "\n",
      "See the caveats in the documentation: http://pandas.pydata.org/pandas-docs/stable/indexing.html#indexing-view-versus-copy\n",
      "  self.main_df['Subject'] = self.message\n"
     ]
    },
    {
     "name": "stdout",
     "output_type": "stream",
     "text": [
      "Saved\n",
      "Saved\n",
      "Saved\n"
     ]
    },
    {
     "name": "stderr",
     "output_type": "stream",
     "text": [
      "C:\\Users\\Bhavya\\Desktop\\Vaibhav\\Django-projects\\recallie_web\\news\\utils.py:579: SettingWithCopyWarning: \n",
      "A value is trying to be set on a copy of a slice from a DataFrame.\n",
      "Try using .loc[row_indexer,col_indexer] = value instead\n",
      "\n",
      "See the caveats in the documentation: http://pandas.pydata.org/pandas-docs/stable/indexing.html#indexing-view-versus-copy\n",
      "  self.main_df['Subject'] = self.message\n"
     ]
    },
    {
     "name": "stdout",
     "output_type": "stream",
     "text": [
      "Saved\n",
      "Saved\n"
     ]
    },
    {
     "name": "stderr",
     "output_type": "stream",
     "text": [
      "C:\\Users\\Bhavya\\Anaconda3\\lib\\socket.py:657: ResourceWarning: unclosed <socket.socket fd=3488, family=AddressFamily.AF_INET, type=SocketKind.SOCK_STREAM, proto=0, laddr=('139.19.106.198', 59017), raddr=('151.101.112.239', 443)>\n",
      "  self._sock = None\n"
     ]
    },
    {
     "name": "stdout",
     "output_type": "stream",
     "text": [
      "Saved\n",
      "Saved\n"
     ]
    },
    {
     "name": "stderr",
     "output_type": "stream",
     "text": [
      "C:\\Users\\Bhavya\\Anaconda3\\lib\\socket.py:657: ResourceWarning: unclosed <socket.socket fd=3040, family=AddressFamily.AF_INET, type=SocketKind.SOCK_STREAM, proto=0, laddr=('139.19.106.198', 59029), raddr=('151.101.114.62', 443)>\n",
      "  self._sock = None\n"
     ]
    },
    {
     "name": "stdout",
     "output_type": "stream",
     "text": [
      "Saved\n",
      "Saved\n",
      "Saved\n"
     ]
    },
    {
     "name": "stderr",
     "output_type": "stream",
     "text": [
      "C:\\Users\\Bhavya\\Anaconda3\\lib\\socket.py:657: ResourceWarning: unclosed <socket.socket fd=2664, family=AddressFamily.AF_INET, type=SocketKind.SOCK_STREAM, proto=0, laddr=('139.19.106.198', 59045), raddr=('151.101.112.239', 443)>\n",
      "  self._sock = None\n"
     ]
    },
    {
     "name": "stdout",
     "output_type": "stream",
     "text": [
      "Saved\n",
      "Saved\n",
      "Saved\n",
      "Saved\n"
     ]
    },
    {
     "name": "stderr",
     "output_type": "stream",
     "text": [
      "C:\\Users\\Bhavya\\Desktop\\Vaibhav\\Django-projects\\recallie_web\\news\\utils.py:579: SettingWithCopyWarning: \n",
      "A value is trying to be set on a copy of a slice from a DataFrame.\n",
      "Try using .loc[row_indexer,col_indexer] = value instead\n",
      "\n",
      "See the caveats in the documentation: http://pandas.pydata.org/pandas-docs/stable/indexing.html#indexing-view-versus-copy\n",
      "  self.main_df['Subject'] = self.message\n",
      "C:\\Users\\Bhavya\\Desktop\\Vaibhav\\Django-projects\\recallie_web\\news\\utils.py:579: SettingWithCopyWarning: \n",
      "A value is trying to be set on a copy of a slice from a DataFrame.\n",
      "Try using .loc[row_indexer,col_indexer] = value instead\n",
      "\n",
      "See the caveats in the documentation: http://pandas.pydata.org/pandas-docs/stable/indexing.html#indexing-view-versus-copy\n",
      "  self.main_df['Subject'] = self.message\n"
     ]
    },
    {
     "name": "stdout",
     "output_type": "stream",
     "text": [
      "Saved\n"
     ]
    },
    {
     "name": "stderr",
     "output_type": "stream",
     "text": [
      "C:\\Users\\Bhavya\\Anaconda3\\lib\\socket.py:657: ResourceWarning: unclosed <socket.socket fd=3092, family=AddressFamily.AF_INET, type=SocketKind.SOCK_STREAM, proto=0, laddr=('139.19.106.198', 59097), raddr=('151.101.112.239', 443)>\n",
      "  self._sock = None\n"
     ]
    },
    {
     "name": "stdout",
     "output_type": "stream",
     "text": [
      "Saved\n"
     ]
    },
    {
     "name": "stderr",
     "output_type": "stream",
     "text": [
      "C:\\Users\\Bhavya\\Desktop\\Vaibhav\\Django-projects\\recallie_web\\news\\utils.py:579: SettingWithCopyWarning: \n",
      "A value is trying to be set on a copy of a slice from a DataFrame.\n",
      "Try using .loc[row_indexer,col_indexer] = value instead\n",
      "\n",
      "See the caveats in the documentation: http://pandas.pydata.org/pandas-docs/stable/indexing.html#indexing-view-versus-copy\n",
      "  self.main_df['Subject'] = self.message\n",
      "C:\\Users\\Bhavya\\Anaconda3\\lib\\socket.py:657: ResourceWarning: unclosed <socket.socket fd=3620, family=AddressFamily.AF_INET, type=SocketKind.SOCK_STREAM, proto=0, laddr=('139.19.106.198', 59115), raddr=('151.101.112.239', 443)>\n",
      "  self._sock = None\n"
     ]
    },
    {
     "name": "stdout",
     "output_type": "stream",
     "text": [
      "Saved\n",
      "Saved\n"
     ]
    },
    {
     "name": "stderr",
     "output_type": "stream",
     "text": [
      "C:\\Users\\Bhavya\\Desktop\\Vaibhav\\Django-projects\\recallie_web\\news\\utils.py:579: SettingWithCopyWarning: \n",
      "A value is trying to be set on a copy of a slice from a DataFrame.\n",
      "Try using .loc[row_indexer,col_indexer] = value instead\n",
      "\n",
      "See the caveats in the documentation: http://pandas.pydata.org/pandas-docs/stable/indexing.html#indexing-view-versus-copy\n",
      "  self.main_df['Subject'] = self.message\n"
     ]
    },
    {
     "name": "stdout",
     "output_type": "stream",
     "text": [
      "Saved\n",
      "Saved\n",
      "Saved\n"
     ]
    },
    {
     "name": "stderr",
     "output_type": "stream",
     "text": [
      "C:\\Users\\Bhavya\\Anaconda3\\lib\\site-packages\\pandas\\core\\ops.py:1649: FutureWarning: elementwise comparison failed; returning scalar instead, but in the future will perform elementwise comparison\n",
      "  result = method(y)\n"
     ]
    },
    {
     "name": "stdout",
     "output_type": "stream",
     "text": [
      "Saved\n"
     ]
    },
    {
     "name": "stderr",
     "output_type": "stream",
     "text": [
      "C:\\Users\\Bhavya\\Desktop\\Vaibhav\\Django-projects\\recallie_web\\news\\utils.py:579: SettingWithCopyWarning: \n",
      "A value is trying to be set on a copy of a slice from a DataFrame.\n",
      "Try using .loc[row_indexer,col_indexer] = value instead\n",
      "\n",
      "See the caveats in the documentation: http://pandas.pydata.org/pandas-docs/stable/indexing.html#indexing-view-versus-copy\n",
      "  self.main_df['Subject'] = self.message\n"
     ]
    },
    {
     "name": "stdout",
     "output_type": "stream",
     "text": [
      "Saved\n"
     ]
    },
    {
     "name": "stderr",
     "output_type": "stream",
     "text": [
      "C:\\Users\\Bhavya\\Anaconda3\\lib\\site-packages\\pandas\\core\\ops.py:1649: FutureWarning: elementwise comparison failed; returning scalar instead, but in the future will perform elementwise comparison\n",
      "  result = method(y)\n"
     ]
    },
    {
     "name": "stdout",
     "output_type": "stream",
     "text": [
      "Saved\n",
      "Saved\n",
      "Saved\n"
     ]
    },
    {
     "name": "stderr",
     "output_type": "stream",
     "text": [
      "C:\\Users\\Bhavya\\Desktop\\Vaibhav\\Django-projects\\recallie_web\\news\\utils.py:579: SettingWithCopyWarning: \n",
      "A value is trying to be set on a copy of a slice from a DataFrame.\n",
      "Try using .loc[row_indexer,col_indexer] = value instead\n",
      "\n",
      "See the caveats in the documentation: http://pandas.pydata.org/pandas-docs/stable/indexing.html#indexing-view-versus-copy\n",
      "  self.main_df['Subject'] = self.message\n",
      "C:\\Users\\Bhavya\\Desktop\\Vaibhav\\Django-projects\\recallie_web\\news\\utils.py:579: SettingWithCopyWarning: \n",
      "A value is trying to be set on a copy of a slice from a DataFrame.\n",
      "Try using .loc[row_indexer,col_indexer] = value instead\n",
      "\n",
      "See the caveats in the documentation: http://pandas.pydata.org/pandas-docs/stable/indexing.html#indexing-view-versus-copy\n",
      "  self.main_df['Subject'] = self.message\n"
     ]
    },
    {
     "name": "stdout",
     "output_type": "stream",
     "text": [
      "Saved\n"
     ]
    },
    {
     "name": "stderr",
     "output_type": "stream",
     "text": [
      "C:\\Users\\Bhavya\\Anaconda3\\lib\\socket.py:657: ResourceWarning: unclosed <socket.socket fd=2384, family=AddressFamily.AF_INET, type=SocketKind.SOCK_STREAM, proto=0, laddr=('139.19.106.198', 59194), raddr=('151.101.112.239', 443)>\n",
      "  self._sock = None\n"
     ]
    },
    {
     "name": "stdout",
     "output_type": "stream",
     "text": [
      "Saved\n",
      "Saved\n",
      "Saved\n"
     ]
    },
    {
     "name": "stderr",
     "output_type": "stream",
     "text": [
      "C:\\Users\\Bhavya\\Anaconda3\\lib\\socket.py:657: ResourceWarning: unclosed <socket.socket fd=3444, family=AddressFamily.AF_INET, type=SocketKind.SOCK_STREAM, proto=0, laddr=('139.19.106.198', 59214), raddr=('151.101.112.239', 443)>\n",
      "  self._sock = None\n"
     ]
    },
    {
     "name": "stdout",
     "output_type": "stream",
     "text": [
      "Saved\n"
     ]
    },
    {
     "name": "stderr",
     "output_type": "stream",
     "text": [
      "C:\\Users\\Bhavya\\Anaconda3\\lib\\socket.py:657: ResourceWarning: unclosed <socket.socket fd=4088, family=AddressFamily.AF_INET, type=SocketKind.SOCK_STREAM, proto=0, laddr=('139.19.106.198', 59221), raddr=('23.67.143.112', 443)>\n",
      "  self._sock = None\n"
     ]
    },
    {
     "name": "stdout",
     "output_type": "stream",
     "text": [
      "Saved\n"
     ]
    },
    {
     "name": "stderr",
     "output_type": "stream",
     "text": [
      "C:\\Users\\Bhavya\\Anaconda3\\lib\\socket.py:657: ResourceWarning: unclosed <socket.socket fd=3452, family=AddressFamily.AF_INET, type=SocketKind.SOCK_STREAM, proto=0, laddr=('139.19.106.198', 59232), raddr=('151.101.113.67', 443)>\n",
      "  self._sock = None\n"
     ]
    },
    {
     "name": "stdout",
     "output_type": "stream",
     "text": [
      "Saved\n"
     ]
    },
    {
     "name": "stderr",
     "output_type": "stream",
     "text": [
      "C:\\Users\\Bhavya\\Desktop\\Vaibhav\\Django-projects\\recallie_web\\news\\utils.py:579: SettingWithCopyWarning: \n",
      "A value is trying to be set on a copy of a slice from a DataFrame.\n",
      "Try using .loc[row_indexer,col_indexer] = value instead\n",
      "\n",
      "See the caveats in the documentation: http://pandas.pydata.org/pandas-docs/stable/indexing.html#indexing-view-versus-copy\n",
      "  self.main_df['Subject'] = self.message\n"
     ]
    },
    {
     "name": "stdout",
     "output_type": "stream",
     "text": [
      "Saved\n",
      "Saved\n",
      "Saved\n",
      "Saved\n"
     ]
    },
    {
     "name": "stderr",
     "output_type": "stream",
     "text": [
      "C:\\Users\\Bhavya\\Desktop\\Vaibhav\\Django-projects\\recallie_web\\news\\utils.py:579: SettingWithCopyWarning: \n",
      "A value is trying to be set on a copy of a slice from a DataFrame.\n",
      "Try using .loc[row_indexer,col_indexer] = value instead\n",
      "\n",
      "See the caveats in the documentation: http://pandas.pydata.org/pandas-docs/stable/indexing.html#indexing-view-versus-copy\n",
      "  self.main_df['Subject'] = self.message\n"
     ]
    },
    {
     "name": "stdout",
     "output_type": "stream",
     "text": [
      "Saved\n",
      "Saved\n",
      "Saved\n"
     ]
    },
    {
     "name": "stderr",
     "output_type": "stream",
     "text": [
      "C:\\Users\\Bhavya\\Anaconda3\\lib\\socket.py:657: ResourceWarning: unclosed <socket.socket fd=3380, family=AddressFamily.AF_INET, type=SocketKind.SOCK_STREAM, proto=0, laddr=('139.19.106.198', 59269), raddr=('151.101.112.239', 443)>\n",
      "  self._sock = None\n"
     ]
    },
    {
     "name": "stdout",
     "output_type": "stream",
     "text": [
      "Saved\n"
     ]
    },
    {
     "name": "stderr",
     "output_type": "stream",
     "text": [
      "C:\\Users\\Bhavya\\Desktop\\Vaibhav\\Django-projects\\recallie_web\\news\\utils.py:579: SettingWithCopyWarning: \n",
      "A value is trying to be set on a copy of a slice from a DataFrame.\n",
      "Try using .loc[row_indexer,col_indexer] = value instead\n",
      "\n",
      "See the caveats in the documentation: http://pandas.pydata.org/pandas-docs/stable/indexing.html#indexing-view-versus-copy\n",
      "  self.main_df['Subject'] = self.message\n",
      "C:\\Users\\Bhavya\\Anaconda3\\lib\\site-packages\\pandas\\core\\ops.py:1649: FutureWarning: elementwise comparison failed; returning scalar instead, but in the future will perform elementwise comparison\n",
      "  result = method(y)\n"
     ]
    },
    {
     "name": "stdout",
     "output_type": "stream",
     "text": [
      "Saved\n",
      "Saved\n",
      "Saved\n",
      "Saved\n",
      "Saved\n",
      "Saved\n",
      "Saved\n",
      "Saved\n",
      "Saved\n"
     ]
    },
    {
     "name": "stderr",
     "output_type": "stream",
     "text": [
      "C:\\Users\\Bhavya\\Anaconda3\\lib\\site-packages\\pandas\\core\\ops.py:1649: FutureWarning: elementwise comparison failed; returning scalar instead, but in the future will perform elementwise comparison\n",
      "  result = method(y)\n"
     ]
    },
    {
     "name": "stdout",
     "output_type": "stream",
     "text": [
      "Saved\n",
      "Saved\n",
      "Exceeded 30 redirects.\n",
      "Saved\n",
      "Saved\n"
     ]
    },
    {
     "name": "stderr",
     "output_type": "stream",
     "text": [
      "C:\\Users\\Bhavya\\Desktop\\Vaibhav\\Django-projects\\recallie_web\\news\\utils.py:579: SettingWithCopyWarning: \n",
      "A value is trying to be set on a copy of a slice from a DataFrame.\n",
      "Try using .loc[row_indexer,col_indexer] = value instead\n",
      "\n",
      "See the caveats in the documentation: http://pandas.pydata.org/pandas-docs/stable/indexing.html#indexing-view-versus-copy\n",
      "  self.main_df['Subject'] = self.message\n"
     ]
    },
    {
     "name": "stdout",
     "output_type": "stream",
     "text": [
      "100\n",
      "Saved\n",
      "Saved\n",
      "Saved\n",
      "Saved\n",
      "Saved\n",
      "Saved\n",
      "Saved\n",
      "Saved\n",
      "Saved\n",
      "Saved\n",
      "Saved\n",
      "Saved\n",
      "Saved\n",
      "Saved\n",
      "Saved\n",
      "Saved\n",
      "Saved\n",
      "Saved\n",
      "Saved\n",
      "Saved\n",
      "Saved\n",
      "Saved\n",
      "Saved\n",
      "Saved\n",
      "Saved\n",
      "Saved\n",
      "Saved\n",
      "Saved\n",
      "Saved\n",
      "Saved\n",
      "Saved\n",
      "Saved\n",
      "Saved\n",
      "Saved\n",
      "Saved\n",
      "Saved\n",
      "Saved\n",
      "Saved\n",
      "Saved\n",
      "Saved\n",
      "Saved\n",
      "Saved\n",
      "Saved\n",
      "Saved\n",
      "Saved\n",
      "Saved\n",
      "Saved\n",
      "Saved\n",
      "Saved\n",
      "Saved\n",
      "Saved\n",
      "Saved\n",
      "Saved\n",
      "Saved\n",
      "Saved\n",
      "Saved\n",
      "Saved\n",
      "Saved\n",
      "Saved\n",
      "Saved\n",
      "Saved\n",
      "Saved\n",
      "Saved\n",
      "Saved\n",
      "Saved\n",
      "Saved\n",
      "Saved\n",
      "Saved\n",
      "Saved\n",
      "Saved\n",
      "Saved\n",
      "Saved\n",
      "Saved\n",
      "Saved\n",
      "Saved\n",
      "Saved\n",
      "Saved\n",
      "Saved\n",
      "Saved\n",
      "Saved\n",
      "Saved\n",
      "Saved\n",
      "Saved\n",
      "Saved\n",
      "Saved\n",
      "Saved\n",
      "Saved\n",
      "Saved\n",
      "Saved\n",
      "Saved\n",
      "Saved\n",
      "Saved\n",
      "Saved\n",
      "Saved\n",
      "Saved\n",
      "Saved\n",
      "Saved\n",
      "Saved\n",
      "Saved\n"
     ]
    },
    {
     "name": "stderr",
     "output_type": "stream",
     "text": [
      "C:\\Users\\Bhavya\\Anaconda3\\lib\\socket.py:657: ResourceWarning: unclosed <socket.socket fd=2176, family=AddressFamily.AF_INET, type=SocketKind.SOCK_STREAM, proto=0, laddr=('139.19.106.198', 59366), raddr=('151.101.112.239', 443)>\n",
      "  self._sock = None\n",
      "C:\\Users\\Bhavya\\Anaconda3\\lib\\socket.py:657: ResourceWarning: unclosed <socket.socket fd=2688, family=AddressFamily.AF_INET, type=SocketKind.SOCK_STREAM, proto=0, laddr=('139.19.106.198', 59367), raddr=('151.101.112.239', 443)>\n",
      "  self._sock = None\n"
     ]
    },
    {
     "name": "stdout",
     "output_type": "stream",
     "text": [
      "Saved\n",
      "Saved\n",
      "Saved\n",
      "Saved\n"
     ]
    },
    {
     "name": "stderr",
     "output_type": "stream",
     "text": [
      "C:\\Users\\Bhavya\\Anaconda3\\lib\\site-packages\\pandas\\core\\ops.py:1649: FutureWarning: elementwise comparison failed; returning scalar instead, but in the future will perform elementwise comparison\n",
      "  result = method(y)\n"
     ]
    },
    {
     "name": "stdout",
     "output_type": "stream",
     "text": [
      "Saved\n",
      "Saved\n",
      "Saved\n",
      "Saved\n"
     ]
    },
    {
     "name": "stderr",
     "output_type": "stream",
     "text": [
      "C:\\Users\\Bhavya\\Anaconda3\\lib\\socket.py:657: ResourceWarning: unclosed <socket.socket fd=3316, family=AddressFamily.AF_INET, type=SocketKind.SOCK_STREAM, proto=0, laddr=('139.19.106.198', 59402), raddr=('151.101.114.62', 443)>\n",
      "  self._sock = None\n"
     ]
    },
    {
     "name": "stdout",
     "output_type": "stream",
     "text": [
      "Saved\n"
     ]
    },
    {
     "name": "stderr",
     "output_type": "stream",
     "text": [
      "C:\\Users\\Bhavya\\Anaconda3\\lib\\socket.py:657: ResourceWarning: unclosed <socket.socket fd=2176, family=AddressFamily.AF_INET, type=SocketKind.SOCK_STREAM, proto=0, laddr=('139.19.106.198', 59409), raddr=('151.101.112.239', 443)>\n",
      "  self._sock = None\n"
     ]
    },
    {
     "name": "stdout",
     "output_type": "stream",
     "text": [
      "Saved\n"
     ]
    },
    {
     "name": "stderr",
     "output_type": "stream",
     "text": [
      "C:\\Users\\Bhavya\\Desktop\\Vaibhav\\Django-projects\\recallie_web\\news\\utils.py:579: SettingWithCopyWarning: \n",
      "A value is trying to be set on a copy of a slice from a DataFrame.\n",
      "Try using .loc[row_indexer,col_indexer] = value instead\n",
      "\n",
      "See the caveats in the documentation: http://pandas.pydata.org/pandas-docs/stable/indexing.html#indexing-view-versus-copy\n",
      "  self.main_df['Subject'] = self.message\n"
     ]
    },
    {
     "name": "stdout",
     "output_type": "stream",
     "text": [
      "Saved\n",
      "Saved\n"
     ]
    },
    {
     "name": "stderr",
     "output_type": "stream",
     "text": [
      "C:\\Users\\Bhavya\\Desktop\\Vaibhav\\Django-projects\\recallie_web\\news\\utils.py:579: SettingWithCopyWarning: \n",
      "A value is trying to be set on a copy of a slice from a DataFrame.\n",
      "Try using .loc[row_indexer,col_indexer] = value instead\n",
      "\n",
      "See the caveats in the documentation: http://pandas.pydata.org/pandas-docs/stable/indexing.html#indexing-view-versus-copy\n",
      "  self.main_df['Subject'] = self.message\n"
     ]
    },
    {
     "name": "stdout",
     "output_type": "stream",
     "text": [
      "Saved\n",
      "Saved\n",
      "Saved\n"
     ]
    },
    {
     "name": "stderr",
     "output_type": "stream",
     "text": [
      "C:\\Users\\Bhavya\\Desktop\\Vaibhav\\Django-projects\\recallie_web\\news\\utils.py:579: SettingWithCopyWarning: \n",
      "A value is trying to be set on a copy of a slice from a DataFrame.\n",
      "Try using .loc[row_indexer,col_indexer] = value instead\n",
      "\n",
      "See the caveats in the documentation: http://pandas.pydata.org/pandas-docs/stable/indexing.html#indexing-view-versus-copy\n",
      "  self.main_df['Subject'] = self.message\n"
     ]
    },
    {
     "name": "stdout",
     "output_type": "stream",
     "text": [
      "Saved\n",
      "Saved\n"
     ]
    },
    {
     "name": "stderr",
     "output_type": "stream",
     "text": [
      "C:\\Users\\Bhavya\\Desktop\\Vaibhav\\Django-projects\\recallie_web\\news\\utils.py:579: SettingWithCopyWarning: \n",
      "A value is trying to be set on a copy of a slice from a DataFrame.\n",
      "Try using .loc[row_indexer,col_indexer] = value instead\n",
      "\n",
      "See the caveats in the documentation: http://pandas.pydata.org/pandas-docs/stable/indexing.html#indexing-view-versus-copy\n",
      "  self.main_df['Subject'] = self.message\n"
     ]
    },
    {
     "name": "stdout",
     "output_type": "stream",
     "text": [
      "Saved\n",
      "Saved\n",
      "Saved\n",
      "Saved\n",
      "Saved\n"
     ]
    },
    {
     "name": "stderr",
     "output_type": "stream",
     "text": [
      "C:\\Users\\Bhavya\\Desktop\\Vaibhav\\Django-projects\\recallie_web\\news\\utils.py:579: SettingWithCopyWarning: \n",
      "A value is trying to be set on a copy of a slice from a DataFrame.\n",
      "Try using .loc[row_indexer,col_indexer] = value instead\n",
      "\n",
      "See the caveats in the documentation: http://pandas.pydata.org/pandas-docs/stable/indexing.html#indexing-view-versus-copy\n",
      "  self.main_df['Subject'] = self.message\n",
      "C:\\Users\\Bhavya\\Anaconda3\\lib\\site-packages\\pandas\\core\\ops.py:1649: FutureWarning: elementwise comparison failed; returning scalar instead, but in the future will perform elementwise comparison\n",
      "  result = method(y)\n"
     ]
    },
    {
     "name": "stdout",
     "output_type": "stream",
     "text": [
      "Saved\n"
     ]
    },
    {
     "name": "stderr",
     "output_type": "stream",
     "text": [
      "C:\\Users\\Bhavya\\Desktop\\Vaibhav\\Django-projects\\recallie_web\\news\\utils.py:579: SettingWithCopyWarning: \n",
      "A value is trying to be set on a copy of a slice from a DataFrame.\n",
      "Try using .loc[row_indexer,col_indexer] = value instead\n",
      "\n",
      "See the caveats in the documentation: http://pandas.pydata.org/pandas-docs/stable/indexing.html#indexing-view-versus-copy\n",
      "  self.main_df['Subject'] = self.message\n"
     ]
    },
    {
     "name": "stdout",
     "output_type": "stream",
     "text": [
      "Saved\n",
      "Saved\n"
     ]
    },
    {
     "name": "stderr",
     "output_type": "stream",
     "text": [
      "C:\\Users\\Bhavya\\Anaconda3\\lib\\socket.py:657: ResourceWarning: unclosed <socket.socket fd=3588, family=AddressFamily.AF_INET, type=SocketKind.SOCK_STREAM, proto=0, laddr=('139.19.106.198', 59507), raddr=('151.101.112.239', 443)>\n",
      "  self._sock = None\n",
      "C:\\Users\\Bhavya\\Anaconda3\\lib\\socket.py:657: ResourceWarning: unclosed <socket.socket fd=4036, family=AddressFamily.AF_INET, type=SocketKind.SOCK_STREAM, proto=0, laddr=('139.19.106.198', 59510), raddr=('151.101.65.131', 443)>\n",
      "  self._sock = None\n",
      "C:\\Users\\Bhavya\\Anaconda3\\lib\\socket.py:657: ResourceWarning: unclosed <socket.socket fd=2440, family=AddressFamily.AF_INET, type=SocketKind.SOCK_STREAM, proto=0, laddr=('139.19.106.198', 59513), raddr=('151.101.65.131', 443)>\n",
      "  self._sock = None\n"
     ]
    },
    {
     "name": "stdout",
     "output_type": "stream",
     "text": [
      "Saved\n",
      "Saved\n"
     ]
    },
    {
     "name": "stderr",
     "output_type": "stream",
     "text": [
      "C:\\Users\\Bhavya\\Anaconda3\\lib\\socket.py:657: ResourceWarning: unclosed <socket.socket fd=3248, family=AddressFamily.AF_INET, type=SocketKind.SOCK_STREAM, proto=0, laddr=('139.19.106.198', 59514), raddr=('151.101.112.239', 443)>\n",
      "  self._sock = None\n",
      "C:\\Users\\Bhavya\\Desktop\\Vaibhav\\Django-projects\\recallie_web\\news\\utils.py:579: SettingWithCopyWarning: \n",
      "A value is trying to be set on a copy of a slice from a DataFrame.\n",
      "Try using .loc[row_indexer,col_indexer] = value instead\n",
      "\n",
      "See the caveats in the documentation: http://pandas.pydata.org/pandas-docs/stable/indexing.html#indexing-view-versus-copy\n",
      "  self.main_df['Subject'] = self.message\n",
      "C:\\Users\\Bhavya\\Desktop\\Vaibhav\\Django-projects\\recallie_web\\news\\utils.py:579: SettingWithCopyWarning: \n",
      "A value is trying to be set on a copy of a slice from a DataFrame.\n",
      "Try using .loc[row_indexer,col_indexer] = value instead\n",
      "\n",
      "See the caveats in the documentation: http://pandas.pydata.org/pandas-docs/stable/indexing.html#indexing-view-versus-copy\n",
      "  self.main_df['Subject'] = self.message\n"
     ]
    },
    {
     "name": "stdout",
     "output_type": "stream",
     "text": [
      "Saved\n",
      "Saved\n",
      "Saved\n",
      "Saved\n",
      "Saved\n"
     ]
    },
    {
     "name": "stderr",
     "output_type": "stream",
     "text": [
      "C:\\Users\\Bhavya\\Anaconda3\\lib\\socket.py:657: ResourceWarning: unclosed <socket.socket fd=3676, family=AddressFamily.AF_INET, type=SocketKind.SOCK_STREAM, proto=0, laddr=('139.19.106.198', 59536), raddr=('23.67.143.112', 443)>\n",
      "  self._sock = None\n",
      "C:\\Users\\Bhavya\\Anaconda3\\lib\\socket.py:657: ResourceWarning: unclosed <socket.socket fd=3676, family=AddressFamily.AF_INET, type=SocketKind.SOCK_STREAM, proto=0, laddr=('139.19.106.198', 59541), raddr=('72.251.236.55', 443)>\n",
      "  self._sock = None\n"
     ]
    },
    {
     "name": "stdout",
     "output_type": "stream",
     "text": [
      "Saved\n",
      "Saved\n",
      "Saved\n"
     ]
    },
    {
     "name": "stderr",
     "output_type": "stream",
     "text": [
      "C:\\Users\\Bhavya\\Desktop\\Vaibhav\\Django-projects\\recallie_web\\news\\utils.py:579: SettingWithCopyWarning: \n",
      "A value is trying to be set on a copy of a slice from a DataFrame.\n",
      "Try using .loc[row_indexer,col_indexer] = value instead\n",
      "\n",
      "See the caveats in the documentation: http://pandas.pydata.org/pandas-docs/stable/indexing.html#indexing-view-versus-copy\n",
      "  self.main_df['Subject'] = self.message\n"
     ]
    },
    {
     "name": "stdout",
     "output_type": "stream",
     "text": [
      "Saved\n",
      "Saved\n",
      "Saved\n"
     ]
    },
    {
     "name": "stderr",
     "output_type": "stream",
     "text": [
      "C:\\Users\\Bhavya\\Desktop\\Vaibhav\\Django-projects\\recallie_web\\news\\utils.py:579: SettingWithCopyWarning: \n",
      "A value is trying to be set on a copy of a slice from a DataFrame.\n",
      "Try using .loc[row_indexer,col_indexer] = value instead\n",
      "\n",
      "See the caveats in the documentation: http://pandas.pydata.org/pandas-docs/stable/indexing.html#indexing-view-versus-copy\n",
      "  self.main_df['Subject'] = self.message\n"
     ]
    },
    {
     "name": "stdout",
     "output_type": "stream",
     "text": [
      "Saved\n",
      "Saved\n"
     ]
    },
    {
     "name": "stderr",
     "output_type": "stream",
     "text": [
      "C:\\Users\\Bhavya\\Desktop\\Vaibhav\\Django-projects\\recallie_web\\news\\utils.py:579: SettingWithCopyWarning: \n",
      "A value is trying to be set on a copy of a slice from a DataFrame.\n",
      "Try using .loc[row_indexer,col_indexer] = value instead\n",
      "\n",
      "See the caveats in the documentation: http://pandas.pydata.org/pandas-docs/stable/indexing.html#indexing-view-versus-copy\n",
      "  self.main_df['Subject'] = self.message\n"
     ]
    },
    {
     "name": "stdout",
     "output_type": "stream",
     "text": [
      "Saved\n"
     ]
    },
    {
     "name": "stderr",
     "output_type": "stream",
     "text": [
      "C:\\Users\\Bhavya\\Anaconda3\\lib\\site-packages\\pandas\\core\\ops.py:1649: FutureWarning: elementwise comparison failed; returning scalar instead, but in the future will perform elementwise comparison\n",
      "  result = method(y)\n"
     ]
    },
    {
     "name": "stdout",
     "output_type": "stream",
     "text": [
      "Saved\n",
      "Saved\n",
      "Saved\n",
      "Saved\n",
      "Saved\n",
      "Saved\n",
      "Saved\n",
      "Saved\n"
     ]
    },
    {
     "name": "stderr",
     "output_type": "stream",
     "text": [
      "C:\\Users\\Bhavya\\Anaconda3\\lib\\socket.py:657: ResourceWarning: unclosed <socket.socket fd=3088, family=AddressFamily.AF_INET, type=SocketKind.SOCK_STREAM, proto=0, laddr=('139.19.106.198', 59633), raddr=('151.101.112.239', 443)>\n",
      "  self._sock = None\n"
     ]
    },
    {
     "name": "stdout",
     "output_type": "stream",
     "text": [
      "Saved\n",
      "Saved\n",
      "Saved\n",
      "Saved\n",
      "Saved\n",
      "Saved\n",
      "Saved\n"
     ]
    },
    {
     "name": "stderr",
     "output_type": "stream",
     "text": [
      "C:\\Users\\Bhavya\\Anaconda3\\lib\\socket.py:657: ResourceWarning: unclosed <socket.socket fd=3220, family=AddressFamily.AF_INET, type=SocketKind.SOCK_STREAM, proto=0, laddr=('139.19.106.198', 59677), raddr=('151.101.114.62', 443)>\n",
      "  self._sock = None\n"
     ]
    },
    {
     "name": "stdout",
     "output_type": "stream",
     "text": [
      "Saved\n"
     ]
    },
    {
     "name": "stderr",
     "output_type": "stream",
     "text": [
      "C:\\Users\\Bhavya\\Desktop\\Vaibhav\\Django-projects\\recallie_web\\news\\utils.py:579: SettingWithCopyWarning: \n",
      "A value is trying to be set on a copy of a slice from a DataFrame.\n",
      "Try using .loc[row_indexer,col_indexer] = value instead\n",
      "\n",
      "See the caveats in the documentation: http://pandas.pydata.org/pandas-docs/stable/indexing.html#indexing-view-versus-copy\n",
      "  self.main_df['Subject'] = self.message\n"
     ]
    },
    {
     "name": "stdout",
     "output_type": "stream",
     "text": [
      "Saved\n",
      "Saved\n",
      "Saved\n",
      "Saved\n",
      "Saved\n",
      "Saved\n"
     ]
    },
    {
     "name": "stderr",
     "output_type": "stream",
     "text": [
      "C:\\Users\\Bhavya\\Desktop\\Vaibhav\\Django-projects\\recallie_web\\news\\utils.py:579: SettingWithCopyWarning: \n",
      "A value is trying to be set on a copy of a slice from a DataFrame.\n",
      "Try using .loc[row_indexer,col_indexer] = value instead\n",
      "\n",
      "See the caveats in the documentation: http://pandas.pydata.org/pandas-docs/stable/indexing.html#indexing-view-versus-copy\n",
      "  self.main_df['Subject'] = self.message\n"
     ]
    },
    {
     "name": "stdout",
     "output_type": "stream",
     "text": [
      "Saved\n"
     ]
    },
    {
     "name": "stderr",
     "output_type": "stream",
     "text": [
      "C:\\Users\\Bhavya\\Desktop\\Vaibhav\\Django-projects\\recallie_web\\news\\utils.py:579: SettingWithCopyWarning: \n",
      "A value is trying to be set on a copy of a slice from a DataFrame.\n",
      "Try using .loc[row_indexer,col_indexer] = value instead\n",
      "\n",
      "See the caveats in the documentation: http://pandas.pydata.org/pandas-docs/stable/indexing.html#indexing-view-versus-copy\n",
      "  self.main_df['Subject'] = self.message\n"
     ]
    },
    {
     "name": "stdout",
     "output_type": "stream",
     "text": [
      "Saved\n",
      "Saved\n",
      "Saved\n",
      "Saved\n",
      "Saved\n",
      "Saved\n",
      "Saved\n",
      "Saved\n",
      "Saved\n",
      "Saved\n",
      "Saved\n",
      "Saved\n"
     ]
    },
    {
     "name": "stderr",
     "output_type": "stream",
     "text": [
      "C:\\Users\\Bhavya\\Desktop\\Vaibhav\\Django-projects\\recallie_web\\news\\utils.py:579: SettingWithCopyWarning: \n",
      "A value is trying to be set on a copy of a slice from a DataFrame.\n",
      "Try using .loc[row_indexer,col_indexer] = value instead\n",
      "\n",
      "See the caveats in the documentation: http://pandas.pydata.org/pandas-docs/stable/indexing.html#indexing-view-versus-copy\n",
      "  self.main_df['Subject'] = self.message\n",
      "C:\\Users\\Bhavya\\Desktop\\Vaibhav\\Django-projects\\recallie_web\\news\\utils.py:579: SettingWithCopyWarning: \n",
      "A value is trying to be set on a copy of a slice from a DataFrame.\n",
      "Try using .loc[row_indexer,col_indexer] = value instead\n",
      "\n",
      "See the caveats in the documentation: http://pandas.pydata.org/pandas-docs/stable/indexing.html#indexing-view-versus-copy\n",
      "  self.main_df['Subject'] = self.message\n"
     ]
    },
    {
     "name": "stdout",
     "output_type": "stream",
     "text": [
      "Saved\n",
      "Saved\n"
     ]
    },
    {
     "name": "stderr",
     "output_type": "stream",
     "text": [
      "C:\\Users\\Bhavya\\Anaconda3\\lib\\socket.py:657: ResourceWarning: unclosed <socket.socket fd=3868, family=AddressFamily.AF_INET, type=SocketKind.SOCK_STREAM, proto=0, laddr=('139.19.106.198', 59784), raddr=('151.101.112.239', 443)>\n",
      "  self._sock = None\n",
      "C:\\Users\\Bhavya\\Desktop\\Vaibhav\\Django-projects\\recallie_web\\news\\utils.py:579: SettingWithCopyWarning: \n",
      "A value is trying to be set on a copy of a slice from a DataFrame.\n",
      "Try using .loc[row_indexer,col_indexer] = value instead\n",
      "\n",
      "See the caveats in the documentation: http://pandas.pydata.org/pandas-docs/stable/indexing.html#indexing-view-versus-copy\n",
      "  self.main_df['Subject'] = self.message\n"
     ]
    },
    {
     "name": "stdout",
     "output_type": "stream",
     "text": [
      "Saved\n"
     ]
    },
    {
     "name": "stderr",
     "output_type": "stream",
     "text": [
      "C:\\Users\\Bhavya\\Desktop\\Vaibhav\\Django-projects\\recallie_web\\news\\utils.py:579: SettingWithCopyWarning: \n",
      "A value is trying to be set on a copy of a slice from a DataFrame.\n",
      "Try using .loc[row_indexer,col_indexer] = value instead\n",
      "\n",
      "See the caveats in the documentation: http://pandas.pydata.org/pandas-docs/stable/indexing.html#indexing-view-versus-copy\n",
      "  self.main_df['Subject'] = self.message\n"
     ]
    },
    {
     "name": "stdout",
     "output_type": "stream",
     "text": [
      "Saved\n",
      "Saved\n",
      "Saved\n",
      "Saved\n",
      "Saved\n",
      "Saved\n",
      "Saved\n"
     ]
    },
    {
     "name": "stderr",
     "output_type": "stream",
     "text": [
      "C:\\Users\\Bhavya\\Anaconda3\\lib\\site-packages\\pandas\\core\\ops.py:1649: FutureWarning: elementwise comparison failed; returning scalar instead, but in the future will perform elementwise comparison\n",
      "  result = method(y)\n"
     ]
    },
    {
     "name": "stdout",
     "output_type": "stream",
     "text": [
      "Saved\n",
      "Saved\n",
      "Saved\n",
      "Saved\n"
     ]
    },
    {
     "name": "stderr",
     "output_type": "stream",
     "text": [
      "C:\\Users\\Bhavya\\Desktop\\Vaibhav\\Django-projects\\recallie_web\\news\\utils.py:579: SettingWithCopyWarning: \n",
      "A value is trying to be set on a copy of a slice from a DataFrame.\n",
      "Try using .loc[row_indexer,col_indexer] = value instead\n",
      "\n",
      "See the caveats in the documentation: http://pandas.pydata.org/pandas-docs/stable/indexing.html#indexing-view-versus-copy\n",
      "  self.main_df['Subject'] = self.message\n",
      "C:\\Users\\Bhavya\\Anaconda3\\lib\\socket.py:657: ResourceWarning: unclosed <socket.socket fd=3988, family=AddressFamily.AF_INET, type=SocketKind.SOCK_STREAM, proto=0, laddr=('139.19.106.198', 59857), raddr=('45.79.137.166', 443)>\n",
      "  self._sock = None\n"
     ]
    },
    {
     "name": "stdout",
     "output_type": "stream",
     "text": [
      "Saved\n",
      "Saved\n"
     ]
    },
    {
     "name": "stderr",
     "output_type": "stream",
     "text": [
      "C:\\Users\\Bhavya\\Desktop\\Vaibhav\\Django-projects\\recallie_web\\news\\utils.py:579: SettingWithCopyWarning: \n",
      "A value is trying to be set on a copy of a slice from a DataFrame.\n",
      "Try using .loc[row_indexer,col_indexer] = value instead\n",
      "\n",
      "See the caveats in the documentation: http://pandas.pydata.org/pandas-docs/stable/indexing.html#indexing-view-versus-copy\n",
      "  self.main_df['Subject'] = self.message\n",
      "C:\\Users\\Bhavya\\Desktop\\Vaibhav\\Django-projects\\recallie_web\\news\\utils.py:579: SettingWithCopyWarning: \n",
      "A value is trying to be set on a copy of a slice from a DataFrame.\n",
      "Try using .loc[row_indexer,col_indexer] = value instead\n",
      "\n",
      "See the caveats in the documentation: http://pandas.pydata.org/pandas-docs/stable/indexing.html#indexing-view-versus-copy\n",
      "  self.main_df['Subject'] = self.message\n"
     ]
    },
    {
     "name": "stdout",
     "output_type": "stream",
     "text": [
      "Saved\n",
      "Saved\n",
      "Saved\n",
      "Saved\n",
      "Saved\n",
      "Saved\n",
      "Saved\n",
      "tooManyRequests: too many requests:\n",
      "  https://api.rosette.com/rest/v1/relationships\n",
      "'NoneType' object is not iterable\n",
      "Saved\n",
      "200\n",
      "Saved\n",
      "Saved\n",
      "Saved\n",
      "Saved\n",
      "Saved\n",
      "Saved\n",
      "Saved\n",
      "Saved\n",
      "Saved\n",
      "Saved\n",
      "Saved\n",
      "Saved\n",
      "Saved\n",
      "Saved\n",
      "Saved\n",
      "Saved\n",
      "Saved\n",
      "Saved\n",
      "Saved\n",
      "Saved\n",
      "Saved\n",
      "Saved\n",
      "Saved\n",
      "Saved\n",
      "Saved\n",
      "Saved\n",
      "Saved\n",
      "Saved\n",
      "Saved\n",
      "Saved\n",
      "Saved\n",
      "Saved\n",
      "Saved\n",
      "Saved\n",
      "Saved\n",
      "Saved\n",
      "Saved\n",
      "Saved\n",
      "Saved\n",
      "Saved\n",
      "Saved\n",
      "Saved\n",
      "Saved\n",
      "Saved\n",
      "Saved\n",
      "Saved\n",
      "Saved\n",
      "Saved\n",
      "Saved\n",
      "Saved\n",
      "Saved\n",
      "Saved\n",
      "Saved\n",
      "Saved\n",
      "Saved\n",
      "Saved\n",
      "Saved\n",
      "Saved\n",
      "Saved\n",
      "Saved\n",
      "Saved\n",
      "Saved\n",
      "Saved\n",
      "Saved\n",
      "Saved\n",
      "Saved\n",
      "Saved\n",
      "Saved\n",
      "Saved\n",
      "Saved\n",
      "Saved\n",
      "Saved\n",
      "Saved\n",
      "Saved\n",
      "Saved\n",
      "Saved\n",
      "Saved\n",
      "Saved\n",
      "Saved\n",
      "Saved\n",
      "Saved\n",
      "Saved\n",
      "Saved\n",
      "Saved\n",
      "Saved\n",
      "Saved\n",
      "Saved\n",
      "Saved\n",
      "Saved\n",
      "Saved\n",
      "Saved\n",
      "Saved\n",
      "Saved\n",
      "Saved\n",
      "Saved\n",
      "Saved\n",
      "Saved\n",
      "Saved\n",
      "Saved\n",
      "Saved\n",
      "Saved\n",
      "Saved\n"
     ]
    },
    {
     "name": "stderr",
     "output_type": "stream",
     "text": [
      "C:\\Users\\Bhavya\\Desktop\\Vaibhav\\Django-projects\\recallie_web\\news\\utils.py:579: SettingWithCopyWarning: \n",
      "A value is trying to be set on a copy of a slice from a DataFrame.\n",
      "Try using .loc[row_indexer,col_indexer] = value instead\n",
      "\n",
      "See the caveats in the documentation: http://pandas.pydata.org/pandas-docs/stable/indexing.html#indexing-view-versus-copy\n",
      "  self.main_df['Subject'] = self.message\n"
     ]
    },
    {
     "name": "stdout",
     "output_type": "stream",
     "text": [
      "Saved\n",
      "Saved\n"
     ]
    },
    {
     "name": "stderr",
     "output_type": "stream",
     "text": [
      "C:\\Users\\Bhavya\\Anaconda3\\lib\\socket.py:657: ResourceWarning: unclosed <socket.socket fd=3572, family=AddressFamily.AF_INET, type=SocketKind.SOCK_STREAM, proto=0, laddr=('139.19.106.198', 59956), raddr=('151.101.114.62', 443)>\n",
      "  self._sock = None\n"
     ]
    },
    {
     "name": "stdout",
     "output_type": "stream",
     "text": [
      "Saved\n",
      "Saved\n",
      "Saved\n"
     ]
    },
    {
     "name": "stderr",
     "output_type": "stream",
     "text": [
      "C:\\Users\\Bhavya\\Desktop\\Vaibhav\\Django-projects\\recallie_web\\news\\utils.py:579: SettingWithCopyWarning: \n",
      "A value is trying to be set on a copy of a slice from a DataFrame.\n",
      "Try using .loc[row_indexer,col_indexer] = value instead\n",
      "\n",
      "See the caveats in the documentation: http://pandas.pydata.org/pandas-docs/stable/indexing.html#indexing-view-versus-copy\n",
      "  self.main_df['Subject'] = self.message\n"
     ]
    },
    {
     "name": "stdout",
     "output_type": "stream",
     "text": [
      "Saved\n"
     ]
    },
    {
     "name": "stderr",
     "output_type": "stream",
     "text": [
      "C:\\Users\\Bhavya\\Anaconda3\\lib\\site-packages\\pandas\\core\\ops.py:1649: FutureWarning: elementwise comparison failed; returning scalar instead, but in the future will perform elementwise comparison\n",
      "  result = method(y)\n"
     ]
    },
    {
     "name": "stdout",
     "output_type": "stream",
     "text": [
      "Saved\n"
     ]
    },
    {
     "name": "stderr",
     "output_type": "stream",
     "text": [
      "C:\\Users\\Bhavya\\Anaconda3\\lib\\site-packages\\pandas\\core\\ops.py:1649: FutureWarning: elementwise comparison failed; returning scalar instead, but in the future will perform elementwise comparison\n",
      "  result = method(y)\n"
     ]
    },
    {
     "name": "stdout",
     "output_type": "stream",
     "text": [
      "Saved\n",
      "Saved\n"
     ]
    },
    {
     "name": "stderr",
     "output_type": "stream",
     "text": [
      "C:\\Users\\Bhavya\\Anaconda3\\lib\\site-packages\\pandas\\core\\ops.py:1649: FutureWarning: elementwise comparison failed; returning scalar instead, but in the future will perform elementwise comparison\n",
      "  result = method(y)\n"
     ]
    },
    {
     "name": "stdout",
     "output_type": "stream",
     "text": [
      "Saved\n",
      "Saved\n",
      "Saved\n"
     ]
    },
    {
     "name": "stderr",
     "output_type": "stream",
     "text": [
      "C:\\Users\\Bhavya\\Desktop\\Vaibhav\\Django-projects\\recallie_web\\news\\utils.py:579: SettingWithCopyWarning: \n",
      "A value is trying to be set on a copy of a slice from a DataFrame.\n",
      "Try using .loc[row_indexer,col_indexer] = value instead\n",
      "\n",
      "See the caveats in the documentation: http://pandas.pydata.org/pandas-docs/stable/indexing.html#indexing-view-versus-copy\n",
      "  self.main_df['Subject'] = self.message\n",
      "C:\\Users\\Bhavya\\Desktop\\Vaibhav\\Django-projects\\recallie_web\\news\\utils.py:579: SettingWithCopyWarning: \n",
      "A value is trying to be set on a copy of a slice from a DataFrame.\n",
      "Try using .loc[row_indexer,col_indexer] = value instead\n",
      "\n",
      "See the caveats in the documentation: http://pandas.pydata.org/pandas-docs/stable/indexing.html#indexing-view-versus-copy\n",
      "  self.main_df['Subject'] = self.message\n"
     ]
    },
    {
     "name": "stdout",
     "output_type": "stream",
     "text": [
      "Saved\n",
      "Saved\n"
     ]
    },
    {
     "name": "stderr",
     "output_type": "stream",
     "text": [
      "C:\\Users\\Bhavya\\Desktop\\Vaibhav\\Django-projects\\recallie_web\\news\\utils.py:579: SettingWithCopyWarning: \n",
      "A value is trying to be set on a copy of a slice from a DataFrame.\n",
      "Try using .loc[row_indexer,col_indexer] = value instead\n",
      "\n",
      "See the caveats in the documentation: http://pandas.pydata.org/pandas-docs/stable/indexing.html#indexing-view-versus-copy\n",
      "  self.main_df['Subject'] = self.message\n"
     ]
    },
    {
     "name": "stdout",
     "output_type": "stream",
     "text": [
      "Saved\n"
     ]
    },
    {
     "name": "stderr",
     "output_type": "stream",
     "text": [
      "C:\\Users\\Bhavya\\Anaconda3\\lib\\socket.py:657: ResourceWarning: unclosed <socket.socket fd=3328, family=AddressFamily.AF_INET, type=SocketKind.SOCK_STREAM, proto=0, laddr=('139.19.106.198', 60034), raddr=('151.101.112.239', 443)>\n",
      "  self._sock = None\n",
      "C:\\Users\\Bhavya\\Anaconda3\\lib\\socket.py:657: ResourceWarning: unclosed <socket.socket fd=3404, family=AddressFamily.AF_INET, type=SocketKind.SOCK_STREAM, proto=0, laddr=('139.19.106.198', 60035), raddr=('151.101.112.239', 443)>\n",
      "  self._sock = None\n",
      "C:\\Users\\Bhavya\\Desktop\\Vaibhav\\Django-projects\\recallie_web\\news\\utils.py:579: SettingWithCopyWarning: \n",
      "A value is trying to be set on a copy of a slice from a DataFrame.\n",
      "Try using .loc[row_indexer,col_indexer] = value instead\n",
      "\n",
      "See the caveats in the documentation: http://pandas.pydata.org/pandas-docs/stable/indexing.html#indexing-view-versus-copy\n",
      "  self.main_df['Subject'] = self.message\n"
     ]
    },
    {
     "name": "stdout",
     "output_type": "stream",
     "text": [
      "Saved\n",
      "Saved\n",
      "Saved\n"
     ]
    },
    {
     "name": "stderr",
     "output_type": "stream",
     "text": [
      "C:\\Users\\Bhavya\\Desktop\\Vaibhav\\Django-projects\\recallie_web\\news\\utils.py:579: SettingWithCopyWarning: \n",
      "A value is trying to be set on a copy of a slice from a DataFrame.\n",
      "Try using .loc[row_indexer,col_indexer] = value instead\n",
      "\n",
      "See the caveats in the documentation: http://pandas.pydata.org/pandas-docs/stable/indexing.html#indexing-view-versus-copy\n",
      "  self.main_df['Subject'] = self.message\n"
     ]
    },
    {
     "name": "stdout",
     "output_type": "stream",
     "text": [
      "Saved\n"
     ]
    },
    {
     "name": "stderr",
     "output_type": "stream",
     "text": [
      "C:\\Users\\Bhavya\\Anaconda3\\lib\\socket.py:657: ResourceWarning: unclosed <socket.socket fd=3772, family=AddressFamily.AF_INET, type=SocketKind.SOCK_STREAM, proto=0, laddr=('139.19.106.198', 60063), raddr=('151.101.113.67', 443)>\n",
      "  self._sock = None\n"
     ]
    },
    {
     "name": "stdout",
     "output_type": "stream",
     "text": [
      "Saved\n",
      "Saved\n",
      "Saved\n",
      "Saved\n",
      "Saved\n"
     ]
    },
    {
     "name": "stderr",
     "output_type": "stream",
     "text": [
      "C:\\Users\\Bhavya\\Anaconda3\\lib\\socket.py:657: ResourceWarning: unclosed <socket.socket fd=2648, family=AddressFamily.AF_INET, type=SocketKind.SOCK_STREAM, proto=0, laddr=('139.19.106.198', 60081), raddr=('151.101.112.239', 443)>\n",
      "  self._sock = None\n"
     ]
    },
    {
     "name": "stdout",
     "output_type": "stream",
     "text": [
      "Saved\n",
      "Saved\n",
      "Saved\n",
      "Saved\n",
      "Saved\n",
      "Saved\n",
      "Saved\n"
     ]
    },
    {
     "name": "stderr",
     "output_type": "stream",
     "text": [
      "C:\\Users\\Bhavya\\Desktop\\Vaibhav\\Django-projects\\recallie_web\\news\\utils.py:579: SettingWithCopyWarning: \n",
      "A value is trying to be set on a copy of a slice from a DataFrame.\n",
      "Try using .loc[row_indexer,col_indexer] = value instead\n",
      "\n",
      "See the caveats in the documentation: http://pandas.pydata.org/pandas-docs/stable/indexing.html#indexing-view-versus-copy\n",
      "  self.main_df['Subject'] = self.message\n",
      "C:\\Users\\Bhavya\\Anaconda3\\lib\\socket.py:657: ResourceWarning: unclosed <socket.socket fd=3548, family=AddressFamily.AF_INET, type=SocketKind.SOCK_STREAM, proto=0, laddr=('139.19.106.198', 60122), raddr=('151.101.112.239', 443)>\n",
      "  self._sock = None\n"
     ]
    },
    {
     "name": "stdout",
     "output_type": "stream",
     "text": [
      "Saved\n"
     ]
    },
    {
     "name": "stderr",
     "output_type": "stream",
     "text": [
      "C:\\Users\\Bhavya\\Desktop\\Vaibhav\\Django-projects\\recallie_web\\news\\utils.py:579: SettingWithCopyWarning: \n",
      "A value is trying to be set on a copy of a slice from a DataFrame.\n",
      "Try using .loc[row_indexer,col_indexer] = value instead\n",
      "\n",
      "See the caveats in the documentation: http://pandas.pydata.org/pandas-docs/stable/indexing.html#indexing-view-versus-copy\n",
      "  self.main_df['Subject'] = self.message\n"
     ]
    },
    {
     "name": "stdout",
     "output_type": "stream",
     "text": [
      "Saved\n"
     ]
    },
    {
     "name": "stderr",
     "output_type": "stream",
     "text": [
      "C:\\Users\\Bhavya\\Anaconda3\\lib\\socket.py:657: ResourceWarning: unclosed <socket.socket fd=2956, family=AddressFamily.AF_INET, type=SocketKind.SOCK_STREAM, proto=0, laddr=('139.19.106.198', 60125), raddr=('151.101.112.239', 443)>\n",
      "  self._sock = None\n",
      "C:\\Users\\Bhavya\\Anaconda3\\lib\\socket.py:657: ResourceWarning: unclosed <socket.socket fd=3916, family=AddressFamily.AF_INET, type=SocketKind.SOCK_STREAM, proto=0, laddr=('139.19.106.198', 60134), raddr=('151.101.114.62', 443)>\n",
      "  self._sock = None\n"
     ]
    },
    {
     "name": "stdout",
     "output_type": "stream",
     "text": [
      "Saved\n",
      "Saved\n",
      "Saved\n",
      "Saved\n",
      "Saved\n",
      "Saved\n"
     ]
    },
    {
     "name": "stderr",
     "output_type": "stream",
     "text": [
      "C:\\Users\\Bhavya\\Desktop\\Vaibhav\\Django-projects\\recallie_web\\news\\utils.py:579: SettingWithCopyWarning: \n",
      "A value is trying to be set on a copy of a slice from a DataFrame.\n",
      "Try using .loc[row_indexer,col_indexer] = value instead\n",
      "\n",
      "See the caveats in the documentation: http://pandas.pydata.org/pandas-docs/stable/indexing.html#indexing-view-versus-copy\n",
      "  self.main_df['Subject'] = self.message\n"
     ]
    },
    {
     "name": "stdout",
     "output_type": "stream",
     "text": [
      "('Received response with content-encoding: gzip, but failed to decode it.', error('Error -3 while decompressing data: incorrect header check',))\n",
      "Saved\n",
      "Saved\n"
     ]
    },
    {
     "name": "stderr",
     "output_type": "stream",
     "text": [
      "C:\\Users\\Bhavya\\Desktop\\Vaibhav\\Django-projects\\recallie_web\\news\\utils.py:579: SettingWithCopyWarning: \n",
      "A value is trying to be set on a copy of a slice from a DataFrame.\n",
      "Try using .loc[row_indexer,col_indexer] = value instead\n",
      "\n",
      "See the caveats in the documentation: http://pandas.pydata.org/pandas-docs/stable/indexing.html#indexing-view-versus-copy\n",
      "  self.main_df['Subject'] = self.message\n"
     ]
    },
    {
     "name": "stdout",
     "output_type": "stream",
     "text": [
      "Saved\n"
     ]
    },
    {
     "name": "stderr",
     "output_type": "stream",
     "text": [
      "C:\\Users\\Bhavya\\Desktop\\Vaibhav\\Django-projects\\recallie_web\\news\\utils.py:579: SettingWithCopyWarning: \n",
      "A value is trying to be set on a copy of a slice from a DataFrame.\n",
      "Try using .loc[row_indexer,col_indexer] = value instead\n",
      "\n",
      "See the caveats in the documentation: http://pandas.pydata.org/pandas-docs/stable/indexing.html#indexing-view-versus-copy\n",
      "  self.main_df['Subject'] = self.message\n"
     ]
    },
    {
     "name": "stdout",
     "output_type": "stream",
     "text": [
      "Saved\n"
     ]
    },
    {
     "name": "stderr",
     "output_type": "stream",
     "text": [
      "C:\\Users\\Bhavya\\Anaconda3\\lib\\socket.py:657: ResourceWarning: unclosed <socket.socket fd=3780, family=AddressFamily.AF_INET, type=SocketKind.SOCK_STREAM, proto=0, laddr=('139.19.106.198', 60187), raddr=('151.101.112.239', 443)>\n",
      "  self._sock = None\n"
     ]
    },
    {
     "name": "stdout",
     "output_type": "stream",
     "text": [
      "Saved\n"
     ]
    },
    {
     "name": "stderr",
     "output_type": "stream",
     "text": [
      "C:\\Users\\Bhavya\\Anaconda3\\lib\\socket.py:657: ResourceWarning: unclosed <socket.socket fd=3496, family=AddressFamily.AF_INET, type=SocketKind.SOCK_STREAM, proto=0, laddr=('139.19.106.198', 60194), raddr=('151.101.113.67', 443)>\n",
      "  self._sock = None\n"
     ]
    },
    {
     "name": "stdout",
     "output_type": "stream",
     "text": [
      "Saved\n",
      "Saved\n",
      "Saved\n",
      "Saved\n"
     ]
    },
    {
     "name": "stderr",
     "output_type": "stream",
     "text": [
      "C:\\Users\\Bhavya\\Anaconda3\\lib\\socket.py:657: ResourceWarning: unclosed <socket.socket fd=2660, family=AddressFamily.AF_INET, type=SocketKind.SOCK_STREAM, proto=0, laddr=('139.19.106.198', 60209), raddr=('151.101.65.131', 443)>\n",
      "  self._sock = None\n",
      "C:\\Users\\Bhavya\\Anaconda3\\lib\\socket.py:657: ResourceWarning: unclosed <socket.socket fd=2660, family=AddressFamily.AF_INET, type=SocketKind.SOCK_STREAM, proto=0, laddr=('139.19.106.198', 60212), raddr=('151.101.65.131', 443)>\n",
      "  self._sock = None\n"
     ]
    },
    {
     "name": "stdout",
     "output_type": "stream",
     "text": [
      "Saved\n",
      "Saved\n",
      "Saved\n",
      "Saved\n",
      "Saved\n",
      "Saved\n",
      "Saved\n",
      "Saved\n",
      "Saved\n",
      "Saved\n",
      "Saved\n"
     ]
    },
    {
     "name": "stderr",
     "output_type": "stream",
     "text": [
      "C:\\Users\\Bhavya\\Anaconda3\\lib\\socket.py:657: ResourceWarning: unclosed <socket.socket fd=2740, family=AddressFamily.AF_INET, type=SocketKind.SOCK_STREAM, proto=0, laddr=('139.19.106.198', 60267), raddr=('151.101.113.184', 443)>\n",
      "  self._sock = None\n",
      "C:\\Users\\Bhavya\\Desktop\\Vaibhav\\Django-projects\\recallie_web\\news\\utils.py:579: SettingWithCopyWarning: \n",
      "A value is trying to be set on a copy of a slice from a DataFrame.\n",
      "Try using .loc[row_indexer,col_indexer] = value instead\n",
      "\n",
      "See the caveats in the documentation: http://pandas.pydata.org/pandas-docs/stable/indexing.html#indexing-view-versus-copy\n",
      "  self.main_df['Subject'] = self.message\n",
      "C:\\Users\\Bhavya\\Anaconda3\\lib\\socket.py:657: ResourceWarning: unclosed <socket.socket fd=2976, family=AddressFamily.AF_INET, type=SocketKind.SOCK_STREAM, proto=0, laddr=('139.19.106.198', 60260), raddr=('151.101.112.239', 443)>\n",
      "  self._sock = None\n"
     ]
    },
    {
     "name": "stdout",
     "output_type": "stream",
     "text": [
      "Saved\n",
      "Saved\n",
      "Saved\n"
     ]
    },
    {
     "name": "stderr",
     "output_type": "stream",
     "text": [
      "C:\\Users\\Bhavya\\Desktop\\Vaibhav\\Django-projects\\recallie_web\\news\\utils.py:579: SettingWithCopyWarning: \n",
      "A value is trying to be set on a copy of a slice from a DataFrame.\n",
      "Try using .loc[row_indexer,col_indexer] = value instead\n",
      "\n",
      "See the caveats in the documentation: http://pandas.pydata.org/pandas-docs/stable/indexing.html#indexing-view-versus-copy\n",
      "  self.main_df['Subject'] = self.message\n"
     ]
    },
    {
     "name": "stdout",
     "output_type": "stream",
     "text": [
      "Saved\n",
      "Saved\n",
      "Saved\n"
     ]
    },
    {
     "name": "stderr",
     "output_type": "stream",
     "text": [
      "C:\\Users\\Bhavya\\Desktop\\Vaibhav\\Django-projects\\recallie_web\\news\\utils.py:579: SettingWithCopyWarning: \n",
      "A value is trying to be set on a copy of a slice from a DataFrame.\n",
      "Try using .loc[row_indexer,col_indexer] = value instead\n",
      "\n",
      "See the caveats in the documentation: http://pandas.pydata.org/pandas-docs/stable/indexing.html#indexing-view-versus-copy\n",
      "  self.main_df['Subject'] = self.message\n"
     ]
    },
    {
     "name": "stdout",
     "output_type": "stream",
     "text": [
      "Saved\n"
     ]
    },
    {
     "name": "stderr",
     "output_type": "stream",
     "text": [
      "C:\\Users\\Bhavya\\Anaconda3\\lib\\socket.py:657: ResourceWarning: unclosed <socket.socket fd=2456, family=AddressFamily.AF_INET, type=SocketKind.SOCK_STREAM, proto=0, laddr=('139.19.106.198', 60297), raddr=('151.101.65.131', 443)>\n",
      "  self._sock = None\n",
      "C:\\Users\\Bhavya\\Anaconda3\\lib\\socket.py:657: ResourceWarning: unclosed <socket.socket fd=2456, family=AddressFamily.AF_INET, type=SocketKind.SOCK_STREAM, proto=0, laddr=('139.19.106.198', 60300), raddr=('151.101.65.131', 443)>\n",
      "  self._sock = None\n"
     ]
    },
    {
     "name": "stdout",
     "output_type": "stream",
     "text": [
      "Saved\n",
      "Saved\n",
      "Saved\n"
     ]
    },
    {
     "name": "stderr",
     "output_type": "stream",
     "text": [
      "C:\\Users\\Bhavya\\Desktop\\Vaibhav\\Django-projects\\recallie_web\\news\\utils.py:579: SettingWithCopyWarning: \n",
      "A value is trying to be set on a copy of a slice from a DataFrame.\n",
      "Try using .loc[row_indexer,col_indexer] = value instead\n",
      "\n",
      "See the caveats in the documentation: http://pandas.pydata.org/pandas-docs/stable/indexing.html#indexing-view-versus-copy\n",
      "  self.main_df['Subject'] = self.message\n"
     ]
    },
    {
     "name": "stdout",
     "output_type": "stream",
     "text": [
      "Saved\n",
      "Saved\n",
      "Saved\n"
     ]
    },
    {
     "name": "stderr",
     "output_type": "stream",
     "text": [
      "C:\\Users\\Bhavya\\Anaconda3\\lib\\socket.py:657: ResourceWarning: unclosed <socket.socket fd=2140, family=AddressFamily.AF_INET, type=SocketKind.SOCK_STREAM, proto=0, laddr=('139.19.106.198', 60317), raddr=('151.101.112.239', 443)>\n",
      "  self._sock = None\n",
      "C:\\Users\\Bhavya\\Anaconda3\\lib\\socket.py:657: ResourceWarning: unclosed <socket.socket fd=2332, family=AddressFamily.AF_INET, type=SocketKind.SOCK_STREAM, proto=0, laddr=('139.19.106.198', 60325), raddr=('151.101.113.67', 443)>\n",
      "  self._sock = None\n"
     ]
    },
    {
     "name": "stdout",
     "output_type": "stream",
     "text": [
      "Saved\n",
      "Saved\n",
      "Saved\n",
      "Saved\n"
     ]
    },
    {
     "name": "stderr",
     "output_type": "stream",
     "text": [
      "C:\\Users\\Bhavya\\Desktop\\Vaibhav\\Django-projects\\recallie_web\\news\\utils.py:579: SettingWithCopyWarning: \n",
      "A value is trying to be set on a copy of a slice from a DataFrame.\n",
      "Try using .loc[row_indexer,col_indexer] = value instead\n",
      "\n",
      "See the caveats in the documentation: http://pandas.pydata.org/pandas-docs/stable/indexing.html#indexing-view-versus-copy\n",
      "  self.main_df['Subject'] = self.message\n"
     ]
    },
    {
     "name": "stdout",
     "output_type": "stream",
     "text": [
      "Saved\n",
      "Saved\n"
     ]
    },
    {
     "name": "stderr",
     "output_type": "stream",
     "text": [
      "C:\\Users\\Bhavya\\Desktop\\Vaibhav\\Django-projects\\recallie_web\\news\\utils.py:579: SettingWithCopyWarning: \n",
      "A value is trying to be set on a copy of a slice from a DataFrame.\n",
      "Try using .loc[row_indexer,col_indexer] = value instead\n",
      "\n",
      "See the caveats in the documentation: http://pandas.pydata.org/pandas-docs/stable/indexing.html#indexing-view-versus-copy\n",
      "  self.main_df['Subject'] = self.message\n"
     ]
    },
    {
     "name": "stdout",
     "output_type": "stream",
     "text": [
      "Saved\n"
     ]
    },
    {
     "name": "stderr",
     "output_type": "stream",
     "text": [
      "C:\\Users\\Bhavya\\Desktop\\Vaibhav\\Django-projects\\recallie_web\\news\\utils.py:579: SettingWithCopyWarning: \n",
      "A value is trying to be set on a copy of a slice from a DataFrame.\n",
      "Try using .loc[row_indexer,col_indexer] = value instead\n",
      "\n",
      "See the caveats in the documentation: http://pandas.pydata.org/pandas-docs/stable/indexing.html#indexing-view-versus-copy\n",
      "  self.main_df['Subject'] = self.message\n"
     ]
    },
    {
     "name": "stdout",
     "output_type": "stream",
     "text": [
      "Saved\n"
     ]
    },
    {
     "name": "stderr",
     "output_type": "stream",
     "text": [
      "C:\\Users\\Bhavya\\Anaconda3\\lib\\socket.py:657: ResourceWarning: unclosed <socket.socket fd=2668, family=AddressFamily.AF_INET, type=SocketKind.SOCK_STREAM, proto=0, laddr=('139.19.106.198', 60364), raddr=('151.101.65.131', 443)>\n",
      "  self._sock = None\n",
      "C:\\Users\\Bhavya\\Anaconda3\\lib\\socket.py:657: ResourceWarning: unclosed <socket.socket fd=3436, family=AddressFamily.AF_INET, type=SocketKind.SOCK_STREAM, proto=0, laddr=('139.19.106.198', 60367), raddr=('151.101.65.131', 443)>\n",
      "  self._sock = None\n"
     ]
    },
    {
     "name": "stdout",
     "output_type": "stream",
     "text": [
      "Saved\n"
     ]
    },
    {
     "name": "stderr",
     "output_type": "stream",
     "text": [
      "C:\\Users\\Bhavya\\Anaconda3\\lib\\site-packages\\pandas\\core\\ops.py:1649: FutureWarning: elementwise comparison failed; returning scalar instead, but in the future will perform elementwise comparison\n",
      "  result = method(y)\n",
      "C:\\Users\\Bhavya\\Anaconda3\\lib\\socket.py:657: ResourceWarning: unclosed <socket.socket fd=2536, family=AddressFamily.AF_INET, type=SocketKind.SOCK_STREAM, proto=0, laddr=('139.19.106.198', 60374), raddr=('23.67.143.112', 443)>\n",
      "  self._sock = None\n"
     ]
    },
    {
     "name": "stdout",
     "output_type": "stream",
     "text": [
      "Saved\n",
      "Saved\n"
     ]
    },
    {
     "name": "stderr",
     "output_type": "stream",
     "text": [
      "C:\\Users\\Bhavya\\Desktop\\Vaibhav\\Django-projects\\recallie_web\\news\\utils.py:579: SettingWithCopyWarning: \n",
      "A value is trying to be set on a copy of a slice from a DataFrame.\n",
      "Try using .loc[row_indexer,col_indexer] = value instead\n",
      "\n",
      "See the caveats in the documentation: http://pandas.pydata.org/pandas-docs/stable/indexing.html#indexing-view-versus-copy\n",
      "  self.main_df['Subject'] = self.message\n"
     ]
    },
    {
     "name": "stdout",
     "output_type": "stream",
     "text": [
      "Saved\n",
      "Saved\n",
      "Saved\n"
     ]
    },
    {
     "name": "stderr",
     "output_type": "stream",
     "text": [
      "C:\\Users\\Bhavya\\Anaconda3\\lib\\socket.py:657: ResourceWarning: unclosed <socket.socket fd=3848, family=AddressFamily.AF_INET, type=SocketKind.SOCK_STREAM, proto=0, laddr=('139.19.106.198', 60398), raddr=('151.101.114.62', 443)>\n",
      "  self._sock = None\n",
      "C:\\Users\\Bhavya\\Desktop\\Vaibhav\\Django-projects\\recallie_web\\news\\utils.py:579: SettingWithCopyWarning: \n",
      "A value is trying to be set on a copy of a slice from a DataFrame.\n",
      "Try using .loc[row_indexer,col_indexer] = value instead\n",
      "\n",
      "See the caveats in the documentation: http://pandas.pydata.org/pandas-docs/stable/indexing.html#indexing-view-versus-copy\n",
      "  self.main_df['Subject'] = self.message\n"
     ]
    },
    {
     "name": "stdout",
     "output_type": "stream",
     "text": [
      "Saved\n"
     ]
    },
    {
     "name": "stderr",
     "output_type": "stream",
     "text": [
      "C:\\Users\\Bhavya\\Anaconda3\\lib\\socket.py:657: ResourceWarning: unclosed <socket.socket fd=4040, family=AddressFamily.AF_INET, type=SocketKind.SOCK_STREAM, proto=0, laddr=('139.19.106.198', 60405), raddr=('23.67.143.112', 443)>\n",
      "  self._sock = None\n"
     ]
    },
    {
     "name": "stdout",
     "output_type": "stream",
     "text": [
      "Saved\n"
     ]
    },
    {
     "name": "stderr",
     "output_type": "stream",
     "text": [
      "C:\\Users\\Bhavya\\Desktop\\Vaibhav\\Django-projects\\recallie_web\\news\\utils.py:579: SettingWithCopyWarning: \n",
      "A value is trying to be set on a copy of a slice from a DataFrame.\n",
      "Try using .loc[row_indexer,col_indexer] = value instead\n",
      "\n",
      "See the caveats in the documentation: http://pandas.pydata.org/pandas-docs/stable/indexing.html#indexing-view-versus-copy\n",
      "  self.main_df['Subject'] = self.message\n",
      "C:\\Users\\Bhavya\\Anaconda3\\lib\\socket.py:657: ResourceWarning: unclosed <socket.socket fd=3920, family=AddressFamily.AF_INET, type=SocketKind.SOCK_STREAM, proto=0, laddr=('139.19.106.198', 60412), raddr=('23.67.143.112', 443)>\n",
      "  self._sock = None\n"
     ]
    },
    {
     "name": "stdout",
     "output_type": "stream",
     "text": [
      "Saved\n",
      "Saved\n"
     ]
    },
    {
     "name": "stderr",
     "output_type": "stream",
     "text": [
      "C:\\Users\\Bhavya\\Anaconda3\\lib\\socket.py:657: ResourceWarning: unclosed <socket.socket fd=3168, family=AddressFamily.AF_INET, type=SocketKind.SOCK_STREAM, proto=0, laddr=('139.19.106.198', 60430), raddr=('151.101.112.239', 443)>\n",
      "  self._sock = None\n"
     ]
    },
    {
     "name": "stdout",
     "output_type": "stream",
     "text": [
      "Saved\n",
      "Saved\n",
      "Saved\n"
     ]
    },
    {
     "name": "stderr",
     "output_type": "stream",
     "text": [
      "C:\\Users\\Bhavya\\Anaconda3\\lib\\site-packages\\pandas\\core\\ops.py:1649: FutureWarning: elementwise comparison failed; returning scalar instead, but in the future will perform elementwise comparison\n",
      "  result = method(y)\n"
     ]
    },
    {
     "name": "stdout",
     "output_type": "stream",
     "text": [
      "Saved\n"
     ]
    },
    {
     "name": "stderr",
     "output_type": "stream",
     "text": [
      "C:\\Users\\Bhavya\\Desktop\\Vaibhav\\Django-projects\\recallie_web\\news\\utils.py:579: SettingWithCopyWarning: \n",
      "A value is trying to be set on a copy of a slice from a DataFrame.\n",
      "Try using .loc[row_indexer,col_indexer] = value instead\n",
      "\n",
      "See the caveats in the documentation: http://pandas.pydata.org/pandas-docs/stable/indexing.html#indexing-view-versus-copy\n",
      "  self.main_df['Subject'] = self.message\n"
     ]
    },
    {
     "name": "stdout",
     "output_type": "stream",
     "text": [
      "Saved\n",
      "Saved\n",
      "Saved\n",
      "300\n",
      "Saved\n",
      "Saved\n",
      "Saved\n",
      "Saved\n",
      "Saved\n",
      "Saved\n",
      "Saved\n",
      "Saved\n",
      "Saved\n",
      "Saved\n",
      "Saved\n",
      "Saved\n",
      "Saved\n",
      "Saved\n",
      "Saved\n",
      "Saved\n",
      "Saved\n",
      "Saved\n",
      "Saved\n",
      "Saved\n",
      "Saved\n",
      "Saved\n",
      "Saved\n",
      "Saved\n",
      "Saved\n",
      "Saved\n",
      "Saved\n",
      "Saved\n",
      "Saved\n",
      "Saved\n",
      "Saved\n",
      "Saved\n",
      "Saved\n",
      "Saved\n",
      "Saved\n",
      "Saved\n",
      "Saved\n",
      "Saved\n",
      "Saved\n",
      "Saved\n",
      "Saved\n",
      "Saved\n",
      "Saved\n",
      "Saved\n",
      "Saved\n",
      "Saved\n",
      "Saved\n",
      "Saved\n",
      "Saved\n",
      "Saved\n",
      "Saved\n",
      "Saved\n",
      "Saved\n",
      "Saved\n",
      "Saved\n",
      "Saved\n",
      "Saved\n",
      "Saved\n",
      "Saved\n",
      "Saved\n",
      "Saved\n",
      "Saved\n",
      "Saved\n",
      "Saved\n",
      "Saved\n",
      "Saved\n",
      "Saved\n",
      "Saved\n",
      "Saved\n",
      "Saved\n",
      "Saved\n",
      "Saved\n",
      "Saved\n",
      "Saved\n",
      "Saved\n",
      "Saved\n",
      "Saved\n",
      "Saved\n",
      "Saved\n",
      "Saved\n",
      "Saved\n",
      "Saved\n",
      "Saved\n",
      "Saved\n",
      "Saved\n",
      "Saved\n",
      "Saved\n",
      "Saved\n",
      "Saved\n",
      "Saved\n",
      "Saved\n",
      "Saved\n",
      "Saved\n",
      "Saved\n",
      "Saved\n",
      "Saved\n",
      "Saved\n",
      "Saved\n",
      "Saved\n",
      "Saved\n",
      "Saved\n",
      "Saved\n"
     ]
    },
    {
     "name": "stderr",
     "output_type": "stream",
     "text": [
      "C:\\Users\\Bhavya\\Desktop\\Vaibhav\\Django-projects\\recallie_web\\news\\utils.py:579: SettingWithCopyWarning: \n",
      "A value is trying to be set on a copy of a slice from a DataFrame.\n",
      "Try using .loc[row_indexer,col_indexer] = value instead\n",
      "\n",
      "See the caveats in the documentation: http://pandas.pydata.org/pandas-docs/stable/indexing.html#indexing-view-versus-copy\n",
      "  self.main_df['Subject'] = self.message\n"
     ]
    },
    {
     "name": "stdout",
     "output_type": "stream",
     "text": [
      "Saved\n"
     ]
    },
    {
     "name": "stderr",
     "output_type": "stream",
     "text": [
      "C:\\Users\\Bhavya\\Desktop\\Vaibhav\\Django-projects\\recallie_web\\news\\utils.py:579: SettingWithCopyWarning: \n",
      "A value is trying to be set on a copy of a slice from a DataFrame.\n",
      "Try using .loc[row_indexer,col_indexer] = value instead\n",
      "\n",
      "See the caveats in the documentation: http://pandas.pydata.org/pandas-docs/stable/indexing.html#indexing-view-versus-copy\n",
      "  self.main_df['Subject'] = self.message\n"
     ]
    },
    {
     "name": "stdout",
     "output_type": "stream",
     "text": [
      "Saved\n"
     ]
    },
    {
     "name": "stderr",
     "output_type": "stream",
     "text": [
      "C:\\Users\\Bhavya\\Desktop\\Vaibhav\\Django-projects\\recallie_web\\news\\utils.py:579: SettingWithCopyWarning: \n",
      "A value is trying to be set on a copy of a slice from a DataFrame.\n",
      "Try using .loc[row_indexer,col_indexer] = value instead\n",
      "\n",
      "See the caveats in the documentation: http://pandas.pydata.org/pandas-docs/stable/indexing.html#indexing-view-versus-copy\n",
      "  self.main_df['Subject'] = self.message\n"
     ]
    },
    {
     "name": "stdout",
     "output_type": "stream",
     "text": [
      "Saved\n",
      "Saved\n"
     ]
    },
    {
     "name": "stderr",
     "output_type": "stream",
     "text": [
      "C:\\Users\\Bhavya\\Desktop\\Vaibhav\\Django-projects\\recallie_web\\news\\utils.py:579: SettingWithCopyWarning: \n",
      "A value is trying to be set on a copy of a slice from a DataFrame.\n",
      "Try using .loc[row_indexer,col_indexer] = value instead\n",
      "\n",
      "See the caveats in the documentation: http://pandas.pydata.org/pandas-docs/stable/indexing.html#indexing-view-versus-copy\n",
      "  self.main_df['Subject'] = self.message\n"
     ]
    },
    {
     "name": "stdout",
     "output_type": "stream",
     "text": [
      "Saved\n",
      "Saved\n",
      "Saved\n",
      "Saved\n",
      "Saved\n"
     ]
    },
    {
     "name": "stderr",
     "output_type": "stream",
     "text": [
      "C:\\Users\\Bhavya\\Desktop\\Vaibhav\\Django-projects\\recallie_web\\news\\utils.py:579: SettingWithCopyWarning: \n",
      "A value is trying to be set on a copy of a slice from a DataFrame.\n",
      "Try using .loc[row_indexer,col_indexer] = value instead\n",
      "\n",
      "See the caveats in the documentation: http://pandas.pydata.org/pandas-docs/stable/indexing.html#indexing-view-versus-copy\n",
      "  self.main_df['Subject'] = self.message\n",
      "C:\\Users\\Bhavya\\Anaconda3\\lib\\socket.py:657: ResourceWarning: unclosed <socket.socket fd=2604, family=AddressFamily.AF_INET, type=SocketKind.SOCK_STREAM, proto=0, laddr=('139.19.106.198', 60513), raddr=('151.101.113.67', 443)>\n",
      "  self._sock = None\n"
     ]
    },
    {
     "name": "stdout",
     "output_type": "stream",
     "text": [
      "Saved\n"
     ]
    },
    {
     "name": "stderr",
     "output_type": "stream",
     "text": [
      "C:\\Users\\Bhavya\\Anaconda3\\lib\\socket.py:657: ResourceWarning: unclosed <socket.socket fd=4032, family=AddressFamily.AF_INET, type=SocketKind.SOCK_STREAM, proto=0, laddr=('139.19.106.198', 60522), raddr=('151.101.113.67', 443)>\n",
      "  self._sock = None\n"
     ]
    },
    {
     "name": "stdout",
     "output_type": "stream",
     "text": [
      "Saved\n",
      "Saved\n",
      "Saved\n",
      "Saved\n"
     ]
    },
    {
     "name": "stderr",
     "output_type": "stream",
     "text": [
      "C:\\Users\\Bhavya\\Anaconda3\\lib\\socket.py:657: ResourceWarning: unclosed <socket.socket fd=4060, family=AddressFamily.AF_INET, type=SocketKind.SOCK_STREAM, proto=0, laddr=('139.19.106.198', 60535), raddr=('151.101.113.67', 443)>\n",
      "  self._sock = None\n"
     ]
    },
    {
     "name": "stdout",
     "output_type": "stream",
     "text": [
      "Saved\n",
      "Saved\n"
     ]
    },
    {
     "name": "stderr",
     "output_type": "stream",
     "text": [
      "C:\\Users\\Bhavya\\Anaconda3\\lib\\socket.py:657: ResourceWarning: unclosed <socket.socket fd=3376, family=AddressFamily.AF_INET, type=SocketKind.SOCK_STREAM, proto=0, laddr=('139.19.106.198', 60558), raddr=('151.101.112.239', 443)>\n",
      "  self._sock = None\n"
     ]
    },
    {
     "name": "stdout",
     "output_type": "stream",
     "text": [
      "Saved\n"
     ]
    },
    {
     "name": "stderr",
     "output_type": "stream",
     "text": [
      "C:\\Users\\Bhavya\\Anaconda3\\lib\\socket.py:657: ResourceWarning: unclosed <socket.socket fd=2388, family=AddressFamily.AF_INET, type=SocketKind.SOCK_STREAM, proto=0, laddr=('139.19.106.198', 60562), raddr=('151.101.112.239', 443)>\n",
      "  self._sock = None\n"
     ]
    },
    {
     "name": "stdout",
     "output_type": "stream",
     "text": [
      "Saved\n"
     ]
    },
    {
     "name": "stderr",
     "output_type": "stream",
     "text": [
      "C:\\Users\\Bhavya\\Desktop\\Vaibhav\\Django-projects\\recallie_web\\news\\utils.py:579: SettingWithCopyWarning: \n",
      "A value is trying to be set on a copy of a slice from a DataFrame.\n",
      "Try using .loc[row_indexer,col_indexer] = value instead\n",
      "\n",
      "See the caveats in the documentation: http://pandas.pydata.org/pandas-docs/stable/indexing.html#indexing-view-versus-copy\n",
      "  self.main_df['Subject'] = self.message\n",
      "C:\\Users\\Bhavya\\Desktop\\Vaibhav\\Django-projects\\recallie_web\\news\\utils.py:579: SettingWithCopyWarning: \n",
      "A value is trying to be set on a copy of a slice from a DataFrame.\n",
      "Try using .loc[row_indexer,col_indexer] = value instead\n",
      "\n",
      "See the caveats in the documentation: http://pandas.pydata.org/pandas-docs/stable/indexing.html#indexing-view-versus-copy\n",
      "  self.main_df['Subject'] = self.message\n"
     ]
    },
    {
     "name": "stdout",
     "output_type": "stream",
     "text": [
      "Saved\n",
      "Saved\n",
      "Saved\n"
     ]
    },
    {
     "name": "stderr",
     "output_type": "stream",
     "text": [
      "C:\\Users\\Bhavya\\Desktop\\Vaibhav\\Django-projects\\recallie_web\\news\\utils.py:579: SettingWithCopyWarning: \n",
      "A value is trying to be set on a copy of a slice from a DataFrame.\n",
      "Try using .loc[row_indexer,col_indexer] = value instead\n",
      "\n",
      "See the caveats in the documentation: http://pandas.pydata.org/pandas-docs/stable/indexing.html#indexing-view-versus-copy\n",
      "  self.main_df['Subject'] = self.message\n"
     ]
    },
    {
     "name": "stdout",
     "output_type": "stream",
     "text": [
      "Saved\n",
      "Saved\n",
      "Saved\n",
      "Saved\n",
      "Saved\n",
      "Saved\n",
      "Creating a new Dictionary\n",
      "Saved\n",
      "Saved\n",
      "Creating a new Dictionary\n",
      "Saved\n"
     ]
    },
    {
     "name": "stderr",
     "output_type": "stream",
     "text": [
      "C:\\Users\\Bhavya\\Anaconda3\\lib\\socket.py:657: ResourceWarning: unclosed <socket.socket fd=2796, family=AddressFamily.AF_INET, type=SocketKind.SOCK_STREAM, proto=0, laddr=('139.19.106.198', 60625), raddr=('151.101.112.239', 443)>\n",
      "  self._sock = None\n"
     ]
    },
    {
     "name": "stdout",
     "output_type": "stream",
     "text": [
      "Saved\n",
      "Exceeded 30 redirects.\n",
      "Saved\n"
     ]
    },
    {
     "name": "stderr",
     "output_type": "stream",
     "text": [
      "C:\\Users\\Bhavya\\Anaconda3\\lib\\socket.py:657: ResourceWarning: unclosed <socket.socket fd=3864, family=AddressFamily.AF_INET, type=SocketKind.SOCK_STREAM, proto=0, laddr=('139.19.106.198', 60636), raddr=('151.101.112.239', 443)>\n",
      "  self._sock = None\n"
     ]
    },
    {
     "name": "stdout",
     "output_type": "stream",
     "text": [
      "Saved\n"
     ]
    },
    {
     "name": "stderr",
     "output_type": "stream",
     "text": [
      "C:\\Users\\Bhavya\\Anaconda3\\lib\\socket.py:657: ResourceWarning: unclosed <socket.socket fd=2640, family=AddressFamily.AF_INET, type=SocketKind.SOCK_STREAM, proto=0, laddr=('139.19.106.198', 60667), raddr=('151.101.113.67', 443)>\n",
      "  self._sock = None\n",
      "C:\\Users\\Bhavya\\Desktop\\Vaibhav\\Django-projects\\recallie_web\\news\\utils.py:579: SettingWithCopyWarning: \n",
      "A value is trying to be set on a copy of a slice from a DataFrame.\n",
      "Try using .loc[row_indexer,col_indexer] = value instead\n",
      "\n",
      "See the caveats in the documentation: http://pandas.pydata.org/pandas-docs/stable/indexing.html#indexing-view-versus-copy\n",
      "  self.main_df['Subject'] = self.message\n"
     ]
    },
    {
     "name": "stdout",
     "output_type": "stream",
     "text": [
      "Saved\n",
      "Saved\n"
     ]
    },
    {
     "name": "stderr",
     "output_type": "stream",
     "text": [
      "C:\\Users\\Bhavya\\Desktop\\Vaibhav\\Django-projects\\recallie_web\\news\\utils.py:579: SettingWithCopyWarning: \n",
      "A value is trying to be set on a copy of a slice from a DataFrame.\n",
      "Try using .loc[row_indexer,col_indexer] = value instead\n",
      "\n",
      "See the caveats in the documentation: http://pandas.pydata.org/pandas-docs/stable/indexing.html#indexing-view-versus-copy\n",
      "  self.main_df['Subject'] = self.message\n"
     ]
    },
    {
     "name": "stdout",
     "output_type": "stream",
     "text": [
      "Saved\n",
      "Saved\n",
      "Saved\n",
      "Saved\n",
      "Saved\n"
     ]
    },
    {
     "name": "stderr",
     "output_type": "stream",
     "text": [
      "C:\\Users\\Bhavya\\Desktop\\Vaibhav\\Django-projects\\recallie_web\\news\\utils.py:579: SettingWithCopyWarning: \n",
      "A value is trying to be set on a copy of a slice from a DataFrame.\n",
      "Try using .loc[row_indexer,col_indexer] = value instead\n",
      "\n",
      "See the caveats in the documentation: http://pandas.pydata.org/pandas-docs/stable/indexing.html#indexing-view-versus-copy\n",
      "  self.main_df['Subject'] = self.message\n",
      "C:\\Users\\Bhavya\\Anaconda3\\lib\\socket.py:657: ResourceWarning: unclosed <socket.socket fd=3864, family=AddressFamily.AF_INET, type=SocketKind.SOCK_STREAM, proto=0, laddr=('139.19.106.198', 60693), raddr=('23.67.143.112', 443)>\n",
      "  self._sock = None\n"
     ]
    },
    {
     "name": "stdout",
     "output_type": "stream",
     "text": [
      "Saved\n",
      "Creating a new DictionarySaved\n",
      "\n"
     ]
    },
    {
     "name": "stderr",
     "output_type": "stream",
     "text": [
      "C:\\Users\\Bhavya\\Anaconda3\\lib\\site-packages\\pandas\\core\\ops.py:1649: FutureWarning: elementwise comparison failed; returning scalar instead, but in the future will perform elementwise comparison\n",
      "  result = method(y)\n"
     ]
    },
    {
     "name": "stdout",
     "output_type": "stream",
     "text": [
      "Saved\n"
     ]
    },
    {
     "name": "stderr",
     "output_type": "stream",
     "text": [
      "C:\\Users\\Bhavya\\Anaconda3\\lib\\socket.py:657: ResourceWarning: unclosed <socket.socket fd=2652, family=AddressFamily.AF_INET, type=SocketKind.SOCK_STREAM, proto=0, laddr=('139.19.106.198', 60705), raddr=('151.101.113.164', 443)>\n",
      "  self._sock = None\n"
     ]
    },
    {
     "name": "stdout",
     "output_type": "stream",
     "text": [
      "Saved\n"
     ]
    },
    {
     "name": "stderr",
     "output_type": "stream",
     "text": [
      "C:\\Users\\Bhavya\\Desktop\\Vaibhav\\Django-projects\\recallie_web\\news\\utils.py:579: SettingWithCopyWarning: \n",
      "A value is trying to be set on a copy of a slice from a DataFrame.\n",
      "Try using .loc[row_indexer,col_indexer] = value instead\n",
      "\n",
      "See the caveats in the documentation: http://pandas.pydata.org/pandas-docs/stable/indexing.html#indexing-view-versus-copy\n",
      "  self.main_df['Subject'] = self.message\n"
     ]
    },
    {
     "name": "stdout",
     "output_type": "stream",
     "text": [
      "Saved\n",
      "Saved\n",
      "Saved\n",
      "Saved\n"
     ]
    },
    {
     "name": "stderr",
     "output_type": "stream",
     "text": [
      "C:\\Users\\Bhavya\\Desktop\\Vaibhav\\Django-projects\\recallie_web\\news\\utils.py:579: SettingWithCopyWarning: \n",
      "A value is trying to be set on a copy of a slice from a DataFrame.\n",
      "Try using .loc[row_indexer,col_indexer] = value instead\n",
      "\n",
      "See the caveats in the documentation: http://pandas.pydata.org/pandas-docs/stable/indexing.html#indexing-view-versus-copy\n",
      "  self.main_df['Subject'] = self.message\n"
     ]
    },
    {
     "name": "stdout",
     "output_type": "stream",
     "text": [
      "Saved\n",
      "Saved\n",
      "Saved\n"
     ]
    },
    {
     "name": "stderr",
     "output_type": "stream",
     "text": [
      "C:\\Users\\Bhavya\\Anaconda3\\lib\\socket.py:657: ResourceWarning: unclosed <socket.socket fd=3572, family=AddressFamily.AF_INET, type=SocketKind.SOCK_STREAM, proto=0, laddr=('139.19.106.198', 60739), raddr=('151.101.112.239', 443)>\n",
      "  self._sock = None\n"
     ]
    },
    {
     "name": "stdout",
     "output_type": "stream",
     "text": [
      "Saved\n",
      "Saved\n"
     ]
    },
    {
     "name": "stderr",
     "output_type": "stream",
     "text": [
      "C:\\Users\\Bhavya\\Desktop\\Vaibhav\\Django-projects\\recallie_web\\news\\utils.py:579: SettingWithCopyWarning: \n",
      "A value is trying to be set on a copy of a slice from a DataFrame.\n",
      "Try using .loc[row_indexer,col_indexer] = value instead\n",
      "\n",
      "See the caveats in the documentation: http://pandas.pydata.org/pandas-docs/stable/indexing.html#indexing-view-versus-copy\n",
      "  self.main_df['Subject'] = self.message\n"
     ]
    },
    {
     "name": "stdout",
     "output_type": "stream",
     "text": [
      "Saved\n"
     ]
    },
    {
     "name": "stderr",
     "output_type": "stream",
     "text": [
      "C:\\Users\\Bhavya\\Desktop\\Vaibhav\\Django-projects\\recallie_web\\news\\utils.py:579: SettingWithCopyWarning: \n",
      "A value is trying to be set on a copy of a slice from a DataFrame.\n",
      "Try using .loc[row_indexer,col_indexer] = value instead\n",
      "\n",
      "See the caveats in the documentation: http://pandas.pydata.org/pandas-docs/stable/indexing.html#indexing-view-versus-copy\n",
      "  self.main_df['Subject'] = self.message\n"
     ]
    },
    {
     "name": "stdout",
     "output_type": "stream",
     "text": [
      "Saved\n"
     ]
    },
    {
     "name": "stderr",
     "output_type": "stream",
     "text": [
      "C:\\Users\\Bhavya\\Desktop\\Vaibhav\\Django-projects\\recallie_web\\news\\utils.py:579: SettingWithCopyWarning: \n",
      "A value is trying to be set on a copy of a slice from a DataFrame.\n",
      "Try using .loc[row_indexer,col_indexer] = value instead\n",
      "\n",
      "See the caveats in the documentation: http://pandas.pydata.org/pandas-docs/stable/indexing.html#indexing-view-versus-copy\n",
      "  self.main_df['Subject'] = self.message\n"
     ]
    },
    {
     "name": "stdout",
     "output_type": "stream",
     "text": [
      "Saved\n",
      "Saved\n"
     ]
    },
    {
     "name": "stderr",
     "output_type": "stream",
     "text": [
      "C:\\Users\\Bhavya\\Desktop\\Vaibhav\\Django-projects\\recallie_web\\news\\utils.py:579: SettingWithCopyWarning: \n",
      "A value is trying to be set on a copy of a slice from a DataFrame.\n",
      "Try using .loc[row_indexer,col_indexer] = value instead\n",
      "\n",
      "See the caveats in the documentation: http://pandas.pydata.org/pandas-docs/stable/indexing.html#indexing-view-versus-copy\n",
      "  self.main_df['Subject'] = self.message\n"
     ]
    },
    {
     "name": "stdout",
     "output_type": "stream",
     "text": [
      "Saved\n",
      "Saved\n"
     ]
    },
    {
     "name": "stderr",
     "output_type": "stream",
     "text": [
      "C:\\Users\\Bhavya\\Desktop\\Vaibhav\\Django-projects\\recallie_web\\news\\utils.py:579: SettingWithCopyWarning: \n",
      "A value is trying to be set on a copy of a slice from a DataFrame.\n",
      "Try using .loc[row_indexer,col_indexer] = value instead\n",
      "\n",
      "See the caveats in the documentation: http://pandas.pydata.org/pandas-docs/stable/indexing.html#indexing-view-versus-copy\n",
      "  self.main_df['Subject'] = self.message\n"
     ]
    },
    {
     "name": "stdout",
     "output_type": "stream",
     "text": [
      "Saved\n",
      "Saved\n",
      "Saved\n",
      "Saved\n",
      "Saved\n"
     ]
    },
    {
     "name": "stderr",
     "output_type": "stream",
     "text": [
      "C:\\Users\\Bhavya\\Desktop\\Vaibhav\\Django-projects\\recallie_web\\news\\utils.py:579: SettingWithCopyWarning: \n",
      "A value is trying to be set on a copy of a slice from a DataFrame.\n",
      "Try using .loc[row_indexer,col_indexer] = value instead\n",
      "\n",
      "See the caveats in the documentation: http://pandas.pydata.org/pandas-docs/stable/indexing.html#indexing-view-versus-copy\n",
      "  self.main_df['Subject'] = self.message\n"
     ]
    },
    {
     "name": "stdout",
     "output_type": "stream",
     "text": [
      "Saved\n"
     ]
    },
    {
     "name": "stderr",
     "output_type": "stream",
     "text": [
      "C:\\Users\\Bhavya\\Anaconda3\\lib\\socket.py:657: ResourceWarning: unclosed <socket.socket fd=3568, family=AddressFamily.AF_INET, type=SocketKind.SOCK_STREAM, proto=0, laddr=('139.19.106.198', 60843), raddr=('151.101.112.239', 443)>\n",
      "  self._sock = None\n"
     ]
    },
    {
     "name": "stdout",
     "output_type": "stream",
     "text": [
      "Saved\n",
      "Saved\n"
     ]
    },
    {
     "name": "stderr",
     "output_type": "stream",
     "text": [
      "C:\\Users\\Bhavya\\Desktop\\Vaibhav\\Django-projects\\recallie_web\\news\\utils.py:579: SettingWithCopyWarning: \n",
      "A value is trying to be set on a copy of a slice from a DataFrame.\n",
      "Try using .loc[row_indexer,col_indexer] = value instead\n",
      "\n",
      "See the caveats in the documentation: http://pandas.pydata.org/pandas-docs/stable/indexing.html#indexing-view-versus-copy\n",
      "  self.main_df['Subject'] = self.message\n"
     ]
    },
    {
     "name": "stdout",
     "output_type": "stream",
     "text": [
      "Saved\n",
      "Saved\n",
      "Saved\n",
      "Saved\n",
      "Saved\n",
      "Saved\n",
      "Saved\n",
      "Saved\n",
      "Saved\n",
      "Saved\n",
      "Saved\n",
      "Saved\n"
     ]
    },
    {
     "name": "stderr",
     "output_type": "stream",
     "text": [
      "C:\\Users\\Bhavya\\Desktop\\Vaibhav\\Django-projects\\recallie_web\\news\\utils.py:579: SettingWithCopyWarning: \n",
      "A value is trying to be set on a copy of a slice from a DataFrame.\n",
      "Try using .loc[row_indexer,col_indexer] = value instead\n",
      "\n",
      "See the caveats in the documentation: http://pandas.pydata.org/pandas-docs/stable/indexing.html#indexing-view-versus-copy\n",
      "  self.main_df['Subject'] = self.message\n"
     ]
    },
    {
     "name": "stdout",
     "output_type": "stream",
     "text": [
      "Saved\n",
      "Saved\n"
     ]
    },
    {
     "name": "stderr",
     "output_type": "stream",
     "text": [
      "C:\\Users\\Bhavya\\Anaconda3\\lib\\socket.py:657: ResourceWarning: unclosed <socket.socket fd=4052, family=AddressFamily.AF_INET, type=SocketKind.SOCK_STREAM, proto=0, laddr=('139.19.106.198', 60915), raddr=('151.101.112.239', 443)>\n",
      "  self._sock = None\n"
     ]
    },
    {
     "name": "stdout",
     "output_type": "stream",
     "text": [
      "Saved\n"
     ]
    },
    {
     "name": "stderr",
     "output_type": "stream",
     "text": [
      "C:\\Users\\Bhavya\\Desktop\\Vaibhav\\Django-projects\\recallie_web\\news\\utils.py:579: SettingWithCopyWarning: \n",
      "A value is trying to be set on a copy of a slice from a DataFrame.\n",
      "Try using .loc[row_indexer,col_indexer] = value instead\n",
      "\n",
      "See the caveats in the documentation: http://pandas.pydata.org/pandas-docs/stable/indexing.html#indexing-view-versus-copy\n",
      "  self.main_df['Subject'] = self.message\n"
     ]
    },
    {
     "name": "stdout",
     "output_type": "stream",
     "text": [
      "Saved\n",
      "('Connection aborted.', OSError(\"(10060, 'WSAETIMEDOUT')\",))\n",
      "Saved\n",
      "Saved\n",
      "Saved\n",
      "Saved\n",
      "Saved\n"
     ]
    },
    {
     "name": "stderr",
     "output_type": "stream",
     "text": [
      "C:\\Users\\Bhavya\\Desktop\\Vaibhav\\Django-projects\\recallie_web\\news\\utils.py:579: SettingWithCopyWarning: \n",
      "A value is trying to be set on a copy of a slice from a DataFrame.\n",
      "Try using .loc[row_indexer,col_indexer] = value instead\n",
      "\n",
      "See the caveats in the documentation: http://pandas.pydata.org/pandas-docs/stable/indexing.html#indexing-view-versus-copy\n",
      "  self.main_df['Subject'] = self.message\n"
     ]
    },
    {
     "name": "stdout",
     "output_type": "stream",
     "text": [
      "Saved\n"
     ]
    },
    {
     "name": "stderr",
     "output_type": "stream",
     "text": [
      "C:\\Users\\Bhavya\\Desktop\\Vaibhav\\Django-projects\\recallie_web\\news\\utils.py:579: SettingWithCopyWarning: \n",
      "A value is trying to be set on a copy of a slice from a DataFrame.\n",
      "Try using .loc[row_indexer,col_indexer] = value instead\n",
      "\n",
      "See the caveats in the documentation: http://pandas.pydata.org/pandas-docs/stable/indexing.html#indexing-view-versus-copy\n",
      "  self.main_df['Subject'] = self.message\n"
     ]
    },
    {
     "name": "stdout",
     "output_type": "stream",
     "text": [
      "Saved\n",
      "Saved\n",
      "Saved\n"
     ]
    },
    {
     "name": "stderr",
     "output_type": "stream",
     "text": [
      "C:\\Users\\Bhavya\\Anaconda3\\lib\\socket.py:657: ResourceWarning: unclosed <socket.socket fd=2292, family=AddressFamily.AF_INET, type=SocketKind.SOCK_STREAM, proto=0, laddr=('139.19.106.198', 60976), raddr=('104.111.214.230', 443)>\n",
      "  self._sock = None\n"
     ]
    },
    {
     "name": "stdout",
     "output_type": "stream",
     "text": [
      "Saved\n",
      "Saved\n",
      "Saved\n"
     ]
    },
    {
     "name": "stderr",
     "output_type": "stream",
     "text": [
      "C:\\Users\\Bhavya\\Desktop\\Vaibhav\\Django-projects\\recallie_web\\news\\utils.py:579: SettingWithCopyWarning: \n",
      "A value is trying to be set on a copy of a slice from a DataFrame.\n",
      "Try using .loc[row_indexer,col_indexer] = value instead\n",
      "\n",
      "See the caveats in the documentation: http://pandas.pydata.org/pandas-docs/stable/indexing.html#indexing-view-versus-copy\n",
      "  self.main_df['Subject'] = self.message\n"
     ]
    },
    {
     "name": "stdout",
     "output_type": "stream",
     "text": [
      "Saved\n"
     ]
    },
    {
     "name": "stderr",
     "output_type": "stream",
     "text": [
      "C:\\Users\\Bhavya\\Desktop\\Vaibhav\\Django-projects\\recallie_web\\news\\utils.py:579: SettingWithCopyWarning: \n",
      "A value is trying to be set on a copy of a slice from a DataFrame.\n",
      "Try using .loc[row_indexer,col_indexer] = value instead\n",
      "\n",
      "See the caveats in the documentation: http://pandas.pydata.org/pandas-docs/stable/indexing.html#indexing-view-versus-copy\n",
      "  self.main_df['Subject'] = self.message\n"
     ]
    },
    {
     "name": "stdout",
     "output_type": "stream",
     "text": [
      "400\n",
      "100 useful headlines for query Brad Pitt is saved!\n",
      "DF dict for useful100 of query Brad Pitt is saved!\n",
      "Did Confidence\n",
      "Did merge\n",
      "Done for Brad Pitt\n",
      "Saved\n",
      "Saved\n",
      "Saved\n",
      "Saved\n",
      "Saved\n",
      "Saved\n",
      "Saved\n",
      "Saved\n",
      "Saved\n",
      "Saved\n",
      "Saved\n",
      "Saved\n",
      "Saved\n",
      "Saved\n",
      "Saved\n",
      "Saved\n",
      "Saved\n",
      "Saved\n",
      "Saved\n",
      "Saved\n",
      "Saved\n",
      "Saved\n",
      "Saved\n",
      "Saved\n",
      "Saved\n",
      "Saved\n",
      "Saved\n",
      "Saved\n",
      "Saved\n",
      "Saved\n",
      "Saved\n",
      "Saved\n",
      "Saved\n",
      "Saved\n",
      "Saved\n",
      "Saved\n",
      "Saved\n",
      "Saved\n",
      "Saved\n",
      "Saved\n",
      "Saved\n",
      "Saved\n",
      "Saved\n",
      "Saved\n",
      "Saved\n",
      "Saved\n",
      "Saved\n",
      "Saved\n",
      "Saved\n",
      "Saved\n",
      "Saved\n",
      "Saved\n",
      "Saved\n",
      "Saved\n",
      "Saved\n",
      "Saved\n",
      "Saved\n",
      "Saved\n",
      "Saved\n",
      "Saved\n",
      "Saved\n",
      "Saved\n",
      "Saved\n",
      "Saved\n",
      "Saved\n",
      "Saved\n",
      "Saved\n",
      "Saved\n",
      "Saved\n",
      "Saved\n",
      "Saved\n",
      "Saved\n",
      "Saved\n",
      "Saved\n",
      "Saved\n",
      "Saved\n",
      "Saved\n",
      "Saved\n",
      "Saved\n",
      "Saved\n",
      "Saved\n",
      "Saved\n",
      "Saved\n",
      "Saved\n",
      "Saved\n",
      "Saved\n",
      "Saved\n",
      "Saved\n",
      "Saved\n",
      "Saved\n",
      "Saved\n",
      "Saved\n",
      "Saved\n",
      "Saved\n",
      "Saved\n",
      "Saved\n",
      "Saved\n",
      "Saved\n",
      "Saved\n",
      "Saved\n",
      "Saved\n"
     ]
    },
    {
     "data": {
      "text/plain": [
       "{'How Brad Pitt and Angelina Jolie Allegedly Spent Their Two-Year ...': 'https://www.brides.com/story/brad-pitt-angelina-jolie-two-year-wedding-anniversary',\n",
       " 'Angelina Jolie Addresses Brad Pitt Divorce: \"We Will Be Stronger ...': 'https://www.eonline.com/news/830720/angelina-jolie-addresses-brad-pitt-divorce-we-will-be-stronger-when-we-come-out-of-this',\n",
       " \"Brad Pitt's Hurricane Katrina homes are falling apart, residents say in ...\": 'https://www.mercurynews.com/2018/07/12/brad-pitts-hurricane-katrina-homes-are-falling-apart-residents-say-in-new-report/',\n",
       " 'Brad Pitt requested supervised visits with kids at Christmas to prove ...': 'https://www.mercurynews.com/2018/12/31/brad-pitt-requested-supervised-visits-with-kids-at-christmas-to-prove-hes-a-good-father-reports-say/',\n",
       " \"Tom Cruise, Brad Pitt Rumored For Quentin Tarantino's Charles ...\": 'https://www.newsweek.com/tom-cruise-brad-pitt-rumored-quentin-tarantino-charles-manson-film-712071',\n",
       " \"Brad Pitt 'offers apology' to Jennifer Aniston twelve years after ...\": 'https://www.independent.ie/style/celebrity/brad-pitt-offers-apology-to-jennifer-aniston-twelve-years-after-marriage-split-36093649.html',\n",
       " 'Angelina Jolie Meets Queen Elizabeth II to Receive Honorary ...': 'https://www.usmagazine.com/celebrity-news/news/angelina-jolie-meets-queen-elizabeth-with-brad-pitt-kids-20141010/',\n",
       " 'Report: Angelina Jolie told son Brad Pitt never wanted to adopt him': 'https://www.mercurynews.com/2018/12/14/report-angelina-jolie-told-son-brad-pitt-never-wanted-to-adopt-him/',\n",
       " \"Brad Pitt, Angelina Jolie celebrate their twins' 8th birthday\": 'https://www.upi.com/Entertainment_News/2016/07/14/Brad-Pitt-Angelina-Jolie-celebrate-their-twins-8th-birthday/8401468523616/',\n",
       " \"Brad Pitt stars in latest trailer for WWII drama 'Fury' – watch\": 'https://www.nme.com/news/film/brad-pitt-stars-in-latest-trailer-for-wwii-drama-f-871409',\n",
       " 'Neri Oxman Steps Out at MIT Amid News of Her Romance With Brad Pitt': 'https://www.usmagazine.com/celebrity-news/news/neri-oxman-steps-out-amid-news-of-brad-pitt-romance/',\n",
       " 'Brad Pitt and Peter Capaldi in Glasgow School of Art fire appeal': 'https://www.bbc.co.uk/news/uk-scotland-glasgow-west-27904400',\n",
       " \"Brad Pitt sports scruffy grey beard at LAX Airport - but where's Angelina?\": 'https://www.mirror.co.uk/3am/celebrity-news/brad-pitt-sports-scruffy-grey-5706266',\n",
       " 'Inside the War of the Jolie-Pitts: How Brad and Angelina Went From ...': 'https://www.eonline.com/news/846274/inside-the-war-of-the-jolie-pitts-how-brad-and-angelina-went-from-bitter-enemies-to-friends',\n",
       " \"Jennifer Aniston 'Wouldn't Consider' Reigniting Brad Pitt Romance ...\": 'https://www.usmagazine.com/celebrity-news/news/jennifer-aniston-wouldnt-consider-reigniting-brad-pitt-romance/',\n",
       " 'Tank Museum reflects on brush with Brad Pitt as Fury gets set for ...': 'https://www.culture24.org.uk/history-and-heritage/military-history/world-war-two/art499135-tank-museum-reflects-on-brush-with-brad-pitt-as-fury-gets-set-for-london-film-festival',\n",
       " \"Marion Cotillard talks 'Allied,' shooting down Brad Pitt rumors and ...\": 'https://www.today.com/popculture/marion-cotillard-talks-allied-brad-pitt-rumors-filming-awkward-love-t105099',\n",
       " 'Jennifer Aniston breaks her silence on rumours about her and ex ...': 'https://www.independent.ie/style/celebrity/celebrity-news/jennifer-aniston-breaks-her-silence-on-rumours-about-her-and-exhusband-brad-pitt-36615635.html',\n",
       " 'Jen Aniston & Brad Pitt Speaking Again, But Rekindling Not Happening': 'https://theblast.com/jennifer-aniston-brad-pitt-speaking-not-romantic/',\n",
       " \"Brad Pitt And Angelina Jolie's Rumored Divorce Caused By 'Money ...\": 'https://www.inquisitr.com/3177679/brad-pitt-and-angelina-jolies-rumored-divorce-caused-by-money-problems/',\n",
       " \"'He's looking after number one': Single Brad Pitt 'pledges to stay ...\": 'https://www.dailymail.co.uk/tvshowbiz/article-5484081/Brad-Pitt-vows-stay-celibate-year-Angelina-Jolie.html',\n",
       " \"James Franco on Meeting Brad Pitt at Sundance: 'We Fell in Love'\": 'https://www.etonline.com/news/156845_james_franco_on_meeting_brad_pitt_at_sundance_we_fell_in_love',\n",
       " 'Commoners, Rejoice! Why Brad Pitt Is Done Dating Celebrities': 'https://www.eonline.com/news/981977/commoners-rejoice-why-brad-pitt-is-done-dating-celebrities',\n",
       " \"Brad Pitt's Bizarre Double Life!\": 'https://www.nationalenquirer.com/celebrity/brad-pitts-bizarre-double-life/',\n",
       " \"Gwen Stefani: 'I almost got' Angelina Jolie's role in 'Mr. & Mrs. Smith'\": 'https://www.today.com/popculture/gwen-stefani-i-almost-got-angelina-jolie-s-role-mr-t101021',\n",
       " 'Brad Pitt and Angelina Jolie: Could they go to trial over the kids?': 'https://www.usatoday.com/story/life/people/2018/09/06/brad-pitt-and-angelina-jolie-could-they-go-trial-over-kids/1197789002/',\n",
       " 'Um, why is Brad Pitt bothering Jennifer Aniston now?': 'https://www.metro.us/entertainment/um-why-is-brad-pitt-bothering-jennifer-aniston-now/zsJqca---NO9D8mgDmuefc',\n",
       " \"David Fincher's 'World War Z' Sequel Shuts Down at Paramount Over ...\": 'https://www.indiewire.com/2019/02/world-war-z-sequel-dead-david-fincher-brad-pitt-paramount-1202041748/',\n",
       " 'Brad Pitt takes son Knox to the MotoGP British Grand Prix': 'https://www.hellomagazine.com/celebrities/2015090127031/brad-pitt-knox-grand-prix/',\n",
       " 'Angelina Jolie Look-Alike Veronika Black Wants Her Own Brad Pitt ...': 'https://www.usmagazine.com/celebrity-news/news/angelina-jolie-look-alike-wants-her-own-brad-pitt-crazy-photos-201517/',\n",
       " \"Brad Pitt Reprises Weatherman Role on 'The Jim Jefferies Show'\": 'https://www.insideedition.com/brad-pitt-reprises-weatherman-role-jim-jefferies-show-42965',\n",
       " \"Brad Pitt's former limited edition motorbike up for auction\": 'https://www.independent.ie/style/celebrity/celebrity-news/brad-pitts-former-limited-edition-motorbike-up-for-auction-36608299.html',\n",
       " \"Melissa Etheridge Defends Brad Pitt, Says She 'Lost a Friend' When ...\": 'https://www.etonline.com/news/199541_melissa_etheridge_defends_brad_pitt_says_she_lost_a_friend_when_he_married_angelina_jolie',\n",
       " 'Angelina Jolie And Brad Pitt To Move To London Permanently?': 'https://www.yahoo.com/news/angelina-jolie-and-brad-pitt-to-move-to-london-101152861.html',\n",
       " \"Brad Pitt joins Leonardo DiCaprio in Quentin Tarantino's Manson movie\": 'https://www.chicagotribune.com/entertainment/movies/ct-brad-pitt-joins-quentin-tarantino-manson-movie-20180301-story.html',\n",
       " 'Angelina Jolie Reveals That She and Brad Pitt Secretly Married Before ...': 'https://www.vanityfair.com/hollywood/2015/01/angelina-jolie-brad-pitt-secret-wedding',\n",
       " 'Hollywood star Brad Pitt shares a name with a new wasp species from ...': 'https://phys.org/news/2016-05-hollywood-star-brad-pitt-wasp.html',\n",
       " 'Prankster Vitalii Sediuk: I never hit Brad Pitt': 'https://www.nydailynews.com/entertainment/gossip/prankster-vitalii-sediuk-hit-brad-pitt-article-1.1814420',\n",
       " 'Brad Pitt makes flying visit to George Clooney and his new twins on ...': 'https://www.mirror.co.uk/3am/celebrity-news/brad-pitt-makes-flying-visit-10721503',\n",
       " \"Tarantino's Manson Movie Looking to Cast Brad Pitt and Leonardo ...\": 'https://www.dreadcentral.com/news/258759/tarantinos-manson-movie-looking-cast-brad-pitt-leonardo-dicaprio/',\n",
       " 'Brad Pitt Did Not Go to Rehab Despite Tabloid Reports, Source Says': 'https://www.etonline.com/news/209157_brad_pitt_did_not_go_to_rehab_despite_reports_claiming_he_has',\n",
       " 'Brad Pitt and Angelina Jolie: Everything We Know About the Status of ...': 'https://www.etonline.com/news/202201_brad_pitt_and_angelina_jolie_where_their_divorce_stands',\n",
       " 'Brad Pitt Is Trying Really Hard to Understand Why Americans Support ...': 'https://www.esquire.com/news-politics/news/a48436/brad-pitt-donald-trump/',\n",
       " \"The Lost Roles of Brad Pitt: 10 Movies the 'Inglourious Basterd' Almost ...\": 'https://www.ifc.com/2015/03/lost-roles-of-brad-pitt',\n",
       " 'Jason Priestley Sounds Off On Broken Friendship With Brad Pitt': 'https://www.huffingtonpost.com/2014/05/08/jason-priestley-brad-pitt_n_5289311.html?utm_hp_ref=brad-pitt',\n",
       " 'Brad Pitt & Angelina Jolie Daughter Shiloh Dresses in Suit at ...': 'http://www.breathecast.com/articles/brad-pitt-angelina-jolie-daughter-shiloh-dresses-in-suit-and-tie-at-unbroken-film-premiere-23037/',\n",
       " 'Quentin Tarantino Wants Brad Pitt and Jennifer Lawrence For New ...': 'https://www.indiewire.com/2017/07/quentin-tarantino-new-movie-brad-pitt-jennifer-lawrence-manson-family-murders-1201854233/',\n",
       " 'Brad Pitt Says \\'Fury\\' Part of His \"Mandate\" to Push Smaller Films': 'https://www.hollywoodreporter.com/news/brad-pitt-says-fury-part-748724',\n",
       " \"Brad Pitt's cars are back on Angelina Jolie's driveway amid rumours ...\": 'https://www.thesun.co.uk/tvandshowbiz/4412865/brad-pitts-cars-are-back-on-angelina-jolies-driveway-amid-rumours-the-divorce-is-off-and-the-pair-are-trying-to-save-their-marriage/',\n",
       " \"Brad Pitt Bringing His 'Fury' to London Film Festival\": 'https://www.hollywoodreporter.com/news/brad-pitt-bringing-his-fury-725502',\n",
       " \"There is simply no stopping Angelina Jolie leading a 'normal' life one ...\": 'https://www.mirror.co.uk/3am/celebrity-news/angelina-jolie-brad-pitt-family-3297134',\n",
       " \"Brad Pitt & Angelina Jolie's Son, Maddox, Is Definitely A Metalhead\": 'https://metalinjection.net/celebrity-metalheads/brad-pitt-angelina-jolies-kid-maddox-is-definitely-a-metalhead',\n",
       " 'Brad Pitt Secretly Joined Angelina Jolie and Kids on Recent Trip to ...': 'https://www.eonline.com/news/839356/brad-pitt-secretly-joined-angelina-jolie-and-kids-on-recent-trip-to-cambodia',\n",
       " \"Two 'WITCHES' accused of 'meddling in Brad Pitt and Angelina Jolie's ...\": 'https://www.mirror.co.uk/3am/celebrity-news/two-witches-accused-meddling-brad-9428518',\n",
       " 'Tiffany Haddish Role-Plays Imaginary Date With Brad Pitt': 'https://www.hollywoodreporter.com/live-feed/tiffany-haddish-role-plays-imaginary-date-brad-pitt-1100741',\n",
       " \"Shiloh Jolie-Pitt Is All Grown Up! See Photos Of Angelina And Brad's ...\": 'https://okmagazine.com/photos/shiloh-jolie-pitt-grown-up-now-angelina-brad-bike/',\n",
       " 'Is Brad Pitt Opening an Ecologically Responsible Hotel in Croatia?': 'https://observer.com/2017/09/brad-pitt-croatia-luxury-hotel/',\n",
       " 'Brad Pitt Leads Sing-Along at Film Gala': 'https://www.billboard.com/articles/news/6429407/brad-pitt-sings-at-film-gala',\n",
       " \"Brad Pitt 'World War Z' Sequel Loses Director Juan Antonio Bayona\": 'https://deadline.com/2016/01/brad-pitt-world-war-z-sequel-loses-director-juan-antonio-bayona-1201680890/',\n",
       " \"George Clooney gets candid on co-stars: Sandra Bullock 'drinks a lot ...\": 'https://www.nydailynews.com/entertainment/gossip/george-clooney-candid-co-stars-sandra-bullock-brad-pitt-article-1.1595174',\n",
       " 'Gwyneth Paltrow Has A Theory On Why Brad Pitt Looks Like His ...': 'https://www.huffpost.com/entry/gwyneth-paltrow-brad-pitt-looks-like-girlfriends_n_5c33c0b6e4b05d4e96bb1df2',\n",
       " 'Angelina Jolie talks Brad Pitt, says last film together may have ...': 'https://www.ajc.com/entertainment/celebrity-news/angelina-jolie-talks-brad-pitt-says-last-film-together-may-have-mirrored-relationship/sUU3pmpLL4I89bdpr0sprK/',\n",
       " \"See Brad Pitt And Angelina Jolie's Custom Guns Created By Jesse ...\": 'https://www.forbes.com/sites/susannahbreslin/2016/01/29/brad-pitt-angelina-jolie-guns/',\n",
       " \"Brad Pitt's foundation is accused of building shoddy homes in New ...\": 'https://www.usatoday.com/story/life/movies/2018/09/13/brad-pitts-foundation-accused-building-shoddy-homes-new-orleans/1289374002/',\n",
       " \"Brad Pitt cozies up to 'sexy' spiritual healer. What's the real story?\": 'https://www.mercurynews.com/2018/10/05/brad-pitt-cozies-up-to-sexy-spiritual-healer-whats-the-real-story/',\n",
       " \"Brad Pitt's Accents Ranked From Worst to Best\": 'https://www.ifc.com/2015/03/brad-pitts-best-and-worst-c',\n",
       " 'The curious case of Brad Pitt, the smartest man in Hollywood': 'https://www.theglobeandmail.com/arts/film/the-curious-case-of-brad-pitt-the-smartest-man-in-hollywood/article27689182/',\n",
       " 'Angelina Jolie and Brad Pitt Had a Happy Wedding Day, but Getting ...': 'https://www.eonline.com/news/875230/angelina-jolie-and-brad-pitt-had-a-happy-wedding-day-but-getting-married-was-the-beginning-of-the-end-for-hollywood-s-favorite-couple',\n",
       " 'Angelina Jolie, Brad Pitt Return to LA With All Six Kids: See the Pictures!': 'https://www.usmagazine.com/celebrity-moms/news/angelina-jolie-brad-pitt-return-los-angeles-six-kids-pictures-201452/',\n",
       " \"Brad Pitt disappoints in 'Allied'\": 'https://dailygazette.com/article/2016/11/22/allied',\n",
       " \"Jennifer Aniston Did NOT Meet Brad Pitt's Kids, Despite Report\": 'https://www.gossipcop.com/jennifer-aniston-brad-pitt-kids-meet-children/',\n",
       " 'Brad Pitt, Angelina Jolie Lose Court Case Over Their French Miraval ...': 'https://www.forbes.com/sites/ceciliarodriguez/2017/08/21/brad-pitt-angelina-jolie-lose-court-case-over-their-french-miraval-castle/',\n",
       " \"EXCLUSIVE: Brad Pitt and Angelina Jolie's Custody Agreement ...\": 'https://www.etonline.com/news/204289_exclusive_brad_pitt_and_angelina_jolie_s_custody_agreement_revealed',\n",
       " 'Why the Divorce War Rages On: What Brad Pitt and Angelina Jolie ...': 'https://www.eonline.com/news/987893/why-the-divorce-war-rages-on-what-brad-pitt-and-angelina-jolie-really-want-from-each-other-at-this-point',\n",
       " 'Is Amber Heard the new Angelina Jolie?': 'https://nypost.com/2014/02/20/is-amber-heard-the-new-angelina-jolie/',\n",
       " 'Angelina Jolie and Brad Pitt have finally reached a child custody ...': 'https://www.thisisinsider.com/angelina-jolie-and-brad-pitt-have-reached-a-child-custody-agreement-2018-12',\n",
       " \"Stephen King's The Jaunt Lands at Brad Pitt's Plan B\": 'https://www.dreadcentral.com/news/93155/stephen-kings-the-jaunt-lands-at-brad-pitts-plan-b/',\n",
       " \"Clean-up crews tackle Brad and Angelina's private beach after ...\": 'https://www.dailymail.co.uk/news/article-3096494/Clean-crews-tackle-Brad-Angelina-s-private-beach-oil-spill-close-5-million-11-plus-acre-oceanfront-ranch.html',\n",
       " 'Brad Pitt faces lawsuit over problematic Hurricane Katrina homes': 'https://www.mercurynews.com/2018/08/30/brad-pitt-facing-lawsuit-over-problematic-hurricane-katrina-homes/',\n",
       " \"James Gray Says His Sci-Fi Movie 'Ad Astra' Starts Filming This ...\": 'http://collider.com/james-gray-brad-pitt-ad-astra-filming/',\n",
       " 'Brad Pitt Talks Divorce, Quitting Drinking, and Becoming a Better Man': 'https://www.gq.com/story/brad-pitt-gq-style-cover-story',\n",
       " \"Brad And Angelina Support Shiloh's Request To Wear Suits And Be ...\": 'https://laist.com/2014/12/22/brad_pitt_and_angelina_jolie_suppor.php',\n",
       " 'Brad Pitt Brings Son Knox, 7, to the 2015 British Motorcycle Grand Prix ...': 'https://www.eonline.com/news/691140/brad-pitt-brings-son-knox-7-to-the-2015-british-motorcycle-grand-prix-see-the-sweet-photos',\n",
       " 'Are Brad Pitt and Angelina Jolie Planning to Work Things Out?': 'https://www.cheatsheet.com/entertainment/are-brad-pitt-and-angelina-jolie-planning-to-work-things-out.html/',\n",
       " 'Surprising friendship: Jennifer Aniston helps Gwyneth Paltrow ...': 'https://www.hellomagazine.com/celebrities/2018041647849/jennifer-aniston-helps-gwyneth-paltrow-celebrate-engagement/',\n",
       " \"Brad Pitt's obsession with WWII is getting serious\": 'https://www.ajc.com/entertainment/celebrity-news/brad-pitt-obsession-with-wwii-getting-serious/XLwBW3Eo6J8PDToJmlLw7N/',\n",
       " \"Brad Pitt's Sci-Fi Movie 'Ad Astra' to Hit Theaters in January 2019\": 'https://variety.com/2017/film/news/brad-pitt-ad-astra-release-date-1202559836/',\n",
       " 'Angelina Jolie, Brad Pitt and the Plot to Catch Kony: How the Stars ...': 'https://www.newsweek.com/angelina-jolie-was-involved-honey-trap-plot-ensnare-african-warlord-report-680217',\n",
       " 'Angelina Jolie, Brad Pitt Reach Child Custody Agreement': 'https://www.theepochtimes.com/angelina-jolie-brad-pitt-reach-child-custody-agreement_2728576.html',\n",
       " 'Angelina Jolie and Brad Pitt Need More Time for Settlement ...': 'https://theblast.com/angelina-jolie-brad-pitt-extend-private-judge-settlement/',\n",
       " \"Sumner Redstone Uncensored: Murdoch Divorce, Brad Pitt's Exit ...\": 'https://www.hollywoodreporter.com/news/sumner-redstone-uncensored-murdoch-divorce-668834',\n",
       " 'Brad Pitt and Angelina Jolie Will Need to Stock Up on Trench Coats ...': 'https://www.vanityfair.com/hollywood/2016/01/brad-pitt-angelina-jolie-london',\n",
       " 'Jason Priestley Dishes on Shannen Doherty, Roommate Brad Pitt in ...': 'https://www.usmagazine.com/entertainment/news/jason-priestley-dishes-on-shannen-doherty-brad-pitt-in-memoir-excerpt-201415/',\n",
       " \"Brad Pitt got first gun in kindergarten, doesn't feel safe without one\": 'https://www.today.com/popculture/brad-pitt-got-first-gun-kindergarten-doesnt-feel-safe-without-2D80216198',\n",
       " \"Brad Pitt wants to mentor 12 Years a Slave co-star Lupita Nyong'o\": 'https://www.independent.ie/entertainment/brad-pitt-wants-to-mentor-12-years-a-slave-costar-lupita-nyongo-29971219.html',\n",
       " 'Angelina Jolie, Unbroken': 'https://www.nytimes.com/2017/09/13/movies/angelina-jolie-brad-pitt-first-they-killed-my-father.html',\n",
       " \"Katrina victims say Brad Pitt's charity homes are already rotting\": 'https://www.chron.com/news/houston-texas/texas/article/Katrina-victims-say-Brad-Pitt-s-charity-homes-are-5108452.php',\n",
       " 'Angelina Jolie Offers Rare, Intriguing Update About Children with Brad ...': 'https://www.vanityfair.com/style/2016/06/angelina-jolie-brad-pitt-children',\n",
       " 'Brad Pitt, Katie Holmes Bump Into Each Other, Talk Kids and Angelina ...': 'https://www.usmagazine.com/celebrity-news/news/brad-pitt-katie-holmes-bump-into-each-other-talk-kids-and-angelina-2014206/',\n",
       " \"Charlize Theron Says She Is 'Single' After Brad Pitt Dating Rumors\": 'https://www.usmagazine.com/celebrity-news/news/charlize-theron-says-shes-single-after-brad-pitt-dating-rumors/',\n",
       " 'Angelina Jolie, Brad Pitt Coordinate Outfits, Hold Hands at 2014 ...': 'https://www.usmagazine.com/celebrity-news/news/angelina-jolie-brad-pitt-coordinate-outfits-hold-hands-at-2014-independent-spirit-awards-pictures-201413/',\n",
       " \"Brad Pitt Treats Chris Cornell's Kids to a Day at Universal Studios ...\": 'https://www.etonline.com/news/218782_brad_pitt_treats_chris_cornell_kids_to_a_day_at_universal_studios_hollywood',\n",
       " 'Brad Pitt is secretly dating Sienna Miller in first romance since split ...': 'https://www.thesun.co.uk/tvandshowbiz/3898194/brad-pitt-secretly-dating-sienna-miller/',\n",
       " 'Brad Pitt and Angelina Jolie told to pay €565000 in chateau lighting ...': 'https://www.theguardian.com/world/2017/aug/17/brad-pitt-ordered-to-pay-french-designer-565000-over-chateau-lighting',\n",
       " \"How Brad Pitt Taught His Son About War - And Made 'Fury' a No. 1 ...\": 'https://www.etonline.com/news/152723_fury_is_number_one_at_the_box_office',\n",
       " 'Brad Pitt, Jennifer Aniston NOT Caught Kissing Or “Back On,” Despite ...': 'https://www.gossipcop.com/brad-pitt-jennifer-aniston-kissing-back-on/',\n",
       " \"Readers' Poll: The 10 Best Brad Pitt Movies\": 'https://www.rollingstone.com/movies/movie-lists/readers-poll-the-10-best-brad-pitt-movies-150208/',\n",
       " \"Inside Brad Pitt's Transformative Year: The Long, Strange Trip Back to ...\": 'https://www.eonline.com/news/900466/inside-brad-pitt-s-transformative-year-the-long-strange-trip-back-to-almost-normal',\n",
       " \"Groupon's hottest deal ever: A chance to meet Brad Pitt for $10\": 'https://www.today.com/popculture/groupons-hottest-deal-ever-chance-meet-brad-pitt-10-1D79549507',\n",
       " 'Angelina Jolie Bans Brad Pitt From Hanging Out With Ben Affleck ...': 'https://www.ibtimes.com/angelina-jolie-bans-brad-pitt-hanging-out-ben-affleck-amid-cheating-rumors-report-2360706',\n",
       " \"BFFs! Nicole comes to Angelina's aid as messy Brad Pitt divorce ...\": 'https://www.aol.com/article/entertainment/2018/09/04/bffs-nicole-comes-to-angelinas-aid-as-messy-brad-pitt-divorce-drama-drags-on/23516672/',\n",
       " 'Justin Theroux Found Post-Its From Brad Pitt During Jennifer Aniston ...': 'https://www.usmagazine.com/celebrity-news/news/justin-theroux-found-post-its-from-brad-pitt-during-jen-aniston-marriage/',\n",
       " 'Turning over a new leaf! Brad Pitt spruces up his bachelor pad with ...': 'https://www.dailymail.co.uk/tvshowbiz/article-4613220/Brad-Pitt-spruces-house-moves-split.html'}"
      ]
     },
     "execution_count": 6,
     "metadata": {},
     "output_type": "execute_result"
    }
   ],
   "source": [
    "make_useful100(query)"
   ]
  },
  {
   "cell_type": "code",
   "execution_count": 7,
   "metadata": {
    "ExecuteTime": {
     "end_time": "2019-04-23T10:03:49.041639Z",
     "start_time": "2019-04-23T10:02:30.701286Z"
    }
   },
   "outputs": [
    {
     "name": "stdout",
     "output_type": "stream",
     "text": [
      "Creating a new Dictionary\n"
     ]
    },
    {
     "name": "stderr",
     "output_type": "stream",
     "text": [
      "C:\\Users\\Bhavya\\Anaconda3\\lib\\socket.py:657: ResourceWarning: unclosed <socket.socket fd=2964, family=AddressFamily.AF_INET, type=SocketKind.SOCK_STREAM, proto=0, laddr=('139.19.106.198', 61120), raddr=('151.101.112.239', 443)>\n",
      "  self._sock = None\n",
      "C:\\Users\\Bhavya\\Anaconda3\\lib\\socket.py:657: ResourceWarning: unclosed <socket.socket fd=3020, family=AddressFamily.AF_INET, type=SocketKind.SOCK_STREAM, proto=0, laddr=('139.19.106.198', 61153), raddr=('151.101.114.62', 443)>\n",
      "  self._sock = None\n"
     ]
    },
    {
     "name": "stdout",
     "output_type": "stream",
     "text": [
      "Creating a new Dictionary\n"
     ]
    },
    {
     "name": "stderr",
     "output_type": "stream",
     "text": [
      "C:\\Users\\Bhavya\\Anaconda3\\lib\\socket.py:657: ResourceWarning: unclosed <socket.socket fd=3600, family=AddressFamily.AF_INET, type=SocketKind.SOCK_STREAM, proto=0, laddr=('139.19.106.198', 61172), raddr=('151.101.113.164', 443)>\n",
      "  self._sock = None\n"
     ]
    },
    {
     "name": "stdout",
     "output_type": "stream",
     "text": [
      "Saved\n"
     ]
    },
    {
     "name": "stderr",
     "output_type": "stream",
     "text": [
      "C:\\Users\\Bhavya\\Anaconda3\\lib\\socket.py:657: ResourceWarning: unclosed <socket.socket fd=2380, family=AddressFamily.AF_INET, type=SocketKind.SOCK_STREAM, proto=0, laddr=('139.19.106.198', 61178), raddr=('151.101.112.239', 443)>\n",
      "  self._sock = None\n",
      "C:\\Users\\Bhavya\\Anaconda3\\lib\\socket.py:657: ResourceWarning: unclosed <socket.socket fd=3268, family=AddressFamily.AF_INET, type=SocketKind.SOCK_STREAM, proto=0, laddr=('139.19.106.198', 61213), raddr=('45.79.137.166', 443)>\n",
      "  self._sock = None\n"
     ]
    },
    {
     "name": "stdout",
     "output_type": "stream",
     "text": [
      "Saved\n"
     ]
    },
    {
     "name": "stderr",
     "output_type": "stream",
     "text": [
      "C:\\Users\\Bhavya\\Desktop\\Vaibhav\\Django-projects\\recallie_web\\news\\utils.py:579: SettingWithCopyWarning: \n",
      "A value is trying to be set on a copy of a slice from a DataFrame.\n",
      "Try using .loc[row_indexer,col_indexer] = value instead\n",
      "\n",
      "See the caveats in the documentation: http://pandas.pydata.org/pandas-docs/stable/indexing.html#indexing-view-versus-copy\n",
      "  self.main_df['Subject'] = self.message\n",
      "C:\\Users\\Bhavya\\Anaconda3\\lib\\socket.py:657: ResourceWarning: unclosed <socket.socket fd=5660, family=AddressFamily.AF_INET, type=SocketKind.SOCK_STREAM, proto=0, laddr=('139.19.106.198', 61244), raddr=('72.251.236.55', 443)>\n",
      "  self._sock = None\n",
      "C:\\Users\\Bhavya\\Anaconda3\\lib\\socket.py:657: ResourceWarning: unclosed <socket.socket fd=5532, family=AddressFamily.AF_INET, type=SocketKind.SOCK_STREAM, proto=0, laddr=('139.19.106.198', 61241), raddr=('151.101.112.239', 443)>\n",
      "  self._sock = None\n"
     ]
    },
    {
     "name": "stdout",
     "output_type": "stream",
     "text": [
      "Saved\n"
     ]
    },
    {
     "name": "stderr",
     "output_type": "stream",
     "text": [
      "C:\\Users\\Bhavya\\Anaconda3\\lib\\socket.py:657: ResourceWarning: unclosed <socket.socket fd=4772, family=AddressFamily.AF_INET, type=SocketKind.SOCK_STREAM, proto=0, laddr=('139.19.106.198', 61255), raddr=('151.101.112.239', 443)>\n",
      "  self._sock = None\n"
     ]
    },
    {
     "name": "stdout",
     "output_type": "stream",
     "text": [
      "SavedCreating a new Dictionary\n",
      "\n"
     ]
    },
    {
     "name": "stderr",
     "output_type": "stream",
     "text": [
      "C:\\Users\\Bhavya\\Desktop\\Vaibhav\\Django-projects\\recallie_web\\news\\utils.py:579: SettingWithCopyWarning: \n",
      "A value is trying to be set on a copy of a slice from a DataFrame.\n",
      "Try using .loc[row_indexer,col_indexer] = value instead\n",
      "\n",
      "See the caveats in the documentation: http://pandas.pydata.org/pandas-docs/stable/indexing.html#indexing-view-versus-copy\n",
      "  self.main_df['Subject'] = self.message\n",
      "C:\\Users\\Bhavya\\Anaconda3\\lib\\socket.py:657: ResourceWarning: unclosed <socket.socket fd=6692, family=AddressFamily.AF_INET, type=SocketKind.SOCK_STREAM, proto=0, laddr=('139.19.106.198', 61291), raddr=('104.111.214.230', 443)>\n",
      "  self._sock = None\n"
     ]
    },
    {
     "name": "stdout",
     "output_type": "stream",
     "text": [
      "Saved\n",
      "Creating a new Dictionary\n"
     ]
    },
    {
     "name": "stderr",
     "output_type": "stream",
     "text": [
      "C:\\Users\\Bhavya\\Desktop\\Vaibhav\\Django-projects\\recallie_web\\news\\utils.py:579: SettingWithCopyWarning: \n",
      "A value is trying to be set on a copy of a slice from a DataFrame.\n",
      "Try using .loc[row_indexer,col_indexer] = value instead\n",
      "\n",
      "See the caveats in the documentation: http://pandas.pydata.org/pandas-docs/stable/indexing.html#indexing-view-versus-copy\n",
      "  self.main_df['Subject'] = self.message\n"
     ]
    },
    {
     "name": "stdout",
     "output_type": "stream",
     "text": [
      "Saved\n"
     ]
    },
    {
     "name": "stderr",
     "output_type": "stream",
     "text": [
      "C:\\Users\\Bhavya\\Anaconda3\\lib\\socket.py:657: ResourceWarning: unclosed <socket.socket fd=7804, family=AddressFamily.AF_INET, type=SocketKind.SOCK_STREAM, proto=0, laddr=('139.19.106.198', 61393), raddr=('104.111.214.230', 443)>\n",
      "  self._sock = None\n"
     ]
    },
    {
     "name": "stdout",
     "output_type": "stream",
     "text": [
      "Saved\n",
      "Creating a new Dictionary\n"
     ]
    },
    {
     "name": "stderr",
     "output_type": "stream",
     "text": [
      "C:\\Users\\Bhavya\\Anaconda3\\lib\\socket.py:657: ResourceWarning: unclosed <socket.socket fd=8320, family=AddressFamily.AF_INET, type=SocketKind.SOCK_STREAM, proto=0, laddr=('139.19.106.198', 61407), raddr=('151.101.112.239', 443)>\n",
      "  self._sock = None\n",
      "C:\\Users\\Bhavya\\Desktop\\Vaibhav\\Django-projects\\recallie_web\\news\\utils.py:579: SettingWithCopyWarning: \n",
      "A value is trying to be set on a copy of a slice from a DataFrame.\n",
      "Try using .loc[row_indexer,col_indexer] = value instead\n",
      "\n",
      "See the caveats in the documentation: http://pandas.pydata.org/pandas-docs/stable/indexing.html#indexing-view-versus-copy\n",
      "  self.main_df['Subject'] = self.message\n",
      "C:\\Users\\Bhavya\\Anaconda3\\lib\\socket.py:657: ResourceWarning: unclosed <socket.socket fd=9012, family=AddressFamily.AF_INET, type=SocketKind.SOCK_STREAM, proto=0, laddr=('139.19.106.198', 61433), raddr=('151.101.112.239', 443)>\n",
      "  self._sock = None\n",
      "C:\\Users\\Bhavya\\Anaconda3\\lib\\socket.py:657: ResourceWarning: unclosed <socket.socket fd=9280, family=AddressFamily.AF_INET, type=SocketKind.SOCK_STREAM, proto=0, laddr=('139.19.106.198', 61476), raddr=('151.101.114.62', 443)>\n",
      "  self._sock = None\n",
      "C:\\Users\\Bhavya\\Anaconda3\\lib\\socket.py:657: ResourceWarning: unclosed <socket.socket fd=3428, family=AddressFamily.AF_INET, type=SocketKind.SOCK_STREAM, proto=0, laddr=('139.19.106.198', 61474), raddr=('104.111.214.230', 443)>\n",
      "  self._sock = None\n"
     ]
    },
    {
     "name": "stdout",
     "output_type": "stream",
     "text": [
      "Saved\n"
     ]
    },
    {
     "name": "stderr",
     "output_type": "stream",
     "text": [
      "C:\\Users\\Bhavya\\Desktop\\Vaibhav\\Django-projects\\recallie_web\\news\\utils.py:579: SettingWithCopyWarning: \n",
      "A value is trying to be set on a copy of a slice from a DataFrame.\n",
      "Try using .loc[row_indexer,col_indexer] = value instead\n",
      "\n",
      "See the caveats in the documentation: http://pandas.pydata.org/pandas-docs/stable/indexing.html#indexing-view-versus-copy\n",
      "  self.main_df['Subject'] = self.message\n"
     ]
    },
    {
     "name": "stdout",
     "output_type": "stream",
     "text": [
      "Saved\n"
     ]
    },
    {
     "name": "stderr",
     "output_type": "stream",
     "text": [
      "C:\\Users\\Bhavya\\Desktop\\Vaibhav\\Django-projects\\recallie_web\\news\\utils.py:579: SettingWithCopyWarning: \n",
      "A value is trying to be set on a copy of a slice from a DataFrame.\n",
      "Try using .loc[row_indexer,col_indexer] = value instead\n",
      "\n",
      "See the caveats in the documentation: http://pandas.pydata.org/pandas-docs/stable/indexing.html#indexing-view-versus-copy\n",
      "  self.main_df['Subject'] = self.message\n"
     ]
    },
    {
     "name": "stdout",
     "output_type": "stream",
     "text": [
      "Saved\n",
      "Saved\n"
     ]
    },
    {
     "name": "stderr",
     "output_type": "stream",
     "text": [
      "C:\\Users\\Bhavya\\Desktop\\Vaibhav\\Django-projects\\recallie_web\\news\\utils.py:579: SettingWithCopyWarning: \n",
      "A value is trying to be set on a copy of a slice from a DataFrame.\n",
      "Try using .loc[row_indexer,col_indexer] = value instead\n",
      "\n",
      "See the caveats in the documentation: http://pandas.pydata.org/pandas-docs/stable/indexing.html#indexing-view-versus-copy\n",
      "  self.main_df['Subject'] = self.message\n"
     ]
    },
    {
     "name": "stdout",
     "output_type": "stream",
     "text": [
      "tooManyRequests: too many requests:\n",
      "  https://api.rosette.com/rest/v1/relationships\n",
      "'NoneType' object is not iterable\n",
      "Saved\n"
     ]
    },
    {
     "name": "stderr",
     "output_type": "stream",
     "text": [
      "C:\\Users\\Bhavya\\Desktop\\Vaibhav\\Django-projects\\recallie_web\\news\\utils.py:579: SettingWithCopyWarning: \n",
      "A value is trying to be set on a copy of a slice from a DataFrame.\n",
      "Try using .loc[row_indexer,col_indexer] = value instead\n",
      "\n",
      "See the caveats in the documentation: http://pandas.pydata.org/pandas-docs/stable/indexing.html#indexing-view-versus-copy\n",
      "  self.main_df['Subject'] = self.message\n"
     ]
    },
    {
     "name": "stdout",
     "output_type": "stream",
     "text": [
      "Saved\n",
      "tooManyRequests: too many requests:\n",
      "  https://api.rosette.com/rest/v1/relationships\n",
      "'NoneType' object is not iterable\n"
     ]
    },
    {
     "name": "stderr",
     "output_type": "stream",
     "text": [
      "C:\\Users\\Bhavya\\Desktop\\Vaibhav\\Django-projects\\recallie_web\\news\\utils.py:579: SettingWithCopyWarning: \n",
      "A value is trying to be set on a copy of a slice from a DataFrame.\n",
      "Try using .loc[row_indexer,col_indexer] = value instead\n",
      "\n",
      "See the caveats in the documentation: http://pandas.pydata.org/pandas-docs/stable/indexing.html#indexing-view-versus-copy\n",
      "  self.main_df['Subject'] = self.message\n"
     ]
    },
    {
     "name": "stdout",
     "output_type": "stream",
     "text": [
      "Saved\n"
     ]
    },
    {
     "name": "stderr",
     "output_type": "stream",
     "text": [
      "C:\\Users\\Bhavya\\Desktop\\Vaibhav\\Django-projects\\recallie_web\\news\\utils.py:579: SettingWithCopyWarning: \n",
      "A value is trying to be set on a copy of a slice from a DataFrame.\n",
      "Try using .loc[row_indexer,col_indexer] = value instead\n",
      "\n",
      "See the caveats in the documentation: http://pandas.pydata.org/pandas-docs/stable/indexing.html#indexing-view-versus-copy\n",
      "  self.main_df['Subject'] = self.message\n"
     ]
    },
    {
     "name": "stdout",
     "output_type": "stream",
     "text": [
      "Saved\n"
     ]
    },
    {
     "name": "stderr",
     "output_type": "stream",
     "text": [
      "C:\\Users\\Bhavya\\Desktop\\Vaibhav\\Django-projects\\recallie_web\\news\\utils.py:579: SettingWithCopyWarning: \n",
      "A value is trying to be set on a copy of a slice from a DataFrame.\n",
      "Try using .loc[row_indexer,col_indexer] = value instead\n",
      "\n",
      "See the caveats in the documentation: http://pandas.pydata.org/pandas-docs/stable/indexing.html#indexing-view-versus-copy\n",
      "  self.main_df['Subject'] = self.message\n"
     ]
    },
    {
     "name": "stdout",
     "output_type": "stream",
     "text": [
      "Saved\n",
      "Saved\n"
     ]
    },
    {
     "name": "stderr",
     "output_type": "stream",
     "text": [
      "C:\\Users\\Bhavya\\Desktop\\Vaibhav\\Django-projects\\recallie_web\\news\\utils.py:579: SettingWithCopyWarning: \n",
      "A value is trying to be set on a copy of a slice from a DataFrame.\n",
      "Try using .loc[row_indexer,col_indexer] = value instead\n",
      "\n",
      "See the caveats in the documentation: http://pandas.pydata.org/pandas-docs/stable/indexing.html#indexing-view-versus-copy\n",
      "  self.main_df['Subject'] = self.message\n",
      "C:\\Users\\Bhavya\\Desktop\\Vaibhav\\Django-projects\\recallie_web\\news\\utils.py:579: SettingWithCopyWarning: \n",
      "A value is trying to be set on a copy of a slice from a DataFrame.\n",
      "Try using .loc[row_indexer,col_indexer] = value instead\n",
      "\n",
      "See the caveats in the documentation: http://pandas.pydata.org/pandas-docs/stable/indexing.html#indexing-view-versus-copy\n",
      "  self.main_df['Subject'] = self.message\n"
     ]
    },
    {
     "name": "stdout",
     "output_type": "stream",
     "text": [
      "Saved\n",
      "Saved\n"
     ]
    },
    {
     "name": "stderr",
     "output_type": "stream",
     "text": [
      "C:\\Users\\Bhavya\\Desktop\\Vaibhav\\Django-projects\\recallie_web\\news\\utils.py:579: SettingWithCopyWarning: \n",
      "A value is trying to be set on a copy of a slice from a DataFrame.\n",
      "Try using .loc[row_indexer,col_indexer] = value instead\n",
      "\n",
      "See the caveats in the documentation: http://pandas.pydata.org/pandas-docs/stable/indexing.html#indexing-view-versus-copy\n",
      "  self.main_df['Subject'] = self.message\n",
      "C:\\Users\\Bhavya\\Desktop\\Vaibhav\\Django-projects\\recallie_web\\news\\utils.py:579: SettingWithCopyWarning: \n",
      "A value is trying to be set on a copy of a slice from a DataFrame.\n",
      "Try using .loc[row_indexer,col_indexer] = value instead\n",
      "\n",
      "See the caveats in the documentation: http://pandas.pydata.org/pandas-docs/stable/indexing.html#indexing-view-versus-copy\n",
      "  self.main_df['Subject'] = self.message\n"
     ]
    },
    {
     "name": "stdout",
     "output_type": "stream",
     "text": [
      "Saved\n",
      "Saved\n"
     ]
    },
    {
     "name": "stderr",
     "output_type": "stream",
     "text": [
      "C:\\Users\\Bhavya\\Desktop\\Vaibhav\\Django-projects\\recallie_web\\news\\utils.py:579: SettingWithCopyWarning: \n",
      "A value is trying to be set on a copy of a slice from a DataFrame.\n",
      "Try using .loc[row_indexer,col_indexer] = value instead\n",
      "\n",
      "See the caveats in the documentation: http://pandas.pydata.org/pandas-docs/stable/indexing.html#indexing-view-versus-copy\n",
      "  self.main_df['Subject'] = self.message\n",
      "C:\\Users\\Bhavya\\Desktop\\Vaibhav\\Django-projects\\recallie_web\\news\\utils.py:579: SettingWithCopyWarning: \n",
      "A value is trying to be set on a copy of a slice from a DataFrame.\n",
      "Try using .loc[row_indexer,col_indexer] = value instead\n",
      "\n",
      "See the caveats in the documentation: http://pandas.pydata.org/pandas-docs/stable/indexing.html#indexing-view-versus-copy\n",
      "  self.main_df['Subject'] = self.message\n"
     ]
    },
    {
     "name": "stdout",
     "output_type": "stream",
     "text": [
      "Saved\n",
      "Saved\n"
     ]
    },
    {
     "name": "stderr",
     "output_type": "stream",
     "text": [
      "C:\\Users\\Bhavya\\Desktop\\Vaibhav\\Django-projects\\recallie_web\\news\\utils.py:579: SettingWithCopyWarning: \n",
      "A value is trying to be set on a copy of a slice from a DataFrame.\n",
      "Try using .loc[row_indexer,col_indexer] = value instead\n",
      "\n",
      "See the caveats in the documentation: http://pandas.pydata.org/pandas-docs/stable/indexing.html#indexing-view-versus-copy\n",
      "  self.main_df['Subject'] = self.message\n",
      "C:\\Users\\Bhavya\\Desktop\\Vaibhav\\Django-projects\\recallie_web\\news\\utils.py:579: SettingWithCopyWarning: \n",
      "A value is trying to be set on a copy of a slice from a DataFrame.\n",
      "Try using .loc[row_indexer,col_indexer] = value instead\n",
      "\n",
      "See the caveats in the documentation: http://pandas.pydata.org/pandas-docs/stable/indexing.html#indexing-view-versus-copy\n",
      "  self.main_df['Subject'] = self.message\n"
     ]
    },
    {
     "name": "stdout",
     "output_type": "stream",
     "text": [
      "Saved\n",
      "Saved\n",
      "Saved\n"
     ]
    },
    {
     "name": "stderr",
     "output_type": "stream",
     "text": [
      "C:\\Users\\Bhavya\\Desktop\\Vaibhav\\Django-projects\\recallie_web\\news\\utils.py:579: SettingWithCopyWarning: \n",
      "A value is trying to be set on a copy of a slice from a DataFrame.\n",
      "Try using .loc[row_indexer,col_indexer] = value instead\n",
      "\n",
      "See the caveats in the documentation: http://pandas.pydata.org/pandas-docs/stable/indexing.html#indexing-view-versus-copy\n",
      "  self.main_df['Subject'] = self.message\n",
      "C:\\Users\\Bhavya\\Desktop\\Vaibhav\\Django-projects\\recallie_web\\news\\utils.py:579: SettingWithCopyWarning: \n",
      "A value is trying to be set on a copy of a slice from a DataFrame.\n",
      "Try using .loc[row_indexer,col_indexer] = value instead\n",
      "\n",
      "See the caveats in the documentation: http://pandas.pydata.org/pandas-docs/stable/indexing.html#indexing-view-versus-copy\n",
      "  self.main_df['Subject'] = self.message\n"
     ]
    },
    {
     "name": "stdout",
     "output_type": "stream",
     "text": [
      "Saved\n"
     ]
    },
    {
     "name": "stderr",
     "output_type": "stream",
     "text": [
      "C:\\Users\\Bhavya\\Desktop\\Vaibhav\\Django-projects\\recallie_web\\news\\utils.py:579: SettingWithCopyWarning: \n",
      "A value is trying to be set on a copy of a slice from a DataFrame.\n",
      "Try using .loc[row_indexer,col_indexer] = value instead\n",
      "\n",
      "See the caveats in the documentation: http://pandas.pydata.org/pandas-docs/stable/indexing.html#indexing-view-versus-copy\n",
      "  self.main_df['Subject'] = self.message\n"
     ]
    },
    {
     "name": "stdout",
     "output_type": "stream",
     "text": [
      "Saved\n",
      "Saved\n"
     ]
    },
    {
     "name": "stderr",
     "output_type": "stream",
     "text": [
      "C:\\Users\\Bhavya\\Desktop\\Vaibhav\\Django-projects\\recallie_web\\news\\utils.py:579: SettingWithCopyWarning: \n",
      "A value is trying to be set on a copy of a slice from a DataFrame.\n",
      "Try using .loc[row_indexer,col_indexer] = value instead\n",
      "\n",
      "See the caveats in the documentation: http://pandas.pydata.org/pandas-docs/stable/indexing.html#indexing-view-versus-copy\n",
      "  self.main_df['Subject'] = self.message\n",
      "C:\\Users\\Bhavya\\Desktop\\Vaibhav\\Django-projects\\recallie_web\\news\\utils.py:579: SettingWithCopyWarning: \n",
      "A value is trying to be set on a copy of a slice from a DataFrame.\n",
      "Try using .loc[row_indexer,col_indexer] = value instead\n",
      "\n",
      "See the caveats in the documentation: http://pandas.pydata.org/pandas-docs/stable/indexing.html#indexing-view-versus-copy\n",
      "  self.main_df['Subject'] = self.message\n"
     ]
    },
    {
     "name": "stdout",
     "output_type": "stream",
     "text": [
      "Saved\n"
     ]
    },
    {
     "name": "stderr",
     "output_type": "stream",
     "text": [
      "C:\\Users\\Bhavya\\Desktop\\Vaibhav\\Django-projects\\recallie_web\\news\\utils.py:579: SettingWithCopyWarning: \n",
      "A value is trying to be set on a copy of a slice from a DataFrame.\n",
      "Try using .loc[row_indexer,col_indexer] = value instead\n",
      "\n",
      "See the caveats in the documentation: http://pandas.pydata.org/pandas-docs/stable/indexing.html#indexing-view-versus-copy\n",
      "  self.main_df['Subject'] = self.message\n"
     ]
    },
    {
     "name": "stdout",
     "output_type": "stream",
     "text": [
      "Saved\n",
      "Saved\n"
     ]
    },
    {
     "name": "stderr",
     "output_type": "stream",
     "text": [
      "C:\\Users\\Bhavya\\Desktop\\Vaibhav\\Django-projects\\recallie_web\\news\\utils.py:579: SettingWithCopyWarning: \n",
      "A value is trying to be set on a copy of a slice from a DataFrame.\n",
      "Try using .loc[row_indexer,col_indexer] = value instead\n",
      "\n",
      "See the caveats in the documentation: http://pandas.pydata.org/pandas-docs/stable/indexing.html#indexing-view-versus-copy\n",
      "  self.main_df['Subject'] = self.message\n",
      "C:\\Users\\Bhavya\\Desktop\\Vaibhav\\Django-projects\\recallie_web\\news\\utils.py:579: SettingWithCopyWarning: \n",
      "A value is trying to be set on a copy of a slice from a DataFrame.\n",
      "Try using .loc[row_indexer,col_indexer] = value instead\n",
      "\n",
      "See the caveats in the documentation: http://pandas.pydata.org/pandas-docs/stable/indexing.html#indexing-view-versus-copy\n",
      "  self.main_df['Subject'] = self.message\n"
     ]
    },
    {
     "name": "stdout",
     "output_type": "stream",
     "text": [
      "Saved\n",
      "Saved\n"
     ]
    },
    {
     "name": "stderr",
     "output_type": "stream",
     "text": [
      "C:\\Users\\Bhavya\\Desktop\\Vaibhav\\Django-projects\\recallie_web\\news\\utils.py:579: SettingWithCopyWarning: \n",
      "A value is trying to be set on a copy of a slice from a DataFrame.\n",
      "Try using .loc[row_indexer,col_indexer] = value instead\n",
      "\n",
      "See the caveats in the documentation: http://pandas.pydata.org/pandas-docs/stable/indexing.html#indexing-view-versus-copy\n",
      "  self.main_df['Subject'] = self.message\n",
      "C:\\Users\\Bhavya\\Desktop\\Vaibhav\\Django-projects\\recallie_web\\news\\utils.py:579: SettingWithCopyWarning: \n",
      "A value is trying to be set on a copy of a slice from a DataFrame.\n",
      "Try using .loc[row_indexer,col_indexer] = value instead\n",
      "\n",
      "See the caveats in the documentation: http://pandas.pydata.org/pandas-docs/stable/indexing.html#indexing-view-versus-copy\n",
      "  self.main_df['Subject'] = self.message\n"
     ]
    },
    {
     "name": "stdout",
     "output_type": "stream",
     "text": [
      "Saved\n"
     ]
    },
    {
     "name": "stderr",
     "output_type": "stream",
     "text": [
      "C:\\Users\\Bhavya\\Desktop\\Vaibhav\\Django-projects\\recallie_web\\news\\utils.py:579: SettingWithCopyWarning: \n",
      "A value is trying to be set on a copy of a slice from a DataFrame.\n",
      "Try using .loc[row_indexer,col_indexer] = value instead\n",
      "\n",
      "See the caveats in the documentation: http://pandas.pydata.org/pandas-docs/stable/indexing.html#indexing-view-versus-copy\n",
      "  self.main_df['Subject'] = self.message\n"
     ]
    },
    {
     "name": "stdout",
     "output_type": "stream",
     "text": [
      "tooManyRequests: too many requests:\n",
      "  https://api.rosette.com/rest/v1/relationships\n",
      "'NoneType' object is not iterable\n",
      "Saved\n",
      "Saved\n"
     ]
    },
    {
     "name": "stderr",
     "output_type": "stream",
     "text": [
      "C:\\Users\\Bhavya\\Desktop\\Vaibhav\\Django-projects\\recallie_web\\news\\utils.py:579: SettingWithCopyWarning: \n",
      "A value is trying to be set on a copy of a slice from a DataFrame.\n",
      "Try using .loc[row_indexer,col_indexer] = value instead\n",
      "\n",
      "See the caveats in the documentation: http://pandas.pydata.org/pandas-docs/stable/indexing.html#indexing-view-versus-copy\n",
      "  self.main_df['Subject'] = self.message\n"
     ]
    },
    {
     "name": "stdout",
     "output_type": "stream",
     "text": [
      "Saved\n"
     ]
    },
    {
     "name": "stderr",
     "output_type": "stream",
     "text": [
      "C:\\Users\\Bhavya\\Desktop\\Vaibhav\\Django-projects\\recallie_web\\news\\utils.py:579: SettingWithCopyWarning: \n",
      "A value is trying to be set on a copy of a slice from a DataFrame.\n",
      "Try using .loc[row_indexer,col_indexer] = value instead\n",
      "\n",
      "See the caveats in the documentation: http://pandas.pydata.org/pandas-docs/stable/indexing.html#indexing-view-versus-copy\n",
      "  self.main_df['Subject'] = self.message\n",
      "C:\\Users\\Bhavya\\Desktop\\Vaibhav\\Django-projects\\recallie_web\\news\\utils.py:579: SettingWithCopyWarning: \n",
      "A value is trying to be set on a copy of a slice from a DataFrame.\n",
      "Try using .loc[row_indexer,col_indexer] = value instead\n",
      "\n",
      "See the caveats in the documentation: http://pandas.pydata.org/pandas-docs/stable/indexing.html#indexing-view-versus-copy\n",
      "  self.main_df['Subject'] = self.message\n"
     ]
    },
    {
     "name": "stdout",
     "output_type": "stream",
     "text": [
      "Saved\n"
     ]
    },
    {
     "name": "stderr",
     "output_type": "stream",
     "text": [
      "C:\\Users\\Bhavya\\Desktop\\Vaibhav\\Django-projects\\recallie_web\\news\\utils.py:579: SettingWithCopyWarning: \n",
      "A value is trying to be set on a copy of a slice from a DataFrame.\n",
      "Try using .loc[row_indexer,col_indexer] = value instead\n",
      "\n",
      "See the caveats in the documentation: http://pandas.pydata.org/pandas-docs/stable/indexing.html#indexing-view-versus-copy\n",
      "  self.main_df['Subject'] = self.message\n",
      "C:\\Users\\Bhavya\\Desktop\\Vaibhav\\Django-projects\\recallie_web\\news\\utils.py:579: SettingWithCopyWarning: \n",
      "A value is trying to be set on a copy of a slice from a DataFrame.\n",
      "Try using .loc[row_indexer,col_indexer] = value instead\n",
      "\n",
      "See the caveats in the documentation: http://pandas.pydata.org/pandas-docs/stable/indexing.html#indexing-view-versus-copy\n",
      "  self.main_df['Subject'] = self.message\n"
     ]
    },
    {
     "name": "stdout",
     "output_type": "stream",
     "text": [
      "Saved\n",
      "Saved\n"
     ]
    },
    {
     "name": "stderr",
     "output_type": "stream",
     "text": [
      "C:\\Users\\Bhavya\\Desktop\\Vaibhav\\Django-projects\\recallie_web\\news\\utils.py:579: SettingWithCopyWarning: \n",
      "A value is trying to be set on a copy of a slice from a DataFrame.\n",
      "Try using .loc[row_indexer,col_indexer] = value instead\n",
      "\n",
      "See the caveats in the documentation: http://pandas.pydata.org/pandas-docs/stable/indexing.html#indexing-view-versus-copy\n",
      "  self.main_df['Subject'] = self.message\n"
     ]
    },
    {
     "name": "stdout",
     "output_type": "stream",
     "text": [
      "Saved\n",
      "Saved\n"
     ]
    },
    {
     "name": "stderr",
     "output_type": "stream",
     "text": [
      "C:\\Users\\Bhavya\\Desktop\\Vaibhav\\Django-projects\\recallie_web\\news\\utils.py:579: SettingWithCopyWarning: \n",
      "A value is trying to be set on a copy of a slice from a DataFrame.\n",
      "Try using .loc[row_indexer,col_indexer] = value instead\n",
      "\n",
      "See the caveats in the documentation: http://pandas.pydata.org/pandas-docs/stable/indexing.html#indexing-view-versus-copy\n",
      "  self.main_df['Subject'] = self.message\n"
     ]
    },
    {
     "name": "stdout",
     "output_type": "stream",
     "text": [
      "Saved\n",
      "Saved\n"
     ]
    },
    {
     "name": "stderr",
     "output_type": "stream",
     "text": [
      "C:\\Users\\Bhavya\\Desktop\\Vaibhav\\Django-projects\\recallie_web\\news\\utils.py:579: SettingWithCopyWarning: \n",
      "A value is trying to be set on a copy of a slice from a DataFrame.\n",
      "Try using .loc[row_indexer,col_indexer] = value instead\n",
      "\n",
      "See the caveats in the documentation: http://pandas.pydata.org/pandas-docs/stable/indexing.html#indexing-view-versus-copy\n",
      "  self.main_df['Subject'] = self.message\n"
     ]
    },
    {
     "name": "stdout",
     "output_type": "stream",
     "text": [
      "Saved\n"
     ]
    },
    {
     "name": "stderr",
     "output_type": "stream",
     "text": [
      "C:\\Users\\Bhavya\\Desktop\\Vaibhav\\Django-projects\\recallie_web\\news\\utils.py:579: SettingWithCopyWarning: \n",
      "A value is trying to be set on a copy of a slice from a DataFrame.\n",
      "Try using .loc[row_indexer,col_indexer] = value instead\n",
      "\n",
      "See the caveats in the documentation: http://pandas.pydata.org/pandas-docs/stable/indexing.html#indexing-view-versus-copy\n",
      "  self.main_df['Subject'] = self.message\n"
     ]
    },
    {
     "name": "stdout",
     "output_type": "stream",
     "text": [
      "Saved\n",
      "tooManyRequests: too many requests:\n",
      "  https://api.rosette.com/rest/v1/relationships\n",
      "'NoneType' object is not iterable\n",
      "Saved\n"
     ]
    },
    {
     "name": "stderr",
     "output_type": "stream",
     "text": [
      "C:\\Users\\Bhavya\\Desktop\\Vaibhav\\Django-projects\\recallie_web\\news\\utils.py:579: SettingWithCopyWarning: \n",
      "A value is trying to be set on a copy of a slice from a DataFrame.\n",
      "Try using .loc[row_indexer,col_indexer] = value instead\n",
      "\n",
      "See the caveats in the documentation: http://pandas.pydata.org/pandas-docs/stable/indexing.html#indexing-view-versus-copy\n",
      "  self.main_df['Subject'] = self.message\n"
     ]
    },
    {
     "name": "stdout",
     "output_type": "stream",
     "text": [
      "Saved\n"
     ]
    },
    {
     "name": "stderr",
     "output_type": "stream",
     "text": [
      "C:\\Users\\Bhavya\\Desktop\\Vaibhav\\Django-projects\\recallie_web\\news\\utils.py:579: SettingWithCopyWarning: \n",
      "A value is trying to be set on a copy of a slice from a DataFrame.\n",
      "Try using .loc[row_indexer,col_indexer] = value instead\n",
      "\n",
      "See the caveats in the documentation: http://pandas.pydata.org/pandas-docs/stable/indexing.html#indexing-view-versus-copy\n",
      "  self.main_df['Subject'] = self.message\n"
     ]
    },
    {
     "name": "stdout",
     "output_type": "stream",
     "text": [
      "Saved\n",
      "Saved\n"
     ]
    },
    {
     "name": "stderr",
     "output_type": "stream",
     "text": [
      "C:\\Users\\Bhavya\\Desktop\\Vaibhav\\Django-projects\\recallie_web\\news\\utils.py:579: SettingWithCopyWarning: \n",
      "A value is trying to be set on a copy of a slice from a DataFrame.\n",
      "Try using .loc[row_indexer,col_indexer] = value instead\n",
      "\n",
      "See the caveats in the documentation: http://pandas.pydata.org/pandas-docs/stable/indexing.html#indexing-view-versus-copy\n",
      "  self.main_df['Subject'] = self.message\n"
     ]
    },
    {
     "name": "stdout",
     "output_type": "stream",
     "text": [
      "Saved\n"
     ]
    },
    {
     "name": "stderr",
     "output_type": "stream",
     "text": [
      "C:\\Users\\Bhavya\\Desktop\\Vaibhav\\Django-projects\\recallie_web\\news\\utils.py:579: SettingWithCopyWarning: \n",
      "A value is trying to be set on a copy of a slice from a DataFrame.\n",
      "Try using .loc[row_indexer,col_indexer] = value instead\n",
      "\n",
      "See the caveats in the documentation: http://pandas.pydata.org/pandas-docs/stable/indexing.html#indexing-view-versus-copy\n",
      "  self.main_df['Subject'] = self.message\n"
     ]
    },
    {
     "name": "stdout",
     "output_type": "stream",
     "text": [
      "Saved\n"
     ]
    },
    {
     "ename": "KeyboardInterrupt",
     "evalue": "",
     "output_type": "error",
     "traceback": [
      "\u001b[1;31m---------------------------------------------------------------------------\u001b[0m",
      "\u001b[1;31mKeyboardInterrupt\u001b[0m                         Traceback (most recent call last)",
      "\u001b[1;32m<ipython-input-7-e772585fc92a>\u001b[0m in \u001b[0;36m<module>\u001b[1;34m\u001b[0m\n\u001b[1;32m----> 1\u001b[1;33m \u001b[0mmake_web_reality\u001b[0m\u001b[1;33m(\u001b[0m\u001b[0mquery\u001b[0m\u001b[1;33m)\u001b[0m\u001b[1;33m\u001b[0m\u001b[1;33m\u001b[0m\u001b[0m\n\u001b[0m",
      "\u001b[1;32m<ipython-input-4-9d6f2df0c36e>\u001b[0m in \u001b[0;36mmake_web_reality\u001b[1;34m(query)\u001b[0m\n\u001b[0;32m     27\u001b[0m     \u001b[1;32mfor\u001b[0m \u001b[0mt\u001b[0m \u001b[1;32min\u001b[0m \u001b[0mthreads\u001b[0m\u001b[1;33m:\u001b[0m\u001b[1;33m\u001b[0m\u001b[1;33m\u001b[0m\u001b[0m\n\u001b[0;32m     28\u001b[0m         \u001b[1;32mtry\u001b[0m\u001b[1;33m:\u001b[0m\u001b[1;33m\u001b[0m\u001b[1;33m\u001b[0m\u001b[0m\n\u001b[1;32m---> 29\u001b[1;33m             \u001b[0mt\u001b[0m\u001b[1;33m.\u001b[0m\u001b[0mjoin\u001b[0m\u001b[1;33m(\u001b[0m\u001b[1;33m)\u001b[0m\u001b[1;33m\u001b[0m\u001b[1;33m\u001b[0m\u001b[0m\n\u001b[0m\u001b[0;32m     30\u001b[0m         \u001b[1;32mexcept\u001b[0m \u001b[0mException\u001b[0m \u001b[1;32mas\u001b[0m \u001b[0me\u001b[0m\u001b[1;33m:\u001b[0m\u001b[1;33m\u001b[0m\u001b[1;33m\u001b[0m\u001b[0m\n\u001b[0;32m     31\u001b[0m             \u001b[1;32mpass\u001b[0m\u001b[1;33m\u001b[0m\u001b[1;33m\u001b[0m\u001b[0m\n",
      "\u001b[1;32m~\\Anaconda3\\lib\\threading.py\u001b[0m in \u001b[0;36mjoin\u001b[1;34m(self, timeout)\u001b[0m\n\u001b[0;32m   1054\u001b[0m \u001b[1;33m\u001b[0m\u001b[0m\n\u001b[0;32m   1055\u001b[0m         \u001b[1;32mif\u001b[0m \u001b[0mtimeout\u001b[0m \u001b[1;32mis\u001b[0m \u001b[1;32mNone\u001b[0m\u001b[1;33m:\u001b[0m\u001b[1;33m\u001b[0m\u001b[1;33m\u001b[0m\u001b[0m\n\u001b[1;32m-> 1056\u001b[1;33m             \u001b[0mself\u001b[0m\u001b[1;33m.\u001b[0m\u001b[0m_wait_for_tstate_lock\u001b[0m\u001b[1;33m(\u001b[0m\u001b[1;33m)\u001b[0m\u001b[1;33m\u001b[0m\u001b[1;33m\u001b[0m\u001b[0m\n\u001b[0m\u001b[0;32m   1057\u001b[0m         \u001b[1;32melse\u001b[0m\u001b[1;33m:\u001b[0m\u001b[1;33m\u001b[0m\u001b[1;33m\u001b[0m\u001b[0m\n\u001b[0;32m   1058\u001b[0m             \u001b[1;31m# the behavior of a negative timeout isn't documented, but\u001b[0m\u001b[1;33m\u001b[0m\u001b[1;33m\u001b[0m\u001b[1;33m\u001b[0m\u001b[0m\n",
      "\u001b[1;32m~\\Anaconda3\\lib\\threading.py\u001b[0m in \u001b[0;36m_wait_for_tstate_lock\u001b[1;34m(self, block, timeout)\u001b[0m\n\u001b[0;32m   1070\u001b[0m         \u001b[1;32mif\u001b[0m \u001b[0mlock\u001b[0m \u001b[1;32mis\u001b[0m \u001b[1;32mNone\u001b[0m\u001b[1;33m:\u001b[0m  \u001b[1;31m# already determined that the C code is done\u001b[0m\u001b[1;33m\u001b[0m\u001b[1;33m\u001b[0m\u001b[0m\n\u001b[0;32m   1071\u001b[0m             \u001b[1;32massert\u001b[0m \u001b[0mself\u001b[0m\u001b[1;33m.\u001b[0m\u001b[0m_is_stopped\u001b[0m\u001b[1;33m\u001b[0m\u001b[1;33m\u001b[0m\u001b[0m\n\u001b[1;32m-> 1072\u001b[1;33m         \u001b[1;32melif\u001b[0m \u001b[0mlock\u001b[0m\u001b[1;33m.\u001b[0m\u001b[0macquire\u001b[0m\u001b[1;33m(\u001b[0m\u001b[0mblock\u001b[0m\u001b[1;33m,\u001b[0m \u001b[0mtimeout\u001b[0m\u001b[1;33m)\u001b[0m\u001b[1;33m:\u001b[0m\u001b[1;33m\u001b[0m\u001b[1;33m\u001b[0m\u001b[0m\n\u001b[0m\u001b[0;32m   1073\u001b[0m             \u001b[0mlock\u001b[0m\u001b[1;33m.\u001b[0m\u001b[0mrelease\u001b[0m\u001b[1;33m(\u001b[0m\u001b[1;33m)\u001b[0m\u001b[1;33m\u001b[0m\u001b[1;33m\u001b[0m\u001b[0m\n\u001b[0;32m   1074\u001b[0m             \u001b[0mself\u001b[0m\u001b[1;33m.\u001b[0m\u001b[0m_stop\u001b[0m\u001b[1;33m(\u001b[0m\u001b[1;33m)\u001b[0m\u001b[1;33m\u001b[0m\u001b[1;33m\u001b[0m\u001b[0m\n",
      "\u001b[1;31mKeyboardInterrupt\u001b[0m: "
     ]
    }
   ],
   "source": [
    "make_web_reality(query)"
   ]
  },
  {
   "cell_type": "code",
   "execution_count": null,
   "metadata": {},
   "outputs": [],
   "source": []
  },
  {
   "cell_type": "code",
   "execution_count": null,
   "metadata": {},
   "outputs": [],
   "source": []
  },
  {
   "cell_type": "code",
   "execution_count": null,
   "metadata": {},
   "outputs": [],
   "source": []
  },
  {
   "cell_type": "code",
   "execution_count": null,
   "metadata": {},
   "outputs": [],
   "source": []
  },
  {
   "cell_type": "code",
   "execution_count": null,
   "metadata": {},
   "outputs": [],
   "source": []
  },
  {
   "cell_type": "code",
   "execution_count": null,
   "metadata": {},
   "outputs": [],
   "source": []
  },
  {
   "cell_type": "code",
   "execution_count": null,
   "metadata": {},
   "outputs": [],
   "source": []
  },
  {
   "cell_type": "code",
   "execution_count": null,
   "metadata": {
    "ExecuteTime": {
     "end_time": "2019-04-02T18:05:06.236165Z",
     "start_time": "2019-04-02T18:00:03.826706Z"
    }
   },
   "outputs": [],
   "source": [
    "y1,m1,d1 = ('2014','01','01')\n",
    "y2,m2,d2 = str(date.today()).split('-')\n",
    "\n",
    "### Setting up API ###\n",
    "headline_list = []\n",
    "headline_dict = {}\n",
    "\n",
    "options = Options()\n",
    "options.binary_location = \"C:\\\\Program Files (x86)\\\\Google\\\\Chrome\\\\Application\\\\chrome.exe\"\n",
    "options.add_argument('--headless')\n",
    "options.add_argument('--window-size=1200x600')\n",
    "options.add_argument('--no-sandbox')\n",
    "options.add_argument('--disable-dev-shm-usage')\n",
    "options.add_argument('--disable-gpu')\n",
    "options.add_argument('--log-level=3')\n",
    "\n",
    "chromedriver = 'C:\\\\Users\\\\Bhavya\\\\Desktop\\\\Vaibhav\\\\chromedriver.exe'\n",
    "r = webdriver.Chrome(executable_path=chromedriver, options=options)\n",
    "\n",
    "### Scraping From Google ###\n",
    "final_date = date(int(y2),int(m2),int(d2))\n",
    "while True:\n",
    "    dd = int(d1)\n",
    "    mm = int(m1) \n",
    "    yy = int(y1) + mm//12\n",
    "    mm = mm % 12 + 1    \n",
    "\n",
    "    temp_date = date(yy,mm,dd)   \n",
    "    if temp_date > final_date:\n",
    "        break  \n",
    "\n",
    "    r.get(\"https://www.google.com/search?q={}&hl=en-US&gl=US&source=lnt&tbs=cdr%3A1%2Ccd_min%3A{}%2F{}%2F{}%2Ccd_max%3A{}%2F{}%2F{}&tbm=nws\".format(\\\n",
    "                        query,m1,d1,y1,mm,dd,yy))\n",
    "    soup = BeautifulSoup(r.page_source, 'lxml')\n",
    "    all_headlines = soup.findAll(\"h3\")\n",
    "    for headline in all_headlines:\n",
    "        headline_list.append(headline.text)\n",
    "        headline_dict[headline.text] = headline.a['href']        \n",
    "    d1,m1,y1 = dd,mm,yy\n",
    "    time.sleep(1)\n",
    "\n",
    "### Saving the file ###\n",
    "save_headline_dict(headline_dict, query)"
   ]
  },
  {
   "cell_type": "code",
   "execution_count": null,
   "metadata": {
    "ExecuteTime": {
     "end_time": "2019-04-02T17:02:24.556388Z",
     "start_time": "2019-04-02T17:02:12.622952Z"
    }
   },
   "outputs": [],
   "source": []
  },
  {
   "cell_type": "code",
   "execution_count": null,
   "metadata": {},
   "outputs": [],
   "source": []
  },
  {
   "cell_type": "code",
   "execution_count": null,
   "metadata": {},
   "outputs": [],
   "source": []
  },
  {
   "cell_type": "code",
   "execution_count": null,
   "metadata": {},
   "outputs": [],
   "source": []
  },
  {
   "cell_type": "code",
   "execution_count": null,
   "metadata": {
    "ExecuteTime": {
     "end_time": "2019-04-01T01:59:56.229902Z",
     "start_time": "2019-04-01T01:59:03.561292Z"
    },
    "code_folding": [
     0
    ]
   },
   "outputs": [],
   "source": [
    "for query in queries:\n",
    "    # Scraping News Links & Headlines\n",
    "    headline_dict = load_headline_dict(query)\n",
    "    print(len(headline_dict))\n",
    "    \n",
    "    # Shuffling and taking atleast 100 articles with some extractions\n",
    "    shuffled_list = random.sample(headline_dict.items(), len(headline_dict.items()))\n",
    "    useful100 = load_useful100(query)\n",
    "    lock = Lock()\n",
    "    DFs = []\n",
    "    start = 0\n",
    "    \n",
    "    if len(useful100.items()) >= 100:\n",
    "        shuffled_list = random.sample(useful100.items(), len(useful100.items()))\n",
    "        \n",
    "    try:\n",
    "        path = \"data/dumps/web_reality-{}-{}.pkl\".format(N,query)\n",
    "        fh = open(path, 'rb')\n",
    "        print(\"Already exists for {}\".format(query))\n",
    "        \n",
    "    except FileNotFoundError as e:\n",
    "        print(len(DFs),N, \" ---- \",start, len(shuffled_list))\n",
    "        ### Creating threads for each link\n",
    "        while len(DFs) < N  and start < len(shuffled_list):\n",
    "            pass100 = dict(shuffled_list[start:start+N])\n",
    "            threads = []\n",
    "            for headline,link in pass100.items():\n",
    "                threads.append( News(link=link, name=query, lock=lock, headline=headline) )\n",
    "\n",
    "            ### Waiting for each thread to complete\n",
    "            for t in threads:\n",
    "                try:\n",
    "                    t.join()\n",
    "                except Exception as e:\n",
    "                    pass\n",
    "\n",
    "            ### Collecting the dfs\n",
    "            for i,t in enumerate(threads):\n",
    "                headline, link, df = t.get_main_df()\n",
    "                if not df.empty:\n",
    "                    DFs.append(df)\n",
    "                    useful100[headline] = link\n",
    "\n",
    "            start = min(start+N, len(headline_dict.items()))\n",
    "            print(start)\n",
    "        \n",
    "        if len(useful100) > 0:\n",
    "            save_useful100(useful100)\n",
    "        \n",
    "        MERGED_DF = pd.concat(DFs, ignore_index=True)\n",
    "        MERGED_DF.loc[MERGED_DF['Confidence'] == '?','Confidence'] = MERGED_DF['Confidence'].apply(lambda x: round(np.random.uniform(0.85,1),2))\n",
    "        print(\"Did Confidence\")\n",
    "\n",
    "        # Finding Web and Reality\n",
    "        isPerson = False\n",
    "        main_df = MERGED_DF.drop('Confidence',axis=1)\n",
    "        main_df = main_df.groupby(['Subject','Relationship','Object']).size().to_frame('c').reset_index()\n",
    "        main_df = pd.merge(main_df, MERGED_DF)\n",
    "        main_df.Confidence = main_df.Confidence.astype(float).fillna(0.0)\n",
    "        main_df['Object'] = main_df.apply(lambda main_df: main_df['Object']+':'+str(main_df['c']), axis=1) \n",
    "        main_df = main_df.drop('c',axis=1)\n",
    "        main_df = add_dummy(main_df)\n",
    "        main_df = count_confidence(main_df)\n",
    "        print(\"Did merge\")\n",
    "\n",
    "        ###### ADDING GROUND TRUTH ######\n",
    "        main_df = u.add_ground_truth(main_df)\n",
    "\n",
    "        ###### ADDING RECALL SCORE ######\n",
    "        main_df = u.add_recall_score(main_df)\n",
    "\n",
    "        main_df.to_pickle(\"data/dumps/web_reality-{}-{}.pkl\".format(N,query))\n",
    "\n",
    "        print(\"Done for {}\".format(query))"
   ]
  },
  {
   "cell_type": "code",
   "execution_count": null,
   "metadata": {
    "ExecuteTime": {
     "end_time": "2019-04-01T02:02:09.433040Z",
     "start_time": "2019-04-01T02:01:17.689556Z"
    }
   },
   "outputs": [],
   "source": [
    "headline_dict = load_headline_dict(\"Bill Gates\")"
   ]
  },
  {
   "cell_type": "code",
   "execution_count": null,
   "metadata": {},
   "outputs": [],
   "source": []
  }
 ],
 "metadata": {
  "kernelspec": {
   "display_name": "Python 3",
   "language": "python",
   "name": "python3"
  },
  "language_info": {
   "codemirror_mode": {
    "name": "ipython",
    "version": 3
   },
   "file_extension": ".py",
   "mimetype": "text/x-python",
   "name": "python",
   "nbconvert_exporter": "python",
   "pygments_lexer": "ipython3",
   "version": "3.6.8"
  }
 },
 "nbformat": 4,
 "nbformat_minor": 2
}
